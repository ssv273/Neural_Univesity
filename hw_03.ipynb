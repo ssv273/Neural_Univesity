{
  "nbformat": 4,
  "nbformat_minor": 0,
  "metadata": {
    "colab": {
      "name": "Untitled34.ipynb",
      "provenance": [],
      "collapsed_sections": [],
      "mount_file_id": "1_uSfFhjcax8NmxRO9F-L71MgCPdWmYsz",
      "authorship_tag": "ABX9TyM1c9aanC04Bj7PmPLgEptO",
      "include_colab_link": true
    },
    "kernelspec": {
      "name": "python3",
      "display_name": "Python 3"
    },
    "language_info": {
      "name": "python"
    },
    "accelerator": "GPU"
  },
  "cells": [
    {
      "cell_type": "markdown",
      "metadata": {
        "id": "view-in-github",
        "colab_type": "text"
      },
      "source": [
        "<a href=\"https://colab.research.google.com/github/ssv273/Neural_Univesity/blob/main/hw_03.ipynb\" target=\"_parent\"><img src=\"https://colab.research.google.com/assets/colab-badge.svg\" alt=\"Open In Colab\"/></a>"
      ]
    },
    {
      "cell_type": "code",
      "metadata": {
        "id": "tcUzUovQbZgx"
      },
      "source": [
        "import tensorflow as tf\n",
        "from tensorflow.keras.models import Sequential #Сеть прямого распространения\n",
        "#Базовые слои для счёрточных сетей\n",
        "from tensorflow.keras.layers import Dense, Conv2D, MaxPooling2D, Flatten, Dropout, BatchNormalization\n",
        "from tensorflow.python.keras.preprocessing.image import ImageDataGenerator # работа с изображениями\n",
        "from tensorflow.keras.optimizers import Adam, Adadelta # оптимизаторы\n",
        "from tensorflow.keras import utils #Используем дял to_categoricall\n",
        "from tensorflow.keras.preprocessing import image #Для отрисовки изображений\n",
        "from google.colab import files #Для загрузки своей картинки\n",
        "import numpy as np #Библиотека работы с массивами\n",
        "import matplotlib.pyplot as plt #Для отрисовки графиков\n",
        "from PIL import Image #Для отрисовки изображений\n",
        "import random #Для генерации случайных чисел \n",
        "import math # Для округления\n",
        "import os #Для работы с файлами \n",
        "# подключем диск\n",
        "from google.colab import drive\n",
        "from tensorflow.keras.callbacks import ModelCheckpoint\n",
        "\n",
        "%matplotlib inline"
      ],
      "execution_count": null,
      "outputs": []
    },
    {
      "cell_type": "code",
      "metadata": {
        "id": "CF69RIEUxTS4"
      },
      "source": [
        "#!unzip \"/content/drive/MyDrive/cars.zip\" -d /content/cars #Указываем путь к базе в Google Drive"
      ],
      "execution_count": null,
      "outputs": []
    },
    {
      "cell_type": "code",
      "metadata": {
        "colab": {
          "base_uri": "https://localhost:8080/"
        },
        "id": "m-MUQetL1iDj",
        "outputId": "8ee9ddf3-8bbe-4486-faf0-a29e718cc6cf"
      },
      "source": [
        "os.listdir('cars')"
      ],
      "execution_count": null,
      "outputs": [
        {
          "output_type": "execute_result",
          "data": {
            "text/plain": [
              "['Автомобили']"
            ]
          },
          "metadata": {
            "tags": []
          },
          "execution_count": 3
        }
      ]
    },
    {
      "cell_type": "code",
      "metadata": {
        "id": "2oY2DvRHzWfT"
      },
      "source": [
        "train_path = '/content/cars/Автомобили' #Папка с папками картинок, рассортированных по категориям\n",
        "batch_size = 25 #Размер выборки\n",
        "img_width = 96 #Ширина изображения\n",
        "img_height = 54 #Высота изображения"
      ],
      "execution_count": null,
      "outputs": []
    },
    {
      "cell_type": "code",
      "metadata": {
        "id": "xTZfUGKR1zJL"
      },
      "source": [
        "#Генератор изображений\n",
        "datagen = ImageDataGenerator(\n",
        "    rescale=1. / 255, #Значения цвета меняем на дробные показания\n",
        "    rotation_range=10, #Поворачиваем изображения при генерации выборки\n",
        "    width_shift_range=0.1, #Двигаем изображения по ширине при генерации выборки\n",
        "    height_shift_range=0.1, #Двигаем изображения по высоте при генерации выборки\n",
        "    zoom_range=0.1, #Зумируем изображения при генерации выборки\n",
        "    horizontal_flip=True, #Включаем отзеркаливание изображений\n",
        "    fill_mode='nearest', #Заполнение пикселей вне границ ввода\n",
        "    validation_split=0.2 #Указываем разделение изображений на обучающую и тестовую выборку\n",
        ")"
      ],
      "execution_count": null,
      "outputs": []
    },
    {
      "cell_type": "code",
      "metadata": {
        "colab": {
          "base_uri": "https://localhost:8080/"
        },
        "id": "PgNmLO6B12RM",
        "outputId": "da541d43-38a8-4f3c-9750-12164892c6d1"
      },
      "source": [
        "# обучающая выборка\n",
        "train_generator = datagen.flow_from_directory(\n",
        "    train_path, #Путь ко всей выборке выборке\n",
        "    target_size=(img_width, img_height), #Размер изображений\n",
        "    batch_size=batch_size, #Размер batch_size\n",
        "    class_mode='categorical', #Категориальный тип выборки. Разбиение выборки по маркам авто \n",
        "    shuffle=True, #Перемешивание выборки\n",
        "    subset='training' # устанавливаем как набор для обучения\n",
        ")\n",
        "\n",
        "# проверочная выборка\n",
        "validation_generator = datagen.flow_from_directory(\n",
        "    train_path, #Путь ко всей выборке выборке\n",
        "    target_size=(img_width, img_height), #Размер изображений\n",
        "    batch_size=batch_size, #Размер batch_size\n",
        "    class_mode='categorical', #Категориальный тип выборки. Разбиение выборки по маркам авто \n",
        "    shuffle=True, #Перемешивание выборки\n",
        "    subset='validation' # устанавливаем как валидационный набор\n",
        ")"
      ],
      "execution_count": null,
      "outputs": [
        {
          "output_type": "stream",
          "text": [
            "Found 2743 images belonging to 2 classes.\n",
            "Found 684 images belonging to 2 classes.\n"
          ],
          "name": "stdout"
        }
      ]
    },
    {
      "cell_type": "code",
      "metadata": {
        "id": "n9_nMvRm14Yw"
      },
      "source": [
        "#Создаем последовательную модель\n",
        "model = Sequential()\n",
        "#Первый сверточный слой\n",
        "model.add(Conv2D(256, (3, 3), padding='same', activation='relu', input_shape=(img_width, img_height, 3)))\n",
        "#Второй сверточный слой\n",
        "model.add(Conv2D(256, (3, 3), padding='same', activation='relu'))\n",
        "model.add(MaxPooling2D(pool_size=(3, 3)))\n",
        "#Третий сверточный слой\n",
        "model.add(Conv2D(256, (3, 3), padding='same', activation='relu'))\n",
        "#Слой регуляризации Dropout\n",
        "model.add(Dropout(0.2))\n",
        "#Четвертый сверточный слой\n",
        "model.add(Conv2D(256, (3, 3), padding='same', activation='relu'))\n",
        "model.add(MaxPooling2D(pool_size=(3, 3)))\n",
        "#Слой регуляризации Dropout\n",
        "model.add(Dropout(0.2))\n",
        "#Пятый сверточный слой\n",
        "model.add(Conv2D(512, (3, 3), padding='same', activation='relu'))\n",
        "#Шестой сверточный слой\n",
        "model.add(Conv2D(1024, (3, 3), padding='same', activation='relu'))\n",
        "model.add(MaxPooling2D(pool_size=(3, 3)))\n",
        "#Слой регуляризации Dropout\n",
        "model.add(Dropout(0.2))\n",
        "#Слой преобразования двумерных данных в одномерные \n",
        "model.add(Flatten())\n",
        "#Полносвязный слой\n",
        "model.add(Dense(4096, activation='relu'))\n",
        "#Полносвязный слой\n",
        "model.add(Dense(2048, activation='relu'))\n",
        "#Вызодной полносвязный слой\n",
        "model.add(Dense(len(train_generator.class_indices), activation='softmax'))\n",
        "\n",
        "model.compile(loss='categorical_crossentropy', optimizer=Adam(learning_rate=0.0001), metrics=['accuracy'])"
      ],
      "execution_count": null,
      "outputs": []
    },
    {
      "cell_type": "code",
      "metadata": {
        "id": "o_EJYhmpfI-N"
      },
      "source": [
        "filepath = 'Checkpoints/my_best_model.epoch{epoch:02d}-accuracy{val_accuracy:.2f}.hdf5'\n",
        "checkpoint = ModelCheckpoint(filepath=filepath, \n",
        "                             monitor='val_accuracy',\n",
        "                             verbose=1, \n",
        "                             save_best_only=True,\n",
        "                             mode='max')"
      ],
      "execution_count": null,
      "outputs": []
    },
    {
      "cell_type": "code",
      "metadata": {
        "id": "IhZNpCKVf8Bb"
      },
      "source": [
        "callbacks = [checkpoint]"
      ],
      "execution_count": null,
      "outputs": []
    },
    {
      "cell_type": "code",
      "metadata": {
        "id": "SPpAleHd19FW"
      },
      "source": [
        "history = model.fit(\n",
        "    train_generator,\n",
        "    steps_per_epoch = train_generator.samples // batch_size,\n",
        "    validation_data = validation_generator, \n",
        "    validation_steps = validation_generator.samples // batch_size,\n",
        "    epochs=45,\n",
        "    verbose=1,\n",
        "    callbacks=callbacks\n",
        ")"
      ],
      "execution_count": null,
      "outputs": []
    },
    {
      "cell_type": "code",
      "metadata": {
        "id": "oRUvlNNI3IBc"
      },
      "source": [
        "model.load_weights('/content/Checkpoints/my_best_model.epoch07-accuracy0.81.hdf5')"
      ],
      "execution_count": null,
      "outputs": []
    },
    {
      "cell_type": "code",
      "metadata": {
        "id": "ypWGfqLw3vxb"
      },
      "source": [
        "from keras import backend as K\n",
        "K.set_value(model.optimizer.learning_rate, 0.00001)"
      ],
      "execution_count": null,
      "outputs": []
    },
    {
      "cell_type": "code",
      "metadata": {
        "colab": {
          "base_uri": "https://localhost:8080/"
        },
        "id": "RDeWnWZ94AmM",
        "outputId": "183f98a8-1e9d-4d26-ecfe-0343bef03729"
      },
      "source": [
        "K.eval(model.optimizer.lr)"
      ],
      "execution_count": null,
      "outputs": [
        {
          "output_type": "execute_result",
          "data": {
            "text/plain": [
              "1e-05"
            ]
          },
          "metadata": {
            "tags": []
          },
          "execution_count": 18
        }
      ]
    },
    {
      "cell_type": "code",
      "metadata": {
        "colab": {
          "base_uri": "https://localhost:8080/"
        },
        "id": "jW5jrGb-4Ft8",
        "outputId": "43d2e8c2-996c-4447-a570-ebd0592456bf"
      },
      "source": [
        "history = model.fit(\n",
        "    train_generator,\n",
        "    steps_per_epoch = train_generator.samples // batch_size,\n",
        "    validation_data = validation_generator, \n",
        "    validation_steps = validation_generator.samples // batch_size,\n",
        "    epochs=45,\n",
        "    verbose=1,\n",
        "    callbacks=callbacks\n",
        ")"
      ],
      "execution_count": null,
      "outputs": [
        {
          "output_type": "stream",
          "text": [
            "Epoch 1/45\n",
            "109/109 [==============================] - 13s 120ms/step - loss: 0.4889 - accuracy: 0.8028 - val_loss: 0.5032 - val_accuracy: 0.8000\n",
            "\n",
            "Epoch 00001: val_accuracy did not improve from 0.80889\n",
            "Epoch 2/45\n",
            "109/109 [==============================] - 13s 119ms/step - loss: 0.4902 - accuracy: 0.7999 - val_loss: 0.5034 - val_accuracy: 0.8000\n",
            "\n",
            "Epoch 00002: val_accuracy did not improve from 0.80889\n",
            "Epoch 3/45\n",
            "109/109 [==============================] - 13s 118ms/step - loss: 0.4877 - accuracy: 0.8010 - val_loss: 0.5044 - val_accuracy: 0.7985\n",
            "\n",
            "Epoch 00003: val_accuracy did not improve from 0.80889\n",
            "Epoch 4/45\n",
            "109/109 [==============================] - 13s 117ms/step - loss: 0.4880 - accuracy: 0.8002 - val_loss: 0.5030 - val_accuracy: 0.8000\n",
            "\n",
            "Epoch 00004: val_accuracy did not improve from 0.80889\n",
            "Epoch 5/45\n",
            "109/109 [==============================] - 13s 119ms/step - loss: 0.4873 - accuracy: 0.7995 - val_loss: 0.5023 - val_accuracy: 0.8030\n",
            "\n",
            "Epoch 00005: val_accuracy did not improve from 0.80889\n",
            "Epoch 6/45\n",
            "109/109 [==============================] - 13s 119ms/step - loss: 0.4849 - accuracy: 0.7995 - val_loss: 0.5017 - val_accuracy: 0.8015\n",
            "\n",
            "Epoch 00006: val_accuracy did not improve from 0.80889\n",
            "Epoch 7/45\n",
            "109/109 [==============================] - 13s 119ms/step - loss: 0.4877 - accuracy: 0.7991 - val_loss: 0.5044 - val_accuracy: 0.8000\n",
            "\n",
            "Epoch 00007: val_accuracy did not improve from 0.80889\n",
            "Epoch 8/45\n",
            "109/109 [==============================] - 13s 118ms/step - loss: 0.4823 - accuracy: 0.8002 - val_loss: 0.4999 - val_accuracy: 0.8030\n",
            "\n",
            "Epoch 00008: val_accuracy did not improve from 0.80889\n",
            "Epoch 9/45\n",
            "109/109 [==============================] - 13s 119ms/step - loss: 0.4849 - accuracy: 0.8002 - val_loss: 0.5014 - val_accuracy: 0.8000\n",
            "\n",
            "Epoch 00009: val_accuracy did not improve from 0.80889\n",
            "Epoch 10/45\n",
            "109/109 [==============================] - 13s 119ms/step - loss: 0.4868 - accuracy: 0.7999 - val_loss: 0.5037 - val_accuracy: 0.8000\n",
            "\n",
            "Epoch 00010: val_accuracy did not improve from 0.80889\n",
            "Epoch 11/45\n",
            "109/109 [==============================] - 13s 119ms/step - loss: 0.4814 - accuracy: 0.7995 - val_loss: 0.5090 - val_accuracy: 0.8000\n",
            "\n",
            "Epoch 00011: val_accuracy did not improve from 0.80889\n",
            "Epoch 12/45\n",
            "109/109 [==============================] - 13s 118ms/step - loss: 0.4816 - accuracy: 0.7999 - val_loss: 0.5071 - val_accuracy: 0.7985\n",
            "\n",
            "Epoch 00012: val_accuracy did not improve from 0.80889\n",
            "Epoch 13/45\n",
            "109/109 [==============================] - 13s 118ms/step - loss: 0.4801 - accuracy: 0.8002 - val_loss: 0.5023 - val_accuracy: 0.8030\n",
            "\n",
            "Epoch 00013: val_accuracy did not improve from 0.80889\n",
            "Epoch 14/45\n",
            "109/109 [==============================] - 13s 119ms/step - loss: 0.4798 - accuracy: 0.7995 - val_loss: 0.5092 - val_accuracy: 0.7985\n",
            "\n",
            "Epoch 00014: val_accuracy did not improve from 0.80889\n",
            "Epoch 15/45\n",
            "109/109 [==============================] - 13s 118ms/step - loss: 0.4789 - accuracy: 0.8002 - val_loss: 0.5168 - val_accuracy: 0.7985\n",
            "\n",
            "Epoch 00015: val_accuracy did not improve from 0.80889\n",
            "Epoch 16/45\n",
            "109/109 [==============================] - 13s 118ms/step - loss: 0.4797 - accuracy: 0.8013 - val_loss: 0.5077 - val_accuracy: 0.8015\n",
            "\n",
            "Epoch 00016: val_accuracy did not improve from 0.80889\n",
            "Epoch 17/45\n",
            "109/109 [==============================] - 13s 120ms/step - loss: 0.4793 - accuracy: 0.8006 - val_loss: 0.5101 - val_accuracy: 0.8000\n",
            "\n",
            "Epoch 00017: val_accuracy did not improve from 0.80889\n",
            "Epoch 18/45\n",
            "109/109 [==============================] - 13s 118ms/step - loss: 0.4789 - accuracy: 0.8006 - val_loss: 0.5143 - val_accuracy: 0.7985\n",
            "\n",
            "Epoch 00018: val_accuracy did not improve from 0.80889\n",
            "Epoch 19/45\n",
            "109/109 [==============================] - 13s 119ms/step - loss: 0.4785 - accuracy: 0.8006 - val_loss: 0.5112 - val_accuracy: 0.8030\n",
            "\n",
            "Epoch 00019: val_accuracy did not improve from 0.80889\n",
            "Epoch 20/45\n",
            "109/109 [==============================] - 13s 119ms/step - loss: 0.4800 - accuracy: 0.8006 - val_loss: 0.5107 - val_accuracy: 0.8000\n",
            "\n",
            "Epoch 00020: val_accuracy did not improve from 0.80889\n",
            "Epoch 21/45\n",
            "109/109 [==============================] - 13s 118ms/step - loss: 0.4799 - accuracy: 0.7999 - val_loss: 0.5073 - val_accuracy: 0.8015\n",
            "\n",
            "Epoch 00021: val_accuracy did not improve from 0.80889\n",
            "Epoch 22/45\n",
            "109/109 [==============================] - 13s 119ms/step - loss: 0.4751 - accuracy: 0.8010 - val_loss: 0.5037 - val_accuracy: 0.8044\n",
            "\n",
            "Epoch 00022: val_accuracy did not improve from 0.80889\n",
            "Epoch 23/45\n",
            "109/109 [==============================] - 13s 119ms/step - loss: 0.4741 - accuracy: 0.7999 - val_loss: 0.5189 - val_accuracy: 0.8000\n",
            "\n",
            "Epoch 00023: val_accuracy did not improve from 0.80889\n",
            "Epoch 24/45\n",
            "109/109 [==============================] - 13s 118ms/step - loss: 0.4743 - accuracy: 0.8013 - val_loss: 0.5099 - val_accuracy: 0.8030\n",
            "\n",
            "Epoch 00024: val_accuracy did not improve from 0.80889\n",
            "Epoch 25/45\n",
            "109/109 [==============================] - 13s 118ms/step - loss: 0.4748 - accuracy: 0.8002 - val_loss: 0.5110 - val_accuracy: 0.8000\n",
            "\n",
            "Epoch 00025: val_accuracy did not improve from 0.80889\n",
            "Epoch 26/45\n",
            "109/109 [==============================] - 13s 118ms/step - loss: 0.4709 - accuracy: 0.8013 - val_loss: 0.5038 - val_accuracy: 0.8030\n",
            "\n",
            "Epoch 00026: val_accuracy did not improve from 0.80889\n",
            "Epoch 27/45\n",
            "109/109 [==============================] - 13s 119ms/step - loss: 0.4739 - accuracy: 0.8002 - val_loss: 0.5067 - val_accuracy: 0.8000\n",
            "\n",
            "Epoch 00027: val_accuracy did not improve from 0.80889\n",
            "Epoch 28/45\n",
            "109/109 [==============================] - 13s 118ms/step - loss: 0.4734 - accuracy: 0.8006 - val_loss: 0.5211 - val_accuracy: 0.8015\n",
            "\n",
            "Epoch 00028: val_accuracy did not improve from 0.80889\n",
            "Epoch 29/45\n",
            "109/109 [==============================] - 13s 118ms/step - loss: 0.4679 - accuracy: 0.8002 - val_loss: 0.5089 - val_accuracy: 0.8015\n",
            "\n",
            "Epoch 00029: val_accuracy did not improve from 0.80889\n",
            "Epoch 30/45\n",
            "109/109 [==============================] - 13s 119ms/step - loss: 0.4697 - accuracy: 0.8006 - val_loss: 0.5071 - val_accuracy: 0.7985\n",
            "\n",
            "Epoch 00030: val_accuracy did not improve from 0.80889\n",
            "Epoch 31/45\n",
            "109/109 [==============================] - 13s 119ms/step - loss: 0.4706 - accuracy: 0.8002 - val_loss: 0.5249 - val_accuracy: 0.8015\n",
            "\n",
            "Epoch 00031: val_accuracy did not improve from 0.80889\n",
            "Epoch 32/45\n",
            "109/109 [==============================] - 13s 118ms/step - loss: 0.4714 - accuracy: 0.8006 - val_loss: 0.5137 - val_accuracy: 0.7956\n",
            "\n",
            "Epoch 00032: val_accuracy did not improve from 0.80889\n",
            "Epoch 33/45\n",
            "109/109 [==============================] - 13s 118ms/step - loss: 0.4687 - accuracy: 0.8007 - val_loss: 0.5096 - val_accuracy: 0.8000\n",
            "\n",
            "Epoch 00033: val_accuracy did not improve from 0.80889\n",
            "Epoch 34/45\n",
            "109/109 [==============================] - 13s 118ms/step - loss: 0.4674 - accuracy: 0.8017 - val_loss: 0.5203 - val_accuracy: 0.7970\n",
            "\n",
            "Epoch 00034: val_accuracy did not improve from 0.80889\n",
            "Epoch 35/45\n",
            "109/109 [==============================] - 13s 120ms/step - loss: 0.4682 - accuracy: 0.8032 - val_loss: 0.5091 - val_accuracy: 0.8000\n",
            "\n",
            "Epoch 00035: val_accuracy did not improve from 0.80889\n",
            "Epoch 36/45\n",
            "109/109 [==============================] - 13s 120ms/step - loss: 0.4633 - accuracy: 0.8013 - val_loss: 0.5052 - val_accuracy: 0.7970\n",
            "\n",
            "Epoch 00036: val_accuracy did not improve from 0.80889\n",
            "Epoch 37/45\n",
            "109/109 [==============================] - 13s 119ms/step - loss: 0.4659 - accuracy: 0.8017 - val_loss: 0.5074 - val_accuracy: 0.8000\n",
            "\n",
            "Epoch 00037: val_accuracy did not improve from 0.80889\n",
            "Epoch 38/45\n",
            "109/109 [==============================] - 13s 118ms/step - loss: 0.4617 - accuracy: 0.8028 - val_loss: 0.5260 - val_accuracy: 0.8000\n",
            "\n",
            "Epoch 00038: val_accuracy did not improve from 0.80889\n",
            "Epoch 39/45\n",
            "109/109 [==============================] - 13s 118ms/step - loss: 0.4663 - accuracy: 0.8024 - val_loss: 0.5221 - val_accuracy: 0.7985\n",
            "\n",
            "Epoch 00039: val_accuracy did not improve from 0.80889\n",
            "Epoch 40/45\n",
            "109/109 [==============================] - 14s 126ms/step - loss: 0.4649 - accuracy: 0.8024 - val_loss: 0.5069 - val_accuracy: 0.7985\n",
            "\n",
            "Epoch 00040: val_accuracy did not improve from 0.80889\n",
            "Epoch 41/45\n",
            "109/109 [==============================] - 13s 119ms/step - loss: 0.4643 - accuracy: 0.8006 - val_loss: 0.5319 - val_accuracy: 0.7956\n",
            "\n",
            "Epoch 00041: val_accuracy did not improve from 0.80889\n",
            "Epoch 42/45\n",
            "109/109 [==============================] - 13s 118ms/step - loss: 0.4620 - accuracy: 0.8010 - val_loss: 0.5128 - val_accuracy: 0.8000\n",
            "\n",
            "Epoch 00042: val_accuracy did not improve from 0.80889\n",
            "Epoch 43/45\n",
            "109/109 [==============================] - 13s 118ms/step - loss: 0.4612 - accuracy: 0.8035 - val_loss: 0.5135 - val_accuracy: 0.8015\n",
            "\n",
            "Epoch 00043: val_accuracy did not improve from 0.80889\n",
            "Epoch 44/45\n",
            "109/109 [==============================] - 13s 119ms/step - loss: 0.4600 - accuracy: 0.8010 - val_loss: 0.5156 - val_accuracy: 0.8000\n",
            "\n",
            "Epoch 00044: val_accuracy did not improve from 0.80889\n",
            "Epoch 45/45\n",
            "109/109 [==============================] - 13s 120ms/step - loss: 0.4583 - accuracy: 0.8017 - val_loss: 0.5211 - val_accuracy: 0.8000\n",
            "\n",
            "Epoch 00045: val_accuracy did not improve from 0.80889\n"
          ],
          "name": "stdout"
        }
      ]
    },
    {
      "cell_type": "code",
      "metadata": {
        "id": "NOtLarw-4J_B"
      },
      "source": [
        ""
      ],
      "execution_count": null,
      "outputs": []
    },
    {
      "cell_type": "markdown",
      "metadata": {
        "id": "6BPbEwK23DSw"
      },
      "source": [
        "# ResNet"
      ]
    },
    {
      "cell_type": "code",
      "metadata": {
        "id": "v6TgenYc2Guf"
      },
      "source": [
        "EXP_NAME = 'transfer'\n",
        "base_model = tf.keras.applications.ResNet152V2(\n",
        "    input_shape=(img_width, img_height, 3),\n",
        "    include_top=False,\n",
        "    weights='imagenet'\n",
        ")\n",
        "base_model.trainable=True"
      ],
      "execution_count": null,
      "outputs": []
    },
    {
      "cell_type": "code",
      "metadata": {
        "id": "3FdtQ6lRFgQt"
      },
      "source": [
        "model_resnet = tf.keras.Sequential([\n",
        "        base_model,\n",
        "        tf.keras.layers.GlobalAveragePooling2D(),\n",
        "        tf.keras.layers.Dense(len(train_generator.class_indices), activation='softmax')                     \n",
        "])"
      ],
      "execution_count": null,
      "outputs": []
    },
    {
      "cell_type": "code",
      "metadata": {
        "id": "5rV0uoG5FrYy"
      },
      "source": [
        "model_resnet.compile(optimizer=Adam(learning_rate=0.0001), loss='categorical_crossentropy',\n",
        "              metrics=['accuracy'])"
      ],
      "execution_count": null,
      "outputs": []
    },
    {
      "cell_type": "code",
      "metadata": {
        "id": "ik1iPxyTm6TW"
      },
      "source": [
        "filepath = 'Checkpoints/my_best_model_resnet.epoch{epoch:02d}-accuracy{val_accuracy:.2f}.hdf5'\n",
        "checkpoint_resnet = ModelCheckpoint(filepath=filepath, \n",
        "                             monitor='val_accuracy',\n",
        "                             verbose=1, \n",
        "                             save_best_only=True,\n",
        "                             mode='max')"
      ],
      "execution_count": null,
      "outputs": []
    },
    {
      "cell_type": "code",
      "metadata": {
        "colab": {
          "base_uri": "https://localhost:8080/"
        },
        "id": "tQ2I8kKIGDOx",
        "outputId": "9307ff7b-f225-4212-a071-7fadfccb12e6"
      },
      "source": [
        "history = model_resnet.fit(\n",
        "    train_generator,\n",
        "    steps_per_epoch = train_generator.samples // batch_size,\n",
        "    validation_data = validation_generator, \n",
        "    validation_steps = validation_generator.samples // batch_size,\n",
        "    epochs=45,\n",
        "    verbose=1, \n",
        "    callbacks=[checkpoint_resnet]\n",
        ")"
      ],
      "execution_count": null,
      "outputs": [
        {
          "output_type": "stream",
          "text": [
            "Epoch 1/45\n",
            "109/109 [==============================] - 39s 219ms/step - loss: 0.6087 - accuracy: 0.7428 - val_loss: 1.0527 - val_accuracy: 0.7881\n",
            "\n",
            "Epoch 00001: val_accuracy improved from -inf to 0.78815, saving model to Checkpoints/my_best_model_resnet.epoch01-accuracy0.79.hdf5\n"
          ],
          "name": "stdout"
        },
        {
          "output_type": "stream",
          "text": [
            "/usr/local/lib/python3.7/dist-packages/tensorflow/python/keras/utils/generic_utils.py:497: CustomMaskWarning: Custom mask layers require a config and must override get_config. When loading, the custom mask layer must be passed to the custom_objects argument.\n",
            "  category=CustomMaskWarning)\n"
          ],
          "name": "stderr"
        },
        {
          "output_type": "stream",
          "text": [
            "Epoch 2/45\n",
            "109/109 [==============================] - 20s 183ms/step - loss: 0.5180 - accuracy: 0.7914 - val_loss: 0.7644 - val_accuracy: 0.7733\n",
            "\n",
            "Epoch 00002: val_accuracy did not improve from 0.78815\n",
            "Epoch 3/45\n",
            "109/109 [==============================] - 20s 179ms/step - loss: 0.4844 - accuracy: 0.7943 - val_loss: 0.6477 - val_accuracy: 0.7600\n",
            "\n",
            "Epoch 00003: val_accuracy did not improve from 0.78815\n",
            "Epoch 4/45\n",
            "109/109 [==============================] - 19s 177ms/step - loss: 0.4480 - accuracy: 0.8043 - val_loss: 0.6942 - val_accuracy: 0.7837\n",
            "\n",
            "Epoch 00004: val_accuracy did not improve from 0.78815\n",
            "Epoch 5/45\n",
            "109/109 [==============================] - 20s 179ms/step - loss: 0.4364 - accuracy: 0.8127 - val_loss: 0.6322 - val_accuracy: 0.7926\n",
            "\n",
            "Epoch 00005: val_accuracy improved from 0.78815 to 0.79259, saving model to Checkpoints/my_best_model_resnet.epoch05-accuracy0.79.hdf5\n",
            "Epoch 6/45\n",
            "109/109 [==============================] - 19s 178ms/step - loss: 0.4228 - accuracy: 0.8230 - val_loss: 0.7033 - val_accuracy: 0.7659\n",
            "\n",
            "Epoch 00006: val_accuracy did not improve from 0.79259\n",
            "Epoch 7/45\n",
            "109/109 [==============================] - 20s 182ms/step - loss: 0.4006 - accuracy: 0.8311 - val_loss: 0.6786 - val_accuracy: 0.7630\n",
            "\n",
            "Epoch 00007: val_accuracy did not improve from 0.79259\n",
            "Epoch 8/45\n",
            "109/109 [==============================] - 20s 182ms/step - loss: 0.3736 - accuracy: 0.8366 - val_loss: 0.6769 - val_accuracy: 0.7422\n",
            "\n",
            "Epoch 00008: val_accuracy did not improve from 0.79259\n",
            "Epoch 9/45\n",
            "109/109 [==============================] - 19s 177ms/step - loss: 0.3474 - accuracy: 0.8572 - val_loss: 0.7875 - val_accuracy: 0.7363\n",
            "\n",
            "Epoch 00009: val_accuracy did not improve from 0.79259\n",
            "Epoch 10/45\n",
            "109/109 [==============================] - 19s 177ms/step - loss: 0.3350 - accuracy: 0.8609 - val_loss: 0.7518 - val_accuracy: 0.7363\n",
            "\n",
            "Epoch 00010: val_accuracy did not improve from 0.79259\n",
            "Epoch 11/45\n",
            "109/109 [==============================] - 20s 182ms/step - loss: 0.3185 - accuracy: 0.8687 - val_loss: 0.7182 - val_accuracy: 0.6815\n",
            "\n",
            "Epoch 00011: val_accuracy did not improve from 0.79259\n",
            "Epoch 12/45\n",
            "109/109 [==============================] - 20s 180ms/step - loss: 0.2933 - accuracy: 0.8804 - val_loss: 0.8137 - val_accuracy: 0.6963\n",
            "\n",
            "Epoch 00012: val_accuracy did not improve from 0.79259\n",
            "Epoch 13/45\n",
            "109/109 [==============================] - 19s 177ms/step - loss: 0.2572 - accuracy: 0.8981 - val_loss: 0.9156 - val_accuracy: 0.6830\n",
            "\n",
            "Epoch 00013: val_accuracy did not improve from 0.79259\n",
            "Epoch 14/45\n",
            "109/109 [==============================] - 20s 180ms/step - loss: 0.2440 - accuracy: 0.9065 - val_loss: 1.0092 - val_accuracy: 0.6489\n",
            "\n",
            "Epoch 00014: val_accuracy did not improve from 0.79259\n",
            "Epoch 15/45\n",
            "109/109 [==============================] - 20s 180ms/step - loss: 0.2409 - accuracy: 0.8962 - val_loss: 0.8857 - val_accuracy: 0.6652\n",
            "\n",
            "Epoch 00015: val_accuracy did not improve from 0.79259\n",
            "Epoch 16/45\n",
            "109/109 [==============================] - 20s 182ms/step - loss: 0.2152 - accuracy: 0.9169 - val_loss: 0.8553 - val_accuracy: 0.7185\n",
            "\n",
            "Epoch 00016: val_accuracy did not improve from 0.79259\n",
            "Epoch 17/45\n",
            "109/109 [==============================] - 20s 179ms/step - loss: 0.1937 - accuracy: 0.9249 - val_loss: 1.1648 - val_accuracy: 0.6963\n",
            "\n",
            "Epoch 00017: val_accuracy did not improve from 0.79259\n",
            "Epoch 18/45\n",
            "109/109 [==============================] - 19s 177ms/step - loss: 0.1730 - accuracy: 0.9360 - val_loss: 0.9323 - val_accuracy: 0.6474\n",
            "\n",
            "Epoch 00018: val_accuracy did not improve from 0.79259\n",
            "Epoch 19/45\n",
            "109/109 [==============================] - 20s 180ms/step - loss: 0.1755 - accuracy: 0.9308 - val_loss: 1.1961 - val_accuracy: 0.7111\n",
            "\n",
            "Epoch 00019: val_accuracy did not improve from 0.79259\n",
            "Epoch 20/45\n",
            "109/109 [==============================] - 20s 180ms/step - loss: 0.1895 - accuracy: 0.9202 - val_loss: 1.0175 - val_accuracy: 0.7111\n",
            "\n",
            "Epoch 00020: val_accuracy did not improve from 0.79259\n",
            "Epoch 21/45\n",
            "109/109 [==============================] - 19s 178ms/step - loss: 0.1676 - accuracy: 0.9330 - val_loss: 1.1234 - val_accuracy: 0.7215\n",
            "\n",
            "Epoch 00021: val_accuracy did not improve from 0.79259\n",
            "Epoch 22/45\n",
            "109/109 [==============================] - 19s 178ms/step - loss: 0.1385 - accuracy: 0.9478 - val_loss: 0.9736 - val_accuracy: 0.7319\n",
            "\n",
            "Epoch 00022: val_accuracy did not improve from 0.79259\n",
            "Epoch 23/45\n",
            "109/109 [==============================] - 20s 180ms/step - loss: 0.1515 - accuracy: 0.9419 - val_loss: 1.2065 - val_accuracy: 0.6622\n",
            "\n",
            "Epoch 00023: val_accuracy did not improve from 0.79259\n",
            "Epoch 24/45\n",
            "109/109 [==============================] - 19s 178ms/step - loss: 0.1322 - accuracy: 0.9479 - val_loss: 1.1215 - val_accuracy: 0.6726\n",
            "\n",
            "Epoch 00024: val_accuracy did not improve from 0.79259\n",
            "Epoch 25/45\n",
            "109/109 [==============================] - 19s 178ms/step - loss: 0.1386 - accuracy: 0.9511 - val_loss: 1.2395 - val_accuracy: 0.6607\n",
            "\n",
            "Epoch 00025: val_accuracy did not improve from 0.79259\n",
            "Epoch 26/45\n",
            "109/109 [==============================] - 20s 181ms/step - loss: 0.1356 - accuracy: 0.9503 - val_loss: 1.1663 - val_accuracy: 0.6563\n",
            "\n",
            "Epoch 00026: val_accuracy did not improve from 0.79259\n",
            "Epoch 27/45\n",
            "109/109 [==============================] - 19s 178ms/step - loss: 0.1150 - accuracy: 0.9558 - val_loss: 1.1123 - val_accuracy: 0.7393\n",
            "\n",
            "Epoch 00027: val_accuracy did not improve from 0.79259\n",
            "Epoch 28/45\n",
            "109/109 [==============================] - 19s 177ms/step - loss: 0.1251 - accuracy: 0.9588 - val_loss: 1.2348 - val_accuracy: 0.7556\n",
            "\n",
            "Epoch 00028: val_accuracy did not improve from 0.79259\n",
            "Epoch 29/45\n",
            "109/109 [==============================] - 20s 180ms/step - loss: 0.1164 - accuracy: 0.9555 - val_loss: 1.2809 - val_accuracy: 0.7170\n",
            "\n",
            "Epoch 00029: val_accuracy did not improve from 0.79259\n",
            "Epoch 30/45\n",
            "109/109 [==============================] - 20s 179ms/step - loss: 0.1198 - accuracy: 0.9610 - val_loss: 1.2858 - val_accuracy: 0.7259\n",
            "\n",
            "Epoch 00030: val_accuracy did not improve from 0.79259\n",
            "Epoch 31/45\n",
            "109/109 [==============================] - 19s 177ms/step - loss: 0.1067 - accuracy: 0.9592 - val_loss: 1.0739 - val_accuracy: 0.7437\n",
            "\n",
            "Epoch 00031: val_accuracy did not improve from 0.79259\n",
            "Epoch 32/45\n",
            "109/109 [==============================] - 20s 179ms/step - loss: 0.1035 - accuracy: 0.9610 - val_loss: 1.2371 - val_accuracy: 0.7304\n",
            "\n",
            "Epoch 00032: val_accuracy did not improve from 0.79259\n",
            "Epoch 33/45\n",
            "109/109 [==============================] - 20s 180ms/step - loss: 0.0944 - accuracy: 0.9669 - val_loss: 1.3377 - val_accuracy: 0.7244\n",
            "\n",
            "Epoch 00033: val_accuracy did not improve from 0.79259\n",
            "Epoch 34/45\n",
            "109/109 [==============================] - 20s 180ms/step - loss: 0.1098 - accuracy: 0.9610 - val_loss: 1.0785 - val_accuracy: 0.7244\n",
            "\n",
            "Epoch 00034: val_accuracy did not improve from 0.79259\n",
            "Epoch 35/45\n",
            "109/109 [==============================] - 20s 179ms/step - loss: 0.0945 - accuracy: 0.9628 - val_loss: 1.2157 - val_accuracy: 0.6978\n",
            "\n",
            "Epoch 00035: val_accuracy did not improve from 0.79259\n",
            "Epoch 36/45\n",
            "109/109 [==============================] - 19s 177ms/step - loss: 0.0987 - accuracy: 0.9665 - val_loss: 1.1544 - val_accuracy: 0.6933\n",
            "\n",
            "Epoch 00036: val_accuracy did not improve from 0.79259\n",
            "Epoch 37/45\n",
            "109/109 [==============================] - 20s 179ms/step - loss: 0.1114 - accuracy: 0.9614 - val_loss: 1.3492 - val_accuracy: 0.6874\n",
            "\n",
            "Epoch 00037: val_accuracy did not improve from 0.79259\n",
            "Epoch 38/45\n",
            "109/109 [==============================] - 20s 180ms/step - loss: 0.0830 - accuracy: 0.9691 - val_loss: 1.3913 - val_accuracy: 0.7393\n",
            "\n",
            "Epoch 00038: val_accuracy did not improve from 0.79259\n",
            "Epoch 39/45\n",
            "109/109 [==============================] - 19s 177ms/step - loss: 0.0970 - accuracy: 0.9614 - val_loss: 1.2922 - val_accuracy: 0.7230\n",
            "\n",
            "Epoch 00039: val_accuracy did not improve from 0.79259\n",
            "Epoch 40/45\n",
            "109/109 [==============================] - 19s 178ms/step - loss: 0.0941 - accuracy: 0.9665 - val_loss: 1.2773 - val_accuracy: 0.7170\n",
            "\n",
            "Epoch 00040: val_accuracy did not improve from 0.79259\n",
            "Epoch 41/45\n",
            "109/109 [==============================] - 20s 181ms/step - loss: 0.0884 - accuracy: 0.9687 - val_loss: 1.2355 - val_accuracy: 0.7319\n",
            "\n",
            "Epoch 00041: val_accuracy did not improve from 0.79259\n",
            "Epoch 42/45\n",
            "109/109 [==============================] - 19s 178ms/step - loss: 0.0966 - accuracy: 0.9658 - val_loss: 1.2565 - val_accuracy: 0.7230\n",
            "\n",
            "Epoch 00042: val_accuracy did not improve from 0.79259\n",
            "Epoch 43/45\n",
            "109/109 [==============================] - 19s 177ms/step - loss: 0.0761 - accuracy: 0.9706 - val_loss: 1.2633 - val_accuracy: 0.7363\n",
            "\n",
            "Epoch 00043: val_accuracy did not improve from 0.79259\n",
            "Epoch 44/45\n",
            "109/109 [==============================] - 20s 182ms/step - loss: 0.0780 - accuracy: 0.9695 - val_loss: 1.5421 - val_accuracy: 0.7274\n",
            "\n",
            "Epoch 00044: val_accuracy did not improve from 0.79259\n",
            "Epoch 45/45\n",
            "109/109 [==============================] - 20s 180ms/step - loss: 0.0937 - accuracy: 0.9643 - val_loss: 1.8349 - val_accuracy: 0.6904\n",
            "\n",
            "Epoch 00045: val_accuracy did not improve from 0.79259\n"
          ],
          "name": "stdout"
        }
      ]
    },
    {
      "cell_type": "code",
      "metadata": {
        "id": "w5BwzSrZFaoD"
      },
      "source": [
        ""
      ],
      "execution_count": null,
      "outputs": []
    },
    {
      "cell_type": "code",
      "metadata": {
        "id": "IF-UGcqRFRb7"
      },
      "source": [
        ""
      ],
      "execution_count": null,
      "outputs": []
    }
  ]
}