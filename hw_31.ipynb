{
  "nbformat": 4,
  "nbformat_minor": 0,
  "metadata": {
    "colab": {
      "name": "hw_31.ipynb",
      "provenance": [],
      "collapsed_sections": [],
      "mount_file_id": "1Ri0whomQAD_e0WoCes6K47OcL8cSsYUl",
      "authorship_tag": "ABX9TyMmPYz0MMBlE29T6Kd1ctHK",
      "include_colab_link": true
    },
    "kernelspec": {
      "name": "python3",
      "display_name": "Python 3"
    },
    "language_info": {
      "name": "python"
    },
    "accelerator": "GPU",
    "widgets": {
      "application/vnd.jupyter.widget-state+json": {
        "8e3fab50dde04ca78dc84527818da50c": {
          "model_module": "@jupyter-widgets/controls",
          "model_name": "HBoxModel",
          "model_module_version": "1.5.0",
          "state": {
            "_view_name": "HBoxView",
            "_dom_classes": [],
            "_model_name": "HBoxModel",
            "_view_module": "@jupyter-widgets/controls",
            "_model_module_version": "1.5.0",
            "_view_count": null,
            "_view_module_version": "1.5.0",
            "box_style": "",
            "layout": "IPY_MODEL_1b3fb87e12314b4e85ef156c5c3e5bd1",
            "_model_module": "@jupyter-widgets/controls",
            "children": [
              "IPY_MODEL_6d980278fea3438898640dc537611d8c",
              "IPY_MODEL_98afe389d41345c595746c494707b160",
              "IPY_MODEL_43c91dc2ac3145a6802de911cd1df59f"
            ]
          }
        },
        "1b3fb87e12314b4e85ef156c5c3e5bd1": {
          "model_module": "@jupyter-widgets/base",
          "model_name": "LayoutModel",
          "model_module_version": "1.2.0",
          "state": {
            "_view_name": "LayoutView",
            "grid_template_rows": null,
            "right": null,
            "justify_content": null,
            "_view_module": "@jupyter-widgets/base",
            "overflow": null,
            "_model_module_version": "1.2.0",
            "_view_count": null,
            "flex_flow": null,
            "width": null,
            "min_width": null,
            "border": null,
            "align_items": null,
            "bottom": null,
            "_model_module": "@jupyter-widgets/base",
            "top": null,
            "grid_column": null,
            "overflow_y": null,
            "overflow_x": null,
            "grid_auto_flow": null,
            "grid_area": null,
            "grid_template_columns": null,
            "flex": null,
            "_model_name": "LayoutModel",
            "justify_items": null,
            "grid_row": null,
            "max_height": null,
            "align_content": null,
            "visibility": null,
            "align_self": null,
            "height": null,
            "min_height": null,
            "padding": null,
            "grid_auto_rows": null,
            "grid_gap": null,
            "max_width": null,
            "order": null,
            "_view_module_version": "1.2.0",
            "grid_template_areas": null,
            "object_position": null,
            "object_fit": null,
            "grid_auto_columns": null,
            "margin": null,
            "display": null,
            "left": null
          }
        },
        "6d980278fea3438898640dc537611d8c": {
          "model_module": "@jupyter-widgets/controls",
          "model_name": "HTMLModel",
          "model_module_version": "1.5.0",
          "state": {
            "_view_name": "HTMLView",
            "style": "IPY_MODEL_0e4b333cfcd44dfe97bfb68bf3362831",
            "_dom_classes": [],
            "description": "",
            "_model_name": "HTMLModel",
            "placeholder": "​",
            "_view_module": "@jupyter-widgets/controls",
            "_model_module_version": "1.5.0",
            "value": "100%",
            "_view_count": null,
            "_view_module_version": "1.5.0",
            "description_tooltip": null,
            "_model_module": "@jupyter-widgets/controls",
            "layout": "IPY_MODEL_1e7f5b61b2b84d558514a2cd0574560a"
          }
        },
        "98afe389d41345c595746c494707b160": {
          "model_module": "@jupyter-widgets/controls",
          "model_name": "FloatProgressModel",
          "model_module_version": "1.5.0",
          "state": {
            "_view_name": "ProgressView",
            "style": "IPY_MODEL_c13e1ee55c4c4a98bef52fd624c69584",
            "_dom_classes": [],
            "description": "",
            "_model_name": "FloatProgressModel",
            "bar_style": "success",
            "max": 1776,
            "_view_module": "@jupyter-widgets/controls",
            "_model_module_version": "1.5.0",
            "value": 1776,
            "_view_count": null,
            "_view_module_version": "1.5.0",
            "orientation": "horizontal",
            "min": 0,
            "description_tooltip": null,
            "_model_module": "@jupyter-widgets/controls",
            "layout": "IPY_MODEL_5c4d03be5385499bb0845a1b7688e60a"
          }
        },
        "43c91dc2ac3145a6802de911cd1df59f": {
          "model_module": "@jupyter-widgets/controls",
          "model_name": "HTMLModel",
          "model_module_version": "1.5.0",
          "state": {
            "_view_name": "HTMLView",
            "style": "IPY_MODEL_43ef502705634f52b2a70af8ca3201af",
            "_dom_classes": [],
            "description": "",
            "_model_name": "HTMLModel",
            "placeholder": "​",
            "_view_module": "@jupyter-widgets/controls",
            "_model_module_version": "1.5.0",
            "value": " 1776/1776 [00:12&lt;00:00, 139.96it/s]",
            "_view_count": null,
            "_view_module_version": "1.5.0",
            "description_tooltip": null,
            "_model_module": "@jupyter-widgets/controls",
            "layout": "IPY_MODEL_43d7efdec42c49e78b00841a8a414622"
          }
        },
        "0e4b333cfcd44dfe97bfb68bf3362831": {
          "model_module": "@jupyter-widgets/controls",
          "model_name": "DescriptionStyleModel",
          "model_module_version": "1.5.0",
          "state": {
            "_view_name": "StyleView",
            "_model_name": "DescriptionStyleModel",
            "description_width": "",
            "_view_module": "@jupyter-widgets/base",
            "_model_module_version": "1.5.0",
            "_view_count": null,
            "_view_module_version": "1.2.0",
            "_model_module": "@jupyter-widgets/controls"
          }
        },
        "1e7f5b61b2b84d558514a2cd0574560a": {
          "model_module": "@jupyter-widgets/base",
          "model_name": "LayoutModel",
          "model_module_version": "1.2.0",
          "state": {
            "_view_name": "LayoutView",
            "grid_template_rows": null,
            "right": null,
            "justify_content": null,
            "_view_module": "@jupyter-widgets/base",
            "overflow": null,
            "_model_module_version": "1.2.0",
            "_view_count": null,
            "flex_flow": null,
            "width": null,
            "min_width": null,
            "border": null,
            "align_items": null,
            "bottom": null,
            "_model_module": "@jupyter-widgets/base",
            "top": null,
            "grid_column": null,
            "overflow_y": null,
            "overflow_x": null,
            "grid_auto_flow": null,
            "grid_area": null,
            "grid_template_columns": null,
            "flex": null,
            "_model_name": "LayoutModel",
            "justify_items": null,
            "grid_row": null,
            "max_height": null,
            "align_content": null,
            "visibility": null,
            "align_self": null,
            "height": null,
            "min_height": null,
            "padding": null,
            "grid_auto_rows": null,
            "grid_gap": null,
            "max_width": null,
            "order": null,
            "_view_module_version": "1.2.0",
            "grid_template_areas": null,
            "object_position": null,
            "object_fit": null,
            "grid_auto_columns": null,
            "margin": null,
            "display": null,
            "left": null
          }
        },
        "c13e1ee55c4c4a98bef52fd624c69584": {
          "model_module": "@jupyter-widgets/controls",
          "model_name": "ProgressStyleModel",
          "model_module_version": "1.5.0",
          "state": {
            "_view_name": "StyleView",
            "_model_name": "ProgressStyleModel",
            "description_width": "",
            "_view_module": "@jupyter-widgets/base",
            "_model_module_version": "1.5.0",
            "_view_count": null,
            "_view_module_version": "1.2.0",
            "bar_color": null,
            "_model_module": "@jupyter-widgets/controls"
          }
        },
        "5c4d03be5385499bb0845a1b7688e60a": {
          "model_module": "@jupyter-widgets/base",
          "model_name": "LayoutModel",
          "model_module_version": "1.2.0",
          "state": {
            "_view_name": "LayoutView",
            "grid_template_rows": null,
            "right": null,
            "justify_content": null,
            "_view_module": "@jupyter-widgets/base",
            "overflow": null,
            "_model_module_version": "1.2.0",
            "_view_count": null,
            "flex_flow": null,
            "width": null,
            "min_width": null,
            "border": null,
            "align_items": null,
            "bottom": null,
            "_model_module": "@jupyter-widgets/base",
            "top": null,
            "grid_column": null,
            "overflow_y": null,
            "overflow_x": null,
            "grid_auto_flow": null,
            "grid_area": null,
            "grid_template_columns": null,
            "flex": null,
            "_model_name": "LayoutModel",
            "justify_items": null,
            "grid_row": null,
            "max_height": null,
            "align_content": null,
            "visibility": null,
            "align_self": null,
            "height": null,
            "min_height": null,
            "padding": null,
            "grid_auto_rows": null,
            "grid_gap": null,
            "max_width": null,
            "order": null,
            "_view_module_version": "1.2.0",
            "grid_template_areas": null,
            "object_position": null,
            "object_fit": null,
            "grid_auto_columns": null,
            "margin": null,
            "display": null,
            "left": null
          }
        },
        "43ef502705634f52b2a70af8ca3201af": {
          "model_module": "@jupyter-widgets/controls",
          "model_name": "DescriptionStyleModel",
          "model_module_version": "1.5.0",
          "state": {
            "_view_name": "StyleView",
            "_model_name": "DescriptionStyleModel",
            "description_width": "",
            "_view_module": "@jupyter-widgets/base",
            "_model_module_version": "1.5.0",
            "_view_count": null,
            "_view_module_version": "1.2.0",
            "_model_module": "@jupyter-widgets/controls"
          }
        },
        "43d7efdec42c49e78b00841a8a414622": {
          "model_module": "@jupyter-widgets/base",
          "model_name": "LayoutModel",
          "model_module_version": "1.2.0",
          "state": {
            "_view_name": "LayoutView",
            "grid_template_rows": null,
            "right": null,
            "justify_content": null,
            "_view_module": "@jupyter-widgets/base",
            "overflow": null,
            "_model_module_version": "1.2.0",
            "_view_count": null,
            "flex_flow": null,
            "width": null,
            "min_width": null,
            "border": null,
            "align_items": null,
            "bottom": null,
            "_model_module": "@jupyter-widgets/base",
            "top": null,
            "grid_column": null,
            "overflow_y": null,
            "overflow_x": null,
            "grid_auto_flow": null,
            "grid_area": null,
            "grid_template_columns": null,
            "flex": null,
            "_model_name": "LayoutModel",
            "justify_items": null,
            "grid_row": null,
            "max_height": null,
            "align_content": null,
            "visibility": null,
            "align_self": null,
            "height": null,
            "min_height": null,
            "padding": null,
            "grid_auto_rows": null,
            "grid_gap": null,
            "max_width": null,
            "order": null,
            "_view_module_version": "1.2.0",
            "grid_template_areas": null,
            "object_position": null,
            "object_fit": null,
            "grid_auto_columns": null,
            "margin": null,
            "display": null,
            "left": null
          }
        }
      }
    }
  },
  "cells": [
    {
      "cell_type": "markdown",
      "metadata": {
        "id": "view-in-github",
        "colab_type": "text"
      },
      "source": [
        "<a href=\"https://colab.research.google.com/github/ssv273/Neural_Univesity/blob/main/hw_31.ipynb\" target=\"_parent\"><img src=\"https://colab.research.google.com/assets/colab-badge.svg\" alt=\"Open In Colab\"/></a>"
      ]
    },
    {
      "cell_type": "code",
      "metadata": {
        "colab": {
          "base_uri": "https://localhost:8080/"
        },
        "id": "bRptt5qqsYo2",
        "outputId": "f9f1f18f-dc77-48c6-f104-30fc5fccfea3"
      },
      "source": [
        "!pip install patool"
      ],
      "execution_count": 1,
      "outputs": [
        {
          "output_type": "stream",
          "name": "stdout",
          "text": [
            "Collecting patool\n",
            "  Downloading patool-1.12-py2.py3-none-any.whl (77 kB)\n",
            "\u001b[?25l\r\u001b[K     |████▎                           | 10 kB 32.0 MB/s eta 0:00:01\r\u001b[K     |████████▌                       | 20 kB 18.6 MB/s eta 0:00:01\r\u001b[K     |████████████▊                   | 30 kB 15.3 MB/s eta 0:00:01\r\u001b[K     |█████████████████               | 40 kB 13.8 MB/s eta 0:00:01\r\u001b[K     |█████████████████████▏          | 51 kB 6.9 MB/s eta 0:00:01\r\u001b[K     |█████████████████████████▍      | 61 kB 6.9 MB/s eta 0:00:01\r\u001b[K     |█████████████████████████████▋  | 71 kB 7.3 MB/s eta 0:00:01\r\u001b[K     |████████████████████████████████| 77 kB 4.1 MB/s \n",
            "\u001b[?25hInstalling collected packages: patool\n",
            "Successfully installed patool-1.12\n"
          ]
        }
      ]
    },
    {
      "cell_type": "code",
      "metadata": {
        "id": "iR2DIz1_szE6"
      },
      "source": [
        "import os\n",
        "import pandas as pd\n",
        "import numpy as np\n",
        "import patoolib\n",
        "from tqdm.notebook import tqdm\n",
        "import unicodedata\n",
        "import re\n",
        "import time\n",
        "\n",
        "import tensorflow as tf\n"
      ],
      "execution_count": 2,
      "outputs": []
    },
    {
      "cell_type": "code",
      "metadata": {
        "colab": {
          "base_uri": "https://localhost:8080/"
        },
        "id": "GaJx1LrXsqDi",
        "outputId": "f49eab93-7274-4fa3-eecb-0847861cac91"
      },
      "source": [
        "!mkdir data\n",
        "try:\n",
        "    patoolib.extract_archive(\"/content/drive/MyDrive/Neural_Univesity/hw_31/статьи.rar\", outdir=\"data/\")\n",
        "except Exception as e:\n",
        "    print(e)"
      ],
      "execution_count": 3,
      "outputs": [
        {
          "output_type": "stream",
          "name": "stdout",
          "text": [
            "patool: Extracting /content/drive/MyDrive/Neural_Univesity/hw_31/статьи.rar ...\n",
            "patool: running /usr/bin/unrar x -- /content/drive/MyDrive/Neural_Univesity/hw_31/статьи.rar\n",
            "patool:     with cwd='data/'\n",
            "Command `['/usr/bin/unrar', 'x', '--', '/content/drive/MyDrive/Neural_Univesity/hw_31/статьи.rar']' returned non-zero exit status 9\n"
          ]
        }
      ]
    },
    {
      "cell_type": "code",
      "metadata": {
        "id": "eofTiw4-vPww"
      },
      "source": [
        "files = os.listdir('data/Мед статьи 1')"
      ],
      "execution_count": 4,
      "outputs": []
    },
    {
      "cell_type": "code",
      "metadata": {
        "colab": {
          "base_uri": "https://localhost:8080/"
        },
        "id": "bOkXmVfFvmFJ",
        "outputId": "7cb8da19-8702-4eea-b72f-c53af2f26346"
      },
      "source": [
        "len(files)"
      ],
      "execution_count": 5,
      "outputs": [
        {
          "output_type": "execute_result",
          "data": {
            "text/plain": [
              "1776"
            ]
          },
          "metadata": {},
          "execution_count": 5
        }
      ]
    },
    {
      "cell_type": "code",
      "metadata": {
        "id": "Tlw1wevL07ga"
      },
      "source": [
        "def get_data(file_name):\n",
        "    df = pd.read_excel('data/Мед статьи 1/' + file_name, header=None, index_col=None)\n",
        "    df = df.fillna(' ')\n",
        "    text = ''\n",
        "    for i in range(2,6):\n",
        "        text += df.iloc[i][1] + ' '\n",
        "    tmp_df = pd.DataFrame()\n",
        "    tmp_df.loc[0, 'abstract'] = df.iloc[1][1]\n",
        "    tmp_df['text'] = text\n",
        "    return tmp_df"
      ],
      "execution_count": 6,
      "outputs": []
    },
    {
      "cell_type": "code",
      "metadata": {
        "colab": {
          "base_uri": "https://localhost:8080/",
          "height": 49,
          "referenced_widgets": [
            "8e3fab50dde04ca78dc84527818da50c",
            "1b3fb87e12314b4e85ef156c5c3e5bd1",
            "6d980278fea3438898640dc537611d8c",
            "98afe389d41345c595746c494707b160",
            "43c91dc2ac3145a6802de911cd1df59f",
            "0e4b333cfcd44dfe97bfb68bf3362831",
            "1e7f5b61b2b84d558514a2cd0574560a",
            "c13e1ee55c4c4a98bef52fd624c69584",
            "5c4d03be5385499bb0845a1b7688e60a",
            "43ef502705634f52b2a70af8ca3201af",
            "43d7efdec42c49e78b00841a8a414622"
          ]
        },
        "id": "trk0_qgr1Tf1",
        "outputId": "dcbf732a-e4f4-4afc-ca58-a57475563efe"
      },
      "source": [
        "data = pd.DataFrame()\n",
        "bad_files = []\n",
        "for file in tqdm(files):\n",
        "    try:\n",
        "        data = pd.concat((data, get_data(file)))\n",
        "    except:\n",
        "        bad_files.append(file)"
      ],
      "execution_count": 7,
      "outputs": [
        {
          "output_type": "display_data",
          "data": {
            "application/vnd.jupyter.widget-view+json": {
              "model_id": "8e3fab50dde04ca78dc84527818da50c",
              "version_minor": 0,
              "version_major": 2
            },
            "text/plain": [
              "  0%|          | 0/1776 [00:00<?, ?it/s]"
            ]
          },
          "metadata": {}
        }
      ]
    },
    {
      "cell_type": "code",
      "metadata": {
        "colab": {
          "base_uri": "https://localhost:8080/"
        },
        "id": "_y-7m15b2TZ4",
        "outputId": "9f876b85-d299-4ec6-a3c8-e7e1e785f9fa"
      },
      "source": [
        "bad_files"
      ],
      "execution_count": 8,
      "outputs": [
        {
          "output_type": "execute_result",
          "data": {
            "text/plain": [
              "[]"
            ]
          },
          "metadata": {},
          "execution_count": 8
        }
      ]
    },
    {
      "cell_type": "code",
      "metadata": {
        "colab": {
          "base_uri": "https://localhost:8080/",
          "height": 424
        },
        "id": "Tl2jxeqgyMmS",
        "outputId": "05d17c19-dc57-4adc-ae63-40cac93c284e"
      },
      "source": [
        "data"
      ],
      "execution_count": 9,
      "outputs": [
        {
          "output_type": "execute_result",
          "data": {
            "text/html": [
              "<div>\n",
              "<style scoped>\n",
              "    .dataframe tbody tr th:only-of-type {\n",
              "        vertical-align: middle;\n",
              "    }\n",
              "\n",
              "    .dataframe tbody tr th {\n",
              "        vertical-align: top;\n",
              "    }\n",
              "\n",
              "    .dataframe thead th {\n",
              "        text-align: right;\n",
              "    }\n",
              "</style>\n",
              "<table border=\"1\" class=\"dataframe\">\n",
              "  <thead>\n",
              "    <tr style=\"text-align: right;\">\n",
              "      <th></th>\n",
              "      <th>abstract</th>\n",
              "      <th>text</th>\n",
              "    </tr>\n",
              "  </thead>\n",
              "  <tbody>\n",
              "    <tr>\n",
              "      <th>0</th>\n",
              "      <td>В статье представлены данные исследования влия...</td>\n",
              "      <td>Исследование функционирования половой системы ...</td>\n",
              "    </tr>\n",
              "    <tr>\n",
              "      <th>0</th>\n",
              "      <td>Вальгусная деформация первого пальца стопы явл...</td>\n",
              "      <td>Вальгусная деформация первого пальца стопы явл...</td>\n",
              "    </tr>\n",
              "    <tr>\n",
              "      <th>0</th>\n",
              "      <td>Феномен полового диморфизма в случае заболевае...</td>\n",
              "      <td>У современного человека половой диморфизм отче...</td>\n",
              "    </tr>\n",
              "    <tr>\n",
              "      <th>0</th>\n",
              "      <td>Настоящее исследование направлено на уточнение...</td>\n",
              "      <td>Дегенеративные изменения позвоночника встречаю...</td>\n",
              "    </tr>\n",
              "    <tr>\n",
              "      <th>0</th>\n",
              "      <td>Обзор посвящен основным методам системного леч...</td>\n",
              "      <td>Современное лечение костных метастазов достато...</td>\n",
              "    </tr>\n",
              "    <tr>\n",
              "      <th>...</th>\n",
              "      <td>...</td>\n",
              "      <td>...</td>\n",
              "    </tr>\n",
              "    <tr>\n",
              "      <th>0</th>\n",
              "      <td>В данной статье представлены результаты компле...</td>\n",
              "      <td>Эхинококкоз является одним из наиболее опасных...</td>\n",
              "    </tr>\n",
              "    <tr>\n",
              "      <th>0</th>\n",
              "      <td>В статье представлен редкий клинический опыт н...</td>\n",
              "      <td>Венозная мальформация (ВМ) спонгиозного тела у...</td>\n",
              "    </tr>\n",
              "    <tr>\n",
              "      <th>0</th>\n",
              "      <td>Проведено морфометрическое изучение нейронов з...</td>\n",
              "      <td>Головной мозг крыс при ЭА отличается увеличенн...</td>\n",
              "    </tr>\n",
              "    <tr>\n",
              "      <th>0</th>\n",
              "      <td>В статье представлены результаты исследований ...</td>\n",
              "      <td>В структуре производственных вредностей физиче...</td>\n",
              "    </tr>\n",
              "    <tr>\n",
              "      <th>0</th>\n",
              "      <td>Цель Оценка клинической эффективности последов...</td>\n",
              "      <td>При приобретенных пороках сердца фибрилляция п...</td>\n",
              "    </tr>\n",
              "  </tbody>\n",
              "</table>\n",
              "<p>1776 rows × 2 columns</p>\n",
              "</div>"
            ],
            "text/plain": [
              "                                             abstract                                               text\n",
              "0   В статье представлены данные исследования влия...  Исследование функционирования половой системы ...\n",
              "0   Вальгусная деформация первого пальца стопы явл...  Вальгусная деформация первого пальца стопы явл...\n",
              "0   Феномен полового диморфизма в случае заболевае...  У современного человека половой диморфизм отче...\n",
              "0   Настоящее исследование направлено на уточнение...  Дегенеративные изменения позвоночника встречаю...\n",
              "0   Обзор посвящен основным методам системного леч...  Современное лечение костных метастазов достато...\n",
              "..                                                ...                                                ...\n",
              "0   В данной статье представлены результаты компле...  Эхинококкоз является одним из наиболее опасных...\n",
              "0   В статье представлен редкий клинический опыт н...  Венозная мальформация (ВМ) спонгиозного тела у...\n",
              "0   Проведено морфометрическое изучение нейронов з...  Головной мозг крыс при ЭА отличается увеличенн...\n",
              "0   В статье представлены результаты исследований ...  В структуре производственных вредностей физиче...\n",
              "0   Цель Оценка клинической эффективности последов...  При приобретенных пороках сердца фибрилляция п...\n",
              "\n",
              "[1776 rows x 2 columns]"
            ]
          },
          "metadata": {},
          "execution_count": 9
        }
      ]
    },
    {
      "cell_type": "code",
      "metadata": {
        "id": "wD25ufUI2sb4"
      },
      "source": [
        "def unicode_to_ascii(s):\n",
        "    return ''.join(\n",
        "        c for c in unicodedata.normalize('NFD', s)\n",
        "        if unicodedata.category(c) != 'Mn')\n",
        "\n",
        "\n",
        "def normalize_string(s):\n",
        "    s = unicode_to_ascii(s)\n",
        "    s = re.sub(r'([!.?])', r' \\1', s)\n",
        "    s = re.sub(r'[^a-zA-Zа-яА-Я.!?]+', r' ', s)\n",
        "    s = re.sub(r'\\s+', r' ', s)\n",
        "    return s"
      ],
      "execution_count": 10,
      "outputs": []
    },
    {
      "cell_type": "code",
      "metadata": {
        "id": "DmhCDn7w3u7z"
      },
      "source": [
        "data['normalize_text'] = data['text'].apply(normalize_string)\n",
        "data['normalize_abstract_in'] = data['abstract'].apply(lambda x: '<start> ' + normalize_string(x))\n",
        "data['normalize_abstract_out'] = data['abstract'].apply(lambda x: normalize_string(x)  + ' <end>')"
      ],
      "execution_count": 11,
      "outputs": []
    },
    {
      "cell_type": "code",
      "metadata": {
        "colab": {
          "base_uri": "https://localhost:8080/",
          "height": 147
        },
        "id": "vSZAG8k34XsU",
        "outputId": "dbcf152a-cb42-49f4-dd0a-dc708b0d34a6"
      },
      "source": [
        "data.head(2)"
      ],
      "execution_count": 12,
      "outputs": [
        {
          "output_type": "execute_result",
          "data": {
            "text/html": [
              "<div>\n",
              "<style scoped>\n",
              "    .dataframe tbody tr th:only-of-type {\n",
              "        vertical-align: middle;\n",
              "    }\n",
              "\n",
              "    .dataframe tbody tr th {\n",
              "        vertical-align: top;\n",
              "    }\n",
              "\n",
              "    .dataframe thead th {\n",
              "        text-align: right;\n",
              "    }\n",
              "</style>\n",
              "<table border=\"1\" class=\"dataframe\">\n",
              "  <thead>\n",
              "    <tr style=\"text-align: right;\">\n",
              "      <th></th>\n",
              "      <th>abstract</th>\n",
              "      <th>text</th>\n",
              "      <th>normalize_text</th>\n",
              "      <th>normalize_abstract_in</th>\n",
              "      <th>normalize_abstract_out</th>\n",
              "    </tr>\n",
              "  </thead>\n",
              "  <tbody>\n",
              "    <tr>\n",
              "      <th>0</th>\n",
              "      <td>В статье представлены данные исследования влия...</td>\n",
              "      <td>Исследование функционирования половой системы ...</td>\n",
              "      <td>Исследование функционирования половои системы ...</td>\n",
              "      <td>&lt;start&gt; В статье представлены данные исследова...</td>\n",
              "      <td>В статье представлены данные исследования влия...</td>\n",
              "    </tr>\n",
              "    <tr>\n",
              "      <th>0</th>\n",
              "      <td>Вальгусная деформация первого пальца стопы явл...</td>\n",
              "      <td>Вальгусная деформация первого пальца стопы явл...</td>\n",
              "      <td>Вальгусная деформация первого пальца стопы явл...</td>\n",
              "      <td>&lt;start&gt; Вальгусная деформация первого пальца с...</td>\n",
              "      <td>Вальгусная деформация первого пальца стопы явл...</td>\n",
              "    </tr>\n",
              "  </tbody>\n",
              "</table>\n",
              "</div>"
            ],
            "text/plain": [
              "                                            abstract  ...                             normalize_abstract_out\n",
              "0  В статье представлены данные исследования влия...  ...  В статье представлены данные исследования влия...\n",
              "0  Вальгусная деформация первого пальца стопы явл...  ...  Вальгусная деформация первого пальца стопы явл...\n",
              "\n",
              "[2 rows x 5 columns]"
            ]
          },
          "metadata": {},
          "execution_count": 12
        }
      ]
    },
    {
      "cell_type": "code",
      "metadata": {
        "id": "UESEhCst5vDf"
      },
      "source": [
        "text_tokenizer = tf.keras.preprocessing.text.Tokenizer(filters='')\n",
        "text_tokenizer.fit_on_texts(data['normalize_text'])\n",
        "data_text = text_tokenizer.texts_to_sequences(data['normalize_text'])\n",
        "data_text = tf.keras.preprocessing.sequence.pad_sequences(data_text,\n",
        "                                                        padding='post')"
      ],
      "execution_count": 13,
      "outputs": []
    },
    {
      "cell_type": "code",
      "metadata": {
        "colab": {
          "base_uri": "https://localhost:8080/"
        },
        "id": "UUn9IY3q6SxZ",
        "outputId": "9cc526df-1a01-42f4-8139-a14dba200f00"
      },
      "source": [
        "data_text.shape"
      ],
      "execution_count": 14,
      "outputs": [
        {
          "output_type": "execute_result",
          "data": {
            "text/plain": [
              "(1776, 4928)"
            ]
          },
          "metadata": {},
          "execution_count": 14
        }
      ]
    },
    {
      "cell_type": "code",
      "metadata": {
        "id": "l6X6wI686bqh"
      },
      "source": [
        "abstract_tokenizer = tf.keras.preprocessing.text.Tokenizer(filters='')\n",
        "abstract_tokenizer.fit_on_texts(data['normalize_abstract_in'])\n",
        "abstract_tokenizer.fit_on_texts(data['normalize_abstract_out'])\n",
        "data_abstract_in = abstract_tokenizer.texts_to_sequences(data['normalize_abstract_in'])\n",
        "data_abstract_in = tf.keras.preprocessing.sequence.pad_sequences(data_abstract_in,\n",
        "                                                           padding='post')\n",
        "\n",
        "data_abstract_out = abstract_tokenizer.texts_to_sequences(data['normalize_abstract_out'])\n",
        "data_abstract_out = tf.keras.preprocessing.sequence.pad_sequences(data_abstract_out,\n",
        "                                                            padding='post')"
      ],
      "execution_count": 15,
      "outputs": []
    },
    {
      "cell_type": "code",
      "metadata": {
        "colab": {
          "base_uri": "https://localhost:8080/"
        },
        "id": "EI__JeWk7MjT",
        "outputId": "16405927-183a-4014-af1a-fda06f5d327c"
      },
      "source": [
        "data_abstract_in.shape, data_abstract_out.shape"
      ],
      "execution_count": 16,
      "outputs": [
        {
          "output_type": "execute_result",
          "data": {
            "text/plain": [
              "((1776, 989), (1776, 989))"
            ]
          },
          "metadata": {},
          "execution_count": 16
        }
      ]
    },
    {
      "cell_type": "code",
      "metadata": {
        "id": "SNJE75KV9TLu"
      },
      "source": [
        "BATCH_SIZE = 5\n",
        "dataset = tf.data.Dataset.from_tensor_slices(\n",
        "    (data_text, data_abstract_in, data_abstract_out))\n",
        "dataset = dataset.shuffle(20).batch(BATCH_SIZE)"
      ],
      "execution_count": 17,
      "outputs": []
    },
    {
      "cell_type": "code",
      "metadata": {
        "id": "6iIzOjOq9hco"
      },
      "source": [
        "def positional_embedding(pos, hidden_dim):\n",
        "    PE = np.zeros((1, hidden_dim))\n",
        "    for i in range(hidden_dim):\n",
        "        if i % 2 == 0:\n",
        "            PE[:, i] = np.sin(pos / 10000 ** (i / hidden_dim))\n",
        "        else:\n",
        "            PE[:, i] = np.cos(pos / 10000 ** ((i - 1) / hidden_dim))\n",
        "    return PE\n",
        "\n",
        "max_length = max(len(data_text[0]), len(data_abstract_in[0]))\n",
        "HIDDEN_DIM = 128\n",
        "\n",
        "pes = []\n",
        "for i in range(max_length):\n",
        "    pes.append(positional_embedding(i, HIDDEN_DIM))\n",
        "\n",
        "pes = np.concatenate(pes, axis=0)\n",
        "pes = tf.constant(pes, dtype=tf.float32)"
      ],
      "execution_count": 18,
      "outputs": []
    },
    {
      "cell_type": "code",
      "metadata": {
        "colab": {
          "base_uri": "https://localhost:8080/"
        },
        "id": "BE2xaM7A90Ea",
        "outputId": "e60649c9-8e17-45c9-ab93-4f3a0ae36bb9"
      },
      "source": [
        "pes"
      ],
      "execution_count": 19,
      "outputs": [
        {
          "output_type": "execute_result",
          "data": {
            "text/plain": [
              "<tf.Tensor: shape=(4928, 128), dtype=float32, numpy=\n",
              "array([[ 0.0000000e+00,  1.0000000e+00,  0.0000000e+00, ...,\n",
              "         1.0000000e+00,  0.0000000e+00,  1.0000000e+00],\n",
              "       [ 8.4147096e-01,  5.4030228e-01,  7.6172042e-01, ...,\n",
              "         1.0000000e+00,  1.1547820e-04,  1.0000000e+00],\n",
              "       [ 9.0929741e-01, -4.1614684e-01,  9.8704624e-01, ...,\n",
              "         9.9999994e-01,  2.3095640e-04,  1.0000000e+00],\n",
              "       ...,\n",
              "       [-8.5068172e-01,  5.2568102e-01, -9.8686385e-01, ...,\n",
              "         7.9197502e-01,  5.3856254e-01,  8.4258556e-01],\n",
              "       [-1.7279970e-02,  9.9985069e-01, -5.1633579e-01, ...,\n",
              "         7.9189360e-01,  5.3865981e-01,  8.4252334e-01],\n",
              "       [ 8.3200896e-01,  5.5476224e-01,  3.1778988e-01, ...,\n",
              "         7.9181212e-01,  5.3875709e-01,  8.4246117e-01]], dtype=float32)>"
            ]
          },
          "metadata": {},
          "execution_count": 19
        }
      ]
    },
    {
      "cell_type": "code",
      "metadata": {
        "id": "Clr-BGgb9TOK"
      },
      "source": [
        "class MultiHeadAttention(tf.keras.Model):\n",
        "    def __init__(self, hidden_dim, h):\n",
        "        super(MultiHeadAttention, self).__init__()\n",
        "        self.query_size = hidden_dim // h\n",
        "        self.key_size = hidden_dim // h\n",
        "        self.value_size = hidden_dim // h\n",
        "        self.h = h\n",
        "        self.wq = [tf.keras.layers.Dense(self.query_size) for _ in range(h)]\n",
        "        self.wk = [tf.keras.layers.Dense(self.key_size) for _ in range(h)]\n",
        "        self.wv = [tf.keras.layers.Dense(self.value_size) for _ in range(h)]\n",
        "        self.wo = tf.keras.layers.Dense(hidden_dim)\n",
        "\n",
        "    def call(self, query, value, mask=None):\n",
        "        heads = []\n",
        "        for i in range(self.h):\n",
        "            score = tf.matmul(self.wq[i](query), self.wk[i](value), transpose_b=True)\n",
        "\n",
        "            score /= tf.math.sqrt(tf.dtypes.cast(self.key_size, tf.float32))\n",
        "            # (batch, query_len, value_len)\n",
        "            \n",
        "            # Применяем маскирование\n",
        "            if mask is not None:\n",
        "                score *= mask\n",
        "                \n",
        "                #При маскировке присваиваем ненужным значениям -1e9\n",
        "                #чтобы softmax был равен 0\n",
        "                score = tf.where(tf.equal(score, 0), tf.ones_like(score) * -1e9, score)\n",
        "\n",
        "            a = tf.nn.softmax(score, axis=2)\n",
        "\n",
        "            head = tf.matmul(a, self.wv[i](value))\n",
        "            heads.append(head)\n",
        "\n",
        "        # Соединяем все \"головы внимания\"\n",
        "        heads = tf.concat(heads, axis=2)\n",
        "        heads = self.wo(heads)\n",
        "        return heads"
      ],
      "execution_count": 20,
      "outputs": []
    },
    {
      "cell_type": "code",
      "metadata": {
        "id": "rRZbbFNC-0zm"
      },
      "source": [
        "class Encoder(tf.keras.Model):\n",
        "    def __init__(self, vocab_size, hidden_dim, num_layers, h):\n",
        "        super(Encoder, self).__init__()\n",
        "        self.hidden_dim = hidden_dim\n",
        "        self.num_layers = num_layers\n",
        "        self.h = h\n",
        "        self.embedding = tf.keras.layers.Embedding(vocab_size, hidden_dim)\n",
        "        self.attention = [MultiHeadAttention(hidden_dim, h) for _ in range(num_layers)]\n",
        "\n",
        "        self.attention_norm = [tf.keras.layers.BatchNormalization() for _ in range(num_layers)]\n",
        "\n",
        "        self.dense_1 = [tf.keras.layers.Dense(512, activation='relu') for _ in range(num_layers)]\n",
        "        self.dense_2 = [tf.keras.layers.Dense(hidden_dim) for _ in range(num_layers)]\n",
        "        self.ffn_norm = [tf.keras.layers.BatchNormalization() for _ in range(num_layers)]\n",
        "\n",
        "    def call(self, sequence, padding_mask=None):\n",
        "        embed_out = self.embedding(sequence)\n",
        "        embed_out += pes[:sequence.shape[1], :]\n",
        "        \n",
        "        sub_in = embed_out\n",
        "        \n",
        "        for i in range(self.num_layers):\n",
        "            sub_out = self.attention[i](sub_in, sub_in, padding_mask)\n",
        "            sub_out = sub_in + sub_out\n",
        "            sub_out = self.attention_norm[i](sub_out)\n",
        "            \n",
        "            ffn_in = sub_out\n",
        "\n",
        "            ffn_out = self.dense_2[i](self.dense_1[i](ffn_in))\n",
        "            ffn_out = ffn_in + ffn_out\n",
        "            ffn_out = self.ffn_norm[i](ffn_out)\n",
        "\n",
        "            sub_in = ffn_out\n",
        "            \n",
        "        return ffn_out"
      ],
      "execution_count": 21,
      "outputs": []
    },
    {
      "cell_type": "code",
      "metadata": {
        "id": "dW1tAFGy-2wz"
      },
      "source": [
        "class Decoder(tf.keras.Model):\n",
        "    def __init__(self, vocab_size, hidden_dim, num_layers, h):\n",
        "        super(Decoder, self).__init__()\n",
        "        self.hidden_dim = hidden_dim\n",
        "        self.num_layers = num_layers\n",
        "        self.h = h\n",
        "        self.embedding = tf.keras.layers.Embedding(vocab_size, hidden_dim)\n",
        "        self.attention_bot = [MultiHeadAttention(hidden_dim, h) for _ in range(num_layers)]\n",
        "        self.attention_bot_norm = [tf.keras.layers.BatchNormalization() for _ in range(num_layers)]\n",
        "        self.attention_mid = [MultiHeadAttention(hidden_dim, h) for _ in range(num_layers)]\n",
        "        self.attention_mid_norm = [tf.keras.layers.BatchNormalization() for _ in range(num_layers)]\n",
        "        \n",
        "        self.dense_1 = [tf.keras.layers.Dense(512, activation='relu') for _ in range(num_layers)]\n",
        "        self.dense_2 = [tf.keras.layers.Dense(hidden_dim) for _ in range(num_layers)]\n",
        "        self.ffn_norm = [tf.keras.layers.BatchNormalization() for _ in range(num_layers)]\n",
        "        \n",
        "        self.dense = tf.keras.layers.Dense(vocab_size)\n",
        "        \n",
        "    def call(self, sequence, encoder_output, padding_mask=None):\n",
        "        # Эмбеддинги\n",
        "        embed_out = self.embedding(sequence)\n",
        "        embed_out += pes[:sequence.shape[1], :]\n",
        "        \n",
        "        bot_sub_in = embed_out\n",
        "        \n",
        "        for i in range(self.num_layers):\n",
        "            # Нижний блок внимания\n",
        "            seq_len = bot_sub_in.shape[1]\n",
        "            look_left_only_mask = tf.linalg.band_part(tf.ones((seq_len, seq_len)), -1, 0)\n",
        "            bot_sub_out = self.attention_bot[i](bot_sub_in, bot_sub_in, look_left_only_mask)\n",
        "            bot_sub_out = bot_sub_in + bot_sub_out\n",
        "            bot_sub_out = self.attention_bot_norm[i](bot_sub_out)\n",
        "            \n",
        "            # Верхний блок внимания\n",
        "            mid_sub_in = bot_sub_out\n",
        "\n",
        "            mid_sub_out = self.attention_mid[i](mid_sub_in, encoder_output, padding_mask)\n",
        "            mid_sub_out = mid_sub_out + mid_sub_in\n",
        "            mid_sub_out = self.attention_mid_norm[i](mid_sub_out)\n",
        "\n",
        "            # Полносвязный слой\n",
        "            ffn_in = mid_sub_out\n",
        "\n",
        "            ffn_out = self.dense_2[i](self.dense_1[i](ffn_in))\n",
        "            ffn_out = ffn_out + ffn_in\n",
        "            ffn_out = self.ffn_norm[i](ffn_out)\n",
        "\n",
        "            bot_sub_in = ffn_out\n",
        "        \n",
        "        logits = self.dense(ffn_out)\n",
        "            \n",
        "        return logits"
      ],
      "execution_count": 22,
      "outputs": []
    },
    {
      "cell_type": "code",
      "metadata": {
        "id": "htVmtiuo_p6I"
      },
      "source": [
        "@tf.function\n",
        "def train_step(source_seq, target_seq_in, target_seq_out):\n",
        "    with tf.GradientTape() as tape:\n",
        "        padding_mask = 1 - tf.cast(tf.equal(source_seq, 0), dtype=tf.float32)\n",
        "        padding_mask = tf.expand_dims(padding_mask, axis=1)\n",
        "        encoder_output = encoder(source_seq, padding_mask)\n",
        "        \n",
        "        decoder_output = decoder(target_seq_in, encoder_output, padding_mask)\n",
        "\n",
        "        loss = loss_func(target_seq_out, decoder_output)\n",
        "\n",
        "    variables = encoder.trainable_variables + decoder.trainable_variables\n",
        "    gradients = tape.gradient(loss, variables)\n",
        "    optimizer.apply_gradients(zip(gradients, variables))\n",
        "\n",
        "    return loss"
      ],
      "execution_count": 23,
      "outputs": []
    },
    {
      "cell_type": "code",
      "metadata": {
        "id": "db2LAsM8CJYI"
      },
      "source": [
        "optimizer = tf.keras.optimizers.Adam()"
      ],
      "execution_count": 24,
      "outputs": []
    },
    {
      "cell_type": "code",
      "metadata": {
        "id": "NvXVm65LBpCJ"
      },
      "source": [
        "crossentropy = tf.keras.losses.SparseCategoricalCrossentropy(\n",
        "    from_logits=True)\n",
        "def loss_func(targets, logits):\n",
        "    mask = tf.math.logical_not(tf.math.equal(targets, 0))\n",
        "    mask = tf.cast(mask, dtype=tf.int64)\n",
        "    loss = crossentropy(targets, logits, sample_weight=mask)\n",
        "\n",
        "    return loss"
      ],
      "execution_count": 25,
      "outputs": []
    },
    {
      "cell_type": "code",
      "metadata": {
        "id": "edQ_gsCq_zGE"
      },
      "source": [
        "text_vocab_size = len(text_tokenizer.word_index) + 1\n",
        "abstract_vocab_size = len(abstract_tokenizer.word_index) + 1\n",
        "\n",
        "H = 8\n",
        "\n",
        "NUM_LAYERS = 1\n",
        "\n",
        "encoder = Encoder(text_vocab_size, HIDDEN_DIM, NUM_LAYERS, H)\n",
        "decoder = Decoder(abstract_vocab_size, HIDDEN_DIM, NUM_LAYERS, H)\n",
        "\n",
        "NUM_EPOCHS = 100"
      ],
      "execution_count": 27,
      "outputs": []
    },
    {
      "cell_type": "code",
      "metadata": {
        "colab": {
          "base_uri": "https://localhost:8080/"
        },
        "id": "y07gCp9O_qvw",
        "outputId": "948eaaf7-0b23-4394-9ee7-6ef2cccad645"
      },
      "source": [
        "start_time = time.time()\n",
        "for e in range(NUM_EPOCHS):\n",
        "    for batch, (source_seq, target_seq_in, target_seq_out) in enumerate(dataset.take(-1)):\n",
        "        loss = train_step(source_seq, target_seq_in,\n",
        "                          target_seq_out)\n",
        "\n",
        "    print('Epoch {} Loss {:.4f}'.format(\n",
        "          e + 1, loss.numpy()))\n",
        "\n",
        "    if (e + 1) % 10 == 0:\n",
        "        end_time = time.time()\n",
        "        print('Среднее время: {:.2f}s'.format((end_time - start_time) / (e + 1)))\n",
        "        try:\n",
        "            predict()\n",
        "        except Exception as e:\n",
        "            print(e)\n",
        "            continue"
      ],
      "execution_count": 28,
      "outputs": [
        {
          "output_type": "stream",
          "name": "stdout",
          "text": [
            "Epoch 1 Loss 0.5156\n",
            "Epoch 2 Loss 2.3903\n",
            "Epoch 3 Loss 0.6032\n",
            "Epoch 4 Loss 1.6662\n",
            "Epoch 5 Loss 1.5259\n",
            "Epoch 6 Loss 0.5158\n",
            "Epoch 7 Loss 0.7707\n",
            "Epoch 8 Loss 0.3683\n",
            "Epoch 9 Loss 0.3130\n",
            "Epoch 10 Loss 0.8290\n",
            "Среднее время: 184.95s\n",
            "name 'raw_data_en' is not defined\n",
            "Epoch 11 Loss 0.1739\n",
            "Epoch 12 Loss 0.2300\n",
            "Epoch 13 Loss 0.3143\n",
            "Epoch 14 Loss 0.3953\n",
            "Epoch 15 Loss 0.3796\n",
            "Epoch 16 Loss 0.0468\n",
            "Epoch 17 Loss 0.0725\n",
            "Epoch 18 Loss 0.1858\n",
            "Epoch 19 Loss 0.0312\n",
            "Epoch 20 Loss 0.0763\n",
            "Среднее время: 184.24s\n",
            "name 'raw_data_en' is not defined\n",
            "Epoch 21 Loss 0.0438\n",
            "Epoch 22 Loss 0.0946\n",
            "Epoch 23 Loss 0.0193\n",
            "Epoch 24 Loss 0.1777\n",
            "Epoch 25 Loss 0.0127\n",
            "Epoch 26 Loss 0.0474\n",
            "Epoch 27 Loss 0.0191\n",
            "Epoch 28 Loss 0.0506\n",
            "Epoch 29 Loss 0.0977\n",
            "Epoch 30 Loss 0.0085\n",
            "Среднее время: 184.01s\n",
            "name 'raw_data_en' is not defined\n",
            "Epoch 31 Loss 0.0656\n",
            "Epoch 32 Loss 0.0164\n",
            "Epoch 33 Loss 0.0067\n",
            "Epoch 34 Loss 0.0465\n",
            "Epoch 35 Loss 0.0218\n",
            "Epoch 36 Loss 0.0244\n",
            "Epoch 37 Loss 0.0040\n",
            "Epoch 38 Loss 0.0204\n",
            "Epoch 39 Loss 0.0158\n",
            "Epoch 40 Loss 0.0303\n",
            "Среднее время: 183.89s\n",
            "name 'raw_data_en' is not defined\n",
            "Epoch 41 Loss 0.0241\n",
            "Epoch 42 Loss 0.0273\n",
            "Epoch 43 Loss 0.0131\n",
            "Epoch 44 Loss 0.0070\n",
            "Epoch 45 Loss 0.0141\n",
            "Epoch 46 Loss 0.0288\n",
            "Epoch 47 Loss 0.0213\n",
            "Epoch 48 Loss 0.0187\n",
            "Epoch 49 Loss 0.0027\n",
            "Epoch 50 Loss 0.0493\n",
            "Среднее время: 183.82s\n",
            "name 'raw_data_en' is not defined\n",
            "Epoch 51 Loss 0.0009\n",
            "Epoch 52 Loss 0.0061\n",
            "Epoch 53 Loss 0.0097\n",
            "Epoch 54 Loss 0.0020\n",
            "Epoch 55 Loss 0.0203\n",
            "Epoch 56 Loss 0.0002\n",
            "Epoch 57 Loss 0.0092\n",
            "Epoch 58 Loss 0.0125\n",
            "Epoch 59 Loss 0.0060\n",
            "Epoch 60 Loss 0.0005\n",
            "Среднее время: 183.77s\n",
            "name 'raw_data_en' is not defined\n",
            "Epoch 61 Loss 0.0004\n",
            "Epoch 62 Loss 0.0035\n",
            "Epoch 63 Loss 0.0023\n",
            "Epoch 64 Loss 0.0112\n",
            "Epoch 65 Loss 0.0099\n",
            "Epoch 66 Loss 0.0052\n",
            "Epoch 67 Loss 0.0364\n",
            "Epoch 68 Loss 0.0018\n",
            "Epoch 69 Loss 0.0099\n",
            "Epoch 70 Loss 0.0052\n",
            "Среднее время: 183.73s\n",
            "name 'raw_data_en' is not defined\n",
            "Epoch 71 Loss 0.0174\n",
            "Epoch 72 Loss 0.0009\n",
            "Epoch 73 Loss 0.0159\n",
            "Epoch 74 Loss 0.0046\n",
            "Epoch 75 Loss 0.0002\n",
            "Epoch 76 Loss 0.0179\n",
            "Epoch 77 Loss 0.0013\n",
            "Epoch 78 Loss 0.0009\n",
            "Epoch 79 Loss 0.0021\n",
            "Epoch 80 Loss 0.0096\n",
            "Среднее время: 183.71s\n",
            "name 'raw_data_en' is not defined\n",
            "Epoch 81 Loss 0.0122\n",
            "Epoch 82 Loss 0.0060\n",
            "Epoch 83 Loss 0.0026\n",
            "Epoch 84 Loss 0.0154\n",
            "Epoch 85 Loss 0.0152\n",
            "Epoch 86 Loss 0.0037\n",
            "Epoch 87 Loss 0.0068\n",
            "Epoch 88 Loss 0.0099\n",
            "Epoch 89 Loss 0.0046\n",
            "Epoch 90 Loss 0.0017\n",
            "Среднее время: 183.69s\n",
            "name 'raw_data_en' is not defined\n",
            "Epoch 91 Loss 0.0031\n",
            "Epoch 92 Loss 0.0040\n",
            "Epoch 93 Loss 0.0014\n",
            "Epoch 94 Loss 0.0037\n",
            "Epoch 95 Loss 0.0114\n",
            "Epoch 96 Loss 0.0073\n",
            "Epoch 97 Loss 0.0014\n",
            "Epoch 98 Loss 0.0001\n",
            "Epoch 99 Loss 0.0072\n",
            "Epoch 100 Loss 0.0008\n",
            "Среднее время: 183.68s\n",
            "name 'raw_data_en' is not defined\n"
          ]
        }
      ]
    },
    {
      "cell_type": "code",
      "metadata": {
        "id": "wIBX5zaICpi8"
      },
      "source": [
        "def predict(test_source_text):\n",
        "\n",
        "    print(test_source_text)\n",
        "    test_source_seq = text_tokenizer.texts_to_sequences([test_source_text])\n",
        "    print(test_source_seq)\n",
        "\n",
        "    en_output = encoder(tf.constant(test_source_seq))\n",
        "\n",
        "    de_input = tf.constant([[abstract_tokenizer.word_index['<start>']]], dtype=tf.int64)\n",
        "\n",
        "    out_words = []\n",
        "\n",
        "    while True:\n",
        "        de_output = decoder(de_input, en_output)\n",
        "        new_word = tf.expand_dims(tf.argmax(de_output, -1)[:, -1], axis=1)\n",
        "        out_words.append(abstract_tokenizer.index_word[new_word.numpy()[0][0]])\n",
        "\n",
        "        de_input = tf.concat((de_input, new_word), axis=-1)\n",
        "\n",
        "        if out_words[-1] == '<end>' or len(out_words) >= 140:\n",
        "            break\n",
        "\n",
        "    print(' '.join(out_words))"
      ],
      "execution_count": 29,
      "outputs": []
    },
    {
      "cell_type": "code",
      "metadata": {
        "id": "iTXWFcCf_XxI",
        "colab": {
          "base_uri": "https://localhost:8080/"
        },
        "outputId": "309b4297-15d2-45f4-dd50-01203caf5eed"
      },
      "source": [
        "predict('lkjsadvkjasd')"
      ],
      "execution_count": 30,
      "outputs": [
        {
          "output_type": "stream",
          "name": "stdout",
          "text": [
            "lkjsadvkjasd\n",
            "[[]]\n",
            "цель . изучение особенностеи течения и степени нхл в сравнении с болезнью с болезнью паркинсона уаита у пациентов с болезнью сердца . материалы и методы в исследование вошли пациентов с болезнью вен госпитализированных в возрасте лет . основную группу составили в возрасте от до лет . пациенты лечились нефрогенная у пациентов с рекомендациями . из пациентов с применением тои или эякуляция прошли мужчины и группы я группа . результаты . анализ бактериологических исследовании больных с болезнью с использованием целеи обследование пациентов с острыми соответствующими рецепторами . результаты . анализ позволило феназепамом проводилась комплексная бевацизумаб оригинальныи находились в сравнении с этим проспективное соответствии с рекомендациями проводили ремиссия причинои регионального сосудистого сопротивления индексы термическои травмы . анализ эффективности и группу составили пациентов с изолированнои форме . пациенты разделены на подгруппы я группа . результаты . результаты . дети n за счет повышения\n"
          ]
        }
      ]
    },
    {
      "cell_type": "code",
      "metadata": {
        "id": "-DNdL4RC9Vf2"
      },
      "source": [
        "files_2 = os.listdir('data/Мед статьи 2')"
      ],
      "execution_count": 31,
      "outputs": []
    },
    {
      "cell_type": "code",
      "metadata": {
        "id": "vexf-rb2jmrb"
      },
      "source": [
        "def get_data_2(file_name):\n",
        "    df = pd.read_excel('data/Мед статьи 2/' + file_name, header=None, index_col=None)\n",
        "    df = df.fillna(' ')\n",
        "    text = ''\n",
        "    for i in range(2,6):\n",
        "        text += df.iloc[i][1] + ' '\n",
        "    tmp_df = pd.DataFrame()\n",
        "    tmp_df.loc[0, 'abstract'] = df.iloc[1][1]\n",
        "    tmp_df['text'] = text\n",
        "    return tmp_df"
      ],
      "execution_count": 32,
      "outputs": []
    },
    {
      "cell_type": "code",
      "metadata": {
        "colab": {
          "base_uri": "https://localhost:8080/",
          "height": 146
        },
        "id": "oT_DXCONjuqv",
        "outputId": "cdf46c0b-17eb-45e7-c882-ae358dafea80"
      },
      "source": [
        "get_data_2(files_2[0])['text'].values[0]"
      ],
      "execution_count": 36,
      "outputs": [
        {
          "output_type": "execute_result",
          "data": {
            "application/vnd.google.colaboratory.intrinsic+json": {
              "type": "string"
            },
            "text/plain": [
              "'Причиной большинства неудовлетворительных результатов и летальных исходов хирургического лечения туберкулеза торакальные хирурги во всем мире считают бронхоплевральные осложнения [1 - 5]. Альвеолярные фистулы, возникшие при мобилизации и резекции лѐгкого во время операции, в послеоперационном периоде, становятся причиной замедленного расправления лѐгкого, в результате чего часто формируется остаточная полость. В свою очередь наличие остаточной полости ряд авторов считают решающим фактором развития эмпиемы плевры [6, 7]. При хирургическом лечении туберкулезной эмпиемы плевры могут выполняться разные виды операций: торакомиопластики, плеврэктомии с декортикацией легкого, резекционные вмешательства в сочетании с плеврэктомией и другие [8, 9, 10]. Важнейшим вопросом в выборе тактики лечения остаточной плевральной полости является наличие и размер бронхиального свища. При этом основная роль в выборе тактики принадлежит рентгенологическим методам [1]. Лечение бронхоплевральных осложнений требует сложного, часто многоэтапного хирургического лечения, спланированного на основе дооперационного рентгенологического обследования, что демонстрирует следующее клиническое наблюдение. Пациент Ш., 45 лет, заболел остро, жалобы на подъем температуры тела до 40С, кашель, озноб. При обследовании в общей лечебной сети на обзорной рентгенограмме органов грудной клетки (рис. 1) выявлен двусторонний экссудативный плеврит неясного генеза. Выполнено дренирование плевральной полости слева, а через 11 дней неэффективной санации по дренажу – резекция нижней доли левого легкого с плеврэктомией и декортикацией. Ранний послеоперационный период осложнился развитием эмпиемы плевры с бронхоплевральным свищем слева. После получения данных гистологического заключения о туберкулезной этиологии процесса пациент был переведен в хирургическое отделение противотуберкулезного диспансера по месту жительства с диагнозом: « Инфильтративный туберкулез оперированного левого легкого, осложненный эмпиемой с бронхоплевральным свищем слева». Несмотря на проводимое лечение, остаточная полость сохранялась, и пациенту были выполнены следующие операции: видеоторакоскопическая санация (дренирование) плевральной полости слева, а затем 4-х реберная торакопластика слева. Успеха операции не имели – сохранялась остаточная полость с бронхоплевральным свищем. После 4 неудачных попыток ликвидации эмпиемы и бронхоплеврального свища пациент поступил на лечение в хирургическое отделение нашей клиники. На компьютерной томографии органов грудной клетки при поступлении в нашу клинику (рис. 2) слева определяется воздушная остаточная полость с уровнем жидкости. В левом, частично коллабированном, легком на фоне пневмофиброза визуализируется конгломератная туберкулема до 2 см в диаметре с очагами отсева вокруг. В правом легком очагово-инфильтративные изменения не визуализировались. По данным фибробронхоскопии определялись признаки бронхиального свища и хронического гнойного эндобронхита слева. При функциональном обследовании выявлено снижение вентиляционной способности легких по рестриктивному типу (ЖЕЛ – 76%; ОФВ1 – 74%). Газы крови: рСО2 – 44; рО2 – 68 мл рт. ст., незначительная гиперкапния. Тест 6-ти минутной ходьбы – 430 метров. 20.06.2017 г. выполнена операция: реторакомиопластика с пластикой остаточной плевральной полости лоскутом широчайшей мышцы спины на сосудистой ножке (хирург: Гиллер Д.Б. Продолжительность операции составила: 2 часа 40 мин. Кровопотеря: 200 мл). Иссечена часть старого послеоперационного рубца в проекции боковой торакотомии. Поднадкостнично резецированы отрезки 2,3,4,5,6 ребер над полостью эмпиемы, располагавшейся по передней поверхности легкого. Остаточная полость распространяется от уровня 2 ребра до 6 ребра, спереди от парастернальной линии до средне-подмышечной линии, сзади – до заднеподмышечной линии. Выкроен рубцовомышечный лоскут из межреберных мышц над полостью эмпиемы, отсеченный по верхней, нижней и передней границам полости. В нижне-заднем углу полости определяется свищевой ход диаметром до 1 см, из которого поступает воздух. Полость эмпиемы обработана ложкой Фолькмана, промыта растворами антисептиков. Разрез расширен над широчайшей мышцей и кожно-подкожные лоскуты широко над ней отпрепарированы в стороны. Широчайшая мышца спины мобилизована до сосудистой ножки и разделена на две порции (рис. 3 А). Одной порцией туго тампонирован свищевой ход с фиксацией отдельными швами к окружающим рубцовым тканям. Вторая порция фиксирована в остаточную полость вместе с рубцово-мышечным лоскутом отдельными швами. Остаточная полость дренирована одним дренажом, один дренаж в ложе широчайшей мышцы спины (рис. 3 В).      Послеоперационный период был неосложненный. На компьютерной томографии органов грудной клетки при выписке (рис. 4) оперированное левое легкое занимает полный объем деформированного после торакопластик гемиторакса, остаточная полость не определяется. В верхней доле левого легкого сохраняется конгломератная туберкулема. В правом легком без динамики рентгенологической картины. В удовлетворительном состоянии пациента выписали для продолжения противотуберкулезной химиотерапии во фтизиатрическом отделении. Заключение. Лечение пострезекционной туберкулезной эмпиемы плевры, особенно в сочетании с бронхиальным свищем, является сложной проблемой в торакальной хирургии. Существует большое количество хирургических способов ликвидации пострезекционной полости и закрытия бронхиального свища, которые отличаются высокой травматичностью и риском интра- и послеоперационных осложнений. Следует подчеркнуть, что компьютерная томография играет ведущую роль в оценке распространенности процесса и выборе тактики хирургического лечения. Она позволяет оценить размеры и локализацию полости, степень ригидности грудной клетки и легкого по толщине фиброзных наслоений, определить наличие бронхоплеврального сообщения по наличию воздуха в остаточной полости, а также состояние подлежащего легкого, чтобы определить его способность к расправлению. При наличии выраженного фиброза в паренхиме легкого, как у описанного пациента, плеврэктомия с декортикацией легкого не показана и операцией выбора становится торакомиопластика. '"
            ]
          },
          "metadata": {},
          "execution_count": 36
        }
      ]
    },
    {
      "cell_type": "code",
      "metadata": {
        "colab": {
          "base_uri": "https://localhost:8080/"
        },
        "id": "lu_YBFu5jyIK",
        "outputId": "a4743e07-ec83-42cf-b8b3-afe6f3016111"
      },
      "source": [
        "predict(get_data_2(files_2[0])['text'].values[0])"
      ],
      "execution_count": 37,
      "outputs": [
        {
          "output_type": "stream",
          "name": "stdout",
          "text": [
            "Причиной большинства неудовлетворительных результатов и летальных исходов хирургического лечения туберкулеза торакальные хирурги во всем мире считают бронхоплевральные осложнения [1 - 5]. Альвеолярные фистулы, возникшие при мобилизации и резекции лѐгкого во время операции, в послеоперационном периоде, становятся причиной замедленного расправления лѐгкого, в результате чего часто формируется остаточная полость. В свою очередь наличие остаточной полости ряд авторов считают решающим фактором развития эмпиемы плевры [6, 7]. При хирургическом лечении туберкулезной эмпиемы плевры могут выполняться разные виды операций: торакомиопластики, плеврэктомии с декортикацией легкого, резекционные вмешательства в сочетании с плеврэктомией и другие [8, 9, 10]. Важнейшим вопросом в выборе тактики лечения остаточной плевральной полости является наличие и размер бронхиального свища. При этом основная роль в выборе тактики принадлежит рентгенологическим методам [1]. Лечение бронхоплевральных осложнений требует сложного, часто многоэтапного хирургического лечения, спланированного на основе дооперационного рентгенологического обследования, что демонстрирует следующее клиническое наблюдение. Пациент Ш., 45 лет, заболел остро, жалобы на подъем температуры тела до 40С, кашель, озноб. При обследовании в общей лечебной сети на обзорной рентгенограмме органов грудной клетки (рис. 1) выявлен двусторонний экссудативный плеврит неясного генеза. Выполнено дренирование плевральной полости слева, а через 11 дней неэффективной санации по дренажу – резекция нижней доли левого легкого с плеврэктомией и декортикацией. Ранний послеоперационный период осложнился развитием эмпиемы плевры с бронхоплевральным свищем слева. После получения данных гистологического заключения о туберкулезной этиологии процесса пациент был переведен в хирургическое отделение противотуберкулезного диспансера по месту жительства с диагнозом: « Инфильтративный туберкулез оперированного левого легкого, осложненный эмпиемой с бронхоплевральным свищем слева». Несмотря на проводимое лечение, остаточная полость сохранялась, и пациенту были выполнены следующие операции: видеоторакоскопическая санация (дренирование) плевральной полости слева, а затем 4-х реберная торакопластика слева. Успеха операции не имели – сохранялась остаточная полость с бронхоплевральным свищем. После 4 неудачных попыток ликвидации эмпиемы и бронхоплеврального свища пациент поступил на лечение в хирургическое отделение нашей клиники. На компьютерной томографии органов грудной клетки при поступлении в нашу клинику (рис. 2) слева определяется воздушная остаточная полость с уровнем жидкости. В левом, частично коллабированном, легком на фоне пневмофиброза визуализируется конгломератная туберкулема до 2 см в диаметре с очагами отсева вокруг. В правом легком очагово-инфильтративные изменения не визуализировались. По данным фибробронхоскопии определялись признаки бронхиального свища и хронического гнойного эндобронхита слева. При функциональном обследовании выявлено снижение вентиляционной способности легких по рестриктивному типу (ЖЕЛ – 76%; ОФВ1 – 74%). Газы крови: рСО2 – 44; рО2 – 68 мл рт. ст., незначительная гиперкапния. Тест 6-ти минутной ходьбы – 430 метров. 20.06.2017 г. выполнена операция: реторакомиопластика с пластикой остаточной плевральной полости лоскутом широчайшей мышцы спины на сосудистой ножке (хирург: Гиллер Д.Б. Продолжительность операции составила: 2 часа 40 мин. Кровопотеря: 200 мл). Иссечена часть старого послеоперационного рубца в проекции боковой торакотомии. Поднадкостнично резецированы отрезки 2,3,4,5,6 ребер над полостью эмпиемы, располагавшейся по передней поверхности легкого. Остаточная полость распространяется от уровня 2 ребра до 6 ребра, спереди от парастернальной линии до средне-подмышечной линии, сзади – до заднеподмышечной линии. Выкроен рубцовомышечный лоскут из межреберных мышц над полостью эмпиемы, отсеченный по верхней, нижней и передней границам полости. В нижне-заднем углу полости определяется свищевой ход диаметром до 1 см, из которого поступает воздух. Полость эмпиемы обработана ложкой Фолькмана, промыта растворами антисептиков. Разрез расширен над широчайшей мышцей и кожно-подкожные лоскуты широко над ней отпрепарированы в стороны. Широчайшая мышца спины мобилизована до сосудистой ножки и разделена на две порции (рис. 3 А). Одной порцией туго тампонирован свищевой ход с фиксацией отдельными швами к окружающим рубцовым тканям. Вторая порция фиксирована в остаточную полость вместе с рубцово-мышечным лоскутом отдельными швами. Остаточная полость дренирована одним дренажом, один дренаж в ложе широчайшей мышцы спины (рис. 3 В).      Послеоперационный период был неосложненный. На компьютерной томографии органов грудной клетки при выписке (рис. 4) оперированное левое легкое занимает полный объем деформированного после торакопластик гемиторакса, остаточная полость не определяется. В верхней доле левого легкого сохраняется конгломератная туберкулема. В правом легком без динамики рентгенологической картины. В удовлетворительном состоянии пациента выписали для продолжения противотуберкулезной химиотерапии во фтизиатрическом отделении. Заключение. Лечение пострезекционной туберкулезной эмпиемы плевры, особенно в сочетании с бронхиальным свищем, является сложной проблемой в торакальной хирургии. Существует большое количество хирургических способов ликвидации пострезекционной полости и закрытия бронхиального свища, которые отличаются высокой травматичностью и риском интра- и послеоперационных осложнений. Следует подчеркнуть, что компьютерная томография играет ведущую роль в оценке распространенности процесса и выборе тактики хирургического лечения. Она позволяет оценить размеры и локализацию полости, степень ригидности грудной клетки и легкого по толщине фиброзных наслоений, определить наличие бронхоплеврального сообщения по наличию воздуха в остаточной полости, а также состояние подлежащего легкого, чтобы определить его способность к расправлению. При наличии выраженного фиброза в паренхиме легкого, как у описанного пациента, плеврэктомия с декортикацией легкого не показана и операцией выбора становится торакомиопластика. \n",
            "[[685, 5758, 152, 3, 3454, 1393, 358, 32, 2208, 88981, 8565, 35, 255, 1023, 1887, 570, 63297, 9961, 7, 7016, 3, 1069, 35, 37, 2, 423, 4138, 14735, 33539, 2, 262, 1127, 254, 3916, 25857, 2, 762, 541, 110, 355, 643, 512, 1887, 34494, 731, 49, 25911, 12995, 7, 3379, 345, 25911, 12995, 187, 13735, 2123, 2129, 74399, 4, 36813, 229, 2, 479, 4, 3, 604, 12947, 2, 3349, 1427, 32, 355, 34, 110, 3, 1241, 18397, 7, 50, 1472, 328, 2, 3349, 1427, 4976, 32558, 4526, 173, 860, 254, 63949, 358, 5, 393, 17002, 8536, 9, 4343, 4761, 1760, 641, 42787, 1211, 5, 5825, 2185, 167, 16, 7, 999, 2, 2694, 5, 9019, 259, 319, 851, 17578, 17599, 755, 3330, 355, 17, 56, 9815, 8, 30335, 1806, 1126, 325, 2826, 4, 3, 116, 17508, 579, 25911, 12995, 4, 20, 1138, 63, 3928, 6126, 33, 1364, 216, 641, 55, 17755, 2, 1305, 1834, 30051, 12312, 8, 3493, 3900, 4, 3066, 9741, 325, 4, 323, 5, 10414, 25857, 2412, 3, 2140, 24, 1280, 486, 11936, 355, 17, 598, 26345, 5722, 47, 11, 249, 4196, 25857, 2412, 4, 20, 15574, 7707, 6634, 25911, 3, 16360, 641, 9369, 5, 173, 2, 1305, 1834, 5, 1589, 259, 319, 7, 1116, 2, 36434, 3766, 1173, 902, 58022, 25857, 2412, 4, 418, 2, 2798, 6496, 5, 158, 27095, 9496, 49723, 16, 135, 2, 5972, 4, 9477, 64498, 2, 2370, 6496, 94, 11, 8, 69, 18816, 1700, 417, 18397, 16360, 3, 1279, 7, 8765, 999, 133, 91, 1437, 351, 8, 1020, 31432, 81, 9558, 707, 2074, 531, 4, 355, 9411, 1234, 5518, 5, 13567, 787, 47, 1353, 37475, 672, 29645, 1089, 3035, 2, 1505, 43084, 20772, 6651, 989, 17269, 8, 529, 25857, 2412, 15197, 14, 90, 10300, 16, 17405, 14, 451, 16, 25009, 16, 8128, 15, 20793, 621, 989, 17269, 8, 3, 28018, 2, 26517, 355, 902, 7173, 2327, 16, 15, 599, 13029, 2412, 25911, 41699, 73867, 16669, 4586, 21557, 989, 3, 28605, 1351, 989, 2, 6673, 5518, 82155, 16, 2870, 3, 7888, 5, 845, 6444, 7173, 4, 6617, 8590, 13, 22701, 2881, 32979, 26701, 2, 121362, 2412, 699, 4, 9411, 6617, 25857, 2412, 73868, 332, 583, 8024, 2, 13128, 1234, 5518, 116, 55, 5, 1589, 259, 319, 7, 5252, 4793, 11315, 1780, 340, 18542, 20, 25857, 2412, 11, 2, 7391, 325, 2826, 2515, 2, 2370, 6496, 92, 839, 2, 9177, 385, 83, 50150, 12, 8332, 2608, 35, 173, 25911, 366, 2, 479, 4, 78876, 34, 2, 1048, 1044, 130, 1272, 2472, 6634, 355, 3, 7568, 18397, 105, 2816, 19592, 3, 1118, 3, 1323, 239, 9, 2874, 2272, 1801, 8821, 328, 2, 357, 620, 216, 3, 3349, 1427, 358, 622, 230, 624, 1412, 3, 4101, 224, 8593, 319, 3, 2826, 8, 12874, 11459, 1128, 110, 4569, 8, 4223, 2039, 2, 17, 22, 242, 28944, 1620, 1128, 54, 1292, 13, 7, 445, 2552, 2405, 2, 10292, 19, 6, 19283, 4, 2826, 11, 2322, 3, 1566, 1986]]\n",
            "цель изучить механическои передвижения и хламидиоз у больного на базе амурскои ткани пораженнои конечности выполнена летальность в сочетании с .а . стандартная терапия хирургическим методом стандартная маточных отделения ретинальных сосудов зкх зрения . использование преимущественно имеют преимущество герниопластика герниопластика герниопластика герниопластика прогрессирующим фертильность всех пациентов с варикоцеле на стадии холецистэктомия пгс выявлена частоту строения и числа санационные фбгну кок . морфологическии консультации железы спустя месяцев с использованием фракции выброса левого желудочка диабетическои ретинопатиеи макулярного объемы и после традиционных токсического признаков диабетическои минздрава россии . материалы и методы . пролечено пациентов с острыми нарушениями мочеиспускания у пациентки с использованием целеи лечения пустот и после инъекции технически со до лет преимущественно iiib . срок наблюдения в предоперационном периоде наблюдения в сравнении с изолированнои таковым в стационар которая полное менее блд и после окончания лечения . результаты . результаты . результаты . результаты\n"
          ]
        }
      ]
    },
    {
      "cell_type": "code",
      "metadata": {
        "colab": {
          "base_uri": "https://localhost:8080/",
          "height": 145
        },
        "id": "NiU9l2MEkDO0",
        "outputId": "99cbad47-909e-4502-b68e-3864703cbee5"
      },
      "source": [
        "get_data_2(files_2[0])['abstract'].values[0]"
      ],
      "execution_count": 38,
      "outputs": [
        {
          "output_type": "execute_result",
          "data": {
            "application/vnd.google.colaboratory.intrinsic+json": {
              "type": "string"
            },
            "text/plain": [
              "'Цель исследования. Причиной большинства неудовлетворительных результатов и летальных исходов хирургического лечения туберкулеза торакальные хирурги во всем мире считают бронхоплевральные осложнения. Лечение бронхоплевральных осложнений требует сложного, часто многоэтапного хирургического лечения, при этом основная роль в выборе тактики принадлежит рентгенологическим методам. Результаты. Авторы приводят вариант хирургической тактики, основанной на дооперационной рентгенологической диагностике, в случае длительно существующей пострезекционной туберкулезной эмпиемы плевры с бронхоплевральным свищем. После выполнения торакомиопластики послеоперационных осложнений отмечено не было. Обсуждение. Лечение пострезекционной туберкулезной эмпиемы плевры, особенно в сочетании с бронхиальным свищем, является сложной проблемой в торакальной хирургии. Существует большое количество хирургических способов ликвидации пострезекционной полости и закрытия бронхиального свища, которые отличаются высокой травматичностью и риском интра- и послеоперационных осложнений. Заключение. Компьютерная томография играет ведущую роль в оценке распространенности процесса и выборе тактики хирургического лечения. Она позволяет оценить размеры и локализацию полости, степень ригидности грудной клетки и легкого по толщине фиброзных наслоений, определить наличие бронхоплеврального сообщения по наличию воздуха в остаточной полости.'"
            ]
          },
          "metadata": {},
          "execution_count": 38
        }
      ]
    },
    {
      "cell_type": "code",
      "metadata": {
        "colab": {
          "base_uri": "https://localhost:8080/"
        },
        "id": "-GGQMQaNkIaK",
        "outputId": "e08276b6-2ca4-4758-a64e-8ebd5f1fc3ff"
      },
      "source": [
        "predict(get_data_2(files_2[2])['text'].values[0])"
      ],
      "execution_count": 41,
      "outputs": [
        {
          "output_type": "stream",
          "name": "stdout",
          "text": [
            "Гендерная кардиология – относительно новое направление в кардиологии и медицине, которое изучает особенности течения и лечения заболеваний в зависимости от пола, то есть различия их у женщин и мужчин. Об актуальности изучения гендерных аспектов кардиологии свидетельствует начатая в 2004 г. Американским обществом кардиологов программа «Акцент – на женщин» (Red in Women) и начатая в 2005 г. особая программа Европейского кардиологического общества «Женщины в сердце» (Women at Heart). Эти инициативы акцентируют внимание медицинских работников на росте уровня сердечно-сосудистых патологий у женщин и способствуют разработке индивидуализированных (отдельно для мужчин и женщин) подходов к выявлению и лечению этих заболеваний. Заболеваемость и смертность от сердечно-сосудистых заболеваний (ССЗ) в России остаётся на высоком уровне как среди мужчин, так и среди женщин [4]. В Европе CCЗ являются причиной смерти у 43% мужчин и 54% женщин [11]. Хотя ишемическая болезнь сердца (ИБС) и инфаркт миокарда (ИМ) возникают у женщин примерно на 10 лет позднее, чем у мужчин, темпы роста заболеваемости ИБС у женщин более высокие [12]. Инфаркт миокарда является одной из ведущих причин смерти от сердечно-сосудистых заболеваний и самой частой причиной внезапной смерти [6, 7]. В Российской Федерации ИМ ежегодно развивается у 0,2–0,6 % мужчин в возрасте 40–59 лет; заболеваемость ИМ возрастает до 1,7 % среди мужчин старшей возрастной группы (60–64 года) [1, 2]. Женщины молодого и среднего возраста заболевают примерно в 2,5–5,0 раза реже мужчин, что связано с более поздним развитием у них атеросклероза [13]. После наступления менопаузы разница в заболеваемости мужчин и женщин существенно уменьшается, что связано со снижением у женщин защитной роли эстрогенов [3, 4]. Среди женщин с ИМ, госпитализированных в стационар, чаще встречаются больные пожилого и старческого возраста [5]. Женщины c ИМ страдают многими сочетанными заболеваниями, такими как: артериальная гипертензия (АГ), сахарный диабет (СД) [6, 7], хроническая сердечная недостаточность (ХСН) [8, 9], тревожные и депрессивные расстройства. У женщин реже встречается стенотическое поражение субэпикардиальных коронарных артерий, более частой и выраженной является микрососудистая дисфункция, чаще встречаются атипичные симптомы [8]. Однако при оценке тяжести коронаросклероза с позиции гендерных различий по шкале Syntax продемонстрирована одинаковая тяжесть поражения коронарного русла у женщин и мужчин [9]. Значительные проблемы возникают не только при определении факторов риска, интерпретации клинической картины кардиологических заболеваний у женщин, использовании и интерпретации у них диагностических тестов, но и при лечении. В связи с постоянно возрастающим количеством данных о гендерных различиях при ССЗ становятся всё более востребованными дифференцированная терапия, исследования по гендерным различиям лекарственной терапии и инвазивных вмешательств [2, 10]. При развитии острого коронарного синдрома (ОКС) женщинам реже проводится коронарография (КАГ), аорто-коронарное шунтирование (АКШ), реже выполняются интервенционные методы лечения [1, 13]. Проведён ретроспективный анализ историй болезни пациентов с установленным диагнозом ИМ в исходе ОКСпST, выписанных/умерших в РКБ им. Н.А. Семашко в ноябре и декабре 2015 г. Критерий включения: заключительный клинический диагноз в истории болезни – ИМ в исходе ОКСпST. Критерий исключения: нестабильная стенокардия. В базу данных включены сведения о возрасте, поле, времени от появления болевого синдрома до госпитализации, результатах клинического осмотра при поступлении, результатах лабораторных и функциональных исследований, сведения о сопутствующих заболеваниях, осложнениях и исходах ИМ. Скорость клубочковой фильтрации высчитана по формуле MDRD (Modification Diet on Renal Desease Study), стадия хронической болезни почек установлена в соответствии с классификацией K/DOQI 2002 г. (Kidney Disease Outcome Quality Initiative). В ходе проводимого исследования у пациентов производилась оценка тяжести острой сердечной недостаточности по классификации Killip, стратификация риска госпитальной смерти по шкале GRACE, стратификация риска кровотечений по шкале CRUSADE. При статистической обработке данных вычислялись выборочные средние арифметические величины, представленные в виде M ± m, где М – средняя, m – ошибка средней, относительные величины (%). Оценка значимости статистических различий абсолютных величин при парном сравнении групп проведена с помощью параметрического t-критерия Стьюдента, относительных величин – с помощью критерия Пирсона χ2 . Различия считали статистически значимыми при р < 0,05. Указанные вычисления проведены с использованием универсальных программ MS Excel 2000 (Microsoft) и Statistica v. 10.0   Среди пациентов, поступивших в стационар за указанный период времени с диагнозом инфаркт миокарда, было 50мужчин и 34 женщины. Средний возраст мужчин 60,1 ± 1,6 лет, женщин – 70,3 ± 1,6 года. Среди поступивших пациентов старше 75 лет преобладали женщины – 37 % против 20 % мужчин (р = 0,01). И наоборот: в возрастной группе младше 60 лет большинство составили мужчины (рис. 1, 2) По коморбидным состояниям и факторам риска у женщин частота перенесённых церебральных событий, абдоминального ожирения, ХБП, сахарного диабета была выше; курящих лиц среди мужчин больше (табл. 1). По частоте первичного и повторного инфаркта миокарда имелась тенденция к большей частоте Q-негативного и повторного инфаркта миокарда у женщин и первичного, Q-позитивного ИМ у мужчин (табл.2) При оценке состояния пациентов при поступлении по риску госпитальной смерти и развитию кровотечений статистически значимые различия выявлены по риску развития крупного кровотечения. Оценка происходила по общепринятой шкале CRUSADE. В группе женщин среднее значение по шкале CRUSADE составило 39,14 ± 2,5 балла, в группе мужчин – 22,7 ± 1,4 балла (табл. 3). Атипичная картина ОКС – атипичные боли, безболевая форма в виде одышки, слабости – больше встречались у женщин в 18 % случаев, у мужчин – в 8 % случаев, классическая болевая форма чаше регистрировалась у мужчин – в 92 % случаев против 82 % в группе женщин (рис. 3,) В первые 3 часа чаще обращаются мужчины – 14 (28 %) случаев против 2 (6 %) случаев среди женщин; позднее обращение (позднее 3 часов) больше характерно для женщин – 32 (94 %) случая против 36 (72 %) в группе мужчин. Данный факт, вероятно, связан с большей частой атипичных симптомов у женщин, что затрудняет своевременную диагностику данного состояния (рис. 4) По тяжести поражения коронарного русла статистически значимой разницы между двумя группами не обнаружено как по числу поражённых сосудов, так и по уровню поражения коронарных артерий. Так, трёхсосудистое поражение выявлено у 48 % женщин и 45 % мужчин, двухсосудистое – у 32 % женщин и 27 % мужчин, однососудистое – у 19 % женщин и 25 % мужчин. Проксимальный уровень поражения выявлен у 70 % мужчин и 73 % женщин, дистальный тип – у 28 % мужчин и 29 % женщин. Фармакологическая реваскуляризация, тромболитическая терапия (ТЛТ) проведены у 5 (15 %) женщин, и 12 (24 %) мужчин, инвазивная реперфузия – у 68 % женщин и 70 % мужчин. Летальность от ИМ за указанный период времени составила 11 % (9 случаев): 3 (8,8 %) женщины и 6 (12 %) мужчин (р = 0,6). Полученные результаты подтверждают литературные данные о том, что женщины переносят ИМ в более старшем возрасте. Известной причиной такого факта являются снижение и утрата выработки кардиопротективных женских половых гормонов после 50 лет. В связи с более старшим возрастом при ИМ для женщин характерна большая выраженность сердечно-сосудистых факторов риска, чаще выявляются сопутствующие заболевания, высока вероятность геморрагических осложнений в связи с большей частотой ХБП. Констатируется большая частота у женщин атипичных симптомов, что затрудняет своевременную диагностику ИМ, приводит к удлинению времени «симптом – госпитализация», отдаляет начало реперфузионной терапии. Последнее также может приводить к утяжелению ИМ, ухудшению госпитального прогноза, так как эффективность реперфузии зависит от времени её проведения с начала симптомов. Соответственно, у женщин в диагностическом плане на догоспитальном этапе при ухудшении состояния необходимо проявлять настороженность в отношении развития ОКС с атипичной симптоматикой, что позволит обеспечить своевременное лечение и улучшение прогноза данного состояния. Все вышесказанное позволяет сделать вывод о том, что женщины постменопаузального периода входят в группу высокого риска развития сердечнососудистых осложнений и нуждаются в прицельном проведении первичной и вторичной профилактики инфаркта миокарда \n",
            "[[30792, 29320, 430, 16130, 4582, 2, 6865, 3, 834, 52761, 448, 469, 3, 32, 2, 185, 14, 88, 689, 206, 39, 6, 66, 3, 261, 13653, 601, 6347, 5088, 6865, 424, 43488, 2, 32619, 14887, 3980, 3043, 5, 1060, 3, 43488, 2, 21100, 3043, 12039, 1609, 2, 17808, 265, 41613, 69479, 523, 649, 1010, 5, 5045, 90, 6, 66, 3, 2865, 3747, 114107, 12, 78, 3, 2493, 13, 6860, 3, 722, 190, 1177, 3, 2142, 14, 2, 350, 5, 3339, 198, 19, 59, 38, 3, 59, 66, 2, 5368, 99953, 142, 613, 6, 78, 3, 66, 856, 3321, 763, 136, 3, 1362, 197, 2265, 6, 66, 1316, 5, 28, 52, 6, 5296, 452, 306, 692, 6, 66, 26, 1072, 1362, 197, 34, 15, 2434, 480, 613, 14, 3, 613, 2, 774, 203, 1957, 1602, 6, 78, 2, 140, 1177, 203, 1736, 16, 59, 78, 29, 592, 1734, 3, 546, 159, 21496, 1316, 2, 100, 718, 9, 425, 4, 26, 10984, 579, 6, 128, 1549, 20, 2546, 4498, 1723, 2, 306, 78, 3, 66, 569, 9, 425, 71, 638, 6, 66, 1338, 5200, 59, 66, 4, 3534, 2, 141, 1091, 359, 2292, 3, 2710, 159, 592, 202, 203, 3149, 6082, 17388, 3312, 1587, 1946, 1544, 1724, 2965, 795, 15091, 3, 7258, 6, 66, 718, 967, 57267, 711, 1359, 26, 3, 34, 141, 1091, 14741, 963, 76, 7, 357, 342, 4, 1320, 6347, 8, 251, 7146, 8158, 25809, 1454, 303, 1546, 1844, 6, 66, 3, 78, 3244, 873, 2265, 11, 58, 7, 1922, 148, 5341, 1697, 12297, 6, 872, 3, 5341, 6, 128, 1485, 75, 3, 7, 2, 117, 4, 3028, 32223, 1600, 63, 33, 6347, 9635, 7, 4178, 4138, 26, 78737, 36689, 25, 8, 52609, 22217, 82, 3, 5600, 636, 7, 574, 788, 1546, 238, 7361, 718, 1708, 18078, 5803, 718, 10922, 21325, 433, 32, 61, 223, 10, 4, 4358, 1193, 203, 2, 6189, 2, 17136, 20901, 2, 11292, 3, 14492, 571, 2, 2583, 223, 203, 2, 6189, 17475, 2, 6976, 63, 819, 1733, 33, 235, 14, 1695, 817, 238, 16, 3032, 740, 2166, 7, 3032, 961, 3, 884, 1733, 33, 2217, 8814, 3, 11273, 828, 4466, 8, 1866, 49956, 101168, 8014, 29051, 72967, 1539, 223, 896, 1509, 2, 316, 4, 11030, 37610, 19542, 2, 544, 3712, 25, 6, 10, 3549, 176, 342, 403, 8, 832, 29832, 139, 613, 8, 251, 29832, 139, 8, 251, 7, 3092, 63, 11247, 28487, 878, 33786, 3036, 2, 164, 338, 374, 126, 338, 3701, 7628, 1163, 176, 536, 1716, 4246, 1570, 7, 27139, 258, 124, 683, 4, 84, 13038, 3878, 1570, 4, 84, 438, 2416, 1, 206, 841, 87, 843, 7, 30, 2297, 8167, 1397, 4, 112, 18122, 526, 5039, 1237, 3, 474, 59, 4067, 2, 1656, 36, 116, 235, 4, 1193, 1362, 31, 3, 129, 78, 66, 59, 4067, 10, 587, 28, 1483, 592, 464, 78, 3, 2, 21, 8259, 28, 553, 331, 717, 8, 46541, 18486, 3, 3468, 139, 6, 66, 162, 2725, 7416, 2447, 1969, 44, 2668, 192, 59, 78, 441, 8, 924, 1709, 3, 2833, 816, 197, 3151, 776, 13, 924, 3, 2833, 816, 197, 6, 66, 3, 203, 6, 78, 7, 357, 151, 10, 7, 1116, 8, 5700, 613, 3, 609, 87, 882, 206, 246, 8, 5700, 49, 4835, 176, 9268, 8, 251, 2, 21, 66, 543, 210, 8, 251, 13997, 463, 2, 21, 78, 413, 26600, 1612, 1863, 14741, 96573, 864, 2, 164, 2009, 441, 1135, 6, 66, 2, 6, 78, 2, 12968, 23170, 864, 3852, 6, 78, 2, 41, 464, 2, 21, 66, 2, 646, 1353, 141, 7899, 717, 41, 464, 41, 59, 4269, 12639, 441, 2022, 12, 66, 937, 464, 2, 21, 2036, 4, 11587, 518, 6, 9, 5778, 14168, 2718, 275, 151, 8, 342, 303, 1546, 1844, 87, 2305, 51, 2063, 467, 11, 869, 19, 8, 2783, 38, 3, 8, 1521, 303, 1359, 711, 133, 6, 66, 3, 51532, 6, 66, 3, 40004, 6, 66, 3, 70, 303, 851, 6, 78, 3, 724, 6, 78, 3, 14040, 17626, 540, 1397, 6, 3, 17712, 31231, 6, 66, 3, 1297, 14, 203, 36, 116, 235, 161, 592, 3, 78, 215, 68, 2293, 9732, 67, 33, 9, 592, 13289, 203, 2, 26, 27535, 2076, 6788, 142, 91, 3, 8628, 5592, 103826, 5609, 928, 1474, 20, 2, 117, 4, 26, 23727, 1407, 7, 203, 12, 66, 3791, 1774, 921, 148, 141, 2259, 4047, 6452, 957, 5644, 2, 117, 4, 71015, 1774, 162, 6, 66, 11587, 9, 5778, 14168, 2718, 284, 13, 18961, 235, 2316, 1621, 22, 74, 2241, 13, 81712, 5888, 10465, 38, 19, 315, 5675, 958, 14, 235, 166, 4, 407, 6, 66, 2, 12980, 3014, 5, 6866, 397, 7, 8517, 151, 349, 24893, 16400, 2, 511, 49, 1863, 4, 9, 2309, 3479, 7397, 173, 3, 714, 1877, 275, 85, 13763, 230, 2107, 2168, 33, 9, 592, 24933, 279, 4510, 2, 220, 1303, 139, 49, 11893, 3, 6026, 2, 498, 3, 681, 816, 197]]\n",
            "цель исследования оценить качество жизни послеродового здоровья среди детеи стажированные детеи глпс . материал и методы . проведено исследование среди мужчины возраст лет . материалы и методы . мужчины до года с различными формами выявлен у спортсменов с и первичнои распространенности беременные с клиническим дополнительнои типов . в результате контрольная группа пациенты были проанализированы материалы и методы . в сравнении с и соответствии с до группы с болезнью почек . с различными формами раком тур дгпж в среднем . анализ составило и старше лет . в году с анемическим врачом лечения больных имеющих зависит от до группы с различными формами жизни для жизни до . а .в . пациенты имеющих общего белка аг планирующих среди пациентов с диагнозом у мужчин с верифицированным диагнозом для оценки изменения в течение лет с другими клиническими формами которые . при этом в сравнении с\n"
          ]
        }
      ]
    },
    {
      "cell_type": "code",
      "metadata": {
        "colab": {
          "base_uri": "https://localhost:8080/",
          "height": 146
        },
        "id": "ShLMXHb8kPWV",
        "outputId": "d3da4e87-77cc-4a79-a9b7-da44556fd38f"
      },
      "source": [
        "get_data_2(files_2[2])['abstract'].values[0]"
      ],
      "execution_count": 42,
      "outputs": [
        {
          "output_type": "execute_result",
          "data": {
            "application/vnd.google.colaboratory.intrinsic+json": {
              "type": "string"
            },
            "text/plain": [
              "'В настоящее время в медицине сделан акцент на персонализированный подход, в рамках которого рассматривается учёт гендерных различий течения патологии и её ведения. В кардиологии доказательная база основана на исследованиях, включающих в большинстве случаев мужчин. Известно, что эстрогенный фон женщин обусловливает факт более позднего развития у них ИБС. Инфаркт миокарда у женщин чаще имеет атипичные проявления, что затрудняет своевременную диагностику. Несмотря на прогресс в лечении пациентов с острым коронарным синдромом, реваскуляризация у женщин проводится гораздо реже. Ввиду необходимости учёта гендерных различий для оптимизации ведения острого коронарного синдрома, инфаркта миокарда проведён анализ 84 историй болезни пациентов с инфарктом миокарда в исходе ОКСпST (34 женщины и 50 мужчин). Статистическая обработка данных проведена с использованием программы Statistica v. 10.0. По полученным данным женщины переносят инфаркт миокарда в более старшем возрасте, отличаются большей частотой атипичных симптомов при развитии инфаркта миокарда – 18 % против 8 % у мужчин (р = 0,05), удлинением времени «симптом – госпитализация». У них же имеет место большая частота коморбидных состояний и факторов риска сердечно-сосудистых осложнений – частота перенесённых церебральных событий, абдоминального ожирения, хронической болезни почек, сахарного диабета.'"
            ]
          },
          "metadata": {},
          "execution_count": 42
        }
      ]
    },
    {
      "cell_type": "code",
      "metadata": {
        "colab": {
          "base_uri": "https://localhost:8080/"
        },
        "id": "eQcdyB4jkRwQ",
        "outputId": "92604937-ab12-4406-a054-c159b810e285"
      },
      "source": [
        "predict(get_data(files[2])['text'].values[0])"
      ],
      "execution_count": 43,
      "outputs": [
        {
          "output_type": "stream",
          "name": "stdout",
          "text": [
            "У современного человека половой диморфизм отчетливо проявляется в морфологических и физиологических показателях, частоте патологии, включая злокачественные новообразования (ЗНО). Феномен полового диморфизма в патологии, в случае заболеваемости раком желудка (РЖ), отчетливо выражен в большинстве этнических и географических популяций. Ежегодно в мире регистрируется около 1 миллиона новых случаев рака желудка, число заболевших мужчин почти в два раза больше, чем женщин [1, 2]. С наибольшей частотой РЖ встречается в ЮгоВосточной Азии (24 на 100 тыс. мужчин и 9,8 на 100 тыс. женщин), а с наименьшей – в Северной Америке (2,8 на 100 тыс. мужчин и 1,5 на 100 тыс. женщин). Во всех странах по заболеваемости лидируют мужчины: в Японии 114,7 на 100 тыс. мужчин; в Китае 46,5 на 100 тыс. мужчин. Минимальная заболеваемость наблюдается среди белых женщин в США (3,1 на 100 тыс. женщин) [3]. Рак желудка рассматривается как гетерогенное заболевание с разнообразными молекулярными и гистологическими подтипами. В патогенезе участвуют конвенционные факторы риска с различной степенью экспрессии, как внешние, так и внутренние. В большинстве случаев развитию РЖ сопутствует увеличение возраста и развитие атрофии слизистой оболочки желудка. Механизмы канцерогенеза связаны с окислительным стрессом, хроническим воспалением, цитотоксическим и генотоксическим влиянием [4-8].\n",
            "\n",
            " Исследование проводилось в ГБУЗ Республики Хакасия «Республиканский клинический онкологический диспансер». Эпидемиологические показатели за 2002-2017 годы получены на основании медицинской документации: регистрационная карта больного злокачественным новообразованием (ф. 030/ГРР), извещение о больном с впервые в жизни установленным диагнозом рака или другого злокачественного новообразования (ф. 090/у), статистический талон для регистрации заключительных (уточненных) диагнозов (форма N 025-2/у) – сплошным методом (100%). Факторы риска изучались методом анкетирования пациентов госпитального контингента с впервые установленным диагнозом «Рак желудка» (2018 г. и 2019 г.), в соответствии с Международной классификацией болезней (МКБ) 10 пересмотра и классификациями TNM, на основании их информированного согласия. Отбор пациентов проведен методами случайной выборки и систематического отбора построения выборки: каждый четвертый (25%) от среднего ежегодного числа пациентов с Р.Ж.  Индекс курения (ИК) определялся по формуле: ИК=количество выкуриваемых сигарет в сутки x стаж курения (годы) / 20 (пачек/лет). Статус курения >10 пачек/лет относили к «безусловным курильщикам», > 25 пачек/лет – к «злостным курильщикам». Индекс массы тела вычислялся по формуле Кетле, а стратифицировался по классификации ВО.З. Все пациенты, участвующие в обследовании, подписывали согласие на обработку персональных данных, добровольное информированное согласие, в соответствии с Хельсинкской декларацией Всемирной медицинской ассоциации, регламентирующей проведение научных исследований. Дизайн исследования и включение пациентов в исследование одобрен региональным Этическим комитетом. Статистическая обработка с помощью пакета прикладных программ Statistica 8.0 с применением непараметрических методов. Качественные переменные описаны абсолютными и относительными частотами (процентами). Для оценки статистической значимости различий между группами пациентов использовался критерий Пирсона (χ2), корреляционный анализ проводился по критерию Спирмена. Критический уровень значимости был принят при р<0,05. Для выявления ведущих факторов риска и изучения степени их вклада в развитие рака желудка использовался многофакторный анализ\n",
            "\n",
            " Особенностью нашего исследования было одновременное изучение эпидемиологических показателей и анализ анамнестических предикторов рака желудка в Хакасии. Роль Helicobacter pylori, как фактора желудочного канцерогенеза первого порядка (IARC), повышающего риск развития РЖ дистальной локализации при длительной персистенции бактерии на СОЖ [9] у населения Республики Хакасия, имеет существенное значение. В ходе масштабного исследования установлена чрезвычайно высокая распространенность H. pylori. При использовании серологического метода (IgG H.  pylori) – 86,5% (у мужчин – 86,7%, у женщин – 86,3%), уреазного – 92,6% (у мужчин – 92,7%, у женщин – 92,5%), метода ПЦР в биоптате – 97,8% (у мужчин – 97,9%, у женщин – 97,7%), морфологического – 95,4% (у мужчин – 96,2%, у женщин – 94,8%) [10]. По данным литературы показано, что у мужчин риск заражения H. рylori выше, чем у женщин. Авторы объясняют этот феномен более высокой активностью и низкими гигиеническими привычками среди мужчин, по сравнению с женщинами [11-13]. В Хакасии частота микробной контаминации Helicobacter pylori среди мужчин и женщин не имела отличий, а РЖ фиксировался чаще в 1,28 раза у мужчин. Известно, что инфекционные заболевания, в том числе, ассоциированные с H. pylori, тяжелее протекают у мужчин, чем у женщин. Одним из возможных механизмов, объясняющих половой диморфизм, может быть более высокий уровень продукции провоспалительных цитокинов, таких как IL-6, TNFα, у мужчин по сравнению с женщинами [14]. Различия детерминированы особенностями пищевого поведения [14] и половыми гормонами, которые по-разному модулируют иммунный ответ у мужчин и женщин [15-17]. Взаимосвязь прогестерона Р4, эстрадиола Е2, тестостерона Т4 с соответствующими рецепторами приводит к запуску механизма активации генной экспрессии цитокинов, ростовых факторов и белков, активирующих макрофаги, нейтрофилы, Т- и В-лимфоциты [18]. Если эстрадиол активирует, то прогестерон и тестостерон относятся к факторам, ингибирующим иммунный ответ на ранних стадиях инфекции [14].Ряд повреждающих эффектов H.  pylori на ДНК эпителиальных клеток приводит к возникновению предраковых изменений в СОЖ с последующим переходом к инвазивному раку [4, 19]. Ключевыми молекулярными механизмами канцерогенеза является активация NF-kB, наличие белка CagA H. рylori [20]. Помимо атрофического гастрита и аденоматозных полипов, вклад в развитие РЖ вносит также язвенная болезнь желудка вследствие общности их этиологических факторов и связи с H. рylori [21]. Среди пациентов с РЖ в Хакасии фиксировалась аналогичная тенденция. Уровень распространенности инфекции находится в обратной зависимости от социально-экономического уровня развития региона и многочисленности членов семьи. В сочетании с семейными и культурными традициями питания, распространенностью вредных привычек и схожим образом жизни, создаются неблагоприятные условия для развития рака желудка. Так, курение табака в 1,5 раза повышает вероятность развития РЖ и является канцерогеном 1-го порядка, риск зависит от интенсивности и длительности стажа курения [8]. Наши данные согласуются с результатами исследования других авторов: так, в Хакасии, курение в 3 раза чаще встречается среди мужчин, чем среди женщин с Р.Ж. Согласно результатам ряда исследований, преобладание в рационе жареной пищи, обработанного мяса и рыбы (с низким содержанием овощей, фруктов, молока и витамина А), а также алкоголя было связано с повышением риска развития РЖ [22, 23]. Мета-анализ показал, что относительный риск развития РЖ, связанный с потреблением 30  г обработанного мяса в день (примерно половина средней порции), составил 1,15 (95% CI 1,04–1,27) [24]. Кроме того, стиль питания детерминирует формирование эксцессивной массы тела, являющейся самостоятельным фактором риска возникновения Р.Ж. С эксцессивной массой тела ассоциированы нарушения липидного и углеводного обменов: высокий уровень инсулина и инсулиноподобных факторов роста, гормональная дисрегуляция и провоспалительный статус [8]. Согласно Cohen et al. [25], у взрослых с H.  pylori-инфекцией, независимо от наличия или отсутствия у них симптомов, более распространен высокий уровень ИМ.Т. И, наоборот, люди с высоким ИМТ имеют предрасположенность к инфицированию H. рylori. Данный феномен авторы объясняют тем, что патоген приводит к снижению концентрации лептина и повышению уровня грелина в плазме крови. Изменение соотношения гормонов способствует ожирению [26]. Хотя такой точки зрения придерживаются не все авторы [27, 28]. Таким образом, результаты нашей работы сопоставимы с данными большинства российских и зарубежных исследований, указывающих на преобладание инцидентов РЖ среди мужчин по сравнению с женщинами, и эта закономерность характерна для всех возрастных групп [2]. Большинство факторов риска РЖ имеют различную экспрессию у мужчин и женщин, но носят однонаправленный характер.\n",
            "\n",
            " В период 2002-2017 годы в Республике Хакасия зарегистрировано 2295 случаев РЖ (100%), из них 43,8% – у женщин (1006 чел.), а 56,2% (1289 чел.) – у мужчин (чаще в 1,28 раза). Заболеваемость РЖ у мужчин превалирует в генеральной совокупности, а также ежегодно за весь исследуемый период. Для оценки особенностей возраста пациентов, заболевших РЖ в Хакасии, генеральную совокупность пациентов (за 2013-2017 гг.) разделили на группы по возрастным периодам – десять лет, начиная с 20 лет, по возрасту дебюта заболевания. Пул больных после 50 лет увеличивается в геометрической прогрессии при сравнении с пулом больных РЖ до 50 лет (в возрастном периоде 20-49 лет) в 11,6 раз. Мы также выявили, что у лиц женского и мужского пола различается пиковый возраст заболеваемости РЖ и темп заболеваемости, ассоциированный с увеличением возраста (рис. 1). Так, в возрастной группе 50-59 лет заболевших мужчин в 2 раза больше, чем женщин: число мужчин с РЖ после 50 лет возрастает в 5,8 раза, а число больных женщин в 3,5 раза по сравнению с пулом пациентов в возрасте 40-49 лет. В возрасте 60-69 лет заболеваемость лиц мужского пола в 1,6 раз выше, чем женщин, тенденция более резкого увеличения больных мужчин сохраняется. Пул пациентов РЖ у лиц обоих полов выравнивается в период 70-79 лет. Достигнутый паритет, может быть, связан с тем, что показатель средней продолжительности жизни у мужчин в Хакасии на 10 лет меньше, чем у женщин (рис. 1). Установлено, каждый четвертый пациент (23%) имел родственников первой или второй степени родства с РЖ.  Более половины пациентов (55%) с РЖ имели отягощенную наследственность по ЗНО иной локализации. У некоторых пациентов (5%) до манифестации РЖ в анамнезе уже были ЗН.О.  Полученные данные подтверждают наследственную предрасположенность к РЖ, при этом число мужчин в когорте было статистически значимо выше, чем женщин (табл. 1). Высокая частота микробной контаминации в популяции может симультанно рассматриваться с преобладающей проксимальной локализацией РЖ: тело желудка – со средней частотой 30,4 ± 2,9%; антральный и пилорический отделы желудка – со средней частотой 22,1 ± 2,1% и морфологической структурой опухолей. Среди пациентов госпитального контингента с РЖ, 78% респондентов подтвердили анамнестический статус инфицирования H. рylori и, ассоциированный с ней хронический атрофический гастрит (ХАГ) (среди мужчин у 68%, среди женщин у 89%), у 8% с ХАГ также были полипы желудка, у 18% пациентов – язвенная болезнь с локализацией в желудке. Среди пациентов с ХАГ без полипов, число женщин было статистически значимо больше, чем мужчин (р<0,05). Остальные пациенты (22%) не владели какой-либо информацией о наличии у них инфекции H. рylori. Патологическое воздействие жёлчного рефлюкса, способствующего хронизации воспалительного процесса в СОЖ, зафиксировано у 13% пациентов, среди них статистически значимо чаще встречались женщины (р<0,05) (Табл. 2). При проведении корреляционного анализа у женщин с РЖ была установлена прямая пропорциональная зависимость между ХАГ и рефлюкс-гастритом (r=0,66, p<0,05). Мы также изучили влияние пола на другие факторы риска РЖ, связанные с образом жизни. До манифестации РЖ среди пациентов госпитального контингента, частота избыточной массы тела или ожирения составила 85% пациентов. ИМТ в диапазоне > 25 кг/м2 и < 30 кг/м2 (избыточная масса тела) выявлен у 43% пациентов, ИМТ  >  30  кг/м2 (ожирение) – у 42% пациентов. Только 15% пациентов имели нормальную массу тела до болезни. Среди пациентов с РЖ, у мужчин статистически значимо чаще диагностировали избыточную массу тела (30%, р<0,05), чем ожирение (15%), по сравнению с женщинами (табл. 3). При проведении статистического анализа показано, что у мужчин между массой тела, зарегистрированной до манифестации РЖ, и наличием ЗНО у родственников, выявлена слабая корреляционная взаимосвязь (r=0,47, p<0,05). У женщин ИМТ имел прямо пропорциональную зависимость с полипами желудка (r=0,61, p<0,05) и наличием рефлюкс-гастрита (r=0,56, p<0,05). Среди пациентов с РЖ факт курения установлен у 45% респондентов, при этом, доля мужчин была в 3 раза больше, чем женщин. Среди курящих мужчин 36% являлись «злостными курильщиками», 23% имели статус «безусловных курильщиков», в то время как все опрошенные женщины не имели значимого для прогноза индекса курения (табл. 4). В результате корреляционного анализа была выявлена слабая взаимосвязь между мужским полом и количеством выкуренных сигарет, стажем курения и индексом пачко- лет (r=0,51, p<0,05). У женщин между возрастом и количеством выкуренных сигарет (r=-0,52, p<0,05). При проведении факторного анализа нами было выявлено, что на риск развития РЖ у мужчин влияет стаж курения (r=0,76) и количество выкуренных сигарет (r=0,71). У женщин нами были выявлены две группы факторов. К первой – относится количество выкуренных сигарет (r=-0,88), стаж курения (r=-0,76), индекс пачко-лет (r=-0,91). Ко второй группе факторов относится ИМТ больше 25  кг/м2 до манифестации заболевания (r=0,79). \n",
            "\n",
            " \n",
            "[[6, 5572, 212, 42035, 6993, 1915, 2, 1925, 3, 2643, 924, 868, 5079, 4357, 3101, 702, 21804, 2, 2, 200, 306, 1972, 635, 6993, 4856, 2, 586, 3268, 3, 21805, 1957, 2, 1023, 2898, 626, 18026, 727, 41, 1073, 282, 3001, 78, 1004, 2, 654, 100, 52, 66, 4, 8236, 967, 2, 8057, 5, 78, 3, 5, 17, 4, 2, 18027, 5, 78, 3, 5, 35, 43, 1348, 8, 306, 25786, 2, 12459, 5, 2, 15374, 5, 5861, 1177, 582, 59, 2035, 66, 2, 399, 5, 1599, 635, 2495, 19, 31595, 904, 4, 19123, 23623, 3, 20390, 2, 1865, 5007, 51369, 573, 139, 4, 922, 19, 38, 3, 2, 586, 41, 609, 8236, 35975, 157, 159, 3, 267, 3733, 800, 1445, 13423, 1098, 4, 20391, 1982, 28277, 3, 69188, 1508, 53, 365, 2, 2644, 2224, 10815, 6083, 93, 36, 550, 750, 5, 378, 51370, 8440, 383, 8237, 25788, 25789, 33, 16997, 4, 663, 2, 108, 4358, 1193, 1073, 23, 6084, 7485, 4357, 69190, 12, 1409, 51371, 9097, 86, 19124, 177, 573, 139, 7164, 177, 3692, 10, 10465, 4077, 4, 663, 4358, 1193, 3, 2, 316, 4, 6720, 3, 35976, 5, 378, 39, 3581, 6085, 10, 686, 973, 1260, 3, 18028, 3237, 5160, 14, 546, 42036, 313, 10, 4, 414, 1579, 2571, 8, 23625, 7166, 2, 174, 2255, 4289, 1579, 1489, 1579, 12460, 13, 13, 414, 381, 167, 11968, 8, 1866, 17, 69192, 8, 832, 85, 12461, 2, 11969, 1290, 5, 1191, 23626, 4123, 1678, 2, 316, 4, 603, 1820, 25, 3, 3269, 10, 2, 53, 4777, 18030, 1938, 874, 782, 4, 84, 756, 1939, 526, 474, 4, 520, 4704, 3652, 5407, 2361, 13424, 3, 16138, 10467, 12, 113, 536, 51, 467, 10, 1186, 2416, 61, 865, 8, 1340, 70, 536, 55, 7866, 7, 12, 483, 2434, 148, 139, 3, 601, 79, 39, 6443, 2, 267, 1073, 635, 1186, 2379, 1154, 25, 31, 6568, 311, 3164, 3, 61, 4929, 3734, 1073, 635, 2, 328, 11547, 19, 767, 9604, 13423, 824, 3789, 51373, 292, 49, 8236, 497, 7, 10816, 1335, 5, 20393, 6, 121, 2224, 272, 2088, 2, 544, 28278, 25, 1509, 670, 492, 7, 872, 25791, 367, 78, 6, 66, 51374, 78, 6, 66, 367, 1721, 2, 25792, 78, 6, 66, 3075, 78, 6, 66, 8, 69, 732, 9, 6, 78, 292, 4857, 16998, 52, 6, 733, 9098, 384, 3101, 26, 1291, 3, 6086, 35977, 31598, 59, 8, 101, 4, 4930, 2, 20392, 162, 15375, 11547, 3788, 59, 78, 3, 66, 11, 1256, 17, 8236, 14005, 141, 2, 100, 6, 9, 3951, 2, 119, 6721, 4, 10817, 7695, 6, 52, 6, 332, 15, 2097, 31599, 74, 165, 26, 70, 1591, 3076, 344, 19, 6, 78, 8, 101, 4, 4930, 206, 31600, 1758, 7322, 1444, 3, 15376, 105, 35978, 1024, 6, 78, 3, 66, 1402, 5161, 8641, 1657, 4, 6569, 8642, 284, 13, 21806, 2805, 551, 1168, 14006, 148, 3, 31601, 3, 517, 11170, 88, 9605, 3, 8848, 1199, 13, 42041, 1024, 5, 1081, 1342, 266, 8058, 1321, 3788, 5, 322, 5317, 127, 284, 13, 3514, 21807, 2, 20393, 4, 965, 6851, 13, 25793, 12462, 21808, 23623, 5008, 13423, 34, 1663, 110, 775, 11970, 16998, 991, 19125, 21809, 3, 35979, 1814, 2, 267, 8236, 6318, 22, 11548, 763, 635, 370, 25794, 39, 12937, 148, 3, 117, 4, 16998, 59, 10, 4, 8236, 2, 20392, 20394, 6722, 70, 620, 266, 1759, 2, 185, 14, 90, 49, 2045, 3, 35980, 6723, 2, 479, 4, 3, 69194, 51376, 5862, 3616, 12463, 3, 69195, 95, 15377, 5162, 1282, 12, 49, 1073, 1973, 8241, 2, 100, 2211, 957, 49, 8236, 3, 34, 69196, 292, 958, 14, 840, 3, 1025, 6724, 1579, 2124, 67, 2448, 4, 905, 25, 178, 2, 1973, 2, 100, 141, 967, 59, 52, 59, 66, 4, 218, 396, 690, 1567, 2, 11172, 51377, 21810, 3, 15378, 1791, 2303, 9606, 3, 1815, 17, 22, 1842, 31, 425, 4, 1386, 139, 49, 8236, 9, 292, 49, 4, 15379, 27, 51377, 21810, 2, 314, 5759, 168, 6853, 232, 42042, 1482, 35981, 768, 381, 9607, 731, 139, 555, 4, 167, 6994, 125, 1800, 3, 3833, 70, 3653, 3, 23628, 148, 20395, 25795, 3, 1489, 218, 42043, 364, 6, 919, 4, 1607, 14, 729, 23, 1387, 6, 128, 26, 11549, 70, 5864, 4, 833, 1204, 360, 7486, 13, 19126, 3101, 733, 9098, 9, 21812, 284, 13, 645, 221, 8849, 3, 1712, 90, 69198, 2, 1322, 639, 1664, 1474, 906, 21813, 856, 978, 563, 16140, 11, 85, 733, 115, 68, 211, 1614, 4, 468, 685, 3, 2883, 12939, 5, 1567, 51379, 8236, 59, 78, 8, 101, 4, 3, 1354, 5318, 3791, 12, 43, 948, 124, 553, 148, 139, 8236, 360, 10147, 5492, 6, 78, 3, 75, 4705, 2, 116, 550, 2, 2449, 10815, 1329, 41, 8236, 15, 128, 6, 66, 17, 6, 78, 2, 1177, 8236, 6, 78, 20396, 2, 17, 22, 1957, 36, 3053, 12, 113, 159, 3001, 8236, 2, 69199, 5760, 10, 6445, 5, 29, 8, 6570, 16142, 14007, 2691, 4, 8, 923, 2899, 14676, 18, 20, 28, 1047, 2, 10819, 7, 258, 4, 51380, 18, 8236, 16, 28, 9313, 145, 2, 169, 22, 9, 6, 192, 2191, 3, 1100, 815, 10148, 129, 306, 8236, 3, 5865, 4, 697, 159, 2, 21, 28, 3001, 78, 2, 100, 52, 282, 78, 4, 8236, 20, 28, 1736, 2, 17, 282, 18, 66, 2, 100, 8, 101, 4, 51380, 10, 2, 140, 2, 140, 28, 1177, 192, 1100, 815, 2, 389, 52, 776, 26, 11971, 783, 18, 78, 14676, 10, 8236, 6, 192, 951, 10149, 51381, 2, 116, 74, 2036, 4, 9, 199, 1361, 108, 6, 78, 2, 20392, 5, 28, 52, 6, 66, 641, 1527, 3270, 23, 79, 13425, 4, 26, 1225, 10, 4, 8236, 249, 25796, 11550, 8, 3580, 6, 698, 10, 16, 6087, 8236, 2, 630, 421, 24, 215, 67, 2293, 19128, 7486, 13, 7, 50, 282, 78, 2, 4858, 31, 87, 318, 52, 66, 670, 162, 15375, 2, 465, 74, 51382, 4706, 4, 6995, 635, 71, 3, 4359, 635, 71, 3, 59, 10, 10465, 4077, 4, 1406, 5866, 1489, 3140, 16998, 4, 11551, 78, 6, 59, 66, 6, 6, 4, 25797, 22, 24, 9099, 6, 10, 11548, 763, 4, 2, 59, 10, 4, 25797, 92, 282, 66, 31, 87, 318, 52, 78, 1813, 114, 11, 51383, 33, 445, 6, 128, 266, 9100, 35983, 8242, 1309, 216, 2, 2645, 6, 59, 128, 87, 318, 141, 1135, 592, 7, 498, 3582, 160, 6, 66, 4, 8236, 44, 1509, 2551, 31602, 1194, 51, 25797, 3, 169, 22, 9608, 269, 815, 5, 604, 573, 139, 1379, 4, 95, 16, 6087, 8236, 59, 10, 10465, 162, 381, 167, 23, 1592, 161, 1204, 2, 1569, 3, 1232, 851, 6, 1204, 6, 58, 10, 249, 8243, 2362, 167, 16, 59, 10, 4, 6, 78, 87, 318, 141, 3953, 8643, 2362, 167, 52, 1411, 8, 101, 4, 4930, 7, 498, 1984, 160, 9, 6, 78, 51, 16, 6087, 3, 513, 3580, 6, 415, 4707, 2363, 1402, 6, 66, 1204, 1527, 4502, 51384, 1194, 4, 20397, 635, 3, 513, 59, 10, 4, 8236, 838, 1579, 1958, 6, 7, 494, 78, 44, 2, 100, 52, 59, 2668, 78, 1159, 249, 1489, 2, 88, 37, 19, 85, 16999, 592, 11, 249, 2450, 12, 1877, 532, 1579, 2, 262, 3582, 160, 44, 415, 4707, 1402, 51, 10470, 8851, 3, 1600, 35985, 5493, 1579, 3, 4632, 28, 6, 66, 51, 1407, 3, 1600, 35985, 7166, 7, 498, 31604, 160, 134, 31, 9, 5, 292, 49, 8236, 6, 78, 1645, 4289, 1579, 3, 130, 35985, 7166, 6, 66, 134, 24, 246, 845, 29, 13, 1556, 130, 35985, 7166, 4289, 1579, 414, 2451, 21, 148, 1556, 1204, 441, 16, 6087, 48]]\n",
            "в статье представлены результаты оценки репродуктивного тонуса и качества жизни пациентов с артериальнои гипертензиеи и студенток в результате ретроспективного исследования послужили мужчины трудоспособного возраста за больными с до работы с болезнью сочетанным среди пациентов с хроническим стадиеи патологии . цель исследования оценить влияние манифестации болевого синдрома в норму были был проведен анализ полученных данных о клиническои связи с аннексином заболевания . по улучшении и работы и группы по положительную развитие sf . выявлена достоверная разница в отношении решения кж показали что среди пациентов . однако по распространенности пограничнои обходнои пищевода или стандартные анализ иммунологических и стандартные методы . в сыворотке крови больных с начальными проявлениями заболевания . высокии риск развития коагулограммы показали что у каждого к основанием для оценки с лица отражены изменения имеет диагностическую гендерные такие особенности ритмограмм детеи с интоксикации . в сельскои местности тяжелои степени дистресса среди\n"
          ]
        }
      ]
    },
    {
      "cell_type": "code",
      "metadata": {
        "colab": {
          "base_uri": "https://localhost:8080/",
          "height": 146
        },
        "id": "ohKZfEyHkogA",
        "outputId": "8efe081d-62c4-4a63-88eb-f051b4a31de8"
      },
      "source": [
        "get_data(files[2])['abstract'].values[0]"
      ],
      "execution_count": 44,
      "outputs": [
        {
          "output_type": "execute_result",
          "data": {
            "application/vnd.google.colaboratory.intrinsic+json": {
              "type": "string"
            },
            "text/plain": [
              "'Феномен полового диморфизма в случае заболеваемости раком желудка отчетливо выражен в большинстве этнических и географических популяций. Ежегодно в мире регистрируется около 1 миллиона новых случаев рака желудка, число заболевших мужчин почти в два раза больше, чем женщин. Существенные различия в частоте патологии детерминированы особенностями пищевого поведения и половыми гормонами, которые по-разному модулируют иммунный ответ у мужчин и женщин. Взаимосвязь прогестерона Р4, эстрадиола Е2, тестостерона Т4 с соответствующими рецепторами приводит к запуску механизма активации генной экспрессии цитокинов, ростовых факторов и белков, активирующих макрофаги, нейтрофилы, Т- и В-лимфоциты. Если эстрадиол активирует, то прогестерон и тестостерон относятся к факторам, ингибирующим иммунный ответ на ранних стадиях инфекции. Инфекционные заболевания, в том числе, ассоциированные с Helicobacter pylori, тяжелее протекают у мужчин, чем у женщин. Желудочный канцерогенез, как многофакторный и длительный многоступенчатый процесс, связан с окислительным стрессом, хроническим воспалением, цитотоксическим и генотоксическим влиянием. В большинстве случаев развитию рака желудка кишечного типа сопутствует увеличение возраста и развитие атрофии слизистой оболочки желудка дистальной локализации. Свой вклад в развитие заболевания вносят экзогенные факторы канцерогенеза, обусловленные образом жизни и стилем питания. Развитие технологий в области геномики рака желудка изменило парадигму классификации, наряду с гистопатологическими характеристиками рака, проводится анализ полного генома, а в перспективе – эпигенома, метаболома, протеома, транскриптома. Такой объем информации позволяет моделировать биологическое поведение опухоли на основании её уникального профиля, путем таргетного воздействия. Вместе с тем, выживаемость конкретного пациента зависит от стадии распространения опухолевого процесса в момент диагностики. Уточнение роли и степени экспрессии конвенционных факторов риска рака желудка, а также определенных синтропий, с учетом гендерных особенностей, соответствует таким ключевым элементам медицины, как выявление предрасположенности к развитию заболевания, превенция и персонализация. Ключевые слова: половой диморфизм, экзогенные и эндогенные факторы риска, рак желудка, H. pylori\\n\\n'"
            ]
          },
          "metadata": {},
          "execution_count": 44
        }
      ]
    },
    {
      "cell_type": "code",
      "metadata": {
        "colab": {
          "base_uri": "https://localhost:8080/",
          "height": 81
        },
        "id": "KyFQc37rkspq",
        "outputId": "e4a0c74e-50fc-47ec-db7f-ad02bc83e75c"
      },
      "source": [
        "get_data(files[2])"
      ],
      "execution_count": 45,
      "outputs": [
        {
          "output_type": "execute_result",
          "data": {
            "text/html": [
              "<div>\n",
              "<style scoped>\n",
              "    .dataframe tbody tr th:only-of-type {\n",
              "        vertical-align: middle;\n",
              "    }\n",
              "\n",
              "    .dataframe tbody tr th {\n",
              "        vertical-align: top;\n",
              "    }\n",
              "\n",
              "    .dataframe thead th {\n",
              "        text-align: right;\n",
              "    }\n",
              "</style>\n",
              "<table border=\"1\" class=\"dataframe\">\n",
              "  <thead>\n",
              "    <tr style=\"text-align: right;\">\n",
              "      <th></th>\n",
              "      <th>abstract</th>\n",
              "      <th>text</th>\n",
              "    </tr>\n",
              "  </thead>\n",
              "  <tbody>\n",
              "    <tr>\n",
              "      <th>0</th>\n",
              "      <td>Феномен полового диморфизма в случае заболевае...</td>\n",
              "      <td>У современного человека половой диморфизм отче...</td>\n",
              "    </tr>\n",
              "  </tbody>\n",
              "</table>\n",
              "</div>"
            ],
            "text/plain": [
              "                                            abstract                                               text\n",
              "0  Феномен полового диморфизма в случае заболевае...  У современного человека половой диморфизм отче..."
            ]
          },
          "metadata": {},
          "execution_count": 45
        }
      ]
    },
    {
      "cell_type": "code",
      "metadata": {
        "id": "rzJPqvlQk1iF"
      },
      "source": [
        ""
      ],
      "execution_count": null,
      "outputs": []
    }
  ]
}