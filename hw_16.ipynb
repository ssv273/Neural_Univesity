{
  "nbformat": 4,
  "nbformat_minor": 0,
  "metadata": {
    "colab": {
      "name": "Untitled49.ipynb",
      "provenance": [],
      "collapsed_sections": [],
      "machine_shape": "hm",
      "mount_file_id": "14Abe_QbLsuH36F01T9UyA6tQRzbeJTGM",
      "authorship_tag": "ABX9TyOvetS8O7ZBV7PaLPxZ32y9",
      "include_colab_link": true
    },
    "kernelspec": {
      "name": "python3",
      "display_name": "Python 3"
    },
    "language_info": {
      "name": "python"
    },
    "accelerator": "GPU"
  },
  "cells": [
    {
      "cell_type": "markdown",
      "metadata": {
        "id": "view-in-github",
        "colab_type": "text"
      },
      "source": [
        "<a href=\"https://colab.research.google.com/github/ssv273/Neural_Univesity/blob/main/hw_16.ipynb\" target=\"_parent\"><img src=\"https://colab.research.google.com/assets/colab-badge.svg\" alt=\"Open In Colab\"/></a>"
      ]
    },
    {
      "cell_type": "code",
      "metadata": {
        "colab": {
          "base_uri": "https://localhost:8080/"
        },
        "id": "93unFixOVDJz",
        "outputId": "47e0537b-f136-43f6-eb98-0b5306f546ef"
      },
      "source": [
        "# #Сначала нам нужно загрузить несолько файлов для даньшейшего создания среды. Это делается с помощью следующего кода.\n",
        "\n",
        "! wget http://www.atarimania.com/roms/Roms.rar\n",
        "! mkdir /content/ROM/\n",
        "! unrar e /content/Roms.rar /content/ROM/\n",
        "! python -m atari_py.import_roms /content/ROM/"
      ],
      "execution_count": 1,
      "outputs": [
        {
          "output_type": "stream",
          "name": "stdout",
          "text": [
            "--2021-09-29 07:19:26--  http://www.atarimania.com/roms/Roms.rar\n",
            "Resolving www.atarimania.com (www.atarimania.com)... 195.154.81.199\n",
            "Connecting to www.atarimania.com (www.atarimania.com)|195.154.81.199|:80... connected.\n",
            "HTTP request sent, awaiting response... 200 OK\n",
            "Length: 11128004 (11M) [application/x-rar-compressed]\n",
            "Saving to: ‘Roms.rar’\n",
            "\n",
            "Roms.rar            100%[===================>]  10.61M   735KB/s    in 15s     \n",
            "\n",
            "2021-09-29 07:19:41 (710 KB/s) - ‘Roms.rar’ saved [11128004/11128004]\n",
            "\n",
            "\n",
            "UNRAR 5.50 freeware      Copyright (c) 1993-2017 Alexander Roshal\n",
            "\n",
            "\n",
            "Extracting from /content/Roms.rar\n",
            "\n",
            "Extracting  /content/ROM/HC ROMS.zip                                     \b\b\b\b 36%\b\b\b\b\b  OK \n",
            "Extracting  /content/ROM/ROMS.zip                                        \b\b\b\b 74%\b\b\b\b 99%\b\b\b\b\b  OK \n",
            "All OK\n",
            "copying adventure.bin from HC ROMS/BY ALPHABET (PAL)/A-G/Adventure (PAL).bin to /usr/local/lib/python3.7/dist-packages/atari_py/atari_roms/adventure.bin\n",
            "copying air_raid.bin from HC ROMS/BY ALPHABET (PAL)/A-G/Air Raid (PAL).bin to /usr/local/lib/python3.7/dist-packages/atari_py/atari_roms/air_raid.bin\n",
            "copying alien.bin from HC ROMS/BY ALPHABET (PAL)/A-G/REMAINING NTSC ORIGINALS/Alien.bin to /usr/local/lib/python3.7/dist-packages/atari_py/atari_roms/alien.bin\n",
            "copying crazy_climber.bin from HC ROMS/BY ALPHABET (PAL)/A-G/REMAINING NTSC ORIGINALS/Crazy Climber.bin to /usr/local/lib/python3.7/dist-packages/atari_py/atari_roms/crazy_climber.bin\n",
            "copying elevator_action.bin from HC ROMS/BY ALPHABET (PAL)/A-G/REMAINING NTSC ORIGINALS/Elevator Action (Prototype).bin to /usr/local/lib/python3.7/dist-packages/atari_py/atari_roms/elevator_action.bin\n",
            "copying gravitar.bin from HC ROMS/BY ALPHABET (PAL)/A-G/REMAINING NTSC ORIGINALS/Gravitar.bin to /usr/local/lib/python3.7/dist-packages/atari_py/atari_roms/gravitar.bin\n",
            "copying keystone_kapers.bin from HC ROMS/BY ALPHABET (PAL)/H-R/Keystone Kapers (PAL).bin to /usr/local/lib/python3.7/dist-packages/atari_py/atari_roms/keystone_kapers.bin\n",
            "copying king_kong.bin from HC ROMS/BY ALPHABET (PAL)/H-R/King Kong (PAL).bin to /usr/local/lib/python3.7/dist-packages/atari_py/atari_roms/king_kong.bin\n",
            "copying laser_gates.bin from HC ROMS/BY ALPHABET (PAL)/H-R/Laser Gates (PAL).bin to /usr/local/lib/python3.7/dist-packages/atari_py/atari_roms/laser_gates.bin\n",
            "copying mr_do.bin from HC ROMS/BY ALPHABET (PAL)/H-R/Mr. Do! (PAL).bin to /usr/local/lib/python3.7/dist-packages/atari_py/atari_roms/mr_do.bin\n",
            "copying pacman.bin from HC ROMS/BY ALPHABET (PAL)/H-R/Pac-Man (PAL).bin to /usr/local/lib/python3.7/dist-packages/atari_py/atari_roms/pacman.bin\n",
            "copying jamesbond.bin from HC ROMS/BY ALPHABET (PAL)/H-R/REMAINING NTSC ORIGINALS/James Bond 007.bin to /usr/local/lib/python3.7/dist-packages/atari_py/atari_roms/jamesbond.bin\n",
            "copying koolaid.bin from HC ROMS/BY ALPHABET (PAL)/H-R/REMAINING NTSC ORIGINALS/Kool-Aid Man.bin to /usr/local/lib/python3.7/dist-packages/atari_py/atari_roms/koolaid.bin\n",
            "copying krull.bin from HC ROMS/BY ALPHABET (PAL)/H-R/REMAINING NTSC ORIGINALS/Krull.bin to /usr/local/lib/python3.7/dist-packages/atari_py/atari_roms/krull.bin\n",
            "copying montezuma_revenge.bin from HC ROMS/BY ALPHABET (PAL)/H-R/REMAINING NTSC ORIGINALS/Montezuma's Revenge - Featuring Panama Joe.bin to /usr/local/lib/python3.7/dist-packages/atari_py/atari_roms/montezuma_revenge.bin\n",
            "copying star_gunner.bin from HC ROMS/BY ALPHABET (PAL)/S-Z/REMAINING NTSC ORIGINALS/Stargunner.bin to /usr/local/lib/python3.7/dist-packages/atari_py/atari_roms/star_gunner.bin\n",
            "copying time_pilot.bin from HC ROMS/BY ALPHABET (PAL)/S-Z/REMAINING NTSC ORIGINALS/Time Pilot.bin to /usr/local/lib/python3.7/dist-packages/atari_py/atari_roms/time_pilot.bin\n",
            "copying up_n_down.bin from HC ROMS/BY ALPHABET (PAL)/S-Z/REMAINING NTSC ORIGINALS/Up 'n Down.bin to /usr/local/lib/python3.7/dist-packages/atari_py/atari_roms/up_n_down.bin\n",
            "copying sir_lancelot.bin from HC ROMS/BY ALPHABET (PAL)/S-Z/Sir Lancelot (PAL).bin to /usr/local/lib/python3.7/dist-packages/atari_py/atari_roms/sir_lancelot.bin\n",
            "copying amidar.bin from HC ROMS/BY ALPHABET/A-G/Amidar.bin to /usr/local/lib/python3.7/dist-packages/atari_py/atari_roms/amidar.bin\n",
            "copying asteroids.bin from HC ROMS/BY ALPHABET/A-G/Asteroids [no copyright].bin to /usr/local/lib/python3.7/dist-packages/atari_py/atari_roms/asteroids.bin\n",
            "copying atlantis.bin from HC ROMS/BY ALPHABET/A-G/Atlantis.bin to /usr/local/lib/python3.7/dist-packages/atari_py/atari_roms/atlantis.bin\n",
            "copying bank_heist.bin from HC ROMS/BY ALPHABET/A-G/Bank Heist.bin to /usr/local/lib/python3.7/dist-packages/atari_py/atari_roms/bank_heist.bin\n",
            "copying battle_zone.bin from HC ROMS/BY ALPHABET/A-G/Battlezone.bin to /usr/local/lib/python3.7/dist-packages/atari_py/atari_roms/battle_zone.bin\n",
            "copying beam_rider.bin from HC ROMS/BY ALPHABET/A-G/Beamrider.bin to /usr/local/lib/python3.7/dist-packages/atari_py/atari_roms/beam_rider.bin\n",
            "copying berzerk.bin from HC ROMS/BY ALPHABET/A-G/Berzerk.bin to /usr/local/lib/python3.7/dist-packages/atari_py/atari_roms/berzerk.bin\n",
            "copying bowling.bin from HC ROMS/BY ALPHABET/A-G/Bowling.bin to /usr/local/lib/python3.7/dist-packages/atari_py/atari_roms/bowling.bin\n",
            "copying boxing.bin from HC ROMS/BY ALPHABET/A-G/Boxing.bin to /usr/local/lib/python3.7/dist-packages/atari_py/atari_roms/boxing.bin\n",
            "copying breakout.bin from HC ROMS/BY ALPHABET/A-G/Breakout - Breakaway IV.bin to /usr/local/lib/python3.7/dist-packages/atari_py/atari_roms/breakout.bin\n",
            "copying carnival.bin from HC ROMS/BY ALPHABET/A-G/Carnival.bin to /usr/local/lib/python3.7/dist-packages/atari_py/atari_roms/carnival.bin\n",
            "copying centipede.bin from HC ROMS/BY ALPHABET/A-G/Centipede.bin to /usr/local/lib/python3.7/dist-packages/atari_py/atari_roms/centipede.bin\n",
            "copying chopper_command.bin from HC ROMS/BY ALPHABET/A-G/Chopper Command.bin to /usr/local/lib/python3.7/dist-packages/atari_py/atari_roms/chopper_command.bin\n",
            "copying defender.bin from HC ROMS/BY ALPHABET/A-G/Defender.bin to /usr/local/lib/python3.7/dist-packages/atari_py/atari_roms/defender.bin\n",
            "copying demon_attack.bin from HC ROMS/BY ALPHABET/A-G/Demon Attack.bin to /usr/local/lib/python3.7/dist-packages/atari_py/atari_roms/demon_attack.bin\n",
            "copying donkey_kong.bin from HC ROMS/BY ALPHABET/A-G/Donkey Kong.bin to /usr/local/lib/python3.7/dist-packages/atari_py/atari_roms/donkey_kong.bin\n",
            "copying double_dunk.bin from HC ROMS/BY ALPHABET/A-G/Double Dunk.bin to /usr/local/lib/python3.7/dist-packages/atari_py/atari_roms/double_dunk.bin\n",
            "copying enduro.bin from HC ROMS/BY ALPHABET/A-G/Enduro.bin to /usr/local/lib/python3.7/dist-packages/atari_py/atari_roms/enduro.bin\n",
            "copying fishing_derby.bin from HC ROMS/BY ALPHABET/A-G/Fishing Derby.bin to /usr/local/lib/python3.7/dist-packages/atari_py/atari_roms/fishing_derby.bin\n",
            "copying freeway.bin from HC ROMS/BY ALPHABET/A-G/Freeway.bin to /usr/local/lib/python3.7/dist-packages/atari_py/atari_roms/freeway.bin\n",
            "copying frogger.bin from HC ROMS/BY ALPHABET/A-G/Frogger.bin to /usr/local/lib/python3.7/dist-packages/atari_py/atari_roms/frogger.bin\n",
            "copying frostbite.bin from HC ROMS/BY ALPHABET/A-G/Frostbite.bin to /usr/local/lib/python3.7/dist-packages/atari_py/atari_roms/frostbite.bin\n",
            "copying galaxian.bin from HC ROMS/BY ALPHABET/A-G/Galaxian.bin to /usr/local/lib/python3.7/dist-packages/atari_py/atari_roms/galaxian.bin\n",
            "copying gopher.bin from HC ROMS/BY ALPHABET/A-G/Gopher.bin to /usr/local/lib/python3.7/dist-packages/atari_py/atari_roms/gopher.bin\n",
            "copying hero.bin from HC ROMS/BY ALPHABET/H-R/H.E.R.O..bin to /usr/local/lib/python3.7/dist-packages/atari_py/atari_roms/hero.bin\n",
            "copying ice_hockey.bin from HC ROMS/BY ALPHABET/H-R/Ice Hockey.bin to /usr/local/lib/python3.7/dist-packages/atari_py/atari_roms/ice_hockey.bin\n",
            "copying journey_escape.bin from HC ROMS/BY ALPHABET/H-R/Journey Escape.bin to /usr/local/lib/python3.7/dist-packages/atari_py/atari_roms/journey_escape.bin\n",
            "copying kaboom.bin from HC ROMS/BY ALPHABET/H-R/Kaboom!.bin to /usr/local/lib/python3.7/dist-packages/atari_py/atari_roms/kaboom.bin\n",
            "copying kangaroo.bin from HC ROMS/BY ALPHABET/H-R/Kangaroo.bin to /usr/local/lib/python3.7/dist-packages/atari_py/atari_roms/kangaroo.bin\n",
            "copying kung_fu_master.bin from HC ROMS/BY ALPHABET/H-R/Kung-Fu Master.bin to /usr/local/lib/python3.7/dist-packages/atari_py/atari_roms/kung_fu_master.bin\n",
            "copying lost_luggage.bin from HC ROMS/BY ALPHABET/H-R/Lost Luggage [no opening scene].bin to /usr/local/lib/python3.7/dist-packages/atari_py/atari_roms/lost_luggage.bin\n",
            "copying ms_pacman.bin from HC ROMS/BY ALPHABET/H-R/Ms. Pac-Man.bin to /usr/local/lib/python3.7/dist-packages/atari_py/atari_roms/ms_pacman.bin\n",
            "copying name_this_game.bin from HC ROMS/BY ALPHABET/H-R/Name This Game.bin to /usr/local/lib/python3.7/dist-packages/atari_py/atari_roms/name_this_game.bin\n",
            "copying phoenix.bin from HC ROMS/BY ALPHABET/H-R/Phoenix.bin to /usr/local/lib/python3.7/dist-packages/atari_py/atari_roms/phoenix.bin\n",
            "copying pitfall.bin from HC ROMS/BY ALPHABET/H-R/Pitfall! - Pitfall Harry's Jungle Adventure.bin to /usr/local/lib/python3.7/dist-packages/atari_py/atari_roms/pitfall.bin\n",
            "copying pooyan.bin from HC ROMS/BY ALPHABET/H-R/Pooyan.bin to /usr/local/lib/python3.7/dist-packages/atari_py/atari_roms/pooyan.bin\n",
            "copying private_eye.bin from HC ROMS/BY ALPHABET/H-R/Private Eye.bin to /usr/local/lib/python3.7/dist-packages/atari_py/atari_roms/private_eye.bin\n",
            "copying qbert.bin from HC ROMS/BY ALPHABET/H-R/Q-bert.bin to /usr/local/lib/python3.7/dist-packages/atari_py/atari_roms/qbert.bin\n",
            "copying riverraid.bin from HC ROMS/BY ALPHABET/H-R/River Raid.bin to /usr/local/lib/python3.7/dist-packages/atari_py/atari_roms/riverraid.bin\n",
            "copying road_runner.bin from patched version of HC ROMS/BY ALPHABET/H-R/Road Runner.bin to /usr/local/lib/python3.7/dist-packages/atari_py/atari_roms/road_runner.bin\n",
            "copying robotank.bin from HC ROMS/BY ALPHABET/H-R/Robot Tank.bin to /usr/local/lib/python3.7/dist-packages/atari_py/atari_roms/robotank.bin\n",
            "copying seaquest.bin from HC ROMS/BY ALPHABET/S-Z/Seaquest.bin to /usr/local/lib/python3.7/dist-packages/atari_py/atari_roms/seaquest.bin\n",
            "copying skiing.bin from HC ROMS/BY ALPHABET/S-Z/Skiing.bin to /usr/local/lib/python3.7/dist-packages/atari_py/atari_roms/skiing.bin\n",
            "copying solaris.bin from HC ROMS/BY ALPHABET/S-Z/Solaris.bin to /usr/local/lib/python3.7/dist-packages/atari_py/atari_roms/solaris.bin\n",
            "copying space_invaders.bin from HC ROMS/BY ALPHABET/S-Z/Space Invaders.bin to /usr/local/lib/python3.7/dist-packages/atari_py/atari_roms/space_invaders.bin\n",
            "copying surround.bin from HC ROMS/BY ALPHABET/S-Z/Surround - Chase.bin to /usr/local/lib/python3.7/dist-packages/atari_py/atari_roms/surround.bin\n",
            "copying tennis.bin from HC ROMS/BY ALPHABET/S-Z/Tennis.bin to /usr/local/lib/python3.7/dist-packages/atari_py/atari_roms/tennis.bin\n",
            "copying trondead.bin from HC ROMS/BY ALPHABET/S-Z/TRON - Deadly Discs.bin to /usr/local/lib/python3.7/dist-packages/atari_py/atari_roms/trondead.bin\n",
            "copying tutankham.bin from HC ROMS/BY ALPHABET/S-Z/Tutankham.bin to /usr/local/lib/python3.7/dist-packages/atari_py/atari_roms/tutankham.bin\n",
            "copying venture.bin from HC ROMS/BY ALPHABET/S-Z/Venture.bin to /usr/local/lib/python3.7/dist-packages/atari_py/atari_roms/venture.bin\n",
            "copying pong.bin from HC ROMS/BY ALPHABET/S-Z/Video Olympics - Pong Sports.bin to /usr/local/lib/python3.7/dist-packages/atari_py/atari_roms/pong.bin\n",
            "copying video_pinball.bin from HC ROMS/BY ALPHABET/S-Z/Video Pinball - Arcade Pinball.bin to /usr/local/lib/python3.7/dist-packages/atari_py/atari_roms/video_pinball.bin\n",
            "copying wizard_of_wor.bin from HC ROMS/BY ALPHABET/S-Z/Wizard of Wor.bin to /usr/local/lib/python3.7/dist-packages/atari_py/atari_roms/wizard_of_wor.bin\n",
            "copying yars_revenge.bin from HC ROMS/BY ALPHABET/S-Z/Yars' Revenge.bin to /usr/local/lib/python3.7/dist-packages/atari_py/atari_roms/yars_revenge.bin\n",
            "copying zaxxon.bin from HC ROMS/BY ALPHABET/S-Z/Zaxxon.bin to /usr/local/lib/python3.7/dist-packages/atari_py/atari_roms/zaxxon.bin\n",
            "copying assault.bin from HC ROMS/NTSC VERSIONS OF PAL ORIGINALS/Assault (AKA Sky Alien) (1983) (Bomb - Onbase) (CA281).bin to /usr/local/lib/python3.7/dist-packages/atari_py/atari_roms/assault.bin\n",
            "copying asterix.bin from ROMS/Asterix (AKA Taz) (07-27-1983) (Atari, Jerome Domurat, Steve Woita) (CX2696) (Prototype).bin to /usr/local/lib/python3.7/dist-packages/atari_py/atari_roms/asterix.bin\n"
          ]
        }
      ]
    },
    {
      "cell_type": "code",
      "metadata": {
        "id": "t0Vu1D-YVJRR"
      },
      "source": [
        "import gym         # загружаем \"тренажер\" Gym из платформы OpenAi, предоставляющий среду для работы над обучением с подкреплением \n",
        "import numpy as np # импортируем библиотеку для работы с массивами данных\n",
        "import tensorflow.keras as keras      # импортируем нейросетевую библиотеку \n",
        "from tensorflow.keras.models import Model, load_model # из кераса подгружаем абстрактный класс базовой модели, метод загрузки предобученной модели\n",
        "from tensorflow.keras.layers import Dense, Flatten, Input, Lambda, Conv2D, MaxPooling2D, Reshape, Multiply # из кераса загружаем необходимые слои для нейросети\n",
        "from tensorflow.keras.optimizers import RMSprop, Adam # из кераса загружаем выбранный оптимизатор\n",
        "import time                                # модуль для операций со временными характеристиками\n",
        "import matplotlib.pyplot as plt            # импортируем библиотеку для визуализации данных\n",
        "import tensorflow as tf                    #импортируем весь модель тензорфлоу\n",
        "import random\n",
        " \n",
        "# \"магическая\" команда python для запуска библиотеки в ноутбуке\n",
        "%matplotlib inline"
      ],
      "execution_count": 2,
      "outputs": []
    },
    {
      "cell_type": "code",
      "metadata": {
        "id": "JC_h3hGuVX4i"
      },
      "source": [
        "tf.compat.v1.disable_eager_execution() #отключаем eager_execution для избежания ошибки (позволяет умножать тензоры для вычесление ошибки позже)"
      ],
      "execution_count": 3,
      "outputs": []
    },
    {
      "cell_type": "code",
      "metadata": {
        "colab": {
          "base_uri": "https://localhost:8080/"
        },
        "id": "Ac6jsNamVbnS",
        "outputId": "5a40bd24-bbb6-4e40-b627-fd6013610ba2"
      },
      "source": [
        "env = gym.make('Breakout-v0') # создаем среду игры Понг средствами OpenAI Gym('env' = environment)\n",
        "observation = env.reset() # задаем начальное состояние среды, которое наблюдает агент\n",
        "observation.shape         # взглянем на форму состояния среды\n",
        "                          # увидим, что это изображение размером 210*160 с тремя RGB каналами"
      ],
      "execution_count": 10,
      "outputs": [
        {
          "output_type": "execute_result",
          "data": {
            "text/plain": [
              "(210, 160, 3)"
            ]
          },
          "metadata": {},
          "execution_count": 10
        }
      ]
    },
    {
      "cell_type": "code",
      "metadata": {
        "colab": {
          "base_uri": "https://localhost:8080/",
          "height": 269
        },
        "id": "FDRH7eS1VjyI",
        "outputId": "80a5ad73-2d89-4624-96f5-5e8464c1a964"
      },
      "source": [
        "plt.imshow(observation) # вызовем визуализацию состояния среды с помощью метода imshow от matplotlib.pyplot\n",
        "plt.show() "
      ],
      "execution_count": 11,
      "outputs": [
        {
          "output_type": "display_data",
          "data": {
            "image/png": "[encoded data removed]",
            "text/plain": [
              "<Figure size 432x288 with 1 Axes>"
            ]
          },
          "metadata": {
            "needs_background": "light"
          }
        }
      ]
    },
    {
      "cell_type": "code",
      "metadata": {
        "colab": {
          "base_uri": "https://localhost:8080/",
          "height": 1000
        },
        "id": "QFd8G-hBVnqG",
        "outputId": "fec0f3b1-0137-4003-bb22-210ba8842a31"
      },
      "source": [
        "# В понге:\n",
        "# 0 цифровое обозначение если ракетка 'остаётся на месте'\n",
        "# 2 цифровое обозначение для действия ракеткой 'сдвинуться вправо'\n",
        "# 3 цифровое обозначение для действия ракеткой 'сдвинуться влево'\n",
        " \n",
        "# Проиграем вперёд игру на 30 кадров чтобы увидеть полную сцену игры\n",
        "observation = env.reset()\n",
        "observation, reward, done, info = env.step(1)\n",
        "lives = info['ale.lives']\n",
        "reward_list = []\n",
        "for i in range(20):\n",
        "    observation, reward, done, info = env.step(random.choice([2, 3])) # 0 обозначает,что ничего не делаем, остаемся на месте\n",
        "\n",
        "    plt.imshow(observation)                      # взглянем на текущее состояние среды: наш агент владеет зелёной ракеткой, появился соперник и мяч\n",
        "    plt.show()\n",
        "    print(reward)\n",
        "    reward_list.append(reward)\n",
        "    print(done)\n",
        "    print(info)\n",
        "    if info['ale.lives'] != lives:\n",
        "        observation, reward, done, info = env.step(1)\n",
        "        lives = info['ale.lives']\n",
        "\n",
        "print(sum(reward_list))\n",
        "\n",
        "# step - такт, шаг в игре: принимает (action, действие агента), возвращает кортеж (observation, reward, done, info)\n",
        "# observation (object) - текущее состояние среды, которое наблюдает агент(пиксели)\n",
        "# reward (float) - награда за совершённое действие\n",
        "# done (True or False) - обозначает завершился ли игровой эпизод (в понге до победы 21 очко)\n",
        "# info (dict) - вспомогательная диагностическая информация, типа кол-во оставшихся жизней(неактуально для понга)"
      ],
      "execution_count": 12,
      "outputs": [
        {
          "output_type": "display_data",
          "data": {
            "image/png": "[encoded data removed]",
            "text/plain": [
              "<Figure size 432x288 with 1 Axes>"
            ]
          },
          "metadata": {
            "needs_background": "light"
          }
        },
        {
          "output_type": "stream",
          "name": "stdout",
          "text": [
            "0.0\n",
            "False\n",
            "{'ale.lives': 5}\n"
          ]
        },
        {
          "output_type": "display_data",
          "data": {
            "image/png": "[encoded data removed]",
            "text/plain": [
              "<Figure size 432x288 with 1 Axes>"
            ]
          },
          "metadata": {
            "needs_background": "light"
          }
        },
        {
          "output_type": "stream",
          "name": "stdout",
          "text": [
            "0.0\n",
            "False\n",
            "{'ale.lives': 5}\n"
          ]
        },
        {
          "output_type": "display_data",
          "data": {
            "image/png": "[encoded data removed]",
            "text/plain": [
              "<Figure size 432x288 with 1 Axes>"
            ]
          },
          "metadata": {
            "needs_background": "light"
          }
        },
        {
          "output_type": "stream",
          "name": "stdout",
          "text": [
            "0.0\n",
            "False\n",
            "{'ale.lives': 5}\n"
          ]
        },
        {
          "output_type": "display_data",
          "data": {
            "image/png": "[encoded data removed]",
            "text/plain": [
              "<Figure size 432x288 with 1 Axes>"
            ]
          },
          "metadata": {
            "needs_background": "light"
          }
        },
        {
          "output_type": "stream",
          "name": "stdout",
          "text": [
            "0.0\n",
            "False\n",
            "{'ale.lives': 5}\n"
          ]
        },
        {
          "output_type": "display_data",
          "data": {
            "image/png": "[encoded data removed]",
            "text/plain": [
              "<Figure size 432x288 with 1 Axes>"
            ]
          },
          "metadata": {
            "needs_background": "light"
          }
        },
        {
          "output_type": "stream",
          "name": "stdout",
          "text": [
            "0.0\n",
            "False\n",
            "{'ale.lives': 5}\n"
          ]
        },
        {
          "output_type": "display_data",
          "data": {
            "image/png": "[encoded data removed]",
            "text/plain": [
              "<Figure size 432x288 with 1 Axes>"
            ]
          },
          "metadata": {
            "needs_background": "light"
          }
        },
        {
          "output_type": "stream",
          "name": "stdout",
          "text": [
            "0.0\n",
            "False\n",
            "{'ale.lives': 5}\n"
          ]
        },
        {
          "output_type": "display_data",
          "data": {
            "image/png": "[encoded data removed]",
            "text/plain": [
              "<Figure size 432x288 with 1 Axes>"
            ]
          },
          "metadata": {
            "needs_background": "light"
          }
        },
        {
          "output_type": "stream",
          "name": "stdout",
          "text": [
            "0.0\n",
            "False\n",
            "{'ale.lives': 5}\n"
          ]
        },
        {
          "output_type": "display_data",
          "data": {
            "image/png": "[encoded data removed]",
            "text/plain": [
              "<Figure size 432x288 with 1 Axes>"
            ]
          },
          "metadata": {
            "needs_background": "light"
          }
        },
        {
          "output_type": "stream",
          "name": "stdout",
          "text": [
            "0.0\n",
            "False\n",
            "{'ale.lives': 5}\n"
          ]
        },
        {
          "output_type": "display_data",
          "data": {
            "image/png": "[encoded data removed]",
            "text/plain": [
              "<Figure size 432x288 with 1 Axes>"
            ]
          },
          "metadata": {
            "needs_background": "light"
          }
        },
        {
          "output_type": "stream",
          "name": "stdout",
          "text": [
            "0.0\n",
            "False\n",
            "{'ale.lives': 5}\n"
          ]
        },
        {
          "output_type": "display_data",
          "data": {
            "image/png": "[encoded data removed]",
            "text/plain": [
              "<Figure size 432x288 with 1 Axes>"
            ]
          },
          "metadata": {
            "needs_background": "light"
          }
        },
        {
          "output_type": "stream",
          "name": "stdout",
          "text": [
            "0.0\n",
            "False\n",
            "{'ale.lives': 5}\n"
          ]
        },
        {
          "output_type": "display_data",
          "data": {
            "image/png": "[encoded data removed]",
            "text/plain": [
              "<Figure size 432x288 with 1 Axes>"
            ]
          },
          "metadata": {
            "needs_background": "light"
          }
        },
        {
          "output_type": "stream",
          "name": "stdout",
          "text": [
            "0.0\n",
            "False\n",
            "{'ale.lives': 5}\n"
          ]
        },
        {
          "output_type": "display_data",
          "data": {
            "image/png": "[encoded data removed]",
            "text/plain": [
              "<Figure size 432x288 with 1 Axes>"
            ]
          },
          "metadata": {
            "needs_background": "light"
          }
        },
        {
          "output_type": "stream",
          "name": "stdout",
          "text": [
            "0.0\n",
            "False\n",
            "{'ale.lives': 5}\n"
          ]
        },
        {
          "output_type": "display_data",
          "data": {
            "image/png": "[encoded data removed]",
            "text/plain": [
              "<Figure size 432x288 with 1 Axes>"
            ]
          },
          "metadata": {
            "needs_background": "light"
          }
        },
        {
          "output_type": "stream",
          "name": "stdout",
          "text": [
            "0.0\n",
            "False\n",
            "{'ale.lives': 5}\n"
          ]
        },
        {
          "output_type": "display_data",
          "data": {
            "image/png": "[encoded data removed]",
            "text/plain": [
              "<Figure size 432x288 with 1 Axes>"
            ]
          },
          "metadata": {
            "needs_background": "light"
          }
        },
        {
          "output_type": "stream",
          "name": "stdout",
          "text": [
            "0.0\n",
            "False\n",
            "{'ale.lives': 5}\n"
          ]
        },
        {
          "output_type": "display_data",
          "data": {
            "image/png": "[encoded data removed]",
            "text/plain": [
              "<Figure size 432x288 with 1 Axes>"
            ]
          },
          "metadata": {
            "needs_background": "light"
          }
        },
        {
          "output_type": "stream",
          "name": "stdout",
          "text": [
            "0.0\n",
            "False\n",
            "{'ale.lives': 5}\n"
          ]
        },
        {
          "output_type": "display_data",
          "data": {
            "image/png": "[encoded data removed]",
            "text/plain": [
              "<Figure size 432x288 with 1 Axes>"
            ]
          },
          "metadata": {
            "needs_background": "light"
          }
        },
        {
          "output_type": "stream",
          "name": "stdout",
          "text": [
            "0.0\n",
            "False\n",
            "{'ale.lives': 5}\n"
          ]
        },
        {
          "output_type": "display_data",
          "data": {
            "image/png": "[encoded data removed]",
            "text/plain": [
              "<Figure size 432x288 with 1 Axes>"
            ]
          },
          "metadata": {
            "needs_background": "light"
          }
        },
        {
          "output_type": "stream",
          "name": "stdout",
          "text": [
            "0.0\n",
            "False\n",
            "{'ale.lives': 5}\n"
          ]
        },
        {
          "output_type": "display_data",
          "data": {
            "image/png": "[encoded data removed]",
            "text/plain": [
              "<Figure size 432x288 with 1 Axes>"
            ]
          },
          "metadata": {
            "needs_background": "light"
          }
        },
        {
          "output_type": "stream",
          "name": "stdout",
          "text": [
            "0.0\n",
            "False\n",
            "{'ale.lives': 5}\n"
          ]
        },
        {
          "output_type": "display_data",
          "data": {
            "image/png": "[encoded data removed]",
            "text/plain": [
              "<Figure size 432x288 with 1 Axes>"
            ]
          },
          "metadata": {
            "needs_background": "light"
          }
        },
        {
          "output_type": "stream",
          "name": "stdout",
          "text": [
            "0.0\n",
            "False\n",
            "{'ale.lives': 5}\n"
          ]
        },
        {
          "output_type": "display_data",
          "data": {
            "image/png": "[encoded data removed]",
            "text/plain": [
              "<Figure size 432x288 with 1 Axes>"
            ]
          },
          "metadata": {
            "needs_background": "light"
          }
        },
        {
          "output_type": "stream",
          "name": "stdout",
          "text": [
            "0.0\n",
            "False\n",
            "{'ale.lives': 5}\n",
            "0.0\n"
          ]
        }
      ]
    },
    {
      "cell_type": "code",
      "metadata": {
        "id": "nhWCrcl5Vwfs"
      },
      "source": [
        "# Зададим функцию предобработки данных для подачи в нейросеть\n",
        "# избавимся вот всего лишнего(фон, размер и т.п), оставив на экране лишь мяч и ракетки\n",
        "def preprocessFrames(newFrame,lastFrame): # подаем в функцию новый и предыдущий кадр\n",
        "  nFrame = newFrame.astype(np.int32)      # переводим в целочисленный тип новый кадр\n",
        "#   nFrame[nFrame==200] = 0                 # удаляем цвета заднего фона в новом кадре(144 и 72 - значения каналов, дающих оранжевый цвет, зануляем)\n",
        "#   nFrame[nFrame==72] = 0                  # удаляем цвета заднего фона в новом кадре(144 и 72 - значения каналов, дающих оранжевый цвет, зануляем)  \n",
        "  lFrame = lastFrame.astype(np.int32)     # переводим в целочисленный тип предыдущий кадр\n",
        "#   lFrame[lFrame==200] = 0                 # удаляем цвета заднего фона в новом кадре(144 и 72 - значения каналов, дающих оранжевый цвет, зануляем)\n",
        "#   lFrame[lFrame==72] = 0                  # удаляем цвета заднего фона в новом кадре(144 и 72 - значения каналов, дающих оранжевый цвет, зануляем)  \n",
        "  deltaFrame = nFrame - lFrame            # задаём разницу между новым и предыдущим кадром   \n",
        "  # Отрезаем верхнюю и нижнюю(неинформативные) части экрана, по 35 сверху и снизу\n",
        "  deltaFrame = deltaFrame[93:200, 8:-8]        # срезали края по высоте, осталась картинка 160*160\n",
        "  # Делаем сжатие кадра в 2 раза по обеим сторонам изображения и оставляем монотонный канал \n",
        "  deltaFrame=deltaFrame[::2,::2, 0]\n",
        "  # Масштабирование чисел от 0 до 1\n",
        "  maxValue = deltaFrame.max() if deltaFrame.max()> abs(deltaFrame.min()) else abs(deltaFrame.min())\n",
        "  if maxValue != 0:\n",
        "      deltaFrame=deltaFrame/maxValue\n",
        "  return deltaFrame                       # функция вернет разницу между кадрами в оптимальном виде"
      ],
      "execution_count": 4,
      "outputs": []
    },
    {
      "cell_type": "code",
      "metadata": {
        "colab": {
          "base_uri": "https://localhost:8080/",
          "height": 287
        },
        "id": "IkNiiS_ybsjb",
        "outputId": "4aff43e0-999d-44cf-94ef-8b7ae7b097be"
      },
      "source": [
        "# Policy(политику, стратегию агента) будет позже задавать нейросеть.\n",
        "# мы подадим ей разницу между новым и предыдущим кадром, чтобы отслеживалось смещение мяча/ракеток и данные были понятными\n",
        "newObservation, reward, done, info = env.step(3) # задаем очередным шагом следующий кадр, при этом смещая ракетку вверх\n",
        "plt.imshow(newObservation)                       # взглянем на следующий кадр(нам смещение едва видно, либо не видно, т.к визуально длина шага мала)"
      ],
      "execution_count": 14,
      "outputs": [
        {
          "output_type": "execute_result",
          "data": {
            "text/plain": [
              "<matplotlib.image.AxesImage at 0x7fa31e455ad0>"
            ]
          },
          "metadata": {},
          "execution_count": 14
        },
        {
          "output_type": "display_data",
          "data": {
            "image/png": "[encoded data removed]",
            "text/plain": [
              "<Figure size 432x288 with 1 Axes>"
            ]
          },
          "metadata": {
            "needs_background": "light"
          }
        }
      ]
    },
    {
      "cell_type": "code",
      "metadata": {
        "colab": {
          "base_uri": "https://localhost:8080/",
          "height": 269
        },
        "id": "Tizc6fGucXgG",
        "outputId": "5c00c612-9bc8-4d3f-c94e-c42b27dbd412"
      },
      "source": [
        "plt.imshow(observation) # вызовем визуализацию состояния среды с помощью метода imshow от matplotlib.pyplot\n",
        "plt.show() "
      ],
      "execution_count": 15,
      "outputs": [
        {
          "output_type": "display_data",
          "data": {
            "image/png": "[encoded data removed]",
            "text/plain": [
              "<Figure size 432x288 with 1 Axes>"
            ]
          },
          "metadata": {
            "needs_background": "light"
          }
        }
      ]
    },
    {
      "cell_type": "code",
      "metadata": {
        "colab": {
          "base_uri": "https://localhost:8080/",
          "height": 285
        },
        "id": "YrsMF7b5bnO5",
        "outputId": "be803893-fe72-457d-d8f6-2812723c52fc"
      },
      "source": [
        "plt.imshow(preprocessFrames(newObservation, observation), plt.cm.gray) # выведем результат предобработки наших кадров\n",
        "# смещение здесь - это шаг от черного пикселя к светлому"
      ],
      "execution_count": 16,
      "outputs": [
        {
          "output_type": "execute_result",
          "data": {
            "text/plain": [
              "<matplotlib.image.AxesImage at 0x7fa31e7c1850>"
            ]
          },
          "metadata": {},
          "execution_count": 16
        },
        {
          "output_type": "display_data",
          "data": {
            "image/png": "[encoded data removed]",
            "text/plain": [
              "<Figure size 432x288 with 1 Axes>"
            ]
          },
          "metadata": {
            "needs_background": "light"
          }
        }
      ]
    },
    {
      "cell_type": "code",
      "metadata": {
        "colab": {
          "base_uri": "https://localhost:8080/"
        },
        "id": "DoVz7CNqZnvc",
        "outputId": "aefbefd5-b627-4d06-fbbd-24f7d3d20e4f"
      },
      "source": [
        "preprocessFrames(newObservation, observation).shape # выведем форму массива"
      ],
      "execution_count": null,
      "outputs": [
        {
          "output_type": "execute_result",
          "data": {
            "text/plain": [
              "(54, 72)"
            ]
          },
          "metadata": {},
          "execution_count": 11
        }
      ]
    },
    {
      "cell_type": "code",
      "metadata": {
        "colab": {
          "base_uri": "https://localhost:8080/"
        },
        "id": "XOOLaywCczbd",
        "outputId": "0f5f5751-18fa-42fe-b750-c5dd6a58e011"
      },
      "source": [
        "# Простая модель с двумя слоями, на 200 нейронов в скрытом слое и сигмоидой на выходе\n",
        "inputs = Input(shape=(54,72))      # на входном слое сетки изображение 80*80\n",
        "flattenedLayer = Flatten()(inputs) # перевели в вектор\n",
        "fullConnected = Dense(units=200, activation='relu', use_bias=False)(flattenedLayer) # задали 200 нейронов и активацию релу\n",
        "sigmoidOutput = Dense(1, activation='sigmoid', use_bias=False)(fullConnected)       # сигмоида на выходе\n",
        "policyNetworkModel = Model(inputs=inputs, outputs=sigmoidOutput)                    # собрали модель стратегии(Model - абстрактный класс базовой модели)\n",
        "policyNetworkModel.summary()       # посмотрим на модель"
      ],
      "execution_count": 5,
      "outputs": [
        {
          "output_type": "stream",
          "name": "stdout",
          "text": [
            "Model: \"model\"\n",
            "_________________________________________________________________\n",
            "Layer (type)                 Output Shape              Param #   \n",
            "=================================================================\n",
            "input_1 (InputLayer)         [(None, 54, 72)]          0         \n",
            "_________________________________________________________________\n",
            "flatten (Flatten)            (None, 3888)              0         \n",
            "_________________________________________________________________\n",
            "dense (Dense)                (None, 200)               777600    \n",
            "_________________________________________________________________\n",
            "dense_1 (Dense)              (None, 1)                 200       \n",
            "=================================================================\n",
            "Total params: 777,800\n",
            "Trainable params: 777,800\n",
            "Non-trainable params: 0\n",
            "_________________________________________________________________\n"
          ]
        }
      ]
    },
    {
      "cell_type": "code",
      "metadata": {
        "id": "iS8z2GHhdE3D"
      },
      "source": [
        "# episode - одна тренировочная игра от начала партии до перезагрузки \n",
        "episodeReward = Input(shape=(1,), name='episodeReward') # задаем награду за эпизод"
      ],
      "execution_count": 18,
      "outputs": []
    },
    {
      "cell_type": "code",
      "metadata": {
        "id": "yeS3WYHWdUg3"
      },
      "source": [
        "###########################\n",
        "# Функция потерь в керасе имеет вид def loss(yTrue,yPred):...А так как нам нужно включить reward в loss, создаем...\n",
        "# ...функцию rewardedLoss поверх неё, чтобы на входе добавить episodeReward\n",
        "###########################\n",
        "def rewardedLoss(episodeReward): # задаем новую функцию потерь, принимающую episodeReward, награда\n",
        "  def loss(yTrue,yPred):\n",
        "    # подаём в кач-ве yTrue фактически сделанное действие(action) \n",
        "    # если фактически сделанное действие было движением вверх - подаем 1 на yTrue, если нет то подаем 0\n",
        "    # yPred - выход сетки(вероятность выбора движения вверх)\n",
        "    # мы не подаём yPred в нейронку, его вычисляет керас\n",
        "    \n",
        "    # сначала log(0) and log(1) неопределены - загоняем yPred между значениями:\n",
        "    tmpPred = Lambda(lambda x: keras.backend.clip(x,0.05,0.95))(yPred)\n",
        "    # вычисляем логарифм вероятности. yPred - вероятность выбора движения вверх \n",
        "    # помним что yTrue = 1 когда фактически выбрано движение вверх, и 0 - когда вниз\n",
        "    # формула похожа на кросс-энтропию в керасе, но здесь мы прописываем её вручную, чтобы умножить на значение награды\n",
        "    tmpLoss = Lambda(lambda x:-yTrue*keras.backend.log(x)-(1-yTrue)*(keras.backend.log(1-x)))(tmpPred)\n",
        "    # обновленная функция потерь - \"функция политики\"\n",
        "    policyLoss = Multiply()([tmpLoss, episodeReward]) #добавляем в loss умножение на награду за эпизод\n",
        "    return policyLoss # ввели обновленную функцию политики\n",
        "  return loss         # возвращаем обновленную функцию политики"
      ],
      "execution_count": 6,
      "outputs": []
    },
    {
      "cell_type": "code",
      "metadata": {
        "id": "S4YrDwmIdY9a"
      },
      "source": [
        "###########################\n",
        "# Создаем керас-оптимизатор и нейронку для обучения\n",
        "###########################\n",
        "episodeReward = Input(shape=(1,), name='episodeReward')                             # задаем награду за эпизод\n",
        "policyNetworkTrain = Model(inputs=[inputs, episodeReward],outputs=sigmoidOutput)    # задаем сеть с добавлением на вход награды\n",
        " \n",
        "myOptimizer = RMSprop(learning_rate=0.0001)                                                    # выбрали оптимизатор с заданной скоростью обучения\n",
        "policyNetworkTrain.compile(optimizer=myOptimizer, loss=rewardedLoss(episodeReward)) # задаем сеть с новой функцией потерь policy"
      ],
      "execution_count": 7,
      "outputs": []
    },
    {
      "cell_type": "code",
      "metadata": {
        "id": "FBk3TjBqdd--"
      },
      "source": [
        "###########################\n",
        "# Создадим функцию, которая будет генерировать игровой эпизод с участием нейросети\n",
        "###########################\n",
        "#игра начнется с того, что в новом эпизоде наш агент сделает движение(\"actualAction\") вверх с вероятностью(upProbability), которую предсказала наша...\n",
        "#...сетка policyNetwork, принявшая на вход состояние среды reshapedInput с подбитой под сеть формой. \n",
        "#reshapedInput же получили из состояния processedNetworkInput, которое представляет собой разницу в кадрах между новым и предыдущим...\n",
        "#...кадром, полученную функцией preprocessFrames.\n",
        " \n",
        " \n",
        "def generateEpisode(policyNetwork): # подаем на вход функции модель нейросети\n",
        "  statesList = []                   # список состояний в течение эпизода, размер = (x,80,80)\n",
        "  upDownActionList=[]               # список движений в течение эпизода: вверх - 1, вниз - 0\n",
        "  rewardsList=[]                    # список наград за каждое действие\n",
        "  networkOutputList=[]              # на выходе нейросети - вероятность что нужно идти вверх; собираем список из вероятности на каждом шаге\n",
        "  env=gym.make(\"Breakout-v0\")           # cоздали среду\n",
        "  observation = env.reset()         # перезагрузили состояние среды\n",
        "  newObservation = observation      # получили новое состояние, которое наблюдает агент\n",
        "  done = False                      # игровой эпизод активен(не завершён)\n",
        "  observation, reward, done, info = env.step(1) # стартуем эпизод\n",
        "  lives = info['ale.lives']\n",
        "  while done == False: # пока игровой эпизод не завершён\n",
        "    \n",
        "    # На вход сети будет подаваться очередное состояние - разница между кадрами. \n",
        "    processedNetworkInput = preprocessFrames(newFrame=newObservation, lastFrame=observation) # зададим это состояние\n",
        "    statesList.append(processedNetworkInput) # добавим в список состояний (впоследствие станет 'x'ом для входа в нейронку)\n",
        "    reshapedInput = np.expand_dims(processedNetworkInput, axis=0) # размер 'x' - (80,80), делаем размерность (x,(1,80,80))\n",
        " \n",
        "    upProbability = policyNetwork.predict(reshapedInput, batch_size=1)[0][0] # задаем вероятность шага вверх\n",
        "    networkOutputList.append(upProbability) # добавляем к списку из вероятности идти вверх на каждом шаге\n",
        "    actualAction = np.random.choice(a=[2,3], size=1, p=[upProbability, 1-upProbability])\n",
        "    # сделаем фактический шаг либо вверх(2) c вероятностью upProbability, либо вниз(3) с обратной вероятностью\n",
        " \n",
        "    if actualAction == 2:        # если пошли вверх\n",
        "      upDownActionList.append(1) # добавляем единицу в список движений в течение эпизода\n",
        "    else:                        # если не пошли вверх\n",
        "      upDownActionList.append(0) # то добавляем ноль\n",
        " \n",
        "    observation = newObservation # текущий newObservation записываем как старый перед тем, как сделать следующий шаг\n",
        "    newObservation, reward, done, info = env.step(actualAction) # сделали новый шаг, получили новую награду, новое состояние\n",
        "    \n",
        "    rewardsList.append(reward)   # добавили текущую награду в список\n",
        "    if info['ale.lives'] != lives:\n",
        "        rewardsList[-1] = -1\n",
        "        newObservation, reward, done, info = env.step(1) # перезапускаем игру\n",
        "        lives = info['ale.lives']\n",
        " \n",
        "    if done: # если игровой эпизод закончен\n",
        "      break  # завершаем цикл\n",
        " \n",
        "  env.close() # закрываем текущую среду\n",
        "  return statesList, upDownActionList, rewardsList, networkOutputList\n",
        "  # функция возвращает: список состояний в течение эпизода,список движений в течение эпизода, список наград за каждое действие,\n",
        "  # и список вероятностей того, что нужно идти вверх"
      ],
      "execution_count": 12,
      "outputs": []
    },
    {
      "cell_type": "code",
      "metadata": {
        "colab": {
          "base_uri": "https://localhost:8080/"
        },
        "id": "uld1ZjEHdulG",
        "outputId": "f4158cb9-42e4-400d-bb15-64b72c549d25"
      },
      "source": [
        "%%time\n",
        "###########################\n",
        "# Сгенерируем эпизод игры с необученной сетью\n",
        "###########################\n",
        "statesList, upDownActionList, rewardsList, networkOutputList = generateEpisode(policyNetworkModel)\n",
        "print(\"----------------------\")\n",
        "print(\"Количество состояний в эпизоде = \"+str(len(statesList))) # количество состояний (кадров) в эпизоде\n",
        "print(\"Форма состояния \"+str(statesList[0].shape))              # форма каждого состояния\n",
        "print(\"Количество наград за эпизод = \"+str(len(rewardsList)))   # количество наград за эпизод(включая нулевые награды)\n",
        "print(\"Сумма наград за эпизод = \", sum(rewardsList))"
      ],
      "execution_count": null,
      "outputs": [
        {
          "output_type": "stream",
          "name": "stderr",
          "text": [
            "/usr/local/lib/python3.7/dist-packages/keras/engine/training.py:2470: UserWarning: `Model.state_updates` will be removed in a future version. This property should not be used in TensorFlow 2.0, as `updates` are applied automatically.\n",
            "  warnings.warn('`Model.state_updates` will be removed in a future version. '\n"
          ]
        },
        {
          "output_type": "stream",
          "name": "stdout",
          "text": [
            "----------------------\n",
            "Количество состояний в эпизоде = 195\n",
            "Форма состояния (54, 72)\n",
            "Количество наград за эпизод = 195\n",
            "Сумма наград за эпизод =  -4.0\n",
            "CPU times: user 1.22 s, sys: 538 ms, total: 1.76 s\n",
            "Wall time: 5.5 s\n"
          ]
        }
      ]
    },
    {
      "cell_type": "code",
      "metadata": {
        "colab": {
          "base_uri": "https://localhost:8080/"
        },
        "id": "mOvlNZIddw8x",
        "outputId": "5fa73d66-f596-4b8f-a8f5-a97d43952c69"
      },
      "source": [
        "# Взглянем на фрагмент списка из вероятности идти вверх на каждом шаге.\n",
        "print(networkOutputList[50:70])\n",
        "# увидим что на каждом шаге вероятность крутится около 50% - сеть пока не понимает куда лучше шагать"
      ],
      "execution_count": null,
      "outputs": [
        {
          "output_type": "stream",
          "name": "stdout",
          "text": [
            "[0.50085694, 0.5002606, 0.50771385, 0.4982538, 0.51947165, 0.50605243, 0.50415426, 0.5, 0.5, 0.5, 0.5, 0.5, 0.5, 0.5119718, 0.5110499, 0.51800835, 0.49445528, 0.5188866, 0.49589938, 0.5205823]\n"
          ]
        }
      ]
    },
    {
      "cell_type": "code",
      "metadata": {
        "colab": {
          "base_uri": "https://localhost:8080/"
        },
        "id": "C-r56-AId7eS",
        "outputId": "ee122677-d0b0-403e-964b-8861799d9b27"
      },
      "source": [
        "# Взглянем на фактические действия: 1 - вверх, 0 - вниз\n",
        "upDownActionList[50:70]\n",
        "# Соответственно шаги также были случайными"
      ],
      "execution_count": null,
      "outputs": [
        {
          "output_type": "execute_result",
          "data": {
            "text/plain": [
              "[1, 1, 1, 0, 0, 1, 1, 0, 1, 1, 1, 1, 1, 0, 1, 0, 0, 0, 1, 0]"
            ]
          },
          "metadata": {},
          "execution_count": 19
        }
      ]
    },
    {
      "cell_type": "code",
      "metadata": {
        "colab": {
          "base_uri": "https://localhost:8080/"
        },
        "id": "Uyz8nOKnd_Jw",
        "outputId": "ad7bfdf8-c7b1-46da-8448-33a1c72e4232"
      },
      "source": [
        "# Выведем список наград(почти везде нули, кроме тех моментов когда выигрываем или проигрываем очко)\n",
        "print(rewardsList[50:70])"
      ],
      "execution_count": null,
      "outputs": [
        {
          "output_type": "stream",
          "name": "stdout",
          "text": [
            "[0.0, 0.0, 0.0, 0.0, 0.0, 0.0, 0.0, 0.0, 0.0, 0.0, 0.0, 0.0, -1, 0.0, 0.0, 0.0, 0.0, 0.0, 0.0, 0.0]\n"
          ]
        }
      ]
    },
    {
      "cell_type": "code",
      "metadata": {
        "colab": {
          "base_uri": "https://localhost:8080/",
          "height": 265
        },
        "id": "0_e6lGpPeFTW",
        "outputId": "4dd0ae29-6ad6-4954-9ca7-30e42c07d419"
      },
      "source": [
        "# Выведем на графике полученные награды. Ненулевые награды за каждое очко будут отмечены точками.\n",
        "plt.plot(rewardsList, '.') # точки будут наградами на графике\n",
        "ax=plt.gca()               # получим текущие оси\n",
        "ax.grid(True)              # с фоновой сеткой"
      ],
      "execution_count": null,
      "outputs": [
        {
          "output_type": "display_data",
          "data": {
            "image/png": "[encoded data removed]",
            "text/plain": [
              "<Figure size 432x288 with 1 Axes>"
            ]
          },
          "metadata": {
            "needs_background": "light"
          }
        }
      ]
    },
    {
      "cell_type": "code",
      "metadata": {
        "id": "eTW1uvmmeH-F"
      },
      "source": [
        "# Награды пока присуждаются только тем движениям, в момент после которых было пропущено или забито очко. Но так мы научимся нескоро,\n",
        "# нам нужно указать на важность действия чуть ранее, когда мы отбивали мяч ракеткой. Чтобы сетка поняла что отбивать мяч - это хорошо,\n",
        "# распределим награду на все шаги, предшествующие забитому/пропущеному мячу, причем чем давнее был шаг, тем меньший коэффициент награды он получит.\n",
        " \n",
        "###########################\n",
        "# Сформулируем функцию, которая распределит ненулевую награду для всех шагов в удачном/неудачном розыгрыше\n",
        "###########################\n",
        "def processRewards(rewardList): # подадим в функцию список наград\n",
        "  rewardDecay = 0.99            # установим высший коэффициент награды для ближнего действия к победному/проигрышному действию\n",
        "  tmpReward = 0                 # создадим временную переменную для награды\n",
        "  rewardDecayed = np.zeros_like(rewardList,dtype=np.float32) # создадим массив из нулей для нового формата наград\n",
        "  for i in range(len(rewardList)-1,-1,-1): # будем идти в обратную сторону от награды с шагом \"-1\"\n",
        "    if rewardList[i] == 0:                 # если награда нулевая \n",
        "      tmpReward = tmpReward*rewardDecay    # зададим ей коэффициент\n",
        "      rewardDecayed[i] = tmpReward         # и добавим в массив\n",
        "    else:                                  # иначе\n",
        "      tmpReward = rewardList[i]            # оставим награду неизменной\n",
        "      rewardDecayed[i] = tmpReward         # и введём в том же виде в массив\n",
        "  # запустим нормализацию значений наград, что позволит сетке лучше понимать, где были хорошие и плохие шаги\n",
        "  rewardDecayed -= np.mean(rewardDecayed)  # вычтем среднее\n",
        "  rewardDecayed /= np.std(rewardDecayed)   # разделим на стандартное отклонение\n",
        "  return rewardDecayed\n",
        "  # функция возвращает обновленный формат наград"
      ],
      "execution_count": 9,
      "outputs": []
    },
    {
      "cell_type": "code",
      "metadata": {
        "colab": {
          "base_uri": "https://localhost:8080/",
          "height": 265
        },
        "id": "uUWa4zMHeSXv",
        "outputId": "375c9b6a-5522-4ed4-e288-fe2fd0ff3c00"
      },
      "source": [
        "# Посмотрим на распределение наград по новой функции\n",
        "plt.plot(processRewards(rewardsList),'-') # добавляем в график награды с учетом новой функции\n",
        "ax = plt.gca() # получим текущие оси\n",
        "ax.grid(True)  # с фоновой сеткой\n",
        "# новое распределение наград даст лучшее отражение эффективности действий"
      ],
      "execution_count": null,
      "outputs": [
        {
          "output_type": "display_data",
          "data": {
            "image/png": "[encoded data removed]",
            "text/plain": [
              "<Figure size 432x288 with 1 Axes>"
            ]
          },
          "metadata": {
            "needs_background": "light"
          }
        }
      ]
    },
    {
      "cell_type": "code",
      "metadata": {
        "colab": {
          "base_uri": "https://localhost:8080/"
        },
        "id": "EZMR1HuOeZJw",
        "outputId": "ccf0798c-6d1c-48b7-f83f-486ae2dd3c58"
      },
      "source": [
        "%%time\n",
        "# Сгенерируем новый игровой эпизод:\n",
        "statesList,upDownActionList,rewardsList,networkOutputList = generateEpisode(policyNetworkModel)\n",
        "# сыграли до 21 очка, проиграли, получили списки всех состояний среды(кадров), шагов агента, вознаграждений и предсказаний\n",
        " \n",
        "print(\"Количество состояний среды = \"+str(len(statesList))) # выведем количество состояний среды(кадров) в игровом эпизоде\n",
        "print(\"Форма состояний среды = \"+str(statesList[0].shape))  # выведем форму для каждого состояния\n",
        "print(\"Список наград  = \"+str(len(rewardsList)))            # выведем список наград в игровом эпизоде(включая нулевые)\n",
        "print(\"Сумма наград за эпизод = \", sum(rewardsList))"
      ],
      "execution_count": null,
      "outputs": [
        {
          "output_type": "stream",
          "name": "stdout",
          "text": [
            "Количество состояний среды = 261\n",
            "Форма состояний среды = (54, 72)\n",
            "Список наград  = 261\n",
            "Сумма наград за эпизод =  -3.0\n",
            "CPU times: user 770 ms, sys: 50.4 ms, total: 820 ms\n",
            "Wall time: 727 ms\n"
          ]
        }
      ]
    },
    {
      "cell_type": "code",
      "metadata": {
        "colab": {
          "base_uri": "https://localhost:8080/"
        },
        "id": "o-uLALBBehvy",
        "outputId": "4d8542e3-1c8a-4119-a379-d294f6e76498"
      },
      "source": [
        "# Подготовим данные для тренировки    \n",
        "x = np.array(statesList)          # зададим 'x' как массив состояний \n",
        "episodeReward = np.expand_dims(processRewards(rewardsList), 1) # подобьем размер для входа в сетку\n",
        "episodeReward = np.nan_to_num(episodeReward)\n",
        "yTmp = np.array(upDownActionList) # зададим 'y' как список движений вверх(1)/вниз(0)\n",
        "yTrue = np.expand_dims(yTmp, 1)   # скорректируем форму под сетку\n",
        " \n",
        " \n",
        "print(\"Форма наград за эпизод =\", episodeReward.shape) # выведем форму наград за эпизод\n",
        "print(\"Форма состояний среды =\", x.shape)              # выведем форму состояний среды ('x' для нейросети)\n",
        "print(\"Форма фактических движений =\", yTrue.shape)     # выведем форму фактических движений ('y' для нейросети)"
      ],
      "execution_count": null,
      "outputs": [
        {
          "output_type": "stream",
          "name": "stdout",
          "text": [
            "Форма наград за эпизод = (261, 1)\n",
            "Форма состояний среды = (261, 54, 72)\n",
            "Форма фактических движений = (261, 1)\n"
          ]
        }
      ]
    },
    {
      "cell_type": "code",
      "metadata": {
        "colab": {
          "base_uri": "https://localhost:8080/"
        },
        "id": "ozGCIgl6elZS",
        "outputId": "97fcee25-1073-4417-a0c4-fb085776fb64"
      },
      "source": [
        "episodeReward[:20]"
      ],
      "execution_count": null,
      "outputs": [
        {
          "output_type": "execute_result",
          "data": {
            "text/plain": [
              "array([[-0.6060404 ],\n",
              "       [-0.6152785 ],\n",
              "       [-0.6246099 ],\n",
              "       [-0.6340355 ],\n",
              "       [-0.64355636],\n",
              "       [-0.6531734 ],\n",
              "       [-0.6628876 ],\n",
              "       [-0.67269987],\n",
              "       [-0.6826112 ],\n",
              "       [-0.69262284],\n",
              "       [-0.7027354 ],\n",
              "       [-0.7129502 ],\n",
              "       [-0.7232682 ],\n",
              "       [-0.73369044],\n",
              "       [-0.7442179 ],\n",
              "       [-0.7548517 ],\n",
              "       [-0.76559293],\n",
              "       [-0.77644265],\n",
              "       [-0.787402  ],\n",
              "       [-0.7984719 ]], dtype=float32)"
            ]
          },
          "metadata": {},
          "execution_count": 26
        }
      ]
    },
    {
      "cell_type": "code",
      "metadata": {
        "colab": {
          "base_uri": "https://localhost:8080/"
        },
        "id": "csgXdF1Odg5l",
        "outputId": "8a2d297b-bf66-4fd9-8602-ce6087cbb952"
      },
      "source": [
        "# \"Скормим\" модели новые 'x' и 'y'\n",
        "policyNetworkTrain.fit(x=[x, episodeReward], y=yTrue)"
      ],
      "execution_count": null,
      "outputs": [
        {
          "output_type": "stream",
          "name": "stdout",
          "text": [
            "Train on 261 samples\n",
            "261/261 [==============================] - 0s 587us/sample - loss: 0.0029\n"
          ]
        },
        {
          "output_type": "execute_result",
          "data": {
            "text/plain": [
              "<keras.callbacks.History at 0x7fef93a36290>"
            ]
          },
          "metadata": {},
          "execution_count": 27
        }
      ]
    },
    {
      "cell_type": "code",
      "metadata": {
        "id": "F3RjmMJqewI3"
      },
      "source": [
        "###########################\n",
        "# Теперь создадим серию игровых эпизодов\n",
        "# Затем предобработаем данные и скормим нейросети\n",
        "###########################\n",
        "def generateEpisodeBatchesTraining(model, nBatches=10): # подаем на вход заданное количество игровых серий\n",
        "  env = gym.make('Breakout-v0')                             # создаем игровую среду Pong\n",
        "  batchStateList = []                                   # зададим серию списков состояний\n",
        "  batchUpDownActionList = []                            # зададим серию списков движений\n",
        "  batchRewardsList = []                                 # зададим серию списков наград\n",
        "  batchNetworkOutputList = []                           # зададим серию списков из вероятности идти вверх\n",
        "  for i in range(nBatches):                             # для каждой серии \n",
        "    statesList, upDownActionList, rewardsList, networkOutputList = generateEpisode(model) # сгенерируем игровой эпизод\n",
        "    batchStateList.extend(statesList)                   # добавим список состояний в серию списков состояний\n",
        "    batchNetworkOutputList.extend(networkOutputList)    # добавим список вероятностей в серию списков из вероятности идти вверх\n",
        "    batchUpDownActionList.extend(upDownActionList)      # добавим список движений в серию списков движений\n",
        "    batchRewardsList.extend(rewardsList)                # добавим список наград в серию списков наград\n",
        " \n",
        "  episodeReward = np.expand_dims(processRewards(batchRewardsList), 1) # зададим награды и изменим форму массива с добавлением оси\n",
        "  episodeReward = np.nan_to_num(episodeReward)\n",
        "  x = np.array(batchStateList)                          # сформируем массив из серии списков состояний в качестве 'x' для нейросети\n",
        "  yTmp = np.array(batchUpDownActionList)                # зададим 'y' как серию из списков движений вверх(1)/вниз(0)\n",
        "  yTrue = np.expand_dims(yTmp, 1)                       # подгоним форму 'y' массива с добавлением оси\n",
        "  \n",
        "  history = policyNetworkTrain.fit(x=[x,episodeReward], y=yTrue, epochs=5, verbose=0) # скормим нейросети серию 'x'ов и 'y'ов\n",
        "  \n",
        "  batchLoss = history.history['loss'][-1]\n",
        "  return batchStateList, batchUpDownActionList, batchRewardsList, batchNetworkOutputList, batchLoss\n",
        "  # функция вернёт серию списков состояний, серию списков движений, серию списков наград, серию списков из вероятности идти вверх"
      ],
      "execution_count": 10,
      "outputs": []
    },
    {
      "cell_type": "code",
      "metadata": {
        "colab": {
          "base_uri": "https://localhost:8080/"
        },
        "id": "X81Z24JmYili",
        "outputId": "d12e000d-1ad7-409c-9138-94d0ad0789e5"
      },
      "source": [
        "trainingTimes = 5000                   # установим количество тренировок \n",
        "policyNetworkModel = load_model(\"/content/drive/MyDrive/Neural_Univesity/hw_16/policyNetworkModel2430.h5\")\n",
        "for training in range(2430, trainingTimes): # для каждой тренировки\n",
        "  startTime = time.time()\n",
        "  # сделаем по 10 игровых эпизодов(1 эпоха - 10 игр)\n",
        "  statesList,upDownActionList,rewardsList,networkOutputList, batchLoss = generateEpisodeBatchesTraining(policyNetworkModel, 10) \n",
        "  endTime = time.time()\n",
        "  print(\"Тренировка = \" + str((training)+1))                           # выведем на экран номер очередной тренировки\n",
        "  print(\"Время тренировки = \" + str(round(endTime - startTime))+\"сек\") # время тренировки\n",
        "  print(\"Ошибка на тренировке = \" + str(round(batchLoss, 5)))          # выведем на экран ошибку на тренировке\n",
        "  rr=np.array(rewardsList)                                             # сформируем все награды\n",
        "  print(\"Выиграли очков = \"+ str(len(rr[rr>0])) + \" Проиграли очков = \" + str(len(rr[rr<0]))) # выведем на экран сумму выигранных и проигранных очков\n",
        "  print(\"\")\n",
        "  if training % 10 == 0:                                               # через каждые 10 эпизодов\n",
        "    policyNetworkModel.save(\"/content/drive/MyDrive/Neural_Univesity/hw_16/policyNetworkModel.h5\")                   # сохраним модель в памяти\n",
        "    policyNetworkModel.save(\"/content/drive/MyDrive/Neural_Univesity/hw_16/policyNetworkModel\" + str(training)+\".h5\")# и для удобства сохраним модель в памяти с количеством тренировок в названии\n",
        "    with open('/content/drive/MyDrive/Neural_Univesity/hw_16/rewardsModelSimple.txt','a') as recordingRewards:       # также в текстовом файле будем вести записи с динамикой выигранных очков\n",
        "      recordingRewards.write(\"training = \" + str(training) + 'выигранных очков = ' + str(len(rr[rr > 0])))\n",
        "      recordingRewards.write(\"\\n\")"
      ],
      "execution_count": null,
      "outputs": [
        {
          "output_type": "stream",
          "name": "stdout",
          "text": [
            "WARNING:tensorflow:No training configuration found in the save file, so the model was *not* compiled. Compile it manually.\n"
          ]
        },
        {
          "output_type": "stream",
          "name": "stderr",
          "text": [
            "/usr/local/lib/python3.7/dist-packages/keras/engine/training.py:2470: UserWarning: `Model.state_updates` will be removed in a future version. This property should not be used in TensorFlow 2.0, as `updates` are applied automatically.\n",
            "  warnings.warn('`Model.state_updates` will be removed in a future version. '\n"
          ]
        },
        {
          "output_type": "stream",
          "name": "stdout",
          "text": [
            "Тренировка = 2431\n",
            "Время тренировки = 40сек\n",
            "Ошибка на тренировке = -0.18912\n",
            "Выиграли очков = 27 Проиграли очков = 47\n",
            "\n",
            "Тренировка = 2432\n",
            "Время тренировки = 103сек\n",
            "Ошибка на тренировке = -0.09132\n",
            "Выиграли очков = 23 Проиграли очков = 37\n",
            "\n",
            "Тренировка = 2433\n",
            "Время тренировки = 40сек\n",
            "Ошибка на тренировке = -0.17927\n",
            "Выиграли очков = 21 Проиграли очков = 47\n",
            "\n",
            "Тренировка = 2434\n",
            "Время тренировки = 127сек\n",
            "Ошибка на тренировке = -0.06245\n",
            "Выиграли очков = 19 Проиграли очков = 40\n",
            "\n",
            "Тренировка = 2435\n",
            "Время тренировки = 127сек\n",
            "Ошибка на тренировке = -0.04811\n",
            "Выиграли очков = 19 Проиграли очков = 36\n",
            "\n",
            "Тренировка = 2436\n",
            "Время тренировки = 100сек\n",
            "Ошибка на тренировке = -0.05329\n",
            "Выиграли очков = 19 Проиграли очков = 40\n",
            "\n",
            "Тренировка = 2437\n",
            "Время тренировки = 41сек\n",
            "Ошибка на тренировке = -0.09783\n",
            "Выиграли очков = 29 Проиграли очков = 47\n",
            "\n",
            "Тренировка = 2438\n",
            "Время тренировки = 39сек\n",
            "Ошибка на тренировке = -0.10071\n",
            "Выиграли очков = 17 Проиграли очков = 45\n",
            "\n",
            "Тренировка = 2439\n",
            "Время тренировки = 40сек\n",
            "Ошибка на тренировке = -0.12948\n",
            "Выиграли очков = 22 Проиграли очков = 45\n",
            "\n",
            "Тренировка = 2440\n",
            "Время тренировки = 39сек\n",
            "Ошибка на тренировке = -0.11957\n",
            "Выиграли очков = 24 Проиграли очков = 49\n",
            "\n",
            "Тренировка = 2441\n",
            "Время тренировки = 69сек\n",
            "Ошибка на тренировке = -0.10035\n",
            "Выиграли очков = 29 Проиграли очков = 45\n",
            "\n",
            "Тренировка = 2442\n",
            "Время тренировки = 39сек\n",
            "Ошибка на тренировке = -0.10753\n",
            "Выиграли очков = 19 Проиграли очков = 46\n",
            "\n",
            "Тренировка = 2443\n",
            "Время тренировки = 13сек\n",
            "Ошибка на тренировке = -0.24275\n",
            "Выиграли очков = 33 Проиграли очков = 50\n",
            "\n",
            "Тренировка = 2444\n",
            "Время тренировки = 12сек\n",
            "Ошибка на тренировке = -0.26326\n",
            "Выиграли очков = 29 Проиграли очков = 50\n",
            "\n",
            "Тренировка = 2445\n",
            "Время тренировки = 68сек\n",
            "Ошибка на тренировке = -0.09082\n",
            "Выиграли очков = 21 Проиграли очков = 42\n",
            "\n",
            "Тренировка = 2446\n",
            "Время тренировки = 71сек\n",
            "Ошибка на тренировке = -0.06329\n",
            "Выиграли очков = 25 Проиграли очков = 44\n",
            "\n",
            "Тренировка = 2447\n",
            "Время тренировки = 42сек\n",
            "Ошибка на тренировке = -0.15703\n",
            "Выиграли очков = 34 Проиграли очков = 48\n",
            "\n",
            "Тренировка = 2448\n",
            "Время тренировки = 13сек\n",
            "Ошибка на тренировке = -0.26578\n",
            "Выиграли очков = 35 Проиграли очков = 50\n",
            "\n",
            "Тренировка = 2449\n",
            "Время тренировки = 67сек\n",
            "Ошибка на тренировке = -0.10923\n",
            "Выиграли очков = 15 Проиграли очков = 42\n",
            "\n",
            "Тренировка = 2450\n",
            "Время тренировки = 14сек\n",
            "Ошибка на тренировке = -0.30245\n",
            "Выиграли очков = 38 Проиграли очков = 50\n",
            "\n",
            "Тренировка = 2451\n",
            "Время тренировки = 67сек\n",
            "Ошибка на тренировке = -0.11227\n",
            "Выиграли очков = 18 Проиграли очков = 45\n",
            "\n",
            "Тренировка = 2452\n",
            "Время тренировки = 69сек\n",
            "Ошибка на тренировке = -0.1111\n",
            "Выиграли очков = 23 Проиграли очков = 44\n",
            "\n",
            "Тренировка = 2453\n",
            "Время тренировки = 11сек\n",
            "Ошибка на тренировке = -0.27207\n",
            "Выиграли очков = 20 Проиграли очков = 50\n",
            "\n",
            "Тренировка = 2454\n",
            "Время тренировки = 67сек\n",
            "Ошибка на тренировке = -0.12943\n",
            "Выиграли очков = 19 Проиграли очков = 46\n",
            "\n",
            "Тренировка = 2455\n",
            "Время тренировки = 39сек\n",
            "Ошибка на тренировке = -0.18271\n",
            "Выиграли очков = 26 Проиграли очков = 47\n",
            "\n",
            "Тренировка = 2456\n",
            "Время тренировки = 13сек\n",
            "Ошибка на тренировке = -0.32235\n",
            "Выиграли очков = 32 Проиграли очков = 50\n",
            "\n",
            "Тренировка = 2457\n",
            "Время тренировки = 11сек\n",
            "Ошибка на тренировке = -0.32029\n",
            "Выиграли очков = 24 Проиграли очков = 50\n",
            "\n",
            "Тренировка = 2458\n",
            "Время тренировки = 12сек\n",
            "Ошибка на тренировке = -0.32754\n",
            "Выиграли очков = 26 Проиграли очков = 50\n",
            "\n",
            "Тренировка = 2459\n",
            "Время тренировки = 39сек\n",
            "Ошибка на тренировке = -0.18775\n",
            "Выиграли очков = 20 Проиграли очков = 45\n",
            "\n",
            "Тренировка = 2460\n",
            "Время тренировки = 98сек\n",
            "Ошибка на тренировке = -0.08506\n",
            "Выиграли очков = 21 Проиграли очков = 37\n",
            "\n",
            "Тренировка = 2461\n",
            "Время тренировки = 73сек\n",
            "Ошибка на тренировке = -0.11708\n",
            "Выиграли очков = 32 Проиграли очков = 47\n",
            "\n",
            "Тренировка = 2462\n",
            "Время тренировки = 40сек\n",
            "Ошибка на тренировке = -0.16088\n",
            "Выиграли очков = 24 Проиграли очков = 47\n",
            "\n",
            "Тренировка = 2463\n",
            "Время тренировки = 12сек\n",
            "Ошибка на тренировке = -0.36179\n",
            "Выиграли очков = 27 Проиграли очков = 50\n",
            "\n",
            "Тренировка = 2464\n",
            "Время тренировки = 97сек\n",
            "Ошибка на тренировке = -0.10123\n",
            "Выиграли очков = 23 Проиграли очков = 41\n",
            "\n",
            "Тренировка = 2465\n",
            "Время тренировки = 43сек\n",
            "Ошибка на тренировке = -0.16356\n",
            "Выиграли очков = 32 Проиграли очков = 47\n",
            "\n",
            "Тренировка = 2466\n",
            "Время тренировки = 41сек\n",
            "Ошибка на тренировке = -0.19804\n",
            "Выиграли очков = 33 Проиграли очков = 48\n",
            "\n",
            "Тренировка = 2467\n",
            "Время тренировки = 12сек\n",
            "Ошибка на тренировке = -0.42049\n",
            "Выиграли очков = 26 Проиграли очков = 50\n",
            "\n",
            "Тренировка = 2468\n",
            "Время тренировки = 68сек\n",
            "Ошибка на тренировке = -0.12537\n",
            "Выиграли очков = 24 Проиграли очков = 43\n",
            "\n",
            "Тренировка = 2469\n",
            "Время тренировки = 97сек\n",
            "Ошибка на тренировке = -0.09762\n",
            "Выиграли очков = 27 Проиграли очков = 39\n",
            "\n",
            "Тренировка = 2470\n",
            "Время тренировки = 70сек\n",
            "Ошибка на тренировке = -0.13316\n",
            "Выиграли очков = 23 Проиграли очков = 43\n",
            "\n",
            "Тренировка = 2471\n",
            "Время тренировки = 97сек\n",
            "Ошибка на тренировке = -0.08511\n",
            "Выиграли очков = 26 Проиграли очков = 42\n",
            "\n",
            "Тренировка = 2472\n",
            "Время тренировки = 72сек\n",
            "Ошибка на тренировке = -0.1062\n",
            "Выиграли очков = 23 Проиграли очков = 45\n",
            "\n",
            "Тренировка = 2473\n",
            "Время тренировки = 13сек\n",
            "Ошибка на тренировке = -0.35977\n",
            "Выиграли очков = 30 Проиграли очков = 50\n",
            "\n",
            "Тренировка = 2474\n",
            "Время тренировки = 67сек\n",
            "Ошибка на тренировке = -0.11591\n",
            "Выиграли очков = 14 Проиграли очков = 43\n",
            "\n",
            "Тренировка = 2475\n",
            "Время тренировки = 70сек\n",
            "Ошибка на тренировке = -0.09499\n",
            "Выиграли очков = 31 Проиграли очков = 45\n",
            "\n",
            "Тренировка = 2476\n",
            "Время тренировки = 69сек\n",
            "Ошибка на тренировке = -0.10788\n",
            "Выиграли очков = 22 Проиграли очков = 43\n",
            "\n",
            "Тренировка = 2477\n",
            "Время тренировки = 69сек\n",
            "Ошибка на тренировке = -0.11586\n",
            "Выиграли очков = 29 Проиграли очков = 46\n",
            "\n",
            "Тренировка = 2478\n",
            "Время тренировки = 43сек\n",
            "Ошибка на тренировке = -0.16412\n",
            "Выиграли очков = 40 Проиграли очков = 48\n",
            "\n",
            "Тренировка = 2479\n",
            "Время тренировки = 41сек\n",
            "Ошибка на тренировке = -0.18525\n",
            "Выиграли очков = 31 Проиграли очков = 47\n",
            "\n",
            "Тренировка = 2480\n",
            "Время тренировки = 39сек\n",
            "Ошибка на тренировке = -0.1605\n",
            "Выиграли очков = 18 Проиграли очков = 48\n",
            "\n",
            "Тренировка = 2481\n",
            "Время тренировки = 69сек\n",
            "Ошибка на тренировке = -0.13692\n",
            "Выиграли очков = 29 Проиграли очков = 46\n",
            "\n",
            "Тренировка = 2482\n",
            "Время тренировки = 42сек\n",
            "Ошибка на тренировке = -0.19951\n",
            "Выиграли очков = 34 Проиграли очков = 49\n",
            "\n",
            "Тренировка = 2483\n",
            "Время тренировки = 13сек\n",
            "Ошибка на тренировке = -0.36056\n",
            "Выиграли очков = 39 Проиграли очков = 50\n",
            "\n",
            "Тренировка = 2484\n",
            "Время тренировки = 39сек\n",
            "Ошибка на тренировке = -0.15844\n",
            "Выиграли очков = 23 Проиграли очков = 48\n",
            "\n",
            "Тренировка = 2485\n",
            "Время тренировки = 40сек\n",
            "Ошибка на тренировке = -0.20311\n",
            "Выиграли очков = 32 Проиграли очков = 49\n",
            "\n",
            "Тренировка = 2486\n",
            "Время тренировки = 12сек\n",
            "Ошибка на тренировке = -0.26203\n",
            "Выиграли очков = 31 Проиграли очков = 50\n",
            "\n",
            "Тренировка = 2487\n",
            "Время тренировки = 69сек\n",
            "Ошибка на тренировке = -0.13266\n",
            "Выиграли очков = 33 Проиграли очков = 45\n",
            "\n",
            "Тренировка = 2488\n",
            "Время тренировки = 12сек\n",
            "Ошибка на тренировке = -0.35914\n",
            "Выиграли очков = 27 Проиграли очков = 50\n",
            "\n",
            "Тренировка = 2489\n",
            "Время тренировки = 98сек\n",
            "Ошибка на тренировке = -0.10962\n",
            "Выиграли очков = 31 Проиграли очков = 44\n",
            "\n",
            "Тренировка = 2490\n",
            "Время тренировки = 70сек\n",
            "Ошибка на тренировке = -0.15129\n",
            "Выиграли очков = 33 Проиграли очков = 47\n",
            "\n",
            "Тренировка = 2491\n",
            "Время тренировки = 41сек\n",
            "Ошибка на тренировке = -0.1778\n",
            "Выиграли очков = 30 Проиграли очков = 46\n",
            "\n",
            "Тренировка = 2492\n",
            "Время тренировки = 40сек\n",
            "Ошибка на тренировке = -0.19341\n",
            "Выиграли очков = 28 Проиграли очков = 48\n",
            "\n",
            "Тренировка = 2493\n",
            "Время тренировки = 13сек\n",
            "Ошибка на тренировке = -0.39333\n",
            "Выиграли очков = 33 Проиграли очков = 50\n",
            "\n",
            "Тренировка = 2494\n",
            "Время тренировки = 40сек\n",
            "Ошибка на тренировке = -0.21088\n",
            "Выиграли очков = 26 Проиграли очков = 46\n",
            "\n",
            "Тренировка = 2495\n",
            "Время тренировки = 68сек\n",
            "Ошибка на тренировке = -0.16972\n",
            "Выиграли очков = 29 Проиграли очков = 45\n",
            "\n",
            "Тренировка = 2496\n",
            "Время тренировки = 41сек\n",
            "Ошибка на тренировке = -0.17787\n",
            "Выиграли очков = 27 Проиграли очков = 47\n",
            "\n",
            "Тренировка = 2497\n",
            "Время тренировки = 40сек\n",
            "Ошибка на тренировке = -0.17162\n",
            "Выиграли очков = 37 Проиграли очков = 48\n",
            "\n",
            "Тренировка = 2498\n",
            "Время тренировки = 69сек\n",
            "Ошибка на тренировке = -0.16522\n",
            "Выиграли очков = 32 Проиграли очков = 43\n",
            "\n",
            "Тренировка = 2499\n",
            "Время тренировки = 41сек\n",
            "Ошибка на тренировке = -0.1927\n",
            "Выиграли очков = 29 Проиграли очков = 47\n",
            "\n",
            "Тренировка = 2500\n",
            "Время тренировки = 96сек\n",
            "Ошибка на тренировке = -0.08959\n",
            "Выиграли очков = 23 Проиграли очков = 44\n",
            "\n",
            "Тренировка = 2501\n",
            "Время тренировки = 106сек\n",
            "Ошибка на тренировке = -0.10786\n",
            "Выиграли очков = 28 Проиграли очков = 40\n",
            "\n",
            "Тренировка = 2502\n",
            "Время тренировки = 108сек\n",
            "Ошибка на тренировке = -0.12728\n",
            "Выиграли очков = 37 Проиграли очков = 43\n",
            "\n",
            "Тренировка = 2503\n",
            "Время тренировки = 12сек\n",
            "Ошибка на тренировке = -0.2791\n",
            "Выиграли очков = 25 Проиграли очков = 50\n",
            "\n",
            "Тренировка = 2504\n",
            "Время тренировки = 12сек\n",
            "Ошибка на тренировке = -0.29633\n",
            "Выиграли очков = 28 Проиграли очков = 50\n",
            "\n",
            "Тренировка = 2505\n",
            "Время тренировки = 40сек\n",
            "Ошибка на тренировке = -0.16734\n",
            "Выиграли очков = 33 Проиграли очков = 48\n",
            "\n"
          ]
        }
      ]
    },
    {
      "cell_type": "code",
      "metadata": {
        "id": "aSWFN6HSe6HJ",
        "colab": {
          "base_uri": "https://localhost:8080/"
        },
        "outputId": "48f8a1ad-5c2d-495e-90ec-41276c7f24d7"
      },
      "source": [
        "###########################\n",
        "# Импорт библиотек для записи и воспроизведения видео\n",
        "###########################\n",
        "!pip install pyvirtualdisplay > /dev/null 2>&1 \n",
        "# Устанавливаем виртуальный дисплей pyvirtualdisplay; \"/dev/null 2>&1\" уберёт длинный вывод в строке output\n",
        "!apt-get install -y xvfb python-opengl ffmpeg > /dev/null 2>&1 # создает вирт.дисплей в памяти(нужен для работы дисплея в ноутбуке)\n",
        "# \"apt-get...\" - установка пакета программного обеспечения\n",
        "# \"...-y...\" автоматический \"yes\" на вопрос \"вы действительно хотите это установить?\" \n",
        "# \"...xvfb...\" - бэкенд для pyvirtualdisplay - сервер, который выполняет все графические операции в памяти без вывода на экран\n",
        "# \"...python-opengl...\" - поддержка графики с помощью графической библиотеки\n",
        "# \"...ffmpeg\" - пакеты для обработки/конвертирования видеофайла из одного формата в другой\n",
        " \n",
        "from gym.wrappers import Monitor # класс Monitor из пакета функций-обёрток в gym активирует видеозапись игры\n",
        "import glob   # модуль возвращает список путей к видео по шаблону (для удобства поиска/воспроизведения текущего видео)\n",
        "import base64 # библиотека поможет нам закодировать видео в 64-разрядный код, и без повреждений/изменений открыть его в ноутбуке через HTML\n",
        " \n",
        "from IPython.display import HTML              # загружаем модуль чтобы обратиться к HTML для открытия закодированного видео \n",
        "from IPython import display as ipythondisplay # активирует дисплей для воспроизведения видео в интерфейсе ноутбука\n",
        "from pyvirtualdisplay import Display          # модуль для активации виртуального дисплея\n",
        "display = Display(visible=0, size=(1400, 900))# запустим невидимый виртуальный дисплей\n",
        "display.start()"
      ],
      "execution_count": 24,
      "outputs": [
        {
          "output_type": "execute_result",
          "data": {
            "text/plain": [
              "<pyvirtualdisplay.display.Display at 0x7fa31e7d1890>"
            ]
          },
          "metadata": {},
          "execution_count": 24
        }
      ]
    },
    {
      "cell_type": "code",
      "metadata": {
        "id": "O-DIflgWVRXe"
      },
      "source": [
        "###########################\n",
        "# Задаем функции записи и воспроизведения видео\n",
        "###########################\n",
        "def wrapEnv(env):                           # зададим функцию-обёртку над средой\n",
        "  env = Monitor(env, './video', force=True) # класс Monitor будет записывать игру в видеофайл\n",
        "  return env                                # теперь вызов среды через функцию wrapEnv будет запускать видеозапись\n",
        " \n",
        "def showVideo():                            # функция для воспроизведения видео в ноутбуке\n",
        "  mp4list = glob.glob('video/*.mp4')        # возвращает список путей к видео по этому шаблону\n",
        "  if len(mp4list) > 0:                      # если по этому пути нашелся хотя бы один файл\n",
        "    mp4 = mp4list[0]                        # то берём самый свежий файл\n",
        "    video = open(mp4, 'r+b').read()         # открываем в режиме чтения/записи бинарного файла\n",
        "    encoded = base64.b64encode(video)       # кодируем видео в 64-разрядный код \n",
        "    ipythondisplay.display(HTML(data='''<video alt=\"test\" autoplay\n",
        "                loop controls style=\"height: 400px;\">\n",
        "                <source src=\"data:video/mp4;base64,{0}\" type=\"video/mp4\" />\n",
        "             </video>'''.format(encoded.decode('ascii'))))\n",
        "    # Декодируем ascii формат в видео mp4 - \"format(encoded.decode('ascii'))))\"\n",
        "    # для воспроизведения на разных браузерах - \"<source src=\"data:video/mp4\"\n",
        "    # задаём высоту экрана 400px - \"height: 400px;\"\n",
        "    # активируем элементы управления в видео(типа кнопки паузы и т.п) - \"controls\"\n",
        "    # включаем автоповтор после окончания воспроизведения - \"loop\"\n",
        "    # видео автоматически воспроизведется по готовности - \"autoplay\"\n",
        "    # текстовая альтернатива описывающая объект в случае невозможности отображения - \"alt=\"test\"\"\n",
        "    \n",
        "  else:                           # если путь не нашелся \n",
        "    print(\"Could not find video\") # то выведем на печать, что не смог найти видео"
      ],
      "execution_count": 25,
      "outputs": []
    },
    {
      "cell_type": "code",
      "metadata": {
        "id": "mshyNU5IVUj6"
      },
      "source": [
        "###########################\n",
        "# Задаем функцию сыграть и показать игру\n",
        "###########################\n",
        "def playAndShowEpisode(policyNetwork): # подаем на вход функции модель нейросети\n",
        "    env = wrapEnv(gym.make('Breakout-v0')) # создаем среду в режиме записи\n",
        "    done = False                       # игровой эпизод не завершён\n",
        "    observation = env.reset()          # задаем начальное состояние среды, которое наблюдает агент\n",
        "    observation, reward, done, info = env.step(1)\n",
        "    lives = info['ale.lives']\n",
        "    newObservation = observation       # задали новое состояние которое наблюдает агент\n",
        "    \n",
        "    while done == False:               # пока игровой эпизод не завершён\n",
        "        # На вход сети будет подаваться очередное состояние - разница между кадрами. \n",
        "        processedNetworkInput = preprocessFrames(newFrame=newObservation,lastFrame=observation) # зададим это состояние\n",
        "        reshapedInput = np.expand_dims(processedNetworkInput,axis=0) # размер 'x' - (80,80), делаем размерность (x,(1,80,80))\n",
        " \n",
        "        upProbability = policyNetwork.predict(reshapedInput,batch_size=1)[0][0] # задаем вероятность шага вверх\n",
        "        actualAction = np.random.choice(a=[2,3], size=1, p=[upProbability,1-upProbability])\n",
        "        # сделаем фактический шаг либо вверх(2) c вероятностью upProbability, либо вниз(3) с обратной вероятностью\n",
        "        \n",
        "        env.render()                   # запускаем воспроизведение среды\n",
        "        \n",
        "        observation = newObservation   # текущий newObservation записываем как старый, перед тем как сделать следующий шаг\n",
        "        newObservation, reward, done, info = env.step(actualAction) # сделали новый шаг, получили новую награду, новое состояние\n",
        "        if info['ale.lives'] != lives:\n",
        "            if info['ale.lives'] != 0:\n",
        "                newObservation, reward, done, info = env.step(1) # перезапускаем игру\n",
        "                lives = info['ale.lives']\n",
        "    env.close() # закрываем игровую среду после окончания игры\n",
        "    showVideo() # показать видео игры"
      ],
      "execution_count": 48,
      "outputs": []
    },
    {
      "cell_type": "code",
      "metadata": {
        "colab": {
          "base_uri": "https://localhost:8080/",
          "height": 495
        },
        "id": "k4QoV7mUVdk5",
        "outputId": "4cdbcb54-299e-4196-b868-bf9f012d669d"
      },
      "source": [
        "# Взглянем как сыграет сетка, обученная на 2150 тренировках\n",
        "\n",
        "policyNetworkModel840 = load_model(\"/content/drive/MyDrive/Neural_Univesity/hw_16/policyNetworkModel2150.h5\") # подгружаем модель из сохранённых\n",
        "playAndShowEpisode(policyNetworkModel840)                     # запускаем игровой эпизод"
      ],
      "execution_count": 49,
      "outputs": [
        {
          "output_type": "stream",
          "name": "stdout",
          "text": [
            "WARNING:tensorflow:No training configuration found in the save file, so the model was *not* compiled. Compile it manually.\n"
          ]
        },
        {
          "output_type": "stream",
          "name": "stderr",
          "text": [
            "/usr/local/lib/python3.7/dist-packages/keras/engine/training.py:2470: UserWarning: `Model.state_updates` will be removed in a future version. This property should not be used in TensorFlow 2.0, as `updates` are applied automatically.\n",
            "  warnings.warn('`Model.state_updates` will be removed in a future version. '\n"
          ]
        },
        {
          "output_type": "display_data",
          "data": {
            "text/html": [
              "<video alt=\"test\" autoplay\n",
              "                loop controls style=\"height: 400px;\">\n",
              "                <source src=\"data:video/mp4;base64,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\" type=\"video/mp4\" />\n",
              "             </video>"
            ],
            "text/plain": [
              "<IPython.core.display.HTML object>"
            ]
          },
          "metadata": {}
        }
      ]
    },
    {
      "cell_type": "code",
      "metadata": {
        "id": "o2g4BaaSVq-9"
      },
      "source": [
        ""
      ],
      "execution_count": null,
      "outputs": []
    },
    {
      "cell_type": "code",
      "metadata": {
        "id": "fAlgbH2Ldb9y"
      },
      "source": [
        ""
      ],
      "execution_count": null,
      "outputs": []
    },
    {
      "cell_type": "code",
      "metadata": {
        "id": "8S0AoDyqdBSu"
      },
      "source": [
        ""
      ],
      "execution_count": null,
      "outputs": []
    }
  ]
}