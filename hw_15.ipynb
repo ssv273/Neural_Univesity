{
  "nbformat": 4,
  "nbformat_minor": 0,
  "metadata": {
    "colab": {
      "name": "Untitled48.ipynb",
      "provenance": [],
      "collapsed_sections": [],
      "authorship_tag": "ABX9TyNwhOeKhYzuSx+BKJihtFTO",
      "include_colab_link": true
    },
    "kernelspec": {
      "name": "python3",
      "display_name": "Python 3"
    },
    "language_info": {
      "name": "python"
    },
    "accelerator": "GPU"
  },
  "cells": [
    {
      "cell_type": "markdown",
      "metadata": {
        "id": "view-in-github",
        "colab_type": "text"
      },
      "source": [
        "<a href=\"https://colab.research.google.com/github/ssv273/Neural_Univesity/blob/main/hw_15.ipynb\" target=\"_parent\"><img src=\"https://colab.research.google.com/assets/colab-badge.svg\" alt=\"Open In Colab\"/></a>"
      ]
    },
    {
      "cell_type": "code",
      "metadata": {
        "id": "O5BxXM8GM7bj"
      },
      "source": [
        "from tensorflow.keras.models import Model, Sequential # загружаем абстрактный класс базовой модели сети от кераса и последовательную модель\n",
        "# Из кераса загружаем необходимые слои для нейросети\n",
        "from tensorflow.keras.layers import Dense, Flatten, Reshape, Input, Conv2DTranspose, concatenate, Activation, MaxPooling2D, Conv2D, BatchNormalization\n",
        "from tensorflow.keras import backend as K # подтягиваем базовые керасовские функции\n",
        "from tensorflow.keras.optimizers import Adam # загружаем выбранный оптимизатор\n",
        "from tensorflow.keras import utils # загружаем утилиты кераса\n",
        "from tensorflow.keras.datasets import mnist, fashion_mnist # загружаем готовые базы mnist\n",
        "from tensorflow.keras.callbacks import LambdaCallback\n",
        "\n",
        "import matplotlib.pyplot as plt # из библиотеки для визуализации данных возьмём интерфейс для построения графиков простых функций\n",
        "from tensorflow.keras.preprocessing import image # модуль для отрисовки изображения\n",
        "import numpy as np # библиотека для работы с массивами данных\n",
        "import pandas as pd # библиотека для анализа и обработки данных\n",
        "from PIL import Image # модуль для отрисовки изображения\n",
        "from sklearn.model_selection import train_test_split # модуль для разбивки выборки на тренировочную/тестовую\n",
        "from sklearn.preprocessing import StandardScaler # модуль для стандартизации данных\n",
        "from sklearn.manifold import TSNE\n",
        "from sklearn.cluster import KMeans # Импортируем библиотуке KMeans для кластеризации\n",
        "\n",
        "import os #\n",
        "from google.colab import drive #модуль для работы с google диском \n",
        "import time, random\n",
        "import seaborn as sns\n",
        "sns.set_style('darkgrid')"
      ],
      "execution_count": 1,
      "outputs": []
    },
    {
      "cell_type": "code",
      "metadata": {
        "id": "YLl-el84ND63"
      },
      "source": [
        "(xTrainMnist, yTrainMnist), (xTestMnist, yTestMnist) = mnist.load_data() # загружаем данные из базы с разбивкой на train/test\n",
        "xTrainMnist = xTrainMnist.astype('float32')/255 # представляем в виде значений от 0 до 1\n",
        "xTrainMnist = xTrainMnist.reshape(-1, 28, 28, 1) # меняем форму, приводим к нужным нам размерам\n",
        "xTestMnist = xTestMnist.astype('float32')/255 # представляем в виде значений от 0 до 1\n",
        "xTestMnist = xTestMnist.reshape(-1, 28, 28, 1) # меняем форму, приводим к нужным нам размерам"
      ],
      "execution_count": 2,
      "outputs": []
    },
    {
      "cell_type": "code",
      "metadata": {
        "id": "ivTvVsDMNSyu"
      },
      "source": [
        "def baseAutoencoder(latent_dim=10, shape=(28,28,1)): # зададим функцию создания базового автокодировщика\n",
        "    img_input = Input((shape)) # задаём входные размеры\n",
        "\n",
        "    x = Conv2D(32, (3, 3), padding='same', activation='relu')(img_input) # входные данные передаем на слой двумерной свёртки\n",
        "    x = BatchNormalization()(x) # затем пропускаем через слой нормализации данных \n",
        "    x = Conv2D(32, (3, 3), padding='same', activation='relu')(x) # далее снова слой двумерной свёртки\n",
        "    x = BatchNormalization()(x) # и еще слой нормализации данных\n",
        "    x = MaxPooling2D()(x) # передаём на слой подвыборки, снижающий размерность поступивших на него данных\n",
        "\n",
        "    x = Conv2D(64, (3, 3), padding='same', activation='relu')(x) # передаем на слой двумерной свёртки\n",
        "    x = BatchNormalization()(x) # пропускаем через слой нормализации данных \n",
        "    x = Conv2D(64, (3, 3), padding='same', activation='relu')(x)  # далее снова слой двумерной свёртки\n",
        "    x = BatchNormalization()(x) # и еще слой нормализации данных\n",
        "    x = MaxPooling2D()(x) # передаём на слой подвыборки\n",
        "\n",
        "    x = Flatten()(x)\n",
        "    encoded = Dense(latent_dim, activation='relu')(x)   \n",
        "\n",
        "    input_encoded = Input(shape=(latent_dim,)) # задаем входную размерность\n",
        "\n",
        "    x = Dense(7*7*64, activation='relu')(input_encoded)  \n",
        "    x = Reshape((7, 7, 64))(x)\n",
        "    x = Conv2DTranspose(64, (2, 2), strides=(2, 2), padding='same', activation='relu')(x) # слой разжимает данные(с 28*20 на 56*40)\n",
        "    x = BatchNormalization()(x) # слой нормализации данных\n",
        "    \n",
        "    x = Conv2D(64, (3, 3), padding='same', activation='relu')(x) # передаем на слой двумерной свёртки\n",
        "    x = BatchNormalization()(x) # слой нормализации данных\n",
        "    x = Conv2D(64, (3, 3), padding='same', activation='relu')(x) # ещё слой двумерной свёртки\n",
        "    x = BatchNormalization()(x) # слой нормализации данных\n",
        "    # Сжатие MaxPooling2D не применяем\n",
        "\n",
        "    x = Conv2DTranspose(32, (2, 2), strides=(2, 2), padding='same', activation='relu')(x) # слой разжимает данные(с 56*40 на 112*80)\n",
        "    x = BatchNormalization()(x) # слой нормализации данных\n",
        "    x = Conv2D(32, (3, 3), padding='same', activation='relu')(x) # передаем на слой двумерной свёртки\n",
        "    x = BatchNormalization()(x) # слой нормализации данных\n",
        "    x = Conv2D(32, (3, 3), padding='same', activation='relu')(x) # ещё слой двумерной свёртки\n",
        "    x = BatchNormalization()(x) # слой нормализации данных\n",
        "\n",
        "    # Финальный слой двумерной свертки, выдающий итоговое изображение\n",
        "    decoded = Conv2D(shape[-1], (3, 3), activation='sigmoid', padding='same')(x)\n",
        "\n",
        "    encoder = Model(img_input,encoded)\n",
        "    decoder = Model(input_encoded, decoded, name=\"decoder\")  \n",
        "    autoencoder = Model(img_input, decoder(encoder(img_input)), name=\"autoencoder\")\n",
        "\n",
        "    return encoder, decoder, autoencoder # функция вернёт заданную модель"
      ],
      "execution_count": 3,
      "outputs": []
    },
    {
      "cell_type": "code",
      "metadata": {
        "id": "x2Q9YNUBPQTL"
      },
      "source": [
        "encoder, decoder, autoencoder = baseAutoencoder() # создаем три сетки с помощью заданной ранее функции\n"
      ],
      "execution_count": 4,
      "outputs": []
    },
    {
      "cell_type": "code",
      "metadata": {
        "colab": {
          "base_uri": "https://localhost:8080/",
          "height": 232
        },
        "id": "Gi6BBdC0PZoS",
        "outputId": "d7cfe0be-7c62-480e-8d8d-85a7e2d0999c"
      },
      "source": [
        "utils.plot_model(autoencoder, show_shapes=True, dpi=70)"
      ],
      "execution_count": 5,
      "outputs": [
        {
          "output_type": "execute_result",
          "data": {
            "image/png": "[encoded data removed]",
            "text/plain": [
              "<IPython.core.display.Image object>"
            ]
          },
          "metadata": {},
          "execution_count": 5
        }
      ]
    },
    {
      "cell_type": "code",
      "metadata": {
        "colab": {
          "base_uri": "https://localhost:8080/"
        },
        "id": "h8A34HovUOUq",
        "outputId": "04b63f54-2169-49b4-cb57-71b0646d259c"
      },
      "source": [
        "autoencoder.compile(optimizer=Adam(learning_rate=0.0001), loss='mean_squared_error') # компилируем модель с оптимайзером Адам и среднеквадратичной ошибкой\n",
        "EPOCHS = 50\n",
        "\n",
        "autoencoder.fit(xTrainMnist, xTrainMnist,\n",
        "                epochs=EPOCHS,\n",
        "                batch_size=256,\n",
        "                shuffle=True,\n",
        "                verbose=1)"
      ],
      "execution_count": 6,
      "outputs": [
        {
          "output_type": "stream",
          "name": "stdout",
          "text": [
            "Epoch 1/50\n",
            "235/235 [==============================] - 14s 42ms/step - loss: 0.1196\n",
            "Epoch 2/50\n",
            "235/235 [==============================] - 10s 41ms/step - loss: 0.0763\n",
            "Epoch 3/50\n",
            "235/235 [==============================] - 10s 41ms/step - loss: 0.0714\n",
            "Epoch 4/50\n",
            "235/235 [==============================] - 10s 41ms/step - loss: 0.0693\n",
            "Epoch 5/50\n",
            "235/235 [==============================] - 10s 42ms/step - loss: 0.0687\n",
            "Epoch 6/50\n",
            "235/235 [==============================] - 10s 42ms/step - loss: 0.0673\n",
            "Epoch 7/50\n",
            "235/235 [==============================] - 10s 42ms/step - loss: 0.0657\n",
            "Epoch 8/50\n",
            "235/235 [==============================] - 10s 42ms/step - loss: 0.0647\n",
            "Epoch 9/50\n",
            "235/235 [==============================] - 10s 42ms/step - loss: 0.0631\n",
            "Epoch 10/50\n",
            "235/235 [==============================] - 10s 42ms/step - loss: 0.0615\n",
            "Epoch 11/50\n",
            "235/235 [==============================] - 10s 42ms/step - loss: 0.0606\n",
            "Epoch 12/50\n",
            "235/235 [==============================] - 10s 42ms/step - loss: 0.0558\n",
            "Epoch 13/50\n",
            "235/235 [==============================] - 10s 43ms/step - loss: 0.0510\n",
            "Epoch 14/50\n",
            "235/235 [==============================] - 10s 43ms/step - loss: 0.0493\n",
            "Epoch 15/50\n",
            "235/235 [==============================] - 10s 43ms/step - loss: 0.0477\n",
            "Epoch 16/50\n",
            "235/235 [==============================] - 10s 43ms/step - loss: 0.0454\n",
            "Epoch 17/50\n",
            "235/235 [==============================] - 10s 43ms/step - loss: 0.0406\n",
            "Epoch 18/50\n",
            "235/235 [==============================] - 10s 43ms/step - loss: 0.0358\n",
            "Epoch 19/50\n",
            "235/235 [==============================] - 10s 43ms/step - loss: 0.0341\n",
            "Epoch 20/50\n",
            "235/235 [==============================] - 10s 43ms/step - loss: 0.0331\n",
            "Epoch 21/50\n",
            "235/235 [==============================] - 10s 43ms/step - loss: 0.0324\n",
            "Epoch 22/50\n",
            "235/235 [==============================] - 10s 43ms/step - loss: 0.0319\n",
            "Epoch 23/50\n",
            "235/235 [==============================] - 10s 43ms/step - loss: 0.0314\n",
            "Epoch 24/50\n",
            "235/235 [==============================] - 10s 43ms/step - loss: 0.0310\n",
            "Epoch 25/50\n",
            "235/235 [==============================] - 10s 43ms/step - loss: 0.0307\n",
            "Epoch 26/50\n",
            "235/235 [==============================] - 10s 43ms/step - loss: 0.0305\n",
            "Epoch 27/50\n",
            "235/235 [==============================] - 10s 43ms/step - loss: 0.0302\n",
            "Epoch 28/50\n",
            "235/235 [==============================] - 10s 43ms/step - loss: 0.0299\n",
            "Epoch 29/50\n",
            "235/235 [==============================] - 10s 43ms/step - loss: 0.0297\n",
            "Epoch 30/50\n",
            "235/235 [==============================] - 10s 43ms/step - loss: 0.0295\n",
            "Epoch 31/50\n",
            "235/235 [==============================] - 10s 43ms/step - loss: 0.0294\n",
            "Epoch 32/50\n",
            "235/235 [==============================] - 10s 43ms/step - loss: 0.0291\n",
            "Epoch 33/50\n",
            "235/235 [==============================] - 10s 43ms/step - loss: 0.0291\n",
            "Epoch 34/50\n",
            "235/235 [==============================] - 10s 43ms/step - loss: 0.0289\n",
            "Epoch 35/50\n",
            "235/235 [==============================] - 10s 43ms/step - loss: 0.0288\n",
            "Epoch 36/50\n",
            "235/235 [==============================] - 10s 43ms/step - loss: 0.0287\n",
            "Epoch 37/50\n",
            "235/235 [==============================] - 10s 43ms/step - loss: 0.0285\n",
            "Epoch 38/50\n",
            "235/235 [==============================] - 10s 43ms/step - loss: 0.0284\n",
            "Epoch 39/50\n",
            "235/235 [==============================] - 10s 43ms/step - loss: 0.0283\n",
            "Epoch 40/50\n",
            "235/235 [==============================] - 10s 43ms/step - loss: 0.0282\n",
            "Epoch 41/50\n",
            "235/235 [==============================] - 10s 43ms/step - loss: 0.0281\n",
            "Epoch 42/50\n",
            "235/235 [==============================] - 10s 43ms/step - loss: 0.0279\n",
            "Epoch 43/50\n",
            "235/235 [==============================] - 10s 43ms/step - loss: 0.0279\n",
            "Epoch 44/50\n",
            "235/235 [==============================] - 10s 43ms/step - loss: 0.0278\n",
            "Epoch 45/50\n",
            "235/235 [==============================] - 10s 43ms/step - loss: 0.0278\n",
            "Epoch 46/50\n",
            "235/235 [==============================] - 10s 43ms/step - loss: 0.0277\n",
            "Epoch 47/50\n",
            "235/235 [==============================] - 10s 43ms/step - loss: 0.0276\n",
            "Epoch 48/50\n",
            "235/235 [==============================] - 10s 43ms/step - loss: 0.0275\n",
            "Epoch 49/50\n",
            "235/235 [==============================] - 10s 43ms/step - loss: 0.0275\n",
            "Epoch 50/50\n",
            "235/235 [==============================] - 10s 43ms/step - loss: 0.0273\n"
          ]
        },
        {
          "output_type": "execute_result",
          "data": {
            "text/plain": [
              "<keras.callbacks.History at 0x7f6f2a507f90>"
            ]
          },
          "metadata": {},
          "execution_count": 6
        }
      ]
    },
    {
      "cell_type": "markdown",
      "metadata": {
        "id": "LuunYk7kap1k"
      },
      "source": [
        "## Немного порисуем"
      ]
    },
    {
      "cell_type": "code",
      "metadata": {
        "id": "W8y8h6zjUsfW"
      },
      "source": [
        "def draw_embeddings(X_embedded, targets, labels):\n",
        "    plt.figure(figsize=(10, 10))\n",
        "    for class_idx in range(np.max(targets)+1):\n",
        "        X_embedded_class = X_embedded[targets == class_idx, :]\n",
        "        plt.scatter(X_embedded_class[:,0], X_embedded_class[:,1])\n",
        "    plt.legend(labels, loc='best')\n",
        "    plt.grid(True)"
      ],
      "execution_count": 7,
      "outputs": []
    },
    {
      "cell_type": "code",
      "metadata": {
        "id": "8x2mYHPZVWK3"
      },
      "source": [
        "train_x_flat = xTrainMnist[:200].reshape(-1, 28*28)\n",
        "train_x_2D = TSNE(n_components=2).fit_transform(train_x_flat)\n",
        "labels_for_viz = yTrainMnist[:200]"
      ],
      "execution_count": 8,
      "outputs": []
    },
    {
      "cell_type": "markdown",
      "metadata": {
        "id": "WJ2p8-wXatmG"
      },
      "source": [
        "## Посмотрим как располагались вектора в пространстве до энкодинга"
      ]
    },
    {
      "cell_type": "code",
      "metadata": {
        "colab": {
          "base_uri": "https://localhost:8080/",
          "height": 592
        },
        "id": "-mKlDYsyXKww",
        "outputId": "475f1789-5879-44c2-b8df-aaf27ac9307f"
      },
      "source": [
        "draw_embeddings(train_x_2D, labels_for_viz, list(range(10)))"
      ],
      "execution_count": 9,
      "outputs": [
        {
          "output_type": "display_data",
          "data": {
            "image/png": "[encoded data removed]",
            "text/plain": [
              "<Figure size 720x720 with 1 Axes>"
            ]
          },
          "metadata": {
            "needs_background": "light"
          }
        }
      ]
    },
    {
      "cell_type": "code",
      "metadata": {
        "id": "bdrPawx9X4Hb"
      },
      "source": [
        "test_x_flat = encoder.predict(xTestMnist[:200])\n",
        "test_x_2D = TSNE(n_components=2).fit_transform(test_x_flat)\n",
        "labels_for_viz = yTestMnist[:200]"
      ],
      "execution_count": 10,
      "outputs": []
    },
    {
      "cell_type": "markdown",
      "metadata": {
        "id": "eK_9yb_Ya5D2"
      },
      "source": [
        "## После кодирования"
      ]
    },
    {
      "cell_type": "code",
      "metadata": {
        "colab": {
          "base_uri": "https://localhost:8080/",
          "height": 592
        },
        "id": "f2FXjYYCZJN9",
        "outputId": "11c51212-b7cc-4746-d807-57a38a0d3629"
      },
      "source": [
        "draw_embeddings(test_x_flat, labels_for_viz, list(range(10)))"
      ],
      "execution_count": 11,
      "outputs": [
        {
          "output_type": "display_data",
          "data": {
            "image/png": "[encoded data removed]",
            "text/plain": [
              "<Figure size 720x720 with 1 Axes>"
            ]
          },
          "metadata": {
            "needs_background": "light"
          }
        }
      ]
    },
    {
      "cell_type": "markdown",
      "metadata": {
        "id": "FuyBFQHea-pv"
      },
      "source": [
        "как мы видим, картинка получилась даже хуже чем была"
      ]
    },
    {
      "cell_type": "markdown",
      "metadata": {
        "id": "leyHn6f0bGMe"
      },
      "source": [
        "## Проверим, обучились ли энкодер и декодер"
      ]
    },
    {
      "cell_type": "code",
      "metadata": {
        "id": "UR6I-HsCZ4i7"
      },
      "source": [
        "def plotImages(xTrain, pred, shape=(112, 80)): # создадим функцию для вывода изображений как картинок\n",
        "  n = 5  # количество картинок, которые хотим показать\n",
        "  plt.figure(figsize=(14, 7)) # указываем размеры фигуры\n",
        "  for i in range(n): # для каждой картинки из n(5)\n",
        "      index = np.random.randint(0, pred.shape[0]) # startIndex - начиная с какого индекса хотим заплотить картинки\n",
        "      # Показываем картинки из тестового набора\n",
        "      ax = plt.subplot(2, n, i + 1) # выведем область рисования Axes\n",
        "      plt.imshow(xTrain[index].reshape(shape)) # отрисуем правильные картинки в размере 112*80      \n",
        "      plt.gray() # выведем в черно-белом цвете\n",
        "      ax.get_xaxis().set_visible(False) # скрываем вывод координатной оси x\n",
        "      ax.get_yaxis().set_visible(False) # скрываем вывод координатной оси y\n",
        "\n",
        "      # Показываем восстановленные картинки\n",
        "      ax = plt.subplot(2, n, i + 1 + n) # выведем область рисования Axes \n",
        "      plt.imshow(pred[index].reshape(shape)) # отрисуем обработанные сеткой картинки в размере 112*80     \n",
        "      plt.gray() # выведем в черно-белом цвете\n",
        "      ax.get_xaxis().set_visible(False) # скрываем вывод координатной оси x\n",
        "      ax.get_yaxis().set_visible(False) # скрываем вывод координатной оси y\n",
        "  plt.show()"
      ],
      "execution_count": 12,
      "outputs": []
    },
    {
      "cell_type": "code",
      "metadata": {
        "colab": {
          "base_uri": "https://localhost:8080/"
        },
        "id": "wVkgPGWyZ5Ee",
        "outputId": "639c2d79-9f08-44e2-ed1e-a6e09e7302b3"
      },
      "source": [
        "enc = encoder.predict(xTestMnist[:200])\n",
        "enc.shape"
      ],
      "execution_count": 13,
      "outputs": [
        {
          "output_type": "execute_result",
          "data": {
            "text/plain": [
              "(200, 10)"
            ]
          },
          "metadata": {},
          "execution_count": 13
        }
      ]
    },
    {
      "cell_type": "code",
      "metadata": {
        "id": "yvV_hssxaEr6"
      },
      "source": [
        "dec = decoder.predict(enc)"
      ],
      "execution_count": 14,
      "outputs": []
    },
    {
      "cell_type": "code",
      "metadata": {
        "colab": {
          "base_uri": "https://localhost:8080/",
          "height": 373
        },
        "id": "ncuh4yZ3aHgn",
        "outputId": "aacdf361-7898-4fc9-b718-8e4781a2bfe9"
      },
      "source": [
        "plotImages(xTestMnist[:200], dec, shape=(28,28)) # покажем исходные и восстановленные картинки"
      ],
      "execution_count": 15,
      "outputs": [
        {
          "output_type": "display_data",
          "data": {
            "image/png": "[encoded data removed]",
            "text/plain": [
              "<Figure size 1008x504 with 10 Axes>"
            ]
          },
          "metadata": {
            "needs_background": "light"
          }
        }
      ]
    },
    {
      "cell_type": "markdown",
      "metadata": {
        "id": "cM14O2tLbMYh"
      },
      "source": [
        "как видим - обучились"
      ]
    },
    {
      "cell_type": "markdown",
      "metadata": {
        "id": "XyxnMrQ0bW-t"
      },
      "source": [
        "## Сделаем кластеризацию"
      ]
    },
    {
      "cell_type": "code",
      "metadata": {
        "id": "D5OA0DlFbrIU"
      },
      "source": [
        "x_test_encoded = encoder.predict(xTestMnist)"
      ],
      "execution_count": 16,
      "outputs": []
    },
    {
      "cell_type": "code",
      "metadata": {
        "id": "qXvqMOHxaUyt"
      },
      "source": [
        "clustersCount = 10            # Задаем количество кластеров\n",
        "kmean = KMeans(clustersCount) # Создаем объект KMeans с указанным количеством кластеров\n",
        "kmean.fit(x_test_encoded)     # Произвдим кластеризацию данных xTrain01Scaled\n",
        "labels = kmean.labels_        # Получаем метки кластеров"
      ],
      "execution_count": 17,
      "outputs": []
    },
    {
      "cell_type": "markdown",
      "metadata": {
        "id": "FbdzlHPMcC_b"
      },
      "source": [
        "## нарисуем получившиеся кластеры"
      ]
    },
    {
      "cell_type": "code",
      "metadata": {
        "colab": {
          "base_uri": "https://localhost:8080/",
          "height": 592
        },
        "id": "5Qn5gCuZcIDR",
        "outputId": "194877ba-1fe7-4588-b739-8cb5df27c683"
      },
      "source": [
        "draw_embeddings(x_test_encoded[:200], labels[:200], list(range(10)))"
      ],
      "execution_count": 18,
      "outputs": [
        {
          "output_type": "display_data",
          "data": {
            "image/png": "[encoded data removed]",
            "text/plain": [
              "<Figure size 720x720 with 1 Axes>"
            ]
          },
          "metadata": {
            "needs_background": "light"
          }
        }
      ]
    },
    {
      "cell_type": "markdown",
      "metadata": {
        "id": "6-eTmTfnchSY"
      },
      "source": [
        "## Посмотрим как удалось кластеризовать"
      ]
    },
    {
      "cell_type": "code",
      "metadata": {
        "id": "cQQipUr9eeDh"
      },
      "source": [
        "labels_arr = np.array(labels)"
      ],
      "execution_count": 19,
      "outputs": []
    },
    {
      "cell_type": "code",
      "metadata": {
        "colab": {
          "base_uri": "https://localhost:8080/"
        },
        "id": "nhTT42G5cmny",
        "outputId": "8452e127-2f00-49eb-9bed-f496b47f83c4"
      },
      "source": [
        "for i in range(10):\n",
        "    count_dict = dict(zip(np.unique(yTestMnist[labels_arr == i], return_counts=True)[0], np.unique(yTestMnist[labels_arr == i], return_counts=True)[1]))\n",
        "    count_dict = dict(sorted(count_dict.items(), key=lambda item: item[1],reverse=True))\n",
        "    print(f\"\"\"Класс {i}, в классе содержатся следующие цифры {count_dict}\"\"\")"
      ],
      "execution_count": 20,
      "outputs": [
        {
          "output_type": "stream",
          "name": "stdout",
          "text": [
            "Класс 0, в классе содержатся следующие цифры {0: 799, 8: 8, 2: 7, 3: 4, 6: 3, 9: 2, 5: 1}\n",
            "Класс 1, в классе содержатся следующие цифры {1: 568, 7: 18, 5: 13, 3: 10, 9: 9, 4: 4, 2: 2, 8: 2}\n",
            "Класс 2, в классе содержатся следующие цифры {4: 546, 9: 417, 7: 134, 2: 27, 8: 9, 3: 7, 5: 5, 6: 2}\n",
            "Класс 3, в классе содержатся следующие цифры {8: 723, 3: 350, 2: 201, 9: 21, 1: 9, 5: 6, 0: 5, 7: 2, 6: 1}\n",
            "Класс 4, в классе содержатся следующие цифры {1: 550, 7: 174, 8: 85, 9: 45, 4: 41, 5: 33, 2: 6, 3: 4, 6: 2, 0: 1}\n",
            "Класс 5, в классе содержатся следующие цифры {6: 837, 2: 16, 0: 12, 4: 9, 5: 7, 3: 3, 9: 2}\n",
            "Класс 6, в классе содержатся следующие цифры {2: 758, 0: 152, 8: 44, 3: 32, 4: 24, 6: 17, 9: 13, 5: 11, 7: 9, 1: 1}\n",
            "Класс 7, в классе содержатся следующие цифры {5: 451, 6: 93, 3: 68, 8: 11, 1: 4, 0: 1, 2: 1}\n",
            "Класс 8, в классе содержатся следующие цифры {7: 691, 9: 492, 4: 358, 8: 19, 2: 14, 3: 12, 1: 1, 5: 1}\n",
            "Класс 9, в классе содержатся следующие цифры {3: 520, 5: 364, 8: 73, 0: 10, 9: 8, 6: 3, 1: 2}\n"
          ]
        }
      ]
    },
    {
      "cell_type": "markdown",
      "metadata": {
        "id": "0p47xBjSimPe"
      },
      "source": [
        "## Вывод: как мы видим - качество получилось не очень. Плохо кластеризовались цифры 9, 3, 5, 7. Втдтмо из-за их похожести при написании"
      ]
    },
    {
      "cell_type": "code",
      "metadata": {
        "id": "7njkcrC6f7Rf"
      },
      "source": [
        ""
      ],
      "execution_count": 20,
      "outputs": []
    }
  ]
}