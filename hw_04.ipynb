{
  "nbformat": 4,
  "nbformat_minor": 0,
  "metadata": {
    "colab": {
      "name": "Untitled35.ipynb",
      "provenance": [],
      "collapsed_sections": [],
      "mount_file_id": "1r6N_AoOKSOKEkWrPj6a5PWk6TBBFOjkE",
      "authorship_tag": "ABX9TyM8dTeLnM+vkn/+G8FdqDuc",
      "include_colab_link": true
    },
    "kernelspec": {
      "name": "python3",
      "display_name": "Python 3"
    },
    "language_info": {
      "name": "python"
    },
    "accelerator": "GPU"
  },
  "cells": [
    {
      "cell_type": "markdown",
      "metadata": {
        "id": "view-in-github",
        "colab_type": "text"
      },
      "source": [
        "<a href=\"https://colab.research.google.com/github/ssv273/Neural_Univesity/blob/main/hw_04.ipynb\" target=\"_parent\"><img src=\"https://colab.research.google.com/assets/colab-badge.svg\" alt=\"Open In Colab\"/></a>"
      ]
    },
    {
      "cell_type": "markdown",
      "metadata": {
        "id": "WkKJ8oaLQKi6"
      },
      "source": [
        "Загрузите базу смс-сообщений, разделенных по категориям спам и не спам.\n",
        "\n",
        "Создайте обучающую, проверочную выборки. Создайте и обучите модель, определяющую тип сообщения. Классифицируйте каждое сообщение. Чтобы было легче, каждое сообщение переделайте в последовательность токенов,и ограничьте или добейте нулями до определённой длины - 15.\n",
        "\n",
        "Возьмите 10 случайных примеров из всей базы, сделайте предсказание нейронкой и выведите результат в читаемом виде:\n",
        "\n",
        "“текст сообщения” - “категория сообщения, определенная нейронкой”.\n",
        "\n",
        "Постройте диаграмму частотности распределения слов(plt.stem()) в нормальных сообщениях и сообщениях со спамом."
      ]
    },
    {
      "cell_type": "code",
      "metadata": {
        "id": "zvu1U14fOgj-"
      },
      "source": [
        "from google.colab import files # Для работы с файлами \n",
        "import numpy as np # Для работы с данными \n",
        "import pandas as pd # Для работы с таблицами\n",
        "import json\n",
        "import matplotlib.pyplot as plt # Для вывода графиков\n",
        "import os # Для работы с файлами\n",
        "import warnings\n",
        "warnings.filterwarnings(\"ignore\")\n",
        "%matplotlib inline\n",
        "\n",
        "from tensorflow.keras import utils # Для работы с категориальными данными\n",
        "from tensorflow.keras.models import Sequential # Полносвязная модель\n",
        "from tensorflow.keras.optimizers import Adam\n",
        "from tensorflow.keras.layers import Dense, Dropout, SpatialDropout1D, BatchNormalization, Embedding, Flatten, Activation # Слои для сети\n",
        "from tensorflow.keras.preprocessing.text import Tokenizer # Методы для работы с текстами и преобразования их в последовательности\n",
        "from tensorflow.keras.preprocessing.sequence import pad_sequences # Метод для работы с последовательностями\n",
        "\n",
        "from sklearn.preprocessing import LabelEncoder # Метод кодирования тестовых лейблов\n",
        "from sklearn.model_selection import train_test_split # Для разделения выборки на тестовую и обучающую\n",
        "from google.colab import drive # Для работы с Google Drive\n",
        "import time # Импортируем библиотеку time\n",
        "import seaborn as sns # Импортируем библиотеку seaborn\n",
        "sns.set_style('darkgrid') # Устанавливаем стиль графиков"
      ],
      "execution_count": null,
      "outputs": []
    },
    {
      "cell_type": "code",
      "metadata": {
        "id": "eAeOOOhAO3VN"
      },
      "source": [
        "df = pd.read_csv(open('/content/drive/MyDrive/psy.csv', errors = 'replace'))"
      ],
      "execution_count": null,
      "outputs": []
    },
    {
      "cell_type": "code",
      "metadata": {
        "colab": {
          "base_uri": "https://localhost:8080/",
          "height": 112
        },
        "id": "-mjCi1ndPo9K",
        "outputId": "8ab36e26-66f1-4cbd-8b82-8ca22b8bdf30"
      },
      "source": [
        "df.head(2)"
      ],
      "execution_count": null,
      "outputs": [
        {
          "output_type": "execute_result",
          "data": {
            "text/html": [
              "<div>\n",
              "<style scoped>\n",
              "    .dataframe tbody tr th:only-of-type {\n",
              "        vertical-align: middle;\n",
              "    }\n",
              "\n",
              "    .dataframe tbody tr th {\n",
              "        vertical-align: top;\n",
              "    }\n",
              "\n",
              "    .dataframe thead th {\n",
              "        text-align: right;\n",
              "    }\n",
              "</style>\n",
              "<table border=\"1\" class=\"dataframe\">\n",
              "  <thead>\n",
              "    <tr style=\"text-align: right;\">\n",
              "      <th></th>\n",
              "      <th>comment_id</th>\n",
              "      <th>author</th>\n",
              "      <th>date</th>\n",
              "      <th>content</th>\n",
              "      <th>class</th>\n",
              "    </tr>\n",
              "  </thead>\n",
              "  <tbody>\n",
              "    <tr>\n",
              "      <th>0</th>\n",
              "      <td>LZQPQhLyRh80UYxNuaDWhIGQYNQ96IuCg-AYWqNPjpU</td>\n",
              "      <td>Julius NM</td>\n",
              "      <td>2013-11-07T06:20:48</td>\n",
              "      <td>Huh, anyway check out this you[tube] channel: ...</td>\n",
              "      <td>True</td>\n",
              "    </tr>\n",
              "    <tr>\n",
              "      <th>1</th>\n",
              "      <td>LZQPQhLyRh_C2cTtd9MvFRJedxydaVW-2sNg5Diuo4A</td>\n",
              "      <td>adam riyati</td>\n",
              "      <td>2013-11-07T12:37:15</td>\n",
              "      <td>Hey guys check out my new channel and our firs...</td>\n",
              "      <td>True</td>\n",
              "    </tr>\n",
              "  </tbody>\n",
              "</table>\n",
              "</div>"
            ],
            "text/plain": [
              "                                    comment_id  ... class\n",
              "0  LZQPQhLyRh80UYxNuaDWhIGQYNQ96IuCg-AYWqNPjpU  ...  True\n",
              "1  LZQPQhLyRh_C2cTtd9MvFRJedxydaVW-2sNg5Diuo4A  ...  True\n",
              "\n",
              "[2 rows x 5 columns]"
            ]
          },
          "metadata": {
            "tags": []
          },
          "execution_count": 3
        }
      ]
    },
    {
      "cell_type": "code",
      "metadata": {
        "colab": {
          "base_uri": "https://localhost:8080/",
          "height": 112
        },
        "id": "u-Zeiq6APSl2",
        "outputId": "6a71d08b-7bfc-4658-91f3-9d38d718a246"
      },
      "source": [
        "df = df[['content', 'class']]\n",
        "df.head(2)"
      ],
      "execution_count": null,
      "outputs": [
        {
          "output_type": "execute_result",
          "data": {
            "text/html": [
              "<div>\n",
              "<style scoped>\n",
              "    .dataframe tbody tr th:only-of-type {\n",
              "        vertical-align: middle;\n",
              "    }\n",
              "\n",
              "    .dataframe tbody tr th {\n",
              "        vertical-align: top;\n",
              "    }\n",
              "\n",
              "    .dataframe thead th {\n",
              "        text-align: right;\n",
              "    }\n",
              "</style>\n",
              "<table border=\"1\" class=\"dataframe\">\n",
              "  <thead>\n",
              "    <tr style=\"text-align: right;\">\n",
              "      <th></th>\n",
              "      <th>content</th>\n",
              "      <th>class</th>\n",
              "    </tr>\n",
              "  </thead>\n",
              "  <tbody>\n",
              "    <tr>\n",
              "      <th>0</th>\n",
              "      <td>Huh, anyway check out this you[tube] channel: ...</td>\n",
              "      <td>True</td>\n",
              "    </tr>\n",
              "    <tr>\n",
              "      <th>1</th>\n",
              "      <td>Hey guys check out my new channel and our firs...</td>\n",
              "      <td>True</td>\n",
              "    </tr>\n",
              "  </tbody>\n",
              "</table>\n",
              "</div>"
            ],
            "text/plain": [
              "                                             content  class\n",
              "0  Huh, anyway check out this you[tube] channel: ...   True\n",
              "1  Hey guys check out my new channel and our firs...   True"
            ]
          },
          "metadata": {
            "tags": []
          },
          "execution_count": 4
        }
      ]
    },
    {
      "cell_type": "code",
      "metadata": {
        "colab": {
          "base_uri": "https://localhost:8080/"
        },
        "id": "XnD24BneQfSZ",
        "outputId": "5783905b-1c99-420e-fc16-10565e9471c7"
      },
      "source": [
        "df.shape"
      ],
      "execution_count": null,
      "outputs": [
        {
          "output_type": "execute_result",
          "data": {
            "text/plain": [
              "(350, 2)"
            ]
          },
          "metadata": {
            "tags": []
          },
          "execution_count": 5
        }
      ]
    },
    {
      "cell_type": "code",
      "metadata": {
        "colab": {
          "base_uri": "https://localhost:8080/"
        },
        "id": "axBqCFU9QjAb",
        "outputId": "81b1433a-152b-463c-89d9-3a7433b17585"
      },
      "source": [
        "df['class'].value_counts()"
      ],
      "execution_count": null,
      "outputs": [
        {
          "output_type": "execute_result",
          "data": {
            "text/plain": [
              "True     175\n",
              "False    175\n",
              "Name: class, dtype: int64"
            ]
          },
          "metadata": {
            "tags": []
          },
          "execution_count": 6
        }
      ]
    },
    {
      "cell_type": "code",
      "metadata": {
        "id": "hTTdeU6iX6H2"
      },
      "source": [
        "nClasses = 2"
      ],
      "execution_count": null,
      "outputs": []
    },
    {
      "cell_type": "code",
      "metadata": {
        "colab": {
          "base_uri": "https://localhost:8080/",
          "height": 36
        },
        "id": "LWF1azbTQsbe",
        "outputId": "676b05ab-ee41-4e4b-a209-96d98f273a3b"
      },
      "source": [
        "df.iloc[0]['content']"
      ],
      "execution_count": null,
      "outputs": [
        {
          "output_type": "execute_result",
          "data": {
            "application/vnd.google.colaboratory.intrinsic+json": {
              "type": "string"
            },
            "text/plain": [
              "'Huh, anyway check out this you[tube] channel: kobyoshi02'"
            ]
          },
          "metadata": {
            "tags": []
          },
          "execution_count": 8
        }
      ]
    },
    {
      "cell_type": "markdown",
      "metadata": {
        "id": "qwTUbFomXCA6"
      },
      "source": [
        "Получаем тексты и классы сообщений"
      ]
    },
    {
      "cell_type": "code",
      "metadata": {
        "id": "mgjzL45iQ3OE"
      },
      "source": [
        "texts = df['content'].values #Извлекаем данные всех текстов из столбца text\n",
        "classes = df['class'].astype('int8') #Извлекаем соответствующие им значения классов (лейблов) столбца text"
      ],
      "execution_count": null,
      "outputs": []
    },
    {
      "cell_type": "code",
      "metadata": {
        "colab": {
          "base_uri": "https://localhost:8080/"
        },
        "id": "5_2EzzV0UJe_",
        "outputId": "da8c3137-3706-4308-91d4-66f386b763ba"
      },
      "source": [
        "max_len = 0\n",
        "for topic in texts:\n",
        "  if len(topic) > max_len:\n",
        "    max_len = len(topic)\n",
        "max_len"
      ],
      "execution_count": null,
      "outputs": [
        {
          "output_type": "execute_result",
          "data": {
            "text/plain": [
              "1078"
            ]
          },
          "metadata": {
            "tags": []
          },
          "execution_count": 10
        }
      ]
    },
    {
      "cell_type": "code",
      "metadata": {
        "id": "PWlbYOmlTeAh"
      },
      "source": [
        "maxWordsCount = 500 #Зададим максимальное количество слов/индексов, учитываемое при обучении текстов"
      ],
      "execution_count": null,
      "outputs": []
    },
    {
      "cell_type": "code",
      "metadata": {
        "colab": {
          "base_uri": "https://localhost:8080/"
        },
        "id": "CQMD3mw3VgOB",
        "outputId": "3a1e852b-b8e9-4a73-9e63-1b16a3623d6b"
      },
      "source": [
        "#Преобразовываем текстовые данные в числовые/векторные для обучения нейросетью\n",
        "tokenizer = Tokenizer(num_words=maxWordsCount, filters='!\"#$%&()*+,-./:;<=>?@[\\\\]^_`{|}~\\t\\n', lower=True, split=' ', oov_token='unknown', char_level=False)\n",
        "tokenizer.fit_on_texts(texts) #\"Скармливаем\" наши тексты, т.е. даём в обработку методу, который соберет словарь частотности\n",
        "#Формируем матрицу индексов по принципу Bag of Words\n",
        "xAll = tokenizer.texts_to_matrix(texts) #Каждое слово из текста нашло свой индекс в векторе длиной maxWordsCount и отметилось в нем единичкой \n",
        "print(xAll.shape)  #Посмотрим на форму текстов\n",
        "print(xAll[0, :20])#И отдельно на фрагмент начала вектора"
      ],
      "execution_count": null,
      "outputs": [
        {
          "output_type": "stream",
          "text": [
            "(350, 500)\n",
            "[0. 1. 0. 0. 0. 0. 0. 1. 0. 1. 0. 0. 1. 0. 0. 0. 0. 0. 0. 0.]\n"
          ],
          "name": "stdout"
        }
      ]
    },
    {
      "cell_type": "code",
      "metadata": {
        "colab": {
          "base_uri": "https://localhost:8080/"
        },
        "id": "dWKbBYTdWL31",
        "outputId": "955e25dd-6a2b-4405-81cc-369abb3ae10a"
      },
      "source": [
        "print(\"Размер словаря\", len(tokenizer.word_index.items()))"
      ],
      "execution_count": null,
      "outputs": [
        {
          "output_type": "stream",
          "text": [
            "Размер словаря 1549\n"
          ],
          "name": "stdout"
        }
      ]
    },
    {
      "cell_type": "code",
      "metadata": {
        "id": "XojESO0nWgCW"
      },
      "source": [
        "y = classes"
      ],
      "execution_count": null,
      "outputs": []
    },
    {
      "cell_type": "code",
      "metadata": {
        "colab": {
          "base_uri": "https://localhost:8080/"
        },
        "id": "9zHWKe3WW9cj",
        "outputId": "04406e09-3d94-4ef7-d3ea-d19972207abe"
      },
      "source": [
        "y.shape"
      ],
      "execution_count": null,
      "outputs": [
        {
          "output_type": "execute_result",
          "data": {
            "text/plain": [
              "(350,)"
            ]
          },
          "metadata": {
            "tags": []
          },
          "execution_count": 15
        }
      ]
    },
    {
      "cell_type": "markdown",
      "metadata": {
        "id": "fkq867FqXiNy"
      },
      "source": [
        "## `Создайте обучающую, проверочную выборки`"
      ]
    },
    {
      "cell_type": "code",
      "metadata": {
        "colab": {
          "base_uri": "https://localhost:8080/"
        },
        "id": "iqvAImMQVbwe",
        "outputId": "5fe119f6-adcf-4d55-c652-fd3c57c64a04"
      },
      "source": [
        "# разбиваем все данные на обучающую и тестовую выборки с помощью метода train_test_split из библиотеки sklearn\n",
        "xTrain, xVal, yTrain, yVal = train_test_split(xAll, y, test_size=0.2, shuffle = True)\n",
        "print(xTrain.shape) #посмотрим на форму текстов из обучающей выборки\n",
        "print(yTrain.shape) #и на форму соответсвующих им классов"
      ],
      "execution_count": null,
      "outputs": [
        {
          "output_type": "stream",
          "text": [
            "(280, 500)\n",
            "(280,)\n"
          ],
          "name": "stdout"
        }
      ]
    },
    {
      "cell_type": "code",
      "metadata": {
        "colab": {
          "base_uri": "https://localhost:8080/",
          "height": 1000
        },
        "id": "bgiVgTAZXafR",
        "outputId": "6de57dc3-266a-4ee4-a35a-01fa885ff9ff"
      },
      "source": [
        "#Создаём полносвязную сеть\n",
        "model01 = Sequential()\n",
        "#Входной полносвязный слой\n",
        "model01.add(Dense(100, input_dim=maxWordsCount, activation=\"relu\"))\n",
        "#Слой регуляризации Dropout\n",
        "model01.add(Dropout(0.4))\n",
        "#Второй полносвязный слой\n",
        "model01.add(Dense(100, activation='relu'))\n",
        "#Слой регуляризации Dropout\n",
        "model01.add(Dropout(0.4))\n",
        "#Третий полносвязный слой\n",
        "model01.add(Dense(100, activation='relu'))\n",
        "#Слой регуляризации Dropout\n",
        "model01.add(Dropout(0.4))\n",
        "#Выходной полносвязный слой\n",
        "model01.add(Dense(1, activation='sigmoid'))\n",
        "\n",
        "\n",
        "model01.compile(optimizer='adam', \n",
        "              loss='binary_crossentropy', \n",
        "              metrics=['accuracy'])\n",
        "\n",
        "#Обучаем сеть на выборке\n",
        "history = model01.fit(xTrain, \n",
        "                    yTrain, \n",
        "                    epochs=20,\n",
        "                    batch_size=128,\n",
        "                    validation_data=(xVal, yVal))\n",
        "\n",
        "plt.plot(history.history['accuracy'], \n",
        "         label='Доля верных ответов на обучающем наборе')\n",
        "plt.plot(history.history['val_accuracy'], \n",
        "         label='Доля верных ответов на проверочном наборе')\n",
        "plt.xlabel('Эпоха обучения')\n",
        "plt.ylabel('Доля верных ответов')\n",
        "plt.legend()\n",
        "plt.show()"
      ],
      "execution_count": null,
      "outputs": [
        {
          "output_type": "stream",
          "text": [
            "Epoch 1/20\n",
            "3/3 [==============================] - 1s 91ms/step - loss: 0.7042 - accuracy: 0.5036 - val_loss: 0.6845 - val_accuracy: 0.6571\n",
            "Epoch 2/20\n",
            "3/3 [==============================] - 0s 13ms/step - loss: 0.6759 - accuracy: 0.6214 - val_loss: 0.6769 - val_accuracy: 0.6571\n",
            "Epoch 3/20\n",
            "3/3 [==============================] - 0s 14ms/step - loss: 0.6731 - accuracy: 0.5857 - val_loss: 0.6680 - val_accuracy: 0.7000\n",
            "Epoch 4/20\n",
            "3/3 [==============================] - 0s 14ms/step - loss: 0.6611 - accuracy: 0.6500 - val_loss: 0.6570 - val_accuracy: 0.7714\n",
            "Epoch 5/20\n",
            "3/3 [==============================] - 0s 14ms/step - loss: 0.6409 - accuracy: 0.7036 - val_loss: 0.6428 - val_accuracy: 0.7714\n",
            "Epoch 6/20\n",
            "3/3 [==============================] - 0s 16ms/step - loss: 0.6245 - accuracy: 0.7536 - val_loss: 0.6241 - val_accuracy: 0.7857\n",
            "Epoch 7/20\n",
            "3/3 [==============================] - 0s 14ms/step - loss: 0.6121 - accuracy: 0.7643 - val_loss: 0.5983 - val_accuracy: 0.8286\n",
            "Epoch 8/20\n",
            "3/3 [==============================] - 0s 13ms/step - loss: 0.5689 - accuracy: 0.8214 - val_loss: 0.5643 - val_accuracy: 0.9000\n",
            "Epoch 9/20\n",
            "3/3 [==============================] - 0s 16ms/step - loss: 0.5447 - accuracy: 0.8464 - val_loss: 0.5232 - val_accuracy: 0.9571\n",
            "Epoch 10/20\n",
            "3/3 [==============================] - 0s 15ms/step - loss: 0.5058 - accuracy: 0.8893 - val_loss: 0.4740 - val_accuracy: 0.9571\n",
            "Epoch 11/20\n",
            "3/3 [==============================] - 0s 15ms/step - loss: 0.4803 - accuracy: 0.8893 - val_loss: 0.4184 - val_accuracy: 0.9714\n",
            "Epoch 12/20\n",
            "3/3 [==============================] - 0s 13ms/step - loss: 0.4073 - accuracy: 0.9143 - val_loss: 0.3606 - val_accuracy: 0.9714\n",
            "Epoch 13/20\n",
            "3/3 [==============================] - 0s 14ms/step - loss: 0.3683 - accuracy: 0.9286 - val_loss: 0.3036 - val_accuracy: 0.9714\n",
            "Epoch 14/20\n",
            "3/3 [==============================] - 0s 15ms/step - loss: 0.2975 - accuracy: 0.9500 - val_loss: 0.2507 - val_accuracy: 0.9714\n",
            "Epoch 15/20\n",
            "3/3 [==============================] - 0s 14ms/step - loss: 0.2540 - accuracy: 0.9464 - val_loss: 0.2053 - val_accuracy: 0.9714\n",
            "Epoch 16/20\n",
            "3/3 [==============================] - 0s 16ms/step - loss: 0.2215 - accuracy: 0.9464 - val_loss: 0.1688 - val_accuracy: 0.9714\n",
            "Epoch 17/20\n",
            "3/3 [==============================] - 0s 15ms/step - loss: 0.1627 - accuracy: 0.9714 - val_loss: 0.1395 - val_accuracy: 0.9857\n",
            "Epoch 18/20\n",
            "3/3 [==============================] - 0s 13ms/step - loss: 0.1449 - accuracy: 0.9714 - val_loss: 0.1134 - val_accuracy: 0.9857\n",
            "Epoch 19/20\n",
            "3/3 [==============================] - 0s 13ms/step - loss: 0.1107 - accuracy: 0.9750 - val_loss: 0.0961 - val_accuracy: 0.9857\n",
            "Epoch 20/20\n",
            "3/3 [==============================] - 0s 14ms/step - loss: 0.0925 - accuracy: 0.9857 - val_loss: 0.0839 - val_accuracy: 0.9857\n"
          ],
          "name": "stdout"
        },
        {
          "output_type": "display_data",
          "data": {
            "image/png": "[encoded data removed]",
            "text/plain": [
              "<Figure size 432x288 with 1 Axes>"
            ]
          },
          "metadata": {
            "tags": [],
            "needs_background": "light"
          }
        }
      ]
    },
    {
      "cell_type": "code",
      "metadata": {
        "colab": {
          "base_uri": "https://localhost:8080/"
        },
        "id": "cKBOrWsNZmDw",
        "outputId": "5ae3b026-38c9-49c5-9728-851436c3a5d2"
      },
      "source": [
        "model01.evaluate(xVal, yVal)"
      ],
      "execution_count": null,
      "outputs": [
        {
          "output_type": "stream",
          "text": [
            "3/3 [==============================] - 0s 5ms/step - loss: 0.0839 - accuracy: 0.9857\n"
          ],
          "name": "stdout"
        },
        {
          "output_type": "execute_result",
          "data": {
            "text/plain": [
              "[0.08386864513158798, 0.9857142567634583]"
            ]
          },
          "metadata": {
            "tags": []
          },
          "execution_count": 18
        }
      ]
    },
    {
      "cell_type": "markdown",
      "metadata": {
        "id": "TMwIeyWlYLQG"
      },
      "source": [
        "## `каждое сообщение переделайте в последовательность токенов,и ограничьте или добейте нулями до определённой длины - 15.`"
      ]
    },
    {
      "cell_type": "code",
      "metadata": {
        "colab": {
          "base_uri": "https://localhost:8080/"
        },
        "id": "99JIB2h2YOmS",
        "outputId": "02a365b5-422b-4c97-da50-082ea450ab2c"
      },
      "source": [
        "# для Эмбэддинга представляем текст в виде последовательности индексов слов, каждый из которых затем преобразуем в многомерный вектор\n",
        "sequences = tokenizer.texts_to_sequences(texts) #разбиваем текст на последовательность индексов\n",
        "xTrainE, xValE, yTrainE, yValE = train_test_split(np.array(sequences, dtype=object), y, test_size=0.2)#сформируем новую форму выборки\n",
        "print(xTrainE.shape) #посмотрим на форму текстов из обучающей выборки\n",
        "print(yTrain.shape)  #и на форму соответствующих им классов"
      ],
      "execution_count": null,
      "outputs": [
        {
          "output_type": "stream",
          "text": [
            "(280,)\n",
            "(280,)\n"
          ],
          "name": "stdout"
        }
      ]
    },
    {
      "cell_type": "code",
      "metadata": {
        "id": "w1JIlPTKYo2H"
      },
      "source": [
        "maxlen = 15\n",
        "\n",
        "xTrainE = pad_sequences(xTrainE, maxlen=maxlen)\n",
        "xValE = pad_sequences(xValE, maxlen=maxlen)"
      ],
      "execution_count": null,
      "outputs": []
    },
    {
      "cell_type": "code",
      "metadata": {
        "colab": {
          "base_uri": "https://localhost:8080/"
        },
        "id": "AfL6q50GY84L",
        "outputId": "6b1e46d3-6e6c-4261-e73e-8c167797cd7e"
      },
      "source": [
        "xTrainE.shape"
      ],
      "execution_count": null,
      "outputs": [
        {
          "output_type": "execute_result",
          "data": {
            "text/plain": [
              "(280, 15)"
            ]
          },
          "metadata": {
            "tags": []
          },
          "execution_count": 21
        }
      ]
    },
    {
      "cell_type": "code",
      "metadata": {
        "colab": {
          "base_uri": "https://localhost:8080/",
          "height": 1000
        },
        "id": "8CAo0ucVXzNc",
        "outputId": "327f5886-6da4-4b49-ca31-a729f4cdaba7"
      },
      "source": [
        "#Создаём полносвязную сеть\n",
        "modelE = Sequential()\n",
        "#Cлой представления всего словаря слов в векторном представлении\n",
        "modelE.add(Embedding(maxWordsCount, 50, input_length=maxlen))\n",
        "#Слой регуляризации Dropout\n",
        "modelE.add(SpatialDropout1D(0.2))\n",
        "#Cлой преобразования двумерных данных в одномерные\n",
        "modelE.add(Flatten())\n",
        "#Слой пакетной нормализации\n",
        "modelE.add(BatchNormalization())\n",
        "#Полносвязный слой\n",
        "modelE.add(Dense(64, activation=\"relu\"))\n",
        "#Слой регуляризации Dropout\n",
        "modelE.add(Dropout(0.2))\n",
        "#Слой пакетной нормализации\n",
        "modelE.add(BatchNormalization())\n",
        "#Выходной полносвязный слой\n",
        "modelE.add(Dense(1, activation='sigmoid'))\n",
        "\n",
        "modelE.compile(optimizer='adam', \n",
        "              loss='binary_crossentropy', \n",
        "              metrics=['accuracy'])\n",
        "\n",
        "#Обучаем сеть на xTrain\n",
        "history = modelE.fit(xTrainE, \n",
        "                    yTrainE, \n",
        "                    epochs=100,\n",
        "                    batch_size=50,\n",
        "                    validation_data=(xValE, yValE))\n",
        "\n",
        "\n",
        "plt.plot(history.history['accuracy'], \n",
        "         label='Доля верных ответов на обучающем наборе')\n",
        "plt.plot(history.history['val_accuracy'], \n",
        "         label='Доля верных ответов на проверочном наборе')\n",
        "plt.xlabel('Эпоха обучения')\n",
        "plt.ylabel('Доля верных ответов')\n",
        "plt.legend()\n",
        "plt.show()"
      ],
      "execution_count": null,
      "outputs": [
        {
          "output_type": "stream",
          "text": [
            "Epoch 1/100\n",
            "6/6 [==============================] - 1s 41ms/step - loss: 0.8726 - accuracy: 0.5214 - val_loss: 0.6895 - val_accuracy: 0.6286\n",
            "Epoch 2/100\n",
            "6/6 [==============================] - 0s 9ms/step - loss: 0.5110 - accuracy: 0.7357 - val_loss: 0.6839 - val_accuracy: 0.6429\n",
            "Epoch 3/100\n",
            "6/6 [==============================] - 0s 9ms/step - loss: 0.3674 - accuracy: 0.8250 - val_loss: 0.6804 - val_accuracy: 0.7143\n",
            "Epoch 4/100\n",
            "6/6 [==============================] - 0s 9ms/step - loss: 0.2658 - accuracy: 0.9179 - val_loss: 0.6782 - val_accuracy: 0.7714\n",
            "Epoch 5/100\n",
            "6/6 [==============================] - 0s 9ms/step - loss: 0.1925 - accuracy: 0.9357 - val_loss: 0.6746 - val_accuracy: 0.7571\n",
            "Epoch 6/100\n",
            "6/6 [==============================] - 0s 9ms/step - loss: 0.1530 - accuracy: 0.9750 - val_loss: 0.6711 - val_accuracy: 0.7286\n",
            "Epoch 7/100\n",
            "6/6 [==============================] - 0s 10ms/step - loss: 0.1051 - accuracy: 0.9821 - val_loss: 0.6685 - val_accuracy: 0.7429\n",
            "Epoch 8/100\n",
            "6/6 [==============================] - 0s 9ms/step - loss: 0.0858 - accuracy: 0.9857 - val_loss: 0.6657 - val_accuracy: 0.7571\n",
            "Epoch 9/100\n",
            "6/6 [==============================] - 0s 9ms/step - loss: 0.0622 - accuracy: 0.9964 - val_loss: 0.6624 - val_accuracy: 0.8000\n",
            "Epoch 10/100\n",
            "6/6 [==============================] - 0s 12ms/step - loss: 0.0531 - accuracy: 0.9929 - val_loss: 0.6584 - val_accuracy: 0.8000\n",
            "Epoch 11/100\n",
            "6/6 [==============================] - 0s 9ms/step - loss: 0.0477 - accuracy: 0.9964 - val_loss: 0.6544 - val_accuracy: 0.8143\n",
            "Epoch 12/100\n",
            "6/6 [==============================] - 0s 9ms/step - loss: 0.0401 - accuracy: 1.0000 - val_loss: 0.6499 - val_accuracy: 0.8286\n",
            "Epoch 13/100\n",
            "6/6 [==============================] - 0s 9ms/step - loss: 0.0319 - accuracy: 0.9964 - val_loss: 0.6456 - val_accuracy: 0.8714\n",
            "Epoch 14/100\n",
            "6/6 [==============================] - 0s 9ms/step - loss: 0.0294 - accuracy: 1.0000 - val_loss: 0.6415 - val_accuracy: 0.8857\n",
            "Epoch 15/100\n",
            "6/6 [==============================] - 0s 9ms/step - loss: 0.0310 - accuracy: 0.9964 - val_loss: 0.6366 - val_accuracy: 0.8286\n",
            "Epoch 16/100\n",
            "6/6 [==============================] - 0s 14ms/step - loss: 0.0274 - accuracy: 1.0000 - val_loss: 0.6316 - val_accuracy: 0.8143\n",
            "Epoch 17/100\n",
            "6/6 [==============================] - 0s 10ms/step - loss: 0.0243 - accuracy: 1.0000 - val_loss: 0.6270 - val_accuracy: 0.8714\n",
            "Epoch 18/100\n",
            "6/6 [==============================] - 0s 9ms/step - loss: 0.0266 - accuracy: 0.9964 - val_loss: 0.6218 - val_accuracy: 0.8429\n",
            "Epoch 19/100\n",
            "6/6 [==============================] - 0s 9ms/step - loss: 0.0186 - accuracy: 1.0000 - val_loss: 0.6167 - val_accuracy: 0.8571\n",
            "Epoch 20/100\n",
            "6/6 [==============================] - 0s 10ms/step - loss: 0.0267 - accuracy: 0.9964 - val_loss: 0.6110 - val_accuracy: 0.8714\n",
            "Epoch 21/100\n",
            "6/6 [==============================] - 0s 10ms/step - loss: 0.0139 - accuracy: 1.0000 - val_loss: 0.6059 - val_accuracy: 0.8857\n",
            "Epoch 22/100\n",
            "6/6 [==============================] - 0s 9ms/step - loss: 0.0176 - accuracy: 1.0000 - val_loss: 0.6014 - val_accuracy: 0.8714\n",
            "Epoch 23/100\n",
            "6/6 [==============================] - 0s 9ms/step - loss: 0.0160 - accuracy: 1.0000 - val_loss: 0.5965 - val_accuracy: 0.8714\n",
            "Epoch 24/100\n",
            "6/6 [==============================] - 0s 8ms/step - loss: 0.0162 - accuracy: 1.0000 - val_loss: 0.5908 - val_accuracy: 0.8714\n",
            "Epoch 25/100\n",
            "6/6 [==============================] - 0s 12ms/step - loss: 0.0154 - accuracy: 1.0000 - val_loss: 0.5838 - val_accuracy: 0.9000\n",
            "Epoch 26/100\n",
            "6/6 [==============================] - 0s 9ms/step - loss: 0.0094 - accuracy: 1.0000 - val_loss: 0.5775 - val_accuracy: 0.9000\n",
            "Epoch 27/100\n",
            "6/6 [==============================] - 0s 9ms/step - loss: 0.0187 - accuracy: 0.9964 - val_loss: 0.5716 - val_accuracy: 0.8857\n",
            "Epoch 28/100\n",
            "6/6 [==============================] - 0s 9ms/step - loss: 0.0166 - accuracy: 1.0000 - val_loss: 0.5666 - val_accuracy: 0.9000\n",
            "Epoch 29/100\n",
            "6/6 [==============================] - 0s 10ms/step - loss: 0.0100 - accuracy: 1.0000 - val_loss: 0.5618 - val_accuracy: 0.9000\n",
            "Epoch 30/100\n",
            "6/6 [==============================] - 0s 9ms/step - loss: 0.0092 - accuracy: 1.0000 - val_loss: 0.5566 - val_accuracy: 0.8857\n",
            "Epoch 31/100\n",
            "6/6 [==============================] - 0s 9ms/step - loss: 0.0096 - accuracy: 1.0000 - val_loss: 0.5515 - val_accuracy: 0.8857\n",
            "Epoch 32/100\n",
            "6/6 [==============================] - 0s 9ms/step - loss: 0.0085 - accuracy: 1.0000 - val_loss: 0.5472 - val_accuracy: 0.8714\n",
            "Epoch 33/100\n",
            "6/6 [==============================] - 0s 11ms/step - loss: 0.0084 - accuracy: 1.0000 - val_loss: 0.5435 - val_accuracy: 0.8714\n",
            "Epoch 34/100\n",
            "6/6 [==============================] - 0s 9ms/step - loss: 0.0105 - accuracy: 1.0000 - val_loss: 0.5391 - val_accuracy: 0.8714\n",
            "Epoch 35/100\n",
            "6/6 [==============================] - 0s 10ms/step - loss: 0.0061 - accuracy: 1.0000 - val_loss: 0.5341 - val_accuracy: 0.8714\n",
            "Epoch 36/100\n",
            "6/6 [==============================] - 0s 9ms/step - loss: 0.0101 - accuracy: 0.9964 - val_loss: 0.5275 - val_accuracy: 0.8714\n",
            "Epoch 37/100\n",
            "6/6 [==============================] - 0s 9ms/step - loss: 0.0076 - accuracy: 1.0000 - val_loss: 0.5215 - val_accuracy: 0.8714\n",
            "Epoch 38/100\n",
            "6/6 [==============================] - 0s 9ms/step - loss: 0.0075 - accuracy: 1.0000 - val_loss: 0.5148 - val_accuracy: 0.8857\n",
            "Epoch 39/100\n",
            "6/6 [==============================] - 0s 9ms/step - loss: 0.0044 - accuracy: 1.0000 - val_loss: 0.5086 - val_accuracy: 0.8857\n",
            "Epoch 40/100\n",
            "6/6 [==============================] - 0s 10ms/step - loss: 0.0044 - accuracy: 1.0000 - val_loss: 0.5031 - val_accuracy: 0.8857\n",
            "Epoch 41/100\n",
            "6/6 [==============================] - 0s 9ms/step - loss: 0.0071 - accuracy: 0.9964 - val_loss: 0.4978 - val_accuracy: 0.8857\n",
            "Epoch 42/100\n",
            "6/6 [==============================] - 0s 10ms/step - loss: 0.0048 - accuracy: 1.0000 - val_loss: 0.4940 - val_accuracy: 0.8571\n",
            "Epoch 43/100\n",
            "6/6 [==============================] - 0s 9ms/step - loss: 0.0073 - accuracy: 1.0000 - val_loss: 0.4902 - val_accuracy: 0.8571\n",
            "Epoch 44/100\n",
            "6/6 [==============================] - 0s 10ms/step - loss: 0.0096 - accuracy: 0.9964 - val_loss: 0.4868 - val_accuracy: 0.8571\n",
            "Epoch 45/100\n",
            "6/6 [==============================] - 0s 9ms/step - loss: 0.0051 - accuracy: 1.0000 - val_loss: 0.4840 - val_accuracy: 0.8286\n",
            "Epoch 46/100\n",
            "6/6 [==============================] - 0s 13ms/step - loss: 0.0033 - accuracy: 1.0000 - val_loss: 0.4814 - val_accuracy: 0.8429\n",
            "Epoch 47/100\n",
            "6/6 [==============================] - 0s 36ms/step - loss: 0.0098 - accuracy: 1.0000 - val_loss: 0.4763 - val_accuracy: 0.8429\n",
            "Epoch 48/100\n",
            "6/6 [==============================] - 0s 9ms/step - loss: 0.0039 - accuracy: 1.0000 - val_loss: 0.4688 - val_accuracy: 0.8286\n",
            "Epoch 49/100\n",
            "6/6 [==============================] - 0s 9ms/step - loss: 0.0040 - accuracy: 1.0000 - val_loss: 0.4620 - val_accuracy: 0.8286\n",
            "Epoch 50/100\n",
            "6/6 [==============================] - 0s 9ms/step - loss: 0.0030 - accuracy: 1.0000 - val_loss: 0.4555 - val_accuracy: 0.8429\n",
            "Epoch 51/100\n",
            "6/6 [==============================] - 0s 8ms/step - loss: 0.0031 - accuracy: 1.0000 - val_loss: 0.4496 - val_accuracy: 0.8286\n",
            "Epoch 52/100\n",
            "6/6 [==============================] - 0s 9ms/step - loss: 0.0054 - accuracy: 1.0000 - val_loss: 0.4443 - val_accuracy: 0.8571\n",
            "Epoch 53/100\n",
            "6/6 [==============================] - 0s 9ms/step - loss: 0.0039 - accuracy: 1.0000 - val_loss: 0.4392 - val_accuracy: 0.8571\n",
            "Epoch 54/100\n",
            "6/6 [==============================] - 0s 10ms/step - loss: 0.0041 - accuracy: 1.0000 - val_loss: 0.4338 - val_accuracy: 0.8571\n",
            "Epoch 55/100\n",
            "6/6 [==============================] - 0s 9ms/step - loss: 0.0060 - accuracy: 1.0000 - val_loss: 0.4293 - val_accuracy: 0.8571\n",
            "Epoch 56/100\n",
            "6/6 [==============================] - 0s 9ms/step - loss: 0.0021 - accuracy: 1.0000 - val_loss: 0.4283 - val_accuracy: 0.8571\n",
            "Epoch 57/100\n",
            "6/6 [==============================] - 0s 9ms/step - loss: 0.0028 - accuracy: 1.0000 - val_loss: 0.4255 - val_accuracy: 0.8571\n",
            "Epoch 58/100\n",
            "6/6 [==============================] - 0s 13ms/step - loss: 0.0052 - accuracy: 1.0000 - val_loss: 0.4203 - val_accuracy: 0.8571\n",
            "Epoch 59/100\n",
            "6/6 [==============================] - 0s 9ms/step - loss: 0.0036 - accuracy: 1.0000 - val_loss: 0.4125 - val_accuracy: 0.8571\n",
            "Epoch 60/100\n",
            "6/6 [==============================] - 0s 13ms/step - loss: 0.0027 - accuracy: 1.0000 - val_loss: 0.4055 - val_accuracy: 0.8714\n",
            "Epoch 61/100\n",
            "6/6 [==============================] - 0s 10ms/step - loss: 0.0040 - accuracy: 1.0000 - val_loss: 0.3994 - val_accuracy: 0.8714\n",
            "Epoch 62/100\n",
            "6/6 [==============================] - 0s 10ms/step - loss: 0.0020 - accuracy: 1.0000 - val_loss: 0.3941 - val_accuracy: 0.8714\n",
            "Epoch 63/100\n",
            "6/6 [==============================] - 0s 10ms/step - loss: 0.0026 - accuracy: 1.0000 - val_loss: 0.3888 - val_accuracy: 0.8714\n",
            "Epoch 64/100\n",
            "6/6 [==============================] - 0s 9ms/step - loss: 0.0050 - accuracy: 1.0000 - val_loss: 0.3874 - val_accuracy: 0.8714\n",
            "Epoch 65/100\n",
            "6/6 [==============================] - 0s 9ms/step - loss: 0.0019 - accuracy: 1.0000 - val_loss: 0.3854 - val_accuracy: 0.8571\n",
            "Epoch 66/100\n",
            "6/6 [==============================] - 0s 9ms/step - loss: 0.0019 - accuracy: 1.0000 - val_loss: 0.3823 - val_accuracy: 0.8571\n",
            "Epoch 67/100\n",
            "6/6 [==============================] - 0s 9ms/step - loss: 0.0030 - accuracy: 1.0000 - val_loss: 0.3774 - val_accuracy: 0.8571\n",
            "Epoch 68/100\n",
            "6/6 [==============================] - 0s 10ms/step - loss: 0.0034 - accuracy: 1.0000 - val_loss: 0.3719 - val_accuracy: 0.8571\n",
            "Epoch 69/100\n",
            "6/6 [==============================] - 0s 10ms/step - loss: 0.0029 - accuracy: 1.0000 - val_loss: 0.3694 - val_accuracy: 0.8429\n",
            "Epoch 70/100\n",
            "6/6 [==============================] - 0s 10ms/step - loss: 0.0027 - accuracy: 1.0000 - val_loss: 0.3670 - val_accuracy: 0.8429\n",
            "Epoch 71/100\n",
            "6/6 [==============================] - 0s 10ms/step - loss: 0.0025 - accuracy: 1.0000 - val_loss: 0.3643 - val_accuracy: 0.8429\n",
            "Epoch 72/100\n",
            "6/6 [==============================] - 0s 10ms/step - loss: 0.0048 - accuracy: 1.0000 - val_loss: 0.3614 - val_accuracy: 0.8429\n",
            "Epoch 73/100\n",
            "6/6 [==============================] - 0s 10ms/step - loss: 0.0021 - accuracy: 1.0000 - val_loss: 0.3588 - val_accuracy: 0.8429\n",
            "Epoch 74/100\n",
            "6/6 [==============================] - 0s 10ms/step - loss: 0.0014 - accuracy: 1.0000 - val_loss: 0.3562 - val_accuracy: 0.8429\n",
            "Epoch 75/100\n",
            "6/6 [==============================] - 0s 9ms/step - loss: 0.0019 - accuracy: 1.0000 - val_loss: 0.3546 - val_accuracy: 0.8429\n",
            "Epoch 76/100\n",
            "6/6 [==============================] - 0s 10ms/step - loss: 0.0026 - accuracy: 1.0000 - val_loss: 0.3527 - val_accuracy: 0.8429\n",
            "Epoch 77/100\n",
            "6/6 [==============================] - 0s 9ms/step - loss: 0.0023 - accuracy: 1.0000 - val_loss: 0.3526 - val_accuracy: 0.8571\n",
            "Epoch 78/100\n",
            "6/6 [==============================] - 0s 11ms/step - loss: 0.0017 - accuracy: 1.0000 - val_loss: 0.3521 - val_accuracy: 0.8571\n",
            "Epoch 79/100\n",
            "6/6 [==============================] - 0s 10ms/step - loss: 0.0022 - accuracy: 1.0000 - val_loss: 0.3504 - val_accuracy: 0.8429\n",
            "Epoch 80/100\n",
            "6/6 [==============================] - 0s 10ms/step - loss: 0.0013 - accuracy: 1.0000 - val_loss: 0.3488 - val_accuracy: 0.8429\n",
            "Epoch 81/100\n",
            "6/6 [==============================] - 0s 9ms/step - loss: 0.0039 - accuracy: 1.0000 - val_loss: 0.3451 - val_accuracy: 0.8429\n",
            "Epoch 82/100\n",
            "6/6 [==============================] - 0s 10ms/step - loss: 0.0014 - accuracy: 1.0000 - val_loss: 0.3424 - val_accuracy: 0.8429\n",
            "Epoch 83/100\n",
            "6/6 [==============================] - 0s 9ms/step - loss: 0.0016 - accuracy: 1.0000 - val_loss: 0.3410 - val_accuracy: 0.8571\n",
            "Epoch 84/100\n",
            "6/6 [==============================] - 0s 10ms/step - loss: 0.0015 - accuracy: 1.0000 - val_loss: 0.3398 - val_accuracy: 0.8571\n",
            "Epoch 85/100\n",
            "6/6 [==============================] - 0s 10ms/step - loss: 0.0035 - accuracy: 1.0000 - val_loss: 0.3358 - val_accuracy: 0.8571\n",
            "Epoch 86/100\n",
            "6/6 [==============================] - 0s 11ms/step - loss: 0.0019 - accuracy: 1.0000 - val_loss: 0.3343 - val_accuracy: 0.8571\n",
            "Epoch 87/100\n",
            "6/6 [==============================] - 0s 10ms/step - loss: 0.0015 - accuracy: 1.0000 - val_loss: 0.3342 - val_accuracy: 0.8571\n",
            "Epoch 88/100\n",
            "6/6 [==============================] - 0s 10ms/step - loss: 0.0025 - accuracy: 1.0000 - val_loss: 0.3363 - val_accuracy: 0.8571\n",
            "Epoch 89/100\n",
            "6/6 [==============================] - 0s 10ms/step - loss: 0.0014 - accuracy: 1.0000 - val_loss: 0.3368 - val_accuracy: 0.8571\n",
            "Epoch 90/100\n",
            "6/6 [==============================] - 0s 9ms/step - loss: 0.0017 - accuracy: 1.0000 - val_loss: 0.3383 - val_accuracy: 0.8571\n",
            "Epoch 91/100\n",
            "6/6 [==============================] - 0s 9ms/step - loss: 0.0028 - accuracy: 1.0000 - val_loss: 0.3369 - val_accuracy: 0.8571\n",
            "Epoch 92/100\n",
            "6/6 [==============================] - 0s 10ms/step - loss: 0.0015 - accuracy: 1.0000 - val_loss: 0.3343 - val_accuracy: 0.8571\n",
            "Epoch 93/100\n",
            "6/6 [==============================] - 0s 9ms/step - loss: 0.0015 - accuracy: 1.0000 - val_loss: 0.3347 - val_accuracy: 0.8429\n",
            "Epoch 94/100\n",
            "6/6 [==============================] - 0s 9ms/step - loss: 0.0010 - accuracy: 1.0000 - val_loss: 0.3357 - val_accuracy: 0.8429\n",
            "Epoch 95/100\n",
            "6/6 [==============================] - 0s 10ms/step - loss: 0.0012 - accuracy: 1.0000 - val_loss: 0.3381 - val_accuracy: 0.8429\n",
            "Epoch 96/100\n",
            "6/6 [==============================] - 0s 13ms/step - loss: 0.0032 - accuracy: 1.0000 - val_loss: 0.3449 - val_accuracy: 0.8429\n",
            "Epoch 97/100\n",
            "6/6 [==============================] - 0s 9ms/step - loss: 0.0019 - accuracy: 1.0000 - val_loss: 0.3638 - val_accuracy: 0.8571\n",
            "Epoch 98/100\n",
            "6/6 [==============================] - 0s 9ms/step - loss: 0.0011 - accuracy: 1.0000 - val_loss: 0.3760 - val_accuracy: 0.8286\n",
            "Epoch 99/100\n",
            "6/6 [==============================] - 0s 9ms/step - loss: 0.0014 - accuracy: 1.0000 - val_loss: 0.3820 - val_accuracy: 0.8286\n",
            "Epoch 100/100\n",
            "6/6 [==============================] - 0s 9ms/step - loss: 0.0027 - accuracy: 1.0000 - val_loss: 0.3706 - val_accuracy: 0.8429\n"
          ],
          "name": "stdout"
        },
        {
          "output_type": "display_data",
          "data": {
            "image/png": "[encoded data removed]",
            "text/plain": [
              "<Figure size 432x288 with 1 Axes>"
            ]
          },
          "metadata": {
            "tags": [],
            "needs_background": "light"
          }
        }
      ]
    },
    {
      "cell_type": "markdown",
      "metadata": {
        "id": "qwSD2YMmZ7S5"
      },
      "source": [
        "## `Возьмите 10 случайных примеров из всей базы, сделайте предсказание нейронкой и выведите результат в читаемом виде:\n",
        "\n",
        "“текст сообщения” - “категория сообщения, определенная нейронкой”.`"
      ]
    },
    {
      "cell_type": "code",
      "metadata": {
        "colab": {
          "base_uri": "https://localhost:8080/"
        },
        "id": "k5Cfbp6ZklRY",
        "outputId": "bfd145e1-bff7-4301-a06b-ff51387fc5bd"
      },
      "source": [
        "for i in range(10):\n",
        "  index = np.random.randint(0, df.shape[0])\n",
        "  pred = model01.predict(tokenizer.texts_to_matrix([df.loc[i]['content']]))\n",
        "  threshold = 0.5\n",
        "  print(f\"Message text: '{df.loc[i]['content']}'\")\n",
        "  print(f\"Message label: {df.loc[i]['class'].astype('int8')}\")\n",
        "  print(f\"Model predict label: {1 if pred >= threshold else 0}\\n\\n\")"
      ],
      "execution_count": null,
      "outputs": [
        {
          "output_type": "stream",
          "text": [
            "Message text: 'Huh, anyway check out this you[tube] channel: kobyoshi02'\n",
            "Message label: 1\n",
            "Model predict label: 1\n",
            "\n",
            "\n",
            "Message text: 'Hey guys check out my new channel and our first vid THIS IS US THE  MONKEYS!!! I'm the monkey in the white shirt,please leave a like comment  and please subscribe!!!!'\n",
            "Message label: 1\n",
            "Model predict label: 1\n",
            "\n",
            "\n",
            "Message text: 'just for test I have to say murdev.com'\n",
            "Message label: 1\n",
            "Model predict label: 1\n",
            "\n",
            "\n",
            "Message text: 'me shaking my sexy ass on my channel enjoy ^_^ ﻿'\n",
            "Message label: 1\n",
            "Model predict label: 1\n",
            "\n",
            "\n",
            "Message text: 'watch?v=vtaRGgvGtWQ   Check this out .﻿'\n",
            "Message label: 1\n",
            "Model predict label: 0\n",
            "\n",
            "\n",
            "Message text: 'Hey, check out my new website!! This site is about kids stuff. kidsmediausa  . com'\n",
            "Message label: 1\n",
            "Model predict label: 1\n",
            "\n",
            "\n",
            "Message text: 'Subscribe to my channel ﻿'\n",
            "Message label: 1\n",
            "Model predict label: 1\n",
            "\n",
            "\n",
            "Message text: 'i turned it on mute as soon is i came on i just wanted to check the  views...﻿'\n",
            "Message label: 0\n",
            "Model predict label: 0\n",
            "\n",
            "\n",
            "Message text: 'You should check my channel for Funny VIDEOS!!﻿'\n",
            "Message label: 1\n",
            "Model predict label: 1\n",
            "\n",
            "\n",
            "Message text: 'and u should.d check my channel and tell me what I should do next!﻿'\n",
            "Message label: 1\n",
            "Model predict label: 1\n",
            "\n",
            "\n"
          ],
          "name": "stdout"
        }
      ]
    },
    {
      "cell_type": "markdown",
      "metadata": {
        "id": "J1sM-evEogJY"
      },
      "source": [
        "## `Постройте диаграмму частотности распределения слов(plt.stem()) в нормальных сообщениях и сообщениях со спамом.`"
      ]
    },
    {
      "cell_type": "code",
      "metadata": {
        "id": "HOlOnPY5gmR3"
      },
      "source": [
        "# найдем все слова в сообщениях со спамом и без\n",
        "df['class'] = df['class'].astype('int8')\n",
        "spam_content = df[df['class'] == 1]['content'].values\n",
        "no_spam_content = df[df['class'] == 0]['content'].values"
      ],
      "execution_count": null,
      "outputs": []
    },
    {
      "cell_type": "code",
      "metadata": {
        "id": "YwFtyKHguYjv"
      },
      "source": [
        "# передадим их в токенайзер для подсчета\n",
        "tokenizer_spam = Tokenizer(num_words=maxWordsCount, filters='!\"#$%&()*+,-./:;<=>?@[\\\\]^_`{|}~\\t\\n', lower=True, split=' ', oov_token='unknown', char_level=False)\n",
        "tokenizer_spam.fit_on_texts(spam_content) \n",
        "tokenizer_no_spam = Tokenizer(num_words=maxWordsCount, filters='!\"#$%&()*+,-./:;<=>?@[\\\\]^_`{|}~\\t\\n', lower=True, split=' ', oov_token='unknown', char_level=False)\n",
        "tokenizer_no_spam.fit_on_texts(no_spam_content) "
      ],
      "execution_count": null,
      "outputs": []
    },
    {
      "cell_type": "code",
      "metadata": {
        "id": "0_aLW6c9u_Bn"
      },
      "source": [
        "# объявим пустые словари для сообщений в категориях спам и не спам \n",
        "spam_words = {}\n",
        "no_spam_words = {}\n",
        "for word in list(tokenizer.word_index.keys())[1:]:  #Пробегаем по каждому слову из всех, находящихся в сообщениях (по глобальному токенайзеру)\n",
        "  if word in tokenizer_spam.word_index.keys():      # если слово присутствует в сообщениях категории 'спам'\n",
        "    # записываем это слово в словарь и присваиваем ему значение, сколько раз оно встречалось в сообщениях категории спам\n",
        "    spam_words[word] = json.loads(tokenizer_spam.get_config()['word_counts'])[word] \n",
        "  else:\n",
        "    # если такое слово не встречалось в этой категории, то количество вхождений, соответственно, проставляем ноль\n",
        "    spam_words[word] = 0\n",
        "# то же самое делаем для слов из категории 'не спам'\n",
        "  if word in tokenizer_no_spam.word_index.keys():\n",
        "    no_spam_words[word] = json.loads(tokenizer_no_spam.get_config()['word_counts'])[word]\n",
        "  else:\n",
        "    no_spam_words[word] = 0"
      ],
      "execution_count": null,
      "outputs": []
    },
    {
      "cell_type": "code",
      "metadata": {
        "id": "YeSHkq4x5BwC"
      },
      "source": [
        "# чтобы не отрисовывать все слова, возьмем только те, которые встречаются более 10 раз\n",
        "spam_words_short = dict((k, v) for k, v in spam_words.items() if v >= 10)\n",
        "no_spam_words_short = dict((k, v) for k, v in no_spam_words.items() if v >= 10)"
      ],
      "execution_count": null,
      "outputs": []
    },
    {
      "cell_type": "code",
      "metadata": {
        "colab": {
          "base_uri": "https://localhost:8080/",
          "height": 603
        },
        "id": "mM2Ll0kYxxpq",
        "outputId": "8e7ddece-c8fa-4ad5-92c9-91ef8616823a"
      },
      "source": [
        "fig, ax = plt.subplots(figsize=(25, 10), constrained_layout=True)\n",
        "plt.stem(spam_words_short.keys(), spam_words_short.values(), 'b', label='spam words', markerfmt='none')\n",
        "plt.stem(no_spam_words_short.keys(), no_spam_words_short.values(), 'g', label='no spam words', markerfmt='none')\n",
        "plt.setp( ax.get_xticklabels(), rotation=45 )\n",
        "plt.legend()\n"
      ],
      "execution_count": null,
      "outputs": [
        {
          "output_type": "execute_result",
          "data": {
            "text/plain": [
              "<matplotlib.legend.Legend at 0x7f7ce0190e90>"
            ]
          },
          "metadata": {
            "tags": []
          },
          "execution_count": 28
        },
        {
          "output_type": "display_data",
          "data": {
            "image/png": "[encoded data removed]",
            "text/plain": [
              "<Figure size 1800x720 with 1 Axes>"
            ]
          },
          "metadata": {
            "tags": [],
            "needs_background": "light"
          }
        }
      ]
    }
  ]
}