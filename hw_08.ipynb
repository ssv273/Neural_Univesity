{
  "nbformat": 4,
  "nbformat_minor": 0,
  "metadata": {
    "colab": {
      "name": "Untitled41.ipynb",
      "provenance": [],
      "authorship_tag": "ABX9TyPgepmaiSfgbru/0Dcc1GWA",
      "include_colab_link": true
    },
    "kernelspec": {
      "name": "python3",
      "display_name": "Python 3"
    },
    "language_info": {
      "name": "python"
    }
  },
  "cells": [
    {
      "cell_type": "markdown",
      "metadata": {
        "id": "view-in-github",
        "colab_type": "text"
      },
      "source": [
        "<a href=\"https://colab.research.google.com/github/ssv273/Neural_Univesity/blob/main/hw_08.ipynb\" target=\"_parent\"><img src=\"https://colab.research.google.com/assets/colab-badge.svg\" alt=\"Open In Colab\"/></a>"
      ]
    },
    {
      "cell_type": "code",
      "metadata": {
        "id": "g7UaHtEWknrD"
      },
      "source": [
        " !pip install -q kaggle\n",
        " from google.colab import files"
      ],
      "execution_count": 1,
      "outputs": []
    },
    {
      "cell_type": "code",
      "metadata": {
        "colab": {
          "resources": {
            "http://localhost:8080/nbextensions/google.colab/files.js": {
              "data": "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",
              "ok": true,
              "headers": [
                [
                  "content-type",
                  "application/javascript"
                ]
              ],
              "status": 200,
              "status_text": "OK"
            }
          },
          "base_uri": "https://localhost:8080/",
          "height": 92
        },
        "id": "-Pur2B8Mkpu3",
        "outputId": "2db801da-f696-4b5e-f4f1-34e0770bbaf7"
      },
      "source": [
        "files.upload()"
      ],
      "execution_count": 2,
      "outputs": [
        {
          "output_type": "display_data",
          "data": {
            "text/html": [
              "\n",
              "     <input type=\"file\" id=\"files-f786a66b-a7b4-4e7b-b5b1-f24aad54409b\" name=\"files[]\" multiple disabled\n",
              "        style=\"border:none\" />\n",
              "     <output id=\"result-f786a66b-a7b4-4e7b-b5b1-f24aad54409b\">\n",
              "      Upload widget is only available when the cell has been executed in the\n",
              "      current browser session. Please rerun this cell to enable.\n",
              "      </output>\n",
              "      <script src=\"/nbextensions/google.colab/files.js\"></script> "
            ],
            "text/plain": [
              "<IPython.core.display.HTML object>"
            ]
          },
          "metadata": {}
        },
        {
          "output_type": "stream",
          "text": [
            "Saving kaggle.json to kaggle.json\n"
          ],
          "name": "stdout"
        },
        {
          "output_type": "execute_result",
          "data": {
            "text/plain": [
              "{'kaggle.json': b'{\"username\":\"ssv273\",\"key\":\"b1885a5edf78a64d77b28215f64fa83a\"}'}"
            ]
          },
          "metadata": {},
          "execution_count": 2
        }
      ]
    },
    {
      "cell_type": "code",
      "metadata": {
        "id": "C1gpsc2Vku0y"
      },
      "source": [
        "! mkdir ~/.kaggle \n",
        "! cp kaggle.json ~/.kaggle/\n",
        "! chmod 600 ~/.kaggle/kaggle.json"
      ],
      "execution_count": 3,
      "outputs": []
    },
    {
      "cell_type": "code",
      "metadata": {
        "id": "J1XeBvdGk1-d"
      },
      "source": [
        "!kaggle datasets download -d carlossalazar65/tropical-genres-dataset\n",
        "!mkdir Data\n",
        "!unzip tropical-genres-dataset.zip -d Data"
      ],
      "execution_count": null,
      "outputs": []
    },
    {
      "cell_type": "code",
      "metadata": {
        "id": "ZZYS9IAylAQK"
      },
      "source": [
        "#Подключаем библиотеки\n",
        "from google.colab import files #Загрузка файлов\n",
        "from tensorflow.keras.utils import to_categorical #Для представления в формате one_hot_encoding\n",
        "import os #Работа с папками и файлами\n",
        "import librosa #Параметризация аудио\n",
        "import numpy as np #Numpy массивы\n",
        "import matplotlib.pyplot as plt #Отображение графиков\n",
        "\n",
        "from tensorflow.keras.optimizers import Adam, RMSprop #Подключаем оптимизаторы\n",
        "from tensorflow.keras.models import Sequential, Model #Модели keras\n",
        "from tensorflow.keras.layers import concatenate, Input, Dense, Dropout, BatchNormalization, Flatten, Conv1D, Conv2D, LSTM #Базовые слои\n",
        "from sklearn.model_selection import train_test_split #Разбиение на обучающую и проверочную выборку\n",
        "from sklearn.preprocessing import LabelEncoder, StandardScaler #Для нормировки данных\n",
        "\n",
        "import warnings\n",
        "warnings.filterwarnings(\"ignore\")"
      ],
      "execution_count": 17,
      "outputs": []
    },
    {
      "cell_type": "code",
      "metadata": {
        "id": "KUaccxntleIz"
      },
      "source": [
        "#Функция параметризации аудио\n",
        "def get_features(y, sr):\n",
        "  #Получаем различные параметры аудио\n",
        "  chroma_stft = librosa.feature.chroma_stft(y=y, sr=sr) #Частота цветности (по умолчанию 12 баков цветности)\n",
        "  mfcc = librosa.feature.mfcc(y=y, sr=sr) #Мел кепстральные коэффициенты (по умолчанию 20)\n",
        "  \n",
        "  rmse = np.mean(librosa.feature.rms(y=y)) #Среднеквадратичная амплитуда\n",
        "  spec_cent = np.mean(librosa.feature.spectral_centroid(y=y, sr=sr)) #среднее спектральныго центроида\n",
        "  spec_bw = np.mean(librosa.feature.spectral_bandwidth(y=y, sr=sr)) #среднее ширины полосы частот\n",
        "  rolloff = np.mean(librosa.feature.spectral_rolloff(y=y, sr=sr)) #среднее спектрального спада частоты\n",
        "  zcr = np.mean(librosa.feature.zero_crossing_rate(y)) #среднее частота пересечения нуля звукового временного ряда\n",
        "  \n",
        "  \n",
        "  #Добавляем все параметры в один список\n",
        "  out = [] # создаем пустой список\n",
        "  out.append(rmse) #  добавляем среднеквадратичную амплитуду\n",
        "  out.append(spec_cent) #добавляем спектральный центроид\n",
        "  out.append(spec_bw) # добавляем ширину полосы частот\n",
        "  out.append(rolloff) # добавляем спектральный спад частоты\n",
        "  out.append(zcr) # добавляем пересечение нуля\n",
        "  \n",
        "  #добавляем среднее всех Мел спектральных коэффициентов (20 значений)\n",
        "  for e in mfcc:\n",
        "    out.append(np.mean(e))\n",
        "\n",
        "  #добавляем среднее всех Частот цветности (12 значений)\n",
        "  for e in chroma_stft:\n",
        "    out.append(np.mean(e))\n",
        "  \n",
        "  #Возвращаем получившийся список размерностью (37,)\n",
        "  return out"
      ],
      "execution_count": 7,
      "outputs": []
    },
    {
      "cell_type": "code",
      "metadata": {
        "colab": {
          "base_uri": "https://localhost:8080/"
        },
        "id": "dry7d2sultLq",
        "outputId": "2466bd2a-a30c-4e8f-c804-4e5dbbedc7b1"
      },
      "source": [
        "genres = os.listdir('Data/Audios')\n",
        "genres"
      ],
      "execution_count": 12,
      "outputs": [
        {
          "output_type": "execute_result",
          "data": {
            "text/plain": [
              "['Cumbia', 'Salsa', 'Bachata', 'Merengue', 'Vallenato']"
            ]
          },
          "metadata": {},
          "execution_count": 12
        }
      ]
    },
    {
      "cell_type": "code",
      "metadata": {
        "colab": {
          "base_uri": "https://localhost:8080/"
        },
        "id": "jm6ktUqCljDr",
        "outputId": "1174d895-5981-4717-e34a-3c181bee8246"
      },
      "source": [
        "import time #подключаем модуль time для подсчёта времени на обработку одного жанра\n",
        "\n",
        "#Формируем обучающую выборку\n",
        "#Создаём пустые листы\n",
        "X_train = []\n",
        "Y_train = []\n",
        "\n",
        "#Запоминаем время старта формирования выборки\n",
        "curr_time = time.time()\n",
        "\n",
        "#Проходим по всем жарнам\n",
        "for i in range(len(genres)):\n",
        "  g = genres[i] #Берём текущий жанр\n",
        "  #Проходим по файлам папки, соответствующей текущему жанру\n",
        "  for filename in os.listdir(f'Data/Audios/{g}'):\n",
        "    #Получаем имя песни\n",
        "    songname = f'Data/Audios/{g}/{filename}'\n",
        "    #Загружаем в y аудиосигнал\n",
        "    #Используем первые 30 секунд аудио\n",
        "    y, sr = librosa.load(songname, mono=True, duration=30) #y - массив данных временного ряда аудио, sr - частота дискретизации временного ряда\n",
        "    #Превращаем сигнал в параметризованные данные\n",
        "    out = get_features(y, sr)\n",
        "    \n",
        "    #Добавляем строку в X_train\n",
        "    X_train.append(out)\n",
        "    #Добавляем в Y_train номер жанра в формате ohe\n",
        "    Y_train.append(to_categorical(i, len(genres)))\n",
        "\n",
        "  #Выводим информацию о готовности обработки базы\n",
        "  print(\"Жанр \", g, \" готов -> \", round(time.time() - curr_time), \"c\", sep=\"\")\n",
        "  curr_time = time.time()\n",
        "\n",
        "#Превращаем обучающую выборку на numpy массивы\n",
        "X_train = np.array(X_train)\n",
        "Y_train = np.array(Y_train)"
      ],
      "execution_count": 18,
      "outputs": [
        {
          "output_type": "stream",
          "text": [
            "Жанр Cumbia готов -> 661c\n",
            "Жанр Salsa готов -> 664c\n",
            "Жанр Bachata готов -> 659c\n",
            "Жанр Merengue готов -> 655c\n",
            "Жанр Vallenato готов -> 667c\n"
          ],
          "name": "stdout"
        }
      ]
    },
    {
      "cell_type": "code",
      "metadata": {
        "colab": {
          "base_uri": "https://localhost:8080/"
        },
        "id": "MzPrOQJE04ZF",
        "outputId": "bf26825f-1730-4b4b-88d2-ab4518e37dd5"
      },
      "source": [
        "X_train.shape, Y_train.shape"
      ],
      "execution_count": 20,
      "outputs": [
        {
          "output_type": "execute_result",
          "data": {
            "text/plain": [
              "((1500, 37), (1500, 5))"
            ]
          },
          "metadata": {},
          "execution_count": 20
        }
      ]
    },
    {
      "cell_type": "code",
      "metadata": {
        "id": "M1xFDEMz05_F"
      },
      "source": [
        "import pickle"
      ],
      "execution_count": 21,
      "outputs": []
    },
    {
      "cell_type": "code",
      "metadata": {
        "id": "LX6iJxUJ1Cif"
      },
      "source": [
        "with open('X_train.pickle', 'wb') as f:\n",
        "    pickle.dump(X_train, f)\n",
        "with open('Y_train.pickle', 'wb') as f:\n",
        "    pickle.dump(Y_train, f)"
      ],
      "execution_count": 22,
      "outputs": []
    },
    {
      "cell_type": "code",
      "metadata": {
        "colab": {
          "base_uri": "https://localhost:8080/"
        },
        "id": "KlxTjG4Q47Cc",
        "outputId": "595ea623-0f77-4e48-c88f-0d2b11c00379"
      },
      "source": [
        "#Выводим номера классов, чтобы проверить, что всё правильно заполнилось\n",
        "#И номера классов идут последовательно крупными блоками\n",
        "y_train_class = np.argmax(Y_train, axis=1)\n",
        "print(y_train_class[:1000])"
      ],
      "execution_count": 27,
      "outputs": [
        {
          "output_type": "stream",
          "text": [
            "[0 0 0 0 0 0 0 0 0 0 0 0 0 0 0 0 0 0 0 0 0 0 0 0 0 0 0 0 0 0 0 0 0 0 0 0 0\n",
            " 0 0 0 0 0 0 0 0 0 0 0 0 0 0 0 0 0 0 0 0 0 0 0 0 0 0 0 0 0 0 0 0 0 0 0 0 0\n",
            " 0 0 0 0 0 0 0 0 0 0 0 0 0 0 0 0 0 0 0 0 0 0 0 0 0 0 0 0 0 0 0 0 0 0 0 0 0\n",
            " 0 0 0 0 0 0 0 0 0 0 0 0 0 0 0 0 0 0 0 0 0 0 0 0 0 0 0 0 0 0 0 0 0 0 0 0 0\n",
            " 0 0 0 0 0 0 0 0 0 0 0 0 0 0 0 0 0 0 0 0 0 0 0 0 0 0 0 0 0 0 0 0 0 0 0 0 0\n",
            " 0 0 0 0 0 0 0 0 0 0 0 0 0 0 0 0 0 0 0 0 0 0 0 0 0 0 0 0 0 0 0 0 0 0 0 0 0\n",
            " 0 0 0 0 0 0 0 0 0 0 0 0 0 0 0 0 0 0 0 0 0 0 0 0 0 0 0 0 0 0 0 0 0 0 0 0 0\n",
            " 0 0 0 0 0 0 0 0 0 0 0 0 0 0 0 0 0 0 0 0 0 0 0 0 0 0 0 0 0 0 0 0 0 0 0 0 0\n",
            " 0 0 0 0 1 1 1 1 1 1 1 1 1 1 1 1 1 1 1 1 1 1 1 1 1 1 1 1 1 1 1 1 1 1 1 1 1\n",
            " 1 1 1 1 1 1 1 1 1 1 1 1 1 1 1 1 1 1 1 1 1 1 1 1 1 1 1 1 1 1 1 1 1 1 1 1 1\n",
            " 1 1 1 1 1 1 1 1 1 1 1 1 1 1 1 1 1 1 1 1 1 1 1 1 1 1 1 1 1 1 1 1 1 1 1 1 1\n",
            " 1 1 1 1 1 1 1 1 1 1 1 1 1 1 1 1 1 1 1 1 1 1 1 1 1 1 1 1 1 1 1 1 1 1 1 1 1\n",
            " 1 1 1 1 1 1 1 1 1 1 1 1 1 1 1 1 1 1 1 1 1 1 1 1 1 1 1 1 1 1 1 1 1 1 1 1 1\n",
            " 1 1 1 1 1 1 1 1 1 1 1 1 1 1 1 1 1 1 1 1 1 1 1 1 1 1 1 1 1 1 1 1 1 1 1 1 1\n",
            " 1 1 1 1 1 1 1 1 1 1 1 1 1 1 1 1 1 1 1 1 1 1 1 1 1 1 1 1 1 1 1 1 1 1 1 1 1\n",
            " 1 1 1 1 1 1 1 1 1 1 1 1 1 1 1 1 1 1 1 1 1 1 1 1 1 1 1 1 1 1 1 1 1 1 1 1 1\n",
            " 1 1 1 1 1 1 1 1 2 2 2 2 2 2 2 2 2 2 2 2 2 2 2 2 2 2 2 2 2 2 2 2 2 2 2 2 2\n",
            " 2 2 2 2 2 2 2 2 2 2 2 2 2 2 2 2 2 2 2 2 2 2 2 2 2 2 2 2 2 2 2 2 2 2 2 2 2\n",
            " 2 2 2 2 2 2 2 2 2 2 2 2 2 2 2 2 2 2 2 2 2 2 2 2 2 2 2 2 2 2 2 2 2 2 2 2 2\n",
            " 2 2 2 2 2 2 2 2 2 2 2 2 2 2 2 2 2 2 2 2 2 2 2 2 2 2 2 2 2 2 2 2 2 2 2 2 2\n",
            " 2 2 2 2 2 2 2 2 2 2 2 2 2 2 2 2 2 2 2 2 2 2 2 2 2 2 2 2 2 2 2 2 2 2 2 2 2\n",
            " 2 2 2 2 2 2 2 2 2 2 2 2 2 2 2 2 2 2 2 2 2 2 2 2 2 2 2 2 2 2 2 2 2 2 2 2 2\n",
            " 2 2 2 2 2 2 2 2 2 2 2 2 2 2 2 2 2 2 2 2 2 2 2 2 2 2 2 2 2 2 2 2 2 2 2 2 2\n",
            " 2 2 2 2 2 2 2 2 2 2 2 2 2 2 2 2 2 2 2 2 2 2 2 2 2 2 2 2 2 2 2 2 2 2 2 2 2\n",
            " 2 2 2 2 2 2 2 2 2 2 2 2 3 3 3 3 3 3 3 3 3 3 3 3 3 3 3 3 3 3 3 3 3 3 3 3 3\n",
            " 3 3 3 3 3 3 3 3 3 3 3 3 3 3 3 3 3 3 3 3 3 3 3 3 3 3 3 3 3 3 3 3 3 3 3 3 3\n",
            " 3 3 3 3 3 3 3 3 3 3 3 3 3 3 3 3 3 3 3 3 3 3 3 3 3 3 3 3 3 3 3 3 3 3 3 3 3\n",
            " 3]\n"
          ],
          "name": "stdout"
        }
      ]
    },
    {
      "cell_type": "code",
      "metadata": {
        "id": "a0zDZciR5BXD"
      },
      "source": [
        "#Создаём scaler экземпляр класса StandardScaler() для нормировки данных\n",
        "scaler = StandardScaler()\n",
        "#Номируем X_train\n",
        "X_train = scaler.fit_transform(X_train)"
      ],
      "execution_count": 28,
      "outputs": []
    },
    {
      "cell_type": "code",
      "metadata": {
        "colab": {
          "base_uri": "https://localhost:8080/"
        },
        "id": "t6sgDEUz5ZXU",
        "outputId": "8359b7b8-d9dc-461a-ec02-20355594a692"
      },
      "source": [
        "#Проверяем, что X_train нормировался\n",
        "print(X_train[0])"
      ],
      "execution_count": 29,
      "outputs": [
        {
          "output_type": "stream",
          "text": [
            "[-0.19440004 -0.02254135 -0.69871085 -0.43679156  0.55959791  0.28266993\n",
            " -0.29347755 -1.89927861  1.02926534 -1.15235835  1.00365309 -0.52717217\n",
            " -1.49701112  0.26704302 -0.448731   -0.32683994 -0.52126721 -0.23718149\n",
            " -1.12200379  0.39318285  0.84458939 -0.83433926 -0.38242429 -1.27880528\n",
            " -2.10524687 -0.04902458  0.03910105  1.34750188  0.08400222 -0.77585276\n",
            "  0.07423673  0.3591292   0.49383772  0.92965758  1.9653544   2.15710755\n",
            "  1.06342835]\n"
          ],
          "name": "stdout"
        }
      ]
    },
    {
      "cell_type": "code",
      "metadata": {
        "id": "U_7X2IPt5bt1"
      },
      "source": [
        "#Разделяем выборку на обучающую и проверочную\n",
        "#Для проверочной используем 10% примеров\n",
        "X_train, X_test, y_train, y_test = train_test_split(X_train, y_train_class, test_size=0.1)"
      ],
      "execution_count": 30,
      "outputs": []
    },
    {
      "cell_type": "code",
      "metadata": {
        "colab": {
          "base_uri": "https://localhost:8080/"
        },
        "id": "AvsrfnTk5fjr",
        "outputId": "bfa51a2d-7341-473e-f025-e318ba9fb296"
      },
      "source": [
        "#Выводим размеры обучающей и проверочной выборки для проверки\n",
        "print(X_train.shape)\n",
        "print(y_train.shape)\n",
        "print(X_test.shape)\n",
        "print(y_test.shape)"
      ],
      "execution_count": 31,
      "outputs": [
        {
          "output_type": "stream",
          "text": [
            "(1350, 37)\n",
            "(1350,)\n",
            "(150, 37)\n",
            "(150,)\n"
          ],
          "name": "stdout"
        }
      ]
    },
    {
      "cell_type": "markdown",
      "metadata": {
        "id": "6ylCyMD35uUM"
      },
      "source": [
        "# Создаём нейронку"
      ]
    },
    {
      "cell_type": "code",
      "metadata": {
        "colab": {
          "base_uri": "https://localhost:8080/",
          "height": 1000
        },
        "id": "Iu7wD5r75vMB",
        "outputId": "35746f01-7794-4f0f-a634-b355e31986c9"
      },
      "source": [
        "#Указываем, какие индексы данных во входных векторах брать для обучения\n",
        "#Делаем это для того, чтобы можно было экспериментировать\n",
        "#И обучать не на всех колонках данных, а на части\n",
        "indexes = range(0,37)\n",
        "\n",
        "#Создаём полносвязанную сеть \n",
        "model = Sequential()\n",
        "model.add(Dense(256, activation='elu', input_shape=(len(indexes),)))\n",
        "model.add(Dense(128, activation='elu'))\n",
        "model.add(Dense(64, activation='elu'))\n",
        "model.add(Dense(32, activation='elu'))\n",
        "#В конце количество нейронов равно количеству классов и softmax\n",
        "model.add(Dense(len(genres), activation='softmax'))\n",
        "\n",
        "#Компилируем сеть\n",
        "model.compile(optimizer=RMSprop(lr=1e-4),\n",
        "              loss='sparse_categorical_crossentropy',\n",
        "              metrics=['accuracy'])\n",
        "\n",
        "#Обучаем\n",
        "history = model.fit(X_train[:, indexes],\n",
        "                    y_train,\n",
        "                    epochs=200,\n",
        "                    batch_size=20,\n",
        "                    validation_data=(X_test[:, indexes], y_test))\n",
        "\n",
        "#Выводим график точности распознавания на обучающей и проверочной выборках\n",
        "plt.plot(history.history[\"accuracy\"])\n",
        "plt.plot(history.history[\"val_accuracy\"])\n",
        "plt.show()"
      ],
      "execution_count": 32,
      "outputs": [
        {
          "output_type": "stream",
          "text": [
            "Epoch 1/200\n",
            "68/68 [==============================] - 2s 6ms/step - loss: 1.1305 - accuracy: 0.6096 - val_loss: 0.8336 - val_accuracy: 0.7400\n",
            "Epoch 2/200\n",
            "68/68 [==============================] - 0s 3ms/step - loss: 0.6923 - accuracy: 0.8111 - val_loss: 0.5797 - val_accuracy: 0.8067\n",
            "Epoch 3/200\n",
            "68/68 [==============================] - 0s 3ms/step - loss: 0.5007 - accuracy: 0.8511 - val_loss: 0.4539 - val_accuracy: 0.8467\n",
            "Epoch 4/200\n",
            "68/68 [==============================] - 0s 3ms/step - loss: 0.3948 - accuracy: 0.8748 - val_loss: 0.3891 - val_accuracy: 0.8400\n",
            "Epoch 5/200\n",
            "68/68 [==============================] - 0s 3ms/step - loss: 0.3307 - accuracy: 0.8889 - val_loss: 0.3372 - val_accuracy: 0.8800\n",
            "Epoch 6/200\n",
            "68/68 [==============================] - 0s 3ms/step - loss: 0.2870 - accuracy: 0.9037 - val_loss: 0.3058 - val_accuracy: 0.8867\n",
            "Epoch 7/200\n",
            "68/68 [==============================] - 0s 3ms/step - loss: 0.2538 - accuracy: 0.9222 - val_loss: 0.2807 - val_accuracy: 0.8867\n",
            "Epoch 8/200\n",
            "68/68 [==============================] - 0s 3ms/step - loss: 0.2284 - accuracy: 0.9356 - val_loss: 0.2753 - val_accuracy: 0.9067\n",
            "Epoch 9/200\n",
            "68/68 [==============================] - 0s 3ms/step - loss: 0.2089 - accuracy: 0.9385 - val_loss: 0.2539 - val_accuracy: 0.9133\n",
            "Epoch 10/200\n",
            "68/68 [==============================] - 0s 3ms/step - loss: 0.1919 - accuracy: 0.9459 - val_loss: 0.2395 - val_accuracy: 0.9267\n",
            "Epoch 11/200\n",
            "68/68 [==============================] - 0s 3ms/step - loss: 0.1757 - accuracy: 0.9504 - val_loss: 0.2227 - val_accuracy: 0.9267\n",
            "Epoch 12/200\n",
            "68/68 [==============================] - 0s 3ms/step - loss: 0.1638 - accuracy: 0.9526 - val_loss: 0.2326 - val_accuracy: 0.9200\n",
            "Epoch 13/200\n",
            "68/68 [==============================] - 0s 3ms/step - loss: 0.1524 - accuracy: 0.9563 - val_loss: 0.2164 - val_accuracy: 0.9267\n",
            "Epoch 14/200\n",
            "68/68 [==============================] - 0s 3ms/step - loss: 0.1419 - accuracy: 0.9607 - val_loss: 0.2120 - val_accuracy: 0.9267\n",
            "Epoch 15/200\n",
            "68/68 [==============================] - 0s 3ms/step - loss: 0.1333 - accuracy: 0.9593 - val_loss: 0.2024 - val_accuracy: 0.9333\n",
            "Epoch 16/200\n",
            "68/68 [==============================] - 0s 3ms/step - loss: 0.1248 - accuracy: 0.9689 - val_loss: 0.2021 - val_accuracy: 0.9400\n",
            "Epoch 17/200\n",
            "68/68 [==============================] - 0s 3ms/step - loss: 0.1164 - accuracy: 0.9667 - val_loss: 0.1990 - val_accuracy: 0.9333\n",
            "Epoch 18/200\n",
            "68/68 [==============================] - 0s 3ms/step - loss: 0.1107 - accuracy: 0.9681 - val_loss: 0.1910 - val_accuracy: 0.9400\n",
            "Epoch 19/200\n",
            "68/68 [==============================] - 0s 3ms/step - loss: 0.1030 - accuracy: 0.9719 - val_loss: 0.1938 - val_accuracy: 0.9400\n",
            "Epoch 20/200\n",
            "68/68 [==============================] - 0s 3ms/step - loss: 0.0962 - accuracy: 0.9763 - val_loss: 0.1850 - val_accuracy: 0.9400\n",
            "Epoch 21/200\n",
            "68/68 [==============================] - 0s 3ms/step - loss: 0.0920 - accuracy: 0.9770 - val_loss: 0.1889 - val_accuracy: 0.9400\n",
            "Epoch 22/200\n",
            "68/68 [==============================] - 0s 3ms/step - loss: 0.0859 - accuracy: 0.9800 - val_loss: 0.1846 - val_accuracy: 0.9400\n",
            "Epoch 23/200\n",
            "68/68 [==============================] - 0s 3ms/step - loss: 0.0807 - accuracy: 0.9822 - val_loss: 0.1784 - val_accuracy: 0.9467\n",
            "Epoch 24/200\n",
            "68/68 [==============================] - 0s 3ms/step - loss: 0.0763 - accuracy: 0.9822 - val_loss: 0.1820 - val_accuracy: 0.9467\n",
            "Epoch 25/200\n",
            "68/68 [==============================] - 0s 3ms/step - loss: 0.0710 - accuracy: 0.9844 - val_loss: 0.1901 - val_accuracy: 0.9467\n",
            "Epoch 26/200\n",
            "68/68 [==============================] - 0s 3ms/step - loss: 0.0686 - accuracy: 0.9874 - val_loss: 0.1814 - val_accuracy: 0.9467\n",
            "Epoch 27/200\n",
            "68/68 [==============================] - 0s 3ms/step - loss: 0.0631 - accuracy: 0.9881 - val_loss: 0.1750 - val_accuracy: 0.9533\n",
            "Epoch 28/200\n",
            "68/68 [==============================] - 0s 3ms/step - loss: 0.0593 - accuracy: 0.9889 - val_loss: 0.1764 - val_accuracy: 0.9533\n",
            "Epoch 29/200\n",
            "68/68 [==============================] - 0s 3ms/step - loss: 0.0553 - accuracy: 0.9881 - val_loss: 0.1828 - val_accuracy: 0.9467\n",
            "Epoch 30/200\n",
            "68/68 [==============================] - 0s 3ms/step - loss: 0.0517 - accuracy: 0.9911 - val_loss: 0.1630 - val_accuracy: 0.9667\n",
            "Epoch 31/200\n",
            "68/68 [==============================] - 0s 3ms/step - loss: 0.0490 - accuracy: 0.9911 - val_loss: 0.1705 - val_accuracy: 0.9533\n",
            "Epoch 32/200\n",
            "68/68 [==============================] - 0s 3ms/step - loss: 0.0457 - accuracy: 0.9919 - val_loss: 0.1728 - val_accuracy: 0.9600\n",
            "Epoch 33/200\n",
            "68/68 [==============================] - 0s 3ms/step - loss: 0.0432 - accuracy: 0.9926 - val_loss: 0.1749 - val_accuracy: 0.9600\n",
            "Epoch 34/200\n",
            "68/68 [==============================] - 0s 3ms/step - loss: 0.0400 - accuracy: 0.9941 - val_loss: 0.1668 - val_accuracy: 0.9600\n",
            "Epoch 35/200\n",
            "68/68 [==============================] - 0s 3ms/step - loss: 0.0377 - accuracy: 0.9941 - val_loss: 0.1733 - val_accuracy: 0.9600\n",
            "Epoch 36/200\n",
            "68/68 [==============================] - 0s 3ms/step - loss: 0.0340 - accuracy: 0.9948 - val_loss: 0.1782 - val_accuracy: 0.9667\n",
            "Epoch 37/200\n",
            "68/68 [==============================] - 0s 3ms/step - loss: 0.0325 - accuracy: 0.9948 - val_loss: 0.1795 - val_accuracy: 0.9533\n",
            "Epoch 38/200\n",
            "68/68 [==============================] - 0s 3ms/step - loss: 0.0299 - accuracy: 0.9963 - val_loss: 0.1835 - val_accuracy: 0.9600\n",
            "Epoch 39/200\n",
            "68/68 [==============================] - 0s 3ms/step - loss: 0.0280 - accuracy: 0.9970 - val_loss: 0.1858 - val_accuracy: 0.9533\n",
            "Epoch 40/200\n",
            "68/68 [==============================] - 0s 3ms/step - loss: 0.0262 - accuracy: 0.9963 - val_loss: 0.1797 - val_accuracy: 0.9600\n",
            "Epoch 41/200\n",
            "68/68 [==============================] - 0s 3ms/step - loss: 0.0234 - accuracy: 0.9970 - val_loss: 0.1816 - val_accuracy: 0.9600\n",
            "Epoch 42/200\n",
            "68/68 [==============================] - 0s 3ms/step - loss: 0.0225 - accuracy: 0.9963 - val_loss: 0.1853 - val_accuracy: 0.9533\n",
            "Epoch 43/200\n",
            "68/68 [==============================] - 0s 3ms/step - loss: 0.0203 - accuracy: 0.9970 - val_loss: 0.1782 - val_accuracy: 0.9600\n",
            "Epoch 44/200\n",
            "68/68 [==============================] - 0s 3ms/step - loss: 0.0184 - accuracy: 0.9978 - val_loss: 0.1802 - val_accuracy: 0.9600\n",
            "Epoch 45/200\n",
            "68/68 [==============================] - 0s 3ms/step - loss: 0.0166 - accuracy: 0.9978 - val_loss: 0.1921 - val_accuracy: 0.9600\n",
            "Epoch 46/200\n",
            "68/68 [==============================] - 0s 3ms/step - loss: 0.0154 - accuracy: 0.9985 - val_loss: 0.2014 - val_accuracy: 0.9533\n",
            "Epoch 47/200\n",
            "68/68 [==============================] - 0s 3ms/step - loss: 0.0144 - accuracy: 0.9970 - val_loss: 0.2008 - val_accuracy: 0.9533\n",
            "Epoch 48/200\n",
            "68/68 [==============================] - 0s 3ms/step - loss: 0.0126 - accuracy: 0.9985 - val_loss: 0.2005 - val_accuracy: 0.9600\n",
            "Epoch 49/200\n",
            "68/68 [==============================] - 0s 3ms/step - loss: 0.0119 - accuracy: 0.9978 - val_loss: 0.1917 - val_accuracy: 0.9600\n",
            "Epoch 50/200\n",
            "68/68 [==============================] - 0s 3ms/step - loss: 0.0105 - accuracy: 0.9993 - val_loss: 0.1982 - val_accuracy: 0.9533\n",
            "Epoch 51/200\n",
            "68/68 [==============================] - 0s 2ms/step - loss: 0.0090 - accuracy: 1.0000 - val_loss: 0.2115 - val_accuracy: 0.9533\n",
            "Epoch 52/200\n",
            "68/68 [==============================] - 0s 3ms/step - loss: 0.0086 - accuracy: 0.9993 - val_loss: 0.1895 - val_accuracy: 0.9600\n",
            "Epoch 53/200\n",
            "68/68 [==============================] - 0s 3ms/step - loss: 0.0083 - accuracy: 0.9993 - val_loss: 0.1978 - val_accuracy: 0.9533\n",
            "Epoch 54/200\n",
            "68/68 [==============================] - 0s 3ms/step - loss: 0.0066 - accuracy: 1.0000 - val_loss: 0.2118 - val_accuracy: 0.9533\n",
            "Epoch 55/200\n",
            "68/68 [==============================] - 0s 3ms/step - loss: 0.0064 - accuracy: 0.9993 - val_loss: 0.2117 - val_accuracy: 0.9533\n",
            "Epoch 56/200\n",
            "68/68 [==============================] - 0s 3ms/step - loss: 0.0055 - accuracy: 1.0000 - val_loss: 0.2101 - val_accuracy: 0.9533\n",
            "Epoch 57/200\n",
            "68/68 [==============================] - 0s 3ms/step - loss: 0.0048 - accuracy: 1.0000 - val_loss: 0.2252 - val_accuracy: 0.9533\n",
            "Epoch 58/200\n",
            "68/68 [==============================] - 0s 3ms/step - loss: 0.0043 - accuracy: 1.0000 - val_loss: 0.2194 - val_accuracy: 0.9533\n",
            "Epoch 59/200\n",
            "68/68 [==============================] - 0s 3ms/step - loss: 0.0038 - accuracy: 1.0000 - val_loss: 0.2345 - val_accuracy: 0.9533\n",
            "Epoch 60/200\n",
            "68/68 [==============================] - 0s 3ms/step - loss: 0.0033 - accuracy: 1.0000 - val_loss: 0.2240 - val_accuracy: 0.9533\n",
            "Epoch 61/200\n",
            "68/68 [==============================] - 0s 3ms/step - loss: 0.0030 - accuracy: 1.0000 - val_loss: 0.2186 - val_accuracy: 0.9533\n",
            "Epoch 62/200\n",
            "68/68 [==============================] - 0s 3ms/step - loss: 0.0025 - accuracy: 1.0000 - val_loss: 0.2220 - val_accuracy: 0.9600\n",
            "Epoch 63/200\n",
            "68/68 [==============================] - 0s 3ms/step - loss: 0.0023 - accuracy: 1.0000 - val_loss: 0.2352 - val_accuracy: 0.9600\n",
            "Epoch 64/200\n",
            "68/68 [==============================] - 0s 3ms/step - loss: 0.0020 - accuracy: 1.0000 - val_loss: 0.2330 - val_accuracy: 0.9533\n",
            "Epoch 65/200\n",
            "68/68 [==============================] - 0s 3ms/step - loss: 0.0016 - accuracy: 1.0000 - val_loss: 0.2434 - val_accuracy: 0.9600\n",
            "Epoch 66/200\n",
            "68/68 [==============================] - 0s 2ms/step - loss: 0.0016 - accuracy: 1.0000 - val_loss: 0.2383 - val_accuracy: 0.9533\n",
            "Epoch 67/200\n",
            "68/68 [==============================] - 0s 3ms/step - loss: 0.0013 - accuracy: 1.0000 - val_loss: 0.2411 - val_accuracy: 0.9600\n",
            "Epoch 68/200\n",
            "68/68 [==============================] - 0s 3ms/step - loss: 0.0010 - accuracy: 1.0000 - val_loss: 0.2374 - val_accuracy: 0.9600\n",
            "Epoch 69/200\n",
            "68/68 [==============================] - 0s 3ms/step - loss: 9.6335e-04 - accuracy: 1.0000 - val_loss: 0.2517 - val_accuracy: 0.9533\n",
            "Epoch 70/200\n",
            "68/68 [==============================] - 0s 3ms/step - loss: 7.6787e-04 - accuracy: 1.0000 - val_loss: 0.2465 - val_accuracy: 0.9600\n",
            "Epoch 71/200\n",
            "68/68 [==============================] - 0s 3ms/step - loss: 7.5818e-04 - accuracy: 1.0000 - val_loss: 0.2714 - val_accuracy: 0.9533\n",
            "Epoch 72/200\n",
            "68/68 [==============================] - 0s 3ms/step - loss: 5.4152e-04 - accuracy: 1.0000 - val_loss: 0.2663 - val_accuracy: 0.9600\n",
            "Epoch 73/200\n",
            "68/68 [==============================] - 0s 3ms/step - loss: 4.7736e-04 - accuracy: 1.0000 - val_loss: 0.2711 - val_accuracy: 0.9533\n",
            "Epoch 74/200\n",
            "68/68 [==============================] - 0s 3ms/step - loss: 3.8263e-04 - accuracy: 1.0000 - val_loss: 0.2635 - val_accuracy: 0.9600\n",
            "Epoch 75/200\n",
            "68/68 [==============================] - 0s 3ms/step - loss: 3.4765e-04 - accuracy: 1.0000 - val_loss: 0.2810 - val_accuracy: 0.9533\n",
            "Epoch 76/200\n",
            "68/68 [==============================] - 0s 3ms/step - loss: 2.5829e-04 - accuracy: 1.0000 - val_loss: 0.2682 - val_accuracy: 0.9600\n",
            "Epoch 77/200\n",
            "68/68 [==============================] - 0s 3ms/step - loss: 2.4547e-04 - accuracy: 1.0000 - val_loss: 0.2776 - val_accuracy: 0.9600\n",
            "Epoch 78/200\n",
            "68/68 [==============================] - 0s 3ms/step - loss: 2.0360e-04 - accuracy: 1.0000 - val_loss: 0.2802 - val_accuracy: 0.9600\n",
            "Epoch 79/200\n",
            "68/68 [==============================] - 0s 3ms/step - loss: 1.6122e-04 - accuracy: 1.0000 - val_loss: 0.2905 - val_accuracy: 0.9600\n",
            "Epoch 80/200\n",
            "68/68 [==============================] - 0s 3ms/step - loss: 1.3634e-04 - accuracy: 1.0000 - val_loss: 0.2886 - val_accuracy: 0.9600\n",
            "Epoch 81/200\n",
            "68/68 [==============================] - 0s 3ms/step - loss: 1.1457e-04 - accuracy: 1.0000 - val_loss: 0.3013 - val_accuracy: 0.9600\n",
            "Epoch 82/200\n",
            "68/68 [==============================] - 0s 3ms/step - loss: 9.0785e-05 - accuracy: 1.0000 - val_loss: 0.3202 - val_accuracy: 0.9600\n",
            "Epoch 83/200\n",
            "68/68 [==============================] - 0s 3ms/step - loss: 6.8257e-05 - accuracy: 1.0000 - val_loss: 0.3212 - val_accuracy: 0.9600\n",
            "Epoch 84/200\n",
            "68/68 [==============================] - 0s 3ms/step - loss: 6.1248e-05 - accuracy: 1.0000 - val_loss: 0.3159 - val_accuracy: 0.9600\n",
            "Epoch 85/200\n",
            "68/68 [==============================] - 0s 3ms/step - loss: 5.1077e-05 - accuracy: 1.0000 - val_loss: 0.3280 - val_accuracy: 0.9600\n",
            "Epoch 86/200\n",
            "68/68 [==============================] - 0s 3ms/step - loss: 3.8620e-05 - accuracy: 1.0000 - val_loss: 0.3452 - val_accuracy: 0.9600\n",
            "Epoch 87/200\n",
            "68/68 [==============================] - 0s 3ms/step - loss: 3.1264e-05 - accuracy: 1.0000 - val_loss: 0.3321 - val_accuracy: 0.9600\n",
            "Epoch 88/200\n",
            "68/68 [==============================] - 0s 3ms/step - loss: 2.5777e-05 - accuracy: 1.0000 - val_loss: 0.3442 - val_accuracy: 0.9600\n",
            "Epoch 89/200\n",
            "68/68 [==============================] - 0s 3ms/step - loss: 2.2709e-05 - accuracy: 1.0000 - val_loss: 0.3493 - val_accuracy: 0.9600\n",
            "Epoch 90/200\n",
            "68/68 [==============================] - 0s 3ms/step - loss: 1.5524e-05 - accuracy: 1.0000 - val_loss: 0.3588 - val_accuracy: 0.9600\n",
            "Epoch 91/200\n",
            "68/68 [==============================] - 0s 3ms/step - loss: 1.2362e-05 - accuracy: 1.0000 - val_loss: 0.3636 - val_accuracy: 0.9600\n",
            "Epoch 92/200\n",
            "68/68 [==============================] - 0s 3ms/step - loss: 1.1608e-05 - accuracy: 1.0000 - val_loss: 0.3858 - val_accuracy: 0.9600\n",
            "Epoch 93/200\n",
            "68/68 [==============================] - 0s 3ms/step - loss: 7.5348e-06 - accuracy: 1.0000 - val_loss: 0.3849 - val_accuracy: 0.9600\n",
            "Epoch 94/200\n",
            "68/68 [==============================] - 0s 3ms/step - loss: 5.9322e-06 - accuracy: 1.0000 - val_loss: 0.3795 - val_accuracy: 0.9600\n",
            "Epoch 95/200\n",
            "68/68 [==============================] - 0s 3ms/step - loss: 5.2703e-06 - accuracy: 1.0000 - val_loss: 0.4046 - val_accuracy: 0.9600\n",
            "Epoch 96/200\n",
            "68/68 [==============================] - 0s 3ms/step - loss: 3.6333e-06 - accuracy: 1.0000 - val_loss: 0.3874 - val_accuracy: 0.9600\n",
            "Epoch 97/200\n",
            "68/68 [==============================] - 0s 3ms/step - loss: 3.4661e-06 - accuracy: 1.0000 - val_loss: 0.4218 - val_accuracy: 0.9600\n",
            "Epoch 98/200\n",
            "68/68 [==============================] - 0s 3ms/step - loss: 2.2625e-06 - accuracy: 1.0000 - val_loss: 0.4044 - val_accuracy: 0.9600\n",
            "Epoch 99/200\n",
            "68/68 [==============================] - 0s 3ms/step - loss: 2.0697e-06 - accuracy: 1.0000 - val_loss: 0.4045 - val_accuracy: 0.9600\n",
            "Epoch 100/200\n",
            "68/68 [==============================] - 0s 3ms/step - loss: 1.5836e-06 - accuracy: 1.0000 - val_loss: 0.4211 - val_accuracy: 0.9600\n",
            "Epoch 101/200\n",
            "68/68 [==============================] - 0s 3ms/step - loss: 1.0690e-06 - accuracy: 1.0000 - val_loss: 0.4241 - val_accuracy: 0.9600\n",
            "Epoch 102/200\n",
            "68/68 [==============================] - 0s 3ms/step - loss: 9.3389e-07 - accuracy: 1.0000 - val_loss: 0.4268 - val_accuracy: 0.9600\n",
            "Epoch 103/200\n",
            "68/68 [==============================] - 0s 3ms/step - loss: 6.6686e-07 - accuracy: 1.0000 - val_loss: 0.4417 - val_accuracy: 0.9600\n",
            "Epoch 104/200\n",
            "68/68 [==============================] - 0s 3ms/step - loss: 5.6099e-07 - accuracy: 1.0000 - val_loss: 0.4402 - val_accuracy: 0.9600\n",
            "Epoch 105/200\n",
            "68/68 [==============================] - 0s 3ms/step - loss: 3.9463e-07 - accuracy: 1.0000 - val_loss: 0.4635 - val_accuracy: 0.9600\n",
            "Epoch 106/200\n",
            "68/68 [==============================] - 0s 3ms/step - loss: 3.6337e-07 - accuracy: 1.0000 - val_loss: 0.4650 - val_accuracy: 0.9600\n",
            "Epoch 107/200\n",
            "68/68 [==============================] - 0s 3ms/step - loss: 2.5837e-07 - accuracy: 1.0000 - val_loss: 0.4790 - val_accuracy: 0.9600\n",
            "Epoch 108/200\n",
            "68/68 [==============================] - 0s 3ms/step - loss: 2.1599e-07 - accuracy: 1.0000 - val_loss: 0.4690 - val_accuracy: 0.9600\n",
            "Epoch 109/200\n",
            "68/68 [==============================] - 0s 3ms/step - loss: 1.7458e-07 - accuracy: 1.0000 - val_loss: 0.4764 - val_accuracy: 0.9600\n",
            "Epoch 110/200\n",
            "68/68 [==============================] - 0s 3ms/step - loss: 1.4367e-07 - accuracy: 1.0000 - val_loss: 0.4887 - val_accuracy: 0.9600\n",
            "Epoch 111/200\n",
            "68/68 [==============================] - 0s 3ms/step - loss: 1.1073e-07 - accuracy: 1.0000 - val_loss: 0.4766 - val_accuracy: 0.9600\n",
            "Epoch 112/200\n",
            "68/68 [==============================] - 0s 3ms/step - loss: 9.9341e-08 - accuracy: 1.0000 - val_loss: 0.4905 - val_accuracy: 0.9600\n",
            "Epoch 113/200\n",
            "68/68 [==============================] - 0s 4ms/step - loss: 8.3358e-08 - accuracy: 1.0000 - val_loss: 0.4943 - val_accuracy: 0.9600\n",
            "Epoch 114/200\n",
            "68/68 [==============================] - 0s 3ms/step - loss: 7.1172e-08 - accuracy: 1.0000 - val_loss: 0.4970 - val_accuracy: 0.9600\n",
            "Epoch 115/200\n",
            "68/68 [==============================] - 0s 3ms/step - loss: 6.0488e-08 - accuracy: 1.0000 - val_loss: 0.5058 - val_accuracy: 0.9600\n",
            "Epoch 116/200\n",
            "68/68 [==============================] - 0s 3ms/step - loss: 5.4925e-08 - accuracy: 1.0000 - val_loss: 0.5065 - val_accuracy: 0.9600\n",
            "Epoch 117/200\n",
            "68/68 [==============================] - 0s 3ms/step - loss: 4.8743e-08 - accuracy: 1.0000 - val_loss: 0.5089 - val_accuracy: 0.9600\n",
            "Epoch 118/200\n",
            "68/68 [==============================] - 0s 3ms/step - loss: 4.2915e-08 - accuracy: 1.0000 - val_loss: 0.5139 - val_accuracy: 0.9600\n",
            "Epoch 119/200\n",
            "68/68 [==============================] - 0s 3ms/step - loss: 3.7617e-08 - accuracy: 1.0000 - val_loss: 0.5136 - val_accuracy: 0.9600\n",
            "Epoch 120/200\n",
            "68/68 [==============================] - 0s 3ms/step - loss: 3.5233e-08 - accuracy: 1.0000 - val_loss: 0.5131 - val_accuracy: 0.9600\n",
            "Epoch 121/200\n",
            "68/68 [==============================] - 0s 3ms/step - loss: 3.2142e-08 - accuracy: 1.0000 - val_loss: 0.5152 - val_accuracy: 0.9600\n",
            "Epoch 122/200\n",
            "68/68 [==============================] - 0s 3ms/step - loss: 2.9140e-08 - accuracy: 1.0000 - val_loss: 0.5177 - val_accuracy: 0.9600\n",
            "Epoch 123/200\n",
            "68/68 [==============================] - 0s 3ms/step - loss: 2.8257e-08 - accuracy: 1.0000 - val_loss: 0.5193 - val_accuracy: 0.9600\n",
            "Epoch 124/200\n",
            "68/68 [==============================] - 0s 3ms/step - loss: 2.5343e-08 - accuracy: 1.0000 - val_loss: 0.5213 - val_accuracy: 0.9600\n",
            "Epoch 125/200\n",
            "68/68 [==============================] - 0s 3ms/step - loss: 2.3754e-08 - accuracy: 1.0000 - val_loss: 0.5219 - val_accuracy: 0.9600\n",
            "Epoch 126/200\n",
            "68/68 [==============================] - 0s 3ms/step - loss: 2.1723e-08 - accuracy: 1.0000 - val_loss: 0.5224 - val_accuracy: 0.9600\n",
            "Epoch 127/200\n",
            "68/68 [==============================] - 0s 3ms/step - loss: 2.0575e-08 - accuracy: 1.0000 - val_loss: 0.5239 - val_accuracy: 0.9600\n",
            "Epoch 128/200\n",
            "68/68 [==============================] - 0s 3ms/step - loss: 1.9603e-08 - accuracy: 1.0000 - val_loss: 0.5247 - val_accuracy: 0.9600\n",
            "Epoch 129/200\n",
            "68/68 [==============================] - 0s 3ms/step - loss: 1.8190e-08 - accuracy: 1.0000 - val_loss: 0.5259 - val_accuracy: 0.9600\n",
            "Epoch 130/200\n",
            "68/68 [==============================] - 0s 3ms/step - loss: 1.6689e-08 - accuracy: 1.0000 - val_loss: 0.5255 - val_accuracy: 0.9600\n",
            "Epoch 131/200\n",
            "68/68 [==============================] - 0s 3ms/step - loss: 1.6159e-08 - accuracy: 1.0000 - val_loss: 0.5289 - val_accuracy: 0.9600\n",
            "Epoch 132/200\n",
            "68/68 [==============================] - 0s 3ms/step - loss: 1.4570e-08 - accuracy: 1.0000 - val_loss: 0.5283 - val_accuracy: 0.9600\n",
            "Epoch 133/200\n",
            "68/68 [==============================] - 0s 3ms/step - loss: 1.4217e-08 - accuracy: 1.0000 - val_loss: 0.5316 - val_accuracy: 0.9600\n",
            "Epoch 134/200\n",
            "68/68 [==============================] - 0s 3ms/step - loss: 1.2981e-08 - accuracy: 1.0000 - val_loss: 0.5311 - val_accuracy: 0.9600\n",
            "Epoch 135/200\n",
            "68/68 [==============================] - 0s 3ms/step - loss: 1.2274e-08 - accuracy: 1.0000 - val_loss: 0.5309 - val_accuracy: 0.9600\n",
            "Epoch 136/200\n",
            "68/68 [==============================] - 0s 3ms/step - loss: 1.1921e-08 - accuracy: 1.0000 - val_loss: 0.5313 - val_accuracy: 0.9600\n",
            "Epoch 137/200\n",
            "68/68 [==============================] - 0s 3ms/step - loss: 1.1921e-08 - accuracy: 1.0000 - val_loss: 0.5326 - val_accuracy: 0.9600\n",
            "Epoch 138/200\n",
            "68/68 [==============================] - 0s 3ms/step - loss: 1.0243e-08 - accuracy: 1.0000 - val_loss: 0.5342 - val_accuracy: 0.9600\n",
            "Epoch 139/200\n",
            "68/68 [==============================] - 0s 3ms/step - loss: 1.0155e-08 - accuracy: 1.0000 - val_loss: 0.5334 - val_accuracy: 0.9600\n",
            "Epoch 140/200\n",
            "68/68 [==============================] - 0s 3ms/step - loss: 9.6250e-09 - accuracy: 1.0000 - val_loss: 0.5343 - val_accuracy: 0.9600\n",
            "Epoch 141/200\n",
            "68/68 [==============================] - 0s 3ms/step - loss: 9.3601e-09 - accuracy: 1.0000 - val_loss: 0.5346 - val_accuracy: 0.9600\n",
            "Epoch 142/200\n",
            "68/68 [==============================] - 0s 3ms/step - loss: 9.2718e-09 - accuracy: 1.0000 - val_loss: 0.5357 - val_accuracy: 0.9600\n",
            "Epoch 143/200\n",
            "68/68 [==============================] - 0s 3ms/step - loss: 8.4771e-09 - accuracy: 1.0000 - val_loss: 0.5377 - val_accuracy: 0.9600\n",
            "Epoch 144/200\n",
            "68/68 [==============================] - 0s 3ms/step - loss: 8.1239e-09 - accuracy: 1.0000 - val_loss: 0.5376 - val_accuracy: 0.9600\n",
            "Epoch 145/200\n",
            "68/68 [==============================] - 0s 3ms/step - loss: 8.4771e-09 - accuracy: 1.0000 - val_loss: 0.5386 - val_accuracy: 0.9600\n",
            "Epoch 146/200\n",
            "68/68 [==============================] - 0s 3ms/step - loss: 7.3292e-09 - accuracy: 1.0000 - val_loss: 0.5389 - val_accuracy: 0.9600\n",
            "Epoch 147/200\n",
            "68/68 [==============================] - 0s 3ms/step - loss: 7.1526e-09 - accuracy: 1.0000 - val_loss: 0.5393 - val_accuracy: 0.9600\n",
            "Epoch 148/200\n",
            "68/68 [==============================] - 0s 3ms/step - loss: 6.8876e-09 - accuracy: 1.0000 - val_loss: 0.5397 - val_accuracy: 0.9600\n",
            "Epoch 149/200\n",
            "68/68 [==============================] - 0s 3ms/step - loss: 6.7993e-09 - accuracy: 1.0000 - val_loss: 0.5409 - val_accuracy: 0.9600\n",
            "Epoch 150/200\n",
            "68/68 [==============================] - 0s 3ms/step - loss: 6.7110e-09 - accuracy: 1.0000 - val_loss: 0.5410 - val_accuracy: 0.9600\n",
            "Epoch 151/200\n",
            "68/68 [==============================] - 0s 3ms/step - loss: 6.0929e-09 - accuracy: 1.0000 - val_loss: 0.5428 - val_accuracy: 0.9600\n",
            "Epoch 152/200\n",
            "68/68 [==============================] - 0s 3ms/step - loss: 5.7397e-09 - accuracy: 1.0000 - val_loss: 0.5422 - val_accuracy: 0.9600\n",
            "Epoch 153/200\n",
            "68/68 [==============================] - 0s 3ms/step - loss: 5.7397e-09 - accuracy: 1.0000 - val_loss: 0.5433 - val_accuracy: 0.9600\n",
            "Epoch 154/200\n",
            "68/68 [==============================] - 0s 3ms/step - loss: 5.7397e-09 - accuracy: 1.0000 - val_loss: 0.5418 - val_accuracy: 0.9600\n",
            "Epoch 155/200\n",
            "68/68 [==============================] - 0s 3ms/step - loss: 5.2099e-09 - accuracy: 1.0000 - val_loss: 0.5430 - val_accuracy: 0.9600\n",
            "Epoch 156/200\n",
            "68/68 [==============================] - 0s 3ms/step - loss: 4.8567e-09 - accuracy: 1.0000 - val_loss: 0.5426 - val_accuracy: 0.9600\n",
            "Epoch 157/200\n",
            "68/68 [==============================] - 0s 3ms/step - loss: 4.9450e-09 - accuracy: 1.0000 - val_loss: 0.5436 - val_accuracy: 0.9600\n",
            "Epoch 158/200\n",
            "68/68 [==============================] - 0s 3ms/step - loss: 4.6801e-09 - accuracy: 1.0000 - val_loss: 0.5439 - val_accuracy: 0.9600\n",
            "Epoch 159/200\n",
            "68/68 [==============================] - 0s 3ms/step - loss: 4.4152e-09 - accuracy: 1.0000 - val_loss: 0.5447 - val_accuracy: 0.9600\n",
            "Epoch 160/200\n",
            "68/68 [==============================] - 0s 3ms/step - loss: 4.5035e-09 - accuracy: 1.0000 - val_loss: 0.5445 - val_accuracy: 0.9600\n",
            "Epoch 161/200\n",
            "68/68 [==============================] - 0s 3ms/step - loss: 4.3269e-09 - accuracy: 1.0000 - val_loss: 0.5444 - val_accuracy: 0.9600\n",
            "Epoch 162/200\n",
            "68/68 [==============================] - 0s 3ms/step - loss: 3.9736e-09 - accuracy: 1.0000 - val_loss: 0.5450 - val_accuracy: 0.9600\n",
            "Epoch 163/200\n",
            "68/68 [==============================] - 0s 3ms/step - loss: 4.1502e-09 - accuracy: 1.0000 - val_loss: 0.5446 - val_accuracy: 0.9600\n",
            "Epoch 164/200\n",
            "68/68 [==============================] - 0s 3ms/step - loss: 3.6204e-09 - accuracy: 1.0000 - val_loss: 0.5435 - val_accuracy: 0.9600\n",
            "Epoch 165/200\n",
            "68/68 [==============================] - 0s 3ms/step - loss: 3.4438e-09 - accuracy: 1.0000 - val_loss: 0.5445 - val_accuracy: 0.9600\n",
            "Epoch 166/200\n",
            "68/68 [==============================] - 0s 3ms/step - loss: 3.2672e-09 - accuracy: 1.0000 - val_loss: 0.5447 - val_accuracy: 0.9600\n",
            "Epoch 167/200\n",
            "68/68 [==============================] - 0s 3ms/step - loss: 3.0906e-09 - accuracy: 1.0000 - val_loss: 0.5455 - val_accuracy: 0.9600\n",
            "Epoch 168/200\n",
            "68/68 [==============================] - 0s 3ms/step - loss: 3.1789e-09 - accuracy: 1.0000 - val_loss: 0.5464 - val_accuracy: 0.9600\n",
            "Epoch 169/200\n",
            "68/68 [==============================] - 0s 3ms/step - loss: 3.0023e-09 - accuracy: 1.0000 - val_loss: 0.5460 - val_accuracy: 0.9600\n",
            "Epoch 170/200\n",
            "68/68 [==============================] - 0s 3ms/step - loss: 3.0023e-09 - accuracy: 1.0000 - val_loss: 0.5452 - val_accuracy: 0.9600\n",
            "Epoch 171/200\n",
            "68/68 [==============================] - 0s 3ms/step - loss: 3.2672e-09 - accuracy: 1.0000 - val_loss: 0.5457 - val_accuracy: 0.9600\n",
            "Epoch 172/200\n",
            "68/68 [==============================] - 0s 3ms/step - loss: 3.2672e-09 - accuracy: 1.0000 - val_loss: 0.5462 - val_accuracy: 0.9600\n",
            "Epoch 173/200\n",
            "68/68 [==============================] - 0s 3ms/step - loss: 2.6491e-09 - accuracy: 1.0000 - val_loss: 0.5472 - val_accuracy: 0.9600\n",
            "Epoch 174/200\n",
            "68/68 [==============================] - 0s 3ms/step - loss: 2.9140e-09 - accuracy: 1.0000 - val_loss: 0.5464 - val_accuracy: 0.9600\n",
            "Epoch 175/200\n",
            "68/68 [==============================] - 0s 3ms/step - loss: 2.2959e-09 - accuracy: 1.0000 - val_loss: 0.5458 - val_accuracy: 0.9600\n",
            "Epoch 176/200\n",
            "68/68 [==============================] - 0s 3ms/step - loss: 2.9140e-09 - accuracy: 1.0000 - val_loss: 0.5466 - val_accuracy: 0.9600\n",
            "Epoch 177/200\n",
            "68/68 [==============================] - 0s 3ms/step - loss: 2.0310e-09 - accuracy: 1.0000 - val_loss: 0.5468 - val_accuracy: 0.9600\n",
            "Epoch 178/200\n",
            "68/68 [==============================] - 0s 3ms/step - loss: 2.5608e-09 - accuracy: 1.0000 - val_loss: 0.5471 - val_accuracy: 0.9600\n",
            "Epoch 179/200\n",
            "68/68 [==============================] - 0s 3ms/step - loss: 2.3842e-09 - accuracy: 1.0000 - val_loss: 0.5463 - val_accuracy: 0.9600\n",
            "Epoch 180/200\n",
            "68/68 [==============================] - 0s 3ms/step - loss: 2.2959e-09 - accuracy: 1.0000 - val_loss: 0.5465 - val_accuracy: 0.9600\n",
            "Epoch 181/200\n",
            "68/68 [==============================] - 0s 3ms/step - loss: 2.3842e-09 - accuracy: 1.0000 - val_loss: 0.5463 - val_accuracy: 0.9600\n",
            "Epoch 182/200\n",
            "68/68 [==============================] - 0s 3ms/step - loss: 2.0310e-09 - accuracy: 1.0000 - val_loss: 0.5457 - val_accuracy: 0.9600\n",
            "Epoch 183/200\n",
            "68/68 [==============================] - 0s 3ms/step - loss: 2.1193e-09 - accuracy: 1.0000 - val_loss: 0.5462 - val_accuracy: 0.9600\n",
            "Epoch 184/200\n",
            "68/68 [==============================] - 0s 3ms/step - loss: 2.0310e-09 - accuracy: 1.0000 - val_loss: 0.5458 - val_accuracy: 0.9600\n",
            "Epoch 185/200\n",
            "68/68 [==============================] - 0s 3ms/step - loss: 2.4725e-09 - accuracy: 1.0000 - val_loss: 0.5464 - val_accuracy: 0.9600\n",
            "Epoch 186/200\n",
            "68/68 [==============================] - 0s 3ms/step - loss: 1.8544e-09 - accuracy: 1.0000 - val_loss: 0.5461 - val_accuracy: 0.9600\n",
            "Epoch 187/200\n",
            "68/68 [==============================] - 0s 3ms/step - loss: 2.1193e-09 - accuracy: 1.0000 - val_loss: 0.5459 - val_accuracy: 0.9600\n",
            "Epoch 188/200\n",
            "68/68 [==============================] - 0s 3ms/step - loss: 1.8544e-09 - accuracy: 1.0000 - val_loss: 0.5465 - val_accuracy: 0.9600\n",
            "Epoch 189/200\n",
            "68/68 [==============================] - 0s 3ms/step - loss: 2.2959e-09 - accuracy: 1.0000 - val_loss: 0.5462 - val_accuracy: 0.9600\n",
            "Epoch 190/200\n",
            "68/68 [==============================] - 0s 3ms/step - loss: 1.7661e-09 - accuracy: 1.0000 - val_loss: 0.5455 - val_accuracy: 0.9600\n",
            "Epoch 191/200\n",
            "68/68 [==============================] - 0s 3ms/step - loss: 1.8544e-09 - accuracy: 1.0000 - val_loss: 0.5456 - val_accuracy: 0.9600\n",
            "Epoch 192/200\n",
            "68/68 [==============================] - 0s 3ms/step - loss: 1.1479e-09 - accuracy: 1.0000 - val_loss: 0.5449 - val_accuracy: 0.9600\n",
            "Epoch 193/200\n",
            "68/68 [==============================] - 0s 3ms/step - loss: 2.2959e-09 - accuracy: 1.0000 - val_loss: 0.5459 - val_accuracy: 0.9600\n",
            "Epoch 194/200\n",
            "68/68 [==============================] - 0s 3ms/step - loss: 1.5012e-09 - accuracy: 1.0000 - val_loss: 0.5455 - val_accuracy: 0.9600\n",
            "Epoch 195/200\n",
            "68/68 [==============================] - 0s 3ms/step - loss: 1.7661e-09 - accuracy: 1.0000 - val_loss: 0.5442 - val_accuracy: 0.9600\n",
            "Epoch 196/200\n",
            "68/68 [==============================] - 0s 3ms/step - loss: 1.9427e-09 - accuracy: 1.0000 - val_loss: 0.5446 - val_accuracy: 0.9600\n",
            "Epoch 197/200\n",
            "68/68 [==============================] - 0s 3ms/step - loss: 1.8544e-09 - accuracy: 1.0000 - val_loss: 0.5446 - val_accuracy: 0.9600\n",
            "Epoch 198/200\n",
            "68/68 [==============================] - 0s 3ms/step - loss: 1.8544e-09 - accuracy: 1.0000 - val_loss: 0.5443 - val_accuracy: 0.9600\n",
            "Epoch 199/200\n",
            "68/68 [==============================] - 0s 3ms/step - loss: 1.5012e-09 - accuracy: 1.0000 - val_loss: 0.5449 - val_accuracy: 0.9600\n",
            "Epoch 200/200\n",
            "68/68 [==============================] - 0s 3ms/step - loss: 1.5012e-09 - accuracy: 1.0000 - val_loss: 0.5443 - val_accuracy: 0.9600\n"
          ],
          "name": "stdout"
        },
        {
          "output_type": "display_data",
          "data": {
            "image/png": "[encoded data removed]",
            "text/plain": [
              "<Figure size 432x288 with 1 Axes>"
            ]
          },
          "metadata": {
            "needs_background": "light"
          }
        }
      ]
    },
    {
      "cell_type": "markdown",
      "metadata": {
        "id": "vPdFBglA6fW1"
      },
      "source": [
        "Точность 96% вполне неплохая"
      ]
    },
    {
      "cell_type": "markdown",
      "metadata": {
        "id": "rDDvwbT57Wz7"
      },
      "source": [
        "# проверим работу"
      ]
    },
    {
      "cell_type": "code",
      "metadata": {
        "colab": {
          "base_uri": "https://localhost:8080/"
        },
        "id": "g-kGL4Bp6Gxv",
        "outputId": "54b2efe2-f8d3-4e68-c31b-5b4b340d2771"
      },
      "source": [
        "#Выбираем песню для распознавания\n",
        "songname = '/content/Data/Audios/Cumbia/cumbia0006.mp3'\n",
        "#Получаем аудио сигнал\n",
        "y, sr = librosa.load(songname, mono=True, duration=30)\n",
        "#Параметризуем сигнал\n",
        "out = get_features(y, sr)\n",
        "#Добавляем ону размерность, этого требует model.predict\n",
        "out = np.array(out).reshape(1,37)\n",
        "#Делаем преобразование\n",
        "#С помощью scaler, обученного на обучающей выборке\n",
        "out = scaler.transform(out)\n",
        "#Делаем predict\n",
        "y = model.predict(out)\n",
        "#И распознанный класс\n",
        "print(np.argmax(y))\n",
        "print(f\"class is {genres[np.argmax(y)]}\")"
      ],
      "execution_count": 33,
      "outputs": [
        {
          "output_type": "stream",
          "text": [
            "0\n",
            "class is Cumbia\n"
          ],
          "name": "stdout"
        }
      ]
    },
    {
      "cell_type": "code",
      "metadata": {
        "id": "8M175ZqI7Djn"
      },
      "source": [
        ""
      ],
      "execution_count": null,
      "outputs": []
    }
  ]
}