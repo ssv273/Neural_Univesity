{
  "nbformat": 4,
  "nbformat_minor": 0,
  "metadata": {
    "colab": {
      "name": "hw_28.ipynb",
      "provenance": [],
      "collapsed_sections": [],
      "mount_file_id": "15du67-DmS1JRfnXEBUdXtDrS4jUIc32L",
      "authorship_tag": "ABX9TyONT2rNIsvxjAAxTaj/uSM2",
      "include_colab_link": true
    },
    "kernelspec": {
      "name": "python3",
      "display_name": "Python 3"
    },
    "language_info": {
      "name": "python"
    },
    "widgets": {
      "application/vnd.jupyter.widget-state+json": {
        "40c6a294c4714e37b454554411213108": {
          "model_module": "@jupyter-widgets/controls",
          "model_name": "HBoxModel",
          "model_module_version": "1.5.0",
          "state": {
            "_view_name": "HBoxView",
            "_dom_classes": [],
            "_model_name": "HBoxModel",
            "_view_module": "@jupyter-widgets/controls",
            "_model_module_version": "1.5.0",
            "_view_count": null,
            "_view_module_version": "1.5.0",
            "box_style": "",
            "layout": "IPY_MODEL_66bb41997aa14e0ea9689de1101f1bb2",
            "_model_module": "@jupyter-widgets/controls",
            "children": [
              "IPY_MODEL_b271d6fdd04e4d7492abdd17a57bfac2",
              "IPY_MODEL_c9a421f74f6246cdb7a4756c6bf52038",
              "IPY_MODEL_d31fa8b666074020bce20e563b7a36fc"
            ]
          }
        },
        "66bb41997aa14e0ea9689de1101f1bb2": {
          "model_module": "@jupyter-widgets/base",
          "model_name": "LayoutModel",
          "model_module_version": "1.2.0",
          "state": {
            "_view_name": "LayoutView",
            "grid_template_rows": null,
            "right": null,
            "justify_content": null,
            "_view_module": "@jupyter-widgets/base",
            "overflow": null,
            "_model_module_version": "1.2.0",
            "_view_count": null,
            "flex_flow": null,
            "width": null,
            "min_width": null,
            "border": null,
            "align_items": null,
            "bottom": null,
            "_model_module": "@jupyter-widgets/base",
            "top": null,
            "grid_column": null,
            "overflow_y": null,
            "overflow_x": null,
            "grid_auto_flow": null,
            "grid_area": null,
            "grid_template_columns": null,
            "flex": null,
            "_model_name": "LayoutModel",
            "justify_items": null,
            "grid_row": null,
            "max_height": null,
            "align_content": null,
            "visibility": null,
            "align_self": null,
            "height": null,
            "min_height": null,
            "padding": null,
            "grid_auto_rows": null,
            "grid_gap": null,
            "max_width": null,
            "order": null,
            "_view_module_version": "1.2.0",
            "grid_template_areas": null,
            "object_position": null,
            "object_fit": null,
            "grid_auto_columns": null,
            "margin": null,
            "display": null,
            "left": null
          }
        },
        "b271d6fdd04e4d7492abdd17a57bfac2": {
          "model_module": "@jupyter-widgets/controls",
          "model_name": "HTMLModel",
          "model_module_version": "1.5.0",
          "state": {
            "_view_name": "HTMLView",
            "style": "IPY_MODEL_5d18d200dd3d425787f675ed331b8410",
            "_dom_classes": [],
            "description": "",
            "_model_name": "HTMLModel",
            "placeholder": "​",
            "_view_module": "@jupyter-widgets/controls",
            "_model_module_version": "1.5.0",
            "value": "100%",
            "_view_count": null,
            "_view_module_version": "1.5.0",
            "description_tooltip": null,
            "_model_module": "@jupyter-widgets/controls",
            "layout": "IPY_MODEL_5fee7ec83e5c430cbb70f62b40efced3"
          }
        },
        "c9a421f74f6246cdb7a4756c6bf52038": {
          "model_module": "@jupyter-widgets/controls",
          "model_name": "FloatProgressModel",
          "model_module_version": "1.5.0",
          "state": {
            "_view_name": "ProgressView",
            "style": "IPY_MODEL_7909d8d58f1649f6bad54f3d90ba1eaa",
            "_dom_classes": [],
            "description": "",
            "_model_name": "FloatProgressModel",
            "bar_style": "success",
            "max": 264,
            "_view_module": "@jupyter-widgets/controls",
            "_model_module_version": "1.5.0",
            "value": 264,
            "_view_count": null,
            "_view_module_version": "1.5.0",
            "orientation": "horizontal",
            "min": 0,
            "description_tooltip": null,
            "_model_module": "@jupyter-widgets/controls",
            "layout": "IPY_MODEL_f81d2c2550f641beb4337fe4462326d5"
          }
        },
        "d31fa8b666074020bce20e563b7a36fc": {
          "model_module": "@jupyter-widgets/controls",
          "model_name": "HTMLModel",
          "model_module_version": "1.5.0",
          "state": {
            "_view_name": "HTMLView",
            "style": "IPY_MODEL_3895079a6be74cea8cbce29493ce636f",
            "_dom_classes": [],
            "description": "",
            "_model_name": "HTMLModel",
            "placeholder": "​",
            "_view_module": "@jupyter-widgets/controls",
            "_model_module_version": "1.5.0",
            "value": " 264/264 [12:33&lt;00:00,  2.20s/it]",
            "_view_count": null,
            "_view_module_version": "1.5.0",
            "description_tooltip": null,
            "_model_module": "@jupyter-widgets/controls",
            "layout": "IPY_MODEL_e616d03faac443d78c33b9985d823a43"
          }
        },
        "5d18d200dd3d425787f675ed331b8410": {
          "model_module": "@jupyter-widgets/controls",
          "model_name": "DescriptionStyleModel",
          "model_module_version": "1.5.0",
          "state": {
            "_view_name": "StyleView",
            "_model_name": "DescriptionStyleModel",
            "description_width": "",
            "_view_module": "@jupyter-widgets/base",
            "_model_module_version": "1.5.0",
            "_view_count": null,
            "_view_module_version": "1.2.0",
            "_model_module": "@jupyter-widgets/controls"
          }
        },
        "5fee7ec83e5c430cbb70f62b40efced3": {
          "model_module": "@jupyter-widgets/base",
          "model_name": "LayoutModel",
          "model_module_version": "1.2.0",
          "state": {
            "_view_name": "LayoutView",
            "grid_template_rows": null,
            "right": null,
            "justify_content": null,
            "_view_module": "@jupyter-widgets/base",
            "overflow": null,
            "_model_module_version": "1.2.0",
            "_view_count": null,
            "flex_flow": null,
            "width": null,
            "min_width": null,
            "border": null,
            "align_items": null,
            "bottom": null,
            "_model_module": "@jupyter-widgets/base",
            "top": null,
            "grid_column": null,
            "overflow_y": null,
            "overflow_x": null,
            "grid_auto_flow": null,
            "grid_area": null,
            "grid_template_columns": null,
            "flex": null,
            "_model_name": "LayoutModel",
            "justify_items": null,
            "grid_row": null,
            "max_height": null,
            "align_content": null,
            "visibility": null,
            "align_self": null,
            "height": null,
            "min_height": null,
            "padding": null,
            "grid_auto_rows": null,
            "grid_gap": null,
            "max_width": null,
            "order": null,
            "_view_module_version": "1.2.0",
            "grid_template_areas": null,
            "object_position": null,
            "object_fit": null,
            "grid_auto_columns": null,
            "margin": null,
            "display": null,
            "left": null
          }
        },
        "7909d8d58f1649f6bad54f3d90ba1eaa": {
          "model_module": "@jupyter-widgets/controls",
          "model_name": "ProgressStyleModel",
          "model_module_version": "1.5.0",
          "state": {
            "_view_name": "StyleView",
            "_model_name": "ProgressStyleModel",
            "description_width": "",
            "_view_module": "@jupyter-widgets/base",
            "_model_module_version": "1.5.0",
            "_view_count": null,
            "_view_module_version": "1.2.0",
            "bar_color": null,
            "_model_module": "@jupyter-widgets/controls"
          }
        },
        "f81d2c2550f641beb4337fe4462326d5": {
          "model_module": "@jupyter-widgets/base",
          "model_name": "LayoutModel",
          "model_module_version": "1.2.0",
          "state": {
            "_view_name": "LayoutView",
            "grid_template_rows": null,
            "right": null,
            "justify_content": null,
            "_view_module": "@jupyter-widgets/base",
            "overflow": null,
            "_model_module_version": "1.2.0",
            "_view_count": null,
            "flex_flow": null,
            "width": null,
            "min_width": null,
            "border": null,
            "align_items": null,
            "bottom": null,
            "_model_module": "@jupyter-widgets/base",
            "top": null,
            "grid_column": null,
            "overflow_y": null,
            "overflow_x": null,
            "grid_auto_flow": null,
            "grid_area": null,
            "grid_template_columns": null,
            "flex": null,
            "_model_name": "LayoutModel",
            "justify_items": null,
            "grid_row": null,
            "max_height": null,
            "align_content": null,
            "visibility": null,
            "align_self": null,
            "height": null,
            "min_height": null,
            "padding": null,
            "grid_auto_rows": null,
            "grid_gap": null,
            "max_width": null,
            "order": null,
            "_view_module_version": "1.2.0",
            "grid_template_areas": null,
            "object_position": null,
            "object_fit": null,
            "grid_auto_columns": null,
            "margin": null,
            "display": null,
            "left": null
          }
        },
        "3895079a6be74cea8cbce29493ce636f": {
          "model_module": "@jupyter-widgets/controls",
          "model_name": "DescriptionStyleModel",
          "model_module_version": "1.5.0",
          "state": {
            "_view_name": "StyleView",
            "_model_name": "DescriptionStyleModel",
            "description_width": "",
            "_view_module": "@jupyter-widgets/base",
            "_model_module_version": "1.5.0",
            "_view_count": null,
            "_view_module_version": "1.2.0",
            "_model_module": "@jupyter-widgets/controls"
          }
        },
        "e616d03faac443d78c33b9985d823a43": {
          "model_module": "@jupyter-widgets/base",
          "model_name": "LayoutModel",
          "model_module_version": "1.2.0",
          "state": {
            "_view_name": "LayoutView",
            "grid_template_rows": null,
            "right": null,
            "justify_content": null,
            "_view_module": "@jupyter-widgets/base",
            "overflow": null,
            "_model_module_version": "1.2.0",
            "_view_count": null,
            "flex_flow": null,
            "width": null,
            "min_width": null,
            "border": null,
            "align_items": null,
            "bottom": null,
            "_model_module": "@jupyter-widgets/base",
            "top": null,
            "grid_column": null,
            "overflow_y": null,
            "overflow_x": null,
            "grid_auto_flow": null,
            "grid_area": null,
            "grid_template_columns": null,
            "flex": null,
            "_model_name": "LayoutModel",
            "justify_items": null,
            "grid_row": null,
            "max_height": null,
            "align_content": null,
            "visibility": null,
            "align_self": null,
            "height": null,
            "min_height": null,
            "padding": null,
            "grid_auto_rows": null,
            "grid_gap": null,
            "max_width": null,
            "order": null,
            "_view_module_version": "1.2.0",
            "grid_template_areas": null,
            "object_position": null,
            "object_fit": null,
            "grid_auto_columns": null,
            "margin": null,
            "display": null,
            "left": null
          }
        },
        "947c8701acd8474fac2577ce93d8d4d7": {
          "model_module": "@jupyter-widgets/controls",
          "model_name": "HBoxModel",
          "model_module_version": "1.5.0",
          "state": {
            "_view_name": "HBoxView",
            "_dom_classes": [],
            "_model_name": "HBoxModel",
            "_view_module": "@jupyter-widgets/controls",
            "_model_module_version": "1.5.0",
            "_view_count": null,
            "_view_module_version": "1.5.0",
            "box_style": "",
            "layout": "IPY_MODEL_f382212792b249e685cac9d7620c8cd6",
            "_model_module": "@jupyter-widgets/controls",
            "children": [
              "IPY_MODEL_39aff77ff3ef49c6802385a6b75d80fd",
              "IPY_MODEL_8be05bf7e1094fc58b04939e4063a214",
              "IPY_MODEL_d640c9bb168f4ddfafe847bc57da999f"
            ]
          }
        },
        "f382212792b249e685cac9d7620c8cd6": {
          "model_module": "@jupyter-widgets/base",
          "model_name": "LayoutModel",
          "model_module_version": "1.2.0",
          "state": {
            "_view_name": "LayoutView",
            "grid_template_rows": null,
            "right": null,
            "justify_content": null,
            "_view_module": "@jupyter-widgets/base",
            "overflow": null,
            "_model_module_version": "1.2.0",
            "_view_count": null,
            "flex_flow": null,
            "width": null,
            "min_width": null,
            "border": null,
            "align_items": null,
            "bottom": null,
            "_model_module": "@jupyter-widgets/base",
            "top": null,
            "grid_column": null,
            "overflow_y": null,
            "overflow_x": null,
            "grid_auto_flow": null,
            "grid_area": null,
            "grid_template_columns": null,
            "flex": null,
            "_model_name": "LayoutModel",
            "justify_items": null,
            "grid_row": null,
            "max_height": null,
            "align_content": null,
            "visibility": null,
            "align_self": null,
            "height": null,
            "min_height": null,
            "padding": null,
            "grid_auto_rows": null,
            "grid_gap": null,
            "max_width": null,
            "order": null,
            "_view_module_version": "1.2.0",
            "grid_template_areas": null,
            "object_position": null,
            "object_fit": null,
            "grid_auto_columns": null,
            "margin": null,
            "display": null,
            "left": null
          }
        },
        "39aff77ff3ef49c6802385a6b75d80fd": {
          "model_module": "@jupyter-widgets/controls",
          "model_name": "HTMLModel",
          "model_module_version": "1.5.0",
          "state": {
            "_view_name": "HTMLView",
            "style": "IPY_MODEL_304ba0c8a8cb4a8cb109686559b8e0b6",
            "_dom_classes": [],
            "description": "",
            "_model_name": "HTMLModel",
            "placeholder": "​",
            "_view_module": "@jupyter-widgets/controls",
            "_model_module_version": "1.5.0",
            "value": "100%",
            "_view_count": null,
            "_view_module_version": "1.5.0",
            "description_tooltip": null,
            "_model_module": "@jupyter-widgets/controls",
            "layout": "IPY_MODEL_61451e942e994cadb2a36e1cf0a15db4"
          }
        },
        "8be05bf7e1094fc58b04939e4063a214": {
          "model_module": "@jupyter-widgets/controls",
          "model_name": "FloatProgressModel",
          "model_module_version": "1.5.0",
          "state": {
            "_view_name": "ProgressView",
            "style": "IPY_MODEL_2a017274c7934498bae86a20a20ad847",
            "_dom_classes": [],
            "description": "",
            "_model_name": "FloatProgressModel",
            "bar_style": "success",
            "max": 264,
            "_view_module": "@jupyter-widgets/controls",
            "_model_module_version": "1.5.0",
            "value": 264,
            "_view_count": null,
            "_view_module_version": "1.5.0",
            "orientation": "horizontal",
            "min": 0,
            "description_tooltip": null,
            "_model_module": "@jupyter-widgets/controls",
            "layout": "IPY_MODEL_bab9f6cf65e746639330c1962f1013ad"
          }
        },
        "d640c9bb168f4ddfafe847bc57da999f": {
          "model_module": "@jupyter-widgets/controls",
          "model_name": "HTMLModel",
          "model_module_version": "1.5.0",
          "state": {
            "_view_name": "HTMLView",
            "style": "IPY_MODEL_af3b631d90e8456c969b97b795c13ab8",
            "_dom_classes": [],
            "description": "",
            "_model_name": "HTMLModel",
            "placeholder": "​",
            "_view_module": "@jupyter-widgets/controls",
            "_model_module_version": "1.5.0",
            "value": " 264/264 [1:32:18&lt;00:00, 10.06s/it]",
            "_view_count": null,
            "_view_module_version": "1.5.0",
            "description_tooltip": null,
            "_model_module": "@jupyter-widgets/controls",
            "layout": "IPY_MODEL_1b495c3956614641a771606bcb593931"
          }
        },
        "304ba0c8a8cb4a8cb109686559b8e0b6": {
          "model_module": "@jupyter-widgets/controls",
          "model_name": "DescriptionStyleModel",
          "model_module_version": "1.5.0",
          "state": {
            "_view_name": "StyleView",
            "_model_name": "DescriptionStyleModel",
            "description_width": "",
            "_view_module": "@jupyter-widgets/base",
            "_model_module_version": "1.5.0",
            "_view_count": null,
            "_view_module_version": "1.2.0",
            "_model_module": "@jupyter-widgets/controls"
          }
        },
        "61451e942e994cadb2a36e1cf0a15db4": {
          "model_module": "@jupyter-widgets/base",
          "model_name": "LayoutModel",
          "model_module_version": "1.2.0",
          "state": {
            "_view_name": "LayoutView",
            "grid_template_rows": null,
            "right": null,
            "justify_content": null,
            "_view_module": "@jupyter-widgets/base",
            "overflow": null,
            "_model_module_version": "1.2.0",
            "_view_count": null,
            "flex_flow": null,
            "width": null,
            "min_width": null,
            "border": null,
            "align_items": null,
            "bottom": null,
            "_model_module": "@jupyter-widgets/base",
            "top": null,
            "grid_column": null,
            "overflow_y": null,
            "overflow_x": null,
            "grid_auto_flow": null,
            "grid_area": null,
            "grid_template_columns": null,
            "flex": null,
            "_model_name": "LayoutModel",
            "justify_items": null,
            "grid_row": null,
            "max_height": null,
            "align_content": null,
            "visibility": null,
            "align_self": null,
            "height": null,
            "min_height": null,
            "padding": null,
            "grid_auto_rows": null,
            "grid_gap": null,
            "max_width": null,
            "order": null,
            "_view_module_version": "1.2.0",
            "grid_template_areas": null,
            "object_position": null,
            "object_fit": null,
            "grid_auto_columns": null,
            "margin": null,
            "display": null,
            "left": null
          }
        },
        "2a017274c7934498bae86a20a20ad847": {
          "model_module": "@jupyter-widgets/controls",
          "model_name": "ProgressStyleModel",
          "model_module_version": "1.5.0",
          "state": {
            "_view_name": "StyleView",
            "_model_name": "ProgressStyleModel",
            "description_width": "",
            "_view_module": "@jupyter-widgets/base",
            "_model_module_version": "1.5.0",
            "_view_count": null,
            "_view_module_version": "1.2.0",
            "bar_color": null,
            "_model_module": "@jupyter-widgets/controls"
          }
        },
        "bab9f6cf65e746639330c1962f1013ad": {
          "model_module": "@jupyter-widgets/base",
          "model_name": "LayoutModel",
          "model_module_version": "1.2.0",
          "state": {
            "_view_name": "LayoutView",
            "grid_template_rows": null,
            "right": null,
            "justify_content": null,
            "_view_module": "@jupyter-widgets/base",
            "overflow": null,
            "_model_module_version": "1.2.0",
            "_view_count": null,
            "flex_flow": null,
            "width": null,
            "min_width": null,
            "border": null,
            "align_items": null,
            "bottom": null,
            "_model_module": "@jupyter-widgets/base",
            "top": null,
            "grid_column": null,
            "overflow_y": null,
            "overflow_x": null,
            "grid_auto_flow": null,
            "grid_area": null,
            "grid_template_columns": null,
            "flex": null,
            "_model_name": "LayoutModel",
            "justify_items": null,
            "grid_row": null,
            "max_height": null,
            "align_content": null,
            "visibility": null,
            "align_self": null,
            "height": null,
            "min_height": null,
            "padding": null,
            "grid_auto_rows": null,
            "grid_gap": null,
            "max_width": null,
            "order": null,
            "_view_module_version": "1.2.0",
            "grid_template_areas": null,
            "object_position": null,
            "object_fit": null,
            "grid_auto_columns": null,
            "margin": null,
            "display": null,
            "left": null
          }
        },
        "af3b631d90e8456c969b97b795c13ab8": {
          "model_module": "@jupyter-widgets/controls",
          "model_name": "DescriptionStyleModel",
          "model_module_version": "1.5.0",
          "state": {
            "_view_name": "StyleView",
            "_model_name": "DescriptionStyleModel",
            "description_width": "",
            "_view_module": "@jupyter-widgets/base",
            "_model_module_version": "1.5.0",
            "_view_count": null,
            "_view_module_version": "1.2.0",
            "_model_module": "@jupyter-widgets/controls"
          }
        },
        "1b495c3956614641a771606bcb593931": {
          "model_module": "@jupyter-widgets/base",
          "model_name": "LayoutModel",
          "model_module_version": "1.2.0",
          "state": {
            "_view_name": "LayoutView",
            "grid_template_rows": null,
            "right": null,
            "justify_content": null,
            "_view_module": "@jupyter-widgets/base",
            "overflow": null,
            "_model_module_version": "1.2.0",
            "_view_count": null,
            "flex_flow": null,
            "width": null,
            "min_width": null,
            "border": null,
            "align_items": null,
            "bottom": null,
            "_model_module": "@jupyter-widgets/base",
            "top": null,
            "grid_column": null,
            "overflow_y": null,
            "overflow_x": null,
            "grid_auto_flow": null,
            "grid_area": null,
            "grid_template_columns": null,
            "flex": null,
            "_model_name": "LayoutModel",
            "justify_items": null,
            "grid_row": null,
            "max_height": null,
            "align_content": null,
            "visibility": null,
            "align_self": null,
            "height": null,
            "min_height": null,
            "padding": null,
            "grid_auto_rows": null,
            "grid_gap": null,
            "max_width": null,
            "order": null,
            "_view_module_version": "1.2.0",
            "grid_template_areas": null,
            "object_position": null,
            "object_fit": null,
            "grid_auto_columns": null,
            "margin": null,
            "display": null,
            "left": null
          }
        }
      }
    }
  },
  "cells": [
    {
      "cell_type": "markdown",
      "metadata": {
        "id": "view-in-github",
        "colab_type": "text"
      },
      "source": [
        "<a href=\"https://colab.research.google.com/github/ssv273/Neural_Univesity/blob/main/hw_28.ipynb\" target=\"_parent\"><img src=\"https://colab.research.google.com/assets/colab-badge.svg\" alt=\"Open In Colab\"/></a>"
      ]
    },
    {
      "cell_type": "code",
      "metadata": {
        "colab": {
          "base_uri": "https://localhost:8080/"
        },
        "id": "ifSNwX-wY5AN",
        "outputId": "3270ca0d-8e46-4bc8-a569-0d6bce137e35"
      },
      "source": [
        "# Устанавливаем пакет librosa для работы с аудио\n",
        "!pip install librosa==0.8.0"
      ],
      "execution_count": 1,
      "outputs": [
        {
          "output_type": "stream",
          "name": "stdout",
          "text": [
            "Collecting librosa==0.8.0\n",
            "  Downloading librosa-0.8.0.tar.gz (183 kB)\n",
            "\u001b[?25l\r\u001b[K     |█▉                              | 10 kB 24.0 MB/s eta 0:00:01\r\u001b[K     |███▋                            | 20 kB 29.8 MB/s eta 0:00:01\r\u001b[K     |█████▍                          | 30 kB 12.0 MB/s eta 0:00:01\r\u001b[K     |███████▏                        | 40 kB 9.2 MB/s eta 0:00:01\r\u001b[K     |█████████                       | 51 kB 5.2 MB/s eta 0:00:01\r\u001b[K     |██████████▊                     | 61 kB 5.6 MB/s eta 0:00:01\r\u001b[K     |████████████▌                   | 71 kB 5.5 MB/s eta 0:00:01\r\u001b[K     |██████████████▎                 | 81 kB 6.2 MB/s eta 0:00:01\r\u001b[K     |████████████████                | 92 kB 4.7 MB/s eta 0:00:01\r\u001b[K     |█████████████████▉              | 102 kB 5.1 MB/s eta 0:00:01\r\u001b[K     |███████████████████▋            | 112 kB 5.1 MB/s eta 0:00:01\r\u001b[K     |█████████████████████▍          | 122 kB 5.1 MB/s eta 0:00:01\r\u001b[K     |███████████████████████▏        | 133 kB 5.1 MB/s eta 0:00:01\r\u001b[K     |█████████████████████████       | 143 kB 5.1 MB/s eta 0:00:01\r\u001b[K     |██████████████████████████▊     | 153 kB 5.1 MB/s eta 0:00:01\r\u001b[K     |████████████████████████████▌   | 163 kB 5.1 MB/s eta 0:00:01\r\u001b[K     |██████████████████████████████▎ | 174 kB 5.1 MB/s eta 0:00:01\r\u001b[K     |████████████████████████████████| 183 kB 5.1 MB/s \n",
            "\u001b[?25hRequirement already satisfied: audioread>=2.0.0 in /usr/local/lib/python3.7/dist-packages (from librosa==0.8.0) (2.1.9)\n",
            "Requirement already satisfied: numpy>=1.15.0 in /usr/local/lib/python3.7/dist-packages (from librosa==0.8.0) (1.19.5)\n",
            "Requirement already satisfied: scipy>=1.0.0 in /usr/local/lib/python3.7/dist-packages (from librosa==0.8.0) (1.4.1)\n",
            "Requirement already satisfied: scikit-learn!=0.19.0,>=0.14.0 in /usr/local/lib/python3.7/dist-packages (from librosa==0.8.0) (0.22.2.post1)\n",
            "Requirement already satisfied: joblib>=0.14 in /usr/local/lib/python3.7/dist-packages (from librosa==0.8.0) (1.0.1)\n",
            "Requirement already satisfied: decorator>=3.0.0 in /usr/local/lib/python3.7/dist-packages (from librosa==0.8.0) (4.4.2)\n",
            "Requirement already satisfied: resampy>=0.2.2 in /usr/local/lib/python3.7/dist-packages (from librosa==0.8.0) (0.2.2)\n",
            "Requirement already satisfied: numba>=0.43.0 in /usr/local/lib/python3.7/dist-packages (from librosa==0.8.0) (0.51.2)\n",
            "Requirement already satisfied: soundfile>=0.9.0 in /usr/local/lib/python3.7/dist-packages (from librosa==0.8.0) (0.10.3.post1)\n",
            "Requirement already satisfied: pooch>=1.0 in /usr/local/lib/python3.7/dist-packages (from librosa==0.8.0) (1.5.1)\n",
            "Requirement already satisfied: setuptools in /usr/local/lib/python3.7/dist-packages (from numba>=0.43.0->librosa==0.8.0) (57.4.0)\n",
            "Requirement already satisfied: llvmlite<0.35,>=0.34.0.dev0 in /usr/local/lib/python3.7/dist-packages (from numba>=0.43.0->librosa==0.8.0) (0.34.0)\n",
            "Requirement already satisfied: requests in /usr/local/lib/python3.7/dist-packages (from pooch>=1.0->librosa==0.8.0) (2.23.0)\n",
            "Requirement already satisfied: packaging in /usr/local/lib/python3.7/dist-packages (from pooch>=1.0->librosa==0.8.0) (21.0)\n",
            "Requirement already satisfied: appdirs in /usr/local/lib/python3.7/dist-packages (from pooch>=1.0->librosa==0.8.0) (1.4.4)\n",
            "Requirement already satisfied: six>=1.3 in /usr/local/lib/python3.7/dist-packages (from resampy>=0.2.2->librosa==0.8.0) (1.15.0)\n",
            "Requirement already satisfied: cffi>=1.0 in /usr/local/lib/python3.7/dist-packages (from soundfile>=0.9.0->librosa==0.8.0) (1.14.6)\n",
            "Requirement already satisfied: pycparser in /usr/local/lib/python3.7/dist-packages (from cffi>=1.0->soundfile>=0.9.0->librosa==0.8.0) (2.20)\n",
            "Requirement already satisfied: pyparsing>=2.0.2 in /usr/local/lib/python3.7/dist-packages (from packaging->pooch>=1.0->librosa==0.8.0) (2.4.7)\n",
            "Requirement already satisfied: chardet<4,>=3.0.2 in /usr/local/lib/python3.7/dist-packages (from requests->pooch>=1.0->librosa==0.8.0) (3.0.4)\n",
            "Requirement already satisfied: urllib3!=1.25.0,!=1.25.1,<1.26,>=1.21.1 in /usr/local/lib/python3.7/dist-packages (from requests->pooch>=1.0->librosa==0.8.0) (1.24.3)\n",
            "Requirement already satisfied: certifi>=2017.4.17 in /usr/local/lib/python3.7/dist-packages (from requests->pooch>=1.0->librosa==0.8.0) (2021.5.30)\n",
            "Requirement already satisfied: idna<3,>=2.5 in /usr/local/lib/python3.7/dist-packages (from requests->pooch>=1.0->librosa==0.8.0) (2.10)\n",
            "Building wheels for collected packages: librosa\n",
            "  Building wheel for librosa (setup.py) ... \u001b[?25l\u001b[?25hdone\n",
            "  Created wheel for librosa: filename=librosa-0.8.0-py3-none-any.whl size=201395 sha256=8e5c50e9d163ea39abb2457957ee09abf51dde023d6ef9b6686ebf14fde02266\n",
            "  Stored in directory: /root/.cache/pip/wheels/de/1e/aa/d91797ae7e1ce11853ee100bee9d1781ae9d750e7458c95afb\n",
            "Successfully built librosa\n",
            "Installing collected packages: librosa\n",
            "  Attempting uninstall: librosa\n",
            "    Found existing installation: librosa 0.8.1\n",
            "    Uninstalling librosa-0.8.1:\n",
            "      Successfully uninstalled librosa-0.8.1\n",
            "Successfully installed librosa-0.8.0\n"
          ]
        }
      ]
    },
    {
      "cell_type": "code",
      "metadata": {
        "id": "fUbNDBUOZLhx"
      },
      "source": [
        "# Подключаем библиотеки\n",
        "import sklearn\n",
        "from IPython.display import Audio  # Воспроизведение аудиофайлов\n",
        "import time                        # Для подсчёта времени \n",
        "import zipfile                     # Для разорхивации базы\n",
        "import pandas as pd                # Для работы с табличными данными\n",
        "from tensorflow.keras import utils # Для to_categorical\n",
        "from google.colab import files     # Загрузка файлов\n",
        "import os                          # Работа с папками и файлами\n",
        "import librosa                     # Параметризация аудио\n",
        "import librosa.feature             # Инструменты для параметризации\n",
        "import numpy as np                 # Numpy массивы\n",
        "import matplotlib.pyplot as plt    # Отображение графиков\n",
        "from tqdm.notebook import tqdm\n",
        "\n",
        "# Отрисовка графиков в ячейках collab\n",
        "%matplotlib inline \n",
        "import tensorflow as tf\n",
        "from tensorflow.keras.optimizers import Adam, RMSprop # Оптимизатор для задания шага обучения\n",
        "from tensorflow.keras.models import Sequential, Model # Два формата модели keras\n",
        "from tensorflow.keras.layers import concatenate, Input, Dense, Dropout, BatchNormalization, Flatten, Conv1D, Conv2D, MaxPooling1D, Reshape, Lambda # Базовые слови\n",
        "from sklearn.model_selection import train_test_split # Разбиение на обучающую и проверочную выборку\n",
        "from sklearn.preprocessing import LabelEncoder, StandardScaler, MinMaxScaler # Для нормировки данных\n",
        "from tensorflow.keras.losses import binary_crossentropy # Импортируем функцию потерь\n",
        "from tensorflow.keras.layers import LeakyReLU # Импортируем функцию активации отдельным слоем\n",
        "from tensorflow.keras import backend as K # Устанавливаем переменную для окружения кераса\n"
      ],
      "execution_count": 2,
      "outputs": []
    },
    {
      "cell_type": "code",
      "metadata": {
        "id": "d3Jxc_7RZRmt"
      },
      "source": [
        "# Разархивируем базу\n",
        "bi = zipfile.ZipFile('/content/drive/MyDrive/Neural_Univesity/hw_28/база пения птиц. 88 классов.zip', 'r')\n",
        "bi.extractall()"
      ],
      "execution_count": 3,
      "outputs": []
    },
    {
      "cell_type": "code",
      "metadata": {
        "id": "V1wf4eqOaKxq"
      },
      "source": [
        "# Подгружаем данные нашей базы\n",
        "data = pd.read_csv('birdsong_metadata.csv')"
      ],
      "execution_count": 4,
      "outputs": []
    },
    {
      "cell_type": "code",
      "metadata": {
        "colab": {
          "base_uri": "https://localhost:8080/",
          "height": 537
        },
        "id": "QDhNhKDaaPGN",
        "outputId": "5933a9ec-7f49-4561-ccc5-21ca54eaef64"
      },
      "source": [
        "# Выведем данные\n",
        "data.head(10)"
      ],
      "execution_count": 5,
      "outputs": [
        {
          "output_type": "execute_result",
          "data": {
            "text/html": [
              "<div>\n",
              "<style scoped>\n",
              "    .dataframe tbody tr th:only-of-type {\n",
              "        vertical-align: middle;\n",
              "    }\n",
              "\n",
              "    .dataframe tbody tr th {\n",
              "        vertical-align: top;\n",
              "    }\n",
              "\n",
              "    .dataframe thead th {\n",
              "        text-align: right;\n",
              "    }\n",
              "</style>\n",
              "<table border=\"1\" class=\"dataframe\">\n",
              "  <thead>\n",
              "    <tr style=\"text-align: right;\">\n",
              "      <th></th>\n",
              "      <th>file_id</th>\n",
              "      <th>genus</th>\n",
              "      <th>species</th>\n",
              "      <th>english_cname</th>\n",
              "      <th>who_provided_recording</th>\n",
              "      <th>country</th>\n",
              "      <th>latitude</th>\n",
              "      <th>longitute</th>\n",
              "      <th>type</th>\n",
              "      <th>license</th>\n",
              "    </tr>\n",
              "  </thead>\n",
              "  <tbody>\n",
              "    <tr>\n",
              "      <th>0</th>\n",
              "      <td>132608</td>\n",
              "      <td>Acanthis</td>\n",
              "      <td>flammea</td>\n",
              "      <td>Common Redpoll</td>\n",
              "      <td>Jarek Matusiak</td>\n",
              "      <td>Poland</td>\n",
              "      <td>50.7932</td>\n",
              "      <td>15.4995</td>\n",
              "      <td>female, male, song</td>\n",
              "      <td>http://creativecommons.org/licenses/by-nc-sa/3.0/</td>\n",
              "    </tr>\n",
              "    <tr>\n",
              "      <th>1</th>\n",
              "      <td>132611</td>\n",
              "      <td>Acanthis</td>\n",
              "      <td>flammea</td>\n",
              "      <td>Common Redpoll</td>\n",
              "      <td>Jarek Matusiak</td>\n",
              "      <td>Poland</td>\n",
              "      <td>50.7932</td>\n",
              "      <td>15.4995</td>\n",
              "      <td>flight call, male, song</td>\n",
              "      <td>http://creativecommons.org/licenses/by-nc-sa/3.0/</td>\n",
              "    </tr>\n",
              "    <tr>\n",
              "      <th>2</th>\n",
              "      <td>35068</td>\n",
              "      <td>Acanthis</td>\n",
              "      <td>flammea</td>\n",
              "      <td>Common Redpoll</td>\n",
              "      <td>Sander Bot</td>\n",
              "      <td>Netherlands</td>\n",
              "      <td>52.8176</td>\n",
              "      <td>6.4326</td>\n",
              "      <td>call, song</td>\n",
              "      <td>http://creativecommons.org/licenses/by-nc-nd/2.5/</td>\n",
              "    </tr>\n",
              "    <tr>\n",
              "      <th>3</th>\n",
              "      <td>82715</td>\n",
              "      <td>Acrocephalus</td>\n",
              "      <td>palustris</td>\n",
              "      <td>Marsh Warbler</td>\n",
              "      <td>Dougie Preston</td>\n",
              "      <td>United Kingdom</td>\n",
              "      <td>60.3539</td>\n",
              "      <td>-1.2689</td>\n",
              "      <td>Song</td>\n",
              "      <td>http://creativecommons.org/licenses/by-nc-nd/2.5/</td>\n",
              "    </tr>\n",
              "    <tr>\n",
              "      <th>4</th>\n",
              "      <td>64685</td>\n",
              "      <td>Acrocephalus</td>\n",
              "      <td>palustris</td>\n",
              "      <td>Marsh Warbler</td>\n",
              "      <td>Dougie Preston</td>\n",
              "      <td>United Kingdom</td>\n",
              "      <td>60.3539</td>\n",
              "      <td>-1.2689</td>\n",
              "      <td>Song</td>\n",
              "      <td>http://creativecommons.org/licenses/by-nc-nd/2.5/</td>\n",
              "    </tr>\n",
              "    <tr>\n",
              "      <th>5</th>\n",
              "      <td>64686</td>\n",
              "      <td>Acrocephalus</td>\n",
              "      <td>palustris</td>\n",
              "      <td>Marsh Warbler</td>\n",
              "      <td>Dougie Preston</td>\n",
              "      <td>United Kingdom</td>\n",
              "      <td>60.3539</td>\n",
              "      <td>-1.2689</td>\n",
              "      <td>Song</td>\n",
              "      <td>http://creativecommons.org/licenses/by-nc-nd/2.5/</td>\n",
              "    </tr>\n",
              "    <tr>\n",
              "      <th>6</th>\n",
              "      <td>120664</td>\n",
              "      <td>Acrocephalus</td>\n",
              "      <td>schoenobaenus</td>\n",
              "      <td>Sedge Warbler</td>\n",
              "      <td>david m</td>\n",
              "      <td>United Kingdom</td>\n",
              "      <td>56.5860</td>\n",
              "      <td>-6.1855</td>\n",
              "      <td>male, song</td>\n",
              "      <td>http://creativecommons.org/licenses/by-nc-nd/3.0/</td>\n",
              "    </tr>\n",
              "    <tr>\n",
              "      <th>7</th>\n",
              "      <td>120666</td>\n",
              "      <td>Acrocephalus</td>\n",
              "      <td>schoenobaenus</td>\n",
              "      <td>Sedge Warbler</td>\n",
              "      <td>david m</td>\n",
              "      <td>United Kingdom</td>\n",
              "      <td>56.5860</td>\n",
              "      <td>-6.1855</td>\n",
              "      <td>male, song</td>\n",
              "      <td>http://creativecommons.org/licenses/by-nc-nd/3.0/</td>\n",
              "    </tr>\n",
              "    <tr>\n",
              "      <th>8</th>\n",
              "      <td>76767</td>\n",
              "      <td>Acrocephalus</td>\n",
              "      <td>schoenobaenus</td>\n",
              "      <td>Sedge Warbler</td>\n",
              "      <td>Richard Dunn</td>\n",
              "      <td>United Kingdom</td>\n",
              "      <td>55.2809</td>\n",
              "      <td>-1.5801</td>\n",
              "      <td>song</td>\n",
              "      <td>http://creativecommons.org/licenses/by-nc-nd/2.5/</td>\n",
              "    </tr>\n",
              "    <tr>\n",
              "      <th>9</th>\n",
              "      <td>124052</td>\n",
              "      <td>Acrocephalus</td>\n",
              "      <td>scirpaceus</td>\n",
              "      <td>Eurasian Reed Warbler</td>\n",
              "      <td>david m</td>\n",
              "      <td>United Kingdom</td>\n",
              "      <td>51.8985</td>\n",
              "      <td>-0.5372</td>\n",
              "      <td>call, female, male, song</td>\n",
              "      <td>http://creativecommons.org/licenses/by-nc-nd/3.0/</td>\n",
              "    </tr>\n",
              "  </tbody>\n",
              "</table>\n",
              "</div>"
            ],
            "text/plain": [
              "   file_id  ...                                            license\n",
              "0   132608  ...  http://creativecommons.org/licenses/by-nc-sa/3.0/\n",
              "1   132611  ...  http://creativecommons.org/licenses/by-nc-sa/3.0/\n",
              "2    35068  ...  http://creativecommons.org/licenses/by-nc-nd/2.5/\n",
              "3    82715  ...  http://creativecommons.org/licenses/by-nc-nd/2.5/\n",
              "4    64685  ...  http://creativecommons.org/licenses/by-nc-nd/2.5/\n",
              "5    64686  ...  http://creativecommons.org/licenses/by-nc-nd/2.5/\n",
              "6   120664  ...  http://creativecommons.org/licenses/by-nc-nd/3.0/\n",
              "7   120666  ...  http://creativecommons.org/licenses/by-nc-nd/3.0/\n",
              "8    76767  ...  http://creativecommons.org/licenses/by-nc-nd/2.5/\n",
              "9   124052  ...  http://creativecommons.org/licenses/by-nc-nd/3.0/\n",
              "\n",
              "[10 rows x 10 columns]"
            ]
          },
          "metadata": {},
          "execution_count": 5
        }
      ]
    },
    {
      "cell_type": "code",
      "metadata": {
        "colab": {
          "base_uri": "https://localhost:8080/"
        },
        "id": "CSijyh7oaxGf",
        "outputId": "20727b71-a491-40dc-eaf6-ca1322a3a99c"
      },
      "source": [
        "# Выведем все названия птиц(колонка english_cname)\n",
        "bb = data.english_cname.unique()\n",
        "bb"
      ],
      "execution_count": 6,
      "outputs": [
        {
          "output_type": "execute_result",
          "data": {
            "text/plain": [
              "array(['Common Redpoll', 'Marsh Warbler', 'Sedge Warbler',\n",
              "       'Eurasian Reed Warbler', 'Long-tailed Tit', 'Eurasian Skylark',\n",
              "       'Meadow Pipit', 'Tree Pipit', 'Common Swift', 'Canada Goose',\n",
              "       'Dunlin', 'European Nightjar', 'European Goldfinch',\n",
              "       'Eurasian Treecreeper', 'European Greenfinch', 'Black-headed Gull',\n",
              "       'Western Jackdaw', 'Rock Dove', 'Stock Dove', 'Common Wood Pigeon',\n",
              "       'Northern Raven', 'Carrion Crow', 'Rook', 'Common Cuckoo',\n",
              "       'Eurasian Blue Tit', 'Common House Martin',\n",
              "       'Great Spotted Woodpecker', 'Black Woodpecker', 'Corn Bunting',\n",
              "       'Yellowhammer', 'Common Reed Bunting', 'European Robin',\n",
              "       'Common Chaffinch', 'Eurasian Coot', 'Common Snipe',\n",
              "       'Common Moorhen', 'Eurasian Jay', 'Red-throated Loon',\n",
              "       'Eurasian Oystercatcher', 'Barn Swallow', 'Eurasian Wryneck',\n",
              "       'Willow Ptarmigan', 'European Herring Gull', 'Common Linnet',\n",
              "       'River Warbler', 'Red Crossbill', 'Common Nightingale',\n",
              "       'European Bee-eater', 'African Pied Wagtail',\n",
              "       'Western Yellow Wagtail', 'Spotted Flycatcher',\n",
              "       'Eurasian Golden Oriole', 'Great Tit', 'House Sparrow',\n",
              "       'Eurasian Tree Sparrow', 'Grey Partridge', 'Coal Tit',\n",
              "       'European Honey Buzzard', 'Common Pheasant', 'Common Redstart',\n",
              "       'Common Chiffchaff', 'Wood Warbler', 'Willow Warbler',\n",
              "       'Eurasian Magpie', 'European Green Woodpecker',\n",
              "       'European Golden Plover', 'Grey Plover', 'Willow Tit', 'Marsh Tit',\n",
              "       'Dunnock', 'Eurasian Bullfinch', 'Goldcrest', 'Eurasian Nuthatch',\n",
              "       'Eurasian Collared Dove', 'European Turtle Dove', 'Tawny Owl',\n",
              "       'Common Starling', 'Eurasian Blackcap', 'Garden Warbler',\n",
              "       'Common Whitethroat', 'Lesser Whitethroat', 'Wood Sandpiper',\n",
              "       'Common Redshank', 'Eurasian Wren', 'Redwing', 'Common Blackbird',\n",
              "       'Song Thrush', 'Northern Lapwing'], dtype=object)"
            ]
          },
          "metadata": {},
          "execution_count": 6
        }
      ]
    },
    {
      "cell_type": "code",
      "metadata": {
        "colab": {
          "base_uri": "https://localhost:8080/"
        },
        "id": "5gfW_94raRRE",
        "outputId": "2dd70bda-68f5-43ee-e494-af3f58b862e4"
      },
      "source": [
        "# Создадим список названий птиц в соответствии с тем порядком, в котором они подгружаются\n",
        "v=[]\n",
        "for l in os.listdir(f'/content/songs/songs/'):\n",
        "  songname = f'{l}'\n",
        "  list(songname)\n",
        "  a = int(songname[2:-5]) # Чтобы достать из названия файла только id\n",
        "  for i in range(len(data['file_id'].values)):\n",
        "    if a==data['file_id'].values[i]:\n",
        "      v.append(i) # Составляем список id в том порядке, в котором загружаются файлы\n",
        "\n",
        "birds1=[]\n",
        "for j in v:\n",
        "  birds1.append(data['english_cname'][j])\n",
        "\n",
        "print(birds1)\n",
        "print(len(birds1))"
      ],
      "execution_count": 7,
      "outputs": [
        {
          "output_type": "stream",
          "name": "stdout",
          "text": [
            "['Eurasian Nuthatch', 'Eurasian Jay', 'Meadow Pipit', 'Northern Raven', 'Redwing', 'Corn Bunting', 'Carrion Crow', 'Sedge Warbler', 'Lesser Whitethroat', 'Common Linnet', 'Goldcrest', 'Carrion Crow', 'Eurasian Treecreeper', 'River Warbler', 'Eurasian Reed Warbler', 'Common Blackbird', 'Eurasian Blue Tit', 'Eurasian Skylark', 'Willow Tit', 'Wood Sandpiper', 'Wood Sandpiper', 'Common Snipe', 'Red-throated Loon', 'Rook', 'Coal Tit', 'Redwing', 'Stock Dove', 'Common Redstart', 'Western Yellow Wagtail', 'Common Whitethroat', 'House Sparrow', 'Common Chiffchaff', 'Wood Sandpiper', 'Common House Martin', 'Common Snipe', 'Song Thrush', 'Common Cuckoo', 'Common Cuckoo', 'Great Tit', 'Common Starling', 'European Robin', 'European Greenfinch', 'Dunlin', 'Lesser Whitethroat', 'Common Redshank', 'Eurasian Wryneck', 'European Goldfinch', 'Spotted Flycatcher', 'Eurasian Golden Oriole', 'Barn Swallow', 'Wood Warbler', 'European Greenfinch', 'Grey Partridge', 'House Sparrow', 'Common Nightingale', 'Common Pheasant', 'Red-throated Loon', 'Common Swift', 'Wood Warbler', 'Eurasian Tree Sparrow', 'Common Blackbird', 'Tawny Owl', 'Eurasian Bullfinch', 'Black-headed Gull', 'Eurasian Wryneck', 'Eurasian Coot', 'Eurasian Oystercatcher', 'European Golden Plover', 'Eurasian Skylark', 'Willow Ptarmigan', 'Eurasian Treecreeper', 'European Honey Buzzard', 'Eurasian Magpie', 'Common Redpoll', 'Willow Tit', 'Long-tailed Tit', 'Common Blackbird', 'Rook', 'Eurasian Jay', 'Tawny Owl', 'European Green Woodpecker', 'Eurasian Bullfinch', 'Eurasian Blackcap', 'Song Thrush', 'Coal Tit', 'Corn Bunting', 'Marsh Tit', 'European Green Woodpecker', 'Red Crossbill', 'European Nightjar', 'Western Jackdaw', 'Common Reed Bunting', 'European Nightjar', 'Eurasian Bullfinch', 'European Turtle Dove', 'River Warbler', 'Goldcrest', 'Meadow Pipit', 'Eurasian Oystercatcher', 'Eurasian Oystercatcher', 'Grey Plover', 'Red-throated Loon', 'Willow Ptarmigan', 'European Honey Buzzard', 'Common Redshank', 'Eurasian Magpie', 'Grey Partridge', 'Willow Warbler', 'Western Yellow Wagtail', 'Black-headed Gull', 'Black Woodpecker', 'Garden Warbler', 'Song Thrush', 'European Herring Gull', 'Tawny Owl', 'Eurasian Wryneck', 'Eurasian Reed Warbler', 'Grey Plover', 'Common Moorhen', 'Goldcrest', 'Eurasian Tree Sparrow', 'Red Crossbill', 'Eurasian Wren', 'Marsh Tit', 'Rock Dove', 'Eurasian Skylark', 'Common Redpoll', 'European Herring Gull', 'European Golden Plover', 'Willow Warbler', 'Great Spotted Woodpecker', 'Grey Plover', 'Eurasian Golden Oriole', 'Common Chiffchaff', 'Yellowhammer', 'European Bee-eater', 'Willow Ptarmigan', 'Wood Warbler', 'Black Woodpecker', 'Eurasian Golden Oriole', 'House Sparrow', 'Corn Bunting', 'River Warbler', 'Common Nightingale', 'Yellowhammer', 'African Pied Wagtail', 'Yellowhammer', 'Common Pheasant', 'European Honey Buzzard', 'Eurasian Wren', 'Great Spotted Woodpecker', 'European Robin', 'African Pied Wagtail', 'Eurasian Magpie', 'Northern Lapwing', 'Common Snipe', 'Sedge Warbler', 'European Turtle Dove', 'Eurasian Blue Tit', 'Common Chaffinch', 'Eurasian Treecreeper', 'Dunlin', 'Redwing', 'Great Spotted Woodpecker', 'Common House Martin', 'Garden Warbler', 'Western Jackdaw', 'Common Starling', 'Common Starling', 'Sedge Warbler', 'African Pied Wagtail', 'Northern Raven', 'Marsh Warbler', 'Eurasian Wren', 'Dunnock', 'Common Chaffinch', 'Red Crossbill', 'Common Chaffinch', 'Barn Swallow', 'Great Tit', 'Northern Lapwing', 'Lesser Whitethroat', 'Common Chiffchaff', 'European Nightjar', 'Northern Raven', 'Common Linnet', 'Eurasian Tree Sparrow', 'Eurasian Reed Warbler', 'Dunnock', 'Eurasian Collared Dove', 'Rook', 'European Goldfinch', 'Long-tailed Tit', 'Eurasian Coot', 'Rock Dove', 'European Golden Plover', 'Common Nightingale', 'Common Whitethroat', 'Tree Pipit', 'Eurasian Blackcap', 'Common Redstart', 'Common Redshank', 'Tree Pipit', 'Tree Pipit', 'Eurasian Collared Dove', 'Common Redpoll', 'Eurasian Nuthatch', 'Eurasian Blue Tit', 'Spotted Flycatcher', 'Common Whitethroat', 'Canada Goose', 'Barn Swallow', 'Eurasian Coot', 'Common Wood Pigeon', 'Common Moorhen', 'Black-headed Gull', 'Canada Goose', 'Stock Dove', 'Common Pheasant', 'Dunlin', 'Spotted Flycatcher', 'Western Jackdaw', 'Great Tit', 'Common House Martin', 'Black Woodpecker', 'Common Wood Pigeon', 'Eurasian Nuthatch', 'European Herring Gull', 'Western Yellow Wagtail', 'Grey Partridge', 'Common Reed Bunting', 'Common Swift', 'Common Cuckoo', 'Common Wood Pigeon', 'Long-tailed Tit', 'European Green Woodpecker', 'European Turtle Dove', 'Common Redstart', 'Willow Tit', 'Meadow Pipit', 'Common Linnet', 'European Greenfinch', 'Eurasian Collared Dove', 'Dunnock', 'European Goldfinch', 'European Bee-eater', 'Rock Dove', 'Stock Dove', 'Marsh Warbler', 'Willow Warbler', 'European Robin', 'Common Reed Bunting', 'Marsh Warbler', 'Common Moorhen', 'Eurasian Blackcap', 'European Bee-eater', 'Garden Warbler', 'Canada Goose', 'Marsh Tit', 'Common Swift', 'Carrion Crow', 'Northern Lapwing', 'Eurasian Jay', 'Coal Tit']\n",
            "264\n"
          ]
        }
      ]
    },
    {
      "cell_type": "code",
      "metadata": {
        "id": "F4VtEIs1aVNM"
      },
      "source": [
        "\n",
        "def get_features(y, sr):\n",
        "\n",
        "  '''\n",
        "    get_features - функция параметризации данных\n",
        "     y - временной ряд аудио\n",
        "     sr - sampling rate(по умолчанию 22050) - частота дискретизации\n",
        "  '''\n",
        "  # Двумерные\n",
        "  chroma_stft = librosa.feature.chroma_stft(y=y, sr=sr) # Частота цветности\n",
        "  mfcc = librosa.feature.mfcc(y=y, sr=sr)               # Мел кепстральные коэффициенты\n",
        "\n",
        "  # Одномерные\n",
        "  spec_cent = librosa.feature.spectral_centroid(y=y, sr=sr) # Спектральный центроид\n",
        "  spec_bw = librosa.feature.spectral_bandwidth(y=y, sr=sr)  # Ширина полосы частот\n",
        "  rolloff = librosa.feature.spectral_rolloff(y=y, sr=sr)    # Спектральный спад частоты\n",
        "  zcr = librosa.feature.zero_crossing_rate(y)               # Пересечения нуля\n",
        "\n",
        "  # Возвращаем получившийся список\n",
        "  return chroma_stft, mfcc, spec_cent, spec_bw, rolloff, zcr"
      ],
      "execution_count": 8,
      "outputs": []
    },
    {
      "cell_type": "code",
      "metadata": {
        "colab": {
          "base_uri": "https://localhost:8080/",
          "height": 49,
          "referenced_widgets": [
            "40c6a294c4714e37b454554411213108",
            "66bb41997aa14e0ea9689de1101f1bb2",
            "b271d6fdd04e4d7492abdd17a57bfac2",
            "c9a421f74f6246cdb7a4756c6bf52038",
            "d31fa8b666074020bce20e563b7a36fc",
            "5d18d200dd3d425787f675ed331b8410",
            "5fee7ec83e5c430cbb70f62b40efced3",
            "7909d8d58f1649f6bad54f3d90ba1eaa",
            "f81d2c2550f641beb4337fe4462326d5",
            "3895079a6be74cea8cbce29493ce636f",
            "e616d03faac443d78c33b9985d823a43"
          ]
        },
        "id": "xFZfDkuHqBAq",
        "outputId": "029ec86c-2188-4c42-dd07-cd0ef216663f"
      },
      "source": [
        "# Создаём пустые листы\n",
        "Y_train = []\n",
        "y_all = []\n",
        "y_len = []\n",
        "sr_all = []\n",
        "\n",
        "# Запоминаем время старта формирования выборки\n",
        "curr_time = time.time()\n",
        "\n",
        "i = 0\n",
        "# Проходим по файлам папки\n",
        "for filename in tqdm(os.listdir(f'/content/songs/songs/')):\n",
        "  songname = f'/content/songs/songs/{filename}'\n",
        "  \n",
        "  # Выделим из имени песни только число\n",
        "  songnum = f'{filename}'\n",
        "  list(songnum)\n",
        "  a = int(songnum[2:-5])\n",
        "  \n",
        "# Следующая часть кода предназначена для того, чтобы присвоить каждой записи\n",
        "# нужный цикл, а так как у нас по 3 записи каждой птицы и они загружаются\n",
        "# вразноброс, мы делаем некую фильтрацию 264 записей по 88 классам(в соответствии\n",
        "# с данными таблицы .csv)\n",
        "\n",
        "  # Пройдемся по всем значениям столбца 'file_id' и обнаружим текущую песню\n",
        "  for k in range(len(data['file_id'])):\n",
        "\n",
        "    # Ищем строку в данных соответствующую текущей записи\n",
        "    if a == data['file_id'][k]:\n",
        "\n",
        "      # Вытаскиваем значение названия птицы для текущей записи\n",
        "      w = data['english_cname'][k]\n",
        "\n",
        "      # Проходимся циклом по нашим классам(88) и присваиваем в соответствии с записью\n",
        "      for t in range(len(bb)):\n",
        "        if w == bb[t]:\n",
        "\n",
        "          # Загружаем в y аудиосигнал\n",
        "          y, sr = librosa.load(songname, mono=True)\n",
        "          y_all.append(y)\n",
        "          sr_all.append(sr)\n",
        "          y_len.append(y.shape[0])\n",
        "          # Добавляем в Y_train номер классов в формате ohe\n",
        "          Y_train.append(utils.to_categorical(t, len(bb)))"
      ],
      "execution_count": 9,
      "outputs": [
        {
          "output_type": "display_data",
          "data": {
            "application/vnd.jupyter.widget-view+json": {
              "model_id": "40c6a294c4714e37b454554411213108",
              "version_minor": 0,
              "version_major": 2
            },
            "text/plain": [
              "  0%|          | 0/264 [00:00<?, ?it/s]"
            ]
          },
          "metadata": {}
        }
      ]
    },
    {
      "cell_type": "code",
      "metadata": {
        "colab": {
          "base_uri": "https://localhost:8080/"
        },
        "id": "WQxBJiset7mq",
        "outputId": "01e87a02-41d3-40de-b5b8-b2cde5dbe2af"
      },
      "source": [
        "max_len = max(y_len)\n",
        "max_len"
      ],
      "execution_count": 10,
      "outputs": [
        {
          "output_type": "execute_result",
          "data": {
            "text/plain": [
              "5560564"
            ]
          },
          "metadata": {},
          "execution_count": 10
        }
      ]
    },
    {
      "cell_type": "code",
      "metadata": {
        "colab": {
          "base_uri": "https://localhost:8080/"
        },
        "id": "Eea299YKvoW0",
        "outputId": "d29c3f19-6109-4f63-db04-e24c9bf51300"
      },
      "source": [
        "min_len = min(y_len)\n",
        "min_len"
      ],
      "execution_count": 11,
      "outputs": [
        {
          "output_type": "execute_result",
          "data": {
            "text/plain": [
              "71995"
            ]
          },
          "metadata": {},
          "execution_count": 11
        }
      ]
    },
    {
      "cell_type": "code",
      "metadata": {
        "colab": {
          "base_uri": "https://localhost:8080/",
          "height": 85,
          "referenced_widgets": [
            "947c8701acd8474fac2577ce93d8d4d7",
            "f382212792b249e685cac9d7620c8cd6",
            "39aff77ff3ef49c6802385a6b75d80fd",
            "8be05bf7e1094fc58b04939e4063a214",
            "d640c9bb168f4ddfafe847bc57da999f",
            "304ba0c8a8cb4a8cb109686559b8e0b6",
            "61451e942e994cadb2a36e1cf0a15db4",
            "2a017274c7934498bae86a20a20ad847",
            "bab9f6cf65e746639330c1962f1013ad",
            "af3b631d90e8456c969b97b795c13ab8",
            "1b495c3956614641a771606bcb593931"
          ]
        },
        "id": "p_AX4G2WadRI",
        "outputId": "a3327a62-0366-4d65-bb16-c5c7a978e0ae"
      },
      "source": [
        "# Создаём пустые листы\n",
        "X_train_1 = []\n",
        "X_train_2 = []\n",
        "X_train_3 = []\n",
        "X_train_4 = []\n",
        "X_train_5 = []\n",
        "X_train_6 = []\n",
        "Y_train_new = []\n",
        "\n",
        "for i in tqdm(range(len(y_all))):\n",
        "    y = list(y_all[i])*(int(max_len / min_len) + 1)\n",
        "    y = np.array(y[:max_len])\n",
        "    if y.shape[0] != max_len:\n",
        "        print(y.shape[0], i)\n",
        "    sr = sr_all[i]\n",
        "    # Превращаем сигнал в параметризованные данные и раскусываем по 4 секунды, с шагом в 4 секунды\n",
        "    for p in range(0, (int(len(y)//22050))-4, 4):\n",
        "\n",
        "        chroma_stft, mfcc, spec_cent, spec_bw, rolloff, zcr = get_features(y[p*sr:(p+4)*sr], sr)\n",
        "\n",
        "        # Добавляем строку в X_train\n",
        "        X_train_1.append(chroma_stft)\n",
        "        X_train_2.append(mfcc)\n",
        "        X_train_3.append(spec_cent)\n",
        "        X_train_4.append(spec_bw)\n",
        "        X_train_5.append(rolloff)\n",
        "        X_train_6.append(zcr)\n",
        "\n",
        "        # Добавляем в Y_train номер классов в формате ohe\n",
        "        Y_train_new.append(Y_train[i])\n",
        "\n",
        "# Превращаем обучающую выборку в numpy массивы\n",
        "X_train_1 = np.array(X_train_1)\n",
        "X_train_2 = np.array(X_train_2)\n",
        "X_train_3 = np.array(X_train_3)\n",
        "X_train_4 = np.array(X_train_4)\n",
        "X_train_5 = np.array(X_train_5)\n",
        "X_train_6 = np.array(X_train_6)\n",
        "Y_train_new = np.array(Y_train_new)"
      ],
      "execution_count": 12,
      "outputs": [
        {
          "output_type": "display_data",
          "data": {
            "application/vnd.jupyter.widget-view+json": {
              "model_id": "947c8701acd8474fac2577ce93d8d4d7",
              "version_minor": 0,
              "version_major": 2
            },
            "text/plain": [
              "  0%|          | 0/264 [00:00<?, ?it/s]"
            ]
          },
          "metadata": {}
        },
        {
          "output_type": "stream",
          "name": "stderr",
          "text": [
            "/usr/local/lib/python3.7/dist-packages/librosa/core/pitch.py:153: UserWarning: Trying to estimate tuning from empty frequency set.\n",
            "  warnings.warn(\"Trying to estimate tuning from empty frequency set.\")\n"
          ]
        }
      ]
    },
    {
      "cell_type": "code",
      "metadata": {
        "colab": {
          "base_uri": "https://localhost:8080/"
        },
        "id": "jB632_RoptiL",
        "outputId": "83cd38c9-7faf-453c-c0ea-5254768af2d4"
      },
      "source": [
        "# Выводим размеры обучающей выборки\n",
        "print(X_train_1.shape)\n",
        "print(X_train_2.shape)\n",
        "print(X_train_3.shape)\n",
        "print(X_train_4.shape)\n",
        "print(X_train_5.shape)\n",
        "print(X_train_6.shape)\n",
        "print(Y_train_new.shape)"
      ],
      "execution_count": 13,
      "outputs": [
        {
          "output_type": "stream",
          "name": "stdout",
          "text": [
            "(16368, 12, 173)\n",
            "(16368, 20, 173)\n",
            "(16368, 1, 173)\n",
            "(16368, 1, 173)\n",
            "(16368, 1, 173)\n",
            "(16368, 1, 173)\n",
            "(16368, 88)\n"
          ]
        }
      ]
    },
    {
      "cell_type": "code",
      "metadata": {
        "id": "uxn7j0K8yBEZ"
      },
      "source": [
        "def scale(X):\n",
        "  '''\n",
        "     scale() - функция для нормализации данных\n",
        "     X - данные, которые нужно нормальзивать\n",
        "\n",
        "  '''\n",
        "  #global min_X # делаем переменные глобальными, чтобы использовать при предсказании тестового файла\n",
        "  #global max_X # (используется когда тестируем свою загруженную песню)\n",
        "  min_X = X.min()\n",
        "  max_X = X.max()\n",
        "  \n",
        "  X = (X - min_X) / (max_X - min_X)\n",
        "\n",
        "  return X"
      ],
      "execution_count": 14,
      "outputs": []
    },
    {
      "cell_type": "code",
      "metadata": {
        "id": "Jck1FU3dyHpG"
      },
      "source": [
        "# Нормализуем тренировочные данные\n",
        "X_train_1_scaled = scale(X_train_1)\n",
        "\n",
        "#Xmin1 = min_X # Запоминаем значения, чтобы потом использовать для предикта\n",
        "#Xmax1 = max_X # Запоминаем значения, чтобы потом использовать для предикта\n",
        "\n",
        "X_train_2_scaled = scale(X_train_2)\n",
        "\n",
        "#Xmin2 = min_X # Запоминаем значения, чтобы потом использовать для предикта\n",
        "#Xmax2 = max_X # Запоминаем значения, чтобы потом использовать для предикта"
      ],
      "execution_count": 15,
      "outputs": []
    },
    {
      "cell_type": "code",
      "metadata": {
        "colab": {
          "base_uri": "https://localhost:8080/"
        },
        "id": "kdgODL0GyPET",
        "outputId": "b7cdb406-fede-4234-bc8f-27731423dd17"
      },
      "source": [
        "# Разделяем на тренировочную, проверочную и тестовую выборки\n",
        "mask = np.random.sample(X_train_1.shape[0])\n",
        "\n",
        "# Создание обучающей выборки\n",
        "train_mask = mask < 0.8 \n",
        "\n",
        "# Создание проверочной выборки\n",
        "val_mask = (mask >= 0.8) & (mask < 0.999)\n",
        "\n",
        "# Создание тестовой выборки\n",
        "test_mask = (mask >= 0.999)\n",
        "\n",
        "print(len(X_train_1_scaled[train_mask]))\n",
        "print(len(X_train_1_scaled[val_mask]))\n",
        "print(len(X_train_1_scaled[test_mask]))"
      ],
      "execution_count": 16,
      "outputs": [
        {
          "output_type": "stream",
          "name": "stdout",
          "text": [
            "13019\n",
            "3336\n",
            "13\n"
          ]
        }
      ]
    },
    {
      "cell_type": "code",
      "metadata": {
        "colab": {
          "base_uri": "https://localhost:8080/",
          "height": 1000
        },
        "id": "CSP-4OmCyRVR",
        "outputId": "66c20679-7cf1-41ca-bc2d-0d1a18194e9a"
      },
      "source": [
        "# Создадим инпуты соответствующих данных\n",
        "input_1 = Input((12, 173))\n",
        "input_2 = Input((20, 173))\n",
        "\n",
        "# Блок 1 \"Частота цветности\"\n",
        "x1 = BatchNormalization()(input_1)\n",
        "x1 = Flatten()(x1)\n",
        "\n",
        "# Блок 2 \"Мелкепстральные коэффициенты\"\n",
        "x2 = BatchNormalization()(input_2)\n",
        "x2 = Flatten()(x2)\n",
        "\n",
        "# Соединяем данные всех блоков\n",
        "x = concatenate([x1, x2])\n",
        "\n",
        "# В последнем слое 88 нейронов(по количеству классов)\n",
        "x = Dense(256, activation='relu')(x)\n",
        "x = Dropout(0.3)(x)\n",
        "x = BatchNormalization()(x)\n",
        "x = Dense(128, activation='relu')(x)\n",
        "x = Dropout(0.3)(x)\n",
        "x = BatchNormalization()(x)\n",
        "x = Dense(88, activation='softmax')(x)\n",
        "\n",
        "model_simple = Model([input_1, input_2], x)\n",
        "\n",
        "model_simple.compile(optimizer=Adam(lr=1e-3),\n",
        "              loss='categorical_crossentropy',\n",
        "              metrics=['accuracy'])\n",
        "\n",
        "history = model_simple.fit([X_train_1_scaled[train_mask], X_train_2_scaled[train_mask]],\n",
        "                    Y_train_new[train_mask],\n",
        "                    epochs=30,\n",
        "                    batch_size=50,\n",
        "                    validation_data=([X_train_1_scaled[val_mask], X_train_2_scaled[val_mask]],\n",
        "                    Y_train_new[val_mask]))\n",
        "\n",
        "plt.plot(history.history[\"accuracy\"])\n",
        "plt.plot(history.history[\"val_accuracy\"])\n",
        "plt.show()"
      ],
      "execution_count": 18,
      "outputs": [
        {
          "output_type": "stream",
          "name": "stderr",
          "text": [
            "/usr/local/lib/python3.7/dist-packages/keras/optimizer_v2/optimizer_v2.py:356: UserWarning: The `lr` argument is deprecated, use `learning_rate` instead.\n",
            "  \"The `lr` argument is deprecated, use `learning_rate` instead.\")\n"
          ]
        },
        {
          "output_type": "stream",
          "name": "stdout",
          "text": [
            "Epoch 1/30\n",
            "261/261 [==============================] - 8s 27ms/step - loss: 3.5448 - accuracy: 0.1895 - val_loss: 4.3583 - val_accuracy: 0.0938\n",
            "Epoch 2/30\n",
            "261/261 [==============================] - 7s 26ms/step - loss: 2.3706 - accuracy: 0.4063 - val_loss: 1.9337 - val_accuracy: 0.5555\n",
            "Epoch 3/30\n",
            "261/261 [==============================] - 7s 26ms/step - loss: 1.7386 - accuracy: 0.5376 - val_loss: 1.1353 - val_accuracy: 0.7620\n",
            "Epoch 4/30\n",
            "261/261 [==============================] - 7s 26ms/step - loss: 1.3440 - accuracy: 0.6392 - val_loss: 0.8335 - val_accuracy: 0.8135\n",
            "Epoch 5/30\n",
            "261/261 [==============================] - 7s 26ms/step - loss: 1.0797 - accuracy: 0.7011 - val_loss: 0.6365 - val_accuracy: 0.8522\n",
            "Epoch 6/30\n",
            "261/261 [==============================] - 7s 26ms/step - loss: 0.9120 - accuracy: 0.7415 - val_loss: 0.5097 - val_accuracy: 0.8879\n",
            "Epoch 7/30\n",
            "261/261 [==============================] - 7s 26ms/step - loss: 0.8157 - accuracy: 0.7673 - val_loss: 0.4418 - val_accuracy: 0.9053\n",
            "Epoch 8/30\n",
            "261/261 [==============================] - 7s 26ms/step - loss: 0.7235 - accuracy: 0.7927 - val_loss: 0.3969 - val_accuracy: 0.8993\n",
            "Epoch 9/30\n",
            "261/261 [==============================] - 7s 26ms/step - loss: 0.6562 - accuracy: 0.8056 - val_loss: 0.3896 - val_accuracy: 0.9065\n",
            "Epoch 10/30\n",
            "261/261 [==============================] - 7s 26ms/step - loss: 0.6082 - accuracy: 0.8166 - val_loss: 0.3098 - val_accuracy: 0.9269\n",
            "Epoch 11/30\n",
            "261/261 [==============================] - 7s 26ms/step - loss: 0.5608 - accuracy: 0.8310 - val_loss: 0.3141 - val_accuracy: 0.9221\n",
            "Epoch 12/30\n",
            "261/261 [==============================] - 7s 26ms/step - loss: 0.5277 - accuracy: 0.8427 - val_loss: 0.2472 - val_accuracy: 0.9374\n",
            "Epoch 13/30\n",
            "261/261 [==============================] - 7s 26ms/step - loss: 0.5005 - accuracy: 0.8478 - val_loss: 0.2625 - val_accuracy: 0.9293\n",
            "Epoch 14/30\n",
            "261/261 [==============================] - 7s 26ms/step - loss: 0.4595 - accuracy: 0.8577 - val_loss: 0.2469 - val_accuracy: 0.9326\n",
            "Epoch 15/30\n",
            "261/261 [==============================] - 7s 26ms/step - loss: 0.4511 - accuracy: 0.8647 - val_loss: 0.1859 - val_accuracy: 0.9481\n",
            "Epoch 16/30\n",
            "261/261 [==============================] - 7s 26ms/step - loss: 0.4374 - accuracy: 0.8658 - val_loss: 0.1931 - val_accuracy: 0.9496\n",
            "Epoch 17/30\n",
            "261/261 [==============================] - 7s 26ms/step - loss: 0.4254 - accuracy: 0.8692 - val_loss: 0.1910 - val_accuracy: 0.9469\n",
            "Epoch 18/30\n",
            "261/261 [==============================] - 7s 26ms/step - loss: 0.3894 - accuracy: 0.8807 - val_loss: 0.1818 - val_accuracy: 0.9529\n",
            "Epoch 19/30\n",
            "261/261 [==============================] - 7s 26ms/step - loss: 0.3772 - accuracy: 0.8822 - val_loss: 0.1641 - val_accuracy: 0.9535\n",
            "Epoch 20/30\n",
            "261/261 [==============================] - 7s 26ms/step - loss: 0.3603 - accuracy: 0.8884 - val_loss: 0.1667 - val_accuracy: 0.9535\n",
            "Epoch 21/30\n",
            "261/261 [==============================] - 7s 26ms/step - loss: 0.3686 - accuracy: 0.8875 - val_loss: 0.1658 - val_accuracy: 0.9514\n",
            "Epoch 22/30\n",
            "261/261 [==============================] - 8s 31ms/step - loss: 0.3550 - accuracy: 0.8899 - val_loss: 0.1745 - val_accuracy: 0.9505\n",
            "Epoch 23/30\n",
            "261/261 [==============================] - 8s 32ms/step - loss: 0.3761 - accuracy: 0.8844 - val_loss: 0.2054 - val_accuracy: 0.9523\n",
            "Epoch 24/30\n",
            "261/261 [==============================] - 7s 26ms/step - loss: 0.3611 - accuracy: 0.8851 - val_loss: 0.1616 - val_accuracy: 0.9553\n",
            "Epoch 25/30\n",
            "261/261 [==============================] - 7s 26ms/step - loss: 0.3666 - accuracy: 0.8836 - val_loss: 0.1629 - val_accuracy: 0.9544\n",
            "Epoch 26/30\n",
            "261/261 [==============================] - 7s 28ms/step - loss: 0.3487 - accuracy: 0.8913 - val_loss: 0.1488 - val_accuracy: 0.9583\n",
            "Epoch 27/30\n",
            "261/261 [==============================] - 7s 27ms/step - loss: 0.3220 - accuracy: 0.9002 - val_loss: 0.1426 - val_accuracy: 0.9598\n",
            "Epoch 28/30\n",
            "261/261 [==============================] - 7s 26ms/step - loss: 0.3190 - accuracy: 0.8975 - val_loss: 0.1311 - val_accuracy: 0.9625\n",
            "Epoch 29/30\n",
            "261/261 [==============================] - 7s 25ms/step - loss: 0.3276 - accuracy: 0.8944 - val_loss: 0.1356 - val_accuracy: 0.9652\n",
            "Epoch 30/30\n",
            "261/261 [==============================] - 7s 26ms/step - loss: 0.3374 - accuracy: 0.8925 - val_loss: 0.1202 - val_accuracy: 0.9658\n"
          ]
        },
        {
          "output_type": "display_data",
          "data": {
            "image/png": "[encoded data removed]",
            "text/plain": [
              "<Figure size 432x288 with 1 Axes>"
            ]
          },
          "metadata": {
            "needs_background": "light"
          }
        }
      ]
    },
    {
      "cell_type": "code",
      "metadata": {
        "id": "6tc6tZ7eyVlr"
      },
      "source": [
        "# Делаем предикт тестовой выборки\n",
        "y = model_simple.predict([X_train_1_scaled[test_mask],X_train_2_scaled[test_mask]])"
      ],
      "execution_count": 19,
      "outputs": []
    },
    {
      "cell_type": "code",
      "metadata": {
        "id": "PfbcOqM1yYU8",
        "colab": {
          "base_uri": "https://localhost:8080/"
        },
        "outputId": "d1ac2b24-42c5-4425-bedb-7f816bdf91aa"
      },
      "source": [
        "# Выводим выход с softmax\n",
        "# И распознанный класс\n",
        "print(np.argmax(y, axis=1))\n",
        "# Проверяем правильный индекс списка с\n",
        "print(np.argmax(Y_train_new[test_mask], axis=1))"
      ],
      "execution_count": 21,
      "outputs": [
        {
          "output_type": "stream",
          "name": "stdout",
          "text": [
            "[22 60 61 14 16 46 54 38 66 66 31 52 79]\n",
            "[22 60 61 14 14 46 54 38 66 66 31 52 79]\n"
          ]
        }
      ]
    },
    {
      "cell_type": "markdown",
      "metadata": {
        "id": "LlcZBJnFtR89"
      },
      "source": [
        "Практически всё распознано верно, кроме 5.\n",
        "Точность значительно лучше\n",
        "\n"
      ]
    },
    {
      "cell_type": "code",
      "metadata": {
        "id": "qU90XA6mycQU"
      },
      "source": [
        ""
      ],
      "execution_count": null,
      "outputs": []
    }
  ]
}