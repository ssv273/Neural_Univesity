{
  "nbformat": 4,
  "nbformat_minor": 0,
  "metadata": {
    "colab": {
      "name": "Untitled56.ipynb",
      "provenance": [],
      "collapsed_sections": [],
      "machine_shape": "hm",
      "mount_file_id": "1eqmkYT3sZejh_sHJ3n4k3yWyXPDIzpdV",
      "authorship_tag": "ABX9TyN3JJ7Z3CiAHsixLZKOXfXb",
      "include_colab_link": true
    },
    "kernelspec": {
      "name": "python3",
      "display_name": "Python 3"
    },
    "language_info": {
      "name": "python"
    },
    "accelerator": "GPU"
  },
  "cells": [
    {
      "cell_type": "markdown",
      "metadata": {
        "id": "view-in-github",
        "colab_type": "text"
      },
      "source": [
        "<a href=\"https://colab.research.google.com/github/ssv273/Neural_Univesity/blob/main/hw_24.ipynb\" target=\"_parent\"><img src=\"https://colab.research.google.com/assets/colab-badge.svg\" alt=\"Open In Colab\"/></a>"
      ]
    },
    {
      "cell_type": "code",
      "metadata": {
        "colab": {
          "base_uri": "https://localhost:8080/"
        },
        "id": "aCNH0c-IG0uw",
        "outputId": "8dc80f1c-e5fb-4ac8-dc10-fb3326ec265f"
      },
      "source": [
        "!nvidia-smi"
      ],
      "execution_count": 1,
      "outputs": [
        {
          "output_type": "stream",
          "name": "stdout",
          "text": [
            "Tue Oct 19 14:37:24 2021       \n",
            "+-----------------------------------------------------------------------------+\n",
            "| NVIDIA-SMI 470.74       Driver Version: 460.32.03    CUDA Version: 11.2     |\n",
            "|-------------------------------+----------------------+----------------------+\n",
            "| GPU  Name        Persistence-M| Bus-Id        Disp.A | Volatile Uncorr. ECC |\n",
            "| Fan  Temp  Perf  Pwr:Usage/Cap|         Memory-Usage | GPU-Util  Compute M. |\n",
            "|                               |                      |               MIG M. |\n",
            "|===============================+======================+======================|\n",
            "|   0  Tesla P100-PCIE...  Off  | 00000000:00:04.0 Off |                    0 |\n",
            "| N/A   41C    P0    26W / 250W |      0MiB / 16280MiB |      0%      Default |\n",
            "|                               |                      |                  N/A |\n",
            "+-------------------------------+----------------------+----------------------+\n",
            "                                                                               \n",
            "+-----------------------------------------------------------------------------+\n",
            "| Processes:                                                                  |\n",
            "|  GPU   GI   CI        PID   Type   Process name                  GPU Memory |\n",
            "|        ID   ID                                                   Usage      |\n",
            "|=============================================================================|\n",
            "|  No running processes found                                                 |\n",
            "+-----------------------------------------------------------------------------+\n"
          ]
        }
      ]
    },
    {
      "cell_type": "code",
      "metadata": {
        "colab": {
          "base_uri": "https://localhost:8080/"
        },
        "id": "oPENcDdLED9h",
        "outputId": "83cf9a7b-926d-4c0f-d459-bed5fa421fb9"
      },
      "source": [
        "!pip install pandarallel"
      ],
      "execution_count": 2,
      "outputs": [
        {
          "output_type": "stream",
          "name": "stdout",
          "text": [
            "Collecting pandarallel\n",
            "  Downloading pandarallel-1.5.4.tar.gz (17 kB)\n",
            "Requirement already satisfied: dill in /usr/local/lib/python3.7/dist-packages (from pandarallel) (0.3.4)\n",
            "Building wheels for collected packages: pandarallel\n",
            "  Building wheel for pandarallel (setup.py) ... \u001b[?25l\u001b[?25hdone\n",
            "  Created wheel for pandarallel: filename=pandarallel-1.5.4-py3-none-any.whl size=18688 sha256=da05ab0b5c31bf9a7017b76446032d737235f91067baf72969a5e8b76a7ca527\n",
            "  Stored in directory: /root/.cache/pip/wheels/71/de/ad/759faf4fea1e9b0fd935da28847aa3ca2eef14a888c2dc4952\n",
            "Successfully built pandarallel\n",
            "Installing collected packages: pandarallel\n",
            "Successfully installed pandarallel-1.5.4\n"
          ]
        }
      ]
    },
    {
      "cell_type": "code",
      "metadata": {
        "id": "56iHwkoc59lT"
      },
      "source": [
        "import pandas as pd\n",
        "from xml.dom import minidom\n",
        "import re\n",
        "import os\n",
        "import time\n",
        "from pandarallel import pandarallel\n",
        "import numpy as np\n",
        "import matplotlib.pyplot as plt\n",
        "from sklearn.model_selection import train_test_split #модуль для разбивки данных на обучающую и тестовую выборки\n",
        "import matplotlib.ticker as ticker\n",
        "\n",
        "import tensorflow as tf\n",
        "from tensorflow.keras.models import Model, load_model # из кераса подгружаем абстрактный класс базовой модели, метод загрузки предобученной модели\n",
        "from tensorflow.keras.layers import Dense, Embedding, LSTM, GRU, Input # из кераса загружаем необходимые слои для нейросети\n",
        "from tensorflow.keras.optimizers import RMSprop, Adadelta, Adam # из кераса загружаем выбранный оптимизатор\n",
        "from tensorflow.keras.preprocessing.sequence import pad_sequences # загружаем метод ограничения последовательности заданной длиной\n",
        "from tensorflow.keras.preprocessing.text import Tokenizer # загружаем токенизатор кераса для обработки текста\n",
        "from tensorflow.keras import utils # загружаем утилиты кераса для one hot кодировки\n",
        "from tensorflow.keras.utils import plot_model # удобный график для визуализации архитектуры модели\n"
      ],
      "execution_count": 3,
      "outputs": []
    },
    {
      "cell_type": "code",
      "metadata": {
        "colab": {
          "base_uri": "https://localhost:8080/"
        },
        "id": "vtTCRIWe644M",
        "outputId": "619b2810-8406-48fc-adf1-3353851f03ee"
      },
      "source": [
        "pandarallel.initialize()"
      ],
      "execution_count": 4,
      "outputs": [
        {
          "output_type": "stream",
          "name": "stdout",
          "text": [
            "INFO: Pandarallel will run on 4 workers.\n",
            "INFO: Pandarallel will use Memory file system to transfer data between the main process and workers.\n"
          ]
        }
      ]
    },
    {
      "cell_type": "code",
      "metadata": {
        "id": "QO7qkB-Z3o1r"
      },
      "source": [
        "def process_tuv(tuv):\n",
        "    lang = tuv.getAttribute(\"lang\")\n",
        "    if lang == '':\n",
        "        lang = tuv.getAttribute(\"xml:lang\")\n",
        "    seg = tuv.getElementsByTagName('seg')[0]\n",
        "    txt = seg.childNodes[0].data\n",
        "    return lang, txt\n",
        "\n",
        "def read(path):\n",
        "\n",
        "    \"\"\"Read function takes in a path to TMX translation file and outputs the metadata and a pandas dataframe.\n",
        "    Args:\n",
        "        param1 (str): The path to the TMX translation file\n",
        "    Returns:\n",
        "        dict: The header of the TMX file, which contains metadata\n",
        "        DataFrame: A Pandas Dataframe. Each line item consists of source_language, source_sentence, target_language, target_sentence\n",
        "    \"\"\"\n",
        "    # parse an xml file by name\n",
        "    tmx = minidom.parse(path)\n",
        "\n",
        "    # Get metadata\n",
        "    metadata = {}\n",
        "    header = tmx.getElementsByTagName('header')[0]\n",
        "    for key in header.attributes.keys():\n",
        "        metadata[key] = header.attributes[key].value\n",
        "        \n",
        "    srclang = metadata['srclang']\n",
        "\n",
        "    # Get translation sentences\n",
        "    body = tmx.getElementsByTagName('body')[0]\n",
        "    translation_units = body.getElementsByTagName('tu')\n",
        "    items = []\n",
        "    count_unpaired = 0\n",
        "    for tu in translation_units:\n",
        "        if len(tu.getElementsByTagName('tuv')) < 2:\n",
        "            print(\"Unpaired translation. Ignoring...\")\n",
        "            count_unpaired = count_unpaired + 1\n",
        "        else:\n",
        "            srclang, srcsentence = process_tuv(tu.getElementsByTagName('tuv')[0])\n",
        "            targetlang, targetsentence = process_tuv(tu.getElementsByTagName('tuv')[1])\n",
        "            item = {\n",
        "                'source_language': srclang,\n",
        "                'source_sentence': srcsentence,\n",
        "                'target_language': targetlang,\n",
        "                'target_sentence': targetsentence\n",
        "            }\n",
        "            items.append(item)\n",
        "\n",
        "    df = pd.DataFrame(items)\n",
        "    if count_unpaired > 0:\n",
        "       print(\"The data contained %d unpaired translations which were ignored\" % (count_unpaired))\n",
        "    return metadata, df"
      ],
      "execution_count": 5,
      "outputs": []
    },
    {
      "cell_type": "code",
      "metadata": {
        "id": "c0zQaPh84l3M"
      },
      "source": [
        "metadata, df = read(\"/content/drive/MyDrive/Neural_Univesity/hw_24/en-ru.tmx\")"
      ],
      "execution_count": 6,
      "outputs": []
    },
    {
      "cell_type": "code",
      "metadata": {
        "colab": {
          "base_uri": "https://localhost:8080/"
        },
        "id": "K2kG8_kv4sOa",
        "outputId": "7d1be528-d13c-4ca4-a9e9-1b923cd5564d"
      },
      "source": [
        "metadata"
      ],
      "execution_count": 7,
      "outputs": [
        {
          "output_type": "execute_result",
          "data": {
            "text/plain": [
              "{'adminlang': 'en',\n",
              " 'creationdate': 'Wed Jul 10 23:20:43 2019',\n",
              " 'creationtool': 'Uplug',\n",
              " 'creationtoolversion': 'unknown',\n",
              " 'datatype': 'PlainText',\n",
              " 'o-tmf': 'unknown',\n",
              " 'segtype': 'sentence',\n",
              " 'srclang': 'en'}"
            ]
          },
          "metadata": {},
          "execution_count": 7
        }
      ]
    },
    {
      "cell_type": "code",
      "metadata": {
        "colab": {
          "base_uri": "https://localhost:8080/",
          "height": 81
        },
        "id": "raEIi1pI5NY7",
        "outputId": "6a466c75-2a23-43be-b365-efb0a5895743"
      },
      "source": [
        "df.head(1)"
      ],
      "execution_count": 8,
      "outputs": [
        {
          "output_type": "execute_result",
          "data": {
            "text/html": [
              "<div>\n",
              "<style scoped>\n",
              "    .dataframe tbody tr th:only-of-type {\n",
              "        vertical-align: middle;\n",
              "    }\n",
              "\n",
              "    .dataframe tbody tr th {\n",
              "        vertical-align: top;\n",
              "    }\n",
              "\n",
              "    .dataframe thead th {\n",
              "        text-align: right;\n",
              "    }\n",
              "</style>\n",
              "<table border=\"1\" class=\"dataframe\">\n",
              "  <thead>\n",
              "    <tr style=\"text-align: right;\">\n",
              "      <th></th>\n",
              "      <th>source_language</th>\n",
              "      <th>source_sentence</th>\n",
              "      <th>target_language</th>\n",
              "      <th>target_sentence</th>\n",
              "    </tr>\n",
              "  </thead>\n",
              "  <tbody>\n",
              "    <tr>\n",
              "      <th>0</th>\n",
              "      <td>en</td>\n",
              "      <td>For once in my life I'm doing a good deed... A...</td>\n",
              "      <td>ru</td>\n",
              "      <td>Один раз в жизни я делаю хорошее дело... И оно...</td>\n",
              "    </tr>\n",
              "  </tbody>\n",
              "</table>\n",
              "</div>"
            ],
            "text/plain": [
              "  source_language  ...                                    target_sentence\n",
              "0              en  ...  Один раз в жизни я делаю хорошее дело... И оно...\n",
              "\n",
              "[1 rows x 4 columns]"
            ]
          },
          "metadata": {},
          "execution_count": 8
        }
      ]
    },
    {
      "cell_type": "code",
      "metadata": {
        "id": "4EEtPWPvFP4G"
      },
      "source": [
        "df = df[:70000]"
      ],
      "execution_count": 9,
      "outputs": []
    },
    {
      "cell_type": "code",
      "metadata": {
        "id": "QSc75CVO5PqC"
      },
      "source": [
        "def preprocess_sentence(w):\n",
        "    w = re.sub(r\"([?.!,¿])\", r\" \\1 \", w)\n",
        "    w = re.sub(r'[\" \"]+', \" \", w)\n",
        "#     w = re.sub(r\"[^a-zA-Z?.!,¿]+\", \" \", w)\n",
        "    w = w.strip()\n",
        "    w = '<start> ' + w + ' <end>'\n",
        "    return w"
      ],
      "execution_count": 10,
      "outputs": []
    },
    {
      "cell_type": "code",
      "metadata": {
        "id": "QIkVgvOm6n-m"
      },
      "source": [
        "df['preprocess_source_sentence'] = df['source_sentence'].parallel_apply(preprocess_sentence)\n",
        "df['preprocess_target_sentence'] = df['target_sentence'].parallel_apply(preprocess_sentence)"
      ],
      "execution_count": 11,
      "outputs": []
    },
    {
      "cell_type": "code",
      "metadata": {
        "colab": {
          "base_uri": "https://localhost:8080/",
          "height": 147
        },
        "id": "SiVVBHLh7PVi",
        "outputId": "f08a1555-ce67-456f-8d99-8ddc394faa2e"
      },
      "source": [
        "df.head(2)"
      ],
      "execution_count": 12,
      "outputs": [
        {
          "output_type": "execute_result",
          "data": {
            "text/html": [
              "<div>\n",
              "<style scoped>\n",
              "    .dataframe tbody tr th:only-of-type {\n",
              "        vertical-align: middle;\n",
              "    }\n",
              "\n",
              "    .dataframe tbody tr th {\n",
              "        vertical-align: top;\n",
              "    }\n",
              "\n",
              "    .dataframe thead th {\n",
              "        text-align: right;\n",
              "    }\n",
              "</style>\n",
              "<table border=\"1\" class=\"dataframe\">\n",
              "  <thead>\n",
              "    <tr style=\"text-align: right;\">\n",
              "      <th></th>\n",
              "      <th>source_language</th>\n",
              "      <th>source_sentence</th>\n",
              "      <th>target_language</th>\n",
              "      <th>target_sentence</th>\n",
              "      <th>preprocess_source_sentence</th>\n",
              "      <th>preprocess_target_sentence</th>\n",
              "    </tr>\n",
              "  </thead>\n",
              "  <tbody>\n",
              "    <tr>\n",
              "      <th>0</th>\n",
              "      <td>en</td>\n",
              "      <td>For once in my life I'm doing a good deed... A...</td>\n",
              "      <td>ru</td>\n",
              "      <td>Один раз в жизни я делаю хорошее дело... И оно...</td>\n",
              "      <td>&lt;start&gt; For once in my life I'm doing a good d...</td>\n",
              "      <td>&lt;start&gt; Один раз в жизни я делаю хорошее дело ...</td>\n",
              "    </tr>\n",
              "    <tr>\n",
              "      <th>1</th>\n",
              "      <td>en</td>\n",
              "      <td>Let's try something.</td>\n",
              "      <td>ru</td>\n",
              "      <td>Давайте что-нибудь попробуем!</td>\n",
              "      <td>&lt;start&gt; Let's try something . &lt;end&gt;</td>\n",
              "      <td>&lt;start&gt; Давайте что-нибудь попробуем ! &lt;end&gt;</td>\n",
              "    </tr>\n",
              "  </tbody>\n",
              "</table>\n",
              "</div>"
            ],
            "text/plain": [
              "  source_language  ...                         preprocess_target_sentence\n",
              "0              en  ...  <start> Один раз в жизни я делаю хорошее дело ...\n",
              "1              en  ...       <start> Давайте что-нибудь попробуем ! <end>\n",
              "\n",
              "[2 rows x 6 columns]"
            ]
          },
          "metadata": {},
          "execution_count": 12
        }
      ]
    },
    {
      "cell_type": "code",
      "metadata": {
        "id": "IhKqFrLt-Y7I"
      },
      "source": [
        "input_texts = df['preprocess_source_sentence'].to_list()\n",
        "target_texts = df['preprocess_target_sentence'].to_list()"
      ],
      "execution_count": 13,
      "outputs": []
    },
    {
      "cell_type": "code",
      "metadata": {
        "colab": {
          "base_uri": "https://localhost:8080/"
        },
        "id": "60YacZck-jXk",
        "outputId": "2c3f36ee-717d-48fb-df04-5bbd28e87066"
      },
      "source": [
        "len(input_texts), len(target_texts)"
      ],
      "execution_count": 14,
      "outputs": [
        {
          "output_type": "execute_result",
          "data": {
            "text/plain": [
              "(70000, 70000)"
            ]
          },
          "metadata": {},
          "execution_count": 14
        }
      ]
    },
    {
      "cell_type": "code",
      "metadata": {
        "colab": {
          "base_uri": "https://localhost:8080/"
        },
        "id": "DDt3WyDT-lsH",
        "outputId": "68106257-f81e-43b9-b140-5158b529178d"
      },
      "source": [
        "input_texts[10], target_texts[10]"
      ],
      "execution_count": 15,
      "outputs": [
        {
          "output_type": "execute_result",
          "data": {
            "text/plain": [
              "('<start> I will be back soon . <end>', '<start> Скоро вернусь . <end>')"
            ]
          },
          "metadata": {},
          "execution_count": 15
        }
      ]
    },
    {
      "cell_type": "code",
      "metadata": {
        "id": "1rrQrDD1-q0k"
      },
      "source": [
        "def tokenize(lang):\n",
        "    lang_tokenizer = Tokenizer(filters='')\n",
        "    lang_tokenizer.fit_on_texts(lang)\n",
        "    tensor = lang_tokenizer.texts_to_sequences(lang)\n",
        "    tensor = pad_sequences(tensor, padding='post')\n",
        "    return tensor, lang_tokenizer"
      ],
      "execution_count": 16,
      "outputs": []
    },
    {
      "cell_type": "code",
      "metadata": {
        "id": "2FdDDU_Z-6hQ"
      },
      "source": [
        "input_tensor, inp_lang_tokenizer = tokenize(input_texts)\n",
        "target_tensor, targ_lang_tokenizer = tokenize(target_texts)"
      ],
      "execution_count": 17,
      "outputs": []
    },
    {
      "cell_type": "code",
      "metadata": {
        "colab": {
          "base_uri": "https://localhost:8080/"
        },
        "id": "LBvMBYMF-9ml",
        "outputId": "20fa7361-7747-4138-8e79-73a8bc119f38"
      },
      "source": [
        "input_tensor.shape"
      ],
      "execution_count": 18,
      "outputs": [
        {
          "output_type": "execute_result",
          "data": {
            "text/plain": [
              "(70000, 49)"
            ]
          },
          "metadata": {},
          "execution_count": 18
        }
      ]
    },
    {
      "cell_type": "code",
      "metadata": {
        "colab": {
          "base_uri": "https://localhost:8080/"
        },
        "id": "9qqFPz3V_SlO",
        "outputId": "d8685f96-8f5e-4e35-bef6-6ec995a3daf1"
      },
      "source": [
        "len(inp_lang_tokenizer.word_index)"
      ],
      "execution_count": 19,
      "outputs": [
        {
          "output_type": "execute_result",
          "data": {
            "text/plain": [
              "12329"
            ]
          },
          "metadata": {},
          "execution_count": 19
        }
      ]
    },
    {
      "cell_type": "code",
      "metadata": {
        "id": "rWNQOqAV_VFa"
      },
      "source": [
        "# Для удобства создадим мини-функцию, возвращающую максимальную длину тензора\n",
        "def max_length(tensor): #функция принимает на вход тензор(фразы в виде последовательности индексов)\n",
        "  return max(len(t) for t in tensor) #и возвращает значение максимальной длины его элемента "
      ],
      "execution_count": 20,
      "outputs": []
    },
    {
      "cell_type": "code",
      "metadata": {
        "colab": {
          "base_uri": "https://localhost:8080/"
        },
        "id": "YCCcMjpA_iGN",
        "outputId": "4e3ab670-9798-4f95-b7d4-fbd9eccbf373"
      },
      "source": [
        "# Вычислим максимальные длины тензоров для английского и русского языков, используя ранее заданную функцию\n",
        "max_length_targ, max_length_inp = max_length(target_tensor), max_length(input_tensor)\n",
        "max_length_targ, max_length_inp"
      ],
      "execution_count": 21,
      "outputs": [
        {
          "output_type": "execute_result",
          "data": {
            "text/plain": [
              "(48, 49)"
            ]
          },
          "metadata": {},
          "execution_count": 21
        }
      ]
    },
    {
      "cell_type": "code",
      "metadata": {
        "id": "Jn6an18t_o4B"
      },
      "source": [
        "input_tensor_train, input_tensor_val, target_tensor_train, target_tensor_val = train_test_split(input_tensor, target_tensor, test_size=0.2)"
      ],
      "execution_count": 22,
      "outputs": []
    },
    {
      "cell_type": "code",
      "metadata": {
        "colab": {
          "base_uri": "https://localhost:8080/"
        },
        "id": "0bTCA2g3_6nT",
        "outputId": "162f958a-be6b-4eb5-a736-82c5814b4007"
      },
      "source": [
        "def convert(language_tokenizer, tensor):\n",
        "  for t in tensor:\n",
        "    if t!=0:\n",
        "      print (\"%d ----> %s\" % (t, language_tokenizer.index_word[t]))\n",
        "print (\"Фраза на английском языке; соответствие индекса и слова\")\n",
        "convert(inp_lang_tokenizer, input_tensor_train[0])\n",
        "print ()\n",
        "print (\"Фраза на русском языке; соответствие индекса и слова\")\n",
        "convert(targ_lang_tokenizer, target_tensor_train[0])\n",
        "print ()"
      ],
      "execution_count": 23,
      "outputs": [
        {
          "output_type": "stream",
          "name": "stdout",
          "text": [
            "Фраза на английском языке; соответствие индекса и слова\n",
            "1 ----> <start>\n",
            "200 ----> keep\n",
            "4 ----> the\n",
            "185 ----> children\n",
            "192 ----> away\n",
            "47 ----> from\n",
            "4 ----> the\n",
            "4939 ----> knives\n",
            "3 ----> .\n",
            "2 ----> <end>\n",
            "\n",
            "Фраза на русском языке; соответствие индекса и слова\n",
            "1 ----> <start>\n",
            "2443 ----> держите\n",
            "14004 ----> ножи\n",
            "6 ----> в\n",
            "26634 ----> недоступном\n",
            "47 ----> для\n",
            "292 ----> детей\n",
            "336 ----> месте\n",
            "3 ----> .\n",
            "2 ----> <end>\n",
            "\n"
          ]
        }
      ]
    },
    {
      "cell_type": "markdown",
      "metadata": {
        "id": "qnXx_jM6A-9T"
      },
      "source": [
        "# Параметры нейросети"
      ]
    },
    {
      "cell_type": "code",
      "metadata": {
        "colab": {
          "base_uri": "https://localhost:8080/"
        },
        "id": "K6suTqVWAQ28",
        "outputId": "9d38100c-4acc-4d91-e0e9-6a60013d51dd"
      },
      "source": [
        "######################\n",
        "# Создаем tf.data датасет (Раздел tf.data.Dataset API предлагает построить готовый конвейер для обучения моделей)\n",
        "######################\n",
        "# Метод .shuffle с параметром BUFFER_SIZE задаст случайность подачи тренировочных сэмплов в процессе обучения(против переобучения) \n",
        "BUFFER_SIZE = len(input_tensor_train) #укажем что случайно сэмплировать будем по всей длине обучающейся выборки\n",
        "\n",
        "BATCH_SIZE = 16 #указываем размер батча\n",
        "steps_per_epoch = len(input_tensor_train)//BATCH_SIZE # укажем количество шагов в одной эпохе\n",
        "embedding_dim = 256 #размерность эмбеддинга, векторного пространства\n",
        "units = 1024 #задаем размер слоя(количество нейронов в слое) \n",
        "vocab_inp_size = len(inp_lang_tokenizer.word_index)+1 #задаем размер немецкого словаря\n",
        "#vocab_tar_size = len(inp_lang_tokenizer.word_index)+1 #задаем размер английского словаря\n",
        "vocab_tar_size = len(targ_lang_tokenizer.word_index)+1 #задаем размер английского словаря\n",
        "\n",
        "# Создаём датасет из массивов Numpy(рус и анг тренировочные фразы) со случайной подачей тренировочных сэмплов в процессе обучения\n",
        "%time dataset = tf.data.Dataset.from_tensor_slices((input_tensor_train, target_tensor_train)).shuffle(BUFFER_SIZE)\n",
        "# Передаем в датасет размер батча и указываем, что если в тренировке последний батч окажется неполным, то опустим его\n",
        "dataset = dataset.batch(BATCH_SIZE, drop_remainder=True)\n",
        "\n",
        "# Посмотрим на форму примеров полученных батчей\n",
        "example_input_batch, example_target_batch = next(iter(dataset))\n",
        "example_input_batch.shape, example_target_batch.shape\n",
        "print(vocab_inp_size, vocab_tar_size)"
      ],
      "execution_count": 24,
      "outputs": [
        {
          "output_type": "stream",
          "name": "stdout",
          "text": [
            "CPU times: user 430 ms, sys: 463 ms, total: 892 ms\n",
            "Wall time: 3.26 s\n",
            "12330 33892\n"
          ]
        }
      ]
    },
    {
      "cell_type": "markdown",
      "metadata": {
        "id": "igO1cQW_A-Lz"
      },
      "source": [
        "# Создаём классы Encoder, Attention, Decoder"
      ]
    },
    {
      "cell_type": "code",
      "metadata": {
        "id": "pXhGB09XA0Gb"
      },
      "source": [
        "######################\n",
        "# Создаем класс для кодировщика Encoder\n",
        "######################\n",
        "class Encoder(Model):\n",
        "  def __init__(self, vocab_size, embedding_dim, enc_units, batch_sz): #указываем атрибуты класса\n",
        "    super(Encoder, self).__init__() #даем возможность использовать и исполнять методы класса-родителя в классе потомке \n",
        "    self.batch_sz = batch_sz #атрибут возвращает размер батча\n",
        "    self.enc_units = enc_units #атрибут возвращает размер слоя в кодировщике\n",
        "    self.embedding = Embedding(vocab_size, embedding_dim) #атрибут эмбеддинга - слой Кераса с размером словаря на входе и с dim=256\n",
        "    # Реккурентной сетью выберем GRU, указываем размер слоя, вывод из слоя в виде последовательностей, \n",
        "    # и метод инициализации весов 'glorot_uniform'(или метод Ксавьера) для упрощения прохождения сигнала при распростр-ии ошибки\n",
        "    self.gru = GRU(self.enc_units, return_sequences=True, return_state=True, recurrent_initializer='glorot_uniform')\n",
        "\n",
        "  # Метод принимает входную фразу и начальное состояние\n",
        "  def call(self, x, hidden): #при обращении к экземпляру класса как к функции, будет вызываться этот метод:\n",
        "    x = self.embedding(x) # входящие тензоры преобразовываются в эмбеддинг\n",
        "    output, state = self.gru(x, initial_state = hidden) #затем пропускаются через GRU и получаем выход + новое состояние\n",
        "    return output, state #вызов метода/функции вернёт выход из сети GRU и состояние на выходе\n",
        "\n",
        "  def initialize_hidden_state(self): #создаем метод инициализации состояний на скрытых слоях\n",
        "    return tf.zeros((self.batch_sz, self.enc_units)) #задаем начальное состояние как размер батча на размер слоя\n",
        "    \n",
        "#  input tensor(фраза в виде индексов)---->Encoder----> output(значение на выходе) и hidden_state(состояние на выходе)"
      ],
      "execution_count": 25,
      "outputs": []
    },
    {
      "cell_type": "code",
      "metadata": {
        "colab": {
          "base_uri": "https://localhost:8080/"
        },
        "id": "zG2E-PCNBLa1",
        "outputId": "ea743ac8-5059-4be8-bf1e-e55c6678961b"
      },
      "source": [
        "# Создадим модель кодировщика по уже заданным параметрам \n",
        "encoder = Encoder(vocab_inp_size, embedding_dim, units, BATCH_SIZE)\n",
        "\n",
        "# Подадим в качестве примера какой-то сэмпл(Тензор[64, 12]) на вход Encoder'у и визуализируем, что получим\n",
        "\n",
        "sample_hidden = encoder.initialize_hidden_state() #инициализируем начальное скрытое состояние\n",
        "# Даем Encoder'у сэмпл и начальное состояние, и получим выход из сети GRU и состояние на выходе (вызывается метод call класса Encoder)\n",
        "sample_output, sample_hidden = encoder(example_input_batch, sample_hidden)\n",
        "print ('Размеры выхода из кодировщика: (batch size, sequence length, units) {}'.format(sample_output.shape))\n",
        "print ('Размеры скрытого состояния: (batch size, units) {}'.format(sample_hidden.shape))"
      ],
      "execution_count": 26,
      "outputs": [
        {
          "output_type": "stream",
          "name": "stdout",
          "text": [
            "Размеры выхода из кодировщика: (batch size, sequence length, units) (16, 49, 1024)\n",
            "Размеры скрытого состояния: (batch size, units) (16, 1024)\n"
          ]
        }
      ]
    },
    {
      "cell_type": "code",
      "metadata": {
        "colab": {
          "base_uri": "https://localhost:8080/"
        },
        "id": "us7xcll6BNlG",
        "outputId": "c81f99f1-3f91-4b13-b19c-8e13addbc892"
      },
      "source": [
        "print(sample_hidden.shape)\n",
        "print(sample_output.shape)"
      ],
      "execution_count": 27,
      "outputs": [
        {
          "output_type": "stream",
          "name": "stdout",
          "text": [
            "(16, 1024)\n",
            "(16, 49, 1024)\n"
          ]
        }
      ]
    },
    {
      "cell_type": "code",
      "metadata": {
        "id": "Z9ubhlUSBpsD"
      },
      "source": [
        "######################\n",
        "# Создаем класс Attention для внедрения механизма внимания\n",
        "######################\n",
        "class BahdanauAttention(Model): #название класса именем создателя механизма Дмитрия Богданова(Bahdanau)\n",
        "  def __init__(self, units): # создаем слой внимания из указанного кол-ва нейронов\n",
        "    super(BahdanauAttention, self).__init__() #даем возможность использовать и исполнять методы класса-родителя в классе потомке\n",
        "    self.W1 = Dense(units) #атрибут: получаем веса, пропуская через полносвязный слой\n",
        "    self.W2 = Dense(units) #атрибут: получаем веса, пропуская через полносвязный слой\n",
        "    self.V =  Dense(1) #атрибут: пропускаем через Dense с одним нейроном, получаем отдельный вес на каждый такт\n",
        "\n",
        "  def call(self, hidden_state, values): \n",
        "    # Форма состояния на скрытом слое (batch_size, hidden size)\n",
        "    # Форму состояния на каждом такте увеличим до (batch_size, 1, hidden size)\n",
        "    # Добавляем это для того, чтобы получить оценку\n",
        "    hidden_with_time_axis = tf.expand_dims(hidden_state, 1)\n",
        "\n",
        "    # Форма оценки score (размер батча, макс.длина слов на входе, 1), однёрка в конце, чтобы применить self.V\n",
        "    # До применения self.V оценка была бы (размер батча, макс.длина слов на входе, количество нейронов в слое)\n",
        "    score = self.V(tf.nn.tanh(self.W1(values) + self.W2(hidden_with_time_axis)))\n",
        "\n",
        "    # К полученной оценке применим Софтмакс, который покажет вероятность полезности от 0 до 1 для каждого слова в фразе для декодера\n",
        "    # Форма оценки score - (размер батча, макс.длина слов на входе, 1); Софтмакс применяем к оси \"макс.длина слов\"\n",
        "    attention_weights = tf.nn.softmax(score, axis=1)\n",
        "\n",
        "    # Построим вектор контекста \n",
        "    context_vector = attention_weights * values # веса внимания перемножим со значениями(выхода из кодировщика)\n",
        "    # Сумму также применяем по оси \"макс.длина слов на входе\"\n",
        "    context_vector = tf.reduce_sum(context_vector, axis=1) #размеры вектора контекста после суммирования будут (размер батча, размер слоя)\n",
        "\n",
        "    return context_vector, attention_weights #возвращает вектор контекста и веса внимания\n",
        "\n",
        "# encoder hidden state и  output ---->Attention Layer----> context vector(вектор контекста) и attention weights (веса внимания)"
      ],
      "execution_count": 28,
      "outputs": []
    },
    {
      "cell_type": "code",
      "metadata": {
        "colab": {
          "base_uri": "https://localhost:8080/"
        },
        "id": "B-5WZqrzBs8M",
        "outputId": "b559adc0-0c5c-4f66-cb3f-7fb5f8f40b53"
      },
      "source": [
        "# Проверим, как работает слой\n",
        "attention_layer = BahdanauAttention(10)\n",
        "# Подадим на вход слою внимания выход из Encodera и его состояние, и получим значение и веса внимания\n",
        "attention_result, attention_weights = attention_layer(sample_hidden, sample_output)\n",
        "\n",
        "print(\"Размеры значения внимания: (размер батча, размер слоя) {}\".format(attention_result.shape))\n",
        "print(\"Размеры весов внимания: (размер батча, длина последовательности, 1) {}\".format(attention_weights.shape))"
      ],
      "execution_count": 29,
      "outputs": [
        {
          "output_type": "stream",
          "name": "stdout",
          "text": [
            "Размеры значения внимания: (размер батча, размер слоя) (16, 1024)\n",
            "Размеры весов внимания: (размер батча, длина последовательности, 1) (16, 49, 1)\n"
          ]
        }
      ]
    },
    {
      "cell_type": "code",
      "metadata": {
        "id": "JXLorl0fBvA9"
      },
      "source": [
        "######################\n",
        "# Создаем класс для декодировщика Decoder\n",
        "######################\n",
        "class Decoder(Model):\n",
        "  def __init__(self, vocab_size, embedding_dim, dec_units, batch_sz):\n",
        "    super(Decoder, self).__init__() #даем возможность использовать и исполнять методы класса-родителя в классе потомке \n",
        "    self.batch_sz = batch_sz #атрибут возвращает размер батча\n",
        "    self.dec_units = dec_units #атрибут возвращает размер слоя в декодере(кол-во нейронов)\n",
        "    self.embedding = Embedding(vocab_size, embedding_dim) #атрибут эмбеддинга - слой Кераса с размером словаря на входе и (dim=256) на выходе\n",
        "\n",
        "    # Реккурентной сетью выберем GRU, указываем размер слоя, вывод из слоя в виде последовательностей, \n",
        "    # и метод инициализации весов 'glorot_uniform'(или метод Ксавьера) для упрощения прохождения сигнала при распростр-ии ошибки    \n",
        "    self.gru = GRU(self.dec_units, return_sequences=True, return_state=True, recurrent_initializer='glorot_uniform')\n",
        "    self.fc = Dense(vocab_size) #атрибут вызовет полносвязный слой с размером словаря\n",
        "\n",
        "    self.attention = BahdanauAttention(self.dec_units) #атрибут подключит механизм внимания, описанный ранее\n",
        "\n",
        "  def call(self, x, hidden, enc_output):\n",
        "    # enc_output размеры (batch_size, max_length, hidden_size - размер батча, макс.длина фраз, разм.скр.слоя)\n",
        "    context_vector, attention_weights = self.attention(hidden, enc_output)\n",
        "\n",
        "    # входящий тензор слова пропускаем через эмбеддинг (получаем размеры batch_size, 1, embedding_dim)\n",
        "    x = self.embedding(x)\n",
        "\n",
        "    # дальше конкатенируем с вектором контекста (получаем размеры batch_size, 1, embedding_dim + hidden_size)\n",
        "    x = tf.concat([tf.expand_dims(context_vector, 1), x], axis=-1)\n",
        "\n",
        "    # сконкатенированный вектор передаем  в GRU и получаем выход с декодера и состояние\n",
        "    output, state = self.gru(x)\n",
        "\n",
        "    # output размеры (batch_size * 1, hidden_size)\n",
        "    output = tf.reshape(output, (-1, output.shape[2]))\n",
        "\n",
        "    # пропускаем через полносвязный слой\n",
        "    x = self.fc(output) #output размеры (batch_size, vocab)\n",
        "\n",
        "    return x, state, attention_weights"
      ],
      "execution_count": 30,
      "outputs": []
    },
    {
      "cell_type": "code",
      "metadata": {
        "colab": {
          "base_uri": "https://localhost:8080/"
        },
        "id": "9Jp42AcEBxxj",
        "outputId": "7282899e-962c-4337-a380-1eec1bced2ff"
      },
      "source": [
        "# Проверим работу декодера, подав на вход случайный массив с нужной размерностью\n",
        "# Создали декодер с параметрами(размер анг.словаря, размерность эмбеддинга, кол-во нейронов, размер батча)\n",
        "decoder = Decoder(vocab_tar_size, embedding_dim, units, BATCH_SIZE)\n",
        "# Подаём на вход случайный массив с нужной размерностью, состояние и выход с кодировщика\n",
        "sample_decoder_output, _, _ = decoder(tf.random.uniform((BATCH_SIZE, 1)), sample_hidden, sample_output)\n",
        "\n",
        "print ('Размер выхода с декодера: (размер батча, размер словаря) {}'.format(sample_decoder_output.shape))"
      ],
      "execution_count": 31,
      "outputs": [
        {
          "output_type": "stream",
          "name": "stdout",
          "text": [
            "Размер выхода с декодера: (размер батча, размер словаря) (16, 33892)\n"
          ]
        }
      ]
    },
    {
      "cell_type": "code",
      "metadata": {
        "id": "HP0RX_inB0Ab"
      },
      "source": [
        "######################\n",
        "# Определяем функцию потерь\n",
        "######################\n",
        "optimizer = Adam() # из оптимизаторов кераса выбираем Adam\n",
        "# Используем SparseCategoricalCrossentropy, к-я может работать не с категориальными лейблами\n",
        "loss_object = tf.losses.SparseCategoricalCrossentropy(from_logits=True, reduction='none') #логит - тензор к к-му применим софтмакс\n",
        "\n",
        "def loss_function(real, pred): # Запишем функцию потерь, на вход подаем фактический и предсказанный результат\n",
        "  mask = tf.math.logical_not(tf.math.equal(real, 0)) #накидываем \"маску\" которая оставит для работы ненулевые значения\n",
        "  loss_ = loss_object(real, pred) #фактические и предсказанные результаты передаем в SparseCategoricalCrossentropy и получаем ошибку\n",
        "\n",
        "  mask = tf.cast(mask, dtype=loss_.dtype)\n",
        "  loss_ *= mask\n",
        "  \n",
        "  #reduce_mean - среднее любого выбранного тензора\n",
        "  return tf.reduce_mean(loss_)"
      ],
      "execution_count": 32,
      "outputs": []
    },
    {
      "cell_type": "markdown",
      "metadata": {
        "id": "ZkiBclvJCQIw"
      },
      "source": [
        "# Обучение Нейросети"
      ]
    },
    {
      "cell_type": "code",
      "metadata": {
        "id": "IfxopswxB3b0"
      },
      "source": [
        "# Сохраняем процесс обучения модели чекпоинтами тензорфлоу\n",
        "checkpoint_dir = './training_checkpoints' #даем ссылку на директорию\n",
        "checkpoint_prefix = os.path.join(checkpoint_dir, \"ckpt\") #добавляем префикс \"ckpt\"\n",
        "checkpoint = tf.train.Checkpoint(optimizer=optimizer, encoder=encoder, decoder=decoder) #сохраняем состояния/показатели оптимизатора и моделей"
      ],
      "execution_count": 33,
      "outputs": []
    },
    {
      "cell_type": "code",
      "metadata": {
        "id": "U_GIWNN8CH-P"
      },
      "source": [
        "######################\n",
        "# Создадим функцию запуска обучения модели \n",
        "######################\n",
        "@tf.function\n",
        "def train_step(inp, targ, enc_hidden): #функция принимает тензоры(фразы в виде индексов) и состояние в кодировщике\n",
        "  loss = 0 #создаем переменную, в которую будем записывать ошибку\n",
        "\n",
        "  # Все операции по вычислению градиента записываются на ленту(tape) и мы получаем к ним доступ\n",
        "  with tf.GradientTape() as tape:\n",
        "    # Передаем тензор и начальное состояние в кодировщик и получим выход и состояние на выходе\n",
        "    enc_output, enc_hidden = encoder(inp, enc_hidden)\n",
        "\n",
        "    dec_hidden = enc_hidden #передадим это состояние декодеру\n",
        "\n",
        "    # Передаем в качестве входа в декодер индекс токена \"<start>\"\n",
        "    dec_input = tf.expand_dims([targ_lang_tokenizer.word_index['<start>']] * BATCH_SIZE, 1)\n",
        "\n",
        "    # Техника \"Teacher forcing\" - подаем предыдущее выходное слово на вход следущего в декодере. Targ.shape[64, 9]\n",
        "    for t in range(1, targ.shape[1]): #для каждого слова из английской фразы\n",
        "      # Передаем в обработку декодеру начальный токен, состояние на выходе из кодера, и выход из кодера\n",
        "      predictions, dec_hidden, _ = decoder(dec_input, dec_hidden, enc_output) # Получаем от декодера предсказание и обновленное состояние\n",
        "      # Обновляем ошибку для текущих предсказаний\n",
        "      loss += loss_function(targ[:, t], predictions)\n",
        "\n",
        "      # Используем \"Teacher forcing\"\n",
        "      dec_input = tf.expand_dims(targ[:, t], 1)\n",
        "\n",
        "  batch_loss = (loss / int(targ.shape[1])) # Получаем ошибку на батче . Targ.shape[64, 9]. Делим на 9\n",
        "\n",
        "  variables = encoder.trainable_variables + decoder.trainable_variables # создаем переменные, для которых TensorFlow будет вычислять градиенты\n",
        "\n",
        "  gradients = tape.gradient(loss, variables) #отслеживаем градиент\n",
        "  \n",
        "  optimizer.apply_gradients(zip(gradients, variables)) #оптимизируем веса\n",
        "\n",
        "  return batch_loss #функция обучения вернет ошибку на батче"
      ],
      "execution_count": 34,
      "outputs": []
    },
    {
      "cell_type": "code",
      "metadata": {
        "id": "rGp1zTuWCU8q"
      },
      "source": [
        "######################\n",
        "# Запуск обучения\n",
        "######################\n",
        "EPOCHS = 30 #устанавливаем количество эпох"
      ],
      "execution_count": 35,
      "outputs": []
    },
    {
      "cell_type": "code",
      "metadata": {
        "colab": {
          "base_uri": "https://localhost:8080/"
        },
        "id": "mnPj0NOICXXI",
        "outputId": "c5129cc4-82c7-4ccb-8962-5f170d60275e"
      },
      "source": [
        "for epoch in range(EPOCHS): #на каждой эпохе\n",
        "  start = time.time() #включаем счетчик времени\n",
        "\n",
        "  enc_hidden = encoder.initialize_hidden_state() #задаем начальное состояние на скрытом слое encodera\n",
        "  total_loss = 0 #начальное значение итоговой ошибки\n",
        "\n",
        "  # Для батча, входного и выходного тензора на каждом шаге эпохи\n",
        "  for (batch, (inp, targ)) in enumerate(dataset.take(steps_per_epoch)):\n",
        "    batch_loss = train_step(inp, targ, enc_hidden) #передадим в функцию тензоры и состояние в кодировщике, обучим и получим ошибку на батче\n",
        "    total_loss += batch_loss #добавим ее в итоговую ошибку\n",
        "\n",
        "  # Каждые 10 эпох будем сохранять чекпоинты\n",
        "  if (epoch + 1) % 10 == 0:\n",
        "    checkpoint.save(file_prefix = checkpoint_prefix)\n",
        "  # Выведем показатели после каждой эпохи\n",
        "  print('Эпоха {}/{} Ошибка {:.4f}'.format(epoch + 1, EPOCHS, total_loss / steps_per_epoch))\n",
        "  print('Время на 1 эпоху {} сек\\n'.format(round(time.time() - start), 1))"
      ],
      "execution_count": 36,
      "outputs": [
        {
          "output_type": "stream",
          "name": "stdout",
          "text": [
            "Эпоха 1/30 Ошибка 0.8337\n",
            "Время на 1 эпоху 1025 сек\n",
            "\n",
            "Эпоха 2/30 Ошибка 0.5414\n",
            "Время на 1 эпоху 957 сек\n",
            "\n",
            "Эпоха 3/30 Ошибка 0.3588\n",
            "Время на 1 эпоху 956 сек\n",
            "\n",
            "Эпоха 4/30 Ошибка 0.2346\n",
            "Время на 1 эпоху 956 сек\n",
            "\n",
            "Эпоха 5/30 Ошибка 0.1606\n",
            "Время на 1 эпоху 956 сек\n",
            "\n",
            "Эпоха 6/30 Ошибка 0.1233\n",
            "Время на 1 эпоху 956 сек\n",
            "\n",
            "Эпоха 7/30 Ошибка 0.1019\n",
            "Время на 1 эпоху 955 сек\n",
            "\n",
            "Эпоха 8/30 Ошибка 0.0868\n",
            "Время на 1 эпоху 956 сек\n",
            "\n",
            "Эпоха 9/30 Ошибка 0.0758\n",
            "Время на 1 эпоху 956 сек\n",
            "\n",
            "Эпоха 10/30 Ошибка 0.0688\n",
            "Время на 1 эпоху 959 сек\n",
            "\n",
            "Эпоха 11/30 Ошибка 0.0634\n",
            "Время на 1 эпоху 956 сек\n",
            "\n",
            "Эпоха 12/30 Ошибка 0.0590\n",
            "Время на 1 эпоху 957 сек\n",
            "\n",
            "Эпоха 13/30 Ошибка 0.0561\n",
            "Время на 1 эпоху 956 сек\n",
            "\n",
            "Эпоха 14/30 Ошибка 0.0533\n",
            "Время на 1 эпоху 956 сек\n",
            "\n",
            "Эпоха 15/30 Ошибка 0.0513\n",
            "Время на 1 эпоху 955 сек\n",
            "\n",
            "Эпоха 16/30 Ошибка 0.0497\n",
            "Время на 1 эпоху 955 сек\n",
            "\n",
            "Эпоха 17/30 Ошибка 0.0478\n",
            "Время на 1 эпоху 947 сек\n",
            "\n",
            "Эпоха 18/30 Ошибка 0.0462\n",
            "Время на 1 эпоху 948 сек\n",
            "\n",
            "Эпоха 19/30 Ошибка 0.0449\n",
            "Время на 1 эпоху 948 сек\n",
            "\n",
            "Эпоха 20/30 Ошибка 0.0444\n",
            "Время на 1 эпоху 949 сек\n",
            "\n",
            "Эпоха 21/30 Ошибка 0.0432\n",
            "Время на 1 эпоху 949 сек\n",
            "\n",
            "Эпоха 22/30 Ошибка 0.0419\n",
            "Время на 1 эпоху 947 сек\n",
            "\n",
            "Эпоха 23/30 Ошибка 0.0415\n",
            "Время на 1 эпоху 948 сек\n",
            "\n",
            "Эпоха 24/30 Ошибка 0.0407\n",
            "Время на 1 эпоху 949 сек\n",
            "\n",
            "Эпоха 25/30 Ошибка 0.0401\n",
            "Время на 1 эпоху 947 сек\n",
            "\n",
            "Эпоха 26/30 Ошибка 0.0397\n",
            "Время на 1 эпоху 945 сек\n",
            "\n",
            "Эпоха 27/30 Ошибка 0.0388\n",
            "Время на 1 эпоху 947 сек\n",
            "\n",
            "Эпоха 28/30 Ошибка 0.0388\n",
            "Время на 1 эпоху 948 сек\n",
            "\n",
            "Эпоха 29/30 Ошибка 0.0376\n",
            "Время на 1 эпоху 947 сек\n",
            "\n",
            "Эпоха 30/30 Ошибка 0.0379\n",
            "Время на 1 эпоху 947 сек\n",
            "\n"
          ]
        }
      ]
    },
    {
      "cell_type": "code",
      "metadata": {
        "id": "qIh_TJQqCdOK"
      },
      "source": [
        "######################\n",
        "# Функция запуска и оценки модели переводчика\n",
        "######################\n",
        "def evaluate(sentence):\n",
        "    attention_plot = np.zeros((max_length_targ, max_length_inp)) # создаем начальные настройки графика внимания\n",
        "\n",
        "    sentence = preprocess_sentence(sentence) #предобрабатываем предложение\n",
        "\n",
        "    #inputs = [inp_lang_tokenizer.word_index[i] for i in sentence.split(' ')] #преобразовываем в послед-ть индексов\n",
        "    inputs = []\n",
        "    for i in sentence.split(' '):\n",
        "      try:\n",
        "        ind_inp = inp_lang_tokenizer.word_index[i]\n",
        "        inputs.append(ind_inp)\n",
        "      except:\n",
        "        #ind_inp = \" \"\n",
        "        print( f\"В словаре нет слова '{i}'\")\n",
        "      \n",
        "\n",
        "    inputs = pad_sequences([inputs], maxlen=max_length_inp, padding='post') # делаем паддинг\n",
        "    inputs = tf.convert_to_tensor(inputs) #конвертируем в тф тензор\n",
        "\n",
        "    result = '' #сюда запишем результат\n",
        "\n",
        "    hidden = [tf.zeros((1, units))] #задаем начальное состояние\n",
        "    enc_out, enc_hidden = encoder(inputs, hidden) #передаем его и входной тензор и получаем выход с кодера и состояние\n",
        "\n",
        "    dec_hidden = enc_hidden #состояние кодера передаем в декодер\n",
        "    dec_input = tf.expand_dims([targ_lang_tokenizer.word_index['<start>']], 0) #передаем на вход декодеру <start> в виде индекса\n",
        "\n",
        "    for t in range(max_length_targ): #идем по макс.длине фраз выходного языка(анг)\n",
        "        # Прогоняем через декодер входящий тензор, состояние с выхода кодера, выход с кодера\n",
        "        # Получаем результат предсказания, обновленное состояние, и веса внимания\n",
        "        predictions, dec_hidden, attention_weights = decoder(dec_input, dec_hidden, enc_out)\n",
        "\n",
        "        # Сохраняем веса внимания для графика\n",
        "        attention_weights = tf.reshape(attention_weights, (-1, ))\n",
        "        attention_plot[t] = attention_weights.numpy()\n",
        "        # Аргмаксом вытаскиваем предсказанное слово\n",
        "        predicted_id = tf.argmax(predictions[0]).numpy()\n",
        "        # Результат конвертируем из индекса в слово и ложим в result = ''\n",
        "        result += targ_lang_tokenizer.index_word[predicted_id] + ' '\n",
        "        # Если предсказанное слово - <end>, то останавливаемся, возвращаем результаты, выводим на графике\n",
        "        if targ_lang_tokenizer.index_word[predicted_id] == '<end>':\n",
        "            return result, sentence, attention_plot\n",
        "\n",
        "        # предсказанное значение подается обратно в модель\n",
        "        dec_input = tf.expand_dims([predicted_id], 0)\n",
        "\n",
        "    return result, sentence, attention_plot"
      ],
      "execution_count": 37,
      "outputs": []
    },
    {
      "cell_type": "code",
      "metadata": {
        "id": "u91XHRwhDVkj"
      },
      "source": [
        "# Создаем функцию для построение плота с весами внимания\n",
        "def plot_attention(attention, sentence, predicted_sentence):\n",
        "    fig = plt.figure(figsize=(10,10))\n",
        "    ax = fig.add_subplot(1, 1, 1)\n",
        "    ax.matshow(attention, cmap='viridis')\n",
        "\n",
        "    fontdict = {'fontsize': 14}\n",
        "\n",
        "    ax.set_xticklabels([''] + sentence, fontdict=fontdict, rotation=90)\n",
        "    ax.set_yticklabels([''] + predicted_sentence, fontdict=fontdict)\n",
        "\n",
        "    ax.xaxis.set_major_locator(ticker.MultipleLocator(1))\n",
        "    ax.yaxis.set_major_locator(ticker.MultipleLocator(1))\n",
        "\n",
        "    plt.show()"
      ],
      "execution_count": 38,
      "outputs": []
    },
    {
      "cell_type": "code",
      "metadata": {
        "id": "Wictd4NRDYbk"
      },
      "source": [
        "def translate(sentence): # функция принимает предложение и выводит результат с визуализацией\n",
        "    result, sentence, attention_plot = evaluate(sentence)\n",
        "\n",
        "    print('Входящая фраза: %s' % (sentence))\n",
        "    print('Предсказанный перевод: {}'.format(result))\n",
        "\n",
        "    attention_plot = attention_plot[:len(result.split(' ')), :len(sentence.split(' '))]\n",
        "    plot_attention(attention_plot, sentence.split(' '), result.split(' '))"
      ],
      "execution_count": 39,
      "outputs": []
    },
    {
      "cell_type": "code",
      "metadata": {
        "id": "qszuCxa-Da1y",
        "colab": {
          "base_uri": "https://localhost:8080/",
          "height": 525
        },
        "outputId": "161a2fdc-865b-4b80-960b-7b920818b395"
      },
      "source": [
        "translate('How are you ?')"
      ],
      "execution_count": 40,
      "outputs": [
        {
          "output_type": "stream",
          "name": "stdout",
          "text": [
            "В словаре нет слова 'How'\n",
            "Входящая фраза: <start> How are you ? <end>\n",
            "Предсказанный перевод: ты ? <end> \n"
          ]
        },
        {
          "output_type": "display_data",
          "data": {
            "image/png": "[encoded data removed]",
            "text/plain": [
              "<Figure size 720x720 with 1 Axes>"
            ]
          },
          "metadata": {
            "needs_background": "light"
          }
        }
      ]
    },
    {
      "cell_type": "code",
      "metadata": {
        "id": "d4YbKwvwJPbY",
        "colab": {
          "base_uri": "https://localhost:8080/",
          "height": 587
        },
        "outputId": "31d4433f-50a7-4d31-e6c8-9b0cda691b1f"
      },
      "source": [
        "translate('There is a cat on the table')"
      ],
      "execution_count": 41,
      "outputs": [
        {
          "output_type": "stream",
          "name": "stdout",
          "text": [
            "В словаре нет слова 'There'\n",
            "Входящая фраза: <start> There is a cat on the table <end>\n",
            "Предсказанный перевод: это кот на столе . <end> \n"
          ]
        },
        {
          "output_type": "display_data",
          "data": {
            "image/png": "[encoded data removed]",
            "text/plain": [
              "<Figure size 720x720 with 1 Axes>"
            ]
          },
          "metadata": {
            "needs_background": "light"
          }
        }
      ]
    },
    {
      "cell_type": "code",
      "metadata": {
        "colab": {
          "base_uri": "https://localhost:8080/",
          "height": 631
        },
        "id": "WXa47YIS2AFF",
        "outputId": "5b356bc2-6895-4c95-c16c-e10b937b1b11"
      },
      "source": [
        "translate(\"Where are you from ?\")"
      ],
      "execution_count": 42,
      "outputs": [
        {
          "output_type": "stream",
          "name": "stdout",
          "text": [
            "В словаре нет слова 'Where'\n",
            "Входящая фраза: <start> Where are you from ? <end>\n",
            "Предсказанный перевод: вы из америки ? <end> \n"
          ]
        },
        {
          "output_type": "display_data",
          "data": {
            "image/png": "[encoded data removed]",
            "text/plain": [
              "<Figure size 720x720 with 1 Axes>"
            ]
          },
          "metadata": {
            "needs_background": "light"
          }
        }
      ]
    },
    {
      "cell_type": "code",
      "metadata": {
        "colab": {
          "base_uri": "https://localhost:8080/",
          "height": 543
        },
        "id": "rjuyzV1F2Kp-",
        "outputId": "bcd87e03-37a9-4961-ddda-447364ecdbb5"
      },
      "source": [
        "translate(\"For once in my life I'm doing a good deed... \")"
      ],
      "execution_count": 43,
      "outputs": [
        {
          "output_type": "stream",
          "name": "stdout",
          "text": [
            "В словаре нет слова 'For'\n",
            "В словаре нет слова 'I'm'\n",
            "Входящая фраза: <start> For once in my life I'm doing a good deed . . . <end>\n",
            "Предсказанный перевод: раз в жизни говорит на хорошем состоянии . <end> \n"
          ]
        },
        {
          "output_type": "display_data",
          "data": {
            "image/png": "[encoded data removed]",
            "text/plain": [
              "<Figure size 720x720 with 1 Axes>"
            ]
          },
          "metadata": {
            "needs_background": "light"
          }
        }
      ]
    },
    {
      "cell_type": "code",
      "metadata": {
        "id": "DoyKVpOn2jMd"
      },
      "source": [
        ""
      ],
      "execution_count": null,
      "outputs": []
    }
  ]
}