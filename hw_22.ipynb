{
  "nbformat": 4,
  "nbformat_minor": 0,
  "metadata": {
    "colab": {
      "name": "Копия блокнота \"TensorFlow #2\"",
      "provenance": [],
      "collapsed_sections": [],
      "include_colab_link": true
    },
    "kernelspec": {
      "name": "python3",
      "display_name": "Python 3"
    },
    "accelerator": "GPU",
    "widgets": {
      "application/vnd.jupyter.widget-state+json": {
        "79323f99f18244e59ac192914368a547": {
          "model_module": "@jupyter-widgets/controls",
          "model_name": "HBoxModel",
          "model_module_version": "1.5.0",
          "state": {
            "_view_name": "HBoxView",
            "_dom_classes": [],
            "_model_name": "HBoxModel",
            "_view_module": "@jupyter-widgets/controls",
            "_model_module_version": "1.5.0",
            "_view_count": null,
            "_view_module_version": "1.5.0",
            "box_style": "",
            "layout": "IPY_MODEL_bb91935410754682b906cb496ac4ea49",
            "_model_module": "@jupyter-widgets/controls",
            "children": [
              "IPY_MODEL_cb7d74dee8aa41dabf30150c3a7955c1",
              "IPY_MODEL_581f02f049da4018836a9dbed80c11df",
              "IPY_MODEL_8e2080e4cc784b288c6025ffd9132903"
            ]
          }
        },
        "bb91935410754682b906cb496ac4ea49": {
          "model_module": "@jupyter-widgets/base",
          "model_name": "LayoutModel",
          "model_module_version": "1.2.0",
          "state": {
            "_view_name": "LayoutView",
            "grid_template_rows": null,
            "right": null,
            "justify_content": null,
            "_view_module": "@jupyter-widgets/base",
            "overflow": null,
            "_model_module_version": "1.2.0",
            "_view_count": null,
            "flex_flow": null,
            "width": null,
            "min_width": null,
            "border": null,
            "align_items": null,
            "bottom": null,
            "_model_module": "@jupyter-widgets/base",
            "top": null,
            "grid_column": null,
            "overflow_y": null,
            "overflow_x": null,
            "grid_auto_flow": null,
            "grid_area": null,
            "grid_template_columns": null,
            "flex": null,
            "_model_name": "LayoutModel",
            "justify_items": null,
            "grid_row": null,
            "max_height": null,
            "align_content": null,
            "visibility": null,
            "align_self": null,
            "height": null,
            "min_height": null,
            "padding": null,
            "grid_auto_rows": null,
            "grid_gap": null,
            "max_width": null,
            "order": null,
            "_view_module_version": "1.2.0",
            "grid_template_areas": null,
            "object_position": null,
            "object_fit": null,
            "grid_auto_columns": null,
            "margin": null,
            "display": null,
            "left": null
          }
        },
        "cb7d74dee8aa41dabf30150c3a7955c1": {
          "model_module": "@jupyter-widgets/controls",
          "model_name": "HTMLModel",
          "model_module_version": "1.5.0",
          "state": {
            "_view_name": "HTMLView",
            "style": "IPY_MODEL_fa0de813a1bf4b1ea178cd4686856668",
            "_dom_classes": [],
            "description": "",
            "_model_name": "HTMLModel",
            "placeholder": "​",
            "_view_module": "@jupyter-widgets/controls",
            "_model_module_version": "1.5.0",
            "value": "Эпоха 1/10: 100%",
            "_view_count": null,
            "_view_module_version": "1.5.0",
            "description_tooltip": null,
            "_model_module": "@jupyter-widgets/controls",
            "layout": "IPY_MODEL_bafd9990523d4440a0d018ce0fa24085"
          }
        },
        "581f02f049da4018836a9dbed80c11df": {
          "model_module": "@jupyter-widgets/controls",
          "model_name": "FloatProgressModel",
          "model_module_version": "1.5.0",
          "state": {
            "_view_name": "ProgressView",
            "style": "IPY_MODEL_9f6f0f33f23f4a0eb32b044f3e7b68ac",
            "_dom_classes": [],
            "description": "",
            "_model_name": "FloatProgressModel",
            "bar_style": "success",
            "max": 600,
            "_view_module": "@jupyter-widgets/controls",
            "_model_module_version": "1.5.0",
            "value": 600,
            "_view_count": null,
            "_view_module_version": "1.5.0",
            "orientation": "horizontal",
            "min": 0,
            "description_tooltip": null,
            "_model_module": "@jupyter-widgets/controls",
            "layout": "IPY_MODEL_8b1ec7ee863b4c158bb11d780a585fc1"
          }
        },
        "8e2080e4cc784b288c6025ffd9132903": {
          "model_module": "@jupyter-widgets/controls",
          "model_name": "HTMLModel",
          "model_module_version": "1.5.0",
          "state": {
            "_view_name": "HTMLView",
            "style": "IPY_MODEL_df5d9eef426e46af9a323f7aab47134a",
            "_dom_classes": [],
            "description": "",
            "_model_name": "HTMLModel",
            "placeholder": "​",
            "_view_module": "@jupyter-widgets/controls",
            "_model_module_version": "1.5.0",
            "value": "8 c",
            "_view_count": null,
            "_view_module_version": "1.5.0",
            "description_tooltip": null,
            "_model_module": "@jupyter-widgets/controls",
            "layout": "IPY_MODEL_b349c8a20b5c4d398e267357f99c292a"
          }
        },
        "fa0de813a1bf4b1ea178cd4686856668": {
          "model_module": "@jupyter-widgets/controls",
          "model_name": "DescriptionStyleModel",
          "model_module_version": "1.5.0",
          "state": {
            "_view_name": "StyleView",
            "_model_name": "DescriptionStyleModel",
            "description_width": "",
            "_view_module": "@jupyter-widgets/base",
            "_model_module_version": "1.5.0",
            "_view_count": null,
            "_view_module_version": "1.2.0",
            "_model_module": "@jupyter-widgets/controls"
          }
        },
        "bafd9990523d4440a0d018ce0fa24085": {
          "model_module": "@jupyter-widgets/base",
          "model_name": "LayoutModel",
          "model_module_version": "1.2.0",
          "state": {
            "_view_name": "LayoutView",
            "grid_template_rows": null,
            "right": null,
            "justify_content": null,
            "_view_module": "@jupyter-widgets/base",
            "overflow": null,
            "_model_module_version": "1.2.0",
            "_view_count": null,
            "flex_flow": null,
            "width": null,
            "min_width": null,
            "border": null,
            "align_items": null,
            "bottom": null,
            "_model_module": "@jupyter-widgets/base",
            "top": null,
            "grid_column": null,
            "overflow_y": null,
            "overflow_x": null,
            "grid_auto_flow": null,
            "grid_area": null,
            "grid_template_columns": null,
            "flex": null,
            "_model_name": "LayoutModel",
            "justify_items": null,
            "grid_row": null,
            "max_height": null,
            "align_content": null,
            "visibility": null,
            "align_self": null,
            "height": null,
            "min_height": null,
            "padding": null,
            "grid_auto_rows": null,
            "grid_gap": null,
            "max_width": null,
            "order": null,
            "_view_module_version": "1.2.0",
            "grid_template_areas": null,
            "object_position": null,
            "object_fit": null,
            "grid_auto_columns": null,
            "margin": null,
            "display": null,
            "left": null
          }
        },
        "9f6f0f33f23f4a0eb32b044f3e7b68ac": {
          "model_module": "@jupyter-widgets/controls",
          "model_name": "ProgressStyleModel",
          "model_module_version": "1.5.0",
          "state": {
            "_view_name": "StyleView",
            "_model_name": "ProgressStyleModel",
            "description_width": "",
            "_view_module": "@jupyter-widgets/base",
            "_model_module_version": "1.5.0",
            "_view_count": null,
            "_view_module_version": "1.2.0",
            "bar_color": null,
            "_model_module": "@jupyter-widgets/controls"
          }
        },
        "8b1ec7ee863b4c158bb11d780a585fc1": {
          "model_module": "@jupyter-widgets/base",
          "model_name": "LayoutModel",
          "model_module_version": "1.2.0",
          "state": {
            "_view_name": "LayoutView",
            "grid_template_rows": null,
            "right": null,
            "justify_content": null,
            "_view_module": "@jupyter-widgets/base",
            "overflow": null,
            "_model_module_version": "1.2.0",
            "_view_count": null,
            "flex_flow": null,
            "width": null,
            "min_width": null,
            "border": null,
            "align_items": null,
            "bottom": null,
            "_model_module": "@jupyter-widgets/base",
            "top": null,
            "grid_column": null,
            "overflow_y": null,
            "overflow_x": null,
            "grid_auto_flow": null,
            "grid_area": null,
            "grid_template_columns": null,
            "flex": null,
            "_model_name": "LayoutModel",
            "justify_items": null,
            "grid_row": null,
            "max_height": null,
            "align_content": null,
            "visibility": null,
            "align_self": null,
            "height": null,
            "min_height": null,
            "padding": null,
            "grid_auto_rows": null,
            "grid_gap": null,
            "max_width": null,
            "order": null,
            "_view_module_version": "1.2.0",
            "grid_template_areas": null,
            "object_position": null,
            "object_fit": null,
            "grid_auto_columns": null,
            "margin": null,
            "display": null,
            "left": null
          }
        },
        "df5d9eef426e46af9a323f7aab47134a": {
          "model_module": "@jupyter-widgets/controls",
          "model_name": "DescriptionStyleModel",
          "model_module_version": "1.5.0",
          "state": {
            "_view_name": "StyleView",
            "_model_name": "DescriptionStyleModel",
            "description_width": "",
            "_view_module": "@jupyter-widgets/base",
            "_model_module_version": "1.5.0",
            "_view_count": null,
            "_view_module_version": "1.2.0",
            "_model_module": "@jupyter-widgets/controls"
          }
        },
        "b349c8a20b5c4d398e267357f99c292a": {
          "model_module": "@jupyter-widgets/base",
          "model_name": "LayoutModel",
          "model_module_version": "1.2.0",
          "state": {
            "_view_name": "LayoutView",
            "grid_template_rows": null,
            "right": null,
            "justify_content": null,
            "_view_module": "@jupyter-widgets/base",
            "overflow": null,
            "_model_module_version": "1.2.0",
            "_view_count": null,
            "flex_flow": null,
            "width": null,
            "min_width": null,
            "border": null,
            "align_items": null,
            "bottom": null,
            "_model_module": "@jupyter-widgets/base",
            "top": null,
            "grid_column": null,
            "overflow_y": null,
            "overflow_x": null,
            "grid_auto_flow": null,
            "grid_area": null,
            "grid_template_columns": null,
            "flex": null,
            "_model_name": "LayoutModel",
            "justify_items": null,
            "grid_row": null,
            "max_height": null,
            "align_content": null,
            "visibility": null,
            "align_self": null,
            "height": null,
            "min_height": null,
            "padding": null,
            "grid_auto_rows": null,
            "grid_gap": null,
            "max_width": null,
            "order": null,
            "_view_module_version": "1.2.0",
            "grid_template_areas": null,
            "object_position": null,
            "object_fit": null,
            "grid_auto_columns": null,
            "margin": null,
            "display": null,
            "left": null
          }
        }
      }
    }
  },
  "cells": [
    {
      "cell_type": "markdown",
      "metadata": {
        "id": "view-in-github",
        "colab_type": "text"
      },
      "source": [
        "<a href=\"https://colab.research.google.com/github/ssv273/Neural_Univesity/blob/main/hw_22.ipynb\" target=\"_parent\"><img src=\"https://colab.research.google.com/assets/colab-badge.svg\" alt=\"Open In Colab\"/></a>"
      ]
    },
    {
      "cell_type": "markdown",
      "metadata": {
        "id": "ASv-k4FEP_8S"
      },
      "source": [
        "# **Полносвязная нейронная сеть**\n",
        "\n",
        "*Разбор данного раздела:* https://youtu.be/lP2k--9i7Ug?t=139\n",
        "\n"
      ]
    },
    {
      "cell_type": "code",
      "metadata": {
        "id": "iczH7mSwP1W5"
      },
      "source": [
        "import tensorflow as tf #Импортируем tensorflow\n",
        "import datetime, os #Для подсчета времени и работы с файловой системой\n",
        "import numpy as np #Для работы с матрицами \n",
        "from tensorflow.keras import utils #Для работы с категориальными данными \n",
        "import sys #Для специльного вывода\n",
        "import matplotlib.pyplot as plt #Для виузализации \n",
        "import random #Для генерации случайных чисел \n",
        "from tqdm.notebook import tqdm"
      ],
      "execution_count": 1,
      "outputs": []
    },
    {
      "cell_type": "markdown",
      "metadata": {
        "id": "8RgclOSLQqZJ"
      },
      "source": [
        "**Универсальная функция для формирования датасета**\n",
        "\n",
        "*Разбор данного раздела:* https://youtu.be/lP2k--9i7Ug?t=167\n",
        "\n"
      ]
    },
    {
      "cell_type": "code",
      "metadata": {
        "id": "2Vndx6fRQp3K"
      },
      "source": [
        "#Функция формирования датсета mnist \n",
        "#flatten - вытягивание картинки из формы 28, 28 в 784\n",
        "def data_mnist(flatten = True):\n",
        "  #Скачивааем датасет \n",
        "  (X_train, y_train), (X_test, y_test) = tf.keras.datasets.mnist.load_data()\n",
        "    \n",
        "  if flatten:#Для полносвязной сети  \n",
        "    X_train = X_train.reshape(-1, 784)\n",
        "    X_test = X_test.reshape(-1, 784)\n",
        "  else: #Для сверточной сети \n",
        "    X_train = X_train.reshape(-1, 28, 28, 1)\n",
        "    X_test = X_test.reshape(-1, 28, 28, 1)\n",
        "  #Первеодим во float\n",
        "  X_train = X_train.astype('float32')\n",
        "  X_test = X_test.astype('float32')\n",
        "  #Переводим все значения в диапазон от 0 до 1\n",
        "  X_train /= 255\n",
        "  X_test /= 255\n",
        "\n",
        "  print('Форма x_train:', X_train.shape)\n",
        "  print(X_train.shape[0], 'обучающих примеров')\n",
        "  print(X_test.shape[0], 'проверочных примеров')\n",
        "  #Переводим в OneHot\n",
        "  y_train = utils.to_categorical(y_train, 10).astype(np.float32)\n",
        "  y_test = utils.to_categorical(y_test, 10).astype(np.float32)\n",
        "  #Возвращаем датасет\n",
        "  return X_train, y_train, X_test, y_test #Возвращаем датасет "
      ],
      "execution_count": 2,
      "outputs": []
    },
    {
      "cell_type": "markdown",
      "metadata": {
        "id": "OPmOkzdfJ9a6"
      },
      "source": [
        "*Разбор данного раздела:* https://youtu.be/lP2k--9i7Ug?t=648"
      ]
    },
    {
      "cell_type": "markdown",
      "metadata": {
        "id": "KR0hcUZImxgD"
      },
      "source": [
        "**Загрузка данных**\n",
        "\n"
      ]
    },
    {
      "cell_type": "code",
      "metadata": {
        "id": "k_RF7RpEQ5sx",
        "colab": {
          "base_uri": "https://localhost:8080/"
        },
        "outputId": "ebd2d56d-458f-4ec0-94d5-bd2802f361c0"
      },
      "source": [
        "x_train, y_train, x_test, y_test = data_mnist() #Загружаем датасет "
      ],
      "execution_count": 3,
      "outputs": [
        {
          "output_type": "stream",
          "name": "stdout",
          "text": [
            "Форма x_train: (60000, 784)\n",
            "60000 обучающих примеров\n",
            "10000 проверочных примеров\n"
          ]
        }
      ]
    },
    {
      "cell_type": "markdown",
      "metadata": {
        "id": "fs02pgecQ7rW"
      },
      "source": [
        "**Параметры обучения и оптимизации**"
      ]
    },
    {
      "cell_type": "code",
      "metadata": {
        "id": "MQR_hRJcQ625"
      },
      "source": [
        "learningRate = 0.5\n",
        "epochs = 10\n",
        "batchSize = 100"
      ],
      "execution_count": 4,
      "outputs": []
    },
    {
      "cell_type": "markdown",
      "metadata": {
        "id": "xOHgmTEbm2tv"
      },
      "source": [
        "**Тренируемые параметры**\n",
        "\n"
      ]
    },
    {
      "cell_type": "code",
      "metadata": {
        "id": "Bx2TG5tjTwyp"
      },
      "source": [
        "trainableParams = [] #Лист тренируемых параметров\n",
        "# Объявляем веса, W1\n",
        "trainableParams.append(tf.Variable(tf.random.normal([784, 300], stddev=0.03), name='W1')) #300 размер скрытого слоя, инциалзириуем значения\n",
        "\n",
        "# Используя нормальное распределение со средним ноль и статистическим отклонением 0.03, определяем bias(Аналогичная есть у numpy)\n",
        "trainableParams.append(tf.Variable(tf.random.normal([300], stddev=0.03), name='b1'))\n",
        "\n",
        "# То же делаем для весов и bias(отклонения) от скрытого к выходному\n",
        "trainableParams.append(tf.Variable(tf.random.normal([300, 10], stddev=0.03), name='W2'))\n",
        "trainableParams.append(tf.Variable(tf.random.normal([10]), name='b2'))"
      ],
      "execution_count": 5,
      "outputs": []
    },
    {
      "cell_type": "code",
      "metadata": {
        "id": "hERkriMDRBLz"
      },
      "source": [
        "#Функция подсчета ошибки\n",
        "def loss(pred , target):\n",
        "    return tf.losses.categorical_crossentropy(target , pred)"
      ],
      "execution_count": 6,
      "outputs": []
    },
    {
      "cell_type": "code",
      "metadata": {
        "id": "XJ-VrWV_RB1v"
      },
      "source": [
        "#Полносвязный слой с несколькими функциями активации\n",
        "def dense(x , params):\n",
        "    W1 = params[0]\n",
        "    b1 = params[1]\n",
        "    W2 = params[2]\n",
        "    b2 = params[3]\n",
        "\n",
        "    #a @ b - аналог tf.matmul(a, b)\n",
        "    hiddenOut = tf.nn.relu(x@W1+b1) #Умножаем вход на веса W1, прибавляем b1 и применяем функцию активации relu\n",
        "    y = tf.nn.softmax(hiddenOut@W2+b2) #Умножаем выход скрытого слоя на веса W2, прибавляем b2 и применяем функцию активации softmax\n",
        "    return y"
      ],
      "execution_count": 7,
      "outputs": []
    },
    {
      "cell_type": "code",
      "metadata": {
        "id": "d2LeDDs_RyD9"
      },
      "source": [
        "#Модель \n",
        "def model(x):\n",
        "    y = dense(x, trainableParams)\n",
        "    return y \n"
      ],
      "execution_count": 8,
      "outputs": []
    },
    {
      "cell_type": "code",
      "metadata": {
        "id": "NeeRAPT1Rtxy",
        "colab": {
          "base_uri": "https://localhost:8080/"
        },
        "outputId": "ba786597-78e0-4f65-9f28-7313efbb8388"
      },
      "source": [
        "#Посмотрим, какой выход у модели, если на вход подать случайную картинку \n",
        "model(x_train[[1]]) #Смотрим вывод сети для первого изображения из MNIST"
      ],
      "execution_count": 9,
      "outputs": [
        {
          "output_type": "execute_result",
          "data": {
            "text/plain": [
              "<tf.Tensor: shape=(1, 10), dtype=float32, numpy=\n",
              "array([[0.08538685, 0.3148806 , 0.0327628 , 0.05977216, 0.09715238,\n",
              "        0.08591279, 0.12750764, 0.05598448, 0.11360694, 0.0270333 ]],\n",
              "      dtype=float32)>"
            ]
          },
          "metadata": {},
          "execution_count": 9
        }
      ]
    },
    {
      "cell_type": "code",
      "metadata": {
        "id": "L3ENT9j5WDTW"
      },
      "source": [
        "#Функция для информативного вывода обучения\n",
        "#На вход получает:\n",
        "# current - номер текущего батча\n",
        "# amount - число всех батчей \n",
        "# params - словарь дополнительных параметров для вывода \n",
        "\n",
        "def print_log(current, amount, params):\n",
        "  #Мы будем выводить прогрессбар, подобный прогрессбару при обучении нейронных сетей на Keras\n",
        "  #Формат прогрессбара 23/120 [=====>------------------------]\n",
        "  \n",
        "  bar_len = 30 #Длина бара \n",
        "  percent = int(bar_len * current / amount) #Процент выполненной работы\n",
        "  progressbar = ''\n",
        "\n",
        "  for i in range(bar_len): #Проходим по всем элементам прогрессбара и добавляем символы в соответсвии с прогресом \n",
        "    if(i < percent):\n",
        "      progressbar += '='\n",
        "    elif(i == percent):\n",
        "      progressbar += '>'\n",
        "    else:\n",
        "      progressbar += '-'\n",
        "\n",
        "  #Добавялем в финальное сообщение символ переноса коретки консоли на начальную строку, добавляпем информацию о номере батча\n",
        "  #количестве всех батчей, прогрессбар\n",
        "  #Символ переноса коретки \\r добавляется для того, чтобы каждый новый батч перезаписывать вывод. Таким образом вывод не будет засоряться повторяющейся информацией\n",
        "  message = \"\\r\" + str(current) + '/' + str(amount) + ' [' + progressbar + ']  ' \n",
        "  #Добавляем дополнительные параметры в вывод\n",
        "  for key in params:\n",
        "    message += key + str(params[key]) + '. '\n",
        "  \n",
        "  #Выводим информацию аналогом print. Используется именно эта функция, так как она позволяет осуществлять перенос каретки \n",
        "  sys.stdout.write(message)\n",
        "  #Очищаем буфер вывода\n",
        "  sys.stdout.flush()"
      ],
      "execution_count": 10,
      "outputs": []
    },
    {
      "cell_type": "code",
      "metadata": {
        "id": "o3FY0QRpTa1r"
      },
      "source": [
        "optimizer = tf.keras.optimizers.SGD(learning_rate=learningRate) #Задаем оптимизатор \n",
        "m = tf.keras.metrics.Accuracy() #Задаем метрику\n",
        "\n",
        "def train(model, inputs, outputs): #Функция тренировки сети \n",
        "\n",
        "    with tf.GradientTape() as tape:\n",
        "      current_loss = tf.reduce_mean(loss(model(inputs), outputs)) #Считаем ошибку\n",
        "\n",
        "      # Градиентный спуск. Инициализируем через learning rate\n",
        "      # Функция реализует градиентный спуск и обратное распространение ошибки.\n",
        "      grads = tape.gradient(current_loss , trainableParams)\n",
        "      #Применение градиентного спуска\n",
        "      optimizer.apply_gradients(zip(grads , trainableParams))\n",
        "      #Подсчет точности сети \n",
        "      _ = m.update_state(np.argmax(outputs, axis=1), np.argmax(model(inputs), axis=1))\n",
        "    return current_loss, m.result().numpy()"
      ],
      "execution_count": 11,
      "outputs": []
    },
    {
      "cell_type": "code",
      "metadata": {
        "id": "flwDnYKsZL4v"
      },
      "source": [
        "!rm -R /tmp/mylogs/eager #Очищаем папку с записанной информацией обучения (если код запускается не в первый раз)"
      ],
      "execution_count": 12,
      "outputs": []
    },
    {
      "cell_type": "code",
      "metadata": {
        "id": "MDKGa1IyXUwp",
        "colab": {
          "base_uri": "https://localhost:8080/",
          "height": 700,
          "referenced_widgets": [
            "79323f99f18244e59ac192914368a547",
            "bb91935410754682b906cb496ac4ea49",
            "cb7d74dee8aa41dabf30150c3a7955c1",
            "581f02f049da4018836a9dbed80c11df",
            "8e2080e4cc784b288c6025ffd9132903",
            "fa0de813a1bf4b1ea178cd4686856668",
            "bafd9990523d4440a0d018ce0fa24085",
            "9f6f0f33f23f4a0eb32b044f3e7b68ac",
            "8b1ec7ee863b4c158bb11d780a585fc1",
            "df5d9eef426e46af9a323f7aab47134a",
            "b349c8a20b5c4d398e267357f99c292a"
          ]
        },
        "outputId": "fe08263f-029c-4d52-ebf5-26774815de02"
      },
      "source": [
        "path = '/tmp/mylogs/eager/' #Указываем путь для сохранения даных для Tensorboard\n",
        "\n",
        "current_time = datetime.datetime.now().strftime(\"%Y%m%d-%H%M%S\") #Получаем информацию о текущем времени для добавления данной информации к имени  \n",
        "loss_log_dir = path + current_time + '/data' #Создаем папку с именем из текущего времени\n",
        "loss_summary_writer = tf.summary.create_file_writer(loss_log_dir) #Создаем средство записи файла резюме для данного каталога\n",
        "\n",
        "amount_bathces = int(len(x_train) / batchSize) #Считаем число батчей для каждой эпохи. Понадобится для вывода\n",
        "\n",
        "with loss_summary_writer.as_default(): #Используя созданное средство для записи файла в резюме \n",
        " \n",
        "  for epoch in range(1, epochs + 1): #Проходим по каждой эпохе\n",
        "    learningEpochStartTime = datetime.datetime.now() #Запоминаем время начала эпохи \n",
        "    # print('Эпоха', epoch , '/', epochs) #Пишем текущую эпоху и общее число эпох\n",
        "    avg_loss = 0 #Задаем среднюю ошибку\n",
        "\n",
        "    for batch in tqdm(range(0, len(x_train), batchSize), desc=f'Эпоха {epoch}/{epochs}', bar_format='{l_bar}{bar}{elapsed_s:.0f} c'): #Проходим по x_train с шагом batchSize\n",
        "      current_loss, accuracy = train(model, x_train[batch: batch + batchSize], y_train[batch: batch + batchSize]) #Тренируем сеть и получаем значение ошибки\n",
        "      avg_loss += current_loss #Считаем среднюю ошибку\n",
        "\n",
        "      #Задаем параметры, которые будем выводить \n",
        "      params = {'Время обучения на эпохе: ': datetime.datetime.now() - learningEpochStartTime, #Считаем время обучения на данной эпохе и добавляем в словарь\n",
        "                'loss: ': round(current_loss.numpy(), 4), #Переводим ошибку в Numpy и добавляем в словарь\n",
        "                'accuracy: ': round(accuracy, 4)} #Добавляем точность в словарь\n",
        "      if(batch >= len(x_train) - batchSize): #На последнем батче\n",
        "        params['loss: '] = round((avg_loss / amount_bathces).numpy(), 4) #Выводим среднюю ошибку на всей эпохе\n",
        "\n",
        "      current_batch = int(batch / batchSize) + 1 #Считаем номер текущего батча\n",
        "    #   print_log(current_batch, amount_bathces, params) #Выводим всю нужную информацию \n",
        "    print(f\"loss : {params['loss: ']:.4f}              accuracy: {params['accuracy: ']:.4f}\")\n",
        "    tf.summary.scalar(\"avg_loss\", avg_loss, step=epoch) #Сохраняем данные для Tensorboard\n",
        "    tf.summary.scalar(\"accuracy\", accuracy, step=epoch) #Сохраняем данные для Tensorboard\n",
        "    loss_summary_writer.flush() #Очищаем буфер вывода \n",
        "    print() #Вручную переносим каретку на следующую строку, чтобы не стирать финальные значения сети на эпохе"
      ],
      "execution_count": 13,
      "outputs": [
        {
          "output_type": "display_data",
          "data": {
            "application/vnd.jupyter.widget-view+json": {
              "model_id": "79323f99f18244e59ac192914368a547",
              "version_minor": 0,
              "version_major": 2
            },
            "text/plain": [
              "Эпоха 1/10:   0%|          0 c"
            ]
          },
          "metadata": {}
        },
        {
          "output_type": "stream",
          "name": "stdout",
          "text": [
            "loss : 0.2938              accuracy: 0.9528\n",
            "\n"
          ]
        },
        {
          "output_type": "display_data",
          "data": {
            "application/vnd.jupyter.widget-view+json": {
              "model_id": "8743bbc76f0540618a68e4a72468cdef",
              "version_minor": 0,
              "version_major": 2
            },
            "text/plain": [
              "Эпоха 2/10:   0%|          0 c"
            ]
          },
          "metadata": {}
        },
        {
          "output_type": "stream",
          "name": "stdout",
          "text": [
            "loss : 0.1150              accuracy: 0.9718\n",
            "\n"
          ]
        },
        {
          "output_type": "display_data",
          "data": {
            "application/vnd.jupyter.widget-view+json": {
              "model_id": "1de5eb3c113e44f7a8ff9defb54c99b2",
              "version_minor": 0,
              "version_major": 2
            },
            "text/plain": [
              "Эпоха 3/10:   0%|          0 c"
            ]
          },
          "metadata": {}
        },
        {
          "output_type": "stream",
          "name": "stdout",
          "text": [
            "loss : 0.0777              accuracy: 0.9798\n",
            "\n"
          ]
        },
        {
          "output_type": "display_data",
          "data": {
            "application/vnd.jupyter.widget-view+json": {
              "model_id": "1d4c23419d0a4f4e9b355192fdd3b173",
              "version_minor": 0,
              "version_major": 2
            },
            "text/plain": [
              "Эпоха 4/10:   0%|          0 c"
            ]
          },
          "metadata": {}
        },
        {
          "output_type": "stream",
          "name": "stdout",
          "text": [
            "loss : 0.0573              accuracy: 0.9844\n",
            "\n"
          ]
        },
        {
          "output_type": "display_data",
          "data": {
            "application/vnd.jupyter.widget-view+json": {
              "model_id": "6f379e74c16d457e8e0791cf0f1fa3eb",
              "version_minor": 0,
              "version_major": 2
            },
            "text/plain": [
              "Эпоха 5/10:   0%|          0 c"
            ]
          },
          "metadata": {}
        },
        {
          "output_type": "stream",
          "name": "stdout",
          "text": [
            "loss : 0.0438              accuracy: 0.9873\n",
            "\n"
          ]
        },
        {
          "output_type": "display_data",
          "data": {
            "application/vnd.jupyter.widget-view+json": {
              "model_id": "5a4261751f104392860ddcf2f994754d",
              "version_minor": 0,
              "version_major": 2
            },
            "text/plain": [
              "Эпоха 6/10:   0%|          0 c"
            ]
          },
          "metadata": {}
        },
        {
          "output_type": "stream",
          "name": "stdout",
          "text": [
            "loss : 0.0340              accuracy: 0.9893\n",
            "\n"
          ]
        },
        {
          "output_type": "display_data",
          "data": {
            "application/vnd.jupyter.widget-view+json": {
              "model_id": "1b77cb7620fd4f3383a4e9e55b144740",
              "version_minor": 0,
              "version_major": 2
            },
            "text/plain": [
              "Эпоха 7/10:   0%|          0 c"
            ]
          },
          "metadata": {}
        },
        {
          "output_type": "stream",
          "name": "stdout",
          "text": [
            "loss : 0.0266              accuracy: 0.9908\n",
            "\n"
          ]
        },
        {
          "output_type": "display_data",
          "data": {
            "application/vnd.jupyter.widget-view+json": {
              "model_id": "a6cb42c18fce42b2addd1bf82a59adf9",
              "version_minor": 0,
              "version_major": 2
            },
            "text/plain": [
              "Эпоха 8/10:   0%|          0 c"
            ]
          },
          "metadata": {}
        },
        {
          "output_type": "stream",
          "name": "stdout",
          "text": [
            "loss : 0.0209              accuracy: 0.9919\n",
            "\n"
          ]
        },
        {
          "output_type": "display_data",
          "data": {
            "application/vnd.jupyter.widget-view+json": {
              "model_id": "7f022cfa79a14b3d8ba2e1c7a6e8211b",
              "version_minor": 0,
              "version_major": 2
            },
            "text/plain": [
              "Эпоха 9/10:   0%|          0 c"
            ]
          },
          "metadata": {}
        },
        {
          "output_type": "stream",
          "name": "stdout",
          "text": [
            "loss : 0.0166              accuracy: 0.9928\n",
            "\n"
          ]
        },
        {
          "output_type": "display_data",
          "data": {
            "application/vnd.jupyter.widget-view+json": {
              "model_id": "66c7b9152a624a9283b22a0f2a43aa34",
              "version_minor": 0,
              "version_major": 2
            },
            "text/plain": [
              "Эпоха 10/10:   0%|          0 c"
            ]
          },
          "metadata": {}
        },
        {
          "output_type": "stream",
          "name": "stdout",
          "text": [
            "loss : 0.0133              accuracy: 0.9935\n",
            "\n"
          ]
        }
      ]
    }
  ]
}