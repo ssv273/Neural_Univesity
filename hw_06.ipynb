{
  "nbformat": 4,
  "nbformat_minor": 0,
  "metadata": {
    "colab": {
      "name": "Untitled39.ipynb",
      "provenance": [],
      "collapsed_sections": [],
      "authorship_tag": "ABX9TyPJamXL7mmjJV+Xea0vsf7h",
      "include_colab_link": true
    },
    "kernelspec": {
      "name": "python3",
      "display_name": "Python 3"
    },
    "language_info": {
      "name": "python"
    },
    "accelerator": "GPU"
  },
  "cells": [
    {
      "cell_type": "markdown",
      "metadata": {
        "id": "view-in-github",
        "colab_type": "text"
      },
      "source": [
        "<a href=\"https://colab.research.google.com/github/ssv273/Neural_Univesity/blob/main/hw_06.ipynb\" target=\"_parent\"><img src=\"https://colab.research.google.com/assets/colab-badge.svg\" alt=\"Open In Colab\"/></a>"
      ]
    },
    {
      "cell_type": "code",
      "metadata": {
        "id": "g74_WwUIYR7t"
      },
      "source": [
        " ! pip install -q kaggle\n",
        " from google.colab import files "
      ],
      "execution_count": null,
      "outputs": []
    },
    {
      "cell_type": "code",
      "metadata": {
        "id": "-40cviSfYdZp"
      },
      "source": [
        "files.upload()"
      ],
      "execution_count": null,
      "outputs": []
    },
    {
      "cell_type": "code",
      "metadata": {
        "id": "JjPtn8bxYgH5"
      },
      "source": [
        "! mkdir ~/.kaggle \n",
        "! cp kaggle.json ~/.kaggle/\n",
        "! chmod 600 ~/.kaggle/kaggle.json"
      ],
      "execution_count": null,
      "outputs": []
    },
    {
      "cell_type": "code",
      "metadata": {
        "colab": {
          "base_uri": "https://localhost:8080/"
        },
        "id": "XLuLC_ntaDKv",
        "outputId": "c1709a87-d613-4e2a-91d4-f468af7dd917"
      },
      "source": [
        "!kaggle datasets download -d astronautelvis/kc-house-data\n",
        "! mkdir Data\n",
        "! unzip kc-house-data.zip -d Data"
      ],
      "execution_count": null,
      "outputs": [
        {
          "output_type": "stream",
          "text": [
            "Downloading kc-house-data.zip to /content\n",
            "\r  0% 0.00/812k [00:00<?, ?B/s]\n",
            "\r100% 812k/812k [00:00<00:00, 53.7MB/s]\n",
            "Archive:  kc-house-data.zip\n",
            "  inflating: Data/kc_final.csv       \n"
          ],
          "name": "stdout"
        }
      ]
    },
    {
      "cell_type": "code",
      "metadata": {
        "id": "z3q-0diMbCxI"
      },
      "source": [
        "import numpy as np #Библиотека работы с массивами\n",
        "import pandas as pd # Библиотека для работы с базами\n",
        "\n",
        "from tensorflow.keras.models import Sequential, Model # \n",
        "from tensorflow.keras.layers import concatenate, Input, Dense, Dropout, BatchNormalization, Flatten #\n",
        "from tensorflow.keras import utils #Используем для to_categoricall\n",
        "from tensorflow.keras.optimizers import Adam,Adadelta,SGD,Adagrad,RMSprop #\n",
        "from tensorflow.keras.preprocessing.text import Tokenizer, text_to_word_sequence #\n",
        "from tensorflow.keras.preprocessing.sequence import pad_sequences #\n",
        "from tensorflow.keras.callbacks import LambdaCallback # подключаем колбэки\n",
        "\n",
        "from sklearn.preprocessing import StandardScaler # \n",
        "from sklearn.model_selection import train_test_split # Для разбивки на выборки\n",
        "from sklearn.metrics import mean_squared_error, mean_absolute_error #\n",
        "#from google.colab import files #Для загрузки своей картинки\n",
        "\n",
        "import random #Для генерации случайных чисел \n",
        "import math # Для округления\n",
        "#import os #Для работы с файлами \n",
        "import re #\n",
        "from tqdm import tqdm\n",
        "tqdm.pandas()\n",
        "import matplotlib.pyplot as plt #\n",
        "%matplotlib inline\n",
        "\n",
        "from IPython.display import clear_output\n"
      ],
      "execution_count": null,
      "outputs": []
    },
    {
      "cell_type": "code",
      "metadata": {
        "colab": {
          "base_uri": "https://localhost:8080/",
          "height": 132
        },
        "id": "JChlo_ggbDae",
        "outputId": "172e3e9f-0b2c-4f4e-df66-a720b145fcb0"
      },
      "source": [
        "df = pd.read_csv(\"/content/Data/kc_final.csv\", index_col=0)\n",
        "df.head(2)"
      ],
      "execution_count": null,
      "outputs": [
        {
          "output_type": "execute_result",
          "data": {
            "text/html": [
              "<div>\n",
              "<style scoped>\n",
              "    .dataframe tbody tr th:only-of-type {\n",
              "        vertical-align: middle;\n",
              "    }\n",
              "\n",
              "    .dataframe tbody tr th {\n",
              "        vertical-align: top;\n",
              "    }\n",
              "\n",
              "    .dataframe thead th {\n",
              "        text-align: right;\n",
              "    }\n",
              "</style>\n",
              "<table border=\"1\" class=\"dataframe\">\n",
              "  <thead>\n",
              "    <tr style=\"text-align: right;\">\n",
              "      <th></th>\n",
              "      <th>id</th>\n",
              "      <th>date</th>\n",
              "      <th>price</th>\n",
              "      <th>bedrooms</th>\n",
              "      <th>bathrooms</th>\n",
              "      <th>sqft_living</th>\n",
              "      <th>sqft_lot</th>\n",
              "      <th>floors</th>\n",
              "      <th>waterfront</th>\n",
              "      <th>view</th>\n",
              "      <th>condition</th>\n",
              "      <th>grade</th>\n",
              "      <th>sqft_above</th>\n",
              "      <th>sqft_basement</th>\n",
              "      <th>yr_built</th>\n",
              "      <th>yr_renovated</th>\n",
              "      <th>zipcode</th>\n",
              "      <th>lat</th>\n",
              "      <th>long</th>\n",
              "      <th>sqft_living15</th>\n",
              "      <th>sqft_lot15</th>\n",
              "    </tr>\n",
              "  </thead>\n",
              "  <tbody>\n",
              "    <tr>\n",
              "      <th>0</th>\n",
              "      <td>7129300520</td>\n",
              "      <td>2014-10-13</td>\n",
              "      <td>221900.0</td>\n",
              "      <td>3</td>\n",
              "      <td>1.00</td>\n",
              "      <td>1180</td>\n",
              "      <td>5650</td>\n",
              "      <td>1.0</td>\n",
              "      <td>0</td>\n",
              "      <td>0</td>\n",
              "      <td>3</td>\n",
              "      <td>7</td>\n",
              "      <td>1180</td>\n",
              "      <td>0</td>\n",
              "      <td>1955</td>\n",
              "      <td>0</td>\n",
              "      <td>98178</td>\n",
              "      <td>47.5112</td>\n",
              "      <td>-122.257</td>\n",
              "      <td>1340</td>\n",
              "      <td>5650</td>\n",
              "    </tr>\n",
              "    <tr>\n",
              "      <th>1</th>\n",
              "      <td>6414100192</td>\n",
              "      <td>2014-12-09</td>\n",
              "      <td>538000.0</td>\n",
              "      <td>3</td>\n",
              "      <td>2.25</td>\n",
              "      <td>2570</td>\n",
              "      <td>7242</td>\n",
              "      <td>2.0</td>\n",
              "      <td>0</td>\n",
              "      <td>0</td>\n",
              "      <td>3</td>\n",
              "      <td>7</td>\n",
              "      <td>2170</td>\n",
              "      <td>400</td>\n",
              "      <td>1951</td>\n",
              "      <td>1991</td>\n",
              "      <td>98125</td>\n",
              "      <td>47.7210</td>\n",
              "      <td>-122.319</td>\n",
              "      <td>1690</td>\n",
              "      <td>7639</td>\n",
              "    </tr>\n",
              "  </tbody>\n",
              "</table>\n",
              "</div>"
            ],
            "text/plain": [
              "           id        date     price  ...     long  sqft_living15  sqft_lot15\n",
              "0  7129300520  2014-10-13  221900.0  ... -122.257           1340        5650\n",
              "1  6414100192  2014-12-09  538000.0  ... -122.319           1690        7639\n",
              "\n",
              "[2 rows x 21 columns]"
            ]
          },
          "metadata": {},
          "execution_count": 6
        }
      ]
    },
    {
      "cell_type": "code",
      "metadata": {
        "colab": {
          "base_uri": "https://localhost:8080/"
        },
        "id": "IuR00vBrbYkc",
        "outputId": "c4b3e097-431b-4f3b-eee7-7d84210461ee"
      },
      "source": [
        "df.shape"
      ],
      "execution_count": null,
      "outputs": [
        {
          "output_type": "execute_result",
          "data": {
            "text/plain": [
              "(21613, 21)"
            ]
          },
          "metadata": {},
          "execution_count": 7
        }
      ]
    },
    {
      "cell_type": "markdown",
      "metadata": {
        "id": "EWV8uEk4nT1v"
      },
      "source": [
        "# Categorical features"
      ]
    },
    {
      "cell_type": "markdown",
      "metadata": {
        "id": "4FMs5J2Jcb40"
      },
      "source": [
        "bedrooms"
      ]
    },
    {
      "cell_type": "code",
      "metadata": {
        "id": "WwVMaxZqbuBF",
        "colab": {
          "base_uri": "https://localhost:8080/"
        },
        "outputId": "5fb78a1a-8ecd-4b73-a8c4-1717bfd2bc13"
      },
      "source": [
        "df['bedrooms'].value_counts().shape[0]"
      ],
      "execution_count": null,
      "outputs": [
        {
          "output_type": "execute_result",
          "data": {
            "text/plain": [
              "13"
            ]
          },
          "metadata": {},
          "execution_count": 8
        }
      ]
    },
    {
      "cell_type": "code",
      "metadata": {
        "id": "YNlTgS-ij4wH"
      },
      "source": [
        "def get_bedrooms(data):\n",
        "    num_classes = df['bedrooms'].value_counts().shape[0]\n",
        "    return list(utils.to_categorical(max(0, min(12,data)), num_classes).astype('int'))"
      ],
      "execution_count": null,
      "outputs": []
    },
    {
      "cell_type": "markdown",
      "metadata": {
        "id": "UPPc3ZyAkwu5"
      },
      "source": [
        "bathrooms"
      ]
    },
    {
      "cell_type": "code",
      "metadata": {
        "id": "q7mO3AQpmBpq"
      },
      "source": [
        "def get_bathrooms(data):\n",
        "    num_classes = 10\n",
        "    outClass = int(data + 0.5)\n",
        "    return list(utils.to_categorical(max(0, min(12,outClass)), num_classes).astype('int'))"
      ],
      "execution_count": null,
      "outputs": []
    },
    {
      "cell_type": "markdown",
      "metadata": {
        "id": "tMceZqzvm-EB"
      },
      "source": [
        "floors"
      ]
    },
    {
      "cell_type": "code",
      "metadata": {
        "id": "-H-fA3fanij8"
      },
      "source": [
        "def get_floors(data):\n",
        "    num_classes = 5\n",
        "    outClass = int(data + 0.5)\n",
        "    return list(utils.to_categorical(max(0, min(12,outClass)), num_classes).astype('int'))"
      ],
      "execution_count": null,
      "outputs": []
    },
    {
      "cell_type": "markdown",
      "metadata": {
        "id": "FZFaFYJ6oHVQ"
      },
      "source": [
        "waterfront"
      ]
    },
    {
      "cell_type": "code",
      "metadata": {
        "id": "HOR5-hm-oTLl"
      },
      "source": [
        "def get_waterfront(data):\n",
        "    out = [0,0]\n",
        "    out[data] = 1\n",
        "    return out"
      ],
      "execution_count": null,
      "outputs": []
    },
    {
      "cell_type": "markdown",
      "metadata": {
        "id": "i3hagIkQozJg"
      },
      "source": [
        "condition"
      ]
    },
    {
      "cell_type": "code",
      "metadata": {
        "id": "QuTy79LOpm4X"
      },
      "source": [
        "def get_condition(data):\n",
        "    out = list(np.zeros(df['condition'].max(), dtype='int'))\n",
        "    out[data - 1] = 1\n",
        "    return out"
      ],
      "execution_count": null,
      "outputs": []
    },
    {
      "cell_type": "markdown",
      "metadata": {
        "id": "UyNtJJppp_sI"
      },
      "source": [
        "grade"
      ]
    },
    {
      "cell_type": "code",
      "metadata": {
        "id": "oiigNrdoqmVI"
      },
      "source": [
        "def get_grade(data):\n",
        "    out = list(np.zeros(df['grade'].max(), dtype='int'))\n",
        "    out[data - 1] = 1\n",
        "    return out"
      ],
      "execution_count": null,
      "outputs": []
    },
    {
      "cell_type": "markdown",
      "metadata": {
        "id": "pL0ZN44jrTqy"
      },
      "source": [
        "yr_built"
      ]
    },
    {
      "cell_type": "code",
      "metadata": {
        "id": "KZcDzJMErfTI"
      },
      "source": [
        "def get_yr_built(data):\n",
        "    build_age = int((2015 - data) / 10)\n",
        "    out = list(np.zeros(12, dtype='int'))\n",
        "    out[build_age] = 1\n",
        "    return out"
      ],
      "execution_count": null,
      "outputs": []
    },
    {
      "cell_type": "markdown",
      "metadata": {
        "id": "i-y59-K3syTa"
      },
      "source": [
        "yr_renovated"
      ]
    },
    {
      "cell_type": "code",
      "metadata": {
        "id": "8zRyqhtJtCTe"
      },
      "source": [
        "def get_yr_renovated(data):\n",
        "    return [0, 1] if data > 0 else [0, 0]"
      ],
      "execution_count": null,
      "outputs": []
    },
    {
      "cell_type": "markdown",
      "metadata": {
        "id": "5jkl6Wyhz7gI"
      },
      "source": [
        "view"
      ]
    },
    {
      "cell_type": "code",
      "metadata": {
        "id": "r8ExeCJGz8mS"
      },
      "source": [
        "def get_view(data):\n",
        "    out = list(np.zeros(5, dtype='int'))\n",
        "    out[data] = 1\n",
        "    return out"
      ],
      "execution_count": null,
      "outputs": []
    },
    {
      "cell_type": "markdown",
      "metadata": {
        "id": "v--rbv2otnLy"
      },
      "source": [
        "# continuous features"
      ]
    },
    {
      "cell_type": "markdown",
      "metadata": {
        "id": "Xa-IuHIatwnI"
      },
      "source": [
        "sqft_living, sqft_lot, sqft_above, sqft_basement, sqft_living15, sqft_lot15"
      ]
    },
    {
      "cell_type": "code",
      "metadata": {
        "id": "U_EDSCUJtoza"
      },
      "source": [
        "sqft_living_scaler = StandardScaler()\n",
        "df['sqft_living_scaled'] = sqft_living_scaler.fit_transform(df['sqft_living'].values.reshape(-1, 1))\n"
      ],
      "execution_count": null,
      "outputs": []
    },
    {
      "cell_type": "code",
      "metadata": {
        "id": "D7ToaPV8xty8"
      },
      "source": [
        "sqft_lot_scaler = StandardScaler()\n",
        "df['sqft_lot_scaled'] = sqft_lot_scaler.fit_transform(df['sqft_lot'].values.reshape(-1, 1))"
      ],
      "execution_count": null,
      "outputs": []
    },
    {
      "cell_type": "code",
      "metadata": {
        "id": "OQwLCWU8yH_1"
      },
      "source": [
        "sqft_above_scaler = StandardScaler()\n",
        "df['sqft_above_scaled'] = sqft_above_scaler.fit_transform(df['sqft_above'].values.reshape(-1, 1))"
      ],
      "execution_count": null,
      "outputs": []
    },
    {
      "cell_type": "code",
      "metadata": {
        "id": "me0ppiscyVLR"
      },
      "source": [
        "sqft_basement_scaler = StandardScaler()\n",
        "df['sqft_basement_scaled'] = sqft_basement_scaler.fit_transform(df['sqft_basement'].values.reshape(-1, 1))"
      ],
      "execution_count": null,
      "outputs": []
    },
    {
      "cell_type": "code",
      "metadata": {
        "id": "elhRPQ6GyK_6"
      },
      "source": [
        "lat_scaler = StandardScaler()\n",
        "df['lat_scaled'] = lat_scaler.fit_transform(df['lat'].values.reshape(-1, 1))"
      ],
      "execution_count": null,
      "outputs": []
    },
    {
      "cell_type": "code",
      "metadata": {
        "id": "V9GfjAr7y0yC"
      },
      "source": [
        "long_scaler = StandardScaler()\n",
        "df['long_scaled'] = long_scaler.fit_transform(df['long'].values.reshape(-1, 1))"
      ],
      "execution_count": null,
      "outputs": []
    },
    {
      "cell_type": "code",
      "metadata": {
        "id": "RohTKEZkzA3F"
      },
      "source": [
        "sqft_living15_scaler = StandardScaler()\n",
        "df['sqft_living15_scaled'] = sqft_living15_scaler.fit_transform(df['sqft_living15'].values.reshape(-1, 1))"
      ],
      "execution_count": null,
      "outputs": []
    },
    {
      "cell_type": "code",
      "metadata": {
        "id": "fum9Iu2zzNTK"
      },
      "source": [
        "sqft_lot15_scaler = StandardScaler()\n",
        "df['sqft_lot15_scaled'] = sqft_lot15_scaler.fit_transform(df['sqft_lot15'].values.reshape(-1, 1))"
      ],
      "execution_count": null,
      "outputs": []
    },
    {
      "cell_type": "markdown",
      "metadata": {
        "id": "4ZofFwJu1LHD"
      },
      "source": [
        "# create dataset"
      ]
    },
    {
      "cell_type": "code",
      "metadata": {
        "id": "A_Ui-pc5zUcs"
      },
      "source": [
        "cat_cols = ['bedrooms', 'bathrooms', 'floors', 'waterfront', 'view', 'condition', 'grade', 'yr_built', 'yr_renovated']\n",
        "cont_cols = ['sqft_living_scaled', 'sqft_lot_scaled', 'sqft_above_scaled', 'sqft_basement_scaled', 'lat_scaled', 'long_scaled', 'sqft_living15_scaled',\n",
        "       'sqft_lot15_scaled']"
      ],
      "execution_count": null,
      "outputs": []
    },
    {
      "cell_type": "code",
      "metadata": {
        "id": "9VAaceQw1SHL"
      },
      "source": [
        "def create_vector(row):\n",
        "    bedrooms = get_bedrooms(row['bedrooms'])\n",
        "    bathrooms = get_bathrooms(row['bathrooms'])\n",
        "    floors = get_floors(row['floors'])\n",
        "    waterfront = get_waterfront(row['waterfront'])\n",
        "    view = get_view(row['view'])\n",
        "    condition = get_condition(row['condition'])\n",
        "    grade = get_grade(row['grade'])\n",
        "    yr_built = get_yr_built(row['yr_built'])\n",
        "    yr_renovated = get_yr_renovated(row['yr_renovated'])\n",
        "\n",
        "    out = []\n",
        "    out += bedrooms\n",
        "    out += bathrooms\n",
        "    out += floors\n",
        "    out += waterfront\n",
        "    out += view\n",
        "    out += condition\n",
        "    out += grade\n",
        "    out += yr_built\n",
        "    out += yr_renovated\n",
        "\n",
        "    for col in cont_cols:\n",
        "        out.append(row[col])\n",
        "\n",
        "    return np.array(out)\n"
      ],
      "execution_count": null,
      "outputs": []
    },
    {
      "cell_type": "code",
      "metadata": {
        "colab": {
          "base_uri": "https://localhost:8080/"
        },
        "id": "h4Tw7ROo3FWE",
        "outputId": "bc06b629-bf0f-4129-f25d-90fdb97c1caf"
      },
      "source": [
        "df['res'] = df.progress_apply(create_vector, axis=1)"
      ],
      "execution_count": null,
      "outputs": [
        {
          "output_type": "stream",
          "text": [
            "100%|██████████| 21613/21613 [00:20<00:00, 1057.35it/s]\n"
          ],
          "name": "stderr"
        }
      ]
    },
    {
      "cell_type": "code",
      "metadata": {
        "id": "Q3UgGe1R1R0v"
      },
      "source": [
        "x_train = pd.DataFrame.from_records(df['res'].values).values"
      ],
      "execution_count": null,
      "outputs": []
    },
    {
      "cell_type": "code",
      "metadata": {
        "id": "2d6ANck41RyG"
      },
      "source": [
        "y_train = (df['price']).values"
      ],
      "execution_count": null,
      "outputs": []
    },
    {
      "cell_type": "code",
      "metadata": {
        "colab": {
          "base_uri": "https://localhost:8080/"
        },
        "id": "Vv3KN0Xt5PB5",
        "outputId": "62ab415e-128f-42f1-9d41-22cc56028aa3"
      },
      "source": [
        "# Размер набора параметров \n",
        "print(x_train.shape) \n",
        "print(y_train.shape)\n",
        "# Пример обработанных данных\n",
        "n = 0 \n",
        "print(x_train[n])\n",
        "print(y_train[n])"
      ],
      "execution_count": null,
      "outputs": [
        {
          "output_type": "stream",
          "text": [
            "(21613, 75)\n",
            "(21613,)\n",
            "[ 0.          0.          0.          1.          0.          0.\n",
            "  0.          0.          0.          0.          0.          0.\n",
            "  0.          0.          1.          0.          0.          0.\n",
            "  0.          0.          0.          0.          0.          0.\n",
            "  1.          0.          0.          0.          1.          0.\n",
            "  1.          0.          0.          0.          0.          0.\n",
            "  0.          1.          0.          0.          0.          0.\n",
            "  0.          0.          0.          0.          1.          0.\n",
            "  0.          0.          0.          0.          0.          0.\n",
            "  0.          0.          0.          0.          0.          1.\n",
            "  0.          0.          0.          0.          0.          0.\n",
            "  0.         -0.97983502 -0.22832133 -0.73470764 -0.65868104 -0.35257175\n",
            " -0.30607896 -0.9433552  -0.26071541]\n",
            "221900.0\n"
          ],
          "name": "stdout"
        }
      ]
    },
    {
      "cell_type": "code",
      "metadata": {
        "id": "I0ZWT4tZ7Cza"
      },
      "source": [
        ""
      ],
      "execution_count": null,
      "outputs": []
    },
    {
      "cell_type": "markdown",
      "metadata": {
        "id": "Q2ODs_pJ9iVv"
      },
      "source": [
        "Нейронка без стандартизации таргета"
      ]
    },
    {
      "cell_type": "code",
      "metadata": {
        "colab": {
          "base_uri": "https://localhost:8080/",
          "height": 1000
        },
        "id": "RtoN4vVD5O-x",
        "outputId": "4833ca37-4324-4f6a-aa69-8433d80fae92"
      },
      "source": [
        "# Обучаем модель полученными данными\n",
        "model = Sequential()\n",
        "model.add(BatchNormalization(input_shape=(x_train.shape[1],)))\n",
        "model.add(Dense(128, activation='relu'))\n",
        "model.add(Dense(1000, activation='tanh'))\n",
        "model.add(Dense(100, activation='relu'))\n",
        "model.add(Dense(1, activation='linear'))\n",
        "\n",
        "model.compile(optimizer=Adam(lr=1e-5), loss='mse', metrics=['mae'])\n",
        "\n",
        "history = model.fit(x_train, \n",
        "                    y_train, \n",
        "                    epochs=100, \n",
        "                    batch_size=32,\n",
        "                    validation_split=0.15, \n",
        "                    verbose=2)\n",
        "\n",
        "plt.plot(history.history['mae'], \n",
        "         label='Средняя абсолютная ошибка на обучающем наборе')\n",
        "plt.plot(history.history['val_mae'], \n",
        "         label='Средняя абсолютная ошибка на проверочном наборе')\n",
        "plt.xlabel('Эпоха обучения')\n",
        "plt.ylabel('Средняя абсолютная ошибка')\n",
        "plt.legend()\n",
        "plt.show()"
      ],
      "execution_count": null,
      "outputs": [
        {
          "output_type": "stream",
          "text": [
            "/usr/local/lib/python3.7/dist-packages/keras/optimizer_v2/optimizer_v2.py:356: UserWarning: The `lr` argument is deprecated, use `learning_rate` instead.\n",
            "  \"The `lr` argument is deprecated, use `learning_rate` instead.\")\n"
          ],
          "name": "stderr"
        },
        {
          "output_type": "stream",
          "text": [
            "Epoch 1/100\n",
            "575/575 - 5s - loss: 417462255616.0000 - mae: 533245.6875 - val_loss: 477446144000.0000 - val_mae: 578796.8750\n",
            "Epoch 2/100\n",
            "575/575 - 1s - loss: 417421262848.0000 - mae: 533210.8750 - val_loss: 477371891712.0000 - val_mae: 578737.8750\n",
            "Epoch 3/100\n",
            "575/575 - 1s - loss: 417343471616.0000 - mae: 533142.4375 - val_loss: 477272440832.0000 - val_mae: 578654.3125\n",
            "Epoch 4/100\n",
            "575/575 - 1s - loss: 417250869248.0000 - mae: 533056.9375 - val_loss: 477170434048.0000 - val_mae: 578565.3750\n",
            "Epoch 5/100\n",
            "575/575 - 1s - loss: 417156235264.0000 - mae: 532967.5000 - val_loss: 477070950400.0000 - val_mae: 578477.5000\n",
            "Epoch 6/100\n",
            "575/575 - 1s - loss: 417063469056.0000 - mae: 532878.3125 - val_loss: 476973924352.0000 - val_mae: 578391.9375\n",
            "Epoch 7/100\n",
            "575/575 - 1s - loss: 416972308480.0000 - mae: 532790.6875 - val_loss: 476877291520.0000 - val_mae: 578306.7500\n",
            "Epoch 8/100\n",
            "575/575 - 1s - loss: 416881508352.0000 - mae: 532704.1250 - val_loss: 476780068864.0000 - val_mae: 578221.6875\n",
            "Epoch 9/100\n",
            "575/575 - 1s - loss: 416790282240.0000 - mae: 532617.3125 - val_loss: 476681175040.0000 - val_mae: 578135.1875\n",
            "Epoch 10/100\n",
            "575/575 - 1s - loss: 416697221120.0000 - mae: 532529.0000 - val_loss: 476579495936.0000 - val_mae: 578047.0000\n",
            "Epoch 11/100\n",
            "575/575 - 1s - loss: 416601735168.0000 - mae: 532439.1875 - val_loss: 476475260928.0000 - val_mae: 577956.3750\n",
            "Epoch 12/100\n",
            "575/575 - 1s - loss: 416503595008.0000 - mae: 532346.8125 - val_loss: 476367454208.0000 - val_mae: 577862.6875\n",
            "Epoch 13/100\n",
            "575/575 - 1s - loss: 416402833408.0000 - mae: 532251.2500 - val_loss: 476255944704.0000 - val_mae: 577766.1250\n",
            "Epoch 14/100\n",
            "575/575 - 1s - loss: 416298074112.0000 - mae: 532152.7500 - val_loss: 476141191168.0000 - val_mae: 577666.6250\n",
            "Epoch 15/100\n",
            "575/575 - 1s - loss: 416190758912.0000 - mae: 532052.0000 - val_loss: 476022669312.0000 - val_mae: 577563.9375\n",
            "Epoch 16/100\n",
            "575/575 - 1s - loss: 416079609856.0000 - mae: 531947.8125 - val_loss: 475900084224.0000 - val_mae: 577457.8125\n",
            "Epoch 17/100\n",
            "575/575 - 1s - loss: 415965151232.0000 - mae: 531839.7500 - val_loss: 475774124032.0000 - val_mae: 577348.7500\n",
            "Epoch 18/100\n",
            "575/575 - 2s - loss: 415846989824.0000 - mae: 531728.8750 - val_loss: 475644231680.0000 - val_mae: 577236.1250\n",
            "Epoch 19/100\n",
            "575/575 - 1s - loss: 415725584384.0000 - mae: 531614.5625 - val_loss: 475510210560.0000 - val_mae: 577120.1250\n",
            "Epoch 20/100\n",
            "575/575 - 1s - loss: 415600738304.0000 - mae: 531496.7500 - val_loss: 475372912640.0000 - val_mae: 577001.2500\n",
            "Epoch 21/100\n",
            "575/575 - 1s - loss: 415472517120.0000 - mae: 531376.1250 - val_loss: 475231518720.0000 - val_mae: 576878.5625\n",
            "Epoch 22/100\n",
            "575/575 - 1s - loss: 415340363776.0000 - mae: 531252.0000 - val_loss: 475086290944.0000 - val_mae: 576752.6250\n",
            "Epoch 23/100\n",
            "575/575 - 1s - loss: 415204442112.0000 - mae: 531124.3750 - val_loss: 474936967168.0000 - val_mae: 576623.2500\n",
            "Epoch 24/100\n",
            "575/575 - 1s - loss: 415065669632.0000 - mae: 530992.7500 - val_loss: 474784104448.0000 - val_mae: 576490.5000\n",
            "Epoch 25/100\n",
            "575/575 - 1s - loss: 414922997760.0000 - mae: 530858.8750 - val_loss: 474627538944.0000 - val_mae: 576354.5625\n",
            "Epoch 26/100\n",
            "575/575 - 1s - loss: 414776819712.0000 - mae: 530721.8125 - val_loss: 474466680832.0000 - val_mae: 576215.1875\n",
            "Epoch 27/100\n",
            "575/575 - 1s - loss: 414627069952.0000 - mae: 530580.3125 - val_loss: 474302251008.0000 - val_mae: 576072.5000\n",
            "Epoch 28/100\n",
            "575/575 - 1s - loss: 414473945088.0000 - mae: 530436.1250 - val_loss: 474134315008.0000 - val_mae: 575926.5000\n",
            "Epoch 29/100\n",
            "575/575 - 1s - loss: 414317576192.0000 - mae: 530288.5625 - val_loss: 473962217472.0000 - val_mae: 575777.3750\n",
            "Epoch 30/100\n",
            "575/575 - 1s - loss: 414157340672.0000 - mae: 530137.1875 - val_loss: 473786515456.0000 - val_mae: 575624.7500\n",
            "Epoch 31/100\n",
            "575/575 - 1s - loss: 413993730048.0000 - mae: 529983.3750 - val_loss: 473607274496.0000 - val_mae: 575468.9375\n",
            "Epoch 32/100\n",
            "575/575 - 1s - loss: 413826809856.0000 - mae: 529825.5625 - val_loss: 473423806464.0000 - val_mae: 575309.6875\n",
            "Epoch 33/100\n",
            "575/575 - 1s - loss: 413656317952.0000 - mae: 529664.8125 - val_loss: 473236996096.0000 - val_mae: 575147.2500\n",
            "Epoch 34/100\n",
            "575/575 - 1s - loss: 413482713088.0000 - mae: 529500.8750 - val_loss: 473046089728.0000 - val_mae: 574981.2500\n",
            "Epoch 35/100\n",
            "575/575 - 1s - loss: 413305241600.0000 - mae: 529332.8125 - val_loss: 472851611648.0000 - val_mae: 574812.0625\n",
            "Epoch 36/100\n",
            "575/575 - 1s - loss: 413124427776.0000 - mae: 529161.9375 - val_loss: 472653561856.0000 - val_mae: 574639.8125\n",
            "Epoch 37/100\n",
            "575/575 - 1s - loss: 412940042240.0000 - mae: 528988.5000 - val_loss: 472451284992.0000 - val_mae: 574463.8750\n",
            "Epoch 38/100\n",
            "575/575 - 2s - loss: 412752281600.0000 - mae: 528810.0000 - val_loss: 472245698560.0000 - val_mae: 574284.7500\n",
            "Epoch 39/100\n",
            "575/575 - 1s - loss: 412561342464.0000 - mae: 528629.9375 - val_loss: 472036409344.0000 - val_mae: 574102.3750\n",
            "Epoch 40/100\n",
            "575/575 - 1s - loss: 412366667776.0000 - mae: 528444.9375 - val_loss: 471823286272.0000 - val_mae: 573917.0000\n",
            "Epoch 41/100\n",
            "575/575 - 1s - loss: 412169273344.0000 - mae: 528258.5000 - val_loss: 471606329344.0000 - val_mae: 573728.0000\n",
            "Epoch 42/100\n",
            "575/575 - 1s - loss: 411967750144.0000 - mae: 528068.4375 - val_loss: 471385702400.0000 - val_mae: 573535.6250\n",
            "Epoch 43/100\n",
            "575/575 - 1s - loss: 411762786304.0000 - mae: 527873.6250 - val_loss: 471161470976.0000 - val_mae: 573339.9375\n",
            "Epoch 44/100\n",
            "575/575 - 1s - loss: 411554906112.0000 - mae: 527677.0000 - val_loss: 470933700608.0000 - val_mae: 573141.3750\n",
            "Epoch 45/100\n",
            "575/575 - 1s - loss: 411343257600.0000 - mae: 527476.1875 - val_loss: 470702096384.0000 - val_mae: 572939.1875\n",
            "Epoch 46/100\n",
            "575/575 - 1s - loss: 411128561664.0000 - mae: 527272.6250 - val_loss: 470466789376.0000 - val_mae: 572733.8125\n",
            "Epoch 47/100\n",
            "575/575 - 1s - loss: 410910195712.0000 - mae: 527065.3125 - val_loss: 470228041728.0000 - val_mae: 572525.3750\n",
            "Epoch 48/100\n",
            "575/575 - 1s - loss: 410688913408.0000 - mae: 526855.8750 - val_loss: 469985329152.0000 - val_mae: 572313.4375\n",
            "Epoch 49/100\n",
            "575/575 - 1s - loss: 410463895552.0000 - mae: 526641.9375 - val_loss: 469739241472.0000 - val_mae: 572098.1875\n",
            "Epoch 50/100\n",
            "575/575 - 1s - loss: 410235600896.0000 - mae: 526424.8750 - val_loss: 469489647616.0000 - val_mae: 571880.1250\n",
            "Epoch 51/100\n",
            "575/575 - 1s - loss: 410004193280.0000 - mae: 526205.3750 - val_loss: 469236121600.0000 - val_mae: 571658.4375\n",
            "Epoch 52/100\n",
            "575/575 - 1s - loss: 409768951808.0000 - mae: 525982.5625 - val_loss: 468978466816.0000 - val_mae: 571433.1875\n",
            "Epoch 53/100\n",
            "575/575 - 1s - loss: 409530630144.0000 - mae: 525755.2500 - val_loss: 468718059520.0000 - val_mae: 571205.1875\n",
            "Epoch 54/100\n",
            "575/575 - 1s - loss: 409289326592.0000 - mae: 525525.4375 - val_loss: 468453687296.0000 - val_mae: 570973.7500\n",
            "Epoch 55/100\n",
            "575/575 - 1s - loss: 409044451328.0000 - mae: 525293.1250 - val_loss: 468185415680.0000 - val_mae: 570738.5625\n",
            "Epoch 56/100\n",
            "575/575 - 1s - loss: 408795906048.0000 - mae: 525056.1250 - val_loss: 467913703424.0000 - val_mae: 570500.7500\n",
            "Epoch 57/100\n",
            "575/575 - 1s - loss: 408543985664.0000 - mae: 524816.2500 - val_loss: 467638484992.0000 - val_mae: 570259.5000\n",
            "Epoch 58/100\n",
            "575/575 - 1s - loss: 408289345536.0000 - mae: 524573.6875 - val_loss: 467359760384.0000 - val_mae: 570015.0000\n",
            "Epoch 59/100\n",
            "575/575 - 1s - loss: 408030642176.0000 - mae: 524327.2500 - val_loss: 467077332992.0000 - val_mae: 569767.1875\n",
            "Epoch 60/100\n",
            "575/575 - 1s - loss: 407769710592.0000 - mae: 524078.3125 - val_loss: 466791366656.0000 - val_mae: 569516.1250\n",
            "Epoch 61/100\n",
            "575/575 - 1s - loss: 407505043456.0000 - mae: 523825.2500 - val_loss: 466501795840.0000 - val_mae: 569261.8125\n",
            "Epoch 62/100\n",
            "575/575 - 1s - loss: 407236476928.0000 - mae: 523570.3438 - val_loss: 466208391168.0000 - val_mae: 569004.1250\n",
            "Epoch 63/100\n",
            "575/575 - 1s - loss: 406965092352.0000 - mae: 523310.0938 - val_loss: 465911578624.0000 - val_mae: 568743.5000\n",
            "Epoch 64/100\n",
            "575/575 - 1s - loss: 406691184640.0000 - mae: 523047.1562 - val_loss: 465611980800.0000 - val_mae: 568479.7500\n",
            "Epoch 65/100\n",
            "575/575 - 1s - loss: 406413770752.0000 - mae: 522782.7812 - val_loss: 465308090368.0000 - val_mae: 568212.5000\n",
            "Epoch 66/100\n",
            "575/575 - 1s - loss: 406132359168.0000 - mae: 522513.9062 - val_loss: 465000792064.0000 - val_mae: 567941.8750\n",
            "Epoch 67/100\n",
            "575/575 - 1s - loss: 405847834624.0000 - mae: 522242.0625 - val_loss: 464689430528.0000 - val_mae: 567667.6875\n",
            "Epoch 68/100\n",
            "575/575 - 1s - loss: 405559836672.0000 - mae: 521966.2188 - val_loss: 464374923264.0000 - val_mae: 567390.6250\n",
            "Epoch 69/100\n",
            "575/575 - 1s - loss: 405269118976.0000 - mae: 521686.8438 - val_loss: 464056745984.0000 - val_mae: 567110.0625\n",
            "Epoch 70/100\n",
            "575/575 - 1s - loss: 404974305280.0000 - mae: 521404.2812 - val_loss: 463735259136.0000 - val_mae: 566826.5000\n",
            "Epoch 71/100\n",
            "575/575 - 1s - loss: 404677296128.0000 - mae: 521120.0625 - val_loss: 463410003968.0000 - val_mae: 566539.6875\n",
            "Epoch 72/100\n",
            "575/575 - 1s - loss: 404376977408.0000 - mae: 520831.1562 - val_loss: 463081668608.0000 - val_mae: 566249.8125\n",
            "Epoch 73/100\n",
            "575/575 - 1s - loss: 404073152512.0000 - mae: 520539.5312 - val_loss: 462749532160.0000 - val_mae: 565956.6875\n",
            "Epoch 74/100\n",
            "575/575 - 1s - loss: 403766575104.0000 - mae: 520244.3438 - val_loss: 462414053376.0000 - val_mae: 565660.1875\n",
            "Epoch 75/100\n",
            "575/575 - 1s - loss: 403455934464.0000 - mae: 519946.3438 - val_loss: 462074642432.0000 - val_mae: 565360.0000\n",
            "Epoch 76/100\n",
            "575/575 - 1s - loss: 403142443008.0000 - mae: 519645.6250 - val_loss: 461731954688.0000 - val_mae: 565057.0625\n",
            "Epoch 77/100\n",
            "575/575 - 1s - loss: 402825773056.0000 - mae: 519340.1875 - val_loss: 461385433088.0000 - val_mae: 564750.0625\n",
            "Epoch 78/100\n",
            "575/575 - 1s - loss: 402506055680.0000 - mae: 519032.3438 - val_loss: 461036060672.0000 - val_mae: 564440.8125\n",
            "Epoch 79/100\n",
            "575/575 - 1s - loss: 402183192576.0000 - mae: 518720.4062 - val_loss: 460682985472.0000 - val_mae: 564127.9375\n",
            "Epoch 80/100\n",
            "575/575 - 1s - loss: 401857249280.0000 - mae: 518406.0938 - val_loss: 460326993920.0000 - val_mae: 563812.3750\n",
            "Epoch 81/100\n",
            "575/575 - 1s - loss: 401528389632.0000 - mae: 518089.6562 - val_loss: 459967299584.0000 - val_mae: 563493.1875\n",
            "Epoch 82/100\n",
            "575/575 - 1s - loss: 401195368448.0000 - mae: 517768.1562 - val_loss: 459603902464.0000 - val_mae: 563170.5625\n",
            "Epoch 83/100\n",
            "575/575 - 1s - loss: 400860020736.0000 - mae: 517443.9688 - val_loss: 459237064704.0000 - val_mae: 562845.0625\n",
            "Epoch 84/100\n",
            "575/575 - 1s - loss: 400521789440.0000 - mae: 517117.8125 - val_loss: 458867048448.0000 - val_mae: 562515.9375\n",
            "Epoch 85/100\n",
            "575/575 - 1s - loss: 400179855360.0000 - mae: 516787.0000 - val_loss: 458493132800.0000 - val_mae: 562183.6875\n",
            "Epoch 86/100\n",
            "575/575 - 1s - loss: 399835168768.0000 - mae: 516452.8438 - val_loss: 458116202496.0000 - val_mae: 561848.2500\n",
            "Epoch 87/100\n",
            "575/575 - 1s - loss: 399487041536.0000 - mae: 516115.4062 - val_loss: 457735929856.0000 - val_mae: 561509.8125\n",
            "Epoch 88/100\n",
            "575/575 - 1s - loss: 399135965184.0000 - mae: 515776.2812 - val_loss: 457351790592.0000 - val_mae: 561167.6250\n",
            "Epoch 89/100\n",
            "575/575 - 1s - loss: 398781448192.0000 - mae: 515431.4688 - val_loss: 456964538368.0000 - val_mae: 560822.3125\n",
            "Epoch 90/100\n",
            "575/575 - 1s - loss: 398423392256.0000 - mae: 515084.5938 - val_loss: 456573222912.0000 - val_mae: 560473.5000\n",
            "Epoch 91/100\n",
            "575/575 - 1s - loss: 398063075328.0000 - mae: 514734.3750 - val_loss: 456179777536.0000 - val_mae: 560122.1875\n",
            "Epoch 92/100\n",
            "575/575 - 1s - loss: 397700169728.0000 - mae: 514381.2188 - val_loss: 455782400000.0000 - val_mae: 559767.6250\n",
            "Epoch 93/100\n",
            "575/575 - 1s - loss: 397333233664.0000 - mae: 514024.3750 - val_loss: 455381712896.0000 - val_mae: 559409.5000\n",
            "Epoch 94/100\n",
            "575/575 - 1s - loss: 396963741696.0000 - mae: 513666.4062 - val_loss: 454977290240.0000 - val_mae: 559048.0000\n",
            "Epoch 95/100\n",
            "575/575 - 1s - loss: 396591235072.0000 - mae: 513301.3125 - val_loss: 454570409984.0000 - val_mae: 558683.9375\n",
            "Epoch 96/100\n",
            "575/575 - 1s - loss: 396215746560.0000 - mae: 512936.9375 - val_loss: 454159532032.0000 - val_mae: 558316.1250\n",
            "Epoch 97/100\n",
            "575/575 - 1s - loss: 395837145088.0000 - mae: 512567.0000 - val_loss: 453745541120.0000 - val_mae: 557945.3125\n",
            "Epoch 98/100\n",
            "575/575 - 1s - loss: 395455496192.0000 - mae: 512194.6562 - val_loss: 453328175104.0000 - val_mae: 557571.0625\n",
            "Epoch 99/100\n",
            "575/575 - 1s - loss: 395070308352.0000 - mae: 511818.7812 - val_loss: 452907008000.0000 - val_mae: 557193.1875\n",
            "Epoch 100/100\n",
            "575/575 - 1s - loss: 394682761216.0000 - mae: 511438.8750 - val_loss: 452483350528.0000 - val_mae: 556813.0000\n"
          ],
          "name": "stdout"
        },
        {
          "output_type": "display_data",
          "data": {
            "image/png": "[encoded data removed]",
            "text/plain": [
              "<Figure size 432x288 with 1 Axes>"
            ]
          },
          "metadata": {
            "needs_background": "light"
          }
        }
      ]
    },
    {
      "cell_type": "code",
      "metadata": {
        "colab": {
          "base_uri": "https://localhost:8080/"
        },
        "id": "P_Eq-25m6wzN",
        "outputId": "fb685f8f-57c7-487b-f6d9-954dad8c11ac"
      },
      "source": [
        "# Делаем предсказание и приводим его к начальному виду\n",
        "pred = model.predict(x_train)\n",
        "pred = pred.flatten()\n",
        "# Среднее значение ошибки \n",
        "delta = pred - y_train\n",
        "absDelta = abs(delta)\n",
        "print(sum(absDelta) / len(absDelta))"
      ],
      "execution_count": null,
      "outputs": [
        {
          "output_type": "stream",
          "text": [
            "518083.3839554753\n"
          ],
          "name": "stdout"
        }
      ]
    },
    {
      "cell_type": "markdown",
      "metadata": {
        "id": "TmKO9gZv9otg"
      },
      "source": [
        "Нейронка со стандартизацией таргета и двумя входами: для категориальных данных и для непрерывных"
      ]
    },
    {
      "cell_type": "code",
      "metadata": {
        "colab": {
          "base_uri": "https://localhost:8080/"
        },
        "id": "w0yPU0yl-T_c",
        "outputId": "8767ad43-ccaf-4c56-ce1a-d015c4ad3a27"
      },
      "source": [
        "# В качестве нормализации данных используем готовую библиотеку \n",
        "yScaler = StandardScaler()\n",
        "\n",
        "# Скармливаем объекту двумерный вектор\n",
        "yTrainScaled = yScaler.fit_transform(y_train.reshape(-1, 1))\n",
        "\n",
        "print(yTrainScaled.shape)\n",
        "print(y_train[1])\n",
        "print(yTrainScaled[1])"
      ],
      "execution_count": null,
      "outputs": [
        {
          "output_type": "stream",
          "text": [
            "(21613, 1)\n",
            "538000.0\n",
            "[-0.00568792]\n"
          ],
          "name": "stdout"
        }
      ]
    },
    {
      "cell_type": "code",
      "metadata": {
        "id": "wcLKhfI491xn"
      },
      "source": [
        "def create_vector_categorical(row):\n",
        "    bedrooms = get_bedrooms(row['bedrooms'])\n",
        "    bathrooms = get_bathrooms(row['bathrooms'])\n",
        "    floors = get_floors(row['floors'])\n",
        "    waterfront = get_waterfront(row['waterfront'])\n",
        "    view = get_view(row['view'])\n",
        "    condition = get_condition(row['condition'])\n",
        "    grade = get_grade(row['grade'])\n",
        "    yr_built = get_yr_built(row['yr_built'])\n",
        "    yr_renovated = get_yr_renovated(row['yr_renovated'])\n",
        "\n",
        "    out = []\n",
        "    out += bedrooms\n",
        "    out += bathrooms\n",
        "    out += floors\n",
        "    out += waterfront\n",
        "    out += view\n",
        "    out += condition\n",
        "    out += grade\n",
        "    out += yr_built\n",
        "    out += yr_renovated\n",
        "\n",
        "    return np.array(out)"
      ],
      "execution_count": null,
      "outputs": []
    },
    {
      "cell_type": "code",
      "metadata": {
        "id": "Tze88kNW-DTa"
      },
      "source": [
        "def create_vector_cont(row):\n",
        "    out = []\n",
        "    for col in cont_cols:\n",
        "        out.append(row[col])\n",
        "    return np.array(out)"
      ],
      "execution_count": null,
      "outputs": []
    },
    {
      "cell_type": "code",
      "metadata": {
        "colab": {
          "base_uri": "https://localhost:8080/"
        },
        "id": "acNO-iP95O8g",
        "outputId": "e17c8b09-f506-409e-e10b-eb634dd4a671"
      },
      "source": [
        "x_train_cat = pd.DataFrame.from_records(df.progress_apply(create_vector_categorical, axis=1).values).values"
      ],
      "execution_count": null,
      "outputs": [
        {
          "output_type": "stream",
          "text": [
            "100%|██████████| 21613/21613 [00:19<00:00, 1094.54it/s]\n"
          ],
          "name": "stderr"
        }
      ]
    },
    {
      "cell_type": "code",
      "metadata": {
        "colab": {
          "base_uri": "https://localhost:8080/"
        },
        "id": "Ztb_mvtP-9kP",
        "outputId": "01a89423-6cac-40cc-ecf8-6fa7d650c674"
      },
      "source": [
        "x_train_cont = pd.DataFrame.from_records(df.progress_apply(create_vector_cont, axis=1).values).values"
      ],
      "execution_count": null,
      "outputs": [
        {
          "output_type": "stream",
          "text": [
            "100%|██████████| 21613/21613 [00:00<00:00, 28550.09it/s]\n"
          ],
          "name": "stderr"
        }
      ]
    },
    {
      "cell_type": "code",
      "metadata": {
        "colab": {
          "base_uri": "https://localhost:8080/"
        },
        "id": "Z0cZPVo35O57",
        "outputId": "806528c9-69e5-4c9f-ceda-f26a5ac531d5"
      },
      "source": [
        "print(x_train_cat.shape)\n",
        "print(x_train_cont.shape)\n",
        "print(x_train_cat[0])\n",
        "print(x_train_cont[0])"
      ],
      "execution_count": null,
      "outputs": [
        {
          "output_type": "stream",
          "text": [
            "(21613, 67)\n",
            "(21613, 8)\n",
            "[0 0 0 1 0 0 0 0 0 0 0 0 0 0 1 0 0 0 0 0 0 0 0 0 1 0 0 0 1 0 1 0 0 0 0 0 0\n",
            " 1 0 0 0 0 0 0 0 0 1 0 0 0 0 0 0 0 0 0 0 0 0 1 0 0 0 0 0 0 0]\n",
            "[-0.97983502 -0.22832133 -0.73470764 -0.65868104 -0.35257175 -0.30607896\n",
            " -0.9433552  -0.26071541]\n"
          ],
          "name": "stdout"
        }
      ]
    },
    {
      "cell_type": "code",
      "metadata": {
        "id": "t-h-pzSx5O3k"
      },
      "source": [
        "def on_epoch_end(epoch, logs):\n",
        "  pred = model.predict([xTrainScaled[valMask], xTrainC01[valMask]]) #Полуаем выход сети на проверочно выборке\n",
        "  predUnscaled = yScaler.inverse_transform(pred).flatten() #Делаем обратное нормирование выхода к изначальным величинам цен квартир\n",
        "  yTrainUnscaled = yScaler.inverse_transform(yTrainScaled[valMask]).flatten() #Делаем такое же обратное нормирование yTrain к базовым ценам\n",
        "  delta = predUnscaled - yTrainUnscaled #Считаем разность предсказания и правильных цен\n",
        "  absDelta = abs(delta) #Берём модуль отклонения\n",
        "  print(\"Эпоха\", epoch, \"модуль ошибки\", round(sum(absDelta) / (1e+3 * len(absDelta)),3)) #Выводим усреднённую ошибку в миллионах рублей\n",
        "\n",
        "# Коллбэки\n",
        "pltMae = LambdaCallback(on_epoch_end=on_epoch_end)"
      ],
      "execution_count": null,
      "outputs": []
    },
    {
      "cell_type": "code",
      "metadata": {
        "id": "op3Beh5hAJpT"
      },
      "source": [
        "xTrainScaled = x_train_cont.copy()\n",
        "xTrainC01 = x_train_cat.copy()\n",
        "splitVal = 0.2 #Процент, который выделяем в проверочную выборку\n",
        "valMask = np.random.sample(xTrainScaled.shape[0]) < splitVal #Создаём маску True-False для создания проверочной выборки"
      ],
      "execution_count": null,
      "outputs": []
    },
    {
      "cell_type": "code",
      "metadata": {
        "colab": {
          "base_uri": "https://localhost:8080/"
        },
        "id": "GAi5kVk8__k8",
        "outputId": "274c2daf-9350-49d9-efa9-6ea762e0dbdd"
      },
      "source": [
        "#Простая Dense сеть\n",
        "input1 = Input((xTrainScaled.shape[1],))\n",
        "input2 = Input((xTrainC01.shape[1],))\n",
        "\n",
        "x1 = Dense(10, activation=\"relu\")(input1)\n",
        "x2 = Dense(250, activation=\"relu\")(input2)\n",
        "\n",
        "x = concatenate([x1, x2])\n",
        "\n",
        "x = Dense(100, activation='relu')(x)\n",
        "x = Dense(10, activation='relu')(x)\n",
        "x = Dense(1, activation='linear')(x)\n",
        "\n",
        "model = Model((input1, input2), x)\n",
        "\n",
        "model.compile(optimizer=Adam(lr=1e-3), loss='mse', metrics=['mae'])\n",
        "history = model.fit([xTrainScaled[~valMask], xTrainC01[~valMask]], \n",
        "                    yTrainScaled[~valMask], \n",
        "                    epochs=40, \n",
        "                    validation_data=([xTrainScaled[valMask], xTrainC01[valMask]], \n",
        "                    yTrainScaled[valMask]), \n",
        "                    verbose=0,\n",
        "                    callbacks=[pltMae]\n",
        "                    )\n",
        "\n",
        "print()\n",
        "print('Меняем шаг обучения на 1e-4')\n",
        "model.compile(optimizer=Adam(lr=1e-4), loss='mse')\n",
        "history = model.fit([xTrainScaled[~valMask], xTrainC01[~valMask]], \n",
        "                    yTrainScaled[~valMask], \n",
        "                    epochs=100, \n",
        "                    validation_data=([xTrainScaled[valMask], xTrainC01[valMask]], \n",
        "                    yTrainScaled[valMask]), \n",
        "                    verbose=0,\n",
        "                    callbacks=[pltMae]\n",
        "                    )\n",
        "\n",
        "print()\n",
        "print('Меняем шаг обучения на 1e-5')\n",
        "model.compile(optimizer=Adam(lr=1e-5), loss='mse')\n",
        "history = model.fit([xTrainScaled[~valMask], xTrainC01[~valMask]], \n",
        "                    yTrainScaled[~valMask], \n",
        "                    epochs=100, \n",
        "                    validation_data=([xTrainScaled[valMask], xTrainC01[valMask]], \n",
        "                    yTrainScaled[valMask]), \n",
        "                    verbose=0,\n",
        "                    callbacks=[pltMae]\n",
        "                    )\n",
        "\n",
        "\n"
      ],
      "execution_count": null,
      "outputs": [
        {
          "output_type": "stream",
          "text": [
            "/usr/local/lib/python3.7/dist-packages/keras/optimizer_v2/optimizer_v2.py:356: UserWarning: The `lr` argument is deprecated, use `learning_rate` instead.\n",
            "  \"The `lr` argument is deprecated, use `learning_rate` instead.\")\n"
          ],
          "name": "stderr"
        },
        {
          "output_type": "stream",
          "text": [
            "Эпоха 0 модуль ошибки 100.099\n",
            "Эпоха 1 модуль ошибки 98.213\n",
            "Эпоха 2 модуль ошибки 86.02\n",
            "Эпоха 3 модуль ошибки 82.453\n",
            "Эпоха 4 модуль ошибки 81.698\n",
            "Эпоха 5 модуль ошибки 80.771\n",
            "Эпоха 6 модуль ошибки 79.656\n",
            "Эпоха 7 модуль ошибки 80.959\n",
            "Эпоха 8 модуль ошибки 77.654\n",
            "Эпоха 9 модуль ошибки 76.793\n",
            "Эпоха 10 модуль ошибки 79.632\n",
            "Эпоха 11 модуль ошибки 76.248\n",
            "Эпоха 12 модуль ошибки 74.52\n",
            "Эпоха 13 модуль ошибки 76.091\n",
            "Эпоха 14 модуль ошибки 75.557\n",
            "Эпоха 15 модуль ошибки 73.619\n",
            "Эпоха 16 модуль ошибки 76.008\n",
            "Эпоха 17 модуль ошибки 74.816\n",
            "Эпоха 18 модуль ошибки 82.221\n",
            "Эпоха 19 модуль ошибки 75.453\n",
            "Эпоха 20 модуль ошибки 74.42\n",
            "Эпоха 21 модуль ошибки 75.022\n",
            "Эпоха 22 модуль ошибки 75.863\n",
            "Эпоха 23 модуль ошибки 74.868\n",
            "Эпоха 24 модуль ошибки 75.897\n",
            "Эпоха 25 модуль ошибки 75.26\n",
            "Эпоха 26 модуль ошибки 75.124\n",
            "Эпоха 27 модуль ошибки 76.88\n",
            "Эпоха 28 модуль ошибки 75.126\n",
            "Эпоха 29 модуль ошибки 76.051\n",
            "Эпоха 30 модуль ошибки 75.47\n",
            "Эпоха 31 модуль ошибки 75.082\n",
            "Эпоха 32 модуль ошибки 75.657\n",
            "Эпоха 33 модуль ошибки 76.315\n",
            "Эпоха 34 модуль ошибки 75.931\n",
            "Эпоха 35 модуль ошибки 75.454\n",
            "Эпоха 36 модуль ошибки 76.19\n",
            "Эпоха 37 модуль ошибки 76.314\n",
            "Эпоха 38 модуль ошибки 75.398\n",
            "Эпоха 39 модуль ошибки 76.144\n",
            "\n",
            "Меняем шаг обучения на 1e-4\n",
            "Эпоха 0 модуль ошибки 73.999\n",
            "Эпоха 1 модуль ошибки 73.933\n",
            "Эпоха 2 модуль ошибки 73.987\n",
            "Эпоха 3 модуль ошибки 74.183\n",
            "Эпоха 4 модуль ошибки 74.3\n",
            "Эпоха 5 модуль ошибки 74.143\n",
            "Эпоха 6 модуль ошибки 74.336\n",
            "Эпоха 7 модуль ошибки 74.594\n",
            "Эпоха 8 модуль ошибки 74.443\n",
            "Эпоха 9 модуль ошибки 74.421\n",
            "Эпоха 10 модуль ошибки 74.492\n",
            "Эпоха 11 модуль ошибки 74.82\n",
            "Эпоха 12 модуль ошибки 74.821\n",
            "Эпоха 13 модуль ошибки 74.755\n",
            "Эпоха 14 модуль ошибки 74.899\n",
            "Эпоха 15 модуль ошибки 74.824\n",
            "Эпоха 16 модуль ошибки 74.84\n",
            "Эпоха 17 модуль ошибки 75.224\n",
            "Эпоха 18 модуль ошибки 75.265\n",
            "Эпоха 19 модуль ошибки 75.019\n",
            "Эпоха 20 модуль ошибки 75.235\n",
            "Эпоха 21 модуль ошибки 75.184\n",
            "Эпоха 22 модуль ошибки 75.332\n",
            "Эпоха 23 модуль ошибки 75.517\n",
            "Эпоха 24 модуль ошибки 75.523\n",
            "Эпоха 25 модуль ошибки 75.47\n",
            "Эпоха 26 модуль ошибки 75.546\n",
            "Эпоха 27 модуль ошибки 75.757\n",
            "Эпоха 28 модуль ошибки 75.65\n",
            "Эпоха 29 модуль ошибки 75.826\n",
            "Эпоха 30 модуль ошибки 75.715\n",
            "Эпоха 31 модуль ошибки 75.814\n",
            "Эпоха 32 модуль ошибки 75.968\n",
            "Эпоха 33 модуль ошибки 75.902\n",
            "Эпоха 34 модуль ошибки 75.752\n",
            "Эпоха 35 модуль ошибки 76.064\n",
            "Эпоха 36 модуль ошибки 76.195\n",
            "Эпоха 37 модуль ошибки 75.951\n",
            "Эпоха 38 модуль ошибки 76.083\n",
            "Эпоха 39 модуль ошибки 76.202\n",
            "Эпоха 40 модуль ошибки 76.3\n",
            "Эпоха 41 модуль ошибки 76.443\n",
            "Эпоха 42 модуль ошибки 76.221\n",
            "Эпоха 43 модуль ошибки 76.213\n",
            "Эпоха 44 модуль ошибки 76.456\n",
            "Эпоха 45 модуль ошибки 76.49\n",
            "Эпоха 46 модуль ошибки 76.319\n",
            "Эпоха 47 модуль ошибки 76.558\n",
            "Эпоха 48 модуль ошибки 76.742\n",
            "Эпоха 49 модуль ошибки 76.422\n",
            "Эпоха 50 модуль ошибки 76.806\n",
            "Эпоха 51 модуль ошибки 76.604\n",
            "Эпоха 52 модуль ошибки 76.61\n",
            "Эпоха 53 модуль ошибки 76.694\n",
            "Эпоха 54 модуль ошибки 76.511\n",
            "Эпоха 55 модуль ошибки 76.664\n",
            "Эпоха 56 модуль ошибки 76.903\n",
            "Эпоха 57 модуль ошибки 76.762\n",
            "Эпоха 58 модуль ошибки 76.846\n",
            "Эпоха 59 модуль ошибки 76.799\n",
            "Эпоха 60 модуль ошибки 76.892\n",
            "Эпоха 61 модуль ошибки 76.896\n",
            "Эпоха 62 модуль ошибки 77.064\n",
            "Эпоха 63 модуль ошибки 77.181\n",
            "Эпоха 64 модуль ошибки 77.135\n",
            "Эпоха 65 модуль ошибки 77.108\n",
            "Эпоха 66 модуль ошибки 77.294\n",
            "Эпоха 67 модуль ошибки 77.262\n",
            "Эпоха 68 модуль ошибки 77.114\n",
            "Эпоха 69 модуль ошибки 77.459\n",
            "Эпоха 70 модуль ошибки 77.262\n",
            "Эпоха 71 модуль ошибки 77.357\n",
            "Эпоха 72 модуль ошибки 77.34\n",
            "Эпоха 73 модуль ошибки 77.708\n",
            "Эпоха 74 модуль ошибки 77.512\n",
            "Эпоха 75 модуль ошибки 77.402\n",
            "Эпоха 76 модуль ошибки 77.612\n",
            "Эпоха 77 модуль ошибки 77.621\n",
            "Эпоха 78 модуль ошибки 77.599\n",
            "Эпоха 79 модуль ошибки 77.754\n",
            "Эпоха 80 модуль ошибки 77.646\n",
            "Эпоха 81 модуль ошибки 77.811\n",
            "Эпоха 82 модуль ошибки 77.622\n",
            "Эпоха 83 модуль ошибки 77.634\n",
            "Эпоха 84 модуль ошибки 77.692\n",
            "Эпоха 85 модуль ошибки 77.612\n",
            "Эпоха 86 модуль ошибки 77.749\n",
            "Эпоха 87 модуль ошибки 77.967\n",
            "Эпоха 88 модуль ошибки 77.889\n",
            "Эпоха 89 модуль ошибки 78.176\n",
            "Эпоха 90 модуль ошибки 78.077\n",
            "Эпоха 91 модуль ошибки 78.0\n",
            "Эпоха 92 модуль ошибки 78.188\n",
            "Эпоха 93 модуль ошибки 78.222\n",
            "Эпоха 94 модуль ошибки 78.34\n",
            "Эпоха 95 модуль ошибки 78.331\n",
            "Эпоха 96 модуль ошибки 78.273\n",
            "Эпоха 97 модуль ошибки 78.321\n",
            "Эпоха 98 модуль ошибки 78.311\n",
            "Эпоха 99 модуль ошибки 78.268\n",
            "\n",
            "Меняем шаг обучения на 1e-5\n",
            "Эпоха 0 модуль ошибки 78.309\n",
            "Эпоха 1 модуль ошибки 78.309\n",
            "Эпоха 2 модуль ошибки 78.358\n",
            "Эпоха 3 модуль ошибки 78.314\n",
            "Эпоха 4 модуль ошибки 78.331\n",
            "Эпоха 5 модуль ошибки 78.333\n",
            "Эпоха 6 модуль ошибки 78.319\n",
            "Эпоха 7 модуль ошибки 78.367\n",
            "Эпоха 8 модуль ошибки 78.353\n",
            "Эпоха 9 модуль ошибки 78.354\n",
            "Эпоха 10 модуль ошибки 78.351\n",
            "Эпоха 11 модуль ошибки 78.369\n",
            "Эпоха 12 модуль ошибки 78.35\n",
            "Эпоха 13 модуль ошибки 78.353\n",
            "Эпоха 14 модуль ошибки 78.373\n",
            "Эпоха 15 модуль ошибки 78.375\n",
            "Эпоха 16 модуль ошибки 78.385\n",
            "Эпоха 17 модуль ошибки 78.391\n",
            "Эпоха 18 модуль ошибки 78.388\n",
            "Эпоха 19 модуль ошибки 78.408\n",
            "Эпоха 20 модуль ошибки 78.434\n",
            "Эпоха 21 модуль ошибки 78.42\n",
            "Эпоха 22 модуль ошибки 78.404\n",
            "Эпоха 23 модуль ошибки 78.437\n",
            "Эпоха 24 модуль ошибки 78.411\n",
            "Эпоха 25 модуль ошибки 78.437\n",
            "Эпоха 26 модуль ошибки 78.444\n",
            "Эпоха 27 модуль ошибки 78.524\n",
            "Эпоха 28 модуль ошибки 78.458\n",
            "Эпоха 29 модуль ошибки 78.458\n",
            "Эпоха 30 модуль ошибки 78.507\n",
            "Эпоха 31 модуль ошибки 78.472\n",
            "Эпоха 32 модуль ошибки 78.513\n",
            "Эпоха 33 модуль ошибки 78.499\n",
            "Эпоха 34 модуль ошибки 78.457\n",
            "Эпоха 35 модуль ошибки 78.501\n",
            "Эпоха 36 модуль ошибки 78.514\n",
            "Эпоха 37 модуль ошибки 78.494\n",
            "Эпоха 38 модуль ошибки 78.531\n",
            "Эпоха 39 модуль ошибки 78.535\n",
            "Эпоха 40 модуль ошибки 78.535\n",
            "Эпоха 41 модуль ошибки 78.512\n",
            "Эпоха 42 модуль ошибки 78.521\n",
            "Эпоха 43 модуль ошибки 78.568\n",
            "Эпоха 44 модуль ошибки 78.584\n",
            "Эпоха 45 модуль ошибки 78.553\n",
            "Эпоха 46 модуль ошибки 78.545\n",
            "Эпоха 47 модуль ошибки 78.576\n",
            "Эпоха 48 модуль ошибки 78.584\n",
            "Эпоха 49 модуль ошибки 78.594\n",
            "Эпоха 50 модуль ошибки 78.567\n",
            "Эпоха 51 модуль ошибки 78.552\n",
            "Эпоха 52 модуль ошибки 78.58\n",
            "Эпоха 53 модуль ошибки 78.604\n",
            "Эпоха 54 модуль ошибки 78.582\n",
            "Эпоха 55 модуль ошибки 78.601\n",
            "Эпоха 56 модуль ошибки 78.599\n",
            "Эпоха 57 модуль ошибки 78.673\n",
            "Эпоха 58 модуль ошибки 78.646\n",
            "Эпоха 59 модуль ошибки 78.661\n",
            "Эпоха 60 модуль ошибки 78.63\n",
            "Эпоха 61 модуль ошибки 78.631\n",
            "Эпоха 62 модуль ошибки 78.601\n",
            "Эпоха 63 модуль ошибки 78.651\n",
            "Эпоха 64 модуль ошибки 78.661\n",
            "Эпоха 65 модуль ошибки 78.663\n",
            "Эпоха 66 модуль ошибки 78.739\n",
            "Эпоха 67 модуль ошибки 78.674\n",
            "Эпоха 68 модуль ошибки 78.749\n",
            "Эпоха 69 модуль ошибки 78.712\n",
            "Эпоха 70 модуль ошибки 78.716\n",
            "Эпоха 71 модуль ошибки 78.737\n",
            "Эпоха 72 модуль ошибки 78.742\n",
            "Эпоха 73 модуль ошибки 78.724\n",
            "Эпоха 74 модуль ошибки 78.697\n",
            "Эпоха 75 модуль ошибки 78.711\n",
            "Эпоха 76 модуль ошибки 78.741\n",
            "Эпоха 77 модуль ошибки 78.731\n",
            "Эпоха 78 модуль ошибки 78.718\n",
            "Эпоха 79 модуль ошибки 78.761\n",
            "Эпоха 80 модуль ошибки 78.701\n",
            "Эпоха 81 модуль ошибки 78.732\n",
            "Эпоха 82 модуль ошибки 78.767\n",
            "Эпоха 83 модуль ошибки 78.787\n",
            "Эпоха 84 модуль ошибки 78.756\n",
            "Эпоха 85 модуль ошибки 78.776\n",
            "Эпоха 86 модуль ошибки 78.777\n",
            "Эпоха 87 модуль ошибки 78.746\n",
            "Эпоха 88 модуль ошибки 78.762\n",
            "Эпоха 89 модуль ошибки 78.823\n",
            "Эпоха 90 модуль ошибки 78.806\n",
            "Эпоха 91 модуль ошибки 78.821\n",
            "Эпоха 92 модуль ошибки 78.823\n",
            "Эпоха 93 модуль ошибки 78.852\n",
            "Эпоха 94 модуль ошибки 78.812\n",
            "Эпоха 95 модуль ошибки 78.775\n",
            "Эпоха 96 модуль ошибки 78.795\n",
            "Эпоха 97 модуль ошибки 78.822\n",
            "Эпоха 98 модуль ошибки 78.827\n",
            "Эпоха 99 модуль ошибки 78.814\n"
          ],
          "name": "stdout"
        }
      ]
    },
    {
      "cell_type": "code",
      "metadata": {
        "colab": {
          "base_uri": "https://localhost:8080/"
        },
        "id": "l0EYuoRz5O1T",
        "outputId": "6c4def1a-7254-44c9-c0fb-7866f5982e54"
      },
      "source": [
        "#Проверяем результаты\n",
        "pred = model.predict([xTrainScaled[valMask], xTrainC01[valMask]]) #Полуаем выход сети на проверочной выборке\n",
        "predUnscaled = yScaler.inverse_transform(pred).flatten() #Делаем обратное нормирование выхода к изначальным величинам цен квартир\n",
        "yTrainUnscaled = yScaler.inverse_transform(yTrainScaled[valMask]).flatten() #Делаем такое же обратное нормирование yTrain к базовым ценам\n",
        "delta = predUnscaled - yTrainUnscaled #Считаем разность предсказания и правильных цен\n",
        "absDelta = abs(delta) #Берём модуль отклонения\n",
        "print(\"Модуль ошибки\", sum(absDelta) / (1e+3 * len(absDelta))) #Выводим усреднённую ошибку в тысячах\n",
        "\n"
      ],
      "execution_count": null,
      "outputs": [
        {
          "output_type": "stream",
          "text": [
            "Модуль ошибки 78.81394499635662\n"
          ],
          "name": "stdout"
        }
      ]
    },
    {
      "cell_type": "code",
      "metadata": {
        "colab": {
          "base_uri": "https://localhost:8080/",
          "height": 279
        },
        "id": "u1gALCTC5Oy9",
        "outputId": "952c916b-a0aa-4bbc-da64-5425aec6334f"
      },
      "source": [
        "#ВЫводим графики ошибки\n",
        "plt.plot(history.history['loss'], \n",
        "         label='Средняя абсолютная ошибка на обучающем наборе')\n",
        "plt.plot(history.history['val_loss'], \n",
        "         label='Средняя абсолютная ошибка на проверочном наборе')\n",
        "plt.xlabel('Эпоха обучения')\n",
        "plt.ylabel('Средняя абсолютная ошибка')\n",
        "plt.legend()\n",
        "plt.show()"
      ],
      "execution_count": null,
      "outputs": [
        {
          "output_type": "display_data",
          "data": {
            "image/png": "[encoded data removed]",
            "text/plain": [
              "<Figure size 432x288 with 1 Axes>"
            ]
          },
          "metadata": {
            "needs_background": "light"
          }
        }
      ]
    },
    {
      "cell_type": "markdown",
      "metadata": {
        "id": "y3ORVVfIGZPv"
      },
      "source": [
        "Вывод: если не нормировать таргет, то сеть сходится очень долго"
      ]
    }
  ]
}