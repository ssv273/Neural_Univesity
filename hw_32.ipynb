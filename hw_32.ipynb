{
  "nbformat": 4,
  "nbformat_minor": 0,
  "metadata": {
    "colab": {
      "name": "Untitled59.ipynb",
      "provenance": [],
      "collapsed_sections": [],
      "mount_file_id": "1TAUsjr0EE1shSHLi-gtd7N0Abz9vlnba",
      "authorship_tag": "ABX9TyPUExzyRKstUOEAEhs4A05J",
      "include_colab_link": true
    },
    "kernelspec": {
      "display_name": "Python 3",
      "name": "python3"
    },
    "language_info": {
      "name": "python"
    }
  },
  "cells": [
    {
      "cell_type": "markdown",
      "metadata": {
        "id": "view-in-github",
        "colab_type": "text"
      },
      "source": [
        "<a href=\"https://colab.research.google.com/github/ssv273/Neural_Univesity/blob/main/hw_32.ipynb\" target=\"_parent\"><img src=\"https://colab.research.google.com/assets/colab-badge.svg\" alt=\"Open In Colab\"/></a>"
      ]
    },
    {
      "cell_type": "code",
      "metadata": {
        "colab": {
          "base_uri": "https://localhost:8080/",
          "height": 1000
        },
        "id": "h0LzwOTy1K13",
        "outputId": "2fda7e44-22b6-4f4e-c935-35975d963a9c"
      },
      "source": [
        "!pip install pyldavis"
      ],
      "execution_count": null,
      "outputs": [
        {
          "output_type": "stream",
          "name": "stdout",
          "text": [
            "Collecting pyldavis\n",
            "  Downloading pyLDAvis-3.3.1.tar.gz (1.7 MB)\n",
            "\u001b[K     |████████████████████████████████| 1.7 MB 4.2 MB/s \n",
            "\u001b[?25h  Installing build dependencies ... \u001b[?25l\u001b[?25hdone\n",
            "  Getting requirements to build wheel ... \u001b[?25l\u001b[?25hdone\n",
            "  Installing backend dependencies ... \u001b[?25l\u001b[?25hdone\n",
            "    Preparing wheel metadata ... \u001b[?25l\u001b[?25hdone\n",
            "Requirement already satisfied: joblib in /usr/local/lib/python3.7/dist-packages (from pyldavis) (1.0.1)\n",
            "Requirement already satisfied: scipy in /usr/local/lib/python3.7/dist-packages (from pyldavis) (1.4.1)\n",
            "Collecting pandas>=1.2.0\n",
            "  Downloading pandas-1.3.4-cp37-cp37m-manylinux_2_17_x86_64.manylinux2014_x86_64.whl (11.3 MB)\n",
            "\u001b[K     |████████████████████████████████| 11.3 MB 20.6 MB/s \n",
            "\u001b[?25hRequirement already satisfied: sklearn in /usr/local/lib/python3.7/dist-packages (from pyldavis) (0.0)\n",
            "Requirement already satisfied: gensim in /usr/local/lib/python3.7/dist-packages (from pyldavis) (3.6.0)\n",
            "Requirement already satisfied: future in /usr/local/lib/python3.7/dist-packages (from pyldavis) (0.16.0)\n",
            "Requirement already satisfied: jinja2 in /usr/local/lib/python3.7/dist-packages (from pyldavis) (2.11.3)\n",
            "Requirement already satisfied: scikit-learn in /usr/local/lib/python3.7/dist-packages (from pyldavis) (0.22.2.post1)\n",
            "Collecting numpy>=1.20.0\n",
            "  Downloading numpy-1.21.4-cp37-cp37m-manylinux_2_12_x86_64.manylinux2010_x86_64.whl (15.7 MB)\n",
            "\u001b[K     |████████████████████████████████| 15.7 MB 128 kB/s \n",
            "\u001b[?25hCollecting funcy\n",
            "  Downloading funcy-1.16-py2.py3-none-any.whl (32 kB)\n",
            "Requirement already satisfied: numexpr in /usr/local/lib/python3.7/dist-packages (from pyldavis) (2.7.3)\n",
            "Requirement already satisfied: setuptools in /usr/local/lib/python3.7/dist-packages (from pyldavis) (57.4.0)\n",
            "Requirement already satisfied: python-dateutil>=2.7.3 in /usr/local/lib/python3.7/dist-packages (from pandas>=1.2.0->pyldavis) (2.8.2)\n",
            "Requirement already satisfied: pytz>=2017.3 in /usr/local/lib/python3.7/dist-packages (from pandas>=1.2.0->pyldavis) (2018.9)\n",
            "Requirement already satisfied: six>=1.5 in /usr/local/lib/python3.7/dist-packages (from python-dateutil>=2.7.3->pandas>=1.2.0->pyldavis) (1.15.0)\n",
            "Requirement already satisfied: smart-open>=1.2.1 in /usr/local/lib/python3.7/dist-packages (from gensim->pyldavis) (5.2.1)\n",
            "Requirement already satisfied: MarkupSafe>=0.23 in /usr/local/lib/python3.7/dist-packages (from jinja2->pyldavis) (2.0.1)\n",
            "Building wheels for collected packages: pyldavis\n",
            "  Building wheel for pyldavis (PEP 517) ... \u001b[?25l\u001b[?25hdone\n",
            "  Created wheel for pyldavis: filename=pyLDAvis-3.3.1-py2.py3-none-any.whl size=136897 sha256=799623a33fde4333b75e1f9648a4f9053fa46ee5db0e0d8596b386b1bb791165\n",
            "  Stored in directory: /root/.cache/pip/wheels/c9/21/f6/17bcf2667e8a68532ba2fbf6d5c72fdf4c7f7d9abfa4852d2f\n",
            "Successfully built pyldavis\n",
            "Installing collected packages: numpy, pandas, funcy, pyldavis\n",
            "  Attempting uninstall: numpy\n",
            "    Found existing installation: numpy 1.19.5\n",
            "    Uninstalling numpy-1.19.5:\n",
            "      Successfully uninstalled numpy-1.19.5\n",
            "  Attempting uninstall: pandas\n",
            "    Found existing installation: pandas 1.1.5\n",
            "    Uninstalling pandas-1.1.5:\n",
            "      Successfully uninstalled pandas-1.1.5\n",
            "\u001b[31mERROR: pip's dependency resolver does not currently take into account all the packages that are installed. This behaviour is the source of the following dependency conflicts.\n",
            "tensorflow 2.6.0 requires numpy~=1.19.2, but you have numpy 1.21.4 which is incompatible.\n",
            "google-colab 1.0.0 requires pandas~=1.1.0; python_version >= \"3.0\", but you have pandas 1.3.4 which is incompatible.\n",
            "datascience 0.10.6 requires folium==0.2.1, but you have folium 0.8.3 which is incompatible.\n",
            "albumentations 0.1.12 requires imgaug<0.2.7,>=0.2.5, but you have imgaug 0.2.9 which is incompatible.\u001b[0m\n",
            "Successfully installed funcy-1.16 numpy-1.21.4 pandas-1.3.4 pyldavis-3.3.1\n"
          ]
        },
        {
          "output_type": "display_data",
          "data": {
            "application/vnd.colab-display-data+json": {
              "pip_warning": {
                "packages": [
                  "numpy",
                  "pandas"
                ]
              }
            }
          },
          "metadata": {}
        }
      ]
    },
    {
      "cell_type": "code",
      "metadata": {
        "id": "jOLJd-FBxc2S"
      },
      "source": [
        "import numpy as np\n",
        "import pandas as pd\n",
        "import matplotlib.pyplot as plt\n",
        "%matplotlib inline\n",
        "\n",
        "from gensim import models\n",
        "from gensim.corpora import Dictionary, MmCorpus\n",
        "import nltk\n",
        "import pandas as pd\n",
        "\n",
        "from google.colab import drive"
      ],
      "execution_count": null,
      "outputs": []
    },
    {
      "cell_type": "code",
      "metadata": {
        "colab": {
          "base_uri": "https://localhost:8080/"
        },
        "id": "cINP3ccAxoXO",
        "outputId": "351e2bc7-796d-4f69-98e3-5c2676ba8b67"
      },
      "source": [
        "df = pd.read_csv('/content/drive/MyDrive/Neural_Univesity/hw_32/ner.csv', encoding = \"ISO-8859-1\", error_bad_lines=False, index_col=0)"
      ],
      "execution_count": null,
      "outputs": [
        {
          "output_type": "stream",
          "name": "stderr",
          "text": [
            "/usr/local/lib/python3.7/dist-packages/IPython/core/interactiveshell.py:2882: FutureWarning: The error_bad_lines argument has been deprecated and will be removed in a future version.\n",
            "\n",
            "\n",
            "  exec(code_obj, self.user_global_ns, self.user_ns)\n",
            "b'Skipping line 281837: expected 25 fields, saw 34\\n'\n"
          ]
        }
      ]
    },
    {
      "cell_type": "code",
      "metadata": {
        "id": "nExbpSEC0E2s"
      },
      "source": [
        "df = df.drop_duplicates()"
      ],
      "execution_count": null,
      "outputs": []
    },
    {
      "cell_type": "code",
      "metadata": {
        "colab": {
          "base_uri": "https://localhost:8080/",
          "height": 261
        },
        "id": "liu_7cz30KOf",
        "outputId": "e1b7fd1e-fcb0-4482-d7e8-f83d9160515f"
      },
      "source": [
        "df.head()"
      ],
      "execution_count": null,
      "outputs": [
        {
          "output_type": "execute_result",
          "data": {
            "text/html": [
              "<div>\n",
              "<style scoped>\n",
              "    .dataframe tbody tr th:only-of-type {\n",
              "        vertical-align: middle;\n",
              "    }\n",
              "\n",
              "    .dataframe tbody tr th {\n",
              "        vertical-align: top;\n",
              "    }\n",
              "\n",
              "    .dataframe thead th {\n",
              "        text-align: right;\n",
              "    }\n",
              "</style>\n",
              "<table border=\"1\" class=\"dataframe\">\n",
              "  <thead>\n",
              "    <tr style=\"text-align: right;\">\n",
              "      <th></th>\n",
              "      <th>lemma</th>\n",
              "      <th>next-lemma</th>\n",
              "      <th>next-next-lemma</th>\n",
              "      <th>next-next-pos</th>\n",
              "      <th>next-next-shape</th>\n",
              "      <th>next-next-word</th>\n",
              "      <th>next-pos</th>\n",
              "      <th>next-shape</th>\n",
              "      <th>next-word</th>\n",
              "      <th>pos</th>\n",
              "      <th>prev-iob</th>\n",
              "      <th>prev-lemma</th>\n",
              "      <th>prev-pos</th>\n",
              "      <th>prev-prev-iob</th>\n",
              "      <th>prev-prev-lemma</th>\n",
              "      <th>prev-prev-pos</th>\n",
              "      <th>prev-prev-shape</th>\n",
              "      <th>prev-prev-word</th>\n",
              "      <th>prev-shape</th>\n",
              "      <th>prev-word</th>\n",
              "      <th>sentence_idx</th>\n",
              "      <th>shape</th>\n",
              "      <th>word</th>\n",
              "      <th>tag</th>\n",
              "    </tr>\n",
              "  </thead>\n",
              "  <tbody>\n",
              "    <tr>\n",
              "      <th>0</th>\n",
              "      <td>thousand</td>\n",
              "      <td>of</td>\n",
              "      <td>demonstr</td>\n",
              "      <td>NNS</td>\n",
              "      <td>lowercase</td>\n",
              "      <td>demonstrators</td>\n",
              "      <td>IN</td>\n",
              "      <td>lowercase</td>\n",
              "      <td>of</td>\n",
              "      <td>NNS</td>\n",
              "      <td>__START1__</td>\n",
              "      <td>__start1__</td>\n",
              "      <td>__START1__</td>\n",
              "      <td>__START2__</td>\n",
              "      <td>__start2__</td>\n",
              "      <td>__START2__</td>\n",
              "      <td>wildcard</td>\n",
              "      <td>__START2__</td>\n",
              "      <td>wildcard</td>\n",
              "      <td>__START1__</td>\n",
              "      <td>1.0</td>\n",
              "      <td>capitalized</td>\n",
              "      <td>Thousands</td>\n",
              "      <td>O</td>\n",
              "    </tr>\n",
              "    <tr>\n",
              "      <th>1</th>\n",
              "      <td>of</td>\n",
              "      <td>demonstr</td>\n",
              "      <td>have</td>\n",
              "      <td>VBP</td>\n",
              "      <td>lowercase</td>\n",
              "      <td>have</td>\n",
              "      <td>NNS</td>\n",
              "      <td>lowercase</td>\n",
              "      <td>demonstrators</td>\n",
              "      <td>IN</td>\n",
              "      <td>O</td>\n",
              "      <td>thousand</td>\n",
              "      <td>NNS</td>\n",
              "      <td>__START1__</td>\n",
              "      <td>__start1__</td>\n",
              "      <td>__START1__</td>\n",
              "      <td>wildcard</td>\n",
              "      <td>__START1__</td>\n",
              "      <td>capitalized</td>\n",
              "      <td>Thousands</td>\n",
              "      <td>1.0</td>\n",
              "      <td>lowercase</td>\n",
              "      <td>of</td>\n",
              "      <td>O</td>\n",
              "    </tr>\n",
              "    <tr>\n",
              "      <th>2</th>\n",
              "      <td>demonstr</td>\n",
              "      <td>have</td>\n",
              "      <td>march</td>\n",
              "      <td>VBN</td>\n",
              "      <td>lowercase</td>\n",
              "      <td>marched</td>\n",
              "      <td>VBP</td>\n",
              "      <td>lowercase</td>\n",
              "      <td>have</td>\n",
              "      <td>NNS</td>\n",
              "      <td>O</td>\n",
              "      <td>of</td>\n",
              "      <td>IN</td>\n",
              "      <td>O</td>\n",
              "      <td>thousand</td>\n",
              "      <td>NNS</td>\n",
              "      <td>capitalized</td>\n",
              "      <td>Thousands</td>\n",
              "      <td>lowercase</td>\n",
              "      <td>of</td>\n",
              "      <td>1.0</td>\n",
              "      <td>lowercase</td>\n",
              "      <td>demonstrators</td>\n",
              "      <td>O</td>\n",
              "    </tr>\n",
              "    <tr>\n",
              "      <th>3</th>\n",
              "      <td>have</td>\n",
              "      <td>march</td>\n",
              "      <td>through</td>\n",
              "      <td>IN</td>\n",
              "      <td>lowercase</td>\n",
              "      <td>through</td>\n",
              "      <td>VBN</td>\n",
              "      <td>lowercase</td>\n",
              "      <td>marched</td>\n",
              "      <td>VBP</td>\n",
              "      <td>O</td>\n",
              "      <td>demonstr</td>\n",
              "      <td>NNS</td>\n",
              "      <td>O</td>\n",
              "      <td>of</td>\n",
              "      <td>IN</td>\n",
              "      <td>lowercase</td>\n",
              "      <td>of</td>\n",
              "      <td>lowercase</td>\n",
              "      <td>demonstrators</td>\n",
              "      <td>1.0</td>\n",
              "      <td>lowercase</td>\n",
              "      <td>have</td>\n",
              "      <td>O</td>\n",
              "    </tr>\n",
              "    <tr>\n",
              "      <th>4</th>\n",
              "      <td>march</td>\n",
              "      <td>through</td>\n",
              "      <td>london</td>\n",
              "      <td>NNP</td>\n",
              "      <td>capitalized</td>\n",
              "      <td>London</td>\n",
              "      <td>IN</td>\n",
              "      <td>lowercase</td>\n",
              "      <td>through</td>\n",
              "      <td>VBN</td>\n",
              "      <td>O</td>\n",
              "      <td>have</td>\n",
              "      <td>VBP</td>\n",
              "      <td>O</td>\n",
              "      <td>demonstr</td>\n",
              "      <td>NNS</td>\n",
              "      <td>lowercase</td>\n",
              "      <td>demonstrators</td>\n",
              "      <td>lowercase</td>\n",
              "      <td>have</td>\n",
              "      <td>1.0</td>\n",
              "      <td>lowercase</td>\n",
              "      <td>marched</td>\n",
              "      <td>O</td>\n",
              "    </tr>\n",
              "  </tbody>\n",
              "</table>\n",
              "</div>"
            ],
            "text/plain": [
              "      lemma next-lemma next-next-lemma  ...        shape           word tag\n",
              "0  thousand         of        demonstr  ...  capitalized      Thousands   O\n",
              "1        of   demonstr            have  ...    lowercase             of   O\n",
              "2  demonstr       have           march  ...    lowercase  demonstrators   O\n",
              "3      have      march         through  ...    lowercase           have   O\n",
              "4     march    through          london  ...    lowercase        marched   O\n",
              "\n",
              "[5 rows x 24 columns]"
            ]
          },
          "metadata": {},
          "execution_count": 4
        }
      ]
    },
    {
      "cell_type": "code",
      "metadata": {
        "id": "Px0xzZ4w0N4R"
      },
      "source": [
        "df = df[['sentence_idx', 'word','tag']] #берем только необходимые столбцы"
      ],
      "execution_count": null,
      "outputs": []
    },
    {
      "cell_type": "code",
      "metadata": {
        "colab": {
          "base_uri": "https://localhost:8080/",
          "height": 833
        },
        "id": "rTT0FGic0eKd",
        "outputId": "5e0da6e2-5c75-4460-baf4-d4306a096db3"
      },
      "source": [
        "df.head(25)"
      ],
      "execution_count": null,
      "outputs": [
        {
          "output_type": "execute_result",
          "data": {
            "text/html": [
              "<div>\n",
              "<style scoped>\n",
              "    .dataframe tbody tr th:only-of-type {\n",
              "        vertical-align: middle;\n",
              "    }\n",
              "\n",
              "    .dataframe tbody tr th {\n",
              "        vertical-align: top;\n",
              "    }\n",
              "\n",
              "    .dataframe thead th {\n",
              "        text-align: right;\n",
              "    }\n",
              "</style>\n",
              "<table border=\"1\" class=\"dataframe\">\n",
              "  <thead>\n",
              "    <tr style=\"text-align: right;\">\n",
              "      <th></th>\n",
              "      <th>sentence_idx</th>\n",
              "      <th>word</th>\n",
              "      <th>tag</th>\n",
              "    </tr>\n",
              "  </thead>\n",
              "  <tbody>\n",
              "    <tr>\n",
              "      <th>0</th>\n",
              "      <td>1.0</td>\n",
              "      <td>Thousands</td>\n",
              "      <td>O</td>\n",
              "    </tr>\n",
              "    <tr>\n",
              "      <th>1</th>\n",
              "      <td>1.0</td>\n",
              "      <td>of</td>\n",
              "      <td>O</td>\n",
              "    </tr>\n",
              "    <tr>\n",
              "      <th>2</th>\n",
              "      <td>1.0</td>\n",
              "      <td>demonstrators</td>\n",
              "      <td>O</td>\n",
              "    </tr>\n",
              "    <tr>\n",
              "      <th>3</th>\n",
              "      <td>1.0</td>\n",
              "      <td>have</td>\n",
              "      <td>O</td>\n",
              "    </tr>\n",
              "    <tr>\n",
              "      <th>4</th>\n",
              "      <td>1.0</td>\n",
              "      <td>marched</td>\n",
              "      <td>O</td>\n",
              "    </tr>\n",
              "    <tr>\n",
              "      <th>5</th>\n",
              "      <td>1.0</td>\n",
              "      <td>through</td>\n",
              "      <td>O</td>\n",
              "    </tr>\n",
              "    <tr>\n",
              "      <th>6</th>\n",
              "      <td>1.0</td>\n",
              "      <td>London</td>\n",
              "      <td>B-geo</td>\n",
              "    </tr>\n",
              "    <tr>\n",
              "      <th>7</th>\n",
              "      <td>1.0</td>\n",
              "      <td>to</td>\n",
              "      <td>O</td>\n",
              "    </tr>\n",
              "    <tr>\n",
              "      <th>8</th>\n",
              "      <td>1.0</td>\n",
              "      <td>protest</td>\n",
              "      <td>O</td>\n",
              "    </tr>\n",
              "    <tr>\n",
              "      <th>9</th>\n",
              "      <td>1.0</td>\n",
              "      <td>the</td>\n",
              "      <td>O</td>\n",
              "    </tr>\n",
              "    <tr>\n",
              "      <th>10</th>\n",
              "      <td>1.0</td>\n",
              "      <td>war</td>\n",
              "      <td>O</td>\n",
              "    </tr>\n",
              "    <tr>\n",
              "      <th>11</th>\n",
              "      <td>1.0</td>\n",
              "      <td>in</td>\n",
              "      <td>O</td>\n",
              "    </tr>\n",
              "    <tr>\n",
              "      <th>12</th>\n",
              "      <td>1.0</td>\n",
              "      <td>Iraq</td>\n",
              "      <td>B-geo</td>\n",
              "    </tr>\n",
              "    <tr>\n",
              "      <th>13</th>\n",
              "      <td>1.0</td>\n",
              "      <td>and</td>\n",
              "      <td>O</td>\n",
              "    </tr>\n",
              "    <tr>\n",
              "      <th>14</th>\n",
              "      <td>1.0</td>\n",
              "      <td>demand</td>\n",
              "      <td>O</td>\n",
              "    </tr>\n",
              "    <tr>\n",
              "      <th>15</th>\n",
              "      <td>1.0</td>\n",
              "      <td>the</td>\n",
              "      <td>O</td>\n",
              "    </tr>\n",
              "    <tr>\n",
              "      <th>16</th>\n",
              "      <td>1.0</td>\n",
              "      <td>withdrawal</td>\n",
              "      <td>O</td>\n",
              "    </tr>\n",
              "    <tr>\n",
              "      <th>17</th>\n",
              "      <td>1.0</td>\n",
              "      <td>of</td>\n",
              "      <td>O</td>\n",
              "    </tr>\n",
              "    <tr>\n",
              "      <th>18</th>\n",
              "      <td>1.0</td>\n",
              "      <td>British</td>\n",
              "      <td>B-gpe</td>\n",
              "    </tr>\n",
              "    <tr>\n",
              "      <th>19</th>\n",
              "      <td>1.0</td>\n",
              "      <td>troops</td>\n",
              "      <td>O</td>\n",
              "    </tr>\n",
              "    <tr>\n",
              "      <th>20</th>\n",
              "      <td>1.0</td>\n",
              "      <td>from</td>\n",
              "      <td>O</td>\n",
              "    </tr>\n",
              "    <tr>\n",
              "      <th>21</th>\n",
              "      <td>1.0</td>\n",
              "      <td>that</td>\n",
              "      <td>O</td>\n",
              "    </tr>\n",
              "    <tr>\n",
              "      <th>22</th>\n",
              "      <td>1.0</td>\n",
              "      <td>country</td>\n",
              "      <td>O</td>\n",
              "    </tr>\n",
              "    <tr>\n",
              "      <th>23</th>\n",
              "      <td>1.0</td>\n",
              "      <td>.</td>\n",
              "      <td>O</td>\n",
              "    </tr>\n",
              "    <tr>\n",
              "      <th>24</th>\n",
              "      <td>2.0</td>\n",
              "      <td>Families</td>\n",
              "      <td>O</td>\n",
              "    </tr>\n",
              "  </tbody>\n",
              "</table>\n",
              "</div>"
            ],
            "text/plain": [
              "    sentence_idx           word    tag\n",
              "0            1.0      Thousands      O\n",
              "1            1.0             of      O\n",
              "2            1.0  demonstrators      O\n",
              "3            1.0           have      O\n",
              "4            1.0        marched      O\n",
              "5            1.0        through      O\n",
              "6            1.0         London  B-geo\n",
              "7            1.0             to      O\n",
              "8            1.0        protest      O\n",
              "9            1.0            the      O\n",
              "10           1.0            war      O\n",
              "11           1.0             in      O\n",
              "12           1.0           Iraq  B-geo\n",
              "13           1.0            and      O\n",
              "14           1.0         demand      O\n",
              "15           1.0            the      O\n",
              "16           1.0     withdrawal      O\n",
              "17           1.0             of      O\n",
              "18           1.0        British  B-gpe\n",
              "19           1.0         troops      O\n",
              "20           1.0           from      O\n",
              "21           1.0           that      O\n",
              "22           1.0        country      O\n",
              "23           1.0              .      O\n",
              "24           2.0       Families      O"
            ]
          },
          "metadata": {},
          "execution_count": 6
        }
      ]
    },
    {
      "cell_type": "code",
      "metadata": {
        "colab": {
          "base_uri": "https://localhost:8080/"
        },
        "id": "C_nDWtUg0jMa",
        "outputId": "89bb94b0-8243-4544-a747-9cc1e0784b05"
      },
      "source": [
        "max_idx = int(df.sentence_idx.max())\n",
        "max_idx"
      ],
      "execution_count": null,
      "outputs": [
        {
          "output_type": "execute_result",
          "data": {
            "text/plain": [
              "47959"
            ]
          },
          "metadata": {},
          "execution_count": 7
        }
      ]
    },
    {
      "cell_type": "code",
      "metadata": {
        "colab": {
          "base_uri": "https://localhost:8080/"
        },
        "id": "6lXN0KZq0oPl",
        "outputId": "1ff44e6e-779e-4045-b170-faa58a37c860"
      },
      "source": [
        "df.loc[df['sentence_idx']==1, 'word']"
      ],
      "execution_count": null,
      "outputs": [
        {
          "output_type": "execute_result",
          "data": {
            "text/plain": [
              "0         Thousands\n",
              "1                of\n",
              "2     demonstrators\n",
              "3              have\n",
              "4           marched\n",
              "5           through\n",
              "6            London\n",
              "7                to\n",
              "8           protest\n",
              "9               the\n",
              "10              war\n",
              "11               in\n",
              "12             Iraq\n",
              "13              and\n",
              "14           demand\n",
              "15              the\n",
              "16       withdrawal\n",
              "17               of\n",
              "18          British\n",
              "19           troops\n",
              "20             from\n",
              "21             that\n",
              "22          country\n",
              "23                .\n",
              "Name: word, dtype: object"
            ]
          },
          "metadata": {},
          "execution_count": 8
        }
      ]
    },
    {
      "cell_type": "code",
      "metadata": {
        "id": "e1KbxS_w0qQA"
      },
      "source": [
        "sequences = []\n",
        "for i in range(1, max_idx+1): #проходимся по всем id предложений\n",
        "  if len(df.loc[df['sentence_idx']==i, 'word'].values.tolist()) > 3:\n",
        "    sequences.append(df.loc[df['sentence_idx']==i, 'word'].values.tolist()) #делаем список из слов с одним id (предложения)"
      ],
      "execution_count": null,
      "outputs": []
    },
    {
      "cell_type": "code",
      "metadata": {
        "colab": {
          "base_uri": "https://localhost:8080/"
        },
        "id": "aYFjvsUEA2CO",
        "outputId": "6c56b652-4c53-4998-85a6-72ca0fb9339f"
      },
      "source": [
        "len(sequences)"
      ],
      "execution_count": null,
      "outputs": [
        {
          "output_type": "execute_result",
          "data": {
            "text/plain": [
              "35168"
            ]
          },
          "metadata": {},
          "execution_count": 10
        }
      ]
    },
    {
      "cell_type": "code",
      "metadata": {
        "colab": {
          "base_uri": "https://localhost:8080/"
        },
        "id": "5Arp5Ws30wKQ",
        "outputId": "96c1c51b-a55b-405a-936d-8bc6ddf7909b"
      },
      "source": [
        "print(sequences[2])"
      ],
      "execution_count": null,
      "outputs": [
        {
          "output_type": "stream",
          "name": "stdout",
          "text": [
            "['They', 'marched', 'from', 'the', 'Houses', 'of', 'Parliament', 'to', 'a', 'rally', 'in', 'Hyde', 'Park', '.']\n"
          ]
        }
      ]
    },
    {
      "cell_type": "code",
      "metadata": {
        "id": "7HPn2TxdBMxu"
      },
      "source": [
        "np.random.seed(42)\n",
        "x = []\n",
        "for n, i in enumerate(np.random.randint(0, len(sequences), 10)):\n",
        "    x.append(sequences.pop(i - n))"
      ],
      "execution_count": null,
      "outputs": []
    },
    {
      "cell_type": "code",
      "metadata": {
        "colab": {
          "base_uri": "https://localhost:8080/"
        },
        "id": "PpZZHRLOBSan",
        "outputId": "a4b246e4-8d37-407e-f5ff-e61884de3c70"
      },
      "source": [
        "len(sequences)"
      ],
      "execution_count": null,
      "outputs": [
        {
          "output_type": "execute_result",
          "data": {
            "text/plain": [
              "35158"
            ]
          },
          "metadata": {},
          "execution_count": 13
        }
      ]
    },
    {
      "cell_type": "code",
      "metadata": {
        "id": "B9VaML5j0yqb"
      },
      "source": [
        "sequences_ = [' '.join(sequence) for sequence in sequences]\n",
        "x_sequences = [' '.join(sequence) for sequence in x]"
      ],
      "execution_count": null,
      "outputs": []
    },
    {
      "cell_type": "code",
      "metadata": {
        "colab": {
          "base_uri": "https://localhost:8080/"
        },
        "id": "pGjPe1xBBcU2",
        "outputId": "b4778ff3-bfb6-4d8c-c43f-c03370062055"
      },
      "source": [
        "x_sequences"
      ],
      "execution_count": null,
      "outputs": [
        {
          "output_type": "execute_result",
          "data": {
            "text/plain": [
              "['China has reported two other bird flu deaths this year .',\n",
              " 'Officials said Sunday that the group named KindHearts has coordinated with Hamas leaders and has ties to two other U.S.-based charities accused of links to terrorism .',\n",
              " \"Morocco 's long-term challenges include improving education and job prospects for young Moroccans , closing the disparity in wealth between the rich and the poor , confronting corruption , and expanding and diversifying exports beyond phosphates and low-value-added products .\",\n",
              " 'In 2004 , about 170 people were killed .',\n",
              " 'Sales , however , were little changed at 2.46 billion guilders , compared with 2.42 billion guilders .',\n",
              " 'An Israeli newspaper reports that Prime Minister Ehud Olmert is urging the United States to impose a naval blockade on Iran in an effort to curb its controversial nuclear program .',\n",
              " 'Under the regulations , foreign news and music broadcasts must be edited locally .',\n",
              " \"Zambia 's deputy leader says President Levy Mwanawasa has undergone minor surgery in France to improve his breathing .\",\n",
              " 'The probe of the area where two pieces of ocean floor collided shows a ridge of mud hundreds of meters thick where the seawater was forced up to form the tsunami .',\n",
              " \"Two car bomb blasts near the Shi'ite shrine city of Karbala in southern Iraq have killed at least 20 people and wounded more than 50 others .\"]"
            ]
          },
          "metadata": {},
          "execution_count": 15
        }
      ]
    },
    {
      "cell_type": "code",
      "metadata": {
        "colab": {
          "base_uri": "https://localhost:8080/",
          "height": 36
        },
        "id": "koScWroP01yg",
        "outputId": "bdc4eda2-15c3-48cf-e496-c593a67ff72f"
      },
      "source": [
        "sequences_[0]"
      ],
      "execution_count": null,
      "outputs": [
        {
          "output_type": "execute_result",
          "data": {
            "application/vnd.google.colaboratory.intrinsic+json": {
              "type": "string"
            },
            "text/plain": [
              "'Thousands of demonstrators have marched through London to protest the war in Iraq and demand the withdrawal of British troops from that country .'"
            ]
          },
          "metadata": {},
          "execution_count": 16
        }
      ]
    },
    {
      "cell_type": "code",
      "metadata": {
        "id": "r_qKqIEK034E"
      },
      "source": [
        "from gensim.corpora.dictionary import Dictionary\n",
        "from gensim.models.ldamodel import LdaModel"
      ],
      "execution_count": null,
      "outputs": []
    },
    {
      "cell_type": "code",
      "metadata": {
        "id": "cgKMpy6a06D9"
      },
      "source": [
        "common_dictionary = Dictionary(sequences) #подаем список списков слов, формируем слова\n",
        "common_corpus = [common_dictionary.doc2bow(text) for text in sequences] #превращаем предложение в вектор bow\n",
        "\n",
        "lda = LdaModel(common_corpus, num_topics=10) #тренируем модель"
      ],
      "execution_count": null,
      "outputs": []
    },
    {
      "cell_type": "code",
      "metadata": {
        "id": "SFi6R_dQ1OuO",
        "colab": {
          "base_uri": "https://localhost:8080/"
        },
        "outputId": "d4091ec3-99a2-482f-c2f9-4900e5585daa"
      },
      "source": [
        "import pyLDAvis\n",
        "import pyLDAvis.gensim_models as gensimvis\n",
        "pyLDAvis.enable_notebook()"
      ],
      "execution_count": null,
      "outputs": [
        {
          "output_type": "stream",
          "name": "stderr",
          "text": [
            "/usr/local/lib/python3.7/dist-packages/past/types/oldstr.py:5: DeprecationWarning: Using or importing the ABCs from 'collections' instead of from 'collections.abc' is deprecated since Python 3.3,and in 3.9 it will stop working\n",
            "  from collections import Iterable\n",
            "/usr/local/lib/python3.7/dist-packages/sklearn/decomposition/_lda.py:29: DeprecationWarning: `np.float` is a deprecated alias for the builtin `float`. To silence this warning, use `float` by itself. Doing this will not modify any behavior and is safe. If you specifically wanted the numpy scalar type, use `np.float64` here.\n",
            "Deprecated in NumPy 1.20; for more details and guidance: https://numpy.org/devdocs/release/1.20.0-notes.html#deprecations\n",
            "  EPS = np.finfo(np.float).eps\n"
          ]
        }
      ]
    },
    {
      "cell_type": "code",
      "metadata": {
        "colab": {
          "base_uri": "https://localhost:8080/",
          "height": 917
        },
        "id": "sM56-Ajg2KON",
        "outputId": "31c53887-c347-4aec-f5f1-fd39d3a6a5f3"
      },
      "source": [
        "vis_data = gensimvis.prepare(lda, common_corpus, common_dictionary) #подготовим объет визуальных данных по пространству топиков\n",
        "pyLDAvis.display(vis_data) #визуализируем данные"
      ],
      "execution_count": null,
      "outputs": [
        {
          "output_type": "stream",
          "name": "stderr",
          "text": [
            "/usr/local/lib/python3.7/dist-packages/pyLDAvis/_prepare.py:247: FutureWarning: In a future version of pandas all arguments of DataFrame.drop except for the argument 'labels' will be keyword-only\n",
            "  by='saliency', ascending=False).head(R).drop('saliency', 1)\n"
          ]
        },
        {
          "output_type": "execute_result",
          "data": {
            "text/html": [
              "\n",
              "<link rel=\"stylesheet\" type=\"text/css\" href=\"https://cdn.jsdelivr.net/gh/bmabey/pyLDAvis@3.3.1/pyLDAvis/js/ldavis.v1.0.0.css\">\n",
              "\n",
              "\n",
              "<div id=\"ldavis_el3011405406517154084572478255\"></div>\n",
              "<script type=\"text/javascript\">\n",
              "\n",
              "var ldavis_el3011405406517154084572478255_data = {\"mdsDat\": {\"x\": [0.10868050675563762, 0.07161748291417429, 0.0806266290299409, 0.11355771267702901, 0.08063176460730465, 0.07542141658883311, -0.03281828876672451, -0.1471909018923613, -0.0832309662191659, -0.2672953556946677], \"y\": [0.043266184734507294, -0.06099813558755315, -0.018617859040233036, 0.12660608879037577, -0.06873665343491855, 0.08505497461362214, -0.06754256890858983, -0.17686031749100573, -0.029827985584117263, 0.1676562719079122], \"topics\": [1, 2, 3, 4, 5, 6, 7, 8, 9, 10], \"cluster\": [1, 1, 1, 1, 1, 1, 1, 1, 1, 1], \"Freq\": [21.401150136041622, 17.230961466470212, 12.83739164402306, 12.341768443839332, 11.526874912252962, 9.716005314688196, 4.3844734551423095, 3.8364655709649753, 3.8331129384191738, 2.891796118158157]}, \"tinfo\": {\"Term\": [\",\", \"and\", \"to\", \".\", \"killed\", \"in\", \"were\", \"for\", \"not\", \"of\", \"'s\", \"say\", \"people\", \"President\", \"Iran\", \"least\", \"was\", \"at\", \"The\", \"a\", \"his\", \"$\", \"will\", \"police\", \"is\", \"its\", \"said\", \"be\", \"Mr.\", \")\", \"village\", \"attacked\", \"dispute\", \"Helmand\", \"again\", \"fraud\", \"list\", \"wounding\", \"separatist\", \"rains\", \"fourth\", \"Kosovo\", \"22\", \"condemned\", \"compound\", \"lost\", \"dozens\", \"Vatican\", \"train\", \"Beirut\", \"Hassan\", \"located\", \"invasion\", \"upon\", \"explosions\", \"justice\", \"Hong\", \"larger\", \"convoy\", \"crew\", \"eastern\", \"Musharraf\", \"connection\", \"Kandahar\", \"Ocean\", \"opened\", \"Health\", \"Taliban\", \"Many\", \"bird\", \"flu\", \"hundreds\", \"parts\", \"crossing\", \"Indian\", \"fled\", \"NATO\", \"Kashmir\", \"believed\", \"Afghanistan\", \"kilometers\", \"of\", \"southern\", \"the\", \"Taleban\", \"have\", \"in\", \"forces\", \"recent\", \".\", \"thousands\", \"and\", \"from\", \"The\", \",\", \"region\", \"Pakistan\", \"border\", \"a\", \"been\", \"on\", \"with\", \"by\", \"says\", \"to\", \"has\", \"troops\", \"'s\", \"U.S.\", \"are\", \"an\", \"two\", \"say\", \"that\", \"government\", \"officials\", \"after\", \"at\", \"for\", \"life\", \"community\", \"pledged\", \"review\", \"crude\", \"cooperation\", \"24\", \"de\", \"includes\", \"Zimbabwe\", \"remaining\", \"black\", \"rates\", \"age\", \"best\", \"As\", \"sectors\", \"Canadian\", \"push\", \"extremists\", \"relief\", \"shortly\", \"technology\", \"receiving\", \"backed\", \"Group\", \"destruction\", \"Five\", \"arrests\", \"agents\", \"market\", \"coming\", \"better\", \"halt\", \"sharply\", \"higher\", \"domestic\", \"must\", \"markets\", \"housing\", \"economy\", \"economic\", \"keep\", \"unemployment\", \"effort\", \"growth\", \"global\", \"Katrina\", \"nations\", \"get\", \"Hurricane\", \"Taiwan\", \"reforms\", \"make\", \"trade\", \"South\", \"money\", \"to\", \",\", \"problems\", \"the\", \"and\", \"ministers\", \"international\", \"help\", \"Beijing\", \".\", \"are\", \"will\", \"prices\", \"countries\", \"for\", \"\\\"\", \"by\", \"is\", \"in\", \"of\", \"a\", \"The\", \"that\", \"'s\", \"which\", \"from\", \"as\", \"their\", \"be\", \"on\", \"it\", \"said\", \"but\", \"an\", \"with\", \"U.S.\", \"also\", \"says\", \"Chavez\", \"Islam\", \"Blair\", \"Venezuelan\", \"sentenced\", \"freed\", \"Putin\", \"described\", \"ceremony\", \"assassination\", \"tens\", \"Yukos\", \"population\", \"resigned\", \"Hugo\", \"Catholic\", \"Peace\", \"Movement\", \"widespread\", \"Morales\", \"Tibet\", \"Embassy\", \"Tony\", \"Church\", \"street\", \"1994\", \"delegation\", \"Vladimir\", \"Assembly\", \"consider\", \"Day\", \"brother\", \"filed\", \"custody\", \"resignation\", \"Abdullah\", \"withdrawal\", \"Former\", \"former\", \"President\", \"charges\", \"Russian\", \"Bush\", \"court\", \"of\", \"Mr.\", \"'s\", \"his\", \"has\", \"the\", \"war\", \".\", \"is\", \"to\", \"for\", \"accused\", \"a\", \"opposition\", \"as\", \"in\", \"The\", \",\", \"and\", \"president\", \"on\", \"\\\"\", \"government\", \"United\", \"with\", \"new\", \"have\", \"that\", \"U.S.\", \"by\", \"car\", \"wounded\", \"bomb\", \"blast\", \"roadside\", \"exploded\", \"others\", \"mosque\", \"immediate\", \"sparked\", \"injuries\", \"suicide\", \"peacekeeping\", \"blasts\", \"bombers\", \"admitted\", \"least\", \"bombing\", \"For\", \"vehicle\", \"extend\", \"prayers\", \"jets\", \"injured\", \"ships\", \"officers\", \"bases\", \"claim\", \"forcing\", \"leadership\", \"Baghdad\", \"displaced\", \"bomber\", \"Witnesses\", \"airport\", \"killed\", \"attack\", \"There\", \"police\", \"explosion\", \"At\", \"people\", \"killing\", \"were\", \"near\", \"Police\", \"district\", \"say\", \"suspected\", \"at\", \"soldiers\", \"Iraqi\", \"arrested\", \"in\", \"a\", \"two\", \".\", \"province\", \"one\", \"was\", \"the\", \",\", \"and\", \"of\", \"officials\", \"have\", \"military\", \"U.S.\", \"said\", \"The\", \"been\", \"has\", \"Mahmoud\", \"Abbas\", \"Sharon\", \"About\", \"meet\", \"Pyongyang\", \"Erdogan\", \"Rice\", \"Nigerian\", \"stand\", \"offer\", \"Condoleezza\", \"Middle\", \"programs\", \"commanders\", \"cuts\", \"Jerusalem\", \"Olmert\", \"two-day\", \"considering\", \"Ariel\", \"Authority\", \"Ahmadinejad\", \"Iranians\", \"referred\", \"State\", \"So\", \"medicine\", \"Ibrahim\", \"Opposition\", \"Iranian\", \"comment\", \"did\", \"nuclear\", \"Iran\", \"resume\", \"Foreign\", \"Secretary\", \"Speaking\", \"sanctions\", \"Minister\", \"Tehran\", \"relations\", \"should\", \"Prime\", \"talks\", \"right\", \"Israel\", \"not\", \"any\", \"date\", \"would\", \"if\", \"Council\", \"be\", \"said\", \"program\", \"will\", \"he\", \"Palestinian\", \"it\", \"to\", \"that\", \"says\", \".\", \"with\", \"is\", \"the\", \"\\\"\", \"Mr.\", \"its\", \"has\", \"'s\", \"on\", \"a\", \"for\", \"The\", \"and\", \"U.S.\", \",\", \"of\", \"amid\", \"involvement\", \"Supreme\", \"sales\", \"rival\", \"Hu\", \"Fox\", \"Strip\", \"hostages\", \"unless\", \"cabinet\", \"constitutional\", \"Norway\", \"Since\", \"decade\", \"1996\", \"Revolutionary\", \"unrest\", \"2\", \"restive\", \"appears\", \"expanded\", \"caught\", \"widely\", \"assets\", \"coup\", \"vice\", \"actions\", \"executed\", \"commitment\", \"kidnapped\", \"farm\", \"7\", \"identified\", \"2010\", \"voting\", \"round\", \"give\", \"Gaza\", \"ruling\", \"won\", \"Interior\", \"Last\", \"Court\", \"was\", \"second\", \"elections\", \"Israeli\", \"since\", \"office\", \"first\", \"in\", \",\", \"the\", \"last\", \"October\", \"a\", \"after\", \".\", \"who\", \"'s\", \"his\", \"Palestinian\", \"had\", \"election\", \"of\", \"her\", \"an\", \"Mr.\", \"has\", \"he\", \"by\", \"president\", \"week\", \"been\", \"and\", \"from\", \"on\", \"The\", \"to\", \"for\", \"Press\", \"Associated\", \"see\", \"vehicles\", \"weekly\", \"settlers\", \"hearing\", \"fought\", \"Ahmed\", \"threatened\", \"insists\", \"gathering\", \"pirates\", \"Kuwait\", \"available\", \"prosecutors\", \"beat\", \"sign\", \"husband\", \"Spanish\", \"Philippines\", \"takes\", \"delayed\", \"treaty\", \"rebuild\", \"landed\", \"monitors\", \"Center\", \"limit\", \"Cyprus\", \"lawmakers\", \"immediately\", \"Somali\", \"strikes\", \"Justice\", \"Abdul\", \"Morocco\", \"dictator\", \"bilateral\", \"Donald\", \"Nepal\", \"links\", \"women\", \"membership\", \"They\", \"Union\", \"clear\", \"European\", \"among\", \"Somalia\", \".\", \"to\", \"EU\", \"face\", \",\", \"not\", \"the\", \"and\", \"The\", \"It\", \"are\", \"for\", \"on\", \"is\", \"a\", \"were\", \"of\", \"their\", \"in\", \"that\", \"'s\", \"have\", \"also\", \"they\", \"%\", \"GDP\", \"allies\", \"tourism\", \"atomic\", \"deficit\", \"denies\", \"continuing\", \"tax\", \"stepped\", \"especially\", \"however\", \"monitoring\", \"resumed\", \"immigrants\", \"Guatemala\", \"output\", \"drove\", \"products\", \"Mumbai\", \"my\", \"banking\", \"unity\", \"temporary\", \"wrote\", \"n't\", \"Fund\", \"accuse\", \"sector\", \"peaceful\", \"agricultural\", \"develop\", \"charge\", \"partner\", \"continues\", \";\", \"IMF\", \"militia\", \"even\", \"2009\", \"industrial\", \"restrictions\", \"facilities\", \"and\", \",\", \"companies\", \"its\", \"-\", \"trying\", \".\", \"of\", \"The\", \"as\", \"States\", \"to\", \"United\", \"\\\"\", \"from\", \"a\", \"about\", \"the\", \"has\", \"in\", \"for\", \"is\", \"are\", \"Karzai\", \"Hamid\", \")\", \"(\", \"investigating\", \"Saddam\", \"final\", \"Yushchenko\", \"tensions\", \"Liberation\", \"per\", \"matter\", \"confidence\", \"reserves\", \"barrel\", \"stations\", \"funding\", \"riots\", \"Man\", \"film\", \"extension\", \"dramatically\", \"speaker\", \"acting\", \"Viktor\", \"extradition\", \"Program\", \"humanity\", \"initial\", \"neighbors\", \"uranium\", \"factions\", \"Hussein\", \"daily\", \"That\", \"enrichment\", \"Ghazni\", \"$\", \"demanding\", \"million\", \"York\", \"Another\", \"New\", \"Party\", \"this\", \"for\", \"-\", \".\", \",\", \"The\", \"year\", \"a\", \"the\", \"to\", \"an\", \"of\", \"in\", \"by\", \"week\", \"'s\", \"last\", \"and\", \"is\", \"oil\", \"will\", \"VOA\", \"2011\", \"southeast\", \"Mullah\", \"seriously\", \"images\", \"Manila\", \"occupation\", \"brief\", \"captain\", \"Director\", \"villagers\", \"buried\", \"Philippine\", \"losses\", \"FIFA\", \"factory\", \"Omar\", \"Khin\", \"Deputy\", \"Cleveland\", \"17th\", \"stands\", \"whole\", \"Martin\", \"41\", \"Powell\", \"spot\", \"1989\", \"160\", \"organizations\", \"crime\", \"Smith\", \"shown\", \"rate\", \"index\", \"One\", \"times\", \"ever\", \"Italy\", \"prime\", \"Orleans\", \"Tibetan\", \"minister\", \"order\", \"percent\", \"him\", \".\", \"'s\", \"his\", \"reports\", \"the\", \"from\", \"of\", \",\", \"at\", \"on\", \"and\", \"hit\", \"that\", \"was\", \"with\", \"in\", \"a\", \"The\"], \"Freq\": [22798.0, 14033.0, 16132.0, 33780.0, 2068.0, 18489.0, 2505.0, 6022.0, 2042.0, 18825.0, 7761.0, 2953.0, 1814.0, 1756.0, 1095.0, 992.0, 3472.0, 3120.0, 8004.0, 14256.0, 2365.0, 689.0, 2259.0, 1097.0, 4757.0, 1847.0, 3848.0, 1757.0, 2165.0, 470.0, 155.5186773853489, 129.5208399396427, 109.04213472689422, 93.99786298470353, 93.21928553126259, 91.23490221460447, 90.23544724239409, 106.22857494486516, 78.14605629246395, 77.9948529619615, 77.44055725680195, 77.15064713451179, 73.71711539385572, 83.0925023201842, 70.12341728803284, 92.1449087821142, 79.98056732757084, 69.92544530229455, 70.09102683423775, 66.00868054904757, 64.73686327615219, 63.263564453197496, 62.95759556046701, 62.90766686095847, 63.7528637932028, 62.27200480372297, 62.23131683973913, 73.45581324812515, 116.56486909122303, 75.20556806548176, 229.72681099177643, 117.87298378174155, 77.57655885917441, 108.95659328602162, 131.81441922454616, 119.9157513103106, 154.69180870988617, 177.82476916975313, 90.5810986304762, 335.5502395332073, 364.65627737374996, 141.1083009483685, 126.17784825534515, 93.68919369050366, 253.89073110766333, 119.44140951319604, 362.35411808985157, 103.07978234496213, 130.5030008513789, 568.0767922952385, 191.29169044939192, 7387.05861040033, 457.2828439342646, 11623.925238382979, 324.80842552363737, 1813.5756843449535, 5799.950620598565, 585.1724019891014, 266.3931494199261, 7332.06326827101, 238.19538491048897, 3499.400699368801, 1173.3066655955386, 2212.002799459244, 4259.367062489825, 375.52146717243915, 359.36264781526995, 291.854487955263, 2665.412233490094, 741.4415324338644, 1249.432017213992, 1019.030852774423, 907.5983456489637, 932.4051911359674, 2329.3097714322876, 1192.0827676818358, 438.59334621282267, 1259.7087110101886, 771.1366025268369, 659.0939961871297, 657.8005613386416, 574.2591412139004, 663.9104399086498, 766.3042245214691, 588.181721725878, 561.7550566964757, 512.7339602066237, 567.4806738829245, 614.1943251966402, 112.2586693328752, 110.1044241799674, 96.77439670725474, 95.02900255238762, 90.51929023224278, 108.44766362319709, 80.51509666501232, 76.0034105973803, 108.02349295227728, 67.28751131285571, 65.7870854349832, 62.50108884694761, 61.53022096187951, 60.671313132027386, 59.933717528102044, 76.05889911560426, 63.464208231138244, 58.04965604733285, 59.20624508999969, 57.81221653760874, 131.56624504021315, 56.895279760638, 55.78430278880804, 55.89151736910851, 55.435099827621556, 55.081718072927025, 54.300541970285416, 53.23951006182281, 52.978535926299244, 52.87617090525441, 167.39067170701895, 83.95727373292327, 81.41201069891962, 65.49466240883359, 63.93364017011889, 78.00126710173247, 69.43669102787646, 189.93805368522146, 82.73672679072511, 90.77984803040577, 355.9488908598648, 406.1704639142566, 102.35043381730732, 79.85574164507153, 148.46767607159012, 179.93303515322097, 195.48759940321935, 82.02438127672384, 239.48972450653775, 90.40463554910973, 104.1246786092724, 89.63299280103028, 104.31772036546133, 186.8527933845944, 202.67971936792335, 390.11520001850283, 127.1908863283177, 5129.104072877483, 6523.166857451414, 123.99935206142703, 7945.239092616117, 3774.182921440535, 132.86040659572274, 289.3380279873162, 226.98729860714693, 172.93890673332612, 5552.608110583497, 920.1695903159412, 841.0775810090981, 196.82074247160105, 308.03836023434593, 1347.466430537034, 814.5093978412408, 855.0234022779131, 1098.0502519004274, 2399.878582805597, 2403.7843823643184, 2012.3384447821838, 1411.0122177609926, 977.9520965569019, 1263.2626619567939, 433.4027205921413, 744.791948943262, 686.7761704211586, 453.7522422239397, 521.8624130314481, 808.6684005509346, 557.3939386551348, 680.0637019356473, 432.730998810601, 559.7413412134983, 579.8871350968528, 524.4627019866084, 439.9165498969492, 434.77210043079566, 219.10814774633343, 122.13575767184442, 109.42367224203682, 130.11123447483368, 107.79826433242131, 110.84405170387015, 103.53209415109407, 98.03950989776676, 95.80076283879046, 100.86896451299965, 90.98389247328045, 98.56031225400349, 96.0141546367147, 86.7925961031495, 86.10043697394708, 84.04637864925498, 84.64108407068937, 79.98211214752497, 73.46654542153229, 70.52548373675248, 68.44148737570019, 67.8807006236263, 64.49047648849701, 64.39181078424548, 63.60640834264186, 61.94245779603924, 61.079751806213174, 58.61941043282715, 61.0475448664834, 55.44099847935213, 75.99764211569438, 67.36065648319915, 65.8980352102774, 116.26782212841866, 80.86611136467015, 70.68055035793049, 138.8906268221105, 78.98123281452077, 470.02588418574805, 1154.360593853064, 282.57453315874653, 241.7719535343344, 425.4086978470885, 255.38066362332856, 3822.745816319728, 812.5758393121688, 1958.7796853431616, 840.9784197292449, 1387.5851116372621, 5028.87361754829, 291.55819573799596, 4571.375572350621, 1234.368353224754, 2739.4074352076987, 1426.2604593672984, 212.9300444961967, 2038.9347683442772, 217.4034947964982, 704.177033594203, 1917.520981468694, 1146.8718111829985, 1980.698279871526, 1371.0212669185378, 264.2315005784811, 714.2382816725261, 537.5084238603376, 466.2110936616074, 358.6895436353288, 495.51346945852833, 310.51689955564257, 420.37952131083614, 412.4376013014801, 333.4610613832959, 329.11485348158436, 311.2943073249493, 471.25090443497544, 533.4581302441345, 267.7723810427551, 167.51989754764546, 119.15085520557203, 486.4828044081544, 100.92201743849567, 85.33937449769641, 83.40089475405222, 84.81555179818778, 267.55663606906444, 104.52217747197861, 70.32346800142857, 67.5567104571824, 59.00177172413885, 977.1604315340066, 163.0272906597496, 56.172932553133435, 151.4110794101841, 48.24025692865475, 48.19063359668014, 47.99886090032106, 158.47355197962597, 45.71317245708058, 215.16597223164484, 43.52692948036569, 70.45065194964886, 42.199795270468464, 46.463547259222054, 492.61378750610567, 65.91144242448017, 127.47707157452426, 97.1482033545705, 74.67250077314277, 1872.8414946156777, 674.1099810884625, 157.88006002169405, 931.8620716970692, 150.37595857347694, 200.4141142128271, 1253.3083430292365, 346.1973246228653, 1650.239864245018, 445.74696369846265, 263.91614120175745, 164.7426586897906, 1689.3263946029551, 288.26431002689344, 1553.1635942893238, 410.36933838327235, 512.9713922161565, 261.67353769464717, 4046.9521244144476, 3315.662590494382, 823.2714215892511, 4921.642109421115, 387.4606990134909, 490.16842746029295, 939.5066934330034, 3408.674275509063, 2601.7374455164822, 1695.7207690253958, 1899.310864841299, 592.48093638531, 743.6528452515568, 470.93414566332353, 595.5514642662199, 592.8082537826837, 701.7997782411251, 482.3648961983291, 479.1781792561299, 206.59941077098583, 190.08225601075884, 116.04548808264738, 88.4130660075707, 232.6275596973206, 78.45368965302168, 67.4236167591609, 97.71210049787271, 66.32282520553318, 62.27159271884527, 66.02950841647642, 56.97729946261015, 133.6366867111135, 77.60311738380229, 53.48688124955153, 52.71693886187467, 53.25590008054998, 68.05949578657834, 49.280732935958234, 50.79104362183681, 47.76165936587695, 59.03968216860209, 144.4261954819712, 43.64548663492996, 45.266016764841304, 337.6986571096813, 41.51526249435285, 41.54095285704481, 41.167632843555936, 45.553562119276044, 374.87389618519813, 71.89001602860112, 292.58914473462613, 695.6508307672248, 1028.605935961488, 72.06028624413007, 261.03032130079436, 223.23531576422215, 88.3958806454969, 155.8389882459774, 756.8416952753196, 268.64368426773, 145.0595781962903, 270.2061286990594, 432.76917352835494, 595.238926392107, 100.18478114454085, 526.0020940463376, 1334.76978375673, 321.055077500969, 82.50411238525415, 519.6437576472719, 316.2741840425095, 225.7569839766097, 926.1279508297761, 1626.454520445028, 284.0396849864939, 1033.7648454935108, 936.9541100156688, 419.8647202193042, 894.1265372728119, 3471.8323161832004, 1361.5796912965852, 1106.169973666889, 4131.604649691413, 1009.1609360278783, 1140.3584875890008, 3152.3550736058864, 809.179932093296, 690.0569025741116, 619.7404663900203, 976.5488541427214, 1094.038799759099, 889.1137755258201, 1249.2745673548052, 828.0534620035631, 871.4529173834978, 954.8773904936198, 618.1349450847292, 899.3890953751335, 534.1018667150909, 116.94758093222298, 106.03703513704292, 95.02517747248925, 93.97549712318188, 99.3580857972885, 80.41157503612001, 72.39779486542054, 197.17435658011206, 79.49851615981878, 65.4729433943848, 94.40717680827123, 94.07636555749386, 59.09641241925604, 55.19049727958113, 62.12943433492731, 54.29203698109301, 60.93032071725489, 48.50527898532805, 74.05262060956136, 45.743395872827634, 46.29390311222479, 43.86407460763532, 46.31941801787848, 42.425058274221215, 42.14009907829639, 50.6418491024962, 44.22915643283219, 65.86517909600235, 39.83435413771574, 37.31015656564888, 136.80281186193287, 65.50266658572136, 65.90271022234558, 88.46331237861408, 103.06821131504827, 52.09009497155569, 77.48942492806269, 144.49184540843308, 374.50480286679334, 149.59725238980357, 140.58116551554699, 85.23391394168142, 157.05560406140236, 114.36097204893368, 1220.892678574785, 152.28476448662536, 253.97511872754328, 380.55955214627215, 395.9372192782366, 142.92048544613675, 347.5413426784555, 3123.4308124249665, 3432.8851872578575, 4246.542268976406, 472.53893938175685, 139.05095806593047, 2029.8445491076773, 553.3301643890688, 3287.4401564474488, 419.8744351515019, 1171.0726972323873, 589.0772906157359, 295.12338834246407, 337.4588814290422, 194.39657501643163, 1358.6688912606205, 196.65560711645188, 423.2681914898051, 378.12420678782775, 532.0443771713364, 358.10765244373766, 406.7167604445244, 227.3721277702809, 259.17377749393194, 310.67787303155023, 533.4870192384896, 347.83922670220596, 381.79080611110726, 432.5492699400057, 500.72099389866065, 393.9488216826897, 92.24966410606655, 76.55374772972688, 66.54119775150942, 66.05822861072184, 61.209586004149266, 56.76484327208252, 54.56046181205856, 54.80192676423423, 52.9661833934802, 134.26443238074978, 48.18058981627846, 53.95056672372496, 46.15391409956366, 44.43577409910847, 44.003820172701374, 42.83486472280799, 41.9445350538395, 59.471407955713694, 40.77264864216008, 111.00123566277976, 43.02997574922679, 39.67603733337938, 39.88791016535373, 40.1834233084301, 38.75861098155352, 36.69466065042443, 35.77053663893488, 64.67896978630313, 37.044170977034405, 34.64140617181044, 157.6844257451644, 131.83610503732487, 79.2447002353839, 84.36362695653982, 96.97768606039453, 65.71325009249593, 49.84220580670712, 55.9116822791505, 77.37255722274342, 46.35117920633124, 70.03466878186214, 64.6187575512714, 169.60346631229416, 55.41215928591937, 203.62581961155595, 197.4050709828886, 98.8258713050757, 221.88424409592469, 141.41379759285456, 102.34555227482709, 1460.6188394038895, 939.4750317441864, 118.87055024318717, 88.7721073742469, 685.8909488712117, 251.4684071479694, 788.7847675639929, 516.8283019012761, 398.47159202689875, 139.10496873959818, 243.21379861111433, 314.7016123504515, 271.6717660814643, 249.0212933988797, 342.58967843191255, 196.5440509317806, 311.0669372334103, 159.59489490870996, 212.02365683520878, 157.6556575901238, 158.98911572253644, 146.06378612281716, 126.46710881352904, 120.9470680048393, 207.682756259803, 104.91846605710022, 77.26235108402926, 69.16470459342456, 65.45488231400154, 63.295673338448964, 77.23678722310079, 69.75105977476362, 91.2800260885716, 62.05511540396473, 54.78265702318265, 56.48711697922411, 50.083345784005154, 45.85838046444348, 68.14624943777248, 48.67432248665511, 43.269234452045644, 42.96447656283841, 45.70104907968551, 41.277254875091586, 40.91560486401414, 41.249263717671525, 40.80784251284269, 39.96003282369456, 37.51145028082845, 36.57150288878787, 35.53580946484116, 35.52200443062234, 172.8742808671558, 85.43719040959442, 58.7630353139497, 73.90166811071144, 115.52733787951823, 47.845907136801216, 83.21947225892193, 111.05048304228269, 49.105313526361634, 60.43085922916821, 78.05329955041385, 97.7185896779148, 46.37722453091585, 52.43226497488464, 62.6011232184449, 1365.5711058541015, 1489.5474405330742, 93.76644973742127, 317.5189456082814, 189.18502664386645, 93.37076264371628, 880.751817298356, 540.2002655810213, 359.10480359474514, 233.71565189476834, 144.42591279875143, 347.01440887099824, 153.8403350203233, 165.20116750296103, 156.55063986325638, 199.13179240829677, 116.33877588686725, 221.86971717015527, 151.62534972397515, 178.72944185646512, 148.14498421077465, 132.11789223340725, 100.28855764476518, 125.76938585648041, 98.4450831183621, 466.0639483982504, 464.2150798103246, 88.33768648877236, 175.84391174108015, 166.3514942914792, 70.77217257743091, 69.018918327046, 57.068601134976966, 88.93015647442436, 50.09983414973488, 44.96935691131305, 40.99796254164865, 76.04718614815607, 76.46683409341253, 41.303997712502714, 41.17014655855339, 41.21844425076032, 36.19136798065423, 34.320521884633976, 33.92959871739888, 39.56221073378313, 33.78169732571664, 45.620727441914276, 57.67570449811155, 31.75816123159931, 33.51739780976894, 34.597605882034465, 29.592764387559424, 119.8837357817845, 53.914658926850066, 101.24731659230146, 47.652547550710565, 88.58775739482843, 87.38857509269748, 36.22614369113674, 491.1805046255684, 68.87425164585744, 330.0271317834713, 126.38699259557647, 72.42841295487574, 189.1732515340745, 102.0869349247936, 286.0778509455326, 531.3903092025153, 174.80289065999162, 951.3066908369065, 679.7574717539813, 406.0969300329788, 166.52300598255493, 331.82191244449945, 442.60164301276075, 312.0147270098629, 190.20524423974481, 314.01875193400343, 308.21674468081136, 188.28675562617755, 135.12232999889858, 197.31016406583046, 135.19163444302848, 160.32580835125378, 135.6772046218668, 107.08565688213105, 108.25479033598552, 178.5004628780007, 62.545632378560846, 51.71223870482581, 51.398978971832186, 51.11978057387088, 50.35572701643647, 40.62372661508325, 39.77559626735368, 39.67379785251047, 38.506717080726936, 38.43513186194074, 61.18795098014, 37.873774560982646, 35.18690403725339, 38.27615481181877, 36.27005035071462, 33.578915043507685, 42.323348932955945, 33.1718430132753, 49.5341765176749, 31.996737306076543, 31.314159745615044, 35.92994163193158, 31.27730611606063, 33.98860080633258, 29.506018355926123, 30.42098779811055, 29.299722394463483, 29.045664998617276, 28.877992758880616, 65.79966734774085, 54.762904575475986, 33.57538521058077, 48.36213224181965, 82.28378008811909, 47.26322589718179, 132.0953642087513, 63.89884196517984, 48.5426505890704, 62.32701564395667, 113.34917718727831, 64.37113568108458, 50.873955141764064, 140.93417972332978, 74.31070009238591, 113.13594836481037, 119.69362228963898, 691.0109834631229, 308.42897548335435, 181.4008882938084, 97.23088349568965, 459.6961665966341, 153.29488862859372, 255.0385858857252, 246.10003447598297, 122.78151185297301, 129.48277027202235, 161.79491264210162, 68.78821436972702, 103.40797725221611, 97.0500960116175, 73.88029855787482, 81.10683959239748, 71.47501760925091, 65.63651867688708], \"Total\": [22798.0, 14033.0, 16132.0, 33780.0, 2068.0, 18489.0, 2505.0, 6022.0, 2042.0, 18825.0, 7761.0, 2953.0, 1814.0, 1756.0, 1095.0, 992.0, 3472.0, 3120.0, 8004.0, 14256.0, 2365.0, 689.0, 2259.0, 1097.0, 4757.0, 1847.0, 3848.0, 1757.0, 2165.0, 470.0, 156.65614533727646, 130.51883899661703, 109.90942853067615, 94.86504560303237, 94.08664046347417, 92.10221264504966, 91.10274661569629, 107.4048011496735, 79.01327283846744, 78.8620307982349, 78.30777164279361, 78.01792536838538, 74.58770081110012, 84.07720909319751, 70.9906432287582, 93.28928958453264, 80.97475753544597, 70.79597060671755, 70.98792469832362, 66.87612482072693, 65.60425874285873, 64.13204673490965, 63.82475934244034, 63.77564076017383, 64.63378656644555, 63.139493334639916, 63.09846777598396, 74.49011249564293, 118.20657872474905, 76.2686819045205, 233.2372018318516, 119.94053239935315, 78.7799278676376, 111.03004494848012, 134.9268037208259, 123.05503490568606, 159.9869350693491, 185.20040907620435, 92.43869492622879, 358.68617075987953, 400.9086008257953, 147.63374948582253, 133.32643565467944, 96.62157439795881, 285.6049225682761, 126.47181362240583, 439.7236882692417, 108.11535096568109, 141.9243178791225, 784.0697634567744, 222.24266484458755, 18825.994972535547, 657.7194466509833, 37318.5618609823, 448.55408283868996, 4064.6548616035284, 18489.64128952697, 986.2833055609368, 363.6766933774465, 33780.42219776738, 324.5947352389636, 14033.210195234113, 3224.93754376734, 8004.998638299374, 22798.53982359649, 664.4590944270932, 625.1156595109169, 462.29032967370466, 14256.485554467377, 2025.2895672947272, 4856.853462619044, 3709.252599906382, 3141.8708133774835, 3308.636154682388, 16132.401237445692, 5117.20081356059, 918.5697042454559, 7761.695906842922, 3013.0442314569095, 2521.9264353718145, 2637.7767320848843, 1974.0322953626658, 2953.731847081117, 4532.635651975963, 2185.3512944597214, 1897.8198575670708, 1833.2799443484123, 3120.2673659772995, 6022.928184834917, 113.11993740672844, 111.07675390927139, 97.6399946766938, 95.89038067980722, 91.38051714710652, 109.5586408827932, 81.37650575019528, 76.87112516106716, 109.40946953691808, 68.15962621018956, 66.6484119609022, 63.36260298142475, 62.39137983694594, 61.5326748543988, 60.79528185065612, 77.17965755013341, 64.40503365682319, 58.91118243320045, 60.088462086740535, 58.673873825197546, 133.53591257302654, 57.75672513680131, 56.64554223105024, 56.75730111705113, 56.29636823364451, 55.94332418805691, 55.16279469861621, 54.100994936419376, 53.83991904542781, 53.737614544402696, 171.1978929872811, 85.35179328684606, 82.86650472971847, 66.58354858357704, 65.01139136601478, 79.52716226419446, 70.71816191590769, 197.4571609729359, 84.58668143106763, 93.35133219700174, 387.48380987968636, 453.06428792073837, 107.20924323843936, 82.38813830722475, 159.93504784758076, 198.98803603280786, 221.6611311688563, 85.35710466719355, 280.0390919563904, 95.01497932981475, 111.63776011017181, 94.3249250162961, 112.29093443359156, 227.96195084398445, 252.45536978777628, 572.1106121811708, 147.41105482390455, 16132.401237445692, 22798.53982359649, 142.92666732594097, 37318.5618609823, 14033.210195234113, 158.75925590866362, 469.34100415496584, 336.8613578946319, 230.8204215188629, 33780.42219776738, 2521.9264353718145, 2259.605462546119, 284.3892571550708, 560.0991229530812, 6022.928184834917, 2905.2556423641277, 3141.8708133774835, 4757.441532036692, 18489.64128952697, 18825.994972535547, 14256.485554467377, 8004.998638299374, 4532.635651975963, 7761.695906842922, 1140.7676769818156, 3224.93754376734, 2809.834980025464, 1312.8126282623798, 1757.5157617848963, 4856.853462619044, 2179.566729713401, 3848.7126683838205, 1321.5786475803218, 2637.7767320848843, 3709.252599906382, 3013.0442314569095, 1480.0424371726288, 3308.636154682388, 220.37717443504746, 123.01228485942282, 110.28918759985018, 131.15293141111914, 108.66592702637183, 111.752782436112, 104.42075197322367, 98.90511702953064, 96.66645256872161, 101.82237140305799, 91.84946961094779, 99.5167492777375, 96.95048139559275, 87.66398254310623, 86.97455026653921, 84.92182869898912, 85.54199943353512, 80.8477652948522, 74.3321936495308, 71.39370238697627, 69.30733308038498, 68.74635954383062, 65.35593351463751, 65.25734490345633, 64.47625093978183, 62.80945213970022, 61.9452769629371, 59.48983997978668, 61.97229226750464, 56.31580977775154, 77.26224623488945, 68.42456157924674, 66.96010835142145, 120.37988924735485, 82.9780116727635, 72.08192807256492, 149.11327187696506, 81.8963020305152, 611.4429246832617, 1756.1530522472667, 353.90253275472514, 342.09959044899557, 737.6788519304797, 394.52091827156346, 18825.994972535547, 2165.2177451574075, 7761.695906842922, 2365.2118931371415, 5117.20081356059, 37318.5618609823, 541.7227944872678, 33780.42219776738, 4757.441532036692, 16132.401237445692, 6022.928184834917, 341.11875327331603, 14256.485554467377, 374.96400920946047, 2809.834980025464, 18489.64128952697, 8004.998638299374, 22798.53982359649, 14033.210195234113, 626.3034895146359, 4856.853462619044, 2905.2556423641277, 2185.3512944597214, 1386.3997699335573, 3709.252599906382, 1064.3817346016322, 4064.6548616035284, 4532.635651975963, 3013.0442314569095, 3141.8708133774835, 312.6209510236811, 473.4274714254772, 536.3742794067788, 269.95729048437676, 168.9087567676345, 120.13902474204457, 490.5240273576444, 101.88216913150943, 86.2059145002315, 84.26744482439383, 85.7280159399623, 270.8475912078833, 105.9172379023721, 71.30129150610807, 68.52303162587371, 59.89037986069775, 992.6685738651084, 165.64053183594558, 57.10876116924517, 153.97563253410124, 49.10977006255813, 49.061920725966324, 48.87305128473869, 161.54154141873286, 46.605735228367095, 219.39540276997386, 44.39924231039687, 71.86706715324499, 43.06652134746724, 47.43666056765818, 512.4030124769135, 67.30066249265926, 131.73734742320624, 100.23531277613921, 76.67142564720626, 2068.7563929233324, 730.2878576299846, 167.2210908498562, 1097.084709956063, 160.72871631064154, 226.50870938316737, 1814.7028774671162, 429.46516970058366, 2505.9275074984303, 580.3484604716023, 319.6699900179142, 186.50326023261132, 2953.731847081117, 375.43422662258723, 3120.2673659772995, 607.6685525948963, 827.5448292670918, 343.6319356750615, 18489.64128952697, 14256.485554467377, 1974.0322953626658, 33780.42219776738, 660.8248618800947, 1085.250182600139, 3472.900438217561, 37318.5618609823, 22798.53982359649, 14033.210195234113, 18825.994972535547, 1897.8198575670708, 4064.6548616035284, 1277.4709968075301, 3013.0442314569095, 3848.7126683838205, 8004.998638299374, 2025.2895672947272, 5117.20081356059, 207.76590043611205, 191.41943272621367, 117.14190493727232, 89.27973825903858, 235.19624211047244, 79.40699608989563, 68.31202977162172, 99.00502996540602, 67.2095531415123, 63.15638915142204, 67.03689208798012, 57.868412616655775, 135.7340465745367, 78.82626091120247, 54.35206202753523, 53.581878472874614, 54.16526271609996, 69.24719669952557, 50.14556431639195, 51.685078965539944, 48.65342323268872, 60.18092873717543, 147.23461653741273, 44.52206732601659, 46.18021618668015, 344.69187462748346, 42.380972761883996, 42.407523109593214, 42.05017426774757, 46.63208905480095, 385.4113890384584, 73.71638688802821, 304.50023703842356, 734.119588324307, 1095.5750848258242, 74.2432151392113, 281.50698741915807, 240.84243985338938, 91.79319638058827, 166.5646612906516, 891.0657091623045, 298.9743918763155, 156.50754670206166, 308.47711134575434, 521.2943514628774, 748.8424845160565, 106.90730433290992, 694.5632755064615, 2042.898700277811, 408.79333290324297, 86.2920859105984, 777.0681573452891, 429.56208432202476, 294.87486539887595, 1757.5157617848963, 3848.7126683838205, 410.8891080806923, 2259.605462546119, 2029.5554733116282, 720.8540211218035, 2179.566729713401, 16132.401237445692, 4532.635651975963, 3308.636154682388, 33780.42219776738, 3709.252599906382, 4757.441532036692, 37318.5618609823, 2905.2556423641277, 2165.2177451574075, 1847.8527221919376, 5117.20081356059, 7761.695906842922, 4856.853462619044, 14256.485554467377, 6022.928184834917, 8004.998638299374, 14033.210195234113, 3013.0442314569095, 22798.53982359649, 18825.994972535547, 117.82852229496413, 106.9369468079122, 95.89521848473889, 94.8576314878631, 100.31161574986159, 81.27810371701437, 73.2643285542398, 199.56981922518514, 80.47061696563267, 66.33952793119602, 95.70435454403238, 95.37406711862089, 59.97460955524785, 56.057029375426616, 63.11113224153312, 55.15849493300168, 62.0117058457028, 49.37188742304112, 75.39850905278836, 46.62080371679403, 47.18224560657099, 44.730812858079986, 47.255399333213035, 43.29164518710381, 43.0068332291819, 51.709818439183984, 45.17579138883786, 67.27845937775061, 40.70088999076049, 38.176812306202905, 140.2143101192953, 67.07382575314259, 67.6103797932664, 91.64079960765396, 107.94103878830357, 53.425824607507586, 81.41432790447412, 161.45842296598008, 459.2176838762326, 169.4342263895733, 165.1559520202445, 97.18585771502838, 216.0279093370579, 145.55784526919624, 3472.900438217561, 213.35370816888596, 444.6191624075131, 785.6964743367903, 868.2474923198839, 203.04680366709044, 728.7914517933121, 18489.64128952697, 22798.53982359649, 37318.5618609823, 1279.1774968876618, 198.51089713499658, 14256.485554467377, 1833.2799443484123, 33780.42219776738, 1298.9992312189618, 7761.695906842922, 2365.2118931371415, 720.8540211218035, 1060.1846038935387, 373.9538771812155, 18825.994972535547, 415.4420934136995, 2637.7767320848843, 2165.2177451574075, 5117.20081356059, 2029.5554733116282, 3141.8708133774835, 626.3034895146359, 921.0696977555889, 2025.2895672947272, 14033.210195234113, 3224.93754376734, 4856.853462619044, 8004.998638299374, 16132.401237445692, 6022.928184834917, 93.2867179832374, 77.54833915415205, 67.43366420845592, 67.02182408946314, 62.10408277545754, 57.63543105679797, 55.43061861206736, 55.68442220277181, 53.83632391579501, 136.49914622924152, 49.05082205025852, 54.93547607550319, 47.0254194640883, 45.32081815489277, 44.88165306650576, 43.721943827054375, 42.81974288547348, 60.72138158833035, 41.64280148500513, 113.42123080202627, 43.96993985457384, 40.54616334997753, 40.786121780461386, 41.0909685822197, 39.63752784296333, 37.56503185440657, 36.64069319966887, 66.35548533623805, 38.05422694285768, 35.5953612947086, 163.05564321167765, 136.49392031838383, 82.67945131402277, 88.83434462000027, 102.98656714075716, 68.92025003052551, 51.63803857228565, 58.42275712759985, 84.00082862639171, 47.96338022841165, 78.56388634468706, 71.35888641208572, 242.27086235596303, 60.961934963736184, 369.2591015722564, 370.3014697090804, 142.3429582002097, 510.06234084841356, 286.1492355186347, 184.948532615563, 33780.42219776738, 16132.401237445692, 281.6683115832934, 161.7458030283577, 22798.53982359649, 2042.898700277811, 37318.5618609823, 14033.210195234113, 8004.998638299374, 519.9446265656874, 2521.9264353718145, 6022.928184834917, 4856.853462619044, 4757.441532036692, 14256.485554467377, 2505.9275074984303, 18825.994972535547, 1312.8126282623798, 18489.64128952697, 4532.635651975963, 7761.695906842922, 4064.6548616035284, 1480.0424371726288, 1214.8762910976495, 209.65933288813667, 105.94881340633752, 78.1474252563345, 70.03922795598203, 66.33371366428688, 64.16143476161346, 78.30315077313146, 70.74356497320323, 92.61624242994328, 63.04304492749742, 55.68663541584809, 57.4599635044474, 50.94909625761811, 46.72506610921251, 69.45025172480486, 49.62523767008555, 44.144893287162674, 43.83559163374444, 46.658919151516066, 42.15031002104268, 41.78128155196748, 42.16777465848076, 41.74418943535654, 40.88202327471211, 38.40256672834302, 37.44492685899292, 36.41062871538742, 36.42137779772634, 177.26627157960075, 87.6472314609406, 60.36392864356297, 76.09443947825946, 120.66234557735069, 49.19381495016608, 87.94250935713872, 122.43824467834223, 50.94721945577842, 65.59987027920208, 88.48093958477968, 123.62661959111912, 48.34968809153271, 58.087107935981294, 77.40972811907307, 14033.210195234113, 22798.53982359649, 164.4354519858284, 1847.8527221919376, 812.548829245381, 200.66975886657136, 33780.42219776738, 18825.994972535547, 8004.998638299374, 2809.834980025464, 954.13319205774, 16132.401237445692, 1386.3997699335573, 2905.2556423641277, 3224.93754376734, 14256.485554467377, 992.1792140618182, 37318.5618609823, 5117.20081356059, 18489.64128952697, 6022.928184834917, 4757.441532036692, 2521.9264353718145, 126.63776655581317, 99.35454560080832, 470.55288618808714, 468.7066858109027, 89.41381370830425, 177.99459473861995, 168.43325942580523, 71.67259602530164, 69.92480314906781, 57.983780575239955, 90.45500120953976, 51.052218826517624, 45.8675080053195, 41.872938972904436, 77.68352239106895, 78.20055664677301, 42.246798747214264, 42.157358506449604, 42.22973189550413, 37.083415151419516, 35.19474024876921, 34.805205792497695, 40.59077465334519, 34.670971979584124, 46.83840809557811, 59.22653309110607, 32.62650610427403, 34.44496197242425, 35.557595974073195, 30.46120139349812, 123.81701164871643, 55.544355494240804, 105.34471212439246, 49.16642642698793, 94.97593273491795, 95.42737536303078, 37.32478840087069, 689.2262845193135, 76.22723459449996, 540.0290651421824, 168.64862754647643, 85.31082877904802, 458.88116687827875, 179.4958350233305, 1010.7447950089655, 6022.928184834917, 812.548829245381, 33780.42219776738, 22798.53982359649, 8004.998638299374, 1105.5019896132476, 14256.485554467377, 37318.5618609823, 16132.401237445692, 2637.7767320848843, 18825.994972535547, 18489.64128952697, 3141.8708133774835, 921.0696977555889, 7761.695906842922, 1279.1774968876618, 14033.210195234113, 4757.441532036692, 781.5250366492053, 2259.605462546119, 179.647145259704, 63.42339104018387, 52.575691005769535, 52.26487249702369, 51.994624288141985, 51.358887941203406, 41.48968999361554, 40.64092541447303, 40.537355052934764, 39.37214538122134, 39.30105491279188, 62.56938673342403, 38.761155597786214, 36.05765773521824, 39.23045012491603, 37.231590844722824, 34.476406188341656, 43.45609082974204, 34.06843098152737, 50.88558675555021, 32.871210622620254, 32.19055842491082, 36.93982018080819, 32.16302423494033, 34.97874411918341, 30.37312672057628, 31.320319632013845, 30.16954338906861, 29.909065147105178, 29.741553972612163, 68.17570177620047, 56.67331872872875, 34.60776622860817, 50.06343300628735, 86.98428234276463, 49.13431893825088, 142.24395744304923, 80.2091545463671, 56.40081386531225, 81.56144100103727, 190.77697762031858, 86.2312742033696, 64.51434124550966, 402.536875089952, 131.33444047903168, 392.7188126017663, 485.2470187515399, 33780.42219776738, 7761.695906842922, 2365.2118931371415, 454.0945885200482, 37318.5618609823, 3224.93754376734, 18825.994972535547, 22798.53982359649, 3120.2673659772995, 4856.853462619044, 14033.210195234113, 267.3828821618684, 4532.635651975963, 3472.900438217561, 3709.252599906382, 18489.64128952697, 14256.485554467377, 8004.998638299374], \"Category\": [\"Default\", \"Default\", \"Default\", \"Default\", \"Default\", \"Default\", \"Default\", \"Default\", \"Default\", \"Default\", \"Default\", \"Default\", \"Default\", \"Default\", \"Default\", \"Default\", \"Default\", \"Default\", \"Default\", \"Default\", \"Default\", \"Default\", \"Default\", \"Default\", \"Default\", \"Default\", \"Default\", \"Default\", \"Default\", \"Default\", \"Topic1\", \"Topic1\", \"Topic1\", \"Topic1\", \"Topic1\", \"Topic1\", \"Topic1\", \"Topic1\", \"Topic1\", \"Topic1\", \"Topic1\", \"Topic1\", \"Topic1\", \"Topic1\", \"Topic1\", \"Topic1\", \"Topic1\", \"Topic1\", \"Topic1\", \"Topic1\", \"Topic1\", \"Topic1\", \"Topic1\", \"Topic1\", \"Topic1\", \"Topic1\", \"Topic1\", \"Topic1\", \"Topic1\", \"Topic1\", \"Topic1\", \"Topic1\", \"Topic1\", \"Topic1\", \"Topic1\", \"Topic1\", \"Topic1\", \"Topic1\", \"Topic1\", \"Topic1\", \"Topic1\", \"Topic1\", \"Topic1\", \"Topic1\", \"Topic1\", \"Topic1\", \"Topic1\", \"Topic1\", \"Topic1\", \"Topic1\", \"Topic1\", \"Topic1\", \"Topic1\", \"Topic1\", \"Topic1\", \"Topic1\", \"Topic1\", \"Topic1\", \"Topic1\", \"Topic1\", \"Topic1\", \"Topic1\", \"Topic1\", \"Topic1\", \"Topic1\", \"Topic1\", \"Topic1\", \"Topic1\", \"Topic1\", \"Topic1\", \"Topic1\", \"Topic1\", \"Topic1\", \"Topic1\", \"Topic1\", \"Topic1\", \"Topic1\", \"Topic1\", \"Topic1\", \"Topic1\", \"Topic1\", \"Topic1\", \"Topic1\", \"Topic1\", \"Topic1\", \"Topic1\", \"Topic1\", \"Topic1\", \"Topic1\", \"Topic2\", \"Topic2\", \"Topic2\", \"Topic2\", \"Topic2\", \"Topic2\", \"Topic2\", \"Topic2\", \"Topic2\", \"Topic2\", \"Topic2\", \"Topic2\", \"Topic2\", \"Topic2\", \"Topic2\", \"Topic2\", \"Topic2\", \"Topic2\", \"Topic2\", \"Topic2\", \"Topic2\", \"Topic2\", \"Topic2\", \"Topic2\", \"Topic2\", \"Topic2\", \"Topic2\", \"Topic2\", \"Topic2\", \"Topic2\", \"Topic2\", \"Topic2\", \"Topic2\", \"Topic2\", \"Topic2\", \"Topic2\", \"Topic2\", \"Topic2\", \"Topic2\", \"Topic2\", \"Topic2\", \"Topic2\", \"Topic2\", \"Topic2\", \"Topic2\", \"Topic2\", \"Topic2\", \"Topic2\", \"Topic2\", \"Topic2\", \"Topic2\", \"Topic2\", \"Topic2\", \"Topic2\", \"Topic2\", \"Topic2\", \"Topic2\", \"Topic2\", \"Topic2\", \"Topic2\", \"Topic2\", \"Topic2\", \"Topic2\", \"Topic2\", \"Topic2\", \"Topic2\", \"Topic2\", \"Topic2\", \"Topic2\", \"Topic2\", \"Topic2\", \"Topic2\", \"Topic2\", \"Topic2\", \"Topic2\", \"Topic2\", \"Topic2\", \"Topic2\", \"Topic2\", \"Topic2\", \"Topic2\", \"Topic2\", \"Topic2\", \"Topic2\", \"Topic2\", \"Topic2\", \"Topic2\", \"Topic2\", \"Topic2\", \"Topic2\", \"Topic2\", \"Topic2\", \"Topic2\", \"Topic2\", \"Topic2\", \"Topic3\", \"Topic3\", \"Topic3\", \"Topic3\", \"Topic3\", \"Topic3\", \"Topic3\", \"Topic3\", \"Topic3\", \"Topic3\", \"Topic3\", \"Topic3\", \"Topic3\", \"Topic3\", \"Topic3\", \"Topic3\", \"Topic3\", \"Topic3\", \"Topic3\", \"Topic3\", \"Topic3\", \"Topic3\", \"Topic3\", \"Topic3\", \"Topic3\", \"Topic3\", \"Topic3\", \"Topic3\", \"Topic3\", \"Topic3\", \"Topic3\", \"Topic3\", \"Topic3\", \"Topic3\", \"Topic3\", \"Topic3\", \"Topic3\", \"Topic3\", \"Topic3\", \"Topic3\", \"Topic3\", \"Topic3\", \"Topic3\", \"Topic3\", \"Topic3\", \"Topic3\", \"Topic3\", \"Topic3\", \"Topic3\", \"Topic3\", \"Topic3\", \"Topic3\", \"Topic3\", \"Topic3\", \"Topic3\", \"Topic3\", \"Topic3\", \"Topic3\", \"Topic3\", \"Topic3\", \"Topic3\", \"Topic3\", \"Topic3\", \"Topic3\", \"Topic3\", \"Topic3\", \"Topic3\", \"Topic3\", \"Topic3\", \"Topic3\", \"Topic3\", \"Topic3\", \"Topic3\", \"Topic3\", \"Topic4\", \"Topic4\", \"Topic4\", \"Topic4\", \"Topic4\", \"Topic4\", \"Topic4\", \"Topic4\", \"Topic4\", \"Topic4\", \"Topic4\", \"Topic4\", \"Topic4\", \"Topic4\", \"Topic4\", \"Topic4\", \"Topic4\", \"Topic4\", \"Topic4\", \"Topic4\", \"Topic4\", \"Topic4\", \"Topic4\", \"Topic4\", \"Topic4\", \"Topic4\", \"Topic4\", \"Topic4\", \"Topic4\", \"Topic4\", \"Topic4\", \"Topic4\", \"Topic4\", \"Topic4\", \"Topic4\", \"Topic4\", \"Topic4\", \"Topic4\", \"Topic4\", \"Topic4\", \"Topic4\", \"Topic4\", \"Topic4\", \"Topic4\", \"Topic4\", \"Topic4\", \"Topic4\", \"Topic4\", \"Topic4\", \"Topic4\", \"Topic4\", \"Topic4\", \"Topic4\", \"Topic4\", \"Topic4\", \"Topic4\", \"Topic4\", \"Topic4\", \"Topic4\", \"Topic4\", \"Topic4\", \"Topic4\", \"Topic4\", \"Topic4\", \"Topic4\", \"Topic4\", \"Topic4\", \"Topic4\", \"Topic4\", \"Topic4\", \"Topic4\", \"Topic4\", \"Topic5\", \"Topic5\", \"Topic5\", \"Topic5\", \"Topic5\", \"Topic5\", \"Topic5\", \"Topic5\", \"Topic5\", \"Topic5\", \"Topic5\", \"Topic5\", \"Topic5\", \"Topic5\", \"Topic5\", \"Topic5\", \"Topic5\", \"Topic5\", \"Topic5\", \"Topic5\", \"Topic5\", \"Topic5\", \"Topic5\", \"Topic5\", \"Topic5\", \"Topic5\", \"Topic5\", \"Topic5\", \"Topic5\", \"Topic5\", \"Topic5\", \"Topic5\", \"Topic5\", \"Topic5\", \"Topic5\", \"Topic5\", \"Topic5\", \"Topic5\", \"Topic5\", \"Topic5\", \"Topic5\", \"Topic5\", \"Topic5\", \"Topic5\", \"Topic5\", \"Topic5\", \"Topic5\", \"Topic5\", \"Topic5\", \"Topic5\", \"Topic5\", \"Topic5\", \"Topic5\", \"Topic5\", \"Topic5\", \"Topic5\", \"Topic5\", \"Topic5\", \"Topic5\", \"Topic5\", \"Topic5\", \"Topic5\", \"Topic5\", \"Topic5\", \"Topic5\", \"Topic5\", \"Topic5\", \"Topic5\", \"Topic5\", \"Topic5\", \"Topic5\", \"Topic5\", \"Topic5\", \"Topic5\", \"Topic5\", \"Topic5\", \"Topic5\", \"Topic5\", \"Topic5\", \"Topic5\", \"Topic5\", \"Topic6\", \"Topic6\", \"Topic6\", \"Topic6\", \"Topic6\", \"Topic6\", \"Topic6\", \"Topic6\", \"Topic6\", \"Topic6\", \"Topic6\", \"Topic6\", \"Topic6\", \"Topic6\", \"Topic6\", \"Topic6\", \"Topic6\", \"Topic6\", \"Topic6\", \"Topic6\", \"Topic6\", \"Topic6\", \"Topic6\", \"Topic6\", \"Topic6\", \"Topic6\", \"Topic6\", \"Topic6\", \"Topic6\", \"Topic6\", \"Topic6\", \"Topic6\", \"Topic6\", \"Topic6\", \"Topic6\", \"Topic6\", \"Topic6\", \"Topic6\", \"Topic6\", \"Topic6\", \"Topic6\", \"Topic6\", \"Topic6\", \"Topic6\", \"Topic6\", \"Topic6\", \"Topic6\", \"Topic6\", \"Topic6\", \"Topic6\", \"Topic6\", \"Topic6\", \"Topic6\", \"Topic6\", \"Topic6\", \"Topic6\", \"Topic6\", \"Topic6\", \"Topic6\", \"Topic6\", \"Topic6\", \"Topic6\", \"Topic6\", \"Topic6\", \"Topic6\", \"Topic6\", \"Topic6\", \"Topic6\", \"Topic6\", \"Topic6\", \"Topic6\", \"Topic6\", \"Topic6\", \"Topic6\", \"Topic6\", \"Topic6\", \"Topic6\", \"Topic6\", \"Topic6\", \"Topic6\", \"Topic6\", \"Topic7\", \"Topic7\", \"Topic7\", \"Topic7\", \"Topic7\", \"Topic7\", \"Topic7\", \"Topic7\", \"Topic7\", \"Topic7\", \"Topic7\", \"Topic7\", \"Topic7\", \"Topic7\", \"Topic7\", \"Topic7\", \"Topic7\", \"Topic7\", \"Topic7\", \"Topic7\", \"Topic7\", \"Topic7\", \"Topic7\", \"Topic7\", \"Topic7\", \"Topic7\", \"Topic7\", \"Topic7\", \"Topic7\", \"Topic7\", \"Topic7\", \"Topic7\", \"Topic7\", \"Topic7\", \"Topic7\", \"Topic7\", \"Topic7\", \"Topic7\", \"Topic7\", \"Topic7\", \"Topic7\", \"Topic7\", \"Topic7\", \"Topic7\", \"Topic7\", \"Topic7\", \"Topic7\", \"Topic7\", \"Topic7\", \"Topic7\", \"Topic7\", \"Topic7\", \"Topic7\", \"Topic7\", \"Topic7\", \"Topic7\", \"Topic7\", \"Topic7\", \"Topic7\", \"Topic7\", \"Topic7\", \"Topic7\", \"Topic7\", \"Topic7\", \"Topic7\", \"Topic7\", \"Topic7\", \"Topic7\", \"Topic7\", \"Topic7\", \"Topic7\", \"Topic7\", \"Topic7\", \"Topic7\", \"Topic8\", \"Topic8\", \"Topic8\", \"Topic8\", \"Topic8\", \"Topic8\", \"Topic8\", \"Topic8\", \"Topic8\", \"Topic8\", \"Topic8\", \"Topic8\", \"Topic8\", \"Topic8\", \"Topic8\", \"Topic8\", \"Topic8\", \"Topic8\", \"Topic8\", \"Topic8\", \"Topic8\", \"Topic8\", \"Topic8\", \"Topic8\", \"Topic8\", \"Topic8\", \"Topic8\", \"Topic8\", \"Topic8\", \"Topic8\", \"Topic8\", \"Topic8\", \"Topic8\", \"Topic8\", \"Topic8\", \"Topic8\", \"Topic8\", \"Topic8\", \"Topic8\", \"Topic8\", \"Topic8\", \"Topic8\", \"Topic8\", \"Topic8\", \"Topic8\", \"Topic8\", \"Topic8\", \"Topic8\", \"Topic8\", \"Topic8\", \"Topic8\", \"Topic8\", \"Topic8\", \"Topic8\", \"Topic8\", \"Topic8\", \"Topic8\", \"Topic8\", \"Topic8\", \"Topic8\", \"Topic8\", \"Topic8\", \"Topic8\", \"Topic8\", \"Topic8\", \"Topic8\", \"Topic9\", \"Topic9\", \"Topic9\", \"Topic9\", \"Topic9\", \"Topic9\", \"Topic9\", \"Topic9\", \"Topic9\", \"Topic9\", \"Topic9\", \"Topic9\", \"Topic9\", \"Topic9\", \"Topic9\", \"Topic9\", \"Topic9\", \"Topic9\", \"Topic9\", \"Topic9\", \"Topic9\", \"Topic9\", \"Topic9\", \"Topic9\", \"Topic9\", \"Topic9\", \"Topic9\", \"Topic9\", \"Topic9\", \"Topic9\", \"Topic9\", \"Topic9\", \"Topic9\", \"Topic9\", \"Topic9\", \"Topic9\", \"Topic9\", \"Topic9\", \"Topic9\", \"Topic9\", \"Topic9\", \"Topic9\", \"Topic9\", \"Topic9\", \"Topic9\", \"Topic9\", \"Topic9\", \"Topic9\", \"Topic9\", \"Topic9\", \"Topic9\", \"Topic9\", \"Topic9\", \"Topic9\", \"Topic9\", \"Topic9\", \"Topic9\", \"Topic9\", \"Topic9\", \"Topic9\", \"Topic9\", \"Topic9\", \"Topic9\", \"Topic9\", \"Topic9\", \"Topic10\", \"Topic10\", \"Topic10\", \"Topic10\", \"Topic10\", \"Topic10\", \"Topic10\", \"Topic10\", \"Topic10\", \"Topic10\", \"Topic10\", \"Topic10\", \"Topic10\", \"Topic10\", \"Topic10\", \"Topic10\", \"Topic10\", \"Topic10\", \"Topic10\", \"Topic10\", \"Topic10\", \"Topic10\", \"Topic10\", \"Topic10\", \"Topic10\", \"Topic10\", \"Topic10\", \"Topic10\", \"Topic10\", \"Topic10\", \"Topic10\", \"Topic10\", \"Topic10\", \"Topic10\", \"Topic10\", \"Topic10\", \"Topic10\", \"Topic10\", \"Topic10\", \"Topic10\", \"Topic10\", \"Topic10\", \"Topic10\", \"Topic10\", \"Topic10\", \"Topic10\", \"Topic10\", \"Topic10\", \"Topic10\", \"Topic10\", \"Topic10\", \"Topic10\", \"Topic10\", \"Topic10\", \"Topic10\", \"Topic10\", \"Topic10\", \"Topic10\", \"Topic10\", \"Topic10\", \"Topic10\", \"Topic10\", \"Topic10\", \"Topic10\", \"Topic10\"], \"logprob\": [30.0, 29.0, 28.0, 27.0, 26.0, 25.0, 24.0, 23.0, 22.0, 21.0, 20.0, 19.0, 18.0, 17.0, 16.0, 15.0, 14.0, 13.0, 12.0, 11.0, 10.0, 9.0, 8.0, 7.0, 6.0, 5.0, 4.0, 3.0, 2.0, 1.0, -6.964, -7.1469, -7.319, -7.4675, -7.4758, -7.4973, -7.5083, -7.3451, -7.6522, -7.6541, -7.6612, -7.665, -7.7105, -7.5908, -7.7605, -7.4874, -7.629, -7.7633, -7.7609, -7.821, -7.8404, -7.8634, -7.8683, -7.8691, -7.8557, -7.8792, -7.8799, -7.7141, -7.2523, -7.6905, -6.5739, -7.2411, -7.6595, -7.3198, -7.1293, -7.224, -6.9693, -6.8299, -7.5045, -6.195, -6.1118, -7.0612, -7.173, -7.4708, -6.4738, -7.2279, -6.1181, -7.3752, -7.1393, -5.6685, -6.7569, -3.1033, -5.8854, -2.6499, -6.2275, -4.5077, -3.3451, -5.6388, -6.4258, -3.1107, -6.5377, -3.8504, -4.9432, -4.3091, -3.6539, -6.0824, -6.1264, -6.3345, -4.1226, -5.4021, -4.8803, -5.0841, -5.1999, -5.173, -4.2574, -4.9273, -5.9272, -4.8721, -5.3629, -5.5199, -5.5218, -5.6577, -5.5126, -5.3692, -5.6337, -5.6797, -5.771, -5.6695, -5.5904, -7.0732, -7.0926, -7.2216, -7.2398, -7.2884, -7.1077, -7.4056, -7.4632, -7.1117, -7.585, -7.6076, -7.6588, -7.6745, -7.6885, -7.7008, -7.4625, -7.6435, -7.7327, -7.713, -7.7368, -6.9145, -7.7528, -7.7725, -7.7706, -7.7788, -7.7852, -7.7995, -7.8192, -7.8241, -7.8261, -6.6737, -7.3637, -7.3945, -7.612, -7.6362, -7.4373, -7.5536, -6.5473, -7.3783, -7.2856, -5.9192, -5.7872, -7.1656, -7.4138, -6.7936, -6.6014, -6.5185, -7.387, -6.3155, -7.2897, -7.1484, -7.2983, -7.1466, -6.5637, -6.4824, -5.8276, -6.9483, -3.2513, -3.0109, -6.9737, -2.8137, -3.5581, -6.9047, -6.1264, -6.3691, -6.6411, -3.172, -4.9694, -5.0593, -6.5117, -6.0638, -4.588, -5.0914, -5.0429, -4.7927, -4.0108, -4.0092, -4.187, -4.5419, -4.9085, -4.6526, -5.7223, -5.1809, -5.262, -5.6765, -5.5366, -5.0986, -5.4707, -5.2718, -5.7239, -5.4665, -5.4312, -5.5316, -5.7074, -5.7192, -6.1101, -6.6945, -6.8044, -6.6313, -6.8194, -6.7915, -6.8598, -6.9143, -6.9374, -6.8858, -6.989, -6.909, -6.9352, -7.0361, -7.0441, -7.0683, -7.0612, -7.1179, -7.2028, -7.2437, -7.2737, -7.2819, -7.3331, -7.3347, -7.3469, -7.3735, -7.3875, -7.4286, -7.388, -7.4843, -7.169, -7.2896, -7.3116, -6.7438, -7.1069, -7.2415, -6.566, -7.1304, -5.3469, -4.4484, -5.8557, -6.0117, -5.4466, -5.9569, -3.2509, -4.7995, -3.9196, -4.7651, -4.2643, -2.9767, -5.8244, -3.0721, -4.3813, -3.5842, -4.2368, -6.1387, -3.8795, -6.1179, -4.9426, -3.9409, -4.4549, -3.9085, -4.2763, -5.9228, -4.9284, -5.2127, -5.355, -5.6172, -5.2941, -5.7614, -5.4585, -5.4776, -5.6901, -5.7033, -5.7195, -5.3049, -5.1809, -5.8701, -6.3392, -6.6799, -5.2731, -6.8459, -7.0137, -7.0366, -7.0198, -5.871, -6.8109, -7.2072, -7.2473, -7.3827, -4.5756, -6.3664, -7.4319, -6.4403, -7.5841, -7.5851, -7.5891, -6.3947, -7.6379, -6.0889, -7.6869, -7.2054, -7.7179, -7.6216, -5.2606, -7.272, -6.6124, -6.884, -7.1472, -3.9251, -4.9469, -6.3985, -4.6231, -6.4471, -6.1599, -4.3267, -5.6133, -4.0516, -5.3605, -5.8847, -6.3559, -4.0282, -5.7964, -4.1122, -5.4432, -5.2201, -5.8932, -3.1546, -3.3539, -4.747, -2.9589, -5.5007, -5.2655, -4.6149, -3.3262, -3.5964, -4.0244, -3.911, -5.076, -4.8487, -5.3056, -5.0708, -5.0754, -4.9066, -5.2816, -5.2882, -6.0612, -6.1445, -6.638, -6.91, -5.9425, -7.0295, -7.181, -6.81, -7.1974, -7.2605, -7.2019, -7.3493, -6.4969, -7.0404, -7.4125, -7.427, -7.4169, -7.1716, -7.4944, -7.4643, -7.5258, -7.3138, -6.4192, -7.6159, -7.5794, -5.5698, -7.6659, -7.6653, -7.6743, -7.5731, -5.4654, -7.1168, -5.7132, -4.8471, -4.456, -7.1145, -5.8273, -5.9838, -6.9102, -6.3432, -4.7628, -5.7986, -6.4148, -5.7928, -5.3218, -5.003, -6.785, -5.1267, -4.1955, -5.6204, -6.9791, -5.1388, -5.6354, -5.9725, -4.561, -3.9978, -5.7429, -4.451, -4.5493, -5.352, -4.5961, -3.2395, -4.1756, -4.3833, -3.0656, -4.4751, -4.3529, -3.3361, -4.696, -4.8552, -4.9627, -4.508, -4.3943, -4.6018, -4.2617, -4.6729, -4.6218, -4.5304, -4.9653, -4.5903, -5.1114, -6.4593, -6.5573, -6.6669, -6.678, -6.6223, -6.8339, -6.9389, -5.937, -6.8453, -7.0394, -6.6735, -6.677, -7.1419, -7.2103, -7.0919, -7.2267, -7.1113, -7.3394, -6.9163, -7.398, -7.3861, -7.44, -7.3855, -7.4733, -7.4801, -7.2963, -7.4317, -7.0335, -7.5363, -7.6018, -6.3025, -7.039, -7.0329, -6.7385, -6.5857, -7.2681, -6.8709, -6.2478, -5.2955, -6.2131, -6.2753, -6.7757, -6.1645, -6.4817, -4.1137, -6.1953, -5.6838, -5.2794, -5.2398, -6.2588, -5.3702, -3.1744, -3.0799, -2.8672, -5.063, -6.2862, -3.6054, -4.9051, -3.1232, -5.1811, -4.1554, -4.8425, -5.5337, -5.3996, -5.9512, -4.0068, -5.9396, -5.1731, -5.2858, -4.9443, -5.3402, -5.213, -5.7945, -5.6636, -5.4823, -4.9416, -5.3693, -5.2762, -5.1514, -5.005, -5.2449, -5.9009, -6.0874, -6.2275, -6.2348, -6.3111, -6.3864, -6.4261, -6.4216, -6.4557, -5.5256, -6.5504, -6.4373, -6.5934, -6.6313, -6.6411, -6.668, -6.689, -6.3399, -6.7174, -5.7158, -6.6635, -6.7446, -6.7393, -6.7319, -6.768, -6.8227, -6.8482, -6.2559, -6.8133, -6.8803, -5.3648, -5.5438, -6.0528, -5.9902, -5.8509, -6.2401, -6.5165, -6.4016, -6.0767, -6.5891, -6.1764, -6.2569, -5.2919, -6.4106, -5.1091, -5.1401, -5.832, -5.0232, -5.4737, -5.797, -3.1388, -3.58, -5.6473, -5.9393, -3.8946, -4.898, -3.7549, -4.1777, -4.4377, -5.4901, -4.9314, -4.6737, -4.8208, -4.9078, -4.5888, -5.1445, -4.6854, -5.3527, -5.0687, -5.365, -5.3565, -5.4413, -5.5854, -5.63, -4.9558, -5.6387, -5.9446, -6.0554, -6.1105, -6.144, -5.945, -6.0469, -5.7779, -6.1638, -6.2885, -6.2578, -6.3782, -6.4663, -6.0702, -6.4067, -6.5244, -6.5315, -6.4697, -6.5715, -6.5803, -6.5722, -6.583, -6.604, -6.6672, -6.6926, -6.7213, -6.7217, -5.1393, -5.8441, -6.2183, -5.9891, -5.5423, -6.4239, -5.8704, -5.5819, -6.3979, -6.1903, -5.9345, -5.7098, -6.455, -6.3323, -6.1551, -3.0725, -2.9856, -5.751, -4.5313, -5.0491, -5.7553, -3.5111, -3.9999, -4.4082, -4.8377, -5.3191, -4.4425, -5.2559, -5.1847, -5.2385, -4.9979, -5.5353, -4.8898, -5.2704, -5.106, -5.2937, -5.4082, -5.6838, -5.4565, -5.7015, -4.1467, -4.1506, -5.8098, -5.1214, -5.1769, -6.0315, -6.0566, -6.2467, -5.8031, -6.377, -6.485, -6.5775, -5.9596, -5.9541, -6.57, -6.5733, -6.5721, -6.7022, -6.7552, -6.7667, -6.6131, -6.7711, -6.4706, -6.2361, -6.8328, -6.7789, -6.7472, -6.9034, -5.5045, -6.3036, -5.6734, -6.427, -5.807, -5.8206, -6.7012, -4.0942, -6.0587, -4.4918, -5.4516, -6.0084, -5.0483, -5.6652, -4.6347, -4.0155, -5.1273, -3.4331, -3.7692, -4.2844, -5.1758, -4.4864, -4.1983, -4.5479, -5.0429, -4.5415, -4.5602, -5.053, -5.3848, -5.0062, -5.3843, -5.2138, -5.3807, -5.6173, -5.6065, -4.8246, -5.8733, -6.0635, -6.0696, -6.075, -6.0901, -6.3048, -6.3259, -6.3285, -6.3583, -6.3602, -5.8952, -6.3749, -6.4485, -6.3643, -6.4182, -6.4953, -6.2638, -6.5075, -6.1065, -6.5435, -6.5651, -6.4276, -6.5663, -6.4832, -6.6246, -6.594, -6.6316, -6.6403, -6.6461, -5.8226, -6.0062, -6.4954, -6.1305, -5.599, -6.1534, -5.1257, -5.8519, -6.1267, -5.8768, -5.2787, -5.8445, -6.0798, -5.0609, -5.7009, -5.2806, -5.2242, -3.471, -4.2777, -4.8085, -5.4321, -3.8786, -4.9768, -4.4678, -4.5034, -5.1988, -5.1456, -4.9228, -5.7781, -5.3705, -5.4339, -5.7067, -5.6134, -5.7398, -5.825], \"loglift\": [30.0, 29.0, 28.0, 27.0, 26.0, 25.0, 24.0, 23.0, 22.0, 21.0, 20.0, 19.0, 18.0, 17.0, 16.0, 15.0, 14.0, 13.0, 12.0, 11.0, 10.0, 9.0, 8.0, 7.0, 6.0, 5.0, 4.0, 3.0, 2.0, 1.0, 1.5344, 1.534, 1.5338, 1.5325, 1.5325, 1.5323, 1.5322, 1.5307, 1.5307, 1.5307, 1.5306, 1.5305, 1.53, 1.5299, 1.5294, 1.5294, 1.5294, 1.5294, 1.529, 1.5287, 1.5284, 1.5281, 1.528, 1.528, 1.528, 1.5279, 1.5279, 1.5277, 1.5277, 1.5277, 1.5266, 1.5243, 1.5263, 1.5229, 1.5184, 1.5159, 1.5081, 1.5011, 1.5214, 1.475, 1.4469, 1.4965, 1.4866, 1.5109, 1.424, 1.4845, 1.3482, 1.494, 1.4578, 1.2195, 1.3918, 0.6062, 1.1782, 0.3753, 1.2189, 0.7347, 0.3824, 1.0197, 1.2304, 0.0141, 1.2322, 0.1529, 0.5306, 0.2556, -0.1359, 0.9711, 0.9881, 1.0818, -0.1351, 0.5369, 0.184, 0.2497, 0.3, 0.2752, -0.3935, 0.0848, 0.8025, -0.2766, 0.1789, 0.1998, 0.1529, 0.307, 0.049, -0.2358, 0.2292, 0.3243, 0.2676, -0.1627, -0.7413, 1.7508, 1.7497, 1.7496, 1.7494, 1.749, 1.7483, 1.7478, 1.7471, 1.7457, 1.7456, 1.7455, 1.7448, 1.7446, 1.7444, 1.7442, 1.7438, 1.7437, 1.7437, 1.7437, 1.7437, 1.7436, 1.7434, 1.7431, 1.7431, 1.743, 1.7429, 1.7427, 1.7424, 1.7423, 1.7423, 1.736, 1.742, 1.7408, 1.742, 1.7417, 1.7391, 1.7402, 1.7196, 1.7363, 1.7305, 1.6736, 1.6492, 1.7121, 1.7272, 1.6841, 1.6578, 1.6328, 1.7186, 1.602, 1.7087, 1.6888, 1.7074, 1.6848, 1.5596, 1.5389, 1.3756, 1.6109, 0.6126, 0.5071, 1.6164, 0.2115, 0.4452, 1.5804, 1.2747, 1.3637, 1.4698, -0.0472, 0.7502, 0.7702, 1.3904, 1.1606, 0.2611, 0.4868, 0.457, 0.2923, -0.2833, -0.2997, -0.1995, 0.0227, 0.2249, -0.057, 0.7907, 0.2929, 0.3496, 0.6961, 0.5442, -0.0343, 0.3949, 0.0252, 0.642, 0.2082, -0.0973, 0.0101, 0.5452, -0.271, 2.047, 2.0457, 2.0449, 2.0448, 2.0448, 2.0446, 2.0443, 2.044, 2.0438, 2.0434, 2.0433, 2.0432, 2.0431, 2.0428, 2.0427, 2.0424, 2.0422, 2.042, 2.0411, 2.0406, 2.0402, 2.0401, 2.0395, 2.0395, 2.0392, 2.0389, 2.0387, 2.0381, 2.0378, 2.0372, 2.0363, 2.0371, 2.0368, 2.0181, 2.027, 2.0332, 1.9818, 2.0166, 1.7898, 1.6332, 1.8277, 1.7057, 1.5023, 1.6179, 0.4585, 1.0727, 0.6759, 1.0188, 0.7478, 0.0485, 1.4333, 0.0527, 0.7037, 0.2797, 0.6123, 1.5815, 0.108, 1.5077, 0.669, -0.2134, 0.1098, -0.3904, -0.2731, 1.1898, 0.1359, 0.3655, 0.5079, 0.7008, 0.0398, 0.8209, -0.2161, -0.3442, -0.1484, -0.2034, 2.0879, 2.0876, 2.0867, 2.0841, 2.0839, 2.0839, 2.0839, 2.0827, 2.0821, 2.0818, 2.0815, 2.08, 2.0789, 2.0784, 2.078, 2.0772, 2.0764, 2.0763, 2.0757, 2.0754, 2.0743, 2.0743, 2.0741, 2.073, 2.0728, 2.0727, 2.0723, 2.0723, 2.0719, 2.0715, 2.0528, 2.0713, 2.0593, 2.0609, 2.0658, 1.9927, 2.0121, 2.0347, 1.929, 2.0256, 1.9698, 1.722, 1.8766, 1.6744, 1.8283, 1.9005, 1.9681, 1.5334, 1.828, 1.3946, 1.6996, 1.6139, 1.8197, 0.5729, 0.6336, 1.2176, 0.1659, 1.5583, 1.2974, 0.7848, -0.301, -0.0783, -0.0211, -0.2016, 0.928, 0.3937, 1.0943, 0.471, 0.2216, -0.342, 0.6574, -0.2761, 2.1549, 2.1535, 2.1511, 2.1507, 2.1495, 2.1484, 2.1474, 2.1473, 2.1472, 2.1464, 2.1453, 2.145, 2.1449, 2.1449, 2.1444, 2.1442, 2.1436, 2.1432, 2.1431, 2.143, 2.142, 2.1413, 2.1412, 2.1406, 2.1405, 2.14, 2.1399, 2.1398, 2.1393, 2.1371, 2.1328, 2.1354, 2.1206, 2.1067, 2.0974, 2.1306, 2.085, 2.0846, 2.1228, 2.0939, 1.9972, 2.0535, 2.0845, 2.028, 1.9744, 1.9309, 2.0955, 1.8825, 1.7349, 1.9189, 2.1156, 1.7581, 1.8543, 1.8934, 1.5198, 1.2992, 1.7913, 1.3785, 1.3876, 1.62, 1.2695, 0.6243, 0.9578, 1.0649, 0.0593, 0.8588, 0.7321, -0.3109, 0.8822, 1.017, 1.068, 0.5042, 0.2012, 0.4626, -0.2742, 0.1762, -0.0572, -0.5271, 0.5765, -1.0722, -1.4019, 2.3239, 2.3229, 2.3223, 2.3221, 2.3218, 2.3207, 2.3195, 2.3193, 2.3192, 2.3182, 2.3177, 2.3177, 2.3166, 2.3158, 2.3157, 2.3156, 2.3138, 2.3137, 2.3134, 2.3124, 2.3124, 2.3118, 2.3114, 2.3112, 2.311, 2.3105, 2.3102, 2.3102, 2.3099, 2.3084, 2.3068, 2.3077, 2.3058, 2.2961, 2.2852, 2.3061, 2.282, 2.2204, 2.1275, 2.2069, 2.1703, 2.2002, 2.0126, 2.0902, 1.286, 1.9942, 1.7714, 1.6065, 1.5462, 1.9802, 1.5909, 0.5531, 0.4381, 0.158, 1.3355, 1.9754, 0.3821, 1.1335, 0.0016, 1.202, 0.4401, 0.9413, 1.4384, 1.1866, 1.6772, -0.2973, 1.5835, 0.5017, 0.5863, 0.0678, 0.5967, 0.2869, 1.3181, 1.0634, 0.4567, -0.9384, 0.1045, -0.2119, -0.5867, -1.1411, -0.3957, 3.1159, 3.1142, 3.1138, 3.1126, 3.1126, 3.1119, 3.1113, 3.1111, 3.1108, 3.1106, 3.1092, 3.109, 3.1084, 3.1074, 3.1073, 3.1066, 3.1064, 3.1063, 3.106, 3.1055, 3.1055, 3.1054, 3.1048, 3.1048, 3.1047, 3.1037, 3.1031, 3.1015, 3.1002, 3.0999, 3.0936, 3.0924, 3.0847, 3.0755, 3.067, 3.0795, 3.0917, 3.0832, 3.0449, 3.0929, 3.0122, 3.0279, 2.7705, 3.0317, 2.5319, 2.498, 2.7622, 2.2947, 2.4223, 2.5354, -0.0139, 0.2838, 2.2644, 2.5271, -0.3766, 1.0323, -0.7297, -0.1744, 0.1269, 1.8086, 0.7883, 0.1754, 0.2435, 0.1772, -0.6013, 0.5816, -0.9759, 1.0198, -1.3412, -0.2315, -0.761, -0.1989, 0.6673, 0.8201, 3.2511, 3.2508, 3.2492, 3.2481, 3.2473, 3.247, 3.2469, 3.2465, 3.2461, 3.2448, 3.2443, 3.2435, 3.2435, 3.2419, 3.2417, 3.2413, 3.2406, 3.2405, 3.2399, 3.2397, 3.2397, 3.2386, 3.2379, 3.2378, 3.2371, 3.237, 3.2363, 3.2356, 3.2355, 3.2351, 3.2337, 3.2314, 3.2171, 3.2328, 3.2054, 3.163, 3.2238, 3.1785, 3.1352, 3.0254, 3.219, 3.1582, 3.0483, 0.9308, 0.5324, 2.6989, 1.4994, 1.8032, 2.4955, -0.3862, -0.2904, 0.1564, 0.7738, 1.3726, -0.5786, 1.0621, 0.3935, 0.2353, -1.0104, 1.1172, -1.8645, -0.2583, -1.3785, -0.4445, -0.3232, 0.0359, 3.2546, 3.2523, 3.2519, 3.2519, 3.2494, 3.2493, 3.2491, 3.2489, 3.2485, 3.2456, 3.2445, 3.2427, 3.2417, 3.2404, 3.2402, 3.2391, 3.2389, 3.2378, 3.2373, 3.2371, 3.2363, 3.236, 3.2358, 3.2355, 3.2352, 3.235, 3.2345, 3.2342, 3.2341, 3.2326, 3.2292, 3.2317, 3.2218, 3.2302, 3.1919, 3.1735, 3.2316, 2.9227, 3.1601, 2.769, 2.973, 3.0978, 2.3754, 2.6972, 1.9993, 0.8337, 1.725, -0.3083, -0.2512, 0.2803, 1.3686, -0.4989, -1.1731, -0.684, 0.6319, -0.832, -0.8327, 0.4469, 1.3421, -0.4107, 1.0142, -1.2105, -0.2957, 1.2739, 0.223, 3.5369, 3.5294, 3.5267, 3.5266, 3.5263, 3.5236, 3.5222, 3.5218, 3.5218, 3.5211, 3.521, 3.521, 3.5201, 3.5188, 3.5187, 3.5171, 3.5169, 3.5169, 3.5166, 3.5164, 3.5163, 3.5157, 3.5156, 3.5154, 3.5146, 3.5143, 3.5142, 3.514, 3.514, 3.5138, 3.5078, 3.509, 3.513, 3.5087, 3.4877, 3.5045, 3.4693, 3.316, 3.3933, 3.2743, 3.0227, 3.2509, 3.3058, 2.4938, 2.9738, 2.2988, 2.1436, -0.3462, 0.3178, 0.9754, 2.0021, -0.8534, 0.497, -0.7583, -0.9854, 0.308, -0.0813, -0.9196, 2.1856, -0.2371, -0.0342, -0.3728, -1.8859, -1.7523, -1.2604]}, \"token.table\": {\"Topic\": [1, 2, 3, 4, 5, 6, 7, 8, 9, 10, 1, 2, 3, 5, 6, 7, 9, 2, 8, 1, 2, 3, 4, 5, 6, 7, 8, 9, 10, 1, 2, 9, 1, 2, 9, 1, 2, 3, 4, 5, 6, 7, 8, 9, 10, 1, 2, 3, 4, 5, 6, 8, 9, 1, 2, 3, 4, 5, 6, 7, 8, 9, 10, 10, 10, 10, 3, 6, 1, 6, 2, 6, 8, 9, 1, 6, 10, 1, 2, 10, 4, 6, 1, 2, 3, 7, 8, 5, 5, 7, 3, 8, 5, 1, 2, 3, 4, 5, 6, 8, 5, 9, 7, 9, 10, 5, 2, 3, 7, 1, 3, 4, 6, 7, 9, 10, 5, 1, 2, 3, 4, 6, 9, 1, 2, 6, 7, 1, 3, 1, 2, 3, 5, 6, 8, 9, 2, 3, 2, 7, 3, 3, 10, 5, 1, 2, 3, 4, 5, 6, 7, 6, 9, 7, 3, 10, 10, 1, 7, 1, 2, 7, 3, 5, 1, 2, 5, 7, 8, 9, 10, 2, 4, 1, 2, 3, 5, 6, 7, 8, 1, 3, 6, 6, 8, 8, 1, 2, 4, 5, 6, 9, 2, 8, 9, 1, 1, 2, 5, 6, 1, 1, 6, 3, 1, 2, 10, 1, 3, 4, 6, 9, 7, 8, 5, 1, 3, 10, 6, 9, 1, 2, 3, 4, 5, 8, 9, 1, 3, 4, 5, 5, 1, 2, 3, 4, 5, 6, 7, 9, 3, 1, 2, 3, 4, 5, 6, 7, 8, 10, 1, 2, 4, 5, 6, 1, 2, 3, 4, 5, 6, 7, 8, 9, 2, 10, 5, 7, 10, 1, 9, 9, 1, 3, 2, 10, 10, 1, 7, 2, 6, 8, 9, 9, 5, 9, 10, 1, 4, 10, 1, 5, 1, 3, 5, 6, 7, 9, 10, 3, 7, 10, 3, 1, 2, 3, 4, 5, 6, 7, 9, 10, 10, 8, 1, 3, 1, 2, 3, 5, 6, 7, 9, 2, 3, 7, 1, 2, 3, 5, 6, 8, 9, 5, 6, 1, 2, 2, 5, 6, 7, 5, 10, 2, 4, 10, 5, 8, 10, 1, 2, 3, 4, 5, 6, 7, 1, 2, 3, 4, 5, 6, 2, 3, 6, 9, 3, 10, 7, 1, 2, 4, 6, 7, 10, 1, 2, 3, 5, 6, 8, 9, 7, 1, 3, 5, 6, 9, 9, 3, 5, 6, 5, 1, 2, 3, 4, 8, 2, 9, 1, 2, 3, 5, 7, 5, 6, 10, 5, 1, 2, 7, 1, 3, 6, 7, 1, 2, 3, 4, 6, 2, 5, 7, 1, 3, 5, 1, 2, 5, 1, 2, 3, 4, 5, 6, 8, 9, 1, 6, 6, 2, 6, 1, 4, 5, 6, 9, 1, 5, 3, 5, 7, 8, 9, 4, 9, 1, 2, 3, 4, 5, 6, 7, 8, 9, 10, 3, 4, 1, 2, 3, 5, 7, 3, 8, 10, 3, 1, 2, 3, 4, 5, 6, 7, 8, 9, 1, 2, 3, 4, 6, 7, 9, 1, 2, 3, 4, 5, 6, 8, 9, 10, 10, 1, 3, 9, 3, 1, 4, 1, 2, 5, 9, 3, 9, 2, 1, 2, 3, 4, 5, 6, 7, 8, 9, 10, 1, 2, 3, 4, 5, 6, 7, 8, 9, 10, 8, 1, 2, 3, 4, 5, 6, 7, 8, 9, 2, 6, 4, 1, 2, 3, 4, 5, 6, 7, 8, 9, 10, 1, 2, 2, 2, 8, 3, 4, 8, 1, 2, 3, 4, 5, 6, 7, 8, 9, 10, 6, 1, 2, 3, 7, 9, 10, 1, 2, 3, 4, 5, 6, 7, 8, 9, 10, 1, 2, 3, 4, 5, 6, 7, 8, 9, 10, 1, 3, 5, 6, 7, 10, 6, 1, 2, 3, 4, 5, 6, 7, 8, 9, 1, 3, 4, 5, 6, 7, 2, 1, 2, 3, 4, 5, 6, 7, 8, 9, 10, 3, 6, 1, 2, 3, 4, 5, 6, 7, 9, 10, 8, 1, 2, 3, 4, 5, 6, 7, 9, 1, 7, 2, 8, 5, 9, 4, 1, 2, 3, 4, 5, 6, 7, 8, 9, 10, 7, 1, 2, 3, 4, 5, 6, 7, 8, 9, 10, 1, 3, 2, 2, 4, 7, 8, 1, 2, 6, 7, 10, 2, 1, 4, 4, 1, 4, 6, 1, 4, 6, 4, 1, 3, 4, 1, 2, 3, 4, 6, 8, 10, 3, 10, 1, 2, 3, 4, 5, 6, 7, 8, 9, 10, 1, 2, 3, 4, 5, 6, 7, 8, 9, 10, 6, 10, 4, 6, 3, 1, 2, 8, 1, 2, 3, 4, 6, 7, 9, 2, 4, 4, 5, 7, 2, 5, 5, 6, 6, 2, 2, 8, 1, 1, 9, 1, 3, 5, 6, 2, 3, 4, 8, 8, 1, 6, 2, 1, 2, 3, 5, 6, 7, 8, 6, 1, 2, 3, 4, 5, 7, 9, 10, 1, 2, 10, 1, 8, 2, 3, 5, 6, 5, 1, 9, 5, 7, 2, 6, 8, 7, 3, 1, 9, 8, 3, 2, 2, 8, 2, 7, 1, 2, 3, 4, 5, 6, 7, 10, 4, 1, 1, 4, 2, 1, 9, 8, 1, 9, 1, 2, 3, 5, 6, 8, 1, 2, 3, 6, 1, 2, 3, 6, 1, 2, 3, 5, 6, 9, 1, 2, 3, 5, 6, 8, 9, 8, 2, 8, 5, 10, 6, 6, 4, 1, 4, 6, 1, 4, 9, 9, 10, 2, 1, 5, 7, 3, 4, 8, 2, 9, 10, 3, 6, 3, 9, 2, 9, 1, 2, 3, 4, 5, 6, 7, 8, 9, 1, 2, 3, 1, 2, 6, 7, 10, 1, 2, 3, 4, 5, 6, 7, 8, 9, 10, 1, 2, 3, 4, 5, 6, 7, 8, 9, 4, 1, 2, 3, 4, 6, 7, 9, 7, 1, 1, 3, 1, 2, 3, 4, 5, 6, 7, 8, 9, 10, 9, 7, 1, 2, 4, 1, 6, 1, 2, 3, 6, 9, 1, 2, 3, 4, 5, 6, 7, 8, 9, 10, 1, 2, 6, 1, 2, 3, 4, 5, 6, 7, 8, 9, 10, 2, 1, 2, 3, 4, 5, 6, 7, 8, 9, 10, 1, 2, 3, 4, 5, 6, 7, 8, 9, 10, 1, 2, 3, 4, 5, 6, 7, 8, 7, 1, 2, 3, 4, 5, 7, 9, 1, 2, 3, 4, 6, 7, 8, 2, 1, 2, 3, 4, 5, 6, 8, 9, 10, 1, 2, 3, 4, 5, 6, 7, 9, 10, 1, 2, 6, 10, 6, 1, 2, 5, 8, 9, 1, 3, 7, 1, 5, 6, 2, 4, 5, 6, 7, 10, 10, 4, 4, 7, 8, 1, 2, 3, 4, 5, 6, 7, 8, 9, 10, 1, 2, 9, 10, 3, 8, 9, 1, 4, 7, 4, 7, 1, 2, 3, 6, 8, 9, 10, 1, 9, 6, 1, 2, 3, 4, 5, 6, 7, 8, 9, 10, 1, 2, 3, 4, 5, 6, 7, 8, 9, 10, 1, 2, 3, 4, 5, 6, 7, 8, 9, 10, 4, 1, 2, 4, 6, 2, 4, 5, 6, 1, 2, 3, 4, 6, 7, 8, 9, 10, 1, 2, 4, 6, 9, 1, 6, 8, 7, 1, 1, 2, 3, 4, 5, 6, 7, 8, 9, 1, 7, 4, 1, 4, 6, 10, 2, 7, 1, 3, 7, 1, 1, 10, 1, 1, 2, 3, 4, 7, 9, 10, 2, 3, 2, 9, 9, 5, 1, 5, 5, 7, 1, 2, 3, 4, 5, 6, 7, 8, 9, 6, 8, 1, 2, 3, 4, 7, 9, 1, 2, 3, 5, 10, 2, 6, 1, 2, 8, 7, 4, 1, 2, 8, 8, 8, 1, 2, 7, 1, 2, 4, 5, 6, 7, 9, 1, 2, 3, 4, 5, 6, 7, 8, 9, 1, 2, 3, 4, 5, 6, 7, 9, 10, 1, 2, 5, 8, 10, 1, 2, 3, 4, 5, 6, 7, 8, 9, 10, 5, 1, 2, 5, 6, 4, 6, 7, 1, 2, 3, 4, 5, 6, 7, 9, 10, 1, 2, 3, 4, 5, 9, 1, 2, 3, 4, 5, 6, 7, 8, 9, 10, 1, 2, 3, 4, 5, 6, 7, 9, 1, 2, 6, 9, 1, 2, 3, 4, 5, 6, 8, 9, 1, 2, 3, 10, 8, 10, 1, 2, 3, 4, 8, 8, 10, 1, 2, 5, 7, 6, 8, 3, 4, 1, 2, 3, 4, 5, 6, 7, 9, 10, 2, 9, 1, 2, 3, 5, 6, 8, 10, 7, 2, 1, 2, 3, 4, 6, 7, 3, 4, 1, 2, 3, 4, 5, 6, 9, 1, 2, 3, 6, 9, 2, 10, 1, 2, 3, 8, 1, 2, 3, 5, 7, 8, 5, 7, 1, 2, 4, 6, 7, 9, 2, 1, 1, 10, 2, 7, 2, 1, 2, 3, 4, 6, 7, 5, 2, 6, 8, 1, 2, 3, 4, 5, 6, 7, 2, 5, 7, 8, 2, 7, 2, 1, 2, 3, 4, 5, 6, 7, 9, 10, 9, 1, 3, 3, 6, 5, 8, 2, 5, 7, 8, 2, 1, 3, 5, 9, 6, 4, 1, 6, 7, 3, 6, 9, 1, 2, 3, 4, 5, 6, 7, 8, 9, 10, 6, 1, 2, 5, 7, 1, 2, 3, 4, 5, 6, 7, 8, 9, 10, 1, 2, 3, 4, 5, 6, 7, 8, 9, 10, 1, 2, 3, 4, 6, 7, 8, 10, 2, 8, 2, 7, 3, 1, 10, 7, 2, 4, 2, 1, 2, 5, 7, 8, 1, 10, 7, 1, 2, 3, 4, 5, 6, 7, 8, 9, 10, 1, 4, 5, 6, 7, 10, 1, 2, 3, 4, 5, 6, 9, 10, 4, 9, 10, 5, 10, 9, 10, 8, 3, 2, 3, 6, 7, 1, 4, 6, 1, 2, 4, 5, 6, 7, 9, 7, 1, 2, 3, 5, 6, 7, 8, 8, 2, 8, 3, 9, 1, 2, 3, 4, 5, 6, 7, 8, 9, 10, 1, 2, 3, 4, 5, 6, 7, 8, 9, 10, 1, 2, 3, 4, 5, 6, 7, 8, 9, 1, 2, 3, 4, 5, 6, 7, 8, 9, 10, 1, 2, 3, 4, 5, 6, 7, 8, 9, 1, 3, 3, 7, 9, 10, 1, 2, 3, 4, 5, 6, 7, 8, 9, 10, 8, 1, 2, 3, 5, 6, 8, 1, 7, 1, 2, 3, 4, 5, 6, 7, 8, 9, 1, 2, 3, 4, 8, 1, 2, 3, 4, 5, 6, 7, 8, 9, 10, 5, 1, 2, 10, 8, 6, 6, 1, 8, 9, 1, 4, 7, 6, 1, 10, 6, 1, 2, 3, 4, 5, 6, 9, 1, 2, 3, 4, 5, 6, 7, 8, 9, 10, 1, 2, 3, 4, 5, 6, 7, 8, 9, 7, 1, 2, 3, 4, 5, 6, 7, 8, 9, 10, 1, 2, 3, 4, 5, 6, 7, 9, 1, 2, 3, 4, 5, 6, 7, 9, 10, 10, 6, 3, 1, 2, 3, 4, 5, 6, 7, 8, 9, 10, 1, 2, 3, 4, 5, 6, 7, 8, 9, 10, 1, 2, 3, 7, 1, 7, 3, 6, 1, 2, 3, 4, 5, 6, 7, 9, 10, 1, 4, 1, 8, 1, 2, 3, 4, 5, 6, 7, 8, 9], \"Freq\": [0.05369579107780557, 0.28052608800263806, 0.18518163846063715, 0.13836992316203742, 0.2784608652688763, 0.0006884075779205841, 0.005163056834404382, 0.056793625178448194, 0.0003442037889602921, 0.0010326113668808763, 0.015959925277184865, 0.13638481600503433, 0.026116241362666145, 0.002901804595851794, 0.001450902297925897, 0.10446496545066458, 0.7123930282816154, 0.0047696421915715435, 0.9920855758468811, 0.1623356564238944, 0.16272216989157032, 0.25239329439238817, 0.0386513467675939, 0.1409485778791591, 0.15086909021617487, 0.020485213786824767, 0.006441891127932317, 0.02538105104405333, 0.03968204934806307, 0.0042670609584751894, 0.0021335304792375947, 0.989958142366244, 0.00425031927059644, 0.00212515963529822, 0.9903243900489704, 0.18681020946753507, 0.28611481482900475, 0.08689152969128597, 0.11413011623257249, 0.03943234992047758, 0.1505798189955501, 0.0300896463241909, 0.06535506271580822, 0.02982647157499973, 0.010790164716838137, 0.31628868413813044, 0.16122108024161513, 0.007384171614119778, 0.013537647959219593, 0.014768343228239555, 0.039382248608638815, 0.23260140584477298, 0.2153716720784935, 0.2170487969947453, 0.16438515680739507, 0.1353150642475424, 0.145705698146227, 0.12231937113779154, 0.09730488212243969, 0.04324990349281545, 0.02608019505624258, 0.028152401246863443, 0.020455635395985952, 0.9750667374914226, 0.9630152913411562, 0.9696056983849539, 0.9871125744274947, 0.9789969807115143, 0.013262861727144701, 0.9814517678087079, 0.13751083752209314, 0.048533236772503464, 0.7927095339508899, 0.01617774559083449, 0.037057267976129925, 0.9542246503853455, 0.9933243708158773, 0.9921206739890197, 0.9953732868384513, 0.9877152351152736, 0.01479062834815778, 0.9761814709784135, 0.0326695307541235, 0.04083691344265438, 0.008167382688530875, 0.008167382688530875, 0.9065794784269272, 0.9925846989200732, 0.02901904736436938, 0.9576285630241895, 0.9849903005996767, 0.01387310282534756, 0.9856659721007972, 0.7244253336537619, 0.03316031456865812, 0.03826190142537475, 0.1836571268417988, 0.0038261901425374755, 0.015304760570149902, 0.0012753967141791583, 0.9780308692786875, 0.013583762073315105, 0.9844654342093806, 0.8439725768750578, 0.14066209614584296, 0.9865698405318023, 0.9847154342532921, 0.984310855191418, 0.9929290664360709, 0.05297809533540065, 0.03090388894565038, 0.8829682555900108, 0.004414841277950054, 0.004414841277950054, 0.008829682555900107, 0.013244523833850162, 0.9803770270423571, 0.013661121869995616, 0.0019515888385708022, 0.0019515888385708022, 0.9621332974154055, 0.01756429954713722, 0.0019515888385708022, 0.09964456285389989, 0.749500407553247, 0.13863591353586072, 0.008664744595991295, 0.986899288451962, 0.9883108432666347, 0.004066810363546555, 0.12742672472445873, 0.5761314681690954, 0.2846767254482589, 0.0013556034545155185, 0.002711206909031037, 0.0013556034545155185, 0.9845329461136917, 0.989144973523161, 0.015070344146121108, 0.979572369497872, 0.9937508299642286, 0.9807325151626, 0.9734962416619748, 0.9849933223085192, 0.013565076136920715, 0.13904203040343732, 0.057651573581913036, 0.013565076136920715, 0.7664268017360204, 0.0033912690342301787, 0.0033912690342301787, 0.7831937865607118, 0.2061036280422926, 0.9832741887410732, 0.9836628328012621, 0.9825965108783262, 0.9668951656468538, 0.02084923946639688, 0.9590650154542565, 0.007100550249184033, 0.5680440199347226, 0.42248273982644996, 0.9891432862949672, 0.9807935765339127, 0.05489525055589504, 0.30976605670826485, 0.1686068409931062, 0.43524091512173924, 0.02548708061523698, 0.003921089325421075, 0.9669208106132433, 0.9796492663820086, 0.9805850950616966, 0.0035523096927999897, 0.007104619385599979, 0.035523096927999896, 0.9271528298207974, 0.017761548463999948, 0.007104619385599979, 0.0035523096927999897, 0.01221056354446129, 0.9646345200124419, 0.01221056354446129, 0.9827429176082085, 0.9887222844022497, 0.9910446056370767, 0.013065698928129926, 0.002177616488021654, 0.002177616488021654, 0.1633212366016241, 0.8166061830081204, 0.9645064725714618, 0.9831378595793508, 0.9874008125816504, 0.9863665462650226, 0.9907893366309164, 0.9688291105321355, 0.012501020781059812, 0.006250510390529906, 0.012501020781059812, 0.9908813030391384, 0.9825912131514222, 0.9842749318873834, 0.9887949950467966, 0.017915085344118894, 0.9315844378941825, 0.044787713360297236, 0.009492645428839243, 0.009492645428839243, 0.018985290857678486, 0.009492645428839243, 0.9587571883127635, 0.019628156564422284, 0.961779671656692, 0.9750256857186664, 0.8893404137293163, 0.017506701057663707, 0.09103484549985127, 0.8746128500428514, 0.11318519235848665, 0.0073021010707557754, 0.004563813169222359, 0.0018255252676889439, 0.0009127626338444719, 0.9392327502259615, 0.04381260642453465, 0.0027382879015334155, 0.0025946301236578523, 0.018162410865604967, 0.005189260247315705, 0.9729862963716946, 0.9882739648589607, 0.07612880628569141, 0.024167875011330605, 0.12325616255778608, 0.61990599404063, 0.10633865004985465, 0.027793056263030195, 0.0012083937505665302, 0.020542693759631015, 0.9917708636939827, 0.01439753634067134, 0.005759014536268536, 0.002879507268134268, 0.001439753634067134, 0.7573104115193124, 0.21020403057380158, 0.002879507268134268, 0.001439753634067134, 0.002879507268134268, 0.035637171496327405, 0.0025455122497376717, 0.05600126949422878, 0.41873676508184704, 0.4849200835750265, 0.11347362196952374, 0.1230900306110088, 0.22117739875415646, 0.153862538263761, 0.06923814221869246, 0.00769312691318805, 0.26733616023328477, 0.04038891629423726, 0.0019232817282970125, 0.22069252062100134, 0.760163126583449, 0.9784868999490036, 0.941870407889458, 0.048550021025229796, 0.9817162557267981, 0.009006571153456863, 0.9949638518337885, 0.9526861734250407, 0.03699752129805983, 0.9606698858837485, 0.03514645923964933, 0.9686386795415762, 0.9869526732019733, 0.9708562596911068, 0.1712741659795017, 0.7267579475346423, 0.04166128361663555, 0.05554837815551406, 0.9830335213488987, 0.9963136374424081, 0.9708799502078996, 0.988197308929257, 0.9844362263294938, 0.010817980509115317, 0.9720188890759335, 0.007367348320016836, 0.9872246748822561, 0.0022445033844700527, 0.11446967260797268, 0.8495445310219149, 0.01234476861458529, 0.0011222516922350264, 0.01795602707576042, 0.0011222516922350264, 0.9944854745753025, 0.9682784509719005, 0.01936556901943801, 0.9895140540773095, 0.01108433553792773, 0.10899596612295602, 0.37548186634730185, 0.0027710838844819327, 0.3186746467154222, 0.17457828472236175, 0.003694778512642577, 0.0018473892563212885, 0.0027710838844819327, 0.9757988025878047, 0.9727093342737358, 0.9838208788927836, 0.008337465075362573, 0.8232442546473602, 0.029564020194518457, 0.002274155399578343, 0.018193243196626744, 0.009096621598313372, 0.03638648639325349, 0.07732128358566366, 0.012728494560626146, 0.08909946192438302, 0.8909946192438302, 0.1024230310425162, 0.20266684865859588, 0.05665954908734939, 0.18087471439423072, 0.010896067132182575, 0.034867414822984236, 0.4118713375965013, 0.9820032557132832, 0.983749630677461, 0.9783082112662976, 0.014822851685852994, 0.1057876434144521, 0.005037506829259624, 0.7002134492670877, 0.18638775268260607, 0.9819892102645346, 0.9664928252417618, 0.05624140486391481, 0.007030175607989351, 0.9279831802545944, 0.9864451911202576, 0.24353113408104318, 0.7421901229136554, 0.5742937239500245, 0.014397335697911478, 0.05758934279164591, 0.14237365301268015, 0.18076654820711077, 0.025595263462953738, 0.004799111899303826, 0.0013872434233546836, 0.0013872434233546836, 0.0013872434233546836, 0.002774486846709367, 0.5826422378089671, 0.4092368098896316, 0.16156363737482066, 0.005571159909476574, 0.26184451574539896, 0.5682583107666106, 0.9936639377484244, 0.9706675973524146, 0.9779408419074073, 0.14389839971347382, 0.009384678242183074, 0.8258516853121106, 0.009384678242183074, 0.012512904322910766, 0.9578446309767449, 0.002277705804104823, 0.02847132255131029, 0.6571181244842415, 0.2653527261782119, 0.005124838059235852, 0.0034165587061572348, 0.03758214576772958, 0.9862068469010926, 0.0019183020057550197, 0.1477092544431365, 0.8306247684919236, 0.007673208023020079, 0.009591510028775098, 0.9807976342219507, 0.9959706096223904, 0.9822812074605771, 0.9836852440695613, 0.9898486979322445, 0.2630812854288357, 0.00292312539365373, 0.7073963452642027, 0.00584625078730746, 0.01753875236192238, 0.005618148132354647, 0.9887940712944179, 0.0041520921337981, 0.0083041842675962, 0.053977197739375295, 0.9259165458369762, 0.0041520921337981, 0.9902519517854538, 0.9811436783717622, 0.9824384438858765, 0.991010759379581, 0.012094903680503694, 0.024189807361007388, 0.9554973907597918, 0.4055182214172859, 0.02162763847558858, 0.01081381923779429, 0.5515047811275088, 0.13284144426241304, 0.6816863587150143, 0.03670618854619307, 0.1293456167818232, 0.017479137402949083, 0.008816691486494917, 0.008816691486494917, 0.9786527550009357, 0.010894053583817377, 0.021788107167634754, 0.9586767153759292, 0.0029011417837473638, 0.014505708918736818, 0.980585922906609, 0.14253775168086794, 0.18550869152583546, 0.2138066275213019, 0.0031442151106073806, 0.289267790175879, 0.010480717035357936, 0.15092232530915428, 0.0031442151106073806, 0.0050107777011695704, 0.9871232071304055, 0.9906646181229426, 0.9541486514243303, 0.04240660672997023, 0.7245503105070994, 0.2140210147959432, 0.002229385570791075, 0.028982012420283976, 0.028982012420283976, 0.9611209871937075, 0.03239733664697891, 0.010034304213054769, 0.8997426111039108, 0.003344768071018256, 0.0836192017754564, 0.003344768071018256, 0.05264491599103557, 0.9370795046404331, 0.27632734244536106, 0.17626486446220815, 0.14328547096963343, 0.08769520542343737, 0.1088070141364871, 0.054091202205624474, 0.04971893412895737, 0.044846978272099734, 0.05071830968933842, 0.008244848373143683, 0.04784085523747125, 0.9448568909400573, 0.3006019337841009, 0.14082252753849772, 0.005416251059172989, 0.0027081255295864945, 0.5524576080356449, 0.9811371607840011, 0.2015055838596946, 0.7905219059111096, 0.9792530923862662, 0.25588738192110616, 0.17391049043665321, 0.11051945289199527, 0.19780658835924678, 0.20510817383559482, 0.012943719708071517, 0.00431457323602384, 0.005974024480648393, 0.03352091514141598, 0.021604019034234548, 0.3969738497540598, 0.021604019034234548, 0.013502511896396592, 0.0027005023792793185, 0.5319989687180258, 0.008101507137837955, 0.18969997377639797, 0.14065207181139774, 0.258944070668163, 0.010098097463382402, 0.27769768024301605, 0.00865551211147063, 0.11107907209720641, 0.003606463379779429, 0.0007212926759558858, 0.9963976869280697, 0.9887568374316205, 0.9912092593073265, 0.9820999873892541, 0.991765989285681, 0.019953047928993897, 0.9677228245562041, 0.005929487921414709, 0.017788463764244127, 0.21939105309234425, 0.7471154780982533, 0.9948074140133404, 0.9906157155928298, 0.9829866113611961, 0.18693246591653173, 0.1411287510034003, 0.14302262589261094, 0.23259589380083273, 0.08760924950459592, 0.14239133426287406, 0.024059225444416653, 0.013958559368626573, 0.023287646785849356, 0.004980189523479832, 0.30639625955826477, 0.18343460276185589, 0.09171730138092794, 0.11489859733434929, 0.07861482975508109, 0.028220708117208598, 0.031244355415480946, 0.11691436219986419, 0.041323179743055445, 0.006047294596544699, 0.988430481678465, 0.12898733821516312, 0.014657652069904901, 0.6244159781779488, 0.12019274697322019, 0.01172612165592392, 0.04690448662369568, 0.01172612165592392, 0.038109895381752745, 0.9806474424778393, 0.014863598382734461, 0.9809974932604744, 0.98513317392929, 0.2798263307147733, 0.09763920701353689, 0.10636673389742844, 0.12327631723496835, 0.05236516130334939, 0.3016451479245022, 0.016909583337539908, 0.004363763441945783, 0.004363763441945783, 0.012545819895594125, 0.9884506401958733, 0.9913432195876543, 0.9862737758150166, 0.016566184846993667, 0.9774049059726265, 0.013042668654700277, 0.9782001491025207, 0.9853171713262364, 0.18918376457832706, 0.2972887729087996, 0.09121360077883625, 0.09661885119535989, 0.19256204608865432, 0.006756563020654537, 0.08513269406024718, 0.027701908384683605, 0.002702625208261815, 0.010134844530981806, 0.9929684063007252, 0.14677655847612725, 0.2446275974602121, 0.010484039891151946, 0.4927498748841415, 0.06989359927434631, 0.03145211967345584, 0.24945249990127877, 0.21229999991598192, 0.08150803568202877, 0.12813821423500338, 0.05762428569148081, 0.16036232136510778, 0.01326874999474887, 0.009856785710384874, 0.072030357114351, 0.015543392850991534, 0.24933710471951118, 0.2689334761964662, 0.09769681925420115, 0.1208561673633298, 0.06805285367451648, 0.03798133089897098, 0.036841178376675415, 0.09734052159098379, 0.011401525222955641, 0.011544044288242588, 0.004892447696727429, 0.09295650623782115, 0.7852378553247523, 0.03913958157381943, 0.04892447696727428, 0.02690846233200086, 0.9749429983382067, 0.2613081772557104, 0.36480049025076416, 0.09001055574665594, 0.07573575395423474, 0.04956528400146252, 0.007533923168222303, 0.09635491209884314, 0.039652227201170016, 0.014274801792421205, 0.10185316429115603, 0.020370632858231204, 0.7624436869795108, 0.0029100904083187436, 0.09021280265788105, 0.020370632858231204, 0.9843996970961431, 0.1672696095468712, 0.2444983441674479, 0.25054852153403684, 0.07971998412446626, 0.08434659034597547, 0.051960346795411054, 0.02384481668008589, 0.08327891198716565, 0.007473748511668713, 0.006761962939128835, 0.9919234703363696, 0.9765889940369122, 0.18171519728804067, 0.05512348136427336, 0.04550892066120243, 0.4977137590623054, 0.061212703142884954, 0.06730192492149654, 0.021152033546756058, 0.03044610889305796, 0.03941969888259084, 0.9798938791360791, 0.02327849192942956, 0.001369323054672327, 0.002738646109344654, 0.9229237388491485, 0.024647814984101887, 0.01780119971074025, 0.001369323054672327, 0.006846615273361635, 0.9960247961090852, 0.980356047376434, 0.9769724358014669, 0.9723064670132907, 0.01287274275445274, 0.9783284493384082, 0.991007902621271, 0.035277066270537505, 0.29701013860033193, 0.02844924699236896, 0.007965789157863308, 0.5268800542986731, 0.007396804218015929, 0.03982894578931654, 0.0005689849398473792, 0.05519153916519578, 0.0017069548195421376, 0.9808559596523972, 0.3658736073922446, 0.027650367090372063, 0.13232675678963773, 0.23799065959927382, 0.05826327351185542, 0.153558288662602, 0.0039500524414817235, 0.017775235986667755, 0.0004937565551852154, 0.0019750262207408617, 0.9230271595285962, 0.07046008851363329, 0.986918691279206, 0.9774757637503071, 0.01206760202160873, 0.9166576242059574, 0.07142786682124344, 0.9367520339247574, 0.002787952481918921, 0.04460723971070273, 0.008363857445756762, 0.008363857445756762, 0.9942773345102149, 0.0037042896608042264, 0.9927496290955327, 0.9817493978212639, 0.0018643697850426082, 0.9937090954277101, 0.0018643697850426082, 0.007590861813753543, 0.9640394503467, 0.015181723627507086, 0.992367068218327, 0.006037169700652883, 0.006037169700652883, 0.98405866120642, 0.6316376987727613, 0.0346102848642609, 0.002163142804016306, 0.23794570844179366, 0.08868885496466855, 0.002163142804016306, 0.9867442004483749, 0.9791805523284666, 0.9803629281416552, 0.1460374684120114, 0.32763846540104113, 0.06658703222931091, 0.10971726901420546, 0.19219438848005646, 0.09912387752317872, 0.0022700124623628716, 0.04918360335119555, 0.0037833541039381195, 0.0037833541039381195, 0.2889997883216299, 0.2721308579460282, 0.10471468101081084, 0.03978521315000412, 0.0617466508088064, 0.12954065401641343, 0.021006592543202175, 0.00954845115600099, 0.0598369605776062, 0.012412986502801286, 0.982191462946984, 0.9905480034776354, 0.9948149635577103, 0.9734337377119425, 0.9931056478125354, 0.02486276879208226, 0.008287589597360754, 0.9613603932938475, 0.039558914402296204, 0.0028256367430211575, 0.7996551982749875, 0.005651273486042315, 0.025430730687190414, 0.1186767432068886, 0.008476910229063472, 0.013914579230952342, 0.974020546166664, 0.04215171636071254, 0.259935584224394, 0.6955033199517568, 0.9841620985946596, 0.9751239975614859, 0.9767163454357126, 0.01356550479771823, 0.9691746839216406, 0.9903062173553353, 0.41961754090563547, 0.5716528818134744, 0.9860454394593104, 0.9871878585788516, 0.981086654953679, 0.9900999164539983, 0.9766351619031256, 0.986745130717577, 0.9855928643903599, 0.01137106511185566, 0.01137106511185566, 0.03411319533556698, 0.9437984042840197, 0.989489291732967, 0.9897926262838667, 0.008459766036614245, 0.9857734554733967, 0.19282301216716424, 0.5499026643285796, 0.026780973912106147, 0.14640265738618027, 0.0035707965216141527, 0.04820575304179106, 0.03392256695533445, 0.9862730432902447, 0.010138879371781881, 0.020277758743563763, 0.6463535599510949, 0.030416638115345642, 0.0025347198429454703, 0.030416638115345642, 0.2205206263362559, 0.03802079764418205, 0.9833656243579934, 0.017644987490261117, 0.9704743119643615, 0.9728676083546183, 0.020699310816055708, 0.9958359050814524, 0.9636161050260221, 0.008307035388155363, 0.016614070776310726, 0.9891403868349038, 0.020339082432297546, 0.9762759567502821, 0.9618495036264494, 0.03476564470938974, 0.988667719390839, 0.982394037278864, 0.9818982420525869, 0.9807257531203181, 0.9847401285572962, 0.09183069590858636, 0.9051882882417798, 0.9833576202200714, 0.9908486329452459, 0.9789206709890393, 0.013141564703761367, 0.9724757880783411, 0.03423323544337088, 0.9585305924143847, 0.00328406969310114, 0.016420348465505698, 0.00328406969310114, 0.009852209079303419, 0.962232420078634, 0.00328406969310114, 0.00328406969310114, 0.00328406969310114, 0.9806738530575219, 0.9917256549976299, 0.11259856784170046, 0.8847030330419321, 0.9757040925646401, 0.9879622049498662, 0.9768653632649614, 0.9809380550689042, 0.9861205596430307, 0.0128624420823004, 0.00882876913198637, 0.8961200668966165, 0.011035961414982962, 0.013243153697979555, 0.004414384565993185, 0.061801383923904586, 0.03871129481424655, 0.9187480635914516, 0.02580752987616437, 0.015484517925698622, 0.006252538223848266, 0.9253756571295433, 0.04376776756693786, 0.018757614671544798, 0.01069650629150083, 0.037437772020252905, 0.22462663212151743, 0.04011189859312811, 0.5187805551377902, 0.16579584751826285, 0.004498231675779443, 0.026989390054676658, 0.3328691440076788, 0.06072612762302248, 0.5712754228239892, 0.07335421280707095, 0.9116880734593105, 0.9876696551924795, 0.10171682220187638, 0.881545792416262, 0.1241116842164073, 0.8687817895148511, 0.9827794922686065, 0.9836619812745483, 0.9905191111340365, 0.04977330861361664, 0.933249536505312, 0.00622166357670208, 0.9901941909933747, 0.9774022549658764, 0.9660534432041734, 0.9792908173568198, 0.01688432443718655, 0.9885149252765351, 0.259666706731404, 0.18547621909386003, 0.550246116645118, 0.012918272990983531, 0.16793754888278592, 0.8138511984319625, 0.018003629551587585, 0.9721959957857296, 0.98618167491881, 0.01490894531169854, 0.9839903905721037, 0.9856614874877054, 0.9707843749828408, 0.0059370696940083826, 0.9855535692053915, 0.11525931018167691, 0.05762965509083846, 0.18935458101275493, 0.01783775038525952, 0.00823280787011978, 0.4775028564669472, 0.009604942515139743, 0.00411640393505989, 0.12211998340677672, 0.9409211158723977, 0.015813800266762986, 0.03953450066690747, 0.9104319519415887, 0.004988668229816924, 0.057369684642894624, 0.007483002344725386, 0.019954672919267696, 0.10194376906999915, 0.223645369604705, 0.2367619131821153, 0.06890336183069976, 0.1374746592670347, 0.06541668568986916, 0.05230014211245885, 0.024572765182996538, 0.0881630967038592, 0.0006641287887296362, 0.5931358633990953, 0.012166889505622468, 0.014194704423226213, 0.27781064371171305, 0.06286226244571609, 0.016222519340829956, 0.0010139074588018722, 0.0010139074588018722, 0.02129205663483932, 0.9752354888647174, 0.04415784190157483, 0.039251415023622074, 0.768673544212599, 0.001635475625984253, 0.13901542820866153, 0.004906426877952759, 0.001635475625984253, 0.9877089107564135, 0.9832995931903272, 0.988032723499299, 0.9932638595683972, 0.36372797428805803, 0.23101222578397548, 0.0455822781077106, 0.044341944009541605, 0.0601562037611963, 0.10790906654070263, 0.029147851306971402, 0.048683113353133085, 0.022015930242499676, 0.04744277925496409, 0.9704877343565238, 0.9829713667318096, 0.031573968874806985, 0.9472190662442096, 0.010524656291602328, 0.09909671918058596, 0.8918704726252737, 0.009022781709421335, 0.8797212166685802, 0.054136690256528015, 0.04060251769239601, 0.009022781709421335, 0.26906429254220643, 0.16381805566345223, 0.21323802776304115, 0.028370724723838094, 0.205001365746443, 0.059487003453208905, 0.0146429546961745, 0.04118331008299078, 0.0027455540055327187, 0.0018303693370218125, 0.03015256655435686, 0.9045769966307058, 0.06030513310871372, 0.20468133493267615, 0.11884722673510228, 0.077345020573638, 0.06791270099148702, 0.08583410819757388, 0.31786916991848785, 0.11035813911116642, 0.006602623707505683, 0.006602623707505683, 0.004716159791075487, 0.9762171194347004, 0.2329398519677395, 0.04787773803028203, 0.27124204239196514, 0.09360586333267384, 0.19092469410443078, 0.10396308829432668, 0.007425934878166192, 0.029703739512664768, 0.013874773061836832, 0.008598450911560853, 0.44628635438049646, 0.10037752623332004, 0.10332980641665299, 0.18304137136664242, 0.04649841288749384, 0.06593425742776904, 0.03591940889721747, 0.014269354219442554, 0.0014761400916664712, 0.0029522801833329424, 0.013303405772863191, 0.17048068138558015, 0.11726705829412738, 0.05025731069748316, 0.4616774521915855, 0.17639330617351934, 0.006898062252595728, 0.003941749858626131, 0.9922313944377735, 0.1187432130832642, 0.6738677342475243, 0.0593716065416321, 0.002968580327081605, 0.112806052429101, 0.020780062289571233, 0.01187432130832642, 0.021663668999081783, 0.03369904066523833, 0.2070083926578926, 0.0024070743332313092, 0.4741936436465679, 0.1877517979920421, 0.07461930433017058, 0.9807969727484915, 0.014425642465583486, 0.04121612133023853, 0.4121612133023853, 0.09067546692652477, 0.04739853952977431, 0.11952675185769174, 0.01854725459860734, 0.00618241819953578, 0.24729672798143118, 0.010992672612310617, 0.08117665929090917, 0.3555706794982011, 0.056654543463447025, 0.14459592436193194, 0.24902631417888282, 0.01860298442083335, 0.006341926507102279, 0.07652591318570083, 0.7330312188098317, 0.0037399551980093456, 0.0037399551980093456, 0.25805690866264486, 0.9817247956945484, 0.010712219916580024, 0.9748120124087821, 0.010712219916580024, 0.9745916388489456, 0.987081943281561, 0.9550661721393211, 0.04064111370805622, 0.9845639231251867, 0.010912170171815902, 0.010912170171815902, 0.9602709751197994, 0.06983856605349334, 0.006983856605349333, 0.7356328957634631, 0.004655904403566223, 0.17692436733551645, 0.0023279522017831114, 0.9735413285669448, 0.9860112324401099, 0.02930533455753674, 0.9670760403987124, 0.9791181214065077, 0.3136891575763168, 0.12980241003157938, 0.10373375935023718, 0.21887931391575072, 0.022823590430552706, 0.16890538605359268, 0.011465879552789512, 0.009681096414855294, 0.016657975954052686, 0.004380831338565804, 0.009139976678733184, 0.9871174813031839, 0.02035237328224171, 0.9565615442653603, 0.020682656692776597, 0.9514022078677234, 0.9843185131390838, 0.006190358165568654, 0.9780765901598474, 0.006190358165568654, 0.9915078410251306, 0.978576871776342, 0.10653234973582475, 0.6157569814730671, 0.13423076066713918, 0.002130646994716495, 0.1278388196829897, 0.00426129398943299, 0.0063919409841494855, 0.987077752412426, 0.9841879721972653, 0.9912383246774831, 0.10572909758591661, 0.2307963203764144, 0.2593831141570996, 0.014923987929622424, 0.2396245949263319, 0.028376596767591935, 0.05233905626022512, 0.027746005728312113, 0.028586793780685207, 0.012401623772503142, 0.14727697740284806, 0.25555537823484853, 0.03486931552216963, 0.0431278376195256, 0.41017326416867966, 0.024775566292067897, 0.03899857657084762, 0.015599430628339047, 0.025234373075254342, 0.004129261048677983, 0.1894090344953613, 0.1509860589263023, 0.054116866998674656, 0.012446879409695171, 0.3355245753917829, 0.026517264829350583, 0.021646746799469863, 0.17209163705578542, 0.02868193950929757, 0.008658698719787946, 0.9821363458636495, 0.9819527640394485, 0.9514105026666991, 0.009327553947712737, 0.018655107895425474, 0.007131939665424971, 0.007131939665424971, 0.007131939665424971, 0.9770757341632209, 0.06283968496469453, 0.0004833821920361117, 0.0014501465761083351, 0.9053748456836371, 0.028036167138094478, 0.0004833821920361117, 0.0004833821920361117, 0.0009667643840722234, 0.0004833821920361117, 0.12108083185477783, 0.0023284775356688047, 0.8056532273414064, 0.06519737099872652, 0.004656955071337609, 0.8594209403201888, 0.00449958607497481, 0.1304879961742695, 0.984958568474093, 0.979995835075023, 0.17511252390306223, 0.060194930091677645, 0.1594774771260031, 0.039869369281500776, 0.029706588876412345, 0.3697688562774484, 0.04455988331461851, 0.014853294438206172, 0.10553656574514911, 0.030664378745291487, 0.968994368351211, 0.9697141293154671, 0.012088626875006375, 0.9842157047401023, 0.0020147711458343956, 0.0010073855729171978, 0.9900995577578721, 0.9722967189836569, 0.014013671601111681, 0.07006835800555841, 0.9108886540722594, 0.9878955722339737, 0.9823481895160936, 0.968635329928714, 0.9861796612422011, 0.013160090922599529, 0.8203123341753706, 0.048253666716198275, 0.004386696974199843, 0.017546787896799372, 0.07018715158719749, 0.026320181845199058, 0.9754792952528161, 0.017523580154242206, 0.9812419472637585, 0.011822192135707933, 0.9793893615066329, 0.990390310970531, 0.00850353722514237, 0.9906620867290862, 0.08201839398592417, 0.9022023338451658, 0.31468424802177114, 0.03287745874854325, 0.04696779821220465, 0.36869721596580646, 0.1283786484466927, 0.09080440987692898, 0.0015655932737401548, 0.0015655932737401548, 0.014090339463661394, 0.06097573033262794, 0.9146359549894191, 0.1259191484111999, 0.15739893551399986, 0.01666576964265881, 0.07036658293567052, 0.01666576964265881, 0.611078220230823, 0.004968488910619864, 0.28817235681595216, 0.08694855593584763, 0.2658141567181627, 0.35027846819870045, 0.8377464308381284, 0.15747113361618956, 0.12889128310422288, 0.861536471275595, 0.9813716762939402, 0.982514162704906, 0.9913412804318023, 0.020257558552400398, 0.962234031239019, 0.010128779276200199, 0.9813006800426711, 0.9881178334072225, 0.035709300191407806, 0.8534522745746466, 0.10712790057422342, 0.14646372962017917, 0.006892410805655491, 0.7685038048305872, 0.0017231027014138727, 0.07409341616079652, 0.0017231027014138727, 0.9848593826769892, 0.07140295396786815, 0.2668215648272968, 0.29218840373693417, 0.008455612969879123, 0.24051521336545062, 0.04697562761043957, 0.04321757740160441, 0.017850738491967038, 0.01315317573092308, 0.01272701382426074, 0.14733966004240318, 0.019580021268093446, 0.017132518609581766, 0.6534832098226188, 0.02545402764852148, 0.12286463345728638, 0.0004895005317023362, 0.0004895005317023362, 0.0013621758851069328, 0.0013621758851069328, 0.9480744160344252, 0.04767615597874265, 0.9842295565876857, 0.39238297953317125, 0.12769577403516227, 0.20307027626307209, 0.10087116260098716, 0.02836503466504852, 0.07218741968127518, 0.01651971120005635, 0.02868374291971199, 0.016679065327388082, 0.013545100823197327, 0.984532515519674, 0.049249728729518466, 0.05909967447542216, 0.18714896917217017, 0.7042711208321141, 0.9799658392360107, 0.004557980647609352, 0.013673941942828055, 0.2961292652509504, 0.12698781659337907, 0.054799721683449897, 0.31193687727502245, 0.07745729891795322, 0.10749176176369017, 0.015280691623269681, 0.00737688561123364, 0.0021076816032096113, 0.2597485563231142, 0.3301237809426772, 0.24695306093773914, 0.0012795495385375085, 0.024311441232212662, 0.1369118006235134, 0.25716238087333204, 0.1665687478995401, 0.14700875896201687, 0.06032712377572961, 0.18304031753113864, 0.07865174499088297, 0.056003336747435, 0.0059709439914544665, 0.018736410455943327, 0.026560406030952628, 0.20824691266904843, 0.13637408440273968, 0.0967518842046464, 0.4515087929550165, 0.0027643395487041826, 0.05252245142537947, 0.01935037684092928, 0.032250628068215464, 0.9751734261988748, 0.008126445218323956, 0.008126445218323956, 0.008126445218323956, 0.0053338452514859105, 0.05867229776634502, 0.5787222097862214, 0.0026669226257429552, 0.12267844078417595, 0.18668458380200686, 0.0053338452514859105, 0.03733691676040137, 0.09898393713471926, 0.25888106635234265, 0.06852734109326718, 0.5634470267668634, 0.014667982491514171, 0.9680868444399352, 0.004077272240411144, 0.002038636120205572, 0.002038636120205572, 0.990777154419908, 0.9740651023955333, 0.9757324177566747, 0.020327758703264056, 0.9450488898266568, 0.007500388014497276, 0.030001552057989104, 0.007500388014497276, 0.011409373500241628, 0.9697967475205383, 0.009441333816897091, 0.9913400507741946, 0.22207492201835816, 0.03636959020648049, 0.018184795103240246, 0.6904711595260615, 0.0016531631912036588, 0.015429523117900815, 0.0033063263824073177, 0.0011021087941357726, 0.011572142338425611, 0.011055220680208623, 0.9839146405385675, 0.16551282473425277, 0.2800986264733508, 0.15023471783570636, 0.01018540459903094, 0.07129783219321657, 0.03564891609660829, 0.28773767992262406, 0.97819435794993, 0.993445363461838, 0.1011772372658857, 0.002734519926105019, 0.0036460265681400256, 0.849524190376626, 0.03372574575529524, 0.008203559778315057, 0.9901962178845256, 0.9783555003503095, 0.004790010035430106, 0.20118042148806445, 0.4215208831178493, 0.0015966700118100353, 0.004790010035430106, 0.362444092680878, 0.0015966700118100353, 0.04219568671490527, 0.6927125235696948, 0.03164676503617895, 0.0035163072262421055, 0.22855996970573686, 0.3983709195312552, 0.5923146566714715, 0.013993189916329932, 0.8675777748124558, 0.11194551933063945, 0.9858779593805773, 0.004867493347152027, 0.1654947738031689, 0.01946997338860811, 0.6911840552955878, 0.0024337466735760136, 0.11438609365807263, 0.989517948693098, 0.9834878378255532, 0.38588136541126267, 0.0030265205130295112, 0.5856317192712104, 0.016645862821662312, 0.0015132602565147556, 0.0060530410260590225, 0.9818856724079693, 0.9890691275698902, 0.04598531932743733, 0.9426990462124653, 0.9937270206562385, 0.9839160543642101, 0.9866572035289461, 0.7314188806812773, 0.0247472553613966, 0.046744815682638025, 0.02199756032124142, 0.16498170240931068, 0.008249085120465533, 0.9744432511552304, 0.9261655940845804, 0.008905438404659427, 0.05343263042795657, 0.5658738109743128, 0.12039868318602401, 0.0195647860177289, 0.2573521853101263, 0.018059802477903602, 0.0135448518584277, 0.0060199341593012, 0.0063894682465610916, 0.9264728957513583, 0.012778936493122183, 0.04472627772592764, 0.988498131001377, 0.007488622204555886, 0.9902711566288696, 0.2224206201821779, 0.011010921791196926, 0.06386334638894217, 0.32592328501942897, 0.024224027940633237, 0.08588518997133601, 0.052852424597745244, 0.002202184358239385, 0.21361188274922036, 0.9791526700939405, 0.012051385419352457, 0.976162218967549, 0.9924258227399179, 0.9866839765233305, 0.08607761993436784, 0.8952072473174256, 0.013469244268650394, 0.9697855873428284, 0.013469244268650394, 0.9844822882108335, 0.9907145985499803, 0.018707795622383193, 0.037415591244766386, 0.9353897811191597, 0.9725467024630459, 0.9869245875459504, 0.9946198362653, 0.012282850276346076, 0.9457794712786478, 0.03684855082903823, 0.1003339193163522, 0.8852992880854605, 0.005901995253903071, 0.1283546064787019, 0.17668245426218074, 0.04702871209037458, 0.15407749320216646, 0.4224789273975087, 0.04157234217933665, 0.014290492624146972, 0.0036375799406919568, 0.008054641297246475, 0.0036375799406919568, 0.9909587507677458, 0.006003674442413823, 0.048029395539310585, 0.9365732130165564, 0.006003674442413823, 0.22480036590192368, 0.10359775898492267, 0.019636176539625863, 0.5718190030246222, 0.0071096501264162615, 0.04739766750944174, 0.02200605991509795, 0.00033855476792458386, 0.0016927738396229194, 0.0013542190716983355, 0.2816870627134482, 0.13147411188878752, 0.07314191971744041, 0.11333975162826511, 0.3342767074689632, 0.02992169442986199, 0.010276137480962703, 0.007858222779559713, 0.0160186848967948, 0.0015111966883768681, 0.0937410470699129, 0.028122314120973872, 0.056244628241947744, 0.07967989000942596, 0.712431957731338, 0.004687052353495645, 0.00937410470699129, 0.00937410470699129, 0.016923693228651573, 0.9759329761855741, 0.9781844123502862, 0.9935690250033671, 0.9938717954689678, 0.9871759161205871, 0.9808706322670973, 0.9889749925497777, 0.9844428592472259, 0.9870029895376823, 0.9868980601824472, 0.009725194802662268, 0.10373541122839754, 0.8752675322396042, 0.006483463201774846, 0.003241731600887423, 0.019974658946668968, 0.9587836294401104, 0.9716511458846454, 0.3754689796211856, 0.005758726681306527, 0.06680122950315572, 0.04952504945923614, 0.002303490672522611, 0.456091153159477, 0.002303490672522611, 0.017276180043919582, 0.005758726681306527, 0.0207314160527035, 0.29950537875098954, 0.6747099191643171, 0.001645633949181261, 0.01481070554263135, 0.004936901847543783, 0.9890502436628676, 0.6948251299653385, 0.003040810196784851, 0.003040810196784851, 0.2584688667267124, 0.0015204050983924256, 0.03192850706624094, 0.004561215295177277, 0.0015204050983924256, 0.9849592588569039, 0.9854455930346108, 0.961234302621485, 0.9816900686223604, 0.9745580737478395, 0.9718600897342358, 0.012787632759660996, 0.9834550357030348, 0.9926135447883495, 0.011256907497630808, 0.011256907497630808, 0.022513814995261616, 0.9455802298009879, 0.0036921133229959996, 0.9894863705629279, 0.007384226645991999, 0.21042300993887894, 0.002663582404289607, 0.7671117324354068, 0.005327164808579214, 0.005327164808579214, 0.002663582404289607, 0.007990747212868821, 0.9865298389575536, 0.013353943194692745, 0.06409892733452517, 0.09347760236284922, 0.7945596200842183, 0.002670788638938549, 0.029378675028324037, 0.0013353943194692745, 0.9825490390504037, 0.9886038299639334, 0.9784251559961884, 0.9907515022727301, 0.9867743188765753, 0.16899659686215215, 0.21576850095454936, 0.09089634191541343, 0.09376443037390948, 0.3004874215747405, 0.060891724195762394, 0.03485830588018282, 0.004853688160531785, 0.006618665673452435, 0.022724085478853358, 0.31148038456844307, 0.2128967356672643, 0.1347586763588008, 0.09134864340965437, 0.08446199003438856, 0.1138039567500153, 0.021142293825232417, 0.005948782293031174, 0.011870768269427073, 0.012326305652226756, 0.2513686971740844, 0.34582238944555854, 0.1371101984585915, 0.07160199252837555, 0.025898593042178394, 0.012187573196319244, 0.12187573196319244, 0.029707209666028158, 0.003808616623849764, 0.2477618521372611, 0.2716325953664324, 0.028809517690379195, 0.22718362521556165, 0.10206800553162915, 0.009877548922415724, 0.09959861830102522, 0.0016462581537359541, 0.009054419845547747, 0.0032925163074719083, 0.11080937597012956, 0.16225658624197545, 0.17610775823824162, 0.003957477713218913, 0.025723605135922936, 0.15829910852875653, 0.05639405741336951, 0.02275549685100875, 0.2829596564951523, 0.733221997038204, 0.2618649989422157, 0.007326053148497826, 0.9816911218987087, 0.1994784771200993, 0.7979139084803972, 0.14436784491784435, 0.3179315914914657, 0.16978253638041033, 0.020145792013009624, 0.2152190457512905, 0.03105551322620868, 0.058205842154510884, 0.021509507164659505, 0.019339960332489237, 0.0024174950415611547, 0.9851622014360987, 0.01980548088243555, 0.8041025238268833, 0.01188328852946133, 0.0039610961764871095, 0.0039610961764871095, 0.1544827508829973, 0.9860832007341813, 0.9734499180753853, 0.4779169157996664, 0.09471246395118674, 0.02612757626239634, 0.33094929932368694, 0.006531894065599085, 0.03919136439359451, 0.01524108615306453, 0.0032659470327995425, 0.005443245054665904, 0.029899871479835183, 0.30896533862496356, 0.004983311913305864, 0.1893658527056228, 0.46344800793744534, 0.29077538465222813, 0.07294713482564609, 0.031914371486220165, 0.41691313862157453, 0.04204591798978212, 0.1160062074657844, 0.024315711608548694, 0.0005065773251780978, 0.002532886625890489, 0.002026309300712391, 0.9771552213638669, 0.012137669578975161, 0.9710135663180129, 0.012137669578975161, 0.9821726222158664, 0.9798079972383086, 0.992467627987267, 0.9878379777775875, 0.024229303873940653, 0.9691721549576261, 0.01298906825115368, 0.9806746529621029, 0.9847538603530221, 0.9739729763953094, 0.9958115569876701, 0.9749176583732492, 0.9733120711194934, 0.2528968715995574, 0.09414409088742648, 0.5390210693946771, 0.001845962566420127, 0.02584347592988178, 0.02399751336346165, 0.06276272725828431, 0.12986263442423138, 0.08350368954108003, 0.06709089538990223, 0.2706671316159146, 0.016988681665254215, 0.35157932734365077, 0.018428400450445248, 0.010078031496337245, 0.023611388077132974, 0.02793054443270608, 0.1205120527474507, 0.11942635857855474, 0.16176843116549688, 0.021713883377919043, 0.09445539269394784, 0.28119478974405165, 0.0477705434314219, 0.0065141650133757134, 0.14656871280095354, 0.9822220580980248, 0.1819685520173754, 0.02474133821288876, 0.010774453737870912, 0.6584388395365557, 0.005187699947863772, 0.03591484579290304, 0.07861360690224332, 0.0019952692107168355, 0.0015962153685734684, 0.0011971615264301013, 0.22090387471945963, 0.379568959339389, 0.12009456681176972, 0.049966352615115874, 0.036817312453243274, 0.10080930790768991, 0.05347276332494856, 0.03944712048561779, 0.13394927096047698, 0.09314863095527422, 0.19091620228849593, 0.10315633510749377, 0.04003081660887818, 0.32332582645632374, 0.07390304604715972, 0.02617399547503573, 0.015396467926491608, 0.9638397115132948, 0.9701641002202296, 0.9820778375543179, 0.03319163510761306, 0.3721888683400344, 0.050893840498340025, 0.0017702205390726965, 0.45760200935029205, 0.011506433503972527, 0.02035753619933601, 0.0022127756738408704, 0.047795954554962806, 0.0022127756738408704, 0.27471841632616734, 0.15636573255071348, 0.13371966093992052, 0.014827784983257314, 0.27202245542012055, 0.06524225392633218, 0.032351530872561415, 0.014018996711443278, 0.016984553708094742, 0.019950110704746206, 0.04694417815320808, 0.006706311164744011, 0.9321772518994176, 0.006706311164744011, 0.29718802872056505, 0.7016939567013342, 0.13926231370202571, 0.853738531825462, 0.006434442014818344, 0.23807435454827872, 0.0012868884029636686, 0.006434442014818344, 0.6691819695411078, 0.03217221007409172, 0.0205902144474187, 0.006434442014818344, 0.019303326044455033, 0.002112255963915713, 0.9948725590043007, 0.9869204995062013, 0.9895171921400269, 0.21709594578293104, 0.1709630573040582, 0.16372652577796049, 0.006331965085335489, 0.009045664407622127, 0.17729502238939368, 0.06060595153106825, 0.045228322038110634, 0.15106259560728952], \"Term\": [\"\\\"\", \"\\\"\", \"\\\"\", \"\\\"\", \"\\\"\", \"\\\"\", \"\\\"\", \"\\\"\", \"\\\"\", \"\\\"\", \"$\", \"$\", \"$\", \"$\", \"$\", \"$\", \"$\", \"%\", \"%\", \"'s\", \"'s\", \"'s\", \"'s\", \"'s\", \"'s\", \"'s\", \"'s\", \"'s\", \"'s\", \"(\", \"(\", \"(\", \")\", \")\", \")\", \",\", \",\", \",\", \",\", \",\", \",\", \",\", \",\", \",\", \",\", \"-\", \"-\", \"-\", \"-\", \"-\", \"-\", \"-\", \"-\", \".\", \".\", \".\", \".\", \".\", \".\", \".\", \".\", \".\", \".\", \"160\", \"17th\", \"1989\", \"1994\", \"1996\", \"2\", \"2\", \"2009\", \"2009\", \"2009\", \"2009\", \"2010\", \"2010\", \"2011\", \"22\", \"24\", \"41\", \"7\", \"7\", \";\", \";\", \";\", \";\", \";\", \"Abbas\", \"Abdul\", \"Abdul\", \"Abdullah\", \"Abdullah\", \"About\", \"Afghanistan\", \"Afghanistan\", \"Afghanistan\", \"Afghanistan\", \"Afghanistan\", \"Afghanistan\", \"Afghanistan\", \"Ahmadinejad\", \"Ahmadinejad\", \"Ahmed\", \"Another\", \"Another\", \"Ariel\", \"As\", \"Assembly\", \"Associated\", \"At\", \"At\", \"At\", \"At\", \"At\", \"At\", \"At\", \"Authority\", \"Baghdad\", \"Baghdad\", \"Baghdad\", \"Baghdad\", \"Baghdad\", \"Baghdad\", \"Beijing\", \"Beijing\", \"Beijing\", \"Beijing\", \"Beirut\", \"Blair\", \"Bush\", \"Bush\", \"Bush\", \"Bush\", \"Bush\", \"Bush\", \"Bush\", \"Canadian\", \"Catholic\", \"Center\", \"Center\", \"Chavez\", \"Church\", \"Cleveland\", \"Condoleezza\", \"Council\", \"Council\", \"Council\", \"Council\", \"Council\", \"Council\", \"Council\", \"Court\", \"Court\", \"Cyprus\", \"Day\", \"Deputy\", \"Director\", \"Donald\", \"Donald\", \"EU\", \"EU\", \"EU\", \"Embassy\", \"Erdogan\", \"European\", \"European\", \"European\", \"European\", \"European\", \"European\", \"FIFA\", \"Five\", \"For\", \"Foreign\", \"Foreign\", \"Foreign\", \"Foreign\", \"Foreign\", \"Foreign\", \"Foreign\", \"Former\", \"Former\", \"Former\", \"Fox\", \"Fund\", \"GDP\", \"Gaza\", \"Gaza\", \"Gaza\", \"Gaza\", \"Gaza\", \"Ghazni\", \"Group\", \"Guatemala\", \"Hamid\", \"Hassan\", \"Health\", \"Health\", \"Health\", \"Health\", \"Helmand\", \"Hong\", \"Hu\", \"Hugo\", \"Hurricane\", \"Hurricane\", \"Hurricane\", \"Hussein\", \"Hussein\", \"Hussein\", \"Hussein\", \"Hussein\", \"IMF\", \"IMF\", \"Ibrahim\", \"Indian\", \"Indian\", \"Indian\", \"Interior\", \"Interior\", \"Iran\", \"Iran\", \"Iran\", \"Iran\", \"Iran\", \"Iran\", \"Iran\", \"Iranian\", \"Iranian\", \"Iranian\", \"Iranian\", \"Iranians\", \"Iraqi\", \"Iraqi\", \"Iraqi\", \"Iraqi\", \"Iraqi\", \"Iraqi\", \"Iraqi\", \"Iraqi\", \"Islam\", \"Israel\", \"Israel\", \"Israel\", \"Israel\", \"Israel\", \"Israel\", \"Israel\", \"Israel\", \"Israel\", \"Israeli\", \"Israeli\", \"Israeli\", \"Israeli\", \"Israeli\", \"It\", \"It\", \"It\", \"It\", \"It\", \"It\", \"It\", \"It\", \"It\", \"Italy\", \"Italy\", \"Jerusalem\", \"Justice\", \"Justice\", \"Kandahar\", \"Kandahar\", \"Karzai\", \"Kashmir\", \"Kashmir\", \"Katrina\", \"Katrina\", \"Khin\", \"Kosovo\", \"Kuwait\", \"Last\", \"Last\", \"Last\", \"Last\", \"Liberation\", \"Mahmoud\", \"Man\", \"Manila\", \"Many\", \"Many\", \"Martin\", \"Middle\", \"Middle\", \"Minister\", \"Minister\", \"Minister\", \"Minister\", \"Minister\", \"Minister\", \"Minister\", \"Morales\", \"Morocco\", \"Morocco\", \"Movement\", \"Mr.\", \"Mr.\", \"Mr.\", \"Mr.\", \"Mr.\", \"Mr.\", \"Mr.\", \"Mr.\", \"Mr.\", \"Mullah\", \"Mumbai\", \"Musharraf\", \"Musharraf\", \"NATO\", \"NATO\", \"NATO\", \"NATO\", \"NATO\", \"NATO\", \"NATO\", \"Nepal\", \"Nepal\", \"Nepal\", \"New\", \"New\", \"New\", \"New\", \"New\", \"New\", \"New\", \"Nigerian\", \"Norway\", \"Ocean\", \"Ocean\", \"October\", \"October\", \"October\", \"October\", \"Olmert\", \"Omar\", \"One\", \"One\", \"One\", \"Opposition\", \"Orleans\", \"Orleans\", \"Pakistan\", \"Pakistan\", \"Pakistan\", \"Pakistan\", \"Pakistan\", \"Pakistan\", \"Pakistan\", \"Palestinian\", \"Palestinian\", \"Palestinian\", \"Palestinian\", \"Palestinian\", \"Palestinian\", \"Party\", \"Party\", \"Party\", \"Party\", \"Peace\", \"Philippine\", \"Philippines\", \"Police\", \"Police\", \"Police\", \"Police\", \"Police\", \"Powell\", \"President\", \"President\", \"President\", \"President\", \"President\", \"President\", \"President\", \"Press\", \"Prime\", \"Prime\", \"Prime\", \"Prime\", \"Prime\", \"Program\", \"Putin\", \"Pyongyang\", \"Revolutionary\", \"Rice\", \"Russian\", \"Russian\", \"Russian\", \"Russian\", \"Russian\", \"Saddam\", \"Saddam\", \"Secretary\", \"Secretary\", \"Secretary\", \"Secretary\", \"Secretary\", \"Sharon\", \"Since\", \"Smith\", \"So\", \"Somali\", \"Somali\", \"Somali\", \"Somalia\", \"Somalia\", \"Somalia\", \"Somalia\", \"South\", \"South\", \"South\", \"South\", \"South\", \"Spanish\", \"Spanish\", \"Spanish\", \"Speaking\", \"Speaking\", \"Speaking\", \"State\", \"State\", \"State\", \"States\", \"States\", \"States\", \"States\", \"States\", \"States\", \"States\", \"States\", \"Strip\", \"Strip\", \"Supreme\", \"Taiwan\", \"Taiwan\", \"Taleban\", \"Taleban\", \"Taleban\", \"Taleban\", \"Taleban\", \"Taliban\", \"Taliban\", \"Tehran\", \"Tehran\", \"Tehran\", \"Tehran\", \"Tehran\", \"That\", \"That\", \"The\", \"The\", \"The\", \"The\", \"The\", \"The\", \"The\", \"The\", \"The\", \"The\", \"There\", \"There\", \"They\", \"They\", \"They\", \"They\", \"They\", \"Tibet\", \"Tibetan\", \"Tibetan\", \"Tony\", \"U.S.\", \"U.S.\", \"U.S.\", \"U.S.\", \"U.S.\", \"U.S.\", \"U.S.\", \"U.S.\", \"U.S.\", \"Union\", \"Union\", \"Union\", \"Union\", \"Union\", \"Union\", \"Union\", \"United\", \"United\", \"United\", \"United\", \"United\", \"United\", \"United\", \"United\", \"United\", \"VOA\", \"Vatican\", \"Venezuelan\", \"Viktor\", \"Vladimir\", \"Witnesses\", \"Witnesses\", \"York\", \"York\", \"York\", \"York\", \"Yukos\", \"Yushchenko\", \"Zimbabwe\", \"a\", \"a\", \"a\", \"a\", \"a\", \"a\", \"a\", \"a\", \"a\", \"a\", \"about\", \"about\", \"about\", \"about\", \"about\", \"about\", \"about\", \"about\", \"about\", \"about\", \"accuse\", \"accused\", \"accused\", \"accused\", \"accused\", \"accused\", \"accused\", \"accused\", \"accused\", \"acting\", \"actions\", \"actions\", \"admitted\", \"after\", \"after\", \"after\", \"after\", \"after\", \"after\", \"after\", \"after\", \"after\", \"after\", \"again\", \"age\", \"agents\", \"agricultural\", \"agricultural\", \"airport\", \"airport\", \"allies\", \"also\", \"also\", \"also\", \"also\", \"also\", \"also\", \"also\", \"also\", \"also\", \"also\", \"amid\", \"among\", \"among\", \"among\", \"among\", \"among\", \"among\", \"an\", \"an\", \"an\", \"an\", \"an\", \"an\", \"an\", \"an\", \"an\", \"an\", \"and\", \"and\", \"and\", \"and\", \"and\", \"and\", \"and\", \"and\", \"and\", \"and\", \"any\", \"any\", \"any\", \"any\", \"any\", \"any\", \"appears\", \"are\", \"are\", \"are\", \"are\", \"are\", \"are\", \"are\", \"are\", \"are\", \"arrested\", \"arrested\", \"arrested\", \"arrested\", \"arrested\", \"arrested\", \"arrests\", \"as\", \"as\", \"as\", \"as\", \"as\", \"as\", \"as\", \"as\", \"as\", \"as\", \"assassination\", \"assets\", \"at\", \"at\", \"at\", \"at\", \"at\", \"at\", \"at\", \"at\", \"at\", \"atomic\", \"attack\", \"attack\", \"attack\", \"attack\", \"attack\", \"attack\", \"attack\", \"attack\", \"attacked\", \"available\", \"backed\", \"banking\", \"barrel\", \"barrel\", \"bases\", \"be\", \"be\", \"be\", \"be\", \"be\", \"be\", \"be\", \"be\", \"be\", \"be\", \"beat\", \"been\", \"been\", \"been\", \"been\", \"been\", \"been\", \"been\", \"been\", \"been\", \"been\", \"believed\", \"believed\", \"best\", \"better\", \"better\", \"bilateral\", \"bilateral\", \"bird\", \"bird\", \"bird\", \"bird\", \"bird\", \"black\", \"blast\", \"blast\", \"blasts\", \"bomb\", \"bomb\", \"bomb\", \"bomber\", \"bomber\", \"bomber\", \"bombers\", \"bombing\", \"bombing\", \"bombing\", \"border\", \"border\", \"border\", \"border\", \"border\", \"border\", \"brief\", \"brother\", \"buried\", \"but\", \"but\", \"but\", \"but\", \"but\", \"but\", \"but\", \"but\", \"but\", \"but\", \"by\", \"by\", \"by\", \"by\", \"by\", \"by\", \"by\", \"by\", \"by\", \"by\", \"cabinet\", \"captain\", \"car\", \"caught\", \"ceremony\", \"charge\", \"charge\", \"charge\", \"charges\", \"charges\", \"charges\", \"charges\", \"charges\", \"charges\", \"charges\", \"claim\", \"claim\", \"clear\", \"clear\", \"clear\", \"coming\", \"commanders\", \"comment\", \"comment\", \"commitment\", \"community\", \"companies\", \"companies\", \"compound\", \"condemned\", \"confidence\", \"connection\", \"consider\", \"considering\", \"constitutional\", \"continues\", \"continues\", \"continues\", \"continues\", \"continuing\", \"convoy\", \"convoy\", \"cooperation\", \"countries\", \"countries\", \"countries\", \"countries\", \"countries\", \"countries\", \"countries\", \"coup\", \"court\", \"court\", \"court\", \"court\", \"court\", \"court\", \"court\", \"court\", \"crew\", \"crime\", \"crime\", \"crossing\", \"crossing\", \"crude\", \"custody\", \"custody\", \"custody\", \"cuts\", \"daily\", \"daily\", \"date\", \"date\", \"de\", \"decade\", \"deficit\", \"delayed\", \"delegation\", \"demanding\", \"demanding\", \"denies\", \"described\", \"destruction\", \"develop\", \"develop\", \"dictator\", \"dictator\", \"did\", \"did\", \"did\", \"did\", \"did\", \"did\", \"did\", \"did\", \"displaced\", \"dispute\", \"district\", \"district\", \"domestic\", \"dozens\", \"dramatically\", \"drove\", \"eastern\", \"eastern\", \"economic\", \"economic\", \"economic\", \"economic\", \"economic\", \"economic\", \"economy\", \"economy\", \"economy\", \"economy\", \"effort\", \"effort\", \"effort\", \"effort\", \"election\", \"election\", \"election\", \"election\", \"election\", \"election\", \"elections\", \"elections\", \"elections\", \"elections\", \"elections\", \"enrichment\", \"enrichment\", \"especially\", \"even\", \"even\", \"ever\", \"ever\", \"executed\", \"expanded\", \"exploded\", \"explosion\", \"explosion\", \"explosion\", \"explosions\", \"extend\", \"extension\", \"extradition\", \"extradition\", \"extremists\", \"face\", \"face\", \"face\", \"facilities\", \"facilities\", \"facilities\", \"factions\", \"factions\", \"factory\", \"farm\", \"farm\", \"filed\", \"film\", \"final\", \"final\", \"first\", \"first\", \"first\", \"first\", \"first\", \"first\", \"first\", \"first\", \"first\", \"fled\", \"fled\", \"fled\", \"flu\", \"flu\", \"flu\", \"flu\", \"flu\", \"for\", \"for\", \"for\", \"for\", \"for\", \"for\", \"for\", \"for\", \"for\", \"for\", \"forces\", \"forces\", \"forces\", \"forces\", \"forces\", \"forces\", \"forces\", \"forces\", \"forces\", \"forcing\", \"former\", \"former\", \"former\", \"former\", \"former\", \"former\", \"former\", \"fought\", \"fourth\", \"fraud\", \"freed\", \"from\", \"from\", \"from\", \"from\", \"from\", \"from\", \"from\", \"from\", \"from\", \"from\", \"funding\", \"gathering\", \"get\", \"get\", \"get\", \"give\", \"give\", \"global\", \"global\", \"global\", \"global\", \"global\", \"government\", \"government\", \"government\", \"government\", \"government\", \"government\", \"government\", \"government\", \"government\", \"government\", \"growth\", \"growth\", \"growth\", \"had\", \"had\", \"had\", \"had\", \"had\", \"had\", \"had\", \"had\", \"had\", \"had\", \"halt\", \"has\", \"has\", \"has\", \"has\", \"has\", \"has\", \"has\", \"has\", \"has\", \"has\", \"have\", \"have\", \"have\", \"have\", \"have\", \"have\", \"have\", \"have\", \"have\", \"have\", \"he\", \"he\", \"he\", \"he\", \"he\", \"he\", \"he\", \"he\", \"hearing\", \"help\", \"help\", \"help\", \"help\", \"help\", \"help\", \"help\", \"her\", \"her\", \"her\", \"her\", \"her\", \"her\", \"her\", \"higher\", \"him\", \"him\", \"him\", \"him\", \"him\", \"him\", \"him\", \"him\", \"him\", \"his\", \"his\", \"his\", \"his\", \"his\", \"his\", \"his\", \"his\", \"his\", \"hit\", \"hit\", \"hit\", \"hit\", \"hostages\", \"housing\", \"housing\", \"housing\", \"however\", \"humanity\", \"hundreds\", \"hundreds\", \"husband\", \"identified\", \"identified\", \"identified\", \"if\", \"if\", \"if\", \"if\", \"if\", \"if\", \"images\", \"immediate\", \"immediately\", \"immediately\", \"immigrants\", \"in\", \"in\", \"in\", \"in\", \"in\", \"in\", \"in\", \"in\", \"in\", \"in\", \"includes\", \"includes\", \"index\", \"index\", \"industrial\", \"industrial\", \"initial\", \"injured\", \"injured\", \"injured\", \"injuries\", \"insists\", \"international\", \"international\", \"international\", \"international\", \"international\", \"international\", \"international\", \"invasion\", \"investigating\", \"involvement\", \"is\", \"is\", \"is\", \"is\", \"is\", \"is\", \"is\", \"is\", \"is\", \"is\", \"it\", \"it\", \"it\", \"it\", \"it\", \"it\", \"it\", \"it\", \"it\", \"it\", \"its\", \"its\", \"its\", \"its\", \"its\", \"its\", \"its\", \"its\", \"its\", \"its\", \"jets\", \"justice\", \"keep\", \"keep\", \"keep\", \"kidnapped\", \"kidnapped\", \"kidnapped\", \"kidnapped\", \"killed\", \"killed\", \"killed\", \"killed\", \"killed\", \"killed\", \"killed\", \"killed\", \"killed\", \"killing\", \"killing\", \"killing\", \"killing\", \"killing\", \"kilometers\", \"kilometers\", \"kilometers\", \"landed\", \"larger\", \"last\", \"last\", \"last\", \"last\", \"last\", \"last\", \"last\", \"last\", \"last\", \"lawmakers\", \"lawmakers\", \"leadership\", \"least\", \"least\", \"least\", \"least\", \"life\", \"limit\", \"links\", \"links\", \"links\", \"list\", \"located\", \"losses\", \"lost\", \"make\", \"make\", \"make\", \"make\", \"make\", \"make\", \"make\", \"market\", \"market\", \"markets\", \"markets\", \"matter\", \"medicine\", \"meet\", \"meet\", \"membership\", \"membership\", \"military\", \"military\", \"military\", \"military\", \"military\", \"military\", \"military\", \"military\", \"military\", \"militia\", \"militia\", \"million\", \"million\", \"million\", \"million\", \"million\", \"million\", \"minister\", \"minister\", \"minister\", \"minister\", \"minister\", \"ministers\", \"ministers\", \"money\", \"money\", \"monitoring\", \"monitors\", \"mosque\", \"must\", \"must\", \"must\", \"my\", \"n't\", \"nations\", \"nations\", \"nations\", \"near\", \"near\", \"near\", \"near\", \"near\", \"near\", \"neighbors\", \"new\", \"new\", \"new\", \"new\", \"new\", \"new\", \"new\", \"new\", \"new\", \"not\", \"not\", \"not\", \"not\", \"not\", \"not\", \"not\", \"not\", \"not\", \"nuclear\", \"nuclear\", \"nuclear\", \"nuclear\", \"occupation\", \"of\", \"of\", \"of\", \"of\", \"of\", \"of\", \"of\", \"of\", \"of\", \"of\", \"offer\", \"office\", \"office\", \"office\", \"office\", \"officers\", \"officers\", \"officers\", \"officials\", \"officials\", \"officials\", \"officials\", \"officials\", \"officials\", \"officials\", \"officials\", \"officials\", \"oil\", \"oil\", \"oil\", \"oil\", \"oil\", \"oil\", \"on\", \"on\", \"on\", \"on\", \"on\", \"on\", \"on\", \"on\", \"on\", \"on\", \"one\", \"one\", \"one\", \"one\", \"one\", \"one\", \"one\", \"one\", \"opened\", \"opened\", \"opened\", \"opened\", \"opposition\", \"opposition\", \"opposition\", \"opposition\", \"opposition\", \"opposition\", \"opposition\", \"opposition\", \"order\", \"order\", \"order\", \"order\", \"organizations\", \"organizations\", \"others\", \"others\", \"others\", \"others\", \"output\", \"partner\", \"partner\", \"parts\", \"parts\", \"parts\", \"parts\", \"peaceful\", \"peaceful\", \"peacekeeping\", \"peacekeeping\", \"people\", \"people\", \"people\", \"people\", \"people\", \"people\", \"people\", \"people\", \"people\", \"per\", \"per\", \"percent\", \"percent\", \"percent\", \"percent\", \"percent\", \"percent\", \"percent\", \"pirates\", \"pledged\", \"police\", \"police\", \"police\", \"police\", \"police\", \"police\", \"population\", \"prayers\", \"president\", \"president\", \"president\", \"president\", \"president\", \"president\", \"president\", \"prices\", \"prices\", \"prices\", \"prices\", \"prices\", \"prime\", \"prime\", \"problems\", \"problems\", \"problems\", \"products\", \"program\", \"program\", \"program\", \"program\", \"program\", \"program\", \"programs\", \"prosecutors\", \"province\", \"province\", \"province\", \"province\", \"province\", \"province\", \"push\", \"rains\", \"rate\", \"rate\", \"rates\", \"rebuild\", \"receiving\", \"recent\", \"recent\", \"recent\", \"recent\", \"recent\", \"recent\", \"referred\", \"reforms\", \"reforms\", \"reforms\", \"region\", \"region\", \"region\", \"region\", \"region\", \"region\", \"region\", \"relations\", \"relations\", \"relations\", \"relations\", \"relief\", \"relief\", \"remaining\", \"reports\", \"reports\", \"reports\", \"reports\", \"reports\", \"reports\", \"reports\", \"reports\", \"reports\", \"reserves\", \"resignation\", \"resignation\", \"resigned\", \"restive\", \"restrictions\", \"restrictions\", \"resume\", \"resume\", \"resume\", \"resumed\", \"review\", \"right\", \"right\", \"right\", \"riots\", \"rival\", \"roadside\", \"round\", \"round\", \"round\", \"ruling\", \"ruling\", \"ruling\", \"said\", \"said\", \"said\", \"said\", \"said\", \"said\", \"said\", \"said\", \"said\", \"said\", \"sales\", \"sanctions\", \"sanctions\", \"sanctions\", \"sanctions\", \"say\", \"say\", \"say\", \"say\", \"say\", \"say\", \"say\", \"say\", \"say\", \"say\", \"says\", \"says\", \"says\", \"says\", \"says\", \"says\", \"says\", \"says\", \"says\", \"says\", \"second\", \"second\", \"second\", \"second\", \"second\", \"second\", \"second\", \"second\", \"sector\", \"sector\", \"sectors\", \"see\", \"sentenced\", \"separatist\", \"seriously\", \"settlers\", \"sharply\", \"ships\", \"shortly\", \"should\", \"should\", \"should\", \"should\", \"should\", \"shown\", \"shown\", \"sign\", \"since\", \"since\", \"since\", \"since\", \"since\", \"since\", \"since\", \"since\", \"since\", \"since\", \"soldiers\", \"soldiers\", \"soldiers\", \"soldiers\", \"soldiers\", \"southeast\", \"southern\", \"southern\", \"southern\", \"southern\", \"southern\", \"southern\", \"southern\", \"southern\", \"sparked\", \"speaker\", \"spot\", \"stand\", \"stands\", \"stations\", \"stations\", \"stepped\", \"street\", \"strikes\", \"strikes\", \"strikes\", \"strikes\", \"suicide\", \"suicide\", \"suicide\", \"suspected\", \"suspected\", \"suspected\", \"suspected\", \"suspected\", \"suspected\", \"suspected\", \"takes\", \"talks\", \"talks\", \"talks\", \"talks\", \"talks\", \"talks\", \"talks\", \"tax\", \"technology\", \"temporary\", \"tens\", \"tensions\", \"that\", \"that\", \"that\", \"that\", \"that\", \"that\", \"that\", \"that\", \"that\", \"that\", \"the\", \"the\", \"the\", \"the\", \"the\", \"the\", \"the\", \"the\", \"the\", \"the\", \"their\", \"their\", \"their\", \"their\", \"their\", \"their\", \"their\", \"their\", \"their\", \"they\", \"they\", \"they\", \"they\", \"they\", \"they\", \"they\", \"they\", \"they\", \"they\", \"this\", \"this\", \"this\", \"this\", \"this\", \"this\", \"this\", \"this\", \"this\", \"thousands\", \"thousands\", \"threatened\", \"threatened\", \"times\", \"times\", \"to\", \"to\", \"to\", \"to\", \"to\", \"to\", \"to\", \"to\", \"to\", \"to\", \"tourism\", \"trade\", \"trade\", \"trade\", \"trade\", \"trade\", \"trade\", \"train\", \"treaty\", \"troops\", \"troops\", \"troops\", \"troops\", \"troops\", \"troops\", \"troops\", \"troops\", \"troops\", \"trying\", \"trying\", \"trying\", \"trying\", \"trying\", \"two\", \"two\", \"two\", \"two\", \"two\", \"two\", \"two\", \"two\", \"two\", \"two\", \"two-day\", \"unemployment\", \"unemployment\", \"unemployment\", \"unity\", \"unless\", \"unrest\", \"upon\", \"uranium\", \"uranium\", \"vehicle\", \"vehicle\", \"vehicles\", \"vice\", \"village\", \"villagers\", \"voting\", \"war\", \"war\", \"war\", \"war\", \"war\", \"war\", \"war\", \"was\", \"was\", \"was\", \"was\", \"was\", \"was\", \"was\", \"was\", \"was\", \"was\", \"week\", \"week\", \"week\", \"week\", \"week\", \"week\", \"week\", \"week\", \"week\", \"weekly\", \"were\", \"were\", \"were\", \"were\", \"were\", \"were\", \"were\", \"were\", \"were\", \"were\", \"which\", \"which\", \"which\", \"which\", \"which\", \"which\", \"which\", \"which\", \"who\", \"who\", \"who\", \"who\", \"who\", \"who\", \"who\", \"who\", \"who\", \"whole\", \"widely\", \"widespread\", \"will\", \"will\", \"will\", \"will\", \"will\", \"will\", \"will\", \"will\", \"will\", \"will\", \"with\", \"with\", \"with\", \"with\", \"with\", \"with\", \"with\", \"with\", \"with\", \"with\", \"withdrawal\", \"withdrawal\", \"withdrawal\", \"withdrawal\", \"women\", \"women\", \"won\", \"won\", \"would\", \"would\", \"would\", \"would\", \"would\", \"would\", \"would\", \"would\", \"would\", \"wounded\", \"wounded\", \"wounding\", \"wrote\", \"year\", \"year\", \"year\", \"year\", \"year\", \"year\", \"year\", \"year\", \"year\"]}, \"R\": 30, \"lambda.step\": 0.01, \"plot.opts\": {\"xlab\": \"PC1\", \"ylab\": \"PC2\"}, \"topic.order\": [2, 5, 9, 7, 8, 6, 4, 3, 1, 10]};\n",
              "\n",
              "function LDAvis_load_lib(url, callback){\n",
              "  var s = document.createElement('script');\n",
              "  s.src = url;\n",
              "  s.async = true;\n",
              "  s.onreadystatechange = s.onload = callback;\n",
              "  s.onerror = function(){console.warn(\"failed to load library \" + url);};\n",
              "  document.getElementsByTagName(\"head\")[0].appendChild(s);\n",
              "}\n",
              "\n",
              "if(typeof(LDAvis) !== \"undefined\"){\n",
              "   // already loaded: just create the visualization\n",
              "   !function(LDAvis){\n",
              "       new LDAvis(\"#\" + \"ldavis_el3011405406517154084572478255\", ldavis_el3011405406517154084572478255_data);\n",
              "   }(LDAvis);\n",
              "}else if(typeof define === \"function\" && define.amd){\n",
              "   // require.js is available: use it to load d3/LDAvis\n",
              "   require.config({paths: {d3: \"https://d3js.org/d3.v5\"}});\n",
              "   require([\"d3\"], function(d3){\n",
              "      window.d3 = d3;\n",
              "      LDAvis_load_lib(\"https://cdn.jsdelivr.net/gh/bmabey/pyLDAvis@3.3.1/pyLDAvis/js/ldavis.v3.0.0.js\", function(){\n",
              "        new LDAvis(\"#\" + \"ldavis_el3011405406517154084572478255\", ldavis_el3011405406517154084572478255_data);\n",
              "      });\n",
              "    });\n",
              "}else{\n",
              "    // require.js not available: dynamically load d3 & LDAvis\n",
              "    LDAvis_load_lib(\"https://d3js.org/d3.v5.js\", function(){\n",
              "         LDAvis_load_lib(\"https://cdn.jsdelivr.net/gh/bmabey/pyLDAvis@3.3.1/pyLDAvis/js/ldavis.v3.0.0.js\", function(){\n",
              "                 new LDAvis(\"#\" + \"ldavis_el3011405406517154084572478255\", ldavis_el3011405406517154084572478255_data);\n",
              "            })\n",
              "         });\n",
              "}\n",
              "</script>"
            ],
            "text/plain": [
              "<IPython.core.display.HTML object>"
            ]
          },
          "metadata": {},
          "execution_count": 20
        }
      ]
    },
    {
      "cell_type": "code",
      "metadata": {
        "colab": {
          "base_uri": "https://localhost:8080/",
          "height": 363
        },
        "id": "wVwOrgGW2NNq",
        "outputId": "197f85ff-6d19-4c7a-f81f-5152784b909e"
      },
      "source": [
        "def format_topics_sentences(ldamodel=lda, corpus=common_corpus, texts=sequences_):\n",
        "    # Init output\n",
        "    sent_topics_df = pd.DataFrame()\n",
        "\n",
        "    # Get main topic in each document\n",
        "    for i, row in enumerate(ldamodel[corpus]):\n",
        "        row = sorted(row, key=lambda x: (x[1]), reverse=True)\n",
        "        # Get the Dominant topic, Perc Contribution and Keywords for each document\n",
        "        for j, (topic_num, prop_topic) in enumerate(row):\n",
        "            if j == 0:  # => dominant topic\n",
        "                wp = ldamodel.show_topic(topic_num)\n",
        "                topic_keywords = \", \".join([word for word, prop in wp])\n",
        "                sent_topics_df = sent_topics_df.append(pd.Series([int(topic_num), round(prop_topic,4), topic_keywords]), ignore_index=True)\n",
        "            else:\n",
        "                break\n",
        "    sent_topics_df.columns = ['Dominant_Topic', 'Perc_Contribution', 'Topic_Keywords']\n",
        "\n",
        "    # Add original text to the end of the output\n",
        "    contents = pd.Series(texts)\n",
        "    sent_topics_df = pd.concat([sent_topics_df, contents], axis=1)\n",
        "    return(sent_topics_df)\n",
        "\n",
        "\n",
        "df_topic_sents_keywords = format_topics_sentences(ldamodel=lda, corpus=common_corpus, texts=sequences_)\n",
        "\n",
        "# Format\n",
        "df_dominant_topic = df_topic_sents_keywords.reset_index()\n",
        "df_dominant_topic.columns = ['Document_No', 'Dominant_Topic', 'Topic_Perc_Contrib', 'Keywords', 'Text']\n",
        "\n",
        "# Show\n",
        "df_dominant_topic.head(10)"
      ],
      "execution_count": null,
      "outputs": [
        {
          "output_type": "execute_result",
          "data": {
            "text/html": [
              "<div>\n",
              "<style scoped>\n",
              "    .dataframe tbody tr th:only-of-type {\n",
              "        vertical-align: middle;\n",
              "    }\n",
              "\n",
              "    .dataframe tbody tr th {\n",
              "        vertical-align: top;\n",
              "    }\n",
              "\n",
              "    .dataframe thead th {\n",
              "        text-align: right;\n",
              "    }\n",
              "</style>\n",
              "<table border=\"1\" class=\"dataframe\">\n",
              "  <thead>\n",
              "    <tr style=\"text-align: right;\">\n",
              "      <th></th>\n",
              "      <th>Document_No</th>\n",
              "      <th>Dominant_Topic</th>\n",
              "      <th>Topic_Perc_Contrib</th>\n",
              "      <th>Keywords</th>\n",
              "      <th>Text</th>\n",
              "    </tr>\n",
              "  </thead>\n",
              "  <tbody>\n",
              "    <tr>\n",
              "      <th>0</th>\n",
              "      <td>0</td>\n",
              "      <td>1.0</td>\n",
              "      <td>0.5398</td>\n",
              "      <td>16, 13, 0, 11, 85, 5, 47, 18, 67, 10</td>\n",
              "      <td>Thousands of demonstrators have marched throug...</td>\n",
              "    </tr>\n",
              "    <tr>\n",
              "      <th>1</th>\n",
              "      <td>1</td>\n",
              "      <td>1.0</td>\n",
              "      <td>0.5773</td>\n",
              "      <td>16, 13, 0, 11, 85, 5, 47, 18, 67, 10</td>\n",
              "      <td>Families of soldiers killed in the conflict jo...</td>\n",
              "    </tr>\n",
              "    <tr>\n",
              "      <th>2</th>\n",
              "      <td>2</td>\n",
              "      <td>1.0</td>\n",
              "      <td>0.9400</td>\n",
              "      <td>16, 13, 0, 11, 85, 5, 47, 18, 67, 10</td>\n",
              "      <td>They marched from the Houses of Parliament to ...</td>\n",
              "    </tr>\n",
              "    <tr>\n",
              "      <th>3</th>\n",
              "      <td>3</td>\n",
              "      <td>1.0</td>\n",
              "      <td>0.5654</td>\n",
              "      <td>16, 13, 0, 11, 85, 5, 47, 18, 67, 10</td>\n",
              "      <td>Police put the number of marchers at 10,000 wh...</td>\n",
              "    </tr>\n",
              "    <tr>\n",
              "      <th>4</th>\n",
              "      <td>4</td>\n",
              "      <td>1.0</td>\n",
              "      <td>0.5958</td>\n",
              "      <td>16, 13, 0, 11, 85, 5, 47, 18, 67, 10</td>\n",
              "      <td>The protest comes on the eve of the annual con...</td>\n",
              "    </tr>\n",
              "    <tr>\n",
              "      <th>5</th>\n",
              "      <td>5</td>\n",
              "      <td>1.0</td>\n",
              "      <td>0.7097</td>\n",
              "      <td>16, 13, 0, 11, 85, 5, 47, 18, 67, 10</td>\n",
              "      <td>The party is divided over Britain 's participa...</td>\n",
              "    </tr>\n",
              "    <tr>\n",
              "      <th>6</th>\n",
              "      <td>6</td>\n",
              "      <td>6.0</td>\n",
              "      <td>0.5876</td>\n",
              "      <td>0, 11, 16, 47, 85, 13, 35, 5, 134, 199</td>\n",
              "      <td>The London march came ahead of anti-war protes...</td>\n",
              "    </tr>\n",
              "    <tr>\n",
              "      <th>7</th>\n",
              "      <td>7</td>\n",
              "      <td>8.0</td>\n",
              "      <td>0.5327</td>\n",
              "      <td>16, 0, 13, 18, 47, 85, 61, 11, 221, 159</td>\n",
              "      <td>The International Atomic Energy Agency is to h...</td>\n",
              "    </tr>\n",
              "    <tr>\n",
              "      <th>8</th>\n",
              "      <td>8</td>\n",
              "      <td>1.0</td>\n",
              "      <td>0.4317</td>\n",
              "      <td>16, 13, 0, 11, 85, 5, 47, 18, 67, 10</td>\n",
              "      <td>Iran this week restarted parts of the conversi...</td>\n",
              "    </tr>\n",
              "    <tr>\n",
              "      <th>9</th>\n",
              "      <td>9</td>\n",
              "      <td>4.0</td>\n",
              "      <td>0.6311</td>\n",
              "      <td>16, 85, 0, 18, 5, 13, 11, 47, 67, 221</td>\n",
              "      <td>Iranian officials say they expect to get acces...</td>\n",
              "    </tr>\n",
              "  </tbody>\n",
              "</table>\n",
              "</div>"
            ],
            "text/plain": [
              "   Document_No  ...                                               Text\n",
              "0            0  ...  Thousands of demonstrators have marched throug...\n",
              "1            1  ...  Families of soldiers killed in the conflict jo...\n",
              "2            2  ...  They marched from the Houses of Parliament to ...\n",
              "3            3  ...  Police put the number of marchers at 10,000 wh...\n",
              "4            4  ...  The protest comes on the eve of the annual con...\n",
              "5            5  ...  The party is divided over Britain 's participa...\n",
              "6            6  ...  The London march came ahead of anti-war protes...\n",
              "7            7  ...  The International Atomic Energy Agency is to h...\n",
              "8            8  ...  Iran this week restarted parts of the conversi...\n",
              "9            9  ...  Iranian officials say they expect to get acces...\n",
              "\n",
              "[10 rows x 5 columns]"
            ]
          },
          "metadata": {},
          "execution_count": 21
        }
      ]
    },
    {
      "cell_type": "code",
      "metadata": {
        "id": "2c4ctzGC7Tka",
        "colab": {
          "base_uri": "https://localhost:8080/",
          "height": 363
        },
        "outputId": "61421520-55b4-49c6-ab5d-34edc0147bab"
      },
      "source": [
        "x_common_dictionary = Dictionary(x) #подаем список списков слов, формируем слова\n",
        "x_common_corpus = [common_dictionary.doc2bow(text) for text in x] #превращаем предложение в вектор bow\n",
        "x_df_topic_sents_keywords = format_topics_sentences(ldamodel=lda, corpus=x_common_corpus, texts=x_sequences)\n",
        "\n",
        "# Format\n",
        "x_df_dominant_topic = x_df_topic_sents_keywords.reset_index()\n",
        "x_df_dominant_topic.columns = ['Document_No', 'Dominant_Topic', 'Topic_Perc_Contrib', 'Keywords', 'Text']\n",
        "\n",
        "# Show\n",
        "x_df_dominant_topic.head(10)"
      ],
      "execution_count": null,
      "outputs": [
        {
          "output_type": "execute_result",
          "data": {
            "text/html": [
              "<div>\n",
              "<style scoped>\n",
              "    .dataframe tbody tr th:only-of-type {\n",
              "        vertical-align: middle;\n",
              "    }\n",
              "\n",
              "    .dataframe tbody tr th {\n",
              "        vertical-align: top;\n",
              "    }\n",
              "\n",
              "    .dataframe thead th {\n",
              "        text-align: right;\n",
              "    }\n",
              "</style>\n",
              "<table border=\"1\" class=\"dataframe\">\n",
              "  <thead>\n",
              "    <tr style=\"text-align: right;\">\n",
              "      <th></th>\n",
              "      <th>Document_No</th>\n",
              "      <th>Dominant_Topic</th>\n",
              "      <th>Topic_Perc_Contrib</th>\n",
              "      <th>Keywords</th>\n",
              "      <th>Text</th>\n",
              "    </tr>\n",
              "  </thead>\n",
              "  <tbody>\n",
              "    <tr>\n",
              "      <th>0</th>\n",
              "      <td>0</td>\n",
              "      <td>1.0</td>\n",
              "      <td>0.9250</td>\n",
              "      <td>16, 13, 0, 11, 85, 5, 47, 18, 67, 10</td>\n",
              "      <td>China has reported two other bird flu deaths t...</td>\n",
              "    </tr>\n",
              "    <tr>\n",
              "      <th>1</th>\n",
              "      <td>1</td>\n",
              "      <td>8.0</td>\n",
              "      <td>0.4390</td>\n",
              "      <td>16, 0, 13, 18, 47, 85, 61, 11, 221, 159</td>\n",
              "      <td>Officials said Sunday that the group named Kin...</td>\n",
              "    </tr>\n",
              "    <tr>\n",
              "      <th>2</th>\n",
              "      <td>2</td>\n",
              "      <td>4.0</td>\n",
              "      <td>0.4385</td>\n",
              "      <td>16, 85, 0, 18, 5, 13, 11, 47, 67, 221</td>\n",
              "      <td>Morocco 's long-term challenges include improv...</td>\n",
              "    </tr>\n",
              "    <tr>\n",
              "      <th>3</th>\n",
              "      <td>3</td>\n",
              "      <td>6.0</td>\n",
              "      <td>0.7216</td>\n",
              "      <td>0, 11, 16, 47, 85, 13, 35, 5, 134, 199</td>\n",
              "      <td>In 2004 , about 170 people were killed .</td>\n",
              "    </tr>\n",
              "    <tr>\n",
              "      <th>4</th>\n",
              "      <td>4</td>\n",
              "      <td>3.0</td>\n",
              "      <td>0.3288</td>\n",
              "      <td>0, 18, 16, 85, 5, 67, 47, 221, 13, 72</td>\n",
              "      <td>Sales , however , were little changed at 2.46 ...</td>\n",
              "    </tr>\n",
              "    <tr>\n",
              "      <th>5</th>\n",
              "      <td>5</td>\n",
              "      <td>7.0</td>\n",
              "      <td>0.5942</td>\n",
              "      <td>0, 18, 16, 182, 15, 278, 47, 81, 574, 61</td>\n",
              "      <td>An Israeli newspaper reports that Prime Minist...</td>\n",
              "    </tr>\n",
              "    <tr>\n",
              "      <th>6</th>\n",
              "      <td>6</td>\n",
              "      <td>4.0</td>\n",
              "      <td>0.4845</td>\n",
              "      <td>16, 85, 0, 18, 5, 13, 11, 47, 67, 221</td>\n",
              "      <td>Under the regulations , foreign news and music...</td>\n",
              "    </tr>\n",
              "    <tr>\n",
              "      <th>7</th>\n",
              "      <td>7</td>\n",
              "      <td>8.0</td>\n",
              "      <td>0.5951</td>\n",
              "      <td>16, 0, 13, 18, 47, 85, 61, 11, 221, 159</td>\n",
              "      <td>Zambia 's deputy leader says President Levy Mw...</td>\n",
              "    </tr>\n",
              "    <tr>\n",
              "      <th>8</th>\n",
              "      <td>8</td>\n",
              "      <td>1.0</td>\n",
              "      <td>0.6586</td>\n",
              "      <td>16, 13, 0, 11, 85, 5, 47, 18, 67, 10</td>\n",
              "      <td>The probe of the area where two pieces of ocea...</td>\n",
              "    </tr>\n",
              "    <tr>\n",
              "      <th>9</th>\n",
              "      <td>9</td>\n",
              "      <td>6.0</td>\n",
              "      <td>0.9098</td>\n",
              "      <td>0, 11, 16, 47, 85, 13, 35, 5, 134, 199</td>\n",
              "      <td>Two car bomb blasts near the Shi'ite shrine ci...</td>\n",
              "    </tr>\n",
              "  </tbody>\n",
              "</table>\n",
              "</div>"
            ],
            "text/plain": [
              "   Document_No  ...                                               Text\n",
              "0            0  ...  China has reported two other bird flu deaths t...\n",
              "1            1  ...  Officials said Sunday that the group named Kin...\n",
              "2            2  ...  Morocco 's long-term challenges include improv...\n",
              "3            3  ...           In 2004 , about 170 people were killed .\n",
              "4            4  ...  Sales , however , were little changed at 2.46 ...\n",
              "5            5  ...  An Israeli newspaper reports that Prime Minist...\n",
              "6            6  ...  Under the regulations , foreign news and music...\n",
              "7            7  ...  Zambia 's deputy leader says President Levy Mw...\n",
              "8            8  ...  The probe of the area where two pieces of ocea...\n",
              "9            9  ...  Two car bomb blasts near the Shi'ite shrine ci...\n",
              "\n",
              "[10 rows x 5 columns]"
            ]
          },
          "metadata": {},
          "execution_count": 22
        }
      ]
    },
    {
      "cell_type": "markdown",
      "metadata": {
        "id": "FrXW6xbFlzja"
      },
      "source": [
        "update LDA model"
      ]
    },
    {
      "cell_type": "code",
      "metadata": {
        "colab": {
          "base_uri": "https://localhost:8080/"
        },
        "id": "nCf7KyZBhtmW",
        "outputId": "81a35dd6-b268-4d80-b38c-ba48fab23143"
      },
      "source": [
        "lda.update(x_common_corpus)"
      ],
      "execution_count": null,
      "outputs": [
        {
          "output_type": "stream",
          "name": "stderr",
          "text": [
            "/usr/local/lib/python3.7/dist-packages/gensim/models/ldamodel.py:1077: DeprecationWarning: Calling np.sum(generator) is deprecated, and in the future will give a different result. Use np.sum(np.fromiter(generator)) or the python sum builtin instead.\n",
            "  score += np.sum(cnt * logsumexp(Elogthetad + Elogbeta[:, int(id)]) for id, cnt in doc)\n",
            "/usr/local/lib/python3.7/dist-packages/gensim/models/ldamodel.py:1077: DeprecationWarning: Calling np.sum(generator) is deprecated, and in the future will give a different result. Use np.sum(np.fromiter(generator)) or the python sum builtin instead.\n",
            "  score += np.sum(cnt * logsumexp(Elogthetad + Elogbeta[:, int(id)]) for id, cnt in doc)\n",
            "/usr/local/lib/python3.7/dist-packages/gensim/models/ldamodel.py:1077: DeprecationWarning: Calling np.sum(generator) is deprecated, and in the future will give a different result. Use np.sum(np.fromiter(generator)) or the python sum builtin instead.\n",
            "  score += np.sum(cnt * logsumexp(Elogthetad + Elogbeta[:, int(id)]) for id, cnt in doc)\n",
            "/usr/local/lib/python3.7/dist-packages/gensim/models/ldamodel.py:1077: DeprecationWarning: Calling np.sum(generator) is deprecated, and in the future will give a different result. Use np.sum(np.fromiter(generator)) or the python sum builtin instead.\n",
            "  score += np.sum(cnt * logsumexp(Elogthetad + Elogbeta[:, int(id)]) for id, cnt in doc)\n",
            "/usr/local/lib/python3.7/dist-packages/gensim/models/ldamodel.py:1077: DeprecationWarning: Calling np.sum(generator) is deprecated, and in the future will give a different result. Use np.sum(np.fromiter(generator)) or the python sum builtin instead.\n",
            "  score += np.sum(cnt * logsumexp(Elogthetad + Elogbeta[:, int(id)]) for id, cnt in doc)\n",
            "/usr/local/lib/python3.7/dist-packages/gensim/models/ldamodel.py:1077: DeprecationWarning: Calling np.sum(generator) is deprecated, and in the future will give a different result. Use np.sum(np.fromiter(generator)) or the python sum builtin instead.\n",
            "  score += np.sum(cnt * logsumexp(Elogthetad + Elogbeta[:, int(id)]) for id, cnt in doc)\n",
            "/usr/local/lib/python3.7/dist-packages/gensim/models/ldamodel.py:1077: DeprecationWarning: Calling np.sum(generator) is deprecated, and in the future will give a different result. Use np.sum(np.fromiter(generator)) or the python sum builtin instead.\n",
            "  score += np.sum(cnt * logsumexp(Elogthetad + Elogbeta[:, int(id)]) for id, cnt in doc)\n",
            "/usr/local/lib/python3.7/dist-packages/gensim/models/ldamodel.py:1077: DeprecationWarning: Calling np.sum(generator) is deprecated, and in the future will give a different result. Use np.sum(np.fromiter(generator)) or the python sum builtin instead.\n",
            "  score += np.sum(cnt * logsumexp(Elogthetad + Elogbeta[:, int(id)]) for id, cnt in doc)\n",
            "/usr/local/lib/python3.7/dist-packages/gensim/models/ldamodel.py:1077: DeprecationWarning: Calling np.sum(generator) is deprecated, and in the future will give a different result. Use np.sum(np.fromiter(generator)) or the python sum builtin instead.\n",
            "  score += np.sum(cnt * logsumexp(Elogthetad + Elogbeta[:, int(id)]) for id, cnt in doc)\n",
            "/usr/local/lib/python3.7/dist-packages/gensim/models/ldamodel.py:1077: DeprecationWarning: Calling np.sum(generator) is deprecated, and in the future will give a different result. Use np.sum(np.fromiter(generator)) or the python sum builtin instead.\n",
            "  score += np.sum(cnt * logsumexp(Elogthetad + Elogbeta[:, int(id)]) for id, cnt in doc)\n"
          ]
        }
      ]
    },
    {
      "cell_type": "code",
      "metadata": {
        "colab": {
          "base_uri": "https://localhost:8080/",
          "height": 363
        },
        "id": "HNppXrp0jQUx",
        "outputId": "204a7be8-ebaa-4520-817c-96af54c54645"
      },
      "source": [
        "x_df_topic_sents_keywords = format_topics_sentences(ldamodel=lda, corpus=x_common_corpus, texts=x_sequences)\n",
        "\n",
        "# Format\n",
        "x_df_dominant_topic = x_df_topic_sents_keywords.reset_index()\n",
        "x_df_dominant_topic.columns = ['Document_No', 'Dominant_Topic', 'Topic_Perc_Contrib', 'Keywords', 'Text']\n",
        "\n",
        "# Show\n",
        "x_df_dominant_topic.head(10)"
      ],
      "execution_count": null,
      "outputs": [
        {
          "output_type": "execute_result",
          "data": {
            "text/html": [
              "<div>\n",
              "<style scoped>\n",
              "    .dataframe tbody tr th:only-of-type {\n",
              "        vertical-align: middle;\n",
              "    }\n",
              "\n",
              "    .dataframe tbody tr th {\n",
              "        vertical-align: top;\n",
              "    }\n",
              "\n",
              "    .dataframe thead th {\n",
              "        text-align: right;\n",
              "    }\n",
              "</style>\n",
              "<table border=\"1\" class=\"dataframe\">\n",
              "  <thead>\n",
              "    <tr style=\"text-align: right;\">\n",
              "      <th></th>\n",
              "      <th>Document_No</th>\n",
              "      <th>Dominant_Topic</th>\n",
              "      <th>Topic_Perc_Contrib</th>\n",
              "      <th>Keywords</th>\n",
              "      <th>Text</th>\n",
              "    </tr>\n",
              "  </thead>\n",
              "  <tbody>\n",
              "    <tr>\n",
              "      <th>0</th>\n",
              "      <td>0</td>\n",
              "      <td>1.0</td>\n",
              "      <td>0.9250</td>\n",
              "      <td>16, 13, 0, 11, 85, 5, 47, 18, 67, 10</td>\n",
              "      <td>China has reported two other bird flu deaths t...</td>\n",
              "    </tr>\n",
              "    <tr>\n",
              "      <th>1</th>\n",
              "      <td>1</td>\n",
              "      <td>8.0</td>\n",
              "      <td>0.5985</td>\n",
              "      <td>16, 0, 13, 18, 61, 47, 11, 85, 159, 5</td>\n",
              "      <td>Officials said Sunday that the group named Kin...</td>\n",
              "    </tr>\n",
              "    <tr>\n",
              "      <th>2</th>\n",
              "      <td>2</td>\n",
              "      <td>4.0</td>\n",
              "      <td>0.4516</td>\n",
              "      <td>16, 85, 0, 18, 5, 11, 13, 47, 221, 67</td>\n",
              "      <td>Morocco 's long-term challenges include improv...</td>\n",
              "    </tr>\n",
              "    <tr>\n",
              "      <th>3</th>\n",
              "      <td>3</td>\n",
              "      <td>6.0</td>\n",
              "      <td>0.7230</td>\n",
              "      <td>0, 11, 16, 47, 85, 35, 13, 5, 199, 134</td>\n",
              "      <td>In 2004 , about 170 people were killed .</td>\n",
              "    </tr>\n",
              "    <tr>\n",
              "      <th>4</th>\n",
              "      <td>4</td>\n",
              "      <td>3.0</td>\n",
              "      <td>0.3889</td>\n",
              "      <td>0, 18, 16, 85, 5, 67, 47, 221, 13, 199</td>\n",
              "      <td>Sales , however , were little changed at 2.46 ...</td>\n",
              "    </tr>\n",
              "    <tr>\n",
              "      <th>5</th>\n",
              "      <td>5</td>\n",
              "      <td>7.0</td>\n",
              "      <td>0.6316</td>\n",
              "      <td>0, 18, 16, 182, 15, 278, 47, 81, 574, 102</td>\n",
              "      <td>An Israeli newspaper reports that Prime Minist...</td>\n",
              "    </tr>\n",
              "    <tr>\n",
              "      <th>6</th>\n",
              "      <td>6</td>\n",
              "      <td>4.0</td>\n",
              "      <td>0.5303</td>\n",
              "      <td>16, 85, 0, 18, 5, 11, 13, 47, 221, 67</td>\n",
              "      <td>Under the regulations , foreign news and music...</td>\n",
              "    </tr>\n",
              "    <tr>\n",
              "      <th>7</th>\n",
              "      <td>7</td>\n",
              "      <td>8.0</td>\n",
              "      <td>0.6026</td>\n",
              "      <td>16, 0, 13, 18, 61, 47, 11, 85, 159, 5</td>\n",
              "      <td>Zambia 's deputy leader says President Levy Mw...</td>\n",
              "    </tr>\n",
              "    <tr>\n",
              "      <th>8</th>\n",
              "      <td>8</td>\n",
              "      <td>1.0</td>\n",
              "      <td>0.7048</td>\n",
              "      <td>16, 13, 0, 11, 85, 5, 47, 18, 67, 10</td>\n",
              "      <td>The probe of the area where two pieces of ocea...</td>\n",
              "    </tr>\n",
              "    <tr>\n",
              "      <th>9</th>\n",
              "      <td>9</td>\n",
              "      <td>6.0</td>\n",
              "      <td>0.9144</td>\n",
              "      <td>0, 11, 16, 47, 85, 35, 13, 5, 199, 134</td>\n",
              "      <td>Two car bomb blasts near the Shi'ite shrine ci...</td>\n",
              "    </tr>\n",
              "  </tbody>\n",
              "</table>\n",
              "</div>"
            ],
            "text/plain": [
              "   Document_No  ...                                               Text\n",
              "0            0  ...  China has reported two other bird flu deaths t...\n",
              "1            1  ...  Officials said Sunday that the group named Kin...\n",
              "2            2  ...  Morocco 's long-term challenges include improv...\n",
              "3            3  ...           In 2004 , about 170 people were killed .\n",
              "4            4  ...  Sales , however , were little changed at 2.46 ...\n",
              "5            5  ...  An Israeli newspaper reports that Prime Minist...\n",
              "6            6  ...  Under the regulations , foreign news and music...\n",
              "7            7  ...  Zambia 's deputy leader says President Levy Mw...\n",
              "8            8  ...  The probe of the area where two pieces of ocea...\n",
              "9            9  ...  Two car bomb blasts near the Shi'ite shrine ci...\n",
              "\n",
              "[10 rows x 5 columns]"
            ]
          },
          "metadata": {},
          "execution_count": 26
        }
      ]
    },
    {
      "cell_type": "markdown",
      "metadata": {
        "id": "T2uasTWjl5De"
      },
      "source": [
        "вероятности принадлежности топиков к определенной теме увеличились.\n",
        "\n"
      ]
    },
    {
      "cell_type": "code",
      "metadata": {
        "id": "Gsp_UUGEnWxy"
      },
      "source": [
        ""
      ],
      "execution_count": null,
      "outputs": []
    }
  ]
}